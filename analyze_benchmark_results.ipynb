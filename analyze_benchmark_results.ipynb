{
 "cells": [
  {
   "cell_type": "code",
   "execution_count": 13,
   "metadata": {},
   "outputs": [
    {
     "name": "stdout",
     "output_type": "stream",
     "text": [
      "Requirement already satisfied: plotly in ./benchmark_env/lib/python3.11/site-packages (5.20.0)\n",
      "Requirement already satisfied: tenacity>=6.2.0 in ./benchmark_env/lib/python3.11/site-packages (from plotly) (8.2.3)\n",
      "Requirement already satisfied: packaging in ./benchmark_env/lib/python3.11/site-packages (from plotly) (24.0)\n",
      "\n",
      "\u001b[1m[\u001b[0m\u001b[34;49mnotice\u001b[0m\u001b[1;39;49m]\u001b[0m\u001b[39;49m A new release of pip is available: \u001b[0m\u001b[31;49m23.2.1\u001b[0m\u001b[39;49m -> \u001b[0m\u001b[32;49m24.0\u001b[0m\n",
      "\u001b[1m[\u001b[0m\u001b[34;49mnotice\u001b[0m\u001b[1;39;49m]\u001b[0m\u001b[39;49m To update, run: \u001b[0m\u001b[32;49mpip install --upgrade pip\u001b[0m\n",
      "Collecting nbformat\n",
      "  Obtaining dependency information for nbformat from https://files.pythonhosted.org/packages/a9/82/0340caa499416c78e5d8f5f05947ae4bc3cba53c9f038ab6e9ed964e22f1/nbformat-5.10.4-py3-none-any.whl.metadata\n",
      "  Downloading nbformat-5.10.4-py3-none-any.whl.metadata (3.6 kB)\n",
      "Collecting fastjsonschema>=2.15 (from nbformat)\n",
      "  Obtaining dependency information for fastjsonschema>=2.15 from https://files.pythonhosted.org/packages/9c/b9/79691036d4a8f9857e74d1728b23f34f583b81350a27492edda58d5604e1/fastjsonschema-2.19.1-py3-none-any.whl.metadata\n",
      "  Downloading fastjsonschema-2.19.1-py3-none-any.whl.metadata (2.1 kB)\n",
      "Collecting jsonschema>=2.6 (from nbformat)\n",
      "  Obtaining dependency information for jsonschema>=2.6 from https://files.pythonhosted.org/packages/39/9d/b035d024c62c85f2e2d4806a59ca7b8520307f34e0932fbc8cc75fe7b2d9/jsonschema-4.21.1-py3-none-any.whl.metadata\n",
      "  Downloading jsonschema-4.21.1-py3-none-any.whl.metadata (7.8 kB)\n",
      "Requirement already satisfied: jupyter-core!=5.0.*,>=4.12 in ./benchmark_env/lib/python3.11/site-packages (from nbformat) (5.7.2)\n",
      "Requirement already satisfied: traitlets>=5.1 in ./benchmark_env/lib/python3.11/site-packages (from nbformat) (5.14.2)\n",
      "Collecting attrs>=22.2.0 (from jsonschema>=2.6->nbformat)\n",
      "  Obtaining dependency information for attrs>=22.2.0 from https://files.pythonhosted.org/packages/e0/44/827b2a91a5816512fcaf3cc4ebc465ccd5d598c45cefa6703fcf4a79018f/attrs-23.2.0-py3-none-any.whl.metadata\n",
      "  Downloading attrs-23.2.0-py3-none-any.whl.metadata (9.5 kB)\n",
      "Collecting jsonschema-specifications>=2023.03.6 (from jsonschema>=2.6->nbformat)\n",
      "  Obtaining dependency information for jsonschema-specifications>=2023.03.6 from https://files.pythonhosted.org/packages/ee/07/44bd408781594c4d0a027666ef27fab1e441b109dc3b76b4f836f8fd04fe/jsonschema_specifications-2023.12.1-py3-none-any.whl.metadata\n",
      "  Downloading jsonschema_specifications-2023.12.1-py3-none-any.whl.metadata (3.0 kB)\n",
      "Collecting referencing>=0.28.4 (from jsonschema>=2.6->nbformat)\n",
      "  Obtaining dependency information for referencing>=0.28.4 from https://files.pythonhosted.org/packages/42/8e/ae1de7b12223986e949bdb886c004de7c304b6fa94de5b87c926c1099656/referencing-0.34.0-py3-none-any.whl.metadata\n",
      "  Downloading referencing-0.34.0-py3-none-any.whl.metadata (2.8 kB)\n",
      "Collecting rpds-py>=0.7.1 (from jsonschema>=2.6->nbformat)\n",
      "  Obtaining dependency information for rpds-py>=0.7.1 from https://files.pythonhosted.org/packages/c5/5e/0e9d41935934ff839fde917cab1449de02ccf9d84c02521949add9705844/rpds_py-0.18.0-cp311-cp311-macosx_11_0_arm64.whl.metadata\n",
      "  Downloading rpds_py-0.18.0-cp311-cp311-macosx_11_0_arm64.whl.metadata (4.1 kB)\n",
      "Requirement already satisfied: platformdirs>=2.5 in ./benchmark_env/lib/python3.11/site-packages (from jupyter-core!=5.0.*,>=4.12->nbformat) (4.2.0)\n",
      "Downloading nbformat-5.10.4-py3-none-any.whl (78 kB)\n",
      "\u001b[2K   \u001b[90m━━━━━━━━━━━━━━━━━━━━━━━━━━━━━━━━━━━━━━━━\u001b[0m \u001b[32m78.5/78.5 kB\u001b[0m \u001b[31m1.8 MB/s\u001b[0m eta \u001b[36m0:00:00\u001b[0ma \u001b[36m0:00:01\u001b[0m\n",
      "\u001b[?25hDownloading fastjsonschema-2.19.1-py3-none-any.whl (23 kB)\n",
      "Downloading jsonschema-4.21.1-py3-none-any.whl (85 kB)\n",
      "\u001b[2K   \u001b[90m━━━━━━━━━━━━━━━━━━━━━━━━━━━━━━━━━━━━━━━━\u001b[0m \u001b[32m85.5/85.5 kB\u001b[0m \u001b[31m4.9 MB/s\u001b[0m eta \u001b[36m0:00:00\u001b[0m\n",
      "\u001b[?25hDownloading attrs-23.2.0-py3-none-any.whl (60 kB)\n",
      "\u001b[2K   \u001b[90m━━━━━━━━━━━━━━━━━━━━━━━━━━━━━━━━━━━━━━━━\u001b[0m \u001b[32m60.8/60.8 kB\u001b[0m \u001b[31m2.1 MB/s\u001b[0m eta \u001b[36m0:00:00\u001b[0m\n",
      "\u001b[?25hDownloading jsonschema_specifications-2023.12.1-py3-none-any.whl (18 kB)\n",
      "Downloading referencing-0.34.0-py3-none-any.whl (26 kB)\n",
      "Downloading rpds_py-0.18.0-cp311-cp311-macosx_11_0_arm64.whl (330 kB)\n",
      "\u001b[2K   \u001b[90m━━━━━━━━━━━━━━━━━━━━━━━━━━━━━━━━━━━━━━━━\u001b[0m \u001b[32m330.8/330.8 kB\u001b[0m \u001b[31m6.9 MB/s\u001b[0m eta \u001b[36m0:00:00\u001b[0m:00:01\u001b[0m\n",
      "\u001b[?25hInstalling collected packages: fastjsonschema, rpds-py, attrs, referencing, jsonschema-specifications, jsonschema, nbformat\n",
      "Successfully installed attrs-23.2.0 fastjsonschema-2.19.1 jsonschema-4.21.1 jsonschema-specifications-2023.12.1 nbformat-5.10.4 referencing-0.34.0 rpds-py-0.18.0\n",
      "\n",
      "\u001b[1m[\u001b[0m\u001b[34;49mnotice\u001b[0m\u001b[1;39;49m]\u001b[0m\u001b[39;49m A new release of pip is available: \u001b[0m\u001b[31;49m23.2.1\u001b[0m\u001b[39;49m -> \u001b[0m\u001b[32;49m24.0\u001b[0m\n",
      "\u001b[1m[\u001b[0m\u001b[34;49mnotice\u001b[0m\u001b[1;39;49m]\u001b[0m\u001b[39;49m To update, run: \u001b[0m\u001b[32;49mpip install --upgrade pip\u001b[0m\n"
     ]
    }
   ],
   "source": [
    "!pip3 install plotly\n",
    "!pip3 install nbformat"
   ]
  },
  {
   "cell_type": "code",
   "execution_count": 1,
   "metadata": {},
   "outputs": [],
   "source": [
    "import duckdb \n",
    "import pandas \n",
    "import plotly.express as px"
   ]
  },
  {
   "cell_type": "code",
   "execution_count": 54,
   "metadata": {},
   "outputs": [
    {
     "data": {
      "text/html": [
       "<div>\n",
       "<style scoped>\n",
       "    .dataframe tbody tr th:only-of-type {\n",
       "        vertical-align: middle;\n",
       "    }\n",
       "\n",
       "    .dataframe tbody tr th {\n",
       "        vertical-align: top;\n",
       "    }\n",
       "\n",
       "    .dataframe thead th {\n",
       "        text-align: right;\n",
       "    }\n",
       "</style>\n",
       "<table border=\"1\" class=\"dataframe\">\n",
       "  <thead>\n",
       "    <tr style=\"text-align: right;\">\n",
       "      <th></th>\n",
       "      <th>run_id</th>\n",
       "      <th>repeat_id</th>\n",
       "      <th>benchmark</th>\n",
       "      <th>scenario</th>\n",
       "      <th>max_version</th>\n",
       "      <th>Time (seconds)</th>\n",
       "      <th>DuckDB Version</th>\n",
       "      <th>benchmark_type</th>\n",
       "      <th>benchmark_type_order</th>\n",
       "      <th>Benchmark Type</th>\n",
       "      <th>total_time_by_version</th>\n",
       "      <th>total_time_max_version</th>\n",
       "      <th>Time Relative to Latest Version</th>\n",
       "    </tr>\n",
       "  </thead>\n",
       "  <tbody>\n",
       "    <tr>\n",
       "      <th>0</th>\n",
       "      <td>1</td>\n",
       "      <td>0</td>\n",
       "      <td>001 Query pandas</td>\n",
       "      <td>{\"duckdb_version\": \"v0.0.1\"}</td>\n",
       "      <td>0.10.1</td>\n",
       "      <td>0.038065</td>\n",
       "      <td>0.0.1</td>\n",
       "      <td>Scan other formats</td>\n",
       "      <td>2</td>\n",
       "      <td>Scan other formats</td>\n",
       "      <td>177.093098</td>\n",
       "      <td>51.053585</td>\n",
       "      <td>0.000746</td>\n",
       "    </tr>\n",
       "    <tr>\n",
       "      <th>1</th>\n",
       "      <td>1</td>\n",
       "      <td>0</td>\n",
       "      <td>001 Query pandas</td>\n",
       "      <td>{\"duckdb_version\": \"v0.0.2\"}</td>\n",
       "      <td>0.10.1</td>\n",
       "      <td>0.021431</td>\n",
       "      <td>0.0.2</td>\n",
       "      <td>Scan other formats</td>\n",
       "      <td>2</td>\n",
       "      <td>Scan other formats</td>\n",
       "      <td>102.107171</td>\n",
       "      <td>51.053585</td>\n",
       "      <td>0.000420</td>\n",
       "    </tr>\n",
       "    <tr>\n",
       "      <th>2</th>\n",
       "      <td>1</td>\n",
       "      <td>0</td>\n",
       "      <td>001 Query pandas</td>\n",
       "      <td>{\"duckdb_version\": \"v0.10.1\"}</td>\n",
       "      <td>0.10.1</td>\n",
       "      <td>0.010716</td>\n",
       "      <td>0.10.1</td>\n",
       "      <td>Scan other formats</td>\n",
       "      <td>2</td>\n",
       "      <td>Scan other formats</td>\n",
       "      <td>51.053585</td>\n",
       "      <td>51.053585</td>\n",
       "      <td>0.000210</td>\n",
       "    </tr>\n",
       "    <tr>\n",
       "      <th>3</th>\n",
       "      <td>1</td>\n",
       "      <td>0</td>\n",
       "      <td>002 Create table from csv</td>\n",
       "      <td>{\"duckdb_version\": \"v0.0.1\"}</td>\n",
       "      <td>0.10.1</td>\n",
       "      <td>7.494020</td>\n",
       "      <td>0.0.1</td>\n",
       "      <td>CSV Import</td>\n",
       "      <td>1</td>\n",
       "      <td>CSV Import</td>\n",
       "      <td>177.093098</td>\n",
       "      <td>51.053585</td>\n",
       "      <td>0.146787</td>\n",
       "    </tr>\n",
       "    <tr>\n",
       "      <th>4</th>\n",
       "      <td>1</td>\n",
       "      <td>0</td>\n",
       "      <td>002 Create table from csv</td>\n",
       "      <td>{\"duckdb_version\": \"v0.0.2\"}</td>\n",
       "      <td>0.10.1</td>\n",
       "      <td>4.804336</td>\n",
       "      <td>0.0.2</td>\n",
       "      <td>CSV Import</td>\n",
       "      <td>1</td>\n",
       "      <td>CSV Import</td>\n",
       "      <td>102.107171</td>\n",
       "      <td>51.053585</td>\n",
       "      <td>0.094104</td>\n",
       "    </tr>\n",
       "    <tr>\n",
       "      <th>5</th>\n",
       "      <td>1</td>\n",
       "      <td>0</td>\n",
       "      <td>002 Create table from csv</td>\n",
       "      <td>{\"duckdb_version\": \"v0.10.1\"}</td>\n",
       "      <td>0.10.1</td>\n",
       "      <td>2.402168</td>\n",
       "      <td>0.10.1</td>\n",
       "      <td>CSV Import</td>\n",
       "      <td>1</td>\n",
       "      <td>CSV Import</td>\n",
       "      <td>51.053585</td>\n",
       "      <td>51.053585</td>\n",
       "      <td>0.047052</td>\n",
       "    </tr>\n",
       "    <tr>\n",
       "      <th>6</th>\n",
       "      <td>1</td>\n",
       "      <td>0</td>\n",
       "      <td>003 Convert to Enums</td>\n",
       "      <td>{\"duckdb_version\": \"v0.0.1\"}</td>\n",
       "      <td>0.10.1</td>\n",
       "      <td>4.370156</td>\n",
       "      <td>0.0.1</td>\n",
       "      <td>Analysis</td>\n",
       "      <td>3</td>\n",
       "      <td>Analysis</td>\n",
       "      <td>177.093098</td>\n",
       "      <td>51.053585</td>\n",
       "      <td>0.085599</td>\n",
       "    </tr>\n",
       "    <tr>\n",
       "      <th>7</th>\n",
       "      <td>1</td>\n",
       "      <td>0</td>\n",
       "      <td>003 Convert to Enums</td>\n",
       "      <td>{\"duckdb_version\": \"v0.0.2\"}</td>\n",
       "      <td>0.10.1</td>\n",
       "      <td>2.463481</td>\n",
       "      <td>0.0.2</td>\n",
       "      <td>Analysis</td>\n",
       "      <td>3</td>\n",
       "      <td>Analysis</td>\n",
       "      <td>102.107171</td>\n",
       "      <td>51.053585</td>\n",
       "      <td>0.048253</td>\n",
       "    </tr>\n",
       "    <tr>\n",
       "      <th>8</th>\n",
       "      <td>1</td>\n",
       "      <td>0</td>\n",
       "      <td>003 Convert to Enums</td>\n",
       "      <td>{\"duckdb_version\": \"v0.10.1\"}</td>\n",
       "      <td>0.10.1</td>\n",
       "      <td>1.231741</td>\n",
       "      <td>0.10.1</td>\n",
       "      <td>Analysis</td>\n",
       "      <td>3</td>\n",
       "      <td>Analysis</td>\n",
       "      <td>51.053585</td>\n",
       "      <td>51.053585</td>\n",
       "      <td>0.024126</td>\n",
       "    </tr>\n",
       "    <tr>\n",
       "      <th>9</th>\n",
       "      <td>1</td>\n",
       "      <td>0</td>\n",
       "      <td>004 Group by queries</td>\n",
       "      <td>{\"duckdb_version\": \"v0.0.1\"}</td>\n",
       "      <td>0.10.1</td>\n",
       "      <td>7.454709</td>\n",
       "      <td>0.0.1</td>\n",
       "      <td>Analysis</td>\n",
       "      <td>3</td>\n",
       "      <td>Analysis</td>\n",
       "      <td>177.093098</td>\n",
       "      <td>51.053585</td>\n",
       "      <td>0.146017</td>\n",
       "    </tr>\n",
       "    <tr>\n",
       "      <th>10</th>\n",
       "      <td>1</td>\n",
       "      <td>0</td>\n",
       "      <td>004 Group by queries</td>\n",
       "      <td>{\"duckdb_version\": \"v0.0.2\"}</td>\n",
       "      <td>0.10.1</td>\n",
       "      <td>4.663834</td>\n",
       "      <td>0.0.2</td>\n",
       "      <td>Analysis</td>\n",
       "      <td>3</td>\n",
       "      <td>Analysis</td>\n",
       "      <td>102.107171</td>\n",
       "      <td>51.053585</td>\n",
       "      <td>0.091352</td>\n",
       "    </tr>\n",
       "    <tr>\n",
       "      <th>11</th>\n",
       "      <td>1</td>\n",
       "      <td>0</td>\n",
       "      <td>004 Group by queries</td>\n",
       "      <td>{\"duckdb_version\": \"v0.10.1\"}</td>\n",
       "      <td>0.10.1</td>\n",
       "      <td>2.331917</td>\n",
       "      <td>0.10.1</td>\n",
       "      <td>Analysis</td>\n",
       "      <td>3</td>\n",
       "      <td>Analysis</td>\n",
       "      <td>51.053585</td>\n",
       "      <td>51.053585</td>\n",
       "      <td>0.045676</td>\n",
       "    </tr>\n",
       "    <tr>\n",
       "      <th>12</th>\n",
       "      <td>1</td>\n",
       "      <td>0</td>\n",
       "      <td>005 Export group by results to Pandas</td>\n",
       "      <td>{\"duckdb_version\": \"v0.0.1\"}</td>\n",
       "      <td>0.10.1</td>\n",
       "      <td>6.507674</td>\n",
       "      <td>0.0.1</td>\n",
       "      <td>Export</td>\n",
       "      <td>4</td>\n",
       "      <td>Export</td>\n",
       "      <td>177.093098</td>\n",
       "      <td>51.053585</td>\n",
       "      <td>0.127468</td>\n",
       "    </tr>\n",
       "    <tr>\n",
       "      <th>13</th>\n",
       "      <td>1</td>\n",
       "      <td>0</td>\n",
       "      <td>005 Export group by results to Pandas</td>\n",
       "      <td>{\"duckdb_version\": \"v0.0.2\"}</td>\n",
       "      <td>0.10.1</td>\n",
       "      <td>3.296683</td>\n",
       "      <td>0.0.2</td>\n",
       "      <td>Export</td>\n",
       "      <td>4</td>\n",
       "      <td>Export</td>\n",
       "      <td>102.107171</td>\n",
       "      <td>51.053585</td>\n",
       "      <td>0.064573</td>\n",
       "    </tr>\n",
       "    <tr>\n",
       "      <th>14</th>\n",
       "      <td>1</td>\n",
       "      <td>0</td>\n",
       "      <td>005 Export group by results to Pandas</td>\n",
       "      <td>{\"duckdb_version\": \"v0.10.1\"}</td>\n",
       "      <td>0.10.1</td>\n",
       "      <td>1.648342</td>\n",
       "      <td>0.10.1</td>\n",
       "      <td>Export</td>\n",
       "      <td>4</td>\n",
       "      <td>Export</td>\n",
       "      <td>51.053585</td>\n",
       "      <td>51.053585</td>\n",
       "      <td>0.032286</td>\n",
       "    </tr>\n",
       "    <tr>\n",
       "      <th>15</th>\n",
       "      <td>1</td>\n",
       "      <td>0</td>\n",
       "      <td>006 Scan and aggregate over Pandas df</td>\n",
       "      <td>{\"duckdb_version\": \"v0.0.1\"}</td>\n",
       "      <td>0.10.1</td>\n",
       "      <td>0.053793</td>\n",
       "      <td>0.0.1</td>\n",
       "      <td>Scan other formats</td>\n",
       "      <td>2</td>\n",
       "      <td>Scan other formats</td>\n",
       "      <td>177.093098</td>\n",
       "      <td>51.053585</td>\n",
       "      <td>0.001054</td>\n",
       "    </tr>\n",
       "    <tr>\n",
       "      <th>16</th>\n",
       "      <td>1</td>\n",
       "      <td>0</td>\n",
       "      <td>006 Scan and aggregate over Pandas df</td>\n",
       "      <td>{\"duckdb_version\": \"v0.0.2\"}</td>\n",
       "      <td>0.10.1</td>\n",
       "      <td>0.027685</td>\n",
       "      <td>0.0.2</td>\n",
       "      <td>Scan other formats</td>\n",
       "      <td>2</td>\n",
       "      <td>Scan other formats</td>\n",
       "      <td>102.107171</td>\n",
       "      <td>51.053585</td>\n",
       "      <td>0.000542</td>\n",
       "    </tr>\n",
       "    <tr>\n",
       "      <th>17</th>\n",
       "      <td>1</td>\n",
       "      <td>0</td>\n",
       "      <td>006 Scan and aggregate over Pandas df</td>\n",
       "      <td>{\"duckdb_version\": \"v0.10.1\"}</td>\n",
       "      <td>0.10.1</td>\n",
       "      <td>0.013842</td>\n",
       "      <td>0.10.1</td>\n",
       "      <td>Scan other formats</td>\n",
       "      <td>2</td>\n",
       "      <td>Scan other formats</td>\n",
       "      <td>51.053585</td>\n",
       "      <td>51.053585</td>\n",
       "      <td>0.000271</td>\n",
       "    </tr>\n",
       "    <tr>\n",
       "      <th>18</th>\n",
       "      <td>1</td>\n",
       "      <td>0</td>\n",
       "      <td>007 Export group by results to Parquet</td>\n",
       "      <td>{\"duckdb_version\": \"v0.0.1\"}</td>\n",
       "      <td>0.10.1</td>\n",
       "      <td>8.093199</td>\n",
       "      <td>0.0.1</td>\n",
       "      <td>Export</td>\n",
       "      <td>4</td>\n",
       "      <td>Export</td>\n",
       "      <td>177.093098</td>\n",
       "      <td>51.053585</td>\n",
       "      <td>0.158524</td>\n",
       "    </tr>\n",
       "    <tr>\n",
       "      <th>19</th>\n",
       "      <td>1</td>\n",
       "      <td>0</td>\n",
       "      <td>007 Export group by results to Parquet</td>\n",
       "      <td>{\"duckdb_version\": \"v0.0.2\"}</td>\n",
       "      <td>0.10.1</td>\n",
       "      <td>5.033133</td>\n",
       "      <td>0.0.2</td>\n",
       "      <td>Export</td>\n",
       "      <td>4</td>\n",
       "      <td>Export</td>\n",
       "      <td>102.107171</td>\n",
       "      <td>51.053585</td>\n",
       "      <td>0.098585</td>\n",
       "    </tr>\n",
       "    <tr>\n",
       "      <th>20</th>\n",
       "      <td>1</td>\n",
       "      <td>0</td>\n",
       "      <td>007 Export group by results to Parquet</td>\n",
       "      <td>{\"duckdb_version\": \"v0.10.1\"}</td>\n",
       "      <td>0.10.1</td>\n",
       "      <td>2.516566</td>\n",
       "      <td>0.10.1</td>\n",
       "      <td>Export</td>\n",
       "      <td>4</td>\n",
       "      <td>Export</td>\n",
       "      <td>51.053585</td>\n",
       "      <td>51.053585</td>\n",
       "      <td>0.049293</td>\n",
       "    </tr>\n",
       "    <tr>\n",
       "      <th>21</th>\n",
       "      <td>1</td>\n",
       "      <td>0</td>\n",
       "      <td>008 Scan and aggregate over Parquet file</td>\n",
       "      <td>{\"duckdb_version\": \"v0.0.1\"}</td>\n",
       "      <td>0.10.1</td>\n",
       "      <td>0.078727</td>\n",
       "      <td>0.0.1</td>\n",
       "      <td>Scan other formats</td>\n",
       "      <td>2</td>\n",
       "      <td>Scan other formats</td>\n",
       "      <td>177.093098</td>\n",
       "      <td>51.053585</td>\n",
       "      <td>0.001542</td>\n",
       "    </tr>\n",
       "    <tr>\n",
       "      <th>22</th>\n",
       "      <td>1</td>\n",
       "      <td>0</td>\n",
       "      <td>008 Scan and aggregate over Parquet file</td>\n",
       "      <td>{\"duckdb_version\": \"v0.0.2\"}</td>\n",
       "      <td>0.10.1</td>\n",
       "      <td>0.047163</td>\n",
       "      <td>0.0.2</td>\n",
       "      <td>Scan other formats</td>\n",
       "      <td>2</td>\n",
       "      <td>Scan other formats</td>\n",
       "      <td>102.107171</td>\n",
       "      <td>51.053585</td>\n",
       "      <td>0.000924</td>\n",
       "    </tr>\n",
       "    <tr>\n",
       "      <th>23</th>\n",
       "      <td>1</td>\n",
       "      <td>0</td>\n",
       "      <td>008 Scan and aggregate over Parquet file</td>\n",
       "      <td>{\"duckdb_version\": \"v0.10.1\"}</td>\n",
       "      <td>0.10.1</td>\n",
       "      <td>0.023582</td>\n",
       "      <td>0.10.1</td>\n",
       "      <td>Scan other formats</td>\n",
       "      <td>2</td>\n",
       "      <td>Scan other formats</td>\n",
       "      <td>51.053585</td>\n",
       "      <td>51.053585</td>\n",
       "      <td>0.000462</td>\n",
       "    </tr>\n",
       "    <tr>\n",
       "      <th>24</th>\n",
       "      <td>1</td>\n",
       "      <td>0</td>\n",
       "      <td>009 Export group by results to Arrow</td>\n",
       "      <td>{\"duckdb_version\": \"v0.0.1\"}</td>\n",
       "      <td>0.10.1</td>\n",
       "      <td>2.360522</td>\n",
       "      <td>0.0.1</td>\n",
       "      <td>Export</td>\n",
       "      <td>4</td>\n",
       "      <td>Export</td>\n",
       "      <td>177.093098</td>\n",
       "      <td>51.053585</td>\n",
       "      <td>0.046236</td>\n",
       "    </tr>\n",
       "    <tr>\n",
       "      <th>25</th>\n",
       "      <td>1</td>\n",
       "      <td>0</td>\n",
       "      <td>009 Export group by results to Arrow</td>\n",
       "      <td>{\"duckdb_version\": \"v0.0.2\"}</td>\n",
       "      <td>0.10.1</td>\n",
       "      <td>1.256402</td>\n",
       "      <td>0.0.2</td>\n",
       "      <td>Export</td>\n",
       "      <td>4</td>\n",
       "      <td>Export</td>\n",
       "      <td>102.107171</td>\n",
       "      <td>51.053585</td>\n",
       "      <td>0.024609</td>\n",
       "    </tr>\n",
       "    <tr>\n",
       "      <th>26</th>\n",
       "      <td>1</td>\n",
       "      <td>0</td>\n",
       "      <td>009 Export group by results to Arrow</td>\n",
       "      <td>{\"duckdb_version\": \"v0.10.1\"}</td>\n",
       "      <td>0.10.1</td>\n",
       "      <td>0.628201</td>\n",
       "      <td>0.10.1</td>\n",
       "      <td>Export</td>\n",
       "      <td>4</td>\n",
       "      <td>Export</td>\n",
       "      <td>51.053585</td>\n",
       "      <td>51.053585</td>\n",
       "      <td>0.012305</td>\n",
       "    </tr>\n",
       "    <tr>\n",
       "      <th>27</th>\n",
       "      <td>1</td>\n",
       "      <td>0</td>\n",
       "      <td>010 Scan and aggregate over Arrow df</td>\n",
       "      <td>{\"duckdb_version\": \"v0.0.1\"}</td>\n",
       "      <td>0.10.1</td>\n",
       "      <td>0.296451</td>\n",
       "      <td>0.0.1</td>\n",
       "      <td>Scan other formats</td>\n",
       "      <td>2</td>\n",
       "      <td>Scan other formats</td>\n",
       "      <td>177.093098</td>\n",
       "      <td>51.053585</td>\n",
       "      <td>0.005807</td>\n",
       "    </tr>\n",
       "    <tr>\n",
       "      <th>28</th>\n",
       "      <td>1</td>\n",
       "      <td>0</td>\n",
       "      <td>010 Scan and aggregate over Arrow df</td>\n",
       "      <td>{\"duckdb_version\": \"v0.0.2\"}</td>\n",
       "      <td>0.10.1</td>\n",
       "      <td>0.157899</td>\n",
       "      <td>0.0.2</td>\n",
       "      <td>Scan other formats</td>\n",
       "      <td>2</td>\n",
       "      <td>Scan other formats</td>\n",
       "      <td>102.107171</td>\n",
       "      <td>51.053585</td>\n",
       "      <td>0.003093</td>\n",
       "    </tr>\n",
       "    <tr>\n",
       "      <th>29</th>\n",
       "      <td>1</td>\n",
       "      <td>0</td>\n",
       "      <td>010 Scan and aggregate over Arrow df</td>\n",
       "      <td>{\"duckdb_version\": \"v0.10.1\"}</td>\n",
       "      <td>0.10.1</td>\n",
       "      <td>0.078949</td>\n",
       "      <td>0.10.1</td>\n",
       "      <td>Scan other formats</td>\n",
       "      <td>2</td>\n",
       "      <td>Scan other formats</td>\n",
       "      <td>51.053585</td>\n",
       "      <td>51.053585</td>\n",
       "      <td>0.001546</td>\n",
       "    </tr>\n",
       "    <tr>\n",
       "      <th>30</th>\n",
       "      <td>1</td>\n",
       "      <td>0</td>\n",
       "      <td>011 Create tables from csvs joins</td>\n",
       "      <td>{\"duckdb_version\": \"v0.0.1\"}</td>\n",
       "      <td>0.10.1</td>\n",
       "      <td>18.812795</td>\n",
       "      <td>0.0.1</td>\n",
       "      <td>CSV Import</td>\n",
       "      <td>1</td>\n",
       "      <td>CSV Import</td>\n",
       "      <td>177.093098</td>\n",
       "      <td>51.053585</td>\n",
       "      <td>0.368491</td>\n",
       "    </tr>\n",
       "    <tr>\n",
       "      <th>31</th>\n",
       "      <td>1</td>\n",
       "      <td>0</td>\n",
       "      <td>011 Create tables from csvs joins</td>\n",
       "      <td>{\"duckdb_version\": \"v0.0.2\"}</td>\n",
       "      <td>0.10.1</td>\n",
       "      <td>11.958832</td>\n",
       "      <td>0.0.2</td>\n",
       "      <td>CSV Import</td>\n",
       "      <td>1</td>\n",
       "      <td>CSV Import</td>\n",
       "      <td>102.107171</td>\n",
       "      <td>51.053585</td>\n",
       "      <td>0.234241</td>\n",
       "    </tr>\n",
       "    <tr>\n",
       "      <th>32</th>\n",
       "      <td>1</td>\n",
       "      <td>0</td>\n",
       "      <td>011 Create tables from csvs joins</td>\n",
       "      <td>{\"duckdb_version\": \"v0.10.1\"}</td>\n",
       "      <td>0.10.1</td>\n",
       "      <td>5.979416</td>\n",
       "      <td>0.10.1</td>\n",
       "      <td>CSV Import</td>\n",
       "      <td>1</td>\n",
       "      <td>CSV Import</td>\n",
       "      <td>51.053585</td>\n",
       "      <td>51.053585</td>\n",
       "      <td>0.117120</td>\n",
       "    </tr>\n",
       "    <tr>\n",
       "      <th>33</th>\n",
       "      <td>1</td>\n",
       "      <td>0</td>\n",
       "      <td>012 Convert to Enums for joins</td>\n",
       "      <td>{\"duckdb_version\": \"v0.0.1\"}</td>\n",
       "      <td>0.10.1</td>\n",
       "      <td>18.402297</td>\n",
       "      <td>0.0.1</td>\n",
       "      <td>Analysis</td>\n",
       "      <td>3</td>\n",
       "      <td>Analysis</td>\n",
       "      <td>177.093098</td>\n",
       "      <td>51.053585</td>\n",
       "      <td>0.360451</td>\n",
       "    </tr>\n",
       "    <tr>\n",
       "      <th>34</th>\n",
       "      <td>1</td>\n",
       "      <td>0</td>\n",
       "      <td>012 Convert to Enums for joins</td>\n",
       "      <td>{\"duckdb_version\": \"v0.0.2\"}</td>\n",
       "      <td>0.10.1</td>\n",
       "      <td>9.825863</td>\n",
       "      <td>0.0.2</td>\n",
       "      <td>Analysis</td>\n",
       "      <td>3</td>\n",
       "      <td>Analysis</td>\n",
       "      <td>102.107171</td>\n",
       "      <td>51.053585</td>\n",
       "      <td>0.192462</td>\n",
       "    </tr>\n",
       "    <tr>\n",
       "      <th>35</th>\n",
       "      <td>1</td>\n",
       "      <td>0</td>\n",
       "      <td>012 Convert to Enums for joins</td>\n",
       "      <td>{\"duckdb_version\": \"v0.10.1\"}</td>\n",
       "      <td>0.10.1</td>\n",
       "      <td>4.912932</td>\n",
       "      <td>0.10.1</td>\n",
       "      <td>Analysis</td>\n",
       "      <td>3</td>\n",
       "      <td>Analysis</td>\n",
       "      <td>51.053585</td>\n",
       "      <td>51.053585</td>\n",
       "      <td>0.096231</td>\n",
       "    </tr>\n",
       "    <tr>\n",
       "      <th>36</th>\n",
       "      <td>1</td>\n",
       "      <td>0</td>\n",
       "      <td>013 Join queries</td>\n",
       "      <td>{\"duckdb_version\": \"v0.0.1\"}</td>\n",
       "      <td>0.10.1</td>\n",
       "      <td>37.778542</td>\n",
       "      <td>0.0.1</td>\n",
       "      <td>Analysis</td>\n",
       "      <td>3</td>\n",
       "      <td>Analysis</td>\n",
       "      <td>177.093098</td>\n",
       "      <td>51.053585</td>\n",
       "      <td>0.739978</td>\n",
       "    </tr>\n",
       "    <tr>\n",
       "      <th>37</th>\n",
       "      <td>1</td>\n",
       "      <td>0</td>\n",
       "      <td>013 Join queries</td>\n",
       "      <td>{\"duckdb_version\": \"v0.0.2\"}</td>\n",
       "      <td>0.10.1</td>\n",
       "      <td>18.890113</td>\n",
       "      <td>0.0.2</td>\n",
       "      <td>Analysis</td>\n",
       "      <td>3</td>\n",
       "      <td>Analysis</td>\n",
       "      <td>102.107171</td>\n",
       "      <td>51.053585</td>\n",
       "      <td>0.370006</td>\n",
       "    </tr>\n",
       "    <tr>\n",
       "      <th>38</th>\n",
       "      <td>1</td>\n",
       "      <td>0</td>\n",
       "      <td>013 Join queries</td>\n",
       "      <td>{\"duckdb_version\": \"v0.10.1\"}</td>\n",
       "      <td>0.10.1</td>\n",
       "      <td>9.445056</td>\n",
       "      <td>0.10.1</td>\n",
       "      <td>Analysis</td>\n",
       "      <td>3</td>\n",
       "      <td>Analysis</td>\n",
       "      <td>51.053585</td>\n",
       "      <td>51.053585</td>\n",
       "      <td>0.185003</td>\n",
       "    </tr>\n",
       "    <tr>\n",
       "      <th>39</th>\n",
       "      <td>1</td>\n",
       "      <td>0</td>\n",
       "      <td>014 Export join results to Pandas</td>\n",
       "      <td>{\"duckdb_version\": \"v0.0.1\"}</td>\n",
       "      <td>0.10.1</td>\n",
       "      <td>50.079277</td>\n",
       "      <td>0.0.1</td>\n",
       "      <td>Export</td>\n",
       "      <td>4</td>\n",
       "      <td>Export</td>\n",
       "      <td>177.093098</td>\n",
       "      <td>51.053585</td>\n",
       "      <td>0.980916</td>\n",
       "    </tr>\n",
       "    <tr>\n",
       "      <th>40</th>\n",
       "      <td>1</td>\n",
       "      <td>0</td>\n",
       "      <td>014 Export join results to Pandas</td>\n",
       "      <td>{\"duckdb_version\": \"v0.0.2\"}</td>\n",
       "      <td>0.10.1</td>\n",
       "      <td>30.103226</td>\n",
       "      <td>0.0.2</td>\n",
       "      <td>Export</td>\n",
       "      <td>4</td>\n",
       "      <td>Export</td>\n",
       "      <td>102.107171</td>\n",
       "      <td>51.053585</td>\n",
       "      <td>0.589640</td>\n",
       "    </tr>\n",
       "    <tr>\n",
       "      <th>41</th>\n",
       "      <td>1</td>\n",
       "      <td>0</td>\n",
       "      <td>014 Export join results to Pandas</td>\n",
       "      <td>{\"duckdb_version\": \"v0.10.1\"}</td>\n",
       "      <td>0.10.1</td>\n",
       "      <td>15.051613</td>\n",
       "      <td>0.10.1</td>\n",
       "      <td>Export</td>\n",
       "      <td>4</td>\n",
       "      <td>Export</td>\n",
       "      <td>51.053585</td>\n",
       "      <td>51.053585</td>\n",
       "      <td>0.294820</td>\n",
       "    </tr>\n",
       "    <tr>\n",
       "      <th>42</th>\n",
       "      <td>1</td>\n",
       "      <td>0</td>\n",
       "      <td>015 Export join results to Arrow</td>\n",
       "      <td>{\"duckdb_version\": \"v0.0.1\"}</td>\n",
       "      <td>0.10.1</td>\n",
       "      <td>15.272872</td>\n",
       "      <td>0.0.1</td>\n",
       "      <td>Export</td>\n",
       "      <td>4</td>\n",
       "      <td>Export</td>\n",
       "      <td>177.093098</td>\n",
       "      <td>51.053585</td>\n",
       "      <td>0.299154</td>\n",
       "    </tr>\n",
       "    <tr>\n",
       "      <th>43</th>\n",
       "      <td>1</td>\n",
       "      <td>0</td>\n",
       "      <td>015 Export join results to Arrow</td>\n",
       "      <td>{\"duckdb_version\": \"v0.0.2\"}</td>\n",
       "      <td>0.10.1</td>\n",
       "      <td>9.557090</td>\n",
       "      <td>0.0.2</td>\n",
       "      <td>Export</td>\n",
       "      <td>4</td>\n",
       "      <td>Export</td>\n",
       "      <td>102.107171</td>\n",
       "      <td>51.053585</td>\n",
       "      <td>0.187197</td>\n",
       "    </tr>\n",
       "    <tr>\n",
       "      <th>44</th>\n",
       "      <td>1</td>\n",
       "      <td>0</td>\n",
       "      <td>015 Export join results to Arrow</td>\n",
       "      <td>{\"duckdb_version\": \"v0.10.1\"}</td>\n",
       "      <td>0.10.1</td>\n",
       "      <td>4.778545</td>\n",
       "      <td>0.10.1</td>\n",
       "      <td>Export</td>\n",
       "      <td>4</td>\n",
       "      <td>Export</td>\n",
       "      <td>51.053585</td>\n",
       "      <td>51.053585</td>\n",
       "      <td>0.093599</td>\n",
       "    </tr>\n",
       "  </tbody>\n",
       "</table>\n",
       "</div>"
      ],
      "text/plain": [
       "    run_id  repeat_id                                 benchmark  \\\n",
       "0        1          0                          001 Query pandas   \n",
       "1        1          0                          001 Query pandas   \n",
       "2        1          0                          001 Query pandas   \n",
       "3        1          0                 002 Create table from csv   \n",
       "4        1          0                 002 Create table from csv   \n",
       "5        1          0                 002 Create table from csv   \n",
       "6        1          0                      003 Convert to Enums   \n",
       "7        1          0                      003 Convert to Enums   \n",
       "8        1          0                      003 Convert to Enums   \n",
       "9        1          0                      004 Group by queries   \n",
       "10       1          0                      004 Group by queries   \n",
       "11       1          0                      004 Group by queries   \n",
       "12       1          0     005 Export group by results to Pandas   \n",
       "13       1          0     005 Export group by results to Pandas   \n",
       "14       1          0     005 Export group by results to Pandas   \n",
       "15       1          0     006 Scan and aggregate over Pandas df   \n",
       "16       1          0     006 Scan and aggregate over Pandas df   \n",
       "17       1          0     006 Scan and aggregate over Pandas df   \n",
       "18       1          0    007 Export group by results to Parquet   \n",
       "19       1          0    007 Export group by results to Parquet   \n",
       "20       1          0    007 Export group by results to Parquet   \n",
       "21       1          0  008 Scan and aggregate over Parquet file   \n",
       "22       1          0  008 Scan and aggregate over Parquet file   \n",
       "23       1          0  008 Scan and aggregate over Parquet file   \n",
       "24       1          0      009 Export group by results to Arrow   \n",
       "25       1          0      009 Export group by results to Arrow   \n",
       "26       1          0      009 Export group by results to Arrow   \n",
       "27       1          0      010 Scan and aggregate over Arrow df   \n",
       "28       1          0      010 Scan and aggregate over Arrow df   \n",
       "29       1          0      010 Scan and aggregate over Arrow df   \n",
       "30       1          0         011 Create tables from csvs joins   \n",
       "31       1          0         011 Create tables from csvs joins   \n",
       "32       1          0         011 Create tables from csvs joins   \n",
       "33       1          0            012 Convert to Enums for joins   \n",
       "34       1          0            012 Convert to Enums for joins   \n",
       "35       1          0            012 Convert to Enums for joins   \n",
       "36       1          0                          013 Join queries   \n",
       "37       1          0                          013 Join queries   \n",
       "38       1          0                          013 Join queries   \n",
       "39       1          0         014 Export join results to Pandas   \n",
       "40       1          0         014 Export join results to Pandas   \n",
       "41       1          0         014 Export join results to Pandas   \n",
       "42       1          0          015 Export join results to Arrow   \n",
       "43       1          0          015 Export join results to Arrow   \n",
       "44       1          0          015 Export join results to Arrow   \n",
       "\n",
       "                         scenario max_version  Time (seconds) DuckDB Version  \\\n",
       "0    {\"duckdb_version\": \"v0.0.1\"}      0.10.1        0.038065          0.0.1   \n",
       "1    {\"duckdb_version\": \"v0.0.2\"}      0.10.1        0.021431          0.0.2   \n",
       "2   {\"duckdb_version\": \"v0.10.1\"}      0.10.1        0.010716         0.10.1   \n",
       "3    {\"duckdb_version\": \"v0.0.1\"}      0.10.1        7.494020          0.0.1   \n",
       "4    {\"duckdb_version\": \"v0.0.2\"}      0.10.1        4.804336          0.0.2   \n",
       "5   {\"duckdb_version\": \"v0.10.1\"}      0.10.1        2.402168         0.10.1   \n",
       "6    {\"duckdb_version\": \"v0.0.1\"}      0.10.1        4.370156          0.0.1   \n",
       "7    {\"duckdb_version\": \"v0.0.2\"}      0.10.1        2.463481          0.0.2   \n",
       "8   {\"duckdb_version\": \"v0.10.1\"}      0.10.1        1.231741         0.10.1   \n",
       "9    {\"duckdb_version\": \"v0.0.1\"}      0.10.1        7.454709          0.0.1   \n",
       "10   {\"duckdb_version\": \"v0.0.2\"}      0.10.1        4.663834          0.0.2   \n",
       "11  {\"duckdb_version\": \"v0.10.1\"}      0.10.1        2.331917         0.10.1   \n",
       "12   {\"duckdb_version\": \"v0.0.1\"}      0.10.1        6.507674          0.0.1   \n",
       "13   {\"duckdb_version\": \"v0.0.2\"}      0.10.1        3.296683          0.0.2   \n",
       "14  {\"duckdb_version\": \"v0.10.1\"}      0.10.1        1.648342         0.10.1   \n",
       "15   {\"duckdb_version\": \"v0.0.1\"}      0.10.1        0.053793          0.0.1   \n",
       "16   {\"duckdb_version\": \"v0.0.2\"}      0.10.1        0.027685          0.0.2   \n",
       "17  {\"duckdb_version\": \"v0.10.1\"}      0.10.1        0.013842         0.10.1   \n",
       "18   {\"duckdb_version\": \"v0.0.1\"}      0.10.1        8.093199          0.0.1   \n",
       "19   {\"duckdb_version\": \"v0.0.2\"}      0.10.1        5.033133          0.0.2   \n",
       "20  {\"duckdb_version\": \"v0.10.1\"}      0.10.1        2.516566         0.10.1   \n",
       "21   {\"duckdb_version\": \"v0.0.1\"}      0.10.1        0.078727          0.0.1   \n",
       "22   {\"duckdb_version\": \"v0.0.2\"}      0.10.1        0.047163          0.0.2   \n",
       "23  {\"duckdb_version\": \"v0.10.1\"}      0.10.1        0.023582         0.10.1   \n",
       "24   {\"duckdb_version\": \"v0.0.1\"}      0.10.1        2.360522          0.0.1   \n",
       "25   {\"duckdb_version\": \"v0.0.2\"}      0.10.1        1.256402          0.0.2   \n",
       "26  {\"duckdb_version\": \"v0.10.1\"}      0.10.1        0.628201         0.10.1   \n",
       "27   {\"duckdb_version\": \"v0.0.1\"}      0.10.1        0.296451          0.0.1   \n",
       "28   {\"duckdb_version\": \"v0.0.2\"}      0.10.1        0.157899          0.0.2   \n",
       "29  {\"duckdb_version\": \"v0.10.1\"}      0.10.1        0.078949         0.10.1   \n",
       "30   {\"duckdb_version\": \"v0.0.1\"}      0.10.1       18.812795          0.0.1   \n",
       "31   {\"duckdb_version\": \"v0.0.2\"}      0.10.1       11.958832          0.0.2   \n",
       "32  {\"duckdb_version\": \"v0.10.1\"}      0.10.1        5.979416         0.10.1   \n",
       "33   {\"duckdb_version\": \"v0.0.1\"}      0.10.1       18.402297          0.0.1   \n",
       "34   {\"duckdb_version\": \"v0.0.2\"}      0.10.1        9.825863          0.0.2   \n",
       "35  {\"duckdb_version\": \"v0.10.1\"}      0.10.1        4.912932         0.10.1   \n",
       "36   {\"duckdb_version\": \"v0.0.1\"}      0.10.1       37.778542          0.0.1   \n",
       "37   {\"duckdb_version\": \"v0.0.2\"}      0.10.1       18.890113          0.0.2   \n",
       "38  {\"duckdb_version\": \"v0.10.1\"}      0.10.1        9.445056         0.10.1   \n",
       "39   {\"duckdb_version\": \"v0.0.1\"}      0.10.1       50.079277          0.0.1   \n",
       "40   {\"duckdb_version\": \"v0.0.2\"}      0.10.1       30.103226          0.0.2   \n",
       "41  {\"duckdb_version\": \"v0.10.1\"}      0.10.1       15.051613         0.10.1   \n",
       "42   {\"duckdb_version\": \"v0.0.1\"}      0.10.1       15.272872          0.0.1   \n",
       "43   {\"duckdb_version\": \"v0.0.2\"}      0.10.1        9.557090          0.0.2   \n",
       "44  {\"duckdb_version\": \"v0.10.1\"}      0.10.1        4.778545         0.10.1   \n",
       "\n",
       "        benchmark_type  benchmark_type_order      Benchmark Type  \\\n",
       "0   Scan other formats                     2  Scan other formats   \n",
       "1   Scan other formats                     2  Scan other formats   \n",
       "2   Scan other formats                     2  Scan other formats   \n",
       "3           CSV Import                     1          CSV Import   \n",
       "4           CSV Import                     1          CSV Import   \n",
       "5           CSV Import                     1          CSV Import   \n",
       "6             Analysis                     3            Analysis   \n",
       "7             Analysis                     3            Analysis   \n",
       "8             Analysis                     3            Analysis   \n",
       "9             Analysis                     3            Analysis   \n",
       "10            Analysis                     3            Analysis   \n",
       "11            Analysis                     3            Analysis   \n",
       "12              Export                     4              Export   \n",
       "13              Export                     4              Export   \n",
       "14              Export                     4              Export   \n",
       "15  Scan other formats                     2  Scan other formats   \n",
       "16  Scan other formats                     2  Scan other formats   \n",
       "17  Scan other formats                     2  Scan other formats   \n",
       "18              Export                     4              Export   \n",
       "19              Export                     4              Export   \n",
       "20              Export                     4              Export   \n",
       "21  Scan other formats                     2  Scan other formats   \n",
       "22  Scan other formats                     2  Scan other formats   \n",
       "23  Scan other formats                     2  Scan other formats   \n",
       "24              Export                     4              Export   \n",
       "25              Export                     4              Export   \n",
       "26              Export                     4              Export   \n",
       "27  Scan other formats                     2  Scan other formats   \n",
       "28  Scan other formats                     2  Scan other formats   \n",
       "29  Scan other formats                     2  Scan other formats   \n",
       "30          CSV Import                     1          CSV Import   \n",
       "31          CSV Import                     1          CSV Import   \n",
       "32          CSV Import                     1          CSV Import   \n",
       "33            Analysis                     3            Analysis   \n",
       "34            Analysis                     3            Analysis   \n",
       "35            Analysis                     3            Analysis   \n",
       "36            Analysis                     3            Analysis   \n",
       "37            Analysis                     3            Analysis   \n",
       "38            Analysis                     3            Analysis   \n",
       "39              Export                     4              Export   \n",
       "40              Export                     4              Export   \n",
       "41              Export                     4              Export   \n",
       "42              Export                     4              Export   \n",
       "43              Export                     4              Export   \n",
       "44              Export                     4              Export   \n",
       "\n",
       "    total_time_by_version  total_time_max_version  \\\n",
       "0              177.093098               51.053585   \n",
       "1              102.107171               51.053585   \n",
       "2               51.053585               51.053585   \n",
       "3              177.093098               51.053585   \n",
       "4              102.107171               51.053585   \n",
       "5               51.053585               51.053585   \n",
       "6              177.093098               51.053585   \n",
       "7              102.107171               51.053585   \n",
       "8               51.053585               51.053585   \n",
       "9              177.093098               51.053585   \n",
       "10             102.107171               51.053585   \n",
       "11              51.053585               51.053585   \n",
       "12             177.093098               51.053585   \n",
       "13             102.107171               51.053585   \n",
       "14              51.053585               51.053585   \n",
       "15             177.093098               51.053585   \n",
       "16             102.107171               51.053585   \n",
       "17              51.053585               51.053585   \n",
       "18             177.093098               51.053585   \n",
       "19             102.107171               51.053585   \n",
       "20              51.053585               51.053585   \n",
       "21             177.093098               51.053585   \n",
       "22             102.107171               51.053585   \n",
       "23              51.053585               51.053585   \n",
       "24             177.093098               51.053585   \n",
       "25             102.107171               51.053585   \n",
       "26              51.053585               51.053585   \n",
       "27             177.093098               51.053585   \n",
       "28             102.107171               51.053585   \n",
       "29              51.053585               51.053585   \n",
       "30             177.093098               51.053585   \n",
       "31             102.107171               51.053585   \n",
       "32              51.053585               51.053585   \n",
       "33             177.093098               51.053585   \n",
       "34             102.107171               51.053585   \n",
       "35              51.053585               51.053585   \n",
       "36             177.093098               51.053585   \n",
       "37             102.107171               51.053585   \n",
       "38              51.053585               51.053585   \n",
       "39             177.093098               51.053585   \n",
       "40             102.107171               51.053585   \n",
       "41              51.053585               51.053585   \n",
       "42             177.093098               51.053585   \n",
       "43             102.107171               51.053585   \n",
       "44              51.053585               51.053585   \n",
       "\n",
       "    Time Relative to Latest Version  \n",
       "0                          0.000746  \n",
       "1                          0.000420  \n",
       "2                          0.000210  \n",
       "3                          0.146787  \n",
       "4                          0.094104  \n",
       "5                          0.047052  \n",
       "6                          0.085599  \n",
       "7                          0.048253  \n",
       "8                          0.024126  \n",
       "9                          0.146017  \n",
       "10                         0.091352  \n",
       "11                         0.045676  \n",
       "12                         0.127468  \n",
       "13                         0.064573  \n",
       "14                         0.032286  \n",
       "15                         0.001054  \n",
       "16                         0.000542  \n",
       "17                         0.000271  \n",
       "18                         0.158524  \n",
       "19                         0.098585  \n",
       "20                         0.049293  \n",
       "21                         0.001542  \n",
       "22                         0.000924  \n",
       "23                         0.000462  \n",
       "24                         0.046236  \n",
       "25                         0.024609  \n",
       "26                         0.012305  \n",
       "27                         0.005807  \n",
       "28                         0.003093  \n",
       "29                         0.001546  \n",
       "30                         0.368491  \n",
       "31                         0.234241  \n",
       "32                         0.117120  \n",
       "33                         0.360451  \n",
       "34                         0.192462  \n",
       "35                         0.096231  \n",
       "36                         0.739978  \n",
       "37                         0.370006  \n",
       "38                         0.185003  \n",
       "39                         0.980916  \n",
       "40                         0.589640  \n",
       "41                         0.294820  \n",
       "42                         0.299154  \n",
       "43                         0.187197  \n",
       "44                         0.093599  "
      ]
     },
     "execution_count": 54,
     "metadata": {},
     "output_type": "execute_result"
    }
   ],
   "source": [
    "con = duckdb.connect()\n",
    "attach_results = con.sql(\"ATTACH 'benchmark_log_python_testing.db' as sqlite_db (TYPE SQLITE)\")\n",
    "ctas_results = con.sql(\"create or replace table duckdb_results as select * from sqlite_db.results\")\n",
    "results = con.sql(\"\"\"\n",
    "    with dummy_results as (\n",
    "        from duckdb_results \n",
    "        union all\n",
    "        from duckdb_results\n",
    "        select * replace (\n",
    "            '{\"duckdb_version\": \"v0.0.2\"}' as scenario,\n",
    "            time * 2 as time\n",
    "        )\n",
    "        union all\n",
    "        from duckdb_results\n",
    "        select * replace (\n",
    "            '{\"duckdb_version\": \"v0.0.1\"}' as scenario,\n",
    "            time * 3 + time * random() as time\n",
    "        )\n",
    "    ), max_version as (\n",
    "        from dummy_results \n",
    "        select max((scenario::json ->> 'duckdb_version').replace('v','')) as max_version\n",
    "    )\n",
    "    from dummy_results\n",
    "    join max_version on 1=1\n",
    "    select \n",
    "        * exclude time,\n",
    "        median(time) over (partition by run_id, benchmark, scenario) as \"Time (seconds)\",\n",
    "        (scenario::json ->> 'duckdb_version').replace('v','') as \"DuckDB Version\",\n",
    "        case when benchmark ilike '%queries%' or benchmark ilike '%enums%' then 'Analysis'\n",
    "             when benchmark ilike '%csv%' then 'CSV Import' \n",
    "             when benchmark ilike '%scan%' or benchmark ilike '%query pandas%' then 'Scan other formats' \n",
    "             when benchmark ilike '%export%' then 'Export'\n",
    "        end as benchmark_type,\n",
    "        case when benchmark_type = 'CSV Import' then 1\n",
    "             when benchmark_type = 'Scan other formats' then 2\n",
    "             when benchmark_type = 'Analysis' then 3\n",
    "             when benchmark_type = 'Export' then 4\n",
    "             end as benchmark_type_order,\n",
    "        benchmark_type as \"Benchmark Type\",\n",
    "        sum(time) over (partition by \"DuckDB Version\") as total_time_by_version,\n",
    "        sum(case when (scenario::json ->> 'duckdb_version').replace('v','') = max_version.max_version then time else 0 end) over () as total_time_max_version,\n",
    "        time / total_time_max_version as \"Time Relative to Latest Version\"\n",
    "    order by benchmark, run_id, scenario, repeat_id\"\"\").df()\n",
    "results"
   ]
  },
  {
   "cell_type": "code",
   "execution_count": 55,
   "metadata": {},
   "outputs": [
    {
     "data": {
      "application/vnd.plotly.v1+json": {
       "config": {
        "plotlyServerURL": "https://plot.ly"
       },
       "data": [
        {
         "fillpattern": {
          "shape": ""
         },
         "hovertemplate": "Benchmark Type=CSV Import<br>benchmark=002 Create table from csv<br>DuckDB Version=%{x}<br>Time (seconds)=%{y}<extra></extra>",
         "legendgroup": "CSV Import",
         "line": {
          "color": "#636efa"
         },
         "marker": {
          "symbol": "circle"
         },
         "mode": "lines",
         "name": "CSV Import",
         "orientation": "v",
         "showlegend": true,
         "stackgroup": "1",
         "type": "scatter",
         "x": [
          "0.0.1",
          "0.0.2",
          "0.10.1"
         ],
         "xaxis": "x",
         "y": [
          7.494020365780558,
          4.8043362499999995,
          2.4021681249999998
         ],
         "yaxis": "y"
        },
        {
         "fillpattern": {
          "shape": ""
         },
         "hovertemplate": "Benchmark Type=CSV Import<br>benchmark=011 Create tables from csvs joins<br>DuckDB Version=%{x}<br>Time (seconds)=%{y}<extra></extra>",
         "legendgroup": "CSV Import",
         "line": {
          "color": "#636efa"
         },
         "marker": {
          "symbol": "circle"
         },
         "mode": "lines",
         "name": "CSV Import",
         "orientation": "v",
         "showlegend": false,
         "stackgroup": "1",
         "type": "scatter",
         "x": [
          "0.0.1",
          "0.0.2",
          "0.10.1"
         ],
         "xaxis": "x",
         "y": [
          18.812794784515535,
          11.958832334000004,
          5.979416167000002
         ],
         "yaxis": "y"
        },
        {
         "fillpattern": {
          "shape": ""
         },
         "hovertemplate": "Benchmark Type=Scan other formats<br>benchmark=001 Query pandas<br>DuckDB Version=%{x}<br>Time (seconds)=%{y}<extra></extra>",
         "legendgroup": "Scan other formats",
         "line": {
          "color": "#EF553B"
         },
         "marker": {
          "symbol": "circle"
         },
         "mode": "lines",
         "name": "Scan other formats",
         "orientation": "v",
         "showlegend": true,
         "stackgroup": "1",
         "type": "scatter",
         "x": [
          "0.0.1",
          "0.0.2",
          "0.10.1"
         ],
         "xaxis": "x",
         "y": [
          0.03806532563557825,
          0.021431166000000168,
          0.010715583000000084
         ],
         "yaxis": "y"
        },
        {
         "fillpattern": {
          "shape": ""
         },
         "hovertemplate": "Benchmark Type=Scan other formats<br>benchmark=006 Scan and aggregate over Pandas df<br>DuckDB Version=%{x}<br>Time (seconds)=%{y}<extra></extra>",
         "legendgroup": "Scan other formats",
         "line": {
          "color": "#EF553B"
         },
         "marker": {
          "symbol": "circle"
         },
         "mode": "lines",
         "name": "Scan other formats",
         "orientation": "v",
         "showlegend": false,
         "stackgroup": "1",
         "type": "scatter",
         "x": [
          "0.0.1",
          "0.0.2",
          "0.10.1"
         ],
         "xaxis": "x",
         "y": [
          0.05379266169137873,
          0.027684832000002046,
          0.013842416000001023
         ],
         "yaxis": "y"
        },
        {
         "fillpattern": {
          "shape": ""
         },
         "hovertemplate": "Benchmark Type=Scan other formats<br>benchmark=008 Scan and aggregate over Parquet file<br>DuckDB Version=%{x}<br>Time (seconds)=%{y}<extra></extra>",
         "legendgroup": "Scan other formats",
         "line": {
          "color": "#EF553B"
         },
         "marker": {
          "symbol": "circle"
         },
         "mode": "lines",
         "name": "Scan other formats",
         "orientation": "v",
         "showlegend": false,
         "stackgroup": "1",
         "type": "scatter",
         "x": [
          "0.0.1",
          "0.0.2",
          "0.10.1"
         ],
         "xaxis": "x",
         "y": [
          0.07872727336856769,
          0.047163082000000855,
          0.023581541000000428
         ],
         "yaxis": "y"
        },
        {
         "fillpattern": {
          "shape": ""
         },
         "hovertemplate": "Benchmark Type=Scan other formats<br>benchmark=010 Scan and aggregate over Arrow df<br>DuckDB Version=%{x}<br>Time (seconds)=%{y}<extra></extra>",
         "legendgroup": "Scan other formats",
         "line": {
          "color": "#EF553B"
         },
         "marker": {
          "symbol": "circle"
         },
         "mode": "lines",
         "name": "Scan other formats",
         "orientation": "v",
         "showlegend": false,
         "stackgroup": "1",
         "type": "scatter",
         "x": [
          "0.0.1",
          "0.0.2",
          "0.10.1"
         ],
         "xaxis": "x",
         "y": [
          0.29645053446726327,
          0.1578989160000006,
          0.0789494580000003
         ],
         "yaxis": "y"
        },
        {
         "fillpattern": {
          "shape": ""
         },
         "hovertemplate": "Benchmark Type=Analysis<br>benchmark=003 Convert to Enums<br>DuckDB Version=%{x}<br>Time (seconds)=%{y}<extra></extra>",
         "legendgroup": "Analysis",
         "line": {
          "color": "#00cc96"
         },
         "marker": {
          "symbol": "circle"
         },
         "mode": "lines",
         "name": "Analysis",
         "orientation": "v",
         "showlegend": true,
         "stackgroup": "1",
         "type": "scatter",
         "x": [
          "0.0.1",
          "0.0.2",
          "0.10.1"
         ],
         "xaxis": "x",
         "y": [
          4.3701562926468185,
          2.4634814999999994,
          1.2317407499999997
         ],
         "yaxis": "y"
        },
        {
         "fillpattern": {
          "shape": ""
         },
         "hovertemplate": "Benchmark Type=Analysis<br>benchmark=004 Group by queries<br>DuckDB Version=%{x}<br>Time (seconds)=%{y}<extra></extra>",
         "legendgroup": "Analysis",
         "line": {
          "color": "#00cc96"
         },
         "marker": {
          "symbol": "circle"
         },
         "mode": "lines",
         "name": "Analysis",
         "orientation": "v",
         "showlegend": false,
         "stackgroup": "1",
         "type": "scatter",
         "x": [
          "0.0.1",
          "0.0.2",
          "0.10.1"
         ],
         "xaxis": "x",
         "y": [
          7.454709244521551,
          4.663833584000001,
          2.3319167920000003
         ],
         "yaxis": "y"
        },
        {
         "fillpattern": {
          "shape": ""
         },
         "hovertemplate": "Benchmark Type=Analysis<br>benchmark=012 Convert to Enums for joins<br>DuckDB Version=%{x}<br>Time (seconds)=%{y}<extra></extra>",
         "legendgroup": "Analysis",
         "line": {
          "color": "#00cc96"
         },
         "marker": {
          "symbol": "circle"
         },
         "mode": "lines",
         "name": "Analysis",
         "orientation": "v",
         "showlegend": false,
         "stackgroup": "1",
         "type": "scatter",
         "x": [
          "0.0.1",
          "0.0.2",
          "0.10.1"
         ],
         "xaxis": "x",
         "y": [
          18.402296518502027,
          9.825863249999998,
          4.912931624999999
         ],
         "yaxis": "y"
        },
        {
         "fillpattern": {
          "shape": ""
         },
         "hovertemplate": "Benchmark Type=Analysis<br>benchmark=013 Join queries<br>DuckDB Version=%{x}<br>Time (seconds)=%{y}<extra></extra>",
         "legendgroup": "Analysis",
         "line": {
          "color": "#00cc96"
         },
         "marker": {
          "symbol": "circle"
         },
         "mode": "lines",
         "name": "Analysis",
         "orientation": "v",
         "showlegend": false,
         "stackgroup": "1",
         "type": "scatter",
         "x": [
          "0.0.1",
          "0.0.2",
          "0.10.1"
         ],
         "xaxis": "x",
         "y": [
          37.77854157240687,
          18.890112666000007,
          9.445056333000004
         ],
         "yaxis": "y"
        },
        {
         "fillpattern": {
          "shape": ""
         },
         "hovertemplate": "Benchmark Type=Export<br>benchmark=005 Export group by results to Pandas<br>DuckDB Version=%{x}<br>Time (seconds)=%{y}<extra></extra>",
         "legendgroup": "Export",
         "line": {
          "color": "#ab63fa"
         },
         "marker": {
          "symbol": "circle"
         },
         "mode": "lines",
         "name": "Export",
         "orientation": "v",
         "showlegend": true,
         "stackgroup": "1",
         "type": "scatter",
         "x": [
          "0.0.1",
          "0.0.2",
          "0.10.1"
         ],
         "xaxis": "x",
         "y": [
          6.507673552096894,
          3.2966831659999993,
          1.6483415829999997
         ],
         "yaxis": "y"
        },
        {
         "fillpattern": {
          "shape": ""
         },
         "hovertemplate": "Benchmark Type=Export<br>benchmark=007 Export group by results to Parquet<br>DuckDB Version=%{x}<br>Time (seconds)=%{y}<extra></extra>",
         "legendgroup": "Export",
         "line": {
          "color": "#ab63fa"
         },
         "marker": {
          "symbol": "circle"
         },
         "mode": "lines",
         "name": "Export",
         "orientation": "v",
         "showlegend": false,
         "stackgroup": "1",
         "type": "scatter",
         "x": [
          "0.0.1",
          "0.0.2",
          "0.10.1"
         ],
         "xaxis": "x",
         "y": [
          8.093199367892916,
          5.033132666,
          2.516566333
         ],
         "yaxis": "y"
        },
        {
         "fillpattern": {
          "shape": ""
         },
         "hovertemplate": "Benchmark Type=Export<br>benchmark=009 Export group by results to Arrow<br>DuckDB Version=%{x}<br>Time (seconds)=%{y}<extra></extra>",
         "legendgroup": "Export",
         "line": {
          "color": "#ab63fa"
         },
         "marker": {
          "symbol": "circle"
         },
         "mode": "lines",
         "name": "Export",
         "orientation": "v",
         "showlegend": false,
         "stackgroup": "1",
         "type": "scatter",
         "x": [
          "0.0.1",
          "0.0.2",
          "0.10.1"
         ],
         "xaxis": "x",
         "y": [
          2.3605217092386157,
          1.256401583999999,
          0.6282007919999995
         ],
         "yaxis": "y"
        },
        {
         "fillpattern": {
          "shape": ""
         },
         "hovertemplate": "Benchmark Type=Export<br>benchmark=014 Export join results to Pandas<br>DuckDB Version=%{x}<br>Time (seconds)=%{y}<extra></extra>",
         "legendgroup": "Export",
         "line": {
          "color": "#ab63fa"
         },
         "marker": {
          "symbol": "circle"
         },
         "mode": "lines",
         "name": "Export",
         "orientation": "v",
         "showlegend": false,
         "stackgroup": "1",
         "type": "scatter",
         "x": [
          "0.0.1",
          "0.0.2",
          "0.10.1"
         ],
         "xaxis": "x",
         "y": [
          50.07927741819829,
          30.103226000000006,
          15.051613000000003
         ],
         "yaxis": "y"
        },
        {
         "fillpattern": {
          "shape": ""
         },
         "hovertemplate": "Benchmark Type=Export<br>benchmark=015 Export join results to Arrow<br>DuckDB Version=%{x}<br>Time (seconds)=%{y}<extra></extra>",
         "legendgroup": "Export",
         "line": {
          "color": "#ab63fa"
         },
         "marker": {
          "symbol": "circle"
         },
         "mode": "lines",
         "name": "Export",
         "orientation": "v",
         "showlegend": false,
         "stackgroup": "1",
         "type": "scatter",
         "x": [
          "0.0.1",
          "0.0.2",
          "0.10.1"
         ],
         "xaxis": "x",
         "y": [
          15.272871647680683,
          9.557089917999988,
          4.778544958999994
         ],
         "yaxis": "y"
        }
       ],
       "layout": {
        "legend": {
         "title": {
          "text": "Benchmark Type"
         },
         "tracegroupgap": 0
        },
        "margin": {
         "t": 60
        },
        "template": {
         "data": {
          "bar": [
           {
            "error_x": {
             "color": "#2a3f5f"
            },
            "error_y": {
             "color": "#2a3f5f"
            },
            "marker": {
             "line": {
              "color": "white",
              "width": 0.5
             },
             "pattern": {
              "fillmode": "overlay",
              "size": 10,
              "solidity": 0.2
             }
            },
            "type": "bar"
           }
          ],
          "barpolar": [
           {
            "marker": {
             "line": {
              "color": "white",
              "width": 0.5
             },
             "pattern": {
              "fillmode": "overlay",
              "size": 10,
              "solidity": 0.2
             }
            },
            "type": "barpolar"
           }
          ],
          "carpet": [
           {
            "aaxis": {
             "endlinecolor": "#2a3f5f",
             "gridcolor": "#C8D4E3",
             "linecolor": "#C8D4E3",
             "minorgridcolor": "#C8D4E3",
             "startlinecolor": "#2a3f5f"
            },
            "baxis": {
             "endlinecolor": "#2a3f5f",
             "gridcolor": "#C8D4E3",
             "linecolor": "#C8D4E3",
             "minorgridcolor": "#C8D4E3",
             "startlinecolor": "#2a3f5f"
            },
            "type": "carpet"
           }
          ],
          "choropleth": [
           {
            "colorbar": {
             "outlinewidth": 0,
             "ticks": ""
            },
            "type": "choropleth"
           }
          ],
          "contour": [
           {
            "colorbar": {
             "outlinewidth": 0,
             "ticks": ""
            },
            "colorscale": [
             [
              0,
              "#0d0887"
             ],
             [
              0.1111111111111111,
              "#46039f"
             ],
             [
              0.2222222222222222,
              "#7201a8"
             ],
             [
              0.3333333333333333,
              "#9c179e"
             ],
             [
              0.4444444444444444,
              "#bd3786"
             ],
             [
              0.5555555555555556,
              "#d8576b"
             ],
             [
              0.6666666666666666,
              "#ed7953"
             ],
             [
              0.7777777777777778,
              "#fb9f3a"
             ],
             [
              0.8888888888888888,
              "#fdca26"
             ],
             [
              1,
              "#f0f921"
             ]
            ],
            "type": "contour"
           }
          ],
          "contourcarpet": [
           {
            "colorbar": {
             "outlinewidth": 0,
             "ticks": ""
            },
            "type": "contourcarpet"
           }
          ],
          "heatmap": [
           {
            "colorbar": {
             "outlinewidth": 0,
             "ticks": ""
            },
            "colorscale": [
             [
              0,
              "#0d0887"
             ],
             [
              0.1111111111111111,
              "#46039f"
             ],
             [
              0.2222222222222222,
              "#7201a8"
             ],
             [
              0.3333333333333333,
              "#9c179e"
             ],
             [
              0.4444444444444444,
              "#bd3786"
             ],
             [
              0.5555555555555556,
              "#d8576b"
             ],
             [
              0.6666666666666666,
              "#ed7953"
             ],
             [
              0.7777777777777778,
              "#fb9f3a"
             ],
             [
              0.8888888888888888,
              "#fdca26"
             ],
             [
              1,
              "#f0f921"
             ]
            ],
            "type": "heatmap"
           }
          ],
          "heatmapgl": [
           {
            "colorbar": {
             "outlinewidth": 0,
             "ticks": ""
            },
            "colorscale": [
             [
              0,
              "#0d0887"
             ],
             [
              0.1111111111111111,
              "#46039f"
             ],
             [
              0.2222222222222222,
              "#7201a8"
             ],
             [
              0.3333333333333333,
              "#9c179e"
             ],
             [
              0.4444444444444444,
              "#bd3786"
             ],
             [
              0.5555555555555556,
              "#d8576b"
             ],
             [
              0.6666666666666666,
              "#ed7953"
             ],
             [
              0.7777777777777778,
              "#fb9f3a"
             ],
             [
              0.8888888888888888,
              "#fdca26"
             ],
             [
              1,
              "#f0f921"
             ]
            ],
            "type": "heatmapgl"
           }
          ],
          "histogram": [
           {
            "marker": {
             "pattern": {
              "fillmode": "overlay",
              "size": 10,
              "solidity": 0.2
             }
            },
            "type": "histogram"
           }
          ],
          "histogram2d": [
           {
            "colorbar": {
             "outlinewidth": 0,
             "ticks": ""
            },
            "colorscale": [
             [
              0,
              "#0d0887"
             ],
             [
              0.1111111111111111,
              "#46039f"
             ],
             [
              0.2222222222222222,
              "#7201a8"
             ],
             [
              0.3333333333333333,
              "#9c179e"
             ],
             [
              0.4444444444444444,
              "#bd3786"
             ],
             [
              0.5555555555555556,
              "#d8576b"
             ],
             [
              0.6666666666666666,
              "#ed7953"
             ],
             [
              0.7777777777777778,
              "#fb9f3a"
             ],
             [
              0.8888888888888888,
              "#fdca26"
             ],
             [
              1,
              "#f0f921"
             ]
            ],
            "type": "histogram2d"
           }
          ],
          "histogram2dcontour": [
           {
            "colorbar": {
             "outlinewidth": 0,
             "ticks": ""
            },
            "colorscale": [
             [
              0,
              "#0d0887"
             ],
             [
              0.1111111111111111,
              "#46039f"
             ],
             [
              0.2222222222222222,
              "#7201a8"
             ],
             [
              0.3333333333333333,
              "#9c179e"
             ],
             [
              0.4444444444444444,
              "#bd3786"
             ],
             [
              0.5555555555555556,
              "#d8576b"
             ],
             [
              0.6666666666666666,
              "#ed7953"
             ],
             [
              0.7777777777777778,
              "#fb9f3a"
             ],
             [
              0.8888888888888888,
              "#fdca26"
             ],
             [
              1,
              "#f0f921"
             ]
            ],
            "type": "histogram2dcontour"
           }
          ],
          "mesh3d": [
           {
            "colorbar": {
             "outlinewidth": 0,
             "ticks": ""
            },
            "type": "mesh3d"
           }
          ],
          "parcoords": [
           {
            "line": {
             "colorbar": {
              "outlinewidth": 0,
              "ticks": ""
             }
            },
            "type": "parcoords"
           }
          ],
          "pie": [
           {
            "automargin": true,
            "type": "pie"
           }
          ],
          "scatter": [
           {
            "fillpattern": {
             "fillmode": "overlay",
             "size": 10,
             "solidity": 0.2
            },
            "type": "scatter"
           }
          ],
          "scatter3d": [
           {
            "line": {
             "colorbar": {
              "outlinewidth": 0,
              "ticks": ""
             }
            },
            "marker": {
             "colorbar": {
              "outlinewidth": 0,
              "ticks": ""
             }
            },
            "type": "scatter3d"
           }
          ],
          "scattercarpet": [
           {
            "marker": {
             "colorbar": {
              "outlinewidth": 0,
              "ticks": ""
             }
            },
            "type": "scattercarpet"
           }
          ],
          "scattergeo": [
           {
            "marker": {
             "colorbar": {
              "outlinewidth": 0,
              "ticks": ""
             }
            },
            "type": "scattergeo"
           }
          ],
          "scattergl": [
           {
            "marker": {
             "colorbar": {
              "outlinewidth": 0,
              "ticks": ""
             }
            },
            "type": "scattergl"
           }
          ],
          "scattermapbox": [
           {
            "marker": {
             "colorbar": {
              "outlinewidth": 0,
              "ticks": ""
             }
            },
            "type": "scattermapbox"
           }
          ],
          "scatterpolar": [
           {
            "marker": {
             "colorbar": {
              "outlinewidth": 0,
              "ticks": ""
             }
            },
            "type": "scatterpolar"
           }
          ],
          "scatterpolargl": [
           {
            "marker": {
             "colorbar": {
              "outlinewidth": 0,
              "ticks": ""
             }
            },
            "type": "scatterpolargl"
           }
          ],
          "scatterternary": [
           {
            "marker": {
             "colorbar": {
              "outlinewidth": 0,
              "ticks": ""
             }
            },
            "type": "scatterternary"
           }
          ],
          "surface": [
           {
            "colorbar": {
             "outlinewidth": 0,
             "ticks": ""
            },
            "colorscale": [
             [
              0,
              "#0d0887"
             ],
             [
              0.1111111111111111,
              "#46039f"
             ],
             [
              0.2222222222222222,
              "#7201a8"
             ],
             [
              0.3333333333333333,
              "#9c179e"
             ],
             [
              0.4444444444444444,
              "#bd3786"
             ],
             [
              0.5555555555555556,
              "#d8576b"
             ],
             [
              0.6666666666666666,
              "#ed7953"
             ],
             [
              0.7777777777777778,
              "#fb9f3a"
             ],
             [
              0.8888888888888888,
              "#fdca26"
             ],
             [
              1,
              "#f0f921"
             ]
            ],
            "type": "surface"
           }
          ],
          "table": [
           {
            "cells": {
             "fill": {
              "color": "#EBF0F8"
             },
             "line": {
              "color": "white"
             }
            },
            "header": {
             "fill": {
              "color": "#C8D4E3"
             },
             "line": {
              "color": "white"
             }
            },
            "type": "table"
           }
          ]
         },
         "layout": {
          "annotationdefaults": {
           "arrowcolor": "#2a3f5f",
           "arrowhead": 0,
           "arrowwidth": 1
          },
          "autotypenumbers": "strict",
          "coloraxis": {
           "colorbar": {
            "outlinewidth": 0,
            "ticks": ""
           }
          },
          "colorscale": {
           "diverging": [
            [
             0,
             "#8e0152"
            ],
            [
             0.1,
             "#c51b7d"
            ],
            [
             0.2,
             "#de77ae"
            ],
            [
             0.3,
             "#f1b6da"
            ],
            [
             0.4,
             "#fde0ef"
            ],
            [
             0.5,
             "#f7f7f7"
            ],
            [
             0.6,
             "#e6f5d0"
            ],
            [
             0.7,
             "#b8e186"
            ],
            [
             0.8,
             "#7fbc41"
            ],
            [
             0.9,
             "#4d9221"
            ],
            [
             1,
             "#276419"
            ]
           ],
           "sequential": [
            [
             0,
             "#0d0887"
            ],
            [
             0.1111111111111111,
             "#46039f"
            ],
            [
             0.2222222222222222,
             "#7201a8"
            ],
            [
             0.3333333333333333,
             "#9c179e"
            ],
            [
             0.4444444444444444,
             "#bd3786"
            ],
            [
             0.5555555555555556,
             "#d8576b"
            ],
            [
             0.6666666666666666,
             "#ed7953"
            ],
            [
             0.7777777777777778,
             "#fb9f3a"
            ],
            [
             0.8888888888888888,
             "#fdca26"
            ],
            [
             1,
             "#f0f921"
            ]
           ],
           "sequentialminus": [
            [
             0,
             "#0d0887"
            ],
            [
             0.1111111111111111,
             "#46039f"
            ],
            [
             0.2222222222222222,
             "#7201a8"
            ],
            [
             0.3333333333333333,
             "#9c179e"
            ],
            [
             0.4444444444444444,
             "#bd3786"
            ],
            [
             0.5555555555555556,
             "#d8576b"
            ],
            [
             0.6666666666666666,
             "#ed7953"
            ],
            [
             0.7777777777777778,
             "#fb9f3a"
            ],
            [
             0.8888888888888888,
             "#fdca26"
            ],
            [
             1,
             "#f0f921"
            ]
           ]
          },
          "colorway": [
           "#636efa",
           "#EF553B",
           "#00cc96",
           "#ab63fa",
           "#FFA15A",
           "#19d3f3",
           "#FF6692",
           "#B6E880",
           "#FF97FF",
           "#FECB52"
          ],
          "font": {
           "color": "#2a3f5f"
          },
          "geo": {
           "bgcolor": "white",
           "lakecolor": "white",
           "landcolor": "white",
           "showlakes": true,
           "showland": true,
           "subunitcolor": "#C8D4E3"
          },
          "hoverlabel": {
           "align": "left"
          },
          "hovermode": "closest",
          "mapbox": {
           "style": "light"
          },
          "paper_bgcolor": "white",
          "plot_bgcolor": "white",
          "polar": {
           "angularaxis": {
            "gridcolor": "#EBF0F8",
            "linecolor": "#EBF0F8",
            "ticks": ""
           },
           "bgcolor": "white",
           "radialaxis": {
            "gridcolor": "#EBF0F8",
            "linecolor": "#EBF0F8",
            "ticks": ""
           }
          },
          "scene": {
           "xaxis": {
            "backgroundcolor": "white",
            "gridcolor": "#DFE8F3",
            "gridwidth": 2,
            "linecolor": "#EBF0F8",
            "showbackground": true,
            "ticks": "",
            "zerolinecolor": "#EBF0F8"
           },
           "yaxis": {
            "backgroundcolor": "white",
            "gridcolor": "#DFE8F3",
            "gridwidth": 2,
            "linecolor": "#EBF0F8",
            "showbackground": true,
            "ticks": "",
            "zerolinecolor": "#EBF0F8"
           },
           "zaxis": {
            "backgroundcolor": "white",
            "gridcolor": "#DFE8F3",
            "gridwidth": 2,
            "linecolor": "#EBF0F8",
            "showbackground": true,
            "ticks": "",
            "zerolinecolor": "#EBF0F8"
           }
          },
          "shapedefaults": {
           "line": {
            "color": "#2a3f5f"
           }
          },
          "ternary": {
           "aaxis": {
            "gridcolor": "#DFE8F3",
            "linecolor": "#A2B1C6",
            "ticks": ""
           },
           "baxis": {
            "gridcolor": "#DFE8F3",
            "linecolor": "#A2B1C6",
            "ticks": ""
           },
           "bgcolor": "white",
           "caxis": {
            "gridcolor": "#DFE8F3",
            "linecolor": "#A2B1C6",
            "ticks": ""
           }
          },
          "title": {
           "x": 0.05
          },
          "xaxis": {
           "automargin": true,
           "gridcolor": "#EBF0F8",
           "linecolor": "#EBF0F8",
           "ticks": "",
           "title": {
            "standoff": 15
           },
           "zerolinecolor": "#EBF0F8",
           "zerolinewidth": 2
          },
          "yaxis": {
           "automargin": true,
           "gridcolor": "#EBF0F8",
           "linecolor": "#EBF0F8",
           "ticks": "",
           "title": {
            "standoff": 15
           },
           "zerolinecolor": "#EBF0F8",
           "zerolinewidth": 2
          }
         }
        },
        "xaxis": {
         "anchor": "y",
         "domain": [
          0,
          1
         ],
         "title": {
          "text": "DuckDB Version"
         }
        },
        "yaxis": {
         "anchor": "x",
         "domain": [
          0,
          1
         ],
         "title": {
          "text": "Time (seconds)"
         }
        }
       }
      }
     },
     "metadata": {},
     "output_type": "display_data"
    }
   ],
   "source": [
    "fig = px.area(\n",
    "    results,\n",
    "    x=\"DuckDB Version\",\n",
    "    y=\"Time (seconds)\",\n",
    "    color=\"Benchmark Type\",\n",
    "    line_group=\"benchmark\",\n",
    "    category_orders={\"Benchmark Type\":[\"CSV Import\",\"Scan other formats\",\"Analysis\",\"Export\"]},\n",
    "    template='plotly_white'\n",
    ")\n",
    "fig.show()"
   ]
  },
  {
   "cell_type": "code",
   "execution_count": 53,
   "metadata": {},
   "outputs": [
    {
     "data": {
      "application/vnd.plotly.v1+json": {
       "config": {
        "plotlyServerURL": "https://plot.ly"
       },
       "data": [
        {
         "fillpattern": {
          "shape": ""
         },
         "hovertemplate": "Benchmark Type=CSV Import<br>benchmark=002 Create table from csv<br>DuckDB Version=%{x}<br>Time Relative to Latest Version=%{y}<extra></extra>",
         "legendgroup": "CSV Import",
         "line": {
          "color": "#636efa"
         },
         "marker": {
          "symbol": "circle"
         },
         "mode": "lines",
         "name": "CSV Import",
         "orientation": "v",
         "showlegend": true,
         "stackgroup": "1",
         "type": "scatter",
         "x": [
          "0.0.1",
          "0.0.2",
          "0.10.1"
         ],
         "xaxis": "x",
         "y": [
          0.15235204410880984,
          0.09410379715733114,
          0.04705189857866557
         ],
         "yaxis": "y"
        },
        {
         "fillpattern": {
          "shape": ""
         },
         "hovertemplate": "Benchmark Type=CSV Import<br>benchmark=011 Create tables from csvs joins<br>DuckDB Version=%{x}<br>Time Relative to Latest Version=%{y}<extra></extra>",
         "legendgroup": "CSV Import",
         "line": {
          "color": "#636efa"
         },
         "marker": {
          "symbol": "circle"
         },
         "mode": "lines",
         "name": "CSV Import",
         "orientation": "v",
         "showlegend": false,
         "stackgroup": "1",
         "type": "scatter",
         "x": [
          "0.0.1",
          "0.0.2",
          "0.10.1"
         ],
         "xaxis": "x",
         "y": [
          0.4569485937966871,
          0.23424079282487137,
          0.11712039641243568
         ],
         "yaxis": "y"
        },
        {
         "fillpattern": {
          "shape": ""
         },
         "hovertemplate": "Benchmark Type=Scan other formats<br>benchmark=001 Query pandas<br>DuckDB Version=%{x}<br>Time Relative to Latest Version=%{y}<extra></extra>",
         "legendgroup": "Scan other formats",
         "line": {
          "color": "#EF553B"
         },
         "marker": {
          "symbol": "circle"
         },
         "mode": "lines",
         "name": "Scan other formats",
         "orientation": "v",
         "showlegend": true,
         "stackgroup": "1",
         "type": "scatter",
         "x": [
          "0.0.1",
          "0.0.2",
          "0.10.1"
         ],
         "xaxis": "x",
         "y": [
          0.0007533066233590299,
          0.00041977788255539105,
          0.00020988894127769552
         ],
         "yaxis": "y"
        },
        {
         "fillpattern": {
          "shape": ""
         },
         "hovertemplate": "Benchmark Type=Scan other formats<br>benchmark=006 Scan and aggregate over Pandas df<br>DuckDB Version=%{x}<br>Time Relative to Latest Version=%{y}<extra></extra>",
         "legendgroup": "Scan other formats",
         "line": {
          "color": "#EF553B"
         },
         "marker": {
          "symbol": "circle"
         },
         "mode": "lines",
         "name": "Scan other formats",
         "orientation": "v",
         "showlegend": false,
         "stackgroup": "1",
         "type": "scatter",
         "x": [
          "0.0.1",
          "0.0.2",
          "0.10.1"
         ],
         "xaxis": "x",
         "y": [
          0.0008551039849625089,
          0.0005422700825453221,
          0.00027113504127266106
         ],
         "yaxis": "y"
        },
        {
         "fillpattern": {
          "shape": ""
         },
         "hovertemplate": "Benchmark Type=Scan other formats<br>benchmark=008 Scan and aggregate over Parquet file<br>DuckDB Version=%{x}<br>Time Relative to Latest Version=%{y}<extra></extra>",
         "legendgroup": "Scan other formats",
         "line": {
          "color": "#EF553B"
         },
         "marker": {
          "symbol": "circle"
         },
         "mode": "lines",
         "name": "Scan other formats",
         "orientation": "v",
         "showlegend": false,
         "stackgroup": "1",
         "type": "scatter",
         "x": [
          "0.0.1",
          "0.0.2",
          "0.10.1"
         ],
         "xaxis": "x",
         "y": [
          0.0014728265730732664,
          0.0009237956859998416,
          0.0004618978429999208
         ],
         "yaxis": "y"
        },
        {
         "fillpattern": {
          "shape": ""
         },
         "hovertemplate": "Benchmark Type=Scan other formats<br>benchmark=010 Scan and aggregate over Arrow df<br>DuckDB Version=%{x}<br>Time Relative to Latest Version=%{y}<extra></extra>",
         "legendgroup": "Scan other formats",
         "line": {
          "color": "#EF553B"
         },
         "marker": {
          "symbol": "circle"
         },
         "mode": "lines",
         "name": "Scan other formats",
         "orientation": "v",
         "showlegend": false,
         "stackgroup": "1",
         "type": "scatter",
         "x": [
          "0.0.1",
          "0.0.2",
          "0.10.1"
         ],
         "xaxis": "x",
         "y": [
          0.004750837440380435,
          0.003092807578284415,
          0.0015464037891422075
         ],
         "yaxis": "y"
        },
        {
         "fillpattern": {
          "shape": ""
         },
         "hovertemplate": "Benchmark Type=Analysis<br>benchmark=003 Convert to Enums<br>DuckDB Version=%{x}<br>Time Relative to Latest Version=%{y}<extra></extra>",
         "legendgroup": "Analysis",
         "line": {
          "color": "#00cc96"
         },
         "marker": {
          "symbol": "circle"
         },
         "mode": "lines",
         "name": "Analysis",
         "orientation": "v",
         "showlegend": true,
         "stackgroup": "1",
         "type": "scatter",
         "x": [
          "0.0.1",
          "0.0.2",
          "0.10.1"
         ],
         "xaxis": "x",
         "y": [
          0.07815944672853847,
          0.04825285977367588,
          0.02412642988683794
         ],
         "yaxis": "y"
        },
        {
         "fillpattern": {
          "shape": ""
         },
         "hovertemplate": "Benchmark Type=Analysis<br>benchmark=004 Group by queries<br>DuckDB Version=%{x}<br>Time Relative to Latest Version=%{y}<extra></extra>",
         "legendgroup": "Analysis",
         "line": {
          "color": "#00cc96"
         },
         "marker": {
          "symbol": "circle"
         },
         "mode": "lines",
         "name": "Analysis",
         "orientation": "v",
         "showlegend": false,
         "stackgroup": "1",
         "type": "scatter",
         "x": [
          "0.0.1",
          "0.0.2",
          "0.10.1"
         ],
         "xaxis": "x",
         "y": [
          0.14842328636068244,
          0.09135173450115712,
          0.04567586725057856
         ],
         "yaxis": "y"
        },
        {
         "fillpattern": {
          "shape": ""
         },
         "hovertemplate": "Benchmark Type=Analysis<br>benchmark=012 Convert to Enums for joins<br>DuckDB Version=%{x}<br>Time Relative to Latest Version=%{y}<extra></extra>",
         "legendgroup": "Analysis",
         "line": {
          "color": "#00cc96"
         },
         "marker": {
          "symbol": "circle"
         },
         "mode": "lines",
         "name": "Analysis",
         "orientation": "v",
         "showlegend": false,
         "stackgroup": "1",
         "type": "scatter",
         "x": [
          "0.0.1",
          "0.0.2",
          "0.10.1"
         ],
         "xaxis": "x",
         "y": [
          0.35757753151235416,
          0.19246176663294007,
          0.09623088331647003
         ],
         "yaxis": "y"
        },
        {
         "fillpattern": {
          "shape": ""
         },
         "hovertemplate": "Benchmark Type=Analysis<br>benchmark=013 Join queries<br>DuckDB Version=%{x}<br>Time Relative to Latest Version=%{y}<extra></extra>",
         "legendgroup": "Analysis",
         "line": {
          "color": "#00cc96"
         },
         "marker": {
          "symbol": "circle"
         },
         "mode": "lines",
         "name": "Analysis",
         "orientation": "v",
         "showlegend": false,
         "stackgroup": "1",
         "type": "scatter",
         "x": [
          "0.0.1",
          "0.0.2",
          "0.10.1"
         ],
         "xaxis": "x",
         "y": [
          0.6185202342161322,
          0.37000560287602613,
          0.18500280143801306
         ],
         "yaxis": "y"
        },
        {
         "fillpattern": {
          "shape": ""
         },
         "hovertemplate": "Benchmark Type=Export<br>benchmark=005 Export group by results to Pandas<br>DuckDB Version=%{x}<br>Time Relative to Latest Version=%{y}<extra></extra>",
         "legendgroup": "Export",
         "line": {
          "color": "#ab63fa"
         },
         "marker": {
          "symbol": "circle"
         },
         "mode": "lines",
         "name": "Export",
         "orientation": "v",
         "showlegend": true,
         "stackgroup": "1",
         "type": "scatter",
         "x": [
          "0.0.1",
          "0.0.2",
          "0.10.1"
         ],
         "xaxis": "x",
         "y": [
          0.1064376691677083,
          0.06457299984888697,
          0.03228649992444348
         ],
         "yaxis": "y"
        },
        {
         "fillpattern": {
          "shape": ""
         },
         "hovertemplate": "Benchmark Type=Export<br>benchmark=007 Export group by results to Parquet<br>DuckDB Version=%{x}<br>Time Relative to Latest Version=%{y}<extra></extra>",
         "legendgroup": "Export",
         "line": {
          "color": "#ab63fa"
         },
         "marker": {
          "symbol": "circle"
         },
         "mode": "lines",
         "name": "Export",
         "orientation": "v",
         "showlegend": false,
         "stackgroup": "1",
         "type": "scatter",
         "x": [
          "0.0.1",
          "0.0.2",
          "0.10.1"
         ],
         "xaxis": "x",
         "y": [
          0.1787180159375378,
          0.09858529270660465,
          0.04929264635330233
         ],
         "yaxis": "y"
        },
        {
         "fillpattern": {
          "shape": ""
         },
         "hovertemplate": "Benchmark Type=Export<br>benchmark=009 Export group by results to Arrow<br>DuckDB Version=%{x}<br>Time Relative to Latest Version=%{y}<extra></extra>",
         "legendgroup": "Export",
         "line": {
          "color": "#ab63fa"
         },
         "marker": {
          "symbol": "circle"
         },
         "mode": "lines",
         "name": "Export",
         "orientation": "v",
         "showlegend": false,
         "stackgroup": "1",
         "type": "scatter",
         "x": [
          "0.0.1",
          "0.0.2",
          "0.10.1"
         ],
         "xaxis": "x",
         "y": [
          0.048788518180661884,
          0.02460946812556791,
          0.012304734062783955
         ],
         "yaxis": "y"
        },
        {
         "fillpattern": {
          "shape": ""
         },
         "hovertemplate": "Benchmark Type=Export<br>benchmark=014 Export join results to Pandas<br>DuckDB Version=%{x}<br>Time Relative to Latest Version=%{y}<extra></extra>",
         "legendgroup": "Export",
         "line": {
          "color": "#ab63fa"
         },
         "marker": {
          "symbol": "circle"
         },
         "mode": "lines",
         "name": "Export",
         "orientation": "v",
         "showlegend": false,
         "stackgroup": "1",
         "type": "scatter",
         "x": [
          "0.0.1",
          "0.0.2",
          "0.10.1"
         ],
         "xaxis": "x",
         "y": [
          1.1186022884941142,
          0.5896398016032491,
          0.29481990080162457
         ],
         "yaxis": "y"
        },
        {
         "fillpattern": {
          "shape": ""
         },
         "hovertemplate": "Benchmark Type=Export<br>benchmark=015 Export join results to Arrow<br>DuckDB Version=%{x}<br>Time Relative to Latest Version=%{y}<extra></extra>",
         "legendgroup": "Export",
         "line": {
          "color": "#ab63fa"
         },
         "marker": {
          "symbol": "circle"
         },
         "mode": "lines",
         "name": "Export",
         "orientation": "v",
         "showlegend": false,
         "stackgroup": "1",
         "type": "scatter",
         "x": [
          "0.0.1",
          "0.0.2",
          "0.10.1"
         ],
         "xaxis": "x",
         "y": [
          0.3708916425046578,
          0.1871972327203046,
          0.0935986163601523
         ],
         "yaxis": "y"
        }
       ],
       "layout": {
        "legend": {
         "title": {
          "text": "Benchmark Type"
         },
         "tracegroupgap": 0
        },
        "margin": {
         "t": 60
        },
        "template": {
         "data": {
          "bar": [
           {
            "error_x": {
             "color": "#2a3f5f"
            },
            "error_y": {
             "color": "#2a3f5f"
            },
            "marker": {
             "line": {
              "color": "white",
              "width": 0.5
             },
             "pattern": {
              "fillmode": "overlay",
              "size": 10,
              "solidity": 0.2
             }
            },
            "type": "bar"
           }
          ],
          "barpolar": [
           {
            "marker": {
             "line": {
              "color": "white",
              "width": 0.5
             },
             "pattern": {
              "fillmode": "overlay",
              "size": 10,
              "solidity": 0.2
             }
            },
            "type": "barpolar"
           }
          ],
          "carpet": [
           {
            "aaxis": {
             "endlinecolor": "#2a3f5f",
             "gridcolor": "#C8D4E3",
             "linecolor": "#C8D4E3",
             "minorgridcolor": "#C8D4E3",
             "startlinecolor": "#2a3f5f"
            },
            "baxis": {
             "endlinecolor": "#2a3f5f",
             "gridcolor": "#C8D4E3",
             "linecolor": "#C8D4E3",
             "minorgridcolor": "#C8D4E3",
             "startlinecolor": "#2a3f5f"
            },
            "type": "carpet"
           }
          ],
          "choropleth": [
           {
            "colorbar": {
             "outlinewidth": 0,
             "ticks": ""
            },
            "type": "choropleth"
           }
          ],
          "contour": [
           {
            "colorbar": {
             "outlinewidth": 0,
             "ticks": ""
            },
            "colorscale": [
             [
              0,
              "#0d0887"
             ],
             [
              0.1111111111111111,
              "#46039f"
             ],
             [
              0.2222222222222222,
              "#7201a8"
             ],
             [
              0.3333333333333333,
              "#9c179e"
             ],
             [
              0.4444444444444444,
              "#bd3786"
             ],
             [
              0.5555555555555556,
              "#d8576b"
             ],
             [
              0.6666666666666666,
              "#ed7953"
             ],
             [
              0.7777777777777778,
              "#fb9f3a"
             ],
             [
              0.8888888888888888,
              "#fdca26"
             ],
             [
              1,
              "#f0f921"
             ]
            ],
            "type": "contour"
           }
          ],
          "contourcarpet": [
           {
            "colorbar": {
             "outlinewidth": 0,
             "ticks": ""
            },
            "type": "contourcarpet"
           }
          ],
          "heatmap": [
           {
            "colorbar": {
             "outlinewidth": 0,
             "ticks": ""
            },
            "colorscale": [
             [
              0,
              "#0d0887"
             ],
             [
              0.1111111111111111,
              "#46039f"
             ],
             [
              0.2222222222222222,
              "#7201a8"
             ],
             [
              0.3333333333333333,
              "#9c179e"
             ],
             [
              0.4444444444444444,
              "#bd3786"
             ],
             [
              0.5555555555555556,
              "#d8576b"
             ],
             [
              0.6666666666666666,
              "#ed7953"
             ],
             [
              0.7777777777777778,
              "#fb9f3a"
             ],
             [
              0.8888888888888888,
              "#fdca26"
             ],
             [
              1,
              "#f0f921"
             ]
            ],
            "type": "heatmap"
           }
          ],
          "heatmapgl": [
           {
            "colorbar": {
             "outlinewidth": 0,
             "ticks": ""
            },
            "colorscale": [
             [
              0,
              "#0d0887"
             ],
             [
              0.1111111111111111,
              "#46039f"
             ],
             [
              0.2222222222222222,
              "#7201a8"
             ],
             [
              0.3333333333333333,
              "#9c179e"
             ],
             [
              0.4444444444444444,
              "#bd3786"
             ],
             [
              0.5555555555555556,
              "#d8576b"
             ],
             [
              0.6666666666666666,
              "#ed7953"
             ],
             [
              0.7777777777777778,
              "#fb9f3a"
             ],
             [
              0.8888888888888888,
              "#fdca26"
             ],
             [
              1,
              "#f0f921"
             ]
            ],
            "type": "heatmapgl"
           }
          ],
          "histogram": [
           {
            "marker": {
             "pattern": {
              "fillmode": "overlay",
              "size": 10,
              "solidity": 0.2
             }
            },
            "type": "histogram"
           }
          ],
          "histogram2d": [
           {
            "colorbar": {
             "outlinewidth": 0,
             "ticks": ""
            },
            "colorscale": [
             [
              0,
              "#0d0887"
             ],
             [
              0.1111111111111111,
              "#46039f"
             ],
             [
              0.2222222222222222,
              "#7201a8"
             ],
             [
              0.3333333333333333,
              "#9c179e"
             ],
             [
              0.4444444444444444,
              "#bd3786"
             ],
             [
              0.5555555555555556,
              "#d8576b"
             ],
             [
              0.6666666666666666,
              "#ed7953"
             ],
             [
              0.7777777777777778,
              "#fb9f3a"
             ],
             [
              0.8888888888888888,
              "#fdca26"
             ],
             [
              1,
              "#f0f921"
             ]
            ],
            "type": "histogram2d"
           }
          ],
          "histogram2dcontour": [
           {
            "colorbar": {
             "outlinewidth": 0,
             "ticks": ""
            },
            "colorscale": [
             [
              0,
              "#0d0887"
             ],
             [
              0.1111111111111111,
              "#46039f"
             ],
             [
              0.2222222222222222,
              "#7201a8"
             ],
             [
              0.3333333333333333,
              "#9c179e"
             ],
             [
              0.4444444444444444,
              "#bd3786"
             ],
             [
              0.5555555555555556,
              "#d8576b"
             ],
             [
              0.6666666666666666,
              "#ed7953"
             ],
             [
              0.7777777777777778,
              "#fb9f3a"
             ],
             [
              0.8888888888888888,
              "#fdca26"
             ],
             [
              1,
              "#f0f921"
             ]
            ],
            "type": "histogram2dcontour"
           }
          ],
          "mesh3d": [
           {
            "colorbar": {
             "outlinewidth": 0,
             "ticks": ""
            },
            "type": "mesh3d"
           }
          ],
          "parcoords": [
           {
            "line": {
             "colorbar": {
              "outlinewidth": 0,
              "ticks": ""
             }
            },
            "type": "parcoords"
           }
          ],
          "pie": [
           {
            "automargin": true,
            "type": "pie"
           }
          ],
          "scatter": [
           {
            "fillpattern": {
             "fillmode": "overlay",
             "size": 10,
             "solidity": 0.2
            },
            "type": "scatter"
           }
          ],
          "scatter3d": [
           {
            "line": {
             "colorbar": {
              "outlinewidth": 0,
              "ticks": ""
             }
            },
            "marker": {
             "colorbar": {
              "outlinewidth": 0,
              "ticks": ""
             }
            },
            "type": "scatter3d"
           }
          ],
          "scattercarpet": [
           {
            "marker": {
             "colorbar": {
              "outlinewidth": 0,
              "ticks": ""
             }
            },
            "type": "scattercarpet"
           }
          ],
          "scattergeo": [
           {
            "marker": {
             "colorbar": {
              "outlinewidth": 0,
              "ticks": ""
             }
            },
            "type": "scattergeo"
           }
          ],
          "scattergl": [
           {
            "marker": {
             "colorbar": {
              "outlinewidth": 0,
              "ticks": ""
             }
            },
            "type": "scattergl"
           }
          ],
          "scattermapbox": [
           {
            "marker": {
             "colorbar": {
              "outlinewidth": 0,
              "ticks": ""
             }
            },
            "type": "scattermapbox"
           }
          ],
          "scatterpolar": [
           {
            "marker": {
             "colorbar": {
              "outlinewidth": 0,
              "ticks": ""
             }
            },
            "type": "scatterpolar"
           }
          ],
          "scatterpolargl": [
           {
            "marker": {
             "colorbar": {
              "outlinewidth": 0,
              "ticks": ""
             }
            },
            "type": "scatterpolargl"
           }
          ],
          "scatterternary": [
           {
            "marker": {
             "colorbar": {
              "outlinewidth": 0,
              "ticks": ""
             }
            },
            "type": "scatterternary"
           }
          ],
          "surface": [
           {
            "colorbar": {
             "outlinewidth": 0,
             "ticks": ""
            },
            "colorscale": [
             [
              0,
              "#0d0887"
             ],
             [
              0.1111111111111111,
              "#46039f"
             ],
             [
              0.2222222222222222,
              "#7201a8"
             ],
             [
              0.3333333333333333,
              "#9c179e"
             ],
             [
              0.4444444444444444,
              "#bd3786"
             ],
             [
              0.5555555555555556,
              "#d8576b"
             ],
             [
              0.6666666666666666,
              "#ed7953"
             ],
             [
              0.7777777777777778,
              "#fb9f3a"
             ],
             [
              0.8888888888888888,
              "#fdca26"
             ],
             [
              1,
              "#f0f921"
             ]
            ],
            "type": "surface"
           }
          ],
          "table": [
           {
            "cells": {
             "fill": {
              "color": "#EBF0F8"
             },
             "line": {
              "color": "white"
             }
            },
            "header": {
             "fill": {
              "color": "#C8D4E3"
             },
             "line": {
              "color": "white"
             }
            },
            "type": "table"
           }
          ]
         },
         "layout": {
          "annotationdefaults": {
           "arrowcolor": "#2a3f5f",
           "arrowhead": 0,
           "arrowwidth": 1
          },
          "autotypenumbers": "strict",
          "coloraxis": {
           "colorbar": {
            "outlinewidth": 0,
            "ticks": ""
           }
          },
          "colorscale": {
           "diverging": [
            [
             0,
             "#8e0152"
            ],
            [
             0.1,
             "#c51b7d"
            ],
            [
             0.2,
             "#de77ae"
            ],
            [
             0.3,
             "#f1b6da"
            ],
            [
             0.4,
             "#fde0ef"
            ],
            [
             0.5,
             "#f7f7f7"
            ],
            [
             0.6,
             "#e6f5d0"
            ],
            [
             0.7,
             "#b8e186"
            ],
            [
             0.8,
             "#7fbc41"
            ],
            [
             0.9,
             "#4d9221"
            ],
            [
             1,
             "#276419"
            ]
           ],
           "sequential": [
            [
             0,
             "#0d0887"
            ],
            [
             0.1111111111111111,
             "#46039f"
            ],
            [
             0.2222222222222222,
             "#7201a8"
            ],
            [
             0.3333333333333333,
             "#9c179e"
            ],
            [
             0.4444444444444444,
             "#bd3786"
            ],
            [
             0.5555555555555556,
             "#d8576b"
            ],
            [
             0.6666666666666666,
             "#ed7953"
            ],
            [
             0.7777777777777778,
             "#fb9f3a"
            ],
            [
             0.8888888888888888,
             "#fdca26"
            ],
            [
             1,
             "#f0f921"
            ]
           ],
           "sequentialminus": [
            [
             0,
             "#0d0887"
            ],
            [
             0.1111111111111111,
             "#46039f"
            ],
            [
             0.2222222222222222,
             "#7201a8"
            ],
            [
             0.3333333333333333,
             "#9c179e"
            ],
            [
             0.4444444444444444,
             "#bd3786"
            ],
            [
             0.5555555555555556,
             "#d8576b"
            ],
            [
             0.6666666666666666,
             "#ed7953"
            ],
            [
             0.7777777777777778,
             "#fb9f3a"
            ],
            [
             0.8888888888888888,
             "#fdca26"
            ],
            [
             1,
             "#f0f921"
            ]
           ]
          },
          "colorway": [
           "#636efa",
           "#EF553B",
           "#00cc96",
           "#ab63fa",
           "#FFA15A",
           "#19d3f3",
           "#FF6692",
           "#B6E880",
           "#FF97FF",
           "#FECB52"
          ],
          "font": {
           "color": "#2a3f5f"
          },
          "geo": {
           "bgcolor": "white",
           "lakecolor": "white",
           "landcolor": "white",
           "showlakes": true,
           "showland": true,
           "subunitcolor": "#C8D4E3"
          },
          "hoverlabel": {
           "align": "left"
          },
          "hovermode": "closest",
          "mapbox": {
           "style": "light"
          },
          "paper_bgcolor": "white",
          "plot_bgcolor": "white",
          "polar": {
           "angularaxis": {
            "gridcolor": "#EBF0F8",
            "linecolor": "#EBF0F8",
            "ticks": ""
           },
           "bgcolor": "white",
           "radialaxis": {
            "gridcolor": "#EBF0F8",
            "linecolor": "#EBF0F8",
            "ticks": ""
           }
          },
          "scene": {
           "xaxis": {
            "backgroundcolor": "white",
            "gridcolor": "#DFE8F3",
            "gridwidth": 2,
            "linecolor": "#EBF0F8",
            "showbackground": true,
            "ticks": "",
            "zerolinecolor": "#EBF0F8"
           },
           "yaxis": {
            "backgroundcolor": "white",
            "gridcolor": "#DFE8F3",
            "gridwidth": 2,
            "linecolor": "#EBF0F8",
            "showbackground": true,
            "ticks": "",
            "zerolinecolor": "#EBF0F8"
           },
           "zaxis": {
            "backgroundcolor": "white",
            "gridcolor": "#DFE8F3",
            "gridwidth": 2,
            "linecolor": "#EBF0F8",
            "showbackground": true,
            "ticks": "",
            "zerolinecolor": "#EBF0F8"
           }
          },
          "shapedefaults": {
           "line": {
            "color": "#2a3f5f"
           }
          },
          "ternary": {
           "aaxis": {
            "gridcolor": "#DFE8F3",
            "linecolor": "#A2B1C6",
            "ticks": ""
           },
           "baxis": {
            "gridcolor": "#DFE8F3",
            "linecolor": "#A2B1C6",
            "ticks": ""
           },
           "bgcolor": "white",
           "caxis": {
            "gridcolor": "#DFE8F3",
            "linecolor": "#A2B1C6",
            "ticks": ""
           }
          },
          "title": {
           "x": 0.05
          },
          "xaxis": {
           "automargin": true,
           "gridcolor": "#EBF0F8",
           "linecolor": "#EBF0F8",
           "ticks": "",
           "title": {
            "standoff": 15
           },
           "zerolinecolor": "#EBF0F8",
           "zerolinewidth": 2
          },
          "yaxis": {
           "automargin": true,
           "gridcolor": "#EBF0F8",
           "linecolor": "#EBF0F8",
           "ticks": "",
           "title": {
            "standoff": 15
           },
           "zerolinecolor": "#EBF0F8",
           "zerolinewidth": 2
          }
         }
        },
        "xaxis": {
         "anchor": "y",
         "domain": [
          0,
          1
         ],
         "title": {
          "text": "DuckDB Version"
         }
        },
        "yaxis": {
         "anchor": "x",
         "domain": [
          0,
          1
         ],
         "title": {
          "text": "Time Relative to Latest Version"
         }
        }
       }
      }
     },
     "metadata": {},
     "output_type": "display_data"
    }
   ],
   "source": [
    "fig = px.area(\n",
    "    results,\n",
    "    x=\"DuckDB Version\",\n",
    "    y=\"Time Relative to Latest Version\",\n",
    "    color=\"Benchmark Type\",\n",
    "    line_group=\"benchmark\",\n",
    "    category_orders={\"Benchmark Type\":[\"CSV Import\",\"Scan other formats\",\"Analysis\",\"Export\"]},\n",
    "    template='plotly_white'\n",
    ")\n",
    "fig.show()"
   ]
  },
  {
   "cell_type": "markdown",
   "metadata": {},
   "source": [
    "## Brainstorming\n",
    "- Total time area plot\n",
    "- Relative time area plot (with current as 1, scaling the rest off of that)\n",
    "    - Grouping related operations together\n",
    "        - Maybe grouping by type (export to pandas)\n",
    "        - Maybe grouping by task (group by tests)\n",
    "        - Group by \"importing, querying, exporting\" to show the whole burger idea\n",
    "    - Likely need to filter things down\n",
    "    - Choosing between Pandas and Arrow whenever Arrow was faster\n",
    "- Annotating the charts to show what improved with each version\n",
    "\n",
    "- Max data scale plot\n",
    "    - Likely need more than just 2 datasets (10 million, 100 million, 1 billion, 10 billion?) Likely unable to generate 10 billion locally with this script.\n",
    "    - Probably want a column chart with group by and join as the 2 types of bars (alternating group by / join for each version showing the max it can handle? Or maybe a line chart)\n"
   ]
  },
  {
   "cell_type": "markdown",
   "metadata": {},
   "source": [
    "# TODO: Pre-process into median time"
   ]
  },
  {
   "cell_type": "code",
   "execution_count": null,
   "metadata": {},
   "outputs": [],
   "source": []
  }
 ],
 "metadata": {
  "kernelspec": {
   "display_name": "benchmark_env",
   "language": "python",
   "name": "python3"
  },
  "language_info": {
   "codemirror_mode": {
    "name": "ipython",
    "version": 3
   },
   "file_extension": ".py",
   "mimetype": "text/x-python",
   "name": "python",
   "nbconvert_exporter": "python",
   "pygments_lexer": "ipython3",
   "version": "3.11.8"
  }
 },
 "nbformat": 4,
 "nbformat_minor": 2
}
