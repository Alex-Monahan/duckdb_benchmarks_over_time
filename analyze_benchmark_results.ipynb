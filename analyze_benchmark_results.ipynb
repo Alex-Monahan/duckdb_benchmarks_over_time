{
 "cells": [
  {
   "cell_type": "code",
   "execution_count": 2,
   "metadata": {},
   "outputs": [
    {
     "name": "stdout",
     "output_type": "stream",
     "text": [
      "\n",
      "\u001b[1m[\u001b[0m\u001b[34;49mnotice\u001b[0m\u001b[1;39;49m]\u001b[0m\u001b[39;49m A new release of pip is available: \u001b[0m\u001b[31;49m23.2.1\u001b[0m\u001b[39;49m -> \u001b[0m\u001b[32;49m24.0\u001b[0m\n",
      "\u001b[1m[\u001b[0m\u001b[34;49mnotice\u001b[0m\u001b[1;39;49m]\u001b[0m\u001b[39;49m To update, run: \u001b[0m\u001b[32;49mpip install --upgrade pip\u001b[0m\n",
      "\n",
      "\u001b[1m[\u001b[0m\u001b[34;49mnotice\u001b[0m\u001b[1;39;49m]\u001b[0m\u001b[39;49m A new release of pip is available: \u001b[0m\u001b[31;49m23.2.1\u001b[0m\u001b[39;49m -> \u001b[0m\u001b[32;49m24.0\u001b[0m\n",
      "\u001b[1m[\u001b[0m\u001b[34;49mnotice\u001b[0m\u001b[1;39;49m]\u001b[0m\u001b[39;49m To update, run: \u001b[0m\u001b[32;49mpip install --upgrade pip\u001b[0m\n"
     ]
    }
   ],
   "source": [
    "!pip3 install plotly --quiet\n",
    "!pip3 install nbformat --quiet"
   ]
  },
  {
   "cell_type": "code",
   "execution_count": 3,
   "metadata": {},
   "outputs": [],
   "source": [
    "import duckdb \n",
    "import pandas as pd\n",
    "import plotly.express as px\n",
    "import plotly\n",
    "pd.set_option('display.max_rows', 5000)\n",
    "pd.set_option('display.max_columns', 5000)"
   ]
  },
  {
   "cell_type": "code",
   "execution_count": 4,
   "metadata": {},
   "outputs": [
    {
     "data": {
      "text/html": [
       "<div>\n",
       "<style scoped>\n",
       "    .dataframe tbody tr th:only-of-type {\n",
       "        vertical-align: middle;\n",
       "    }\n",
       "\n",
       "    .dataframe tbody tr th {\n",
       "        vertical-align: top;\n",
       "    }\n",
       "\n",
       "    .dataframe thead th {\n",
       "        text-align: right;\n",
       "    }\n",
       "</style>\n",
       "<table border=\"1\" class=\"dataframe\">\n",
       "  <thead>\n",
       "    <tr style=\"text-align: right;\">\n",
       "      <th></th>\n",
       "      <th>run_id</th>\n",
       "      <th>repeat_id</th>\n",
       "      <th>benchmark</th>\n",
       "      <th>scenario</th>\n",
       "      <th>max(version_rank)</th>\n",
       "      <th>max_version</th>\n",
       "      <th>Time (seconds)</th>\n",
       "      <th>DuckDB Version</th>\n",
       "      <th>benchmark_type</th>\n",
       "      <th>benchmark_type_order</th>\n",
       "      <th>Benchmark Type</th>\n",
       "      <th>total_time_by_version</th>\n",
       "      <th>total_time_max_version</th>\n",
       "      <th>Time Relative to Latest Version</th>\n",
       "    </tr>\n",
       "  </thead>\n",
       "  <tbody>\n",
       "    <tr>\n",
       "      <th>0</th>\n",
       "      <td>1</td>\n",
       "      <td>0</td>\n",
       "      <td>001 Query pandas</td>\n",
       "      <td>{\"duckdb_version\": \"0.2.7\"}</td>\n",
       "      <td>1001</td>\n",
       "      <td>0.10.1</td>\n",
       "      <td>0.005581</td>\n",
       "      <td>0.2.7</td>\n",
       "      <td>Scan other formats</td>\n",
       "      <td>2</td>\n",
       "      <td>Scan other formats</td>\n",
       "      <td>104.646480</td>\n",
       "      <td>23.536592</td>\n",
       "      <td>0.000237</td>\n",
       "    </tr>\n",
       "    <tr>\n",
       "      <th>1</th>\n",
       "      <td>2</td>\n",
       "      <td>0</td>\n",
       "      <td>001 Query pandas</td>\n",
       "      <td>{\"duckdb_version\": \"0.2.8\"}</td>\n",
       "      <td>1001</td>\n",
       "      <td>0.10.1</td>\n",
       "      <td>0.003656</td>\n",
       "      <td>0.2.8</td>\n",
       "      <td>Scan other formats</td>\n",
       "      <td>2</td>\n",
       "      <td>Scan other formats</td>\n",
       "      <td>93.684463</td>\n",
       "      <td>23.536592</td>\n",
       "      <td>0.000155</td>\n",
       "    </tr>\n",
       "    <tr>\n",
       "      <th>2</th>\n",
       "      <td>3</td>\n",
       "      <td>0</td>\n",
       "      <td>001 Query pandas</td>\n",
       "      <td>{\"duckdb_version\": \"0.2.9\"}</td>\n",
       "      <td>1001</td>\n",
       "      <td>0.10.1</td>\n",
       "      <td>0.005581</td>\n",
       "      <td>0.2.9</td>\n",
       "      <td>Scan other formats</td>\n",
       "      <td>2</td>\n",
       "      <td>Scan other formats</td>\n",
       "      <td>88.535498</td>\n",
       "      <td>23.536592</td>\n",
       "      <td>0.000237</td>\n",
       "    </tr>\n",
       "    <tr>\n",
       "      <th>3</th>\n",
       "      <td>4</td>\n",
       "      <td>0</td>\n",
       "      <td>001 Query pandas</td>\n",
       "      <td>{\"duckdb_version\": \"0.3.0\"}</td>\n",
       "      <td>1001</td>\n",
       "      <td>0.10.1</td>\n",
       "      <td>0.003121</td>\n",
       "      <td>0.3.0</td>\n",
       "      <td>Scan other formats</td>\n",
       "      <td>2</td>\n",
       "      <td>Scan other formats</td>\n",
       "      <td>88.889392</td>\n",
       "      <td>23.536592</td>\n",
       "      <td>0.000133</td>\n",
       "    </tr>\n",
       "    <tr>\n",
       "      <th>4</th>\n",
       "      <td>5</td>\n",
       "      <td>0</td>\n",
       "      <td>001 Query pandas</td>\n",
       "      <td>{\"duckdb_version\": \"0.3.1\"}</td>\n",
       "      <td>1001</td>\n",
       "      <td>0.10.1</td>\n",
       "      <td>0.002151</td>\n",
       "      <td>0.3.1</td>\n",
       "      <td>Scan other formats</td>\n",
       "      <td>2</td>\n",
       "      <td>Scan other formats</td>\n",
       "      <td>85.424251</td>\n",
       "      <td>23.536592</td>\n",
       "      <td>0.000091</td>\n",
       "    </tr>\n",
       "    <tr>\n",
       "      <th>5</th>\n",
       "      <td>6</td>\n",
       "      <td>0</td>\n",
       "      <td>001 Query pandas</td>\n",
       "      <td>{\"duckdb_version\": \"0.3.2\"}</td>\n",
       "      <td>1001</td>\n",
       "      <td>0.10.1</td>\n",
       "      <td>0.002634</td>\n",
       "      <td>0.3.2</td>\n",
       "      <td>Scan other formats</td>\n",
       "      <td>2</td>\n",
       "      <td>Scan other formats</td>\n",
       "      <td>96.161127</td>\n",
       "      <td>23.536592</td>\n",
       "      <td>0.000112</td>\n",
       "    </tr>\n",
       "    <tr>\n",
       "      <th>6</th>\n",
       "      <td>7</td>\n",
       "      <td>0</td>\n",
       "      <td>001 Query pandas</td>\n",
       "      <td>{\"duckdb_version\": \"0.3.4\"}</td>\n",
       "      <td>1001</td>\n",
       "      <td>0.10.1</td>\n",
       "      <td>0.003044</td>\n",
       "      <td>0.3.4</td>\n",
       "      <td>Scan other formats</td>\n",
       "      <td>2</td>\n",
       "      <td>Scan other formats</td>\n",
       "      <td>206.385362</td>\n",
       "      <td>23.536592</td>\n",
       "      <td>0.000129</td>\n",
       "    </tr>\n",
       "    <tr>\n",
       "      <th>7</th>\n",
       "      <td>8</td>\n",
       "      <td>0</td>\n",
       "      <td>001 Query pandas</td>\n",
       "      <td>{\"duckdb_version\": \"0.4.0\"}</td>\n",
       "      <td>1001</td>\n",
       "      <td>0.10.1</td>\n",
       "      <td>0.003136</td>\n",
       "      <td>0.4.0</td>\n",
       "      <td>Scan other formats</td>\n",
       "      <td>2</td>\n",
       "      <td>Scan other formats</td>\n",
       "      <td>209.713009</td>\n",
       "      <td>23.536592</td>\n",
       "      <td>0.000133</td>\n",
       "    </tr>\n",
       "    <tr>\n",
       "      <th>8</th>\n",
       "      <td>9</td>\n",
       "      <td>0</td>\n",
       "      <td>001 Query pandas</td>\n",
       "      <td>{\"duckdb_version\": \"0.5.1\"}</td>\n",
       "      <td>1001</td>\n",
       "      <td>0.10.1</td>\n",
       "      <td>0.003431</td>\n",
       "      <td>0.5.1</td>\n",
       "      <td>Scan other formats</td>\n",
       "      <td>2</td>\n",
       "      <td>Scan other formats</td>\n",
       "      <td>99.349296</td>\n",
       "      <td>23.536592</td>\n",
       "      <td>0.000146</td>\n",
       "    </tr>\n",
       "    <tr>\n",
       "      <th>9</th>\n",
       "      <td>10</td>\n",
       "      <td>0</td>\n",
       "      <td>001 Query pandas</td>\n",
       "      <td>{\"duckdb_version\": \"0.6.1\"}</td>\n",
       "      <td>1001</td>\n",
       "      <td>0.10.1</td>\n",
       "      <td>0.001854</td>\n",
       "      <td>0.6.1</td>\n",
       "      <td>Scan other formats</td>\n",
       "      <td>2</td>\n",
       "      <td>Scan other formats</td>\n",
       "      <td>42.473960</td>\n",
       "      <td>23.536592</td>\n",
       "      <td>0.000079</td>\n",
       "    </tr>\n",
       "    <tr>\n",
       "      <th>10</th>\n",
       "      <td>11</td>\n",
       "      <td>0</td>\n",
       "      <td>001 Query pandas</td>\n",
       "      <td>{\"duckdb_version\": \"0.7.1\"}</td>\n",
       "      <td>1001</td>\n",
       "      <td>0.10.1</td>\n",
       "      <td>0.002033</td>\n",
       "      <td>0.7.1</td>\n",
       "      <td>Scan other formats</td>\n",
       "      <td>2</td>\n",
       "      <td>Scan other formats</td>\n",
       "      <td>39.450583</td>\n",
       "      <td>23.536592</td>\n",
       "      <td>0.000086</td>\n",
       "    </tr>\n",
       "    <tr>\n",
       "      <th>11</th>\n",
       "      <td>12</td>\n",
       "      <td>0</td>\n",
       "      <td>001 Query pandas</td>\n",
       "      <td>{\"duckdb_version\": \"0.8.1\"}</td>\n",
       "      <td>1001</td>\n",
       "      <td>0.10.1</td>\n",
       "      <td>0.002082</td>\n",
       "      <td>0.8.1</td>\n",
       "      <td>Scan other formats</td>\n",
       "      <td>2</td>\n",
       "      <td>Scan other formats</td>\n",
       "      <td>27.426684</td>\n",
       "      <td>23.536592</td>\n",
       "      <td>0.000088</td>\n",
       "    </tr>\n",
       "    <tr>\n",
       "      <th>12</th>\n",
       "      <td>13</td>\n",
       "      <td>0</td>\n",
       "      <td>001 Query pandas</td>\n",
       "      <td>{\"duckdb_version\": \"0.9.0\"}</td>\n",
       "      <td>1001</td>\n",
       "      <td>0.10.1</td>\n",
       "      <td>0.002238</td>\n",
       "      <td>0.9.0</td>\n",
       "      <td>Scan other formats</td>\n",
       "      <td>2</td>\n",
       "      <td>Scan other formats</td>\n",
       "      <td>27.531936</td>\n",
       "      <td>23.536592</td>\n",
       "      <td>0.000095</td>\n",
       "    </tr>\n",
       "    <tr>\n",
       "      <th>13</th>\n",
       "      <td>14</td>\n",
       "      <td>0</td>\n",
       "      <td>001 Query pandas</td>\n",
       "      <td>{\"duckdb_version\": \"v0.9.1\"}</td>\n",
       "      <td>1001</td>\n",
       "      <td>0.10.1</td>\n",
       "      <td>0.002457</td>\n",
       "      <td>0.9.1</td>\n",
       "      <td>Scan other formats</td>\n",
       "      <td>2</td>\n",
       "      <td>Scan other formats</td>\n",
       "      <td>28.154328</td>\n",
       "      <td>23.536592</td>\n",
       "      <td>0.000104</td>\n",
       "    </tr>\n",
       "    <tr>\n",
       "      <th>14</th>\n",
       "      <td>15</td>\n",
       "      <td>0</td>\n",
       "      <td>001 Query pandas</td>\n",
       "      <td>{\"duckdb_version\": \"v0.9.2\"}</td>\n",
       "      <td>1001</td>\n",
       "      <td>0.10.1</td>\n",
       "      <td>0.001712</td>\n",
       "      <td>0.9.2</td>\n",
       "      <td>Scan other formats</td>\n",
       "      <td>2</td>\n",
       "      <td>Scan other formats</td>\n",
       "      <td>26.268411</td>\n",
       "      <td>23.536592</td>\n",
       "      <td>0.000073</td>\n",
       "    </tr>\n",
       "    <tr>\n",
       "      <th>15</th>\n",
       "      <td>16</td>\n",
       "      <td>0</td>\n",
       "      <td>001 Query pandas</td>\n",
       "      <td>{\"duckdb_version\": \"v0.10.0\"}</td>\n",
       "      <td>1001</td>\n",
       "      <td>0.10.1</td>\n",
       "      <td>0.001772</td>\n",
       "      <td>0.10.0</td>\n",
       "      <td>Scan other formats</td>\n",
       "      <td>2</td>\n",
       "      <td>Scan other formats</td>\n",
       "      <td>23.464754</td>\n",
       "      <td>23.536592</td>\n",
       "      <td>0.000075</td>\n",
       "    </tr>\n",
       "    <tr>\n",
       "      <th>16</th>\n",
       "      <td>17</td>\n",
       "      <td>0</td>\n",
       "      <td>001 Query pandas</td>\n",
       "      <td>{\"duckdb_version\": \"v0.10.1\"}</td>\n",
       "      <td>1001</td>\n",
       "      <td>0.10.1</td>\n",
       "      <td>0.001921</td>\n",
       "      <td>0.10.1</td>\n",
       "      <td>Scan other formats</td>\n",
       "      <td>2</td>\n",
       "      <td>Scan other formats</td>\n",
       "      <td>23.536592</td>\n",
       "      <td>23.536592</td>\n",
       "      <td>0.000082</td>\n",
       "    </tr>\n",
       "    <tr>\n",
       "      <th>17</th>\n",
       "      <td>1</td>\n",
       "      <td>0</td>\n",
       "      <td>002 Create table from csv</td>\n",
       "      <td>{\"duckdb_version\": \"0.2.7\"}</td>\n",
       "      <td>1001</td>\n",
       "      <td>0.10.1</td>\n",
       "      <td>4.846485</td>\n",
       "      <td>0.2.7</td>\n",
       "      <td>CSV Import</td>\n",
       "      <td>1</td>\n",
       "      <td>CSV Import</td>\n",
       "      <td>104.646480</td>\n",
       "      <td>23.536592</td>\n",
       "      <td>0.205913</td>\n",
       "    </tr>\n",
       "    <tr>\n",
       "      <th>18</th>\n",
       "      <td>2</td>\n",
       "      <td>0</td>\n",
       "      <td>002 Create table from csv</td>\n",
       "      <td>{\"duckdb_version\": \"0.2.8\"}</td>\n",
       "      <td>1001</td>\n",
       "      <td>0.10.1</td>\n",
       "      <td>4.630909</td>\n",
       "      <td>0.2.8</td>\n",
       "      <td>CSV Import</td>\n",
       "      <td>1</td>\n",
       "      <td>CSV Import</td>\n",
       "      <td>93.684463</td>\n",
       "      <td>23.536592</td>\n",
       "      <td>0.196754</td>\n",
       "    </tr>\n",
       "    <tr>\n",
       "      <th>19</th>\n",
       "      <td>3</td>\n",
       "      <td>0</td>\n",
       "      <td>002 Create table from csv</td>\n",
       "      <td>{\"duckdb_version\": \"0.2.9\"}</td>\n",
       "      <td>1001</td>\n",
       "      <td>0.10.1</td>\n",
       "      <td>5.039506</td>\n",
       "      <td>0.2.9</td>\n",
       "      <td>CSV Import</td>\n",
       "      <td>1</td>\n",
       "      <td>CSV Import</td>\n",
       "      <td>88.535498</td>\n",
       "      <td>23.536592</td>\n",
       "      <td>0.214114</td>\n",
       "    </tr>\n",
       "    <tr>\n",
       "      <th>20</th>\n",
       "      <td>4</td>\n",
       "      <td>0</td>\n",
       "      <td>002 Create table from csv</td>\n",
       "      <td>{\"duckdb_version\": \"0.3.0\"}</td>\n",
       "      <td>1001</td>\n",
       "      <td>0.10.1</td>\n",
       "      <td>5.143498</td>\n",
       "      <td>0.3.0</td>\n",
       "      <td>CSV Import</td>\n",
       "      <td>1</td>\n",
       "      <td>CSV Import</td>\n",
       "      <td>88.889392</td>\n",
       "      <td>23.536592</td>\n",
       "      <td>0.218532</td>\n",
       "    </tr>\n",
       "    <tr>\n",
       "      <th>21</th>\n",
       "      <td>5</td>\n",
       "      <td>0</td>\n",
       "      <td>002 Create table from csv</td>\n",
       "      <td>{\"duckdb_version\": \"0.3.1\"}</td>\n",
       "      <td>1001</td>\n",
       "      <td>0.10.1</td>\n",
       "      <td>6.731112</td>\n",
       "      <td>0.3.1</td>\n",
       "      <td>CSV Import</td>\n",
       "      <td>1</td>\n",
       "      <td>CSV Import</td>\n",
       "      <td>85.424251</td>\n",
       "      <td>23.536592</td>\n",
       "      <td>0.285985</td>\n",
       "    </tr>\n",
       "    <tr>\n",
       "      <th>22</th>\n",
       "      <td>6</td>\n",
       "      <td>0</td>\n",
       "      <td>002 Create table from csv</td>\n",
       "      <td>{\"duckdb_version\": \"0.3.2\"}</td>\n",
       "      <td>1001</td>\n",
       "      <td>0.10.1</td>\n",
       "      <td>5.484685</td>\n",
       "      <td>0.3.2</td>\n",
       "      <td>CSV Import</td>\n",
       "      <td>1</td>\n",
       "      <td>CSV Import</td>\n",
       "      <td>96.161127</td>\n",
       "      <td>23.536592</td>\n",
       "      <td>0.233028</td>\n",
       "    </tr>\n",
       "    <tr>\n",
       "      <th>23</th>\n",
       "      <td>7</td>\n",
       "      <td>0</td>\n",
       "      <td>002 Create table from csv</td>\n",
       "      <td>{\"duckdb_version\": \"0.3.4\"}</td>\n",
       "      <td>1001</td>\n",
       "      <td>0.10.1</td>\n",
       "      <td>6.670692</td>\n",
       "      <td>0.3.4</td>\n",
       "      <td>CSV Import</td>\n",
       "      <td>1</td>\n",
       "      <td>CSV Import</td>\n",
       "      <td>206.385362</td>\n",
       "      <td>23.536592</td>\n",
       "      <td>0.283418</td>\n",
       "    </tr>\n",
       "    <tr>\n",
       "      <th>24</th>\n",
       "      <td>8</td>\n",
       "      <td>0</td>\n",
       "      <td>002 Create table from csv</td>\n",
       "      <td>{\"duckdb_version\": \"0.4.0\"}</td>\n",
       "      <td>1001</td>\n",
       "      <td>0.10.1</td>\n",
       "      <td>7.315441</td>\n",
       "      <td>0.4.0</td>\n",
       "      <td>CSV Import</td>\n",
       "      <td>1</td>\n",
       "      <td>CSV Import</td>\n",
       "      <td>209.713009</td>\n",
       "      <td>23.536592</td>\n",
       "      <td>0.310811</td>\n",
       "    </tr>\n",
       "    <tr>\n",
       "      <th>25</th>\n",
       "      <td>9</td>\n",
       "      <td>0</td>\n",
       "      <td>002 Create table from csv</td>\n",
       "      <td>{\"duckdb_version\": \"0.5.1\"}</td>\n",
       "      <td>1001</td>\n",
       "      <td>0.10.1</td>\n",
       "      <td>6.929249</td>\n",
       "      <td>0.5.1</td>\n",
       "      <td>CSV Import</td>\n",
       "      <td>1</td>\n",
       "      <td>CSV Import</td>\n",
       "      <td>99.349296</td>\n",
       "      <td>23.536592</td>\n",
       "      <td>0.294403</td>\n",
       "    </tr>\n",
       "    <tr>\n",
       "      <th>26</th>\n",
       "      <td>10</td>\n",
       "      <td>0</td>\n",
       "      <td>002 Create table from csv</td>\n",
       "      <td>{\"duckdb_version\": \"0.6.1\"}</td>\n",
       "      <td>1001</td>\n",
       "      <td>0.10.1</td>\n",
       "      <td>6.484700</td>\n",
       "      <td>0.6.1</td>\n",
       "      <td>CSV Import</td>\n",
       "      <td>1</td>\n",
       "      <td>CSV Import</td>\n",
       "      <td>42.473960</td>\n",
       "      <td>23.536592</td>\n",
       "      <td>0.275516</td>\n",
       "    </tr>\n",
       "    <tr>\n",
       "      <th>27</th>\n",
       "      <td>11</td>\n",
       "      <td>0</td>\n",
       "      <td>002 Create table from csv</td>\n",
       "      <td>{\"duckdb_version\": \"0.7.1\"}</td>\n",
       "      <td>1001</td>\n",
       "      <td>0.10.1</td>\n",
       "      <td>6.231344</td>\n",
       "      <td>0.7.1</td>\n",
       "      <td>CSV Import</td>\n",
       "      <td>1</td>\n",
       "      <td>CSV Import</td>\n",
       "      <td>39.450583</td>\n",
       "      <td>23.536592</td>\n",
       "      <td>0.264751</td>\n",
       "    </tr>\n",
       "    <tr>\n",
       "      <th>28</th>\n",
       "      <td>12</td>\n",
       "      <td>0</td>\n",
       "      <td>002 Create table from csv</td>\n",
       "      <td>{\"duckdb_version\": \"0.8.1\"}</td>\n",
       "      <td>1001</td>\n",
       "      <td>0.10.1</td>\n",
       "      <td>2.120480</td>\n",
       "      <td>0.8.1</td>\n",
       "      <td>CSV Import</td>\n",
       "      <td>1</td>\n",
       "      <td>CSV Import</td>\n",
       "      <td>27.426684</td>\n",
       "      <td>23.536592</td>\n",
       "      <td>0.090093</td>\n",
       "    </tr>\n",
       "    <tr>\n",
       "      <th>29</th>\n",
       "      <td>13</td>\n",
       "      <td>0</td>\n",
       "      <td>002 Create table from csv</td>\n",
       "      <td>{\"duckdb_version\": \"0.9.0\"}</td>\n",
       "      <td>1001</td>\n",
       "      <td>0.10.1</td>\n",
       "      <td>2.039051</td>\n",
       "      <td>0.9.0</td>\n",
       "      <td>CSV Import</td>\n",
       "      <td>1</td>\n",
       "      <td>CSV Import</td>\n",
       "      <td>27.531936</td>\n",
       "      <td>23.536592</td>\n",
       "      <td>0.086633</td>\n",
       "    </tr>\n",
       "    <tr>\n",
       "      <th>30</th>\n",
       "      <td>14</td>\n",
       "      <td>0</td>\n",
       "      <td>002 Create table from csv</td>\n",
       "      <td>{\"duckdb_version\": \"v0.9.1\"}</td>\n",
       "      <td>1001</td>\n",
       "      <td>0.10.1</td>\n",
       "      <td>2.083738</td>\n",
       "      <td>0.9.1</td>\n",
       "      <td>CSV Import</td>\n",
       "      <td>1</td>\n",
       "      <td>CSV Import</td>\n",
       "      <td>28.154328</td>\n",
       "      <td>23.536592</td>\n",
       "      <td>0.088532</td>\n",
       "    </tr>\n",
       "    <tr>\n",
       "      <th>31</th>\n",
       "      <td>15</td>\n",
       "      <td>0</td>\n",
       "      <td>002 Create table from csv</td>\n",
       "      <td>{\"duckdb_version\": \"v0.9.2\"}</td>\n",
       "      <td>1001</td>\n",
       "      <td>0.10.1</td>\n",
       "      <td>2.039516</td>\n",
       "      <td>0.9.2</td>\n",
       "      <td>CSV Import</td>\n",
       "      <td>1</td>\n",
       "      <td>CSV Import</td>\n",
       "      <td>26.268411</td>\n",
       "      <td>23.536592</td>\n",
       "      <td>0.086653</td>\n",
       "    </tr>\n",
       "    <tr>\n",
       "      <th>32</th>\n",
       "      <td>16</td>\n",
       "      <td>0</td>\n",
       "      <td>002 Create table from csv</td>\n",
       "      <td>{\"duckdb_version\": \"v0.10.0\"}</td>\n",
       "      <td>1001</td>\n",
       "      <td>0.10.1</td>\n",
       "      <td>1.412541</td>\n",
       "      <td>0.10.0</td>\n",
       "      <td>CSV Import</td>\n",
       "      <td>1</td>\n",
       "      <td>CSV Import</td>\n",
       "      <td>23.464754</td>\n",
       "      <td>23.536592</td>\n",
       "      <td>0.060015</td>\n",
       "    </tr>\n",
       "    <tr>\n",
       "      <th>33</th>\n",
       "      <td>17</td>\n",
       "      <td>0</td>\n",
       "      <td>002 Create table from csv</td>\n",
       "      <td>{\"duckdb_version\": \"v0.10.1\"}</td>\n",
       "      <td>1001</td>\n",
       "      <td>0.10.1</td>\n",
       "      <td>1.448871</td>\n",
       "      <td>0.10.1</td>\n",
       "      <td>CSV Import</td>\n",
       "      <td>1</td>\n",
       "      <td>CSV Import</td>\n",
       "      <td>23.536592</td>\n",
       "      <td>23.536592</td>\n",
       "      <td>0.061558</td>\n",
       "    </tr>\n",
       "    <tr>\n",
       "      <th>34</th>\n",
       "      <td>10</td>\n",
       "      <td>0</td>\n",
       "      <td>003 Convert to Enums</td>\n",
       "      <td>{\"duckdb_version\": \"0.6.1\"}</td>\n",
       "      <td>1001</td>\n",
       "      <td>0.10.1</td>\n",
       "      <td>0.857038</td>\n",
       "      <td>0.6.1</td>\n",
       "      <td>Analysis</td>\n",
       "      <td>3</td>\n",
       "      <td>Analysis</td>\n",
       "      <td>42.473960</td>\n",
       "      <td>23.536592</td>\n",
       "      <td>0.036413</td>\n",
       "    </tr>\n",
       "    <tr>\n",
       "      <th>35</th>\n",
       "      <td>11</td>\n",
       "      <td>0</td>\n",
       "      <td>003 Convert to Enums</td>\n",
       "      <td>{\"duckdb_version\": \"0.7.1\"}</td>\n",
       "      <td>1001</td>\n",
       "      <td>0.10.1</td>\n",
       "      <td>0.808299</td>\n",
       "      <td>0.7.1</td>\n",
       "      <td>Analysis</td>\n",
       "      <td>3</td>\n",
       "      <td>Analysis</td>\n",
       "      <td>39.450583</td>\n",
       "      <td>23.536592</td>\n",
       "      <td>0.034342</td>\n",
       "    </tr>\n",
       "    <tr>\n",
       "      <th>36</th>\n",
       "      <td>12</td>\n",
       "      <td>0</td>\n",
       "      <td>003 Convert to Enums</td>\n",
       "      <td>{\"duckdb_version\": \"0.8.1\"}</td>\n",
       "      <td>1001</td>\n",
       "      <td>0.10.1</td>\n",
       "      <td>1.160729</td>\n",
       "      <td>0.8.1</td>\n",
       "      <td>Analysis</td>\n",
       "      <td>3</td>\n",
       "      <td>Analysis</td>\n",
       "      <td>27.426684</td>\n",
       "      <td>23.536592</td>\n",
       "      <td>0.049316</td>\n",
       "    </tr>\n",
       "    <tr>\n",
       "      <th>37</th>\n",
       "      <td>13</td>\n",
       "      <td>0</td>\n",
       "      <td>003 Convert to Enums</td>\n",
       "      <td>{\"duckdb_version\": \"0.9.0\"}</td>\n",
       "      <td>1001</td>\n",
       "      <td>0.10.1</td>\n",
       "      <td>1.187053</td>\n",
       "      <td>0.9.0</td>\n",
       "      <td>Analysis</td>\n",
       "      <td>3</td>\n",
       "      <td>Analysis</td>\n",
       "      <td>27.531936</td>\n",
       "      <td>23.536592</td>\n",
       "      <td>0.050434</td>\n",
       "    </tr>\n",
       "    <tr>\n",
       "      <th>38</th>\n",
       "      <td>14</td>\n",
       "      <td>0</td>\n",
       "      <td>003 Convert to Enums</td>\n",
       "      <td>{\"duckdb_version\": \"v0.9.1\"}</td>\n",
       "      <td>1001</td>\n",
       "      <td>0.10.1</td>\n",
       "      <td>1.177166</td>\n",
       "      <td>0.9.1</td>\n",
       "      <td>Analysis</td>\n",
       "      <td>3</td>\n",
       "      <td>Analysis</td>\n",
       "      <td>28.154328</td>\n",
       "      <td>23.536592</td>\n",
       "      <td>0.050014</td>\n",
       "    </tr>\n",
       "    <tr>\n",
       "      <th>39</th>\n",
       "      <td>15</td>\n",
       "      <td>0</td>\n",
       "      <td>003 Convert to Enums</td>\n",
       "      <td>{\"duckdb_version\": \"v0.9.2\"}</td>\n",
       "      <td>1001</td>\n",
       "      <td>0.10.1</td>\n",
       "      <td>1.190061</td>\n",
       "      <td>0.9.2</td>\n",
       "      <td>Analysis</td>\n",
       "      <td>3</td>\n",
       "      <td>Analysis</td>\n",
       "      <td>26.268411</td>\n",
       "      <td>23.536592</td>\n",
       "      <td>0.050562</td>\n",
       "    </tr>\n",
       "    <tr>\n",
       "      <th>40</th>\n",
       "      <td>16</td>\n",
       "      <td>0</td>\n",
       "      <td>003 Convert to Enums</td>\n",
       "      <td>{\"duckdb_version\": \"v0.10.0\"}</td>\n",
       "      <td>1001</td>\n",
       "      <td>0.10.1</td>\n",
       "      <td>0.907619</td>\n",
       "      <td>0.10.0</td>\n",
       "      <td>Analysis</td>\n",
       "      <td>3</td>\n",
       "      <td>Analysis</td>\n",
       "      <td>23.464754</td>\n",
       "      <td>23.536592</td>\n",
       "      <td>0.038562</td>\n",
       "    </tr>\n",
       "    <tr>\n",
       "      <th>41</th>\n",
       "      <td>17</td>\n",
       "      <td>0</td>\n",
       "      <td>003 Convert to Enums</td>\n",
       "      <td>{\"duckdb_version\": \"v0.10.1\"}</td>\n",
       "      <td>1001</td>\n",
       "      <td>0.10.1</td>\n",
       "      <td>0.902253</td>\n",
       "      <td>0.10.1</td>\n",
       "      <td>Analysis</td>\n",
       "      <td>3</td>\n",
       "      <td>Analysis</td>\n",
       "      <td>23.536592</td>\n",
       "      <td>23.536592</td>\n",
       "      <td>0.038334</td>\n",
       "    </tr>\n",
       "    <tr>\n",
       "      <th>42</th>\n",
       "      <td>1</td>\n",
       "      <td>0</td>\n",
       "      <td>004 Group by queries</td>\n",
       "      <td>{\"duckdb_version\": \"0.2.7\"}</td>\n",
       "      <td>1001</td>\n",
       "      <td>0.10.1</td>\n",
       "      <td>30.480709</td>\n",
       "      <td>0.2.7</td>\n",
       "      <td>Analysis</td>\n",
       "      <td>3</td>\n",
       "      <td>Analysis</td>\n",
       "      <td>104.646480</td>\n",
       "      <td>23.536592</td>\n",
       "      <td>1.295035</td>\n",
       "    </tr>\n",
       "    <tr>\n",
       "      <th>43</th>\n",
       "      <td>2</td>\n",
       "      <td>0</td>\n",
       "      <td>004 Group by queries</td>\n",
       "      <td>{\"duckdb_version\": \"0.2.8\"}</td>\n",
       "      <td>1001</td>\n",
       "      <td>0.10.1</td>\n",
       "      <td>24.299962</td>\n",
       "      <td>0.2.8</td>\n",
       "      <td>Analysis</td>\n",
       "      <td>3</td>\n",
       "      <td>Analysis</td>\n",
       "      <td>93.684463</td>\n",
       "      <td>23.536592</td>\n",
       "      <td>1.032433</td>\n",
       "    </tr>\n",
       "    <tr>\n",
       "      <th>44</th>\n",
       "      <td>3</td>\n",
       "      <td>0</td>\n",
       "      <td>004 Group by queries</td>\n",
       "      <td>{\"duckdb_version\": \"0.2.9\"}</td>\n",
       "      <td>1001</td>\n",
       "      <td>0.10.1</td>\n",
       "      <td>21.444196</td>\n",
       "      <td>0.2.9</td>\n",
       "      <td>Analysis</td>\n",
       "      <td>3</td>\n",
       "      <td>Analysis</td>\n",
       "      <td>88.535498</td>\n",
       "      <td>23.536592</td>\n",
       "      <td>0.911100</td>\n",
       "    </tr>\n",
       "    <tr>\n",
       "      <th>45</th>\n",
       "      <td>4</td>\n",
       "      <td>0</td>\n",
       "      <td>004 Group by queries</td>\n",
       "      <td>{\"duckdb_version\": \"0.3.0\"}</td>\n",
       "      <td>1001</td>\n",
       "      <td>0.10.1</td>\n",
       "      <td>21.360025</td>\n",
       "      <td>0.3.0</td>\n",
       "      <td>Analysis</td>\n",
       "      <td>3</td>\n",
       "      <td>Analysis</td>\n",
       "      <td>88.889392</td>\n",
       "      <td>23.536592</td>\n",
       "      <td>0.907524</td>\n",
       "    </tr>\n",
       "    <tr>\n",
       "      <th>46</th>\n",
       "      <td>5</td>\n",
       "      <td>0</td>\n",
       "      <td>004 Group by queries</td>\n",
       "      <td>{\"duckdb_version\": \"0.3.1\"}</td>\n",
       "      <td>1001</td>\n",
       "      <td>0.10.1</td>\n",
       "      <td>8.027176</td>\n",
       "      <td>0.3.1</td>\n",
       "      <td>Analysis</td>\n",
       "      <td>3</td>\n",
       "      <td>Analysis</td>\n",
       "      <td>85.424251</td>\n",
       "      <td>23.536592</td>\n",
       "      <td>0.341051</td>\n",
       "    </tr>\n",
       "    <tr>\n",
       "      <th>47</th>\n",
       "      <td>6</td>\n",
       "      <td>0</td>\n",
       "      <td>004 Group by queries</td>\n",
       "      <td>{\"duckdb_version\": \"0.3.2\"}</td>\n",
       "      <td>1001</td>\n",
       "      <td>0.10.1</td>\n",
       "      <td>8.091708</td>\n",
       "      <td>0.3.2</td>\n",
       "      <td>Analysis</td>\n",
       "      <td>3</td>\n",
       "      <td>Analysis</td>\n",
       "      <td>96.161127</td>\n",
       "      <td>23.536592</td>\n",
       "      <td>0.343793</td>\n",
       "    </tr>\n",
       "    <tr>\n",
       "      <th>48</th>\n",
       "      <td>7</td>\n",
       "      <td>0</td>\n",
       "      <td>004 Group by queries</td>\n",
       "      <td>{\"duckdb_version\": \"0.3.4\"}</td>\n",
       "      <td>1001</td>\n",
       "      <td>0.10.1</td>\n",
       "      <td>9.097851</td>\n",
       "      <td>0.3.4</td>\n",
       "      <td>Analysis</td>\n",
       "      <td>3</td>\n",
       "      <td>Analysis</td>\n",
       "      <td>206.385362</td>\n",
       "      <td>23.536592</td>\n",
       "      <td>0.386541</td>\n",
       "    </tr>\n",
       "    <tr>\n",
       "      <th>49</th>\n",
       "      <td>8</td>\n",
       "      <td>0</td>\n",
       "      <td>004 Group by queries</td>\n",
       "      <td>{\"duckdb_version\": \"0.4.0\"}</td>\n",
       "      <td>1001</td>\n",
       "      <td>0.10.1</td>\n",
       "      <td>7.249774</td>\n",
       "      <td>0.4.0</td>\n",
       "      <td>Analysis</td>\n",
       "      <td>3</td>\n",
       "      <td>Analysis</td>\n",
       "      <td>209.713009</td>\n",
       "      <td>23.536592</td>\n",
       "      <td>0.308021</td>\n",
       "    </tr>\n",
       "    <tr>\n",
       "      <th>50</th>\n",
       "      <td>9</td>\n",
       "      <td>0</td>\n",
       "      <td>004 Group by queries</td>\n",
       "      <td>{\"duckdb_version\": \"0.5.1\"}</td>\n",
       "      <td>1001</td>\n",
       "      <td>0.10.1</td>\n",
       "      <td>5.286354</td>\n",
       "      <td>0.5.1</td>\n",
       "      <td>Analysis</td>\n",
       "      <td>3</td>\n",
       "      <td>Analysis</td>\n",
       "      <td>99.349296</td>\n",
       "      <td>23.536592</td>\n",
       "      <td>0.224601</td>\n",
       "    </tr>\n",
       "    <tr>\n",
       "      <th>51</th>\n",
       "      <td>10</td>\n",
       "      <td>0</td>\n",
       "      <td>004 Group by queries</td>\n",
       "      <td>{\"duckdb_version\": \"0.6.1\"}</td>\n",
       "      <td>1001</td>\n",
       "      <td>0.10.1</td>\n",
       "      <td>1.685137</td>\n",
       "      <td>0.6.1</td>\n",
       "      <td>Analysis</td>\n",
       "      <td>3</td>\n",
       "      <td>Analysis</td>\n",
       "      <td>42.473960</td>\n",
       "      <td>23.536592</td>\n",
       "      <td>0.071596</td>\n",
       "    </tr>\n",
       "    <tr>\n",
       "      <th>52</th>\n",
       "      <td>11</td>\n",
       "      <td>0</td>\n",
       "      <td>004 Group by queries</td>\n",
       "      <td>{\"duckdb_version\": \"0.7.1\"}</td>\n",
       "      <td>1001</td>\n",
       "      <td>0.10.1</td>\n",
       "      <td>1.621953</td>\n",
       "      <td>0.7.1</td>\n",
       "      <td>Analysis</td>\n",
       "      <td>3</td>\n",
       "      <td>Analysis</td>\n",
       "      <td>39.450583</td>\n",
       "      <td>23.536592</td>\n",
       "      <td>0.068912</td>\n",
       "    </tr>\n",
       "    <tr>\n",
       "      <th>53</th>\n",
       "      <td>12</td>\n",
       "      <td>0</td>\n",
       "      <td>004 Group by queries</td>\n",
       "      <td>{\"duckdb_version\": \"0.8.1\"}</td>\n",
       "      <td>1001</td>\n",
       "      <td>0.10.1</td>\n",
       "      <td>1.388392</td>\n",
       "      <td>0.8.1</td>\n",
       "      <td>Analysis</td>\n",
       "      <td>3</td>\n",
       "      <td>Analysis</td>\n",
       "      <td>27.426684</td>\n",
       "      <td>23.536592</td>\n",
       "      <td>0.058989</td>\n",
       "    </tr>\n",
       "    <tr>\n",
       "      <th>54</th>\n",
       "      <td>13</td>\n",
       "      <td>0</td>\n",
       "      <td>004 Group by queries</td>\n",
       "      <td>{\"duckdb_version\": \"0.9.0\"}</td>\n",
       "      <td>1001</td>\n",
       "      <td>0.10.1</td>\n",
       "      <td>1.364668</td>\n",
       "      <td>0.9.0</td>\n",
       "      <td>Analysis</td>\n",
       "      <td>3</td>\n",
       "      <td>Analysis</td>\n",
       "      <td>27.531936</td>\n",
       "      <td>23.536592</td>\n",
       "      <td>0.057981</td>\n",
       "    </tr>\n",
       "    <tr>\n",
       "      <th>55</th>\n",
       "      <td>14</td>\n",
       "      <td>0</td>\n",
       "      <td>004 Group by queries</td>\n",
       "      <td>{\"duckdb_version\": \"v0.9.1\"}</td>\n",
       "      <td>1001</td>\n",
       "      <td>0.10.1</td>\n",
       "      <td>1.344454</td>\n",
       "      <td>0.9.1</td>\n",
       "      <td>Analysis</td>\n",
       "      <td>3</td>\n",
       "      <td>Analysis</td>\n",
       "      <td>28.154328</td>\n",
       "      <td>23.536592</td>\n",
       "      <td>0.057122</td>\n",
       "    </tr>\n",
       "    <tr>\n",
       "      <th>56</th>\n",
       "      <td>15</td>\n",
       "      <td>0</td>\n",
       "      <td>004 Group by queries</td>\n",
       "      <td>{\"duckdb_version\": \"v0.9.2\"}</td>\n",
       "      <td>1001</td>\n",
       "      <td>0.10.1</td>\n",
       "      <td>1.336820</td>\n",
       "      <td>0.9.2</td>\n",
       "      <td>Analysis</td>\n",
       "      <td>3</td>\n",
       "      <td>Analysis</td>\n",
       "      <td>26.268411</td>\n",
       "      <td>23.536592</td>\n",
       "      <td>0.056798</td>\n",
       "    </tr>\n",
       "    <tr>\n",
       "      <th>57</th>\n",
       "      <td>16</td>\n",
       "      <td>0</td>\n",
       "      <td>004 Group by queries</td>\n",
       "      <td>{\"duckdb_version\": \"v0.10.0\"}</td>\n",
       "      <td>1001</td>\n",
       "      <td>0.10.1</td>\n",
       "      <td>1.243161</td>\n",
       "      <td>0.10.0</td>\n",
       "      <td>Analysis</td>\n",
       "      <td>3</td>\n",
       "      <td>Analysis</td>\n",
       "      <td>23.464754</td>\n",
       "      <td>23.536592</td>\n",
       "      <td>0.052818</td>\n",
       "    </tr>\n",
       "    <tr>\n",
       "      <th>58</th>\n",
       "      <td>17</td>\n",
       "      <td>0</td>\n",
       "      <td>004 Group by queries</td>\n",
       "      <td>{\"duckdb_version\": \"v0.10.1\"}</td>\n",
       "      <td>1001</td>\n",
       "      <td>0.10.1</td>\n",
       "      <td>1.239274</td>\n",
       "      <td>0.10.1</td>\n",
       "      <td>Analysis</td>\n",
       "      <td>3</td>\n",
       "      <td>Analysis</td>\n",
       "      <td>23.536592</td>\n",
       "      <td>23.536592</td>\n",
       "      <td>0.052653</td>\n",
       "    </tr>\n",
       "    <tr>\n",
       "      <th>59</th>\n",
       "      <td>1</td>\n",
       "      <td>0</td>\n",
       "      <td>005 Export group by results to Pandas</td>\n",
       "      <td>{\"duckdb_version\": \"0.2.7\"}</td>\n",
       "      <td>1001</td>\n",
       "      <td>0.10.1</td>\n",
       "      <td>1.585301</td>\n",
       "      <td>0.2.7</td>\n",
       "      <td>Export</td>\n",
       "      <td>4</td>\n",
       "      <td>Export</td>\n",
       "      <td>104.646480</td>\n",
       "      <td>23.536592</td>\n",
       "      <td>0.067355</td>\n",
       "    </tr>\n",
       "    <tr>\n",
       "      <th>60</th>\n",
       "      <td>2</td>\n",
       "      <td>0</td>\n",
       "      <td>005 Export group by results to Pandas</td>\n",
       "      <td>{\"duckdb_version\": \"0.2.8\"}</td>\n",
       "      <td>1001</td>\n",
       "      <td>0.10.1</td>\n",
       "      <td>1.395679</td>\n",
       "      <td>0.2.8</td>\n",
       "      <td>Export</td>\n",
       "      <td>4</td>\n",
       "      <td>Export</td>\n",
       "      <td>93.684463</td>\n",
       "      <td>23.536592</td>\n",
       "      <td>0.059298</td>\n",
       "    </tr>\n",
       "    <tr>\n",
       "      <th>61</th>\n",
       "      <td>3</td>\n",
       "      <td>0</td>\n",
       "      <td>005 Export group by results to Pandas</td>\n",
       "      <td>{\"duckdb_version\": \"0.2.9\"}</td>\n",
       "      <td>1001</td>\n",
       "      <td>0.10.1</td>\n",
       "      <td>1.263342</td>\n",
       "      <td>0.2.9</td>\n",
       "      <td>Export</td>\n",
       "      <td>4</td>\n",
       "      <td>Export</td>\n",
       "      <td>88.535498</td>\n",
       "      <td>23.536592</td>\n",
       "      <td>0.053676</td>\n",
       "    </tr>\n",
       "    <tr>\n",
       "      <th>62</th>\n",
       "      <td>4</td>\n",
       "      <td>0</td>\n",
       "      <td>005 Export group by results to Pandas</td>\n",
       "      <td>{\"duckdb_version\": \"0.3.0\"}</td>\n",
       "      <td>1001</td>\n",
       "      <td>0.10.1</td>\n",
       "      <td>1.271773</td>\n",
       "      <td>0.3.0</td>\n",
       "      <td>Export</td>\n",
       "      <td>4</td>\n",
       "      <td>Export</td>\n",
       "      <td>88.889392</td>\n",
       "      <td>23.536592</td>\n",
       "      <td>0.054034</td>\n",
       "    </tr>\n",
       "    <tr>\n",
       "      <th>63</th>\n",
       "      <td>5</td>\n",
       "      <td>0</td>\n",
       "      <td>005 Export group by results to Pandas</td>\n",
       "      <td>{\"duckdb_version\": \"0.3.1\"}</td>\n",
       "      <td>1001</td>\n",
       "      <td>0.10.1</td>\n",
       "      <td>1.297401</td>\n",
       "      <td>0.3.1</td>\n",
       "      <td>Export</td>\n",
       "      <td>4</td>\n",
       "      <td>Export</td>\n",
       "      <td>85.424251</td>\n",
       "      <td>23.536592</td>\n",
       "      <td>0.055123</td>\n",
       "    </tr>\n",
       "    <tr>\n",
       "      <th>64</th>\n",
       "      <td>6</td>\n",
       "      <td>0</td>\n",
       "      <td>005 Export group by results to Pandas</td>\n",
       "      <td>{\"duckdb_version\": \"0.3.2\"}</td>\n",
       "      <td>1001</td>\n",
       "      <td>0.10.1</td>\n",
       "      <td>1.296835</td>\n",
       "      <td>0.3.2</td>\n",
       "      <td>Export</td>\n",
       "      <td>4</td>\n",
       "      <td>Export</td>\n",
       "      <td>96.161127</td>\n",
       "      <td>23.536592</td>\n",
       "      <td>0.055099</td>\n",
       "    </tr>\n",
       "    <tr>\n",
       "      <th>65</th>\n",
       "      <td>7</td>\n",
       "      <td>0</td>\n",
       "      <td>005 Export group by results to Pandas</td>\n",
       "      <td>{\"duckdb_version\": \"0.3.4\"}</td>\n",
       "      <td>1001</td>\n",
       "      <td>0.10.1</td>\n",
       "      <td>1.244264</td>\n",
       "      <td>0.3.4</td>\n",
       "      <td>Export</td>\n",
       "      <td>4</td>\n",
       "      <td>Export</td>\n",
       "      <td>206.385362</td>\n",
       "      <td>23.536592</td>\n",
       "      <td>0.052865</td>\n",
       "    </tr>\n",
       "    <tr>\n",
       "      <th>66</th>\n",
       "      <td>8</td>\n",
       "      <td>0</td>\n",
       "      <td>005 Export group by results to Pandas</td>\n",
       "      <td>{\"duckdb_version\": \"0.4.0\"}</td>\n",
       "      <td>1001</td>\n",
       "      <td>0.10.1</td>\n",
       "      <td>1.229705</td>\n",
       "      <td>0.4.0</td>\n",
       "      <td>Export</td>\n",
       "      <td>4</td>\n",
       "      <td>Export</td>\n",
       "      <td>209.713009</td>\n",
       "      <td>23.536592</td>\n",
       "      <td>0.052247</td>\n",
       "    </tr>\n",
       "    <tr>\n",
       "      <th>67</th>\n",
       "      <td>9</td>\n",
       "      <td>0</td>\n",
       "      <td>005 Export group by results to Pandas</td>\n",
       "      <td>{\"duckdb_version\": \"0.5.1\"}</td>\n",
       "      <td>1001</td>\n",
       "      <td>0.10.1</td>\n",
       "      <td>1.238263</td>\n",
       "      <td>0.5.1</td>\n",
       "      <td>Export</td>\n",
       "      <td>4</td>\n",
       "      <td>Export</td>\n",
       "      <td>99.349296</td>\n",
       "      <td>23.536592</td>\n",
       "      <td>0.052610</td>\n",
       "    </tr>\n",
       "    <tr>\n",
       "      <th>68</th>\n",
       "      <td>10</td>\n",
       "      <td>0</td>\n",
       "      <td>005 Export group by results to Pandas</td>\n",
       "      <td>{\"duckdb_version\": \"0.6.1\"}</td>\n",
       "      <td>1001</td>\n",
       "      <td>0.10.1</td>\n",
       "      <td>0.655011</td>\n",
       "      <td>0.6.1</td>\n",
       "      <td>Export</td>\n",
       "      <td>4</td>\n",
       "      <td>Export</td>\n",
       "      <td>42.473960</td>\n",
       "      <td>23.536592</td>\n",
       "      <td>0.027829</td>\n",
       "    </tr>\n",
       "    <tr>\n",
       "      <th>69</th>\n",
       "      <td>11</td>\n",
       "      <td>0</td>\n",
       "      <td>005 Export group by results to Pandas</td>\n",
       "      <td>{\"duckdb_version\": \"0.7.1\"}</td>\n",
       "      <td>1001</td>\n",
       "      <td>0.10.1</td>\n",
       "      <td>0.647314</td>\n",
       "      <td>0.7.1</td>\n",
       "      <td>Export</td>\n",
       "      <td>4</td>\n",
       "      <td>Export</td>\n",
       "      <td>39.450583</td>\n",
       "      <td>23.536592</td>\n",
       "      <td>0.027502</td>\n",
       "    </tr>\n",
       "    <tr>\n",
       "      <th>70</th>\n",
       "      <td>12</td>\n",
       "      <td>0</td>\n",
       "      <td>005 Export group by results to Pandas</td>\n",
       "      <td>{\"duckdb_version\": \"0.8.1\"}</td>\n",
       "      <td>1001</td>\n",
       "      <td>0.10.1</td>\n",
       "      <td>0.676612</td>\n",
       "      <td>0.8.1</td>\n",
       "      <td>Export</td>\n",
       "      <td>4</td>\n",
       "      <td>Export</td>\n",
       "      <td>27.426684</td>\n",
       "      <td>23.536592</td>\n",
       "      <td>0.028747</td>\n",
       "    </tr>\n",
       "    <tr>\n",
       "      <th>71</th>\n",
       "      <td>13</td>\n",
       "      <td>0</td>\n",
       "      <td>005 Export group by results to Pandas</td>\n",
       "      <td>{\"duckdb_version\": \"0.9.0\"}</td>\n",
       "      <td>1001</td>\n",
       "      <td>0.10.1</td>\n",
       "      <td>0.673007</td>\n",
       "      <td>0.9.0</td>\n",
       "      <td>Export</td>\n",
       "      <td>4</td>\n",
       "      <td>Export</td>\n",
       "      <td>27.531936</td>\n",
       "      <td>23.536592</td>\n",
       "      <td>0.028594</td>\n",
       "    </tr>\n",
       "    <tr>\n",
       "      <th>72</th>\n",
       "      <td>14</td>\n",
       "      <td>0</td>\n",
       "      <td>005 Export group by results to Pandas</td>\n",
       "      <td>{\"duckdb_version\": \"v0.9.1\"}</td>\n",
       "      <td>1001</td>\n",
       "      <td>0.10.1</td>\n",
       "      <td>0.674498</td>\n",
       "      <td>0.9.1</td>\n",
       "      <td>Export</td>\n",
       "      <td>4</td>\n",
       "      <td>Export</td>\n",
       "      <td>28.154328</td>\n",
       "      <td>23.536592</td>\n",
       "      <td>0.028657</td>\n",
       "    </tr>\n",
       "    <tr>\n",
       "      <th>73</th>\n",
       "      <td>15</td>\n",
       "      <td>0</td>\n",
       "      <td>005 Export group by results to Pandas</td>\n",
       "      <td>{\"duckdb_version\": \"v0.9.2\"}</td>\n",
       "      <td>1001</td>\n",
       "      <td>0.10.1</td>\n",
       "      <td>0.679484</td>\n",
       "      <td>0.9.2</td>\n",
       "      <td>Export</td>\n",
       "      <td>4</td>\n",
       "      <td>Export</td>\n",
       "      <td>26.268411</td>\n",
       "      <td>23.536592</td>\n",
       "      <td>0.028869</td>\n",
       "    </tr>\n",
       "    <tr>\n",
       "      <th>74</th>\n",
       "      <td>16</td>\n",
       "      <td>0</td>\n",
       "      <td>005 Export group by results to Pandas</td>\n",
       "      <td>{\"duckdb_version\": \"v0.10.0\"}</td>\n",
       "      <td>1001</td>\n",
       "      <td>0.10.1</td>\n",
       "      <td>0.744764</td>\n",
       "      <td>0.10.0</td>\n",
       "      <td>Export</td>\n",
       "      <td>4</td>\n",
       "      <td>Export</td>\n",
       "      <td>23.464754</td>\n",
       "      <td>23.536592</td>\n",
       "      <td>0.031643</td>\n",
       "    </tr>\n",
       "    <tr>\n",
       "      <th>75</th>\n",
       "      <td>17</td>\n",
       "      <td>0</td>\n",
       "      <td>005 Export group by results to Pandas</td>\n",
       "      <td>{\"duckdb_version\": \"v0.10.1\"}</td>\n",
       "      <td>1001</td>\n",
       "      <td>0.10.1</td>\n",
       "      <td>0.751112</td>\n",
       "      <td>0.10.1</td>\n",
       "      <td>Export</td>\n",
       "      <td>4</td>\n",
       "      <td>Export</td>\n",
       "      <td>23.536592</td>\n",
       "      <td>23.536592</td>\n",
       "      <td>0.031913</td>\n",
       "    </tr>\n",
       "    <tr>\n",
       "      <th>76</th>\n",
       "      <td>1</td>\n",
       "      <td>0</td>\n",
       "      <td>006 Scan and aggregate over Pandas df</td>\n",
       "      <td>{\"duckdb_version\": \"0.2.7\"}</td>\n",
       "      <td>1001</td>\n",
       "      <td>0.10.1</td>\n",
       "      <td>0.012231</td>\n",
       "      <td>0.2.7</td>\n",
       "      <td>Scan other formats</td>\n",
       "      <td>2</td>\n",
       "      <td>Scan other formats</td>\n",
       "      <td>104.646480</td>\n",
       "      <td>23.536592</td>\n",
       "      <td>0.000520</td>\n",
       "    </tr>\n",
       "    <tr>\n",
       "      <th>77</th>\n",
       "      <td>2</td>\n",
       "      <td>0</td>\n",
       "      <td>006 Scan and aggregate over Pandas df</td>\n",
       "      <td>{\"duckdb_version\": \"0.2.8\"}</td>\n",
       "      <td>1001</td>\n",
       "      <td>0.10.1</td>\n",
       "      <td>0.010998</td>\n",
       "      <td>0.2.8</td>\n",
       "      <td>Scan other formats</td>\n",
       "      <td>2</td>\n",
       "      <td>Scan other formats</td>\n",
       "      <td>93.684463</td>\n",
       "      <td>23.536592</td>\n",
       "      <td>0.000467</td>\n",
       "    </tr>\n",
       "    <tr>\n",
       "      <th>78</th>\n",
       "      <td>3</td>\n",
       "      <td>0</td>\n",
       "      <td>006 Scan and aggregate over Pandas df</td>\n",
       "      <td>{\"duckdb_version\": \"0.2.9\"}</td>\n",
       "      <td>1001</td>\n",
       "      <td>0.10.1</td>\n",
       "      <td>0.011054</td>\n",
       "      <td>0.2.9</td>\n",
       "      <td>Scan other formats</td>\n",
       "      <td>2</td>\n",
       "      <td>Scan other formats</td>\n",
       "      <td>88.535498</td>\n",
       "      <td>23.536592</td>\n",
       "      <td>0.000470</td>\n",
       "    </tr>\n",
       "    <tr>\n",
       "      <th>79</th>\n",
       "      <td>4</td>\n",
       "      <td>0</td>\n",
       "      <td>006 Scan and aggregate over Pandas df</td>\n",
       "      <td>{\"duckdb_version\": \"0.3.0\"}</td>\n",
       "      <td>1001</td>\n",
       "      <td>0.10.1</td>\n",
       "      <td>0.011107</td>\n",
       "      <td>0.3.0</td>\n",
       "      <td>Scan other formats</td>\n",
       "      <td>2</td>\n",
       "      <td>Scan other formats</td>\n",
       "      <td>88.889392</td>\n",
       "      <td>23.536592</td>\n",
       "      <td>0.000472</td>\n",
       "    </tr>\n",
       "    <tr>\n",
       "      <th>80</th>\n",
       "      <td>5</td>\n",
       "      <td>0</td>\n",
       "      <td>006 Scan and aggregate over Pandas df</td>\n",
       "      <td>{\"duckdb_version\": \"0.3.1\"}</td>\n",
       "      <td>1001</td>\n",
       "      <td>0.10.1</td>\n",
       "      <td>0.004504</td>\n",
       "      <td>0.3.1</td>\n",
       "      <td>Scan other formats</td>\n",
       "      <td>2</td>\n",
       "      <td>Scan other formats</td>\n",
       "      <td>85.424251</td>\n",
       "      <td>23.536592</td>\n",
       "      <td>0.000191</td>\n",
       "    </tr>\n",
       "    <tr>\n",
       "      <th>81</th>\n",
       "      <td>6</td>\n",
       "      <td>0</td>\n",
       "      <td>006 Scan and aggregate over Pandas df</td>\n",
       "      <td>{\"duckdb_version\": \"0.3.2\"}</td>\n",
       "      <td>1001</td>\n",
       "      <td>0.10.1</td>\n",
       "      <td>0.004124</td>\n",
       "      <td>0.3.2</td>\n",
       "      <td>Scan other formats</td>\n",
       "      <td>2</td>\n",
       "      <td>Scan other formats</td>\n",
       "      <td>96.161127</td>\n",
       "      <td>23.536592</td>\n",
       "      <td>0.000175</td>\n",
       "    </tr>\n",
       "    <tr>\n",
       "      <th>82</th>\n",
       "      <td>7</td>\n",
       "      <td>0</td>\n",
       "      <td>006 Scan and aggregate over Pandas df</td>\n",
       "      <td>{\"duckdb_version\": \"0.3.4\"}</td>\n",
       "      <td>1001</td>\n",
       "      <td>0.10.1</td>\n",
       "      <td>0.003638</td>\n",
       "      <td>0.3.4</td>\n",
       "      <td>Scan other formats</td>\n",
       "      <td>2</td>\n",
       "      <td>Scan other formats</td>\n",
       "      <td>206.385362</td>\n",
       "      <td>23.536592</td>\n",
       "      <td>0.000155</td>\n",
       "    </tr>\n",
       "    <tr>\n",
       "      <th>83</th>\n",
       "      <td>8</td>\n",
       "      <td>0</td>\n",
       "      <td>006 Scan and aggregate over Pandas df</td>\n",
       "      <td>{\"duckdb_version\": \"0.4.0\"}</td>\n",
       "      <td>1001</td>\n",
       "      <td>0.10.1</td>\n",
       "      <td>0.003761</td>\n",
       "      <td>0.4.0</td>\n",
       "      <td>Scan other formats</td>\n",
       "      <td>2</td>\n",
       "      <td>Scan other formats</td>\n",
       "      <td>209.713009</td>\n",
       "      <td>23.536592</td>\n",
       "      <td>0.000160</td>\n",
       "    </tr>\n",
       "    <tr>\n",
       "      <th>84</th>\n",
       "      <td>9</td>\n",
       "      <td>0</td>\n",
       "      <td>006 Scan and aggregate over Pandas df</td>\n",
       "      <td>{\"duckdb_version\": \"0.5.1\"}</td>\n",
       "      <td>1001</td>\n",
       "      <td>0.10.1</td>\n",
       "      <td>0.008367</td>\n",
       "      <td>0.5.1</td>\n",
       "      <td>Scan other formats</td>\n",
       "      <td>2</td>\n",
       "      <td>Scan other formats</td>\n",
       "      <td>99.349296</td>\n",
       "      <td>23.536592</td>\n",
       "      <td>0.000355</td>\n",
       "    </tr>\n",
       "    <tr>\n",
       "      <th>85</th>\n",
       "      <td>10</td>\n",
       "      <td>0</td>\n",
       "      <td>006 Scan and aggregate over Pandas df</td>\n",
       "      <td>{\"duckdb_version\": \"0.6.1\"}</td>\n",
       "      <td>1001</td>\n",
       "      <td>0.10.1</td>\n",
       "      <td>0.004099</td>\n",
       "      <td>0.6.1</td>\n",
       "      <td>Scan other formats</td>\n",
       "      <td>2</td>\n",
       "      <td>Scan other formats</td>\n",
       "      <td>42.473960</td>\n",
       "      <td>23.536592</td>\n",
       "      <td>0.000174</td>\n",
       "    </tr>\n",
       "    <tr>\n",
       "      <th>86</th>\n",
       "      <td>11</td>\n",
       "      <td>0</td>\n",
       "      <td>006 Scan and aggregate over Pandas df</td>\n",
       "      <td>{\"duckdb_version\": \"0.7.1\"}</td>\n",
       "      <td>1001</td>\n",
       "      <td>0.10.1</td>\n",
       "      <td>0.004590</td>\n",
       "      <td>0.7.1</td>\n",
       "      <td>Scan other formats</td>\n",
       "      <td>2</td>\n",
       "      <td>Scan other formats</td>\n",
       "      <td>39.450583</td>\n",
       "      <td>23.536592</td>\n",
       "      <td>0.000195</td>\n",
       "    </tr>\n",
       "    <tr>\n",
       "      <th>87</th>\n",
       "      <td>12</td>\n",
       "      <td>0</td>\n",
       "      <td>006 Scan and aggregate over Pandas df</td>\n",
       "      <td>{\"duckdb_version\": \"0.8.1\"}</td>\n",
       "      <td>1001</td>\n",
       "      <td>0.10.1</td>\n",
       "      <td>0.004539</td>\n",
       "      <td>0.8.1</td>\n",
       "      <td>Scan other formats</td>\n",
       "      <td>2</td>\n",
       "      <td>Scan other formats</td>\n",
       "      <td>27.426684</td>\n",
       "      <td>23.536592</td>\n",
       "      <td>0.000193</td>\n",
       "    </tr>\n",
       "    <tr>\n",
       "      <th>88</th>\n",
       "      <td>13</td>\n",
       "      <td>0</td>\n",
       "      <td>006 Scan and aggregate over Pandas df</td>\n",
       "      <td>{\"duckdb_version\": \"0.9.0\"}</td>\n",
       "      <td>1001</td>\n",
       "      <td>0.10.1</td>\n",
       "      <td>0.004553</td>\n",
       "      <td>0.9.0</td>\n",
       "      <td>Scan other formats</td>\n",
       "      <td>2</td>\n",
       "      <td>Scan other formats</td>\n",
       "      <td>27.531936</td>\n",
       "      <td>23.536592</td>\n",
       "      <td>0.000193</td>\n",
       "    </tr>\n",
       "    <tr>\n",
       "      <th>89</th>\n",
       "      <td>14</td>\n",
       "      <td>0</td>\n",
       "      <td>006 Scan and aggregate over Pandas df</td>\n",
       "      <td>{\"duckdb_version\": \"v0.9.1\"}</td>\n",
       "      <td>1001</td>\n",
       "      <td>0.10.1</td>\n",
       "      <td>0.004622</td>\n",
       "      <td>0.9.1</td>\n",
       "      <td>Scan other formats</td>\n",
       "      <td>2</td>\n",
       "      <td>Scan other formats</td>\n",
       "      <td>28.154328</td>\n",
       "      <td>23.536592</td>\n",
       "      <td>0.000196</td>\n",
       "    </tr>\n",
       "    <tr>\n",
       "      <th>90</th>\n",
       "      <td>15</td>\n",
       "      <td>0</td>\n",
       "      <td>006 Scan and aggregate over Pandas df</td>\n",
       "      <td>{\"duckdb_version\": \"v0.9.2\"}</td>\n",
       "      <td>1001</td>\n",
       "      <td>0.10.1</td>\n",
       "      <td>0.005076</td>\n",
       "      <td>0.9.2</td>\n",
       "      <td>Scan other formats</td>\n",
       "      <td>2</td>\n",
       "      <td>Scan other formats</td>\n",
       "      <td>26.268411</td>\n",
       "      <td>23.536592</td>\n",
       "      <td>0.000216</td>\n",
       "    </tr>\n",
       "    <tr>\n",
       "      <th>91</th>\n",
       "      <td>16</td>\n",
       "      <td>0</td>\n",
       "      <td>006 Scan and aggregate over Pandas df</td>\n",
       "      <td>{\"duckdb_version\": \"v0.10.0\"}</td>\n",
       "      <td>1001</td>\n",
       "      <td>0.10.1</td>\n",
       "      <td>0.005719</td>\n",
       "      <td>0.10.0</td>\n",
       "      <td>Scan other formats</td>\n",
       "      <td>2</td>\n",
       "      <td>Scan other formats</td>\n",
       "      <td>23.464754</td>\n",
       "      <td>23.536592</td>\n",
       "      <td>0.000243</td>\n",
       "    </tr>\n",
       "    <tr>\n",
       "      <th>92</th>\n",
       "      <td>17</td>\n",
       "      <td>0</td>\n",
       "      <td>006 Scan and aggregate over Pandas df</td>\n",
       "      <td>{\"duckdb_version\": \"v0.10.1\"}</td>\n",
       "      <td>1001</td>\n",
       "      <td>0.10.1</td>\n",
       "      <td>0.005071</td>\n",
       "      <td>0.10.1</td>\n",
       "      <td>Scan other formats</td>\n",
       "      <td>2</td>\n",
       "      <td>Scan other formats</td>\n",
       "      <td>23.536592</td>\n",
       "      <td>23.536592</td>\n",
       "      <td>0.000215</td>\n",
       "    </tr>\n",
       "    <tr>\n",
       "      <th>93</th>\n",
       "      <td>1</td>\n",
       "      <td>0</td>\n",
       "      <td>007 Export group by results to Parquet</td>\n",
       "      <td>{\"duckdb_version\": \"0.2.7\"}</td>\n",
       "      <td>1001</td>\n",
       "      <td>0.10.1</td>\n",
       "      <td>1.894315</td>\n",
       "      <td>0.2.7</td>\n",
       "      <td>Export</td>\n",
       "      <td>4</td>\n",
       "      <td>Export</td>\n",
       "      <td>104.646480</td>\n",
       "      <td>23.536592</td>\n",
       "      <td>0.080484</td>\n",
       "    </tr>\n",
       "    <tr>\n",
       "      <th>94</th>\n",
       "      <td>2</td>\n",
       "      <td>0</td>\n",
       "      <td>007 Export group by results to Parquet</td>\n",
       "      <td>{\"duckdb_version\": \"0.2.8\"}</td>\n",
       "      <td>1001</td>\n",
       "      <td>0.10.1</td>\n",
       "      <td>1.876436</td>\n",
       "      <td>0.2.8</td>\n",
       "      <td>Export</td>\n",
       "      <td>4</td>\n",
       "      <td>Export</td>\n",
       "      <td>93.684463</td>\n",
       "      <td>23.536592</td>\n",
       "      <td>0.079724</td>\n",
       "    </tr>\n",
       "    <tr>\n",
       "      <th>95</th>\n",
       "      <td>3</td>\n",
       "      <td>0</td>\n",
       "      <td>007 Export group by results to Parquet</td>\n",
       "      <td>{\"duckdb_version\": \"0.2.9\"}</td>\n",
       "      <td>1001</td>\n",
       "      <td>0.10.1</td>\n",
       "      <td>1.932330</td>\n",
       "      <td>0.2.9</td>\n",
       "      <td>Export</td>\n",
       "      <td>4</td>\n",
       "      <td>Export</td>\n",
       "      <td>88.535498</td>\n",
       "      <td>23.536592</td>\n",
       "      <td>0.082099</td>\n",
       "    </tr>\n",
       "    <tr>\n",
       "      <th>96</th>\n",
       "      <td>4</td>\n",
       "      <td>0</td>\n",
       "      <td>007 Export group by results to Parquet</td>\n",
       "      <td>{\"duckdb_version\": \"0.3.0\"}</td>\n",
       "      <td>1001</td>\n",
       "      <td>0.10.1</td>\n",
       "      <td>1.916472</td>\n",
       "      <td>0.3.0</td>\n",
       "      <td>Export</td>\n",
       "      <td>4</td>\n",
       "      <td>Export</td>\n",
       "      <td>88.889392</td>\n",
       "      <td>23.536592</td>\n",
       "      <td>0.081425</td>\n",
       "    </tr>\n",
       "    <tr>\n",
       "      <th>97</th>\n",
       "      <td>5</td>\n",
       "      <td>0</td>\n",
       "      <td>007 Export group by results to Parquet</td>\n",
       "      <td>{\"duckdb_version\": \"0.3.1\"}</td>\n",
       "      <td>1001</td>\n",
       "      <td>0.10.1</td>\n",
       "      <td>1.925596</td>\n",
       "      <td>0.3.1</td>\n",
       "      <td>Export</td>\n",
       "      <td>4</td>\n",
       "      <td>Export</td>\n",
       "      <td>85.424251</td>\n",
       "      <td>23.536592</td>\n",
       "      <td>0.081813</td>\n",
       "    </tr>\n",
       "    <tr>\n",
       "      <th>98</th>\n",
       "      <td>6</td>\n",
       "      <td>0</td>\n",
       "      <td>007 Export group by results to Parquet</td>\n",
       "      <td>{\"duckdb_version\": \"0.3.2\"}</td>\n",
       "      <td>1001</td>\n",
       "      <td>0.10.1</td>\n",
       "      <td>3.197409</td>\n",
       "      <td>0.3.2</td>\n",
       "      <td>Export</td>\n",
       "      <td>4</td>\n",
       "      <td>Export</td>\n",
       "      <td>96.161127</td>\n",
       "      <td>23.536592</td>\n",
       "      <td>0.135848</td>\n",
       "    </tr>\n",
       "    <tr>\n",
       "      <th>99</th>\n",
       "      <td>7</td>\n",
       "      <td>0</td>\n",
       "      <td>007 Export group by results to Parquet</td>\n",
       "      <td>{\"duckdb_version\": \"0.3.4\"}</td>\n",
       "      <td>1001</td>\n",
       "      <td>0.10.1</td>\n",
       "      <td>3.107190</td>\n",
       "      <td>0.3.4</td>\n",
       "      <td>Export</td>\n",
       "      <td>4</td>\n",
       "      <td>Export</td>\n",
       "      <td>206.385362</td>\n",
       "      <td>23.536592</td>\n",
       "      <td>0.132015</td>\n",
       "    </tr>\n",
       "    <tr>\n",
       "      <th>100</th>\n",
       "      <td>8</td>\n",
       "      <td>0</td>\n",
       "      <td>007 Export group by results to Parquet</td>\n",
       "      <td>{\"duckdb_version\": \"0.4.0\"}</td>\n",
       "      <td>1001</td>\n",
       "      <td>0.10.1</td>\n",
       "      <td>3.097303</td>\n",
       "      <td>0.4.0</td>\n",
       "      <td>Export</td>\n",
       "      <td>4</td>\n",
       "      <td>Export</td>\n",
       "      <td>209.713009</td>\n",
       "      <td>23.536592</td>\n",
       "      <td>0.131595</td>\n",
       "    </tr>\n",
       "    <tr>\n",
       "      <th>101</th>\n",
       "      <td>9</td>\n",
       "      <td>0</td>\n",
       "      <td>007 Export group by results to Parquet</td>\n",
       "      <td>{\"duckdb_version\": \"0.5.1\"}</td>\n",
       "      <td>1001</td>\n",
       "      <td>0.10.1</td>\n",
       "      <td>4.482878</td>\n",
       "      <td>0.5.1</td>\n",
       "      <td>Export</td>\n",
       "      <td>4</td>\n",
       "      <td>Export</td>\n",
       "      <td>99.349296</td>\n",
       "      <td>23.536592</td>\n",
       "      <td>0.190464</td>\n",
       "    </tr>\n",
       "    <tr>\n",
       "      <th>102</th>\n",
       "      <td>10</td>\n",
       "      <td>0</td>\n",
       "      <td>007 Export group by results to Parquet</td>\n",
       "      <td>{\"duckdb_version\": \"0.6.1\"}</td>\n",
       "      <td>1001</td>\n",
       "      <td>0.10.1</td>\n",
       "      <td>3.868870</td>\n",
       "      <td>0.6.1</td>\n",
       "      <td>Export</td>\n",
       "      <td>4</td>\n",
       "      <td>Export</td>\n",
       "      <td>42.473960</td>\n",
       "      <td>23.536592</td>\n",
       "      <td>0.164377</td>\n",
       "    </tr>\n",
       "    <tr>\n",
       "      <th>103</th>\n",
       "      <td>11</td>\n",
       "      <td>0</td>\n",
       "      <td>007 Export group by results to Parquet</td>\n",
       "      <td>{\"duckdb_version\": \"0.7.1\"}</td>\n",
       "      <td>1001</td>\n",
       "      <td>0.10.1</td>\n",
       "      <td>4.129821</td>\n",
       "      <td>0.7.1</td>\n",
       "      <td>Export</td>\n",
       "      <td>4</td>\n",
       "      <td>Export</td>\n",
       "      <td>39.450583</td>\n",
       "      <td>23.536592</td>\n",
       "      <td>0.175464</td>\n",
       "    </tr>\n",
       "    <tr>\n",
       "      <th>104</th>\n",
       "      <td>12</td>\n",
       "      <td>0</td>\n",
       "      <td>007 Export group by results to Parquet</td>\n",
       "      <td>{\"duckdb_version\": \"0.8.1\"}</td>\n",
       "      <td>1001</td>\n",
       "      <td>0.10.1</td>\n",
       "      <td>1.522229</td>\n",
       "      <td>0.8.1</td>\n",
       "      <td>Export</td>\n",
       "      <td>4</td>\n",
       "      <td>Export</td>\n",
       "      <td>27.426684</td>\n",
       "      <td>23.536592</td>\n",
       "      <td>0.064675</td>\n",
       "    </tr>\n",
       "    <tr>\n",
       "      <th>105</th>\n",
       "      <td>13</td>\n",
       "      <td>0</td>\n",
       "      <td>007 Export group by results to Parquet</td>\n",
       "      <td>{\"duckdb_version\": \"0.9.0\"}</td>\n",
       "      <td>1001</td>\n",
       "      <td>0.10.1</td>\n",
       "      <td>1.517412</td>\n",
       "      <td>0.9.0</td>\n",
       "      <td>Export</td>\n",
       "      <td>4</td>\n",
       "      <td>Export</td>\n",
       "      <td>27.531936</td>\n",
       "      <td>23.536592</td>\n",
       "      <td>0.064470</td>\n",
       "    </tr>\n",
       "    <tr>\n",
       "      <th>106</th>\n",
       "      <td>14</td>\n",
       "      <td>0</td>\n",
       "      <td>007 Export group by results to Parquet</td>\n",
       "      <td>{\"duckdb_version\": \"v0.9.1\"}</td>\n",
       "      <td>1001</td>\n",
       "      <td>0.10.1</td>\n",
       "      <td>1.530309</td>\n",
       "      <td>0.9.1</td>\n",
       "      <td>Export</td>\n",
       "      <td>4</td>\n",
       "      <td>Export</td>\n",
       "      <td>28.154328</td>\n",
       "      <td>23.536592</td>\n",
       "      <td>0.065018</td>\n",
       "    </tr>\n",
       "    <tr>\n",
       "      <th>107</th>\n",
       "      <td>15</td>\n",
       "      <td>0</td>\n",
       "      <td>007 Export group by results to Parquet</td>\n",
       "      <td>{\"duckdb_version\": \"v0.9.2\"}</td>\n",
       "      <td>1001</td>\n",
       "      <td>0.10.1</td>\n",
       "      <td>1.539420</td>\n",
       "      <td>0.9.2</td>\n",
       "      <td>Export</td>\n",
       "      <td>4</td>\n",
       "      <td>Export</td>\n",
       "      <td>26.268411</td>\n",
       "      <td>23.536592</td>\n",
       "      <td>0.065405</td>\n",
       "    </tr>\n",
       "    <tr>\n",
       "      <th>108</th>\n",
       "      <td>16</td>\n",
       "      <td>0</td>\n",
       "      <td>007 Export group by results to Parquet</td>\n",
       "      <td>{\"duckdb_version\": \"v0.10.0\"}</td>\n",
       "      <td>1001</td>\n",
       "      <td>0.10.1</td>\n",
       "      <td>1.512965</td>\n",
       "      <td>0.10.0</td>\n",
       "      <td>Export</td>\n",
       "      <td>4</td>\n",
       "      <td>Export</td>\n",
       "      <td>23.464754</td>\n",
       "      <td>23.536592</td>\n",
       "      <td>0.064281</td>\n",
       "    </tr>\n",
       "    <tr>\n",
       "      <th>109</th>\n",
       "      <td>17</td>\n",
       "      <td>0</td>\n",
       "      <td>007 Export group by results to Parquet</td>\n",
       "      <td>{\"duckdb_version\": \"v0.10.1\"}</td>\n",
       "      <td>1001</td>\n",
       "      <td>0.10.1</td>\n",
       "      <td>1.490883</td>\n",
       "      <td>0.10.1</td>\n",
       "      <td>Export</td>\n",
       "      <td>4</td>\n",
       "      <td>Export</td>\n",
       "      <td>23.536592</td>\n",
       "      <td>23.536592</td>\n",
       "      <td>0.063343</td>\n",
       "    </tr>\n",
       "    <tr>\n",
       "      <th>110</th>\n",
       "      <td>1</td>\n",
       "      <td>0</td>\n",
       "      <td>008 Scan and aggregate over Parquet file</td>\n",
       "      <td>{\"duckdb_version\": \"0.2.7\"}</td>\n",
       "      <td>1001</td>\n",
       "      <td>0.10.1</td>\n",
       "      <td>0.102710</td>\n",
       "      <td>0.2.7</td>\n",
       "      <td>Scan other formats</td>\n",
       "      <td>2</td>\n",
       "      <td>Scan other formats</td>\n",
       "      <td>104.646480</td>\n",
       "      <td>23.536592</td>\n",
       "      <td>0.004364</td>\n",
       "    </tr>\n",
       "    <tr>\n",
       "      <th>111</th>\n",
       "      <td>2</td>\n",
       "      <td>0</td>\n",
       "      <td>008 Scan and aggregate over Parquet file</td>\n",
       "      <td>{\"duckdb_version\": \"0.2.8\"}</td>\n",
       "      <td>1001</td>\n",
       "      <td>0.10.1</td>\n",
       "      <td>0.100378</td>\n",
       "      <td>0.2.8</td>\n",
       "      <td>Scan other formats</td>\n",
       "      <td>2</td>\n",
       "      <td>Scan other formats</td>\n",
       "      <td>93.684463</td>\n",
       "      <td>23.536592</td>\n",
       "      <td>0.004265</td>\n",
       "    </tr>\n",
       "    <tr>\n",
       "      <th>112</th>\n",
       "      <td>3</td>\n",
       "      <td>0</td>\n",
       "      <td>008 Scan and aggregate over Parquet file</td>\n",
       "      <td>{\"duckdb_version\": \"0.2.9\"}</td>\n",
       "      <td>1001</td>\n",
       "      <td>0.10.1</td>\n",
       "      <td>0.091674</td>\n",
       "      <td>0.2.9</td>\n",
       "      <td>Scan other formats</td>\n",
       "      <td>2</td>\n",
       "      <td>Scan other formats</td>\n",
       "      <td>88.535498</td>\n",
       "      <td>23.536592</td>\n",
       "      <td>0.003895</td>\n",
       "    </tr>\n",
       "    <tr>\n",
       "      <th>113</th>\n",
       "      <td>4</td>\n",
       "      <td>0</td>\n",
       "      <td>008 Scan and aggregate over Parquet file</td>\n",
       "      <td>{\"duckdb_version\": \"0.3.0\"}</td>\n",
       "      <td>1001</td>\n",
       "      <td>0.10.1</td>\n",
       "      <td>0.091033</td>\n",
       "      <td>0.3.0</td>\n",
       "      <td>Scan other formats</td>\n",
       "      <td>2</td>\n",
       "      <td>Scan other formats</td>\n",
       "      <td>88.889392</td>\n",
       "      <td>23.536592</td>\n",
       "      <td>0.003868</td>\n",
       "    </tr>\n",
       "    <tr>\n",
       "      <th>114</th>\n",
       "      <td>5</td>\n",
       "      <td>0</td>\n",
       "      <td>008 Scan and aggregate over Parquet file</td>\n",
       "      <td>{\"duckdb_version\": \"0.3.1\"}</td>\n",
       "      <td>1001</td>\n",
       "      <td>0.10.1</td>\n",
       "      <td>0.013998</td>\n",
       "      <td>0.3.1</td>\n",
       "      <td>Scan other formats</td>\n",
       "      <td>2</td>\n",
       "      <td>Scan other formats</td>\n",
       "      <td>85.424251</td>\n",
       "      <td>23.536592</td>\n",
       "      <td>0.000595</td>\n",
       "    </tr>\n",
       "    <tr>\n",
       "      <th>115</th>\n",
       "      <td>6</td>\n",
       "      <td>0</td>\n",
       "      <td>008 Scan and aggregate over Parquet file</td>\n",
       "      <td>{\"duckdb_version\": \"0.3.2\"}</td>\n",
       "      <td>1001</td>\n",
       "      <td>0.10.1</td>\n",
       "      <td>0.011714</td>\n",
       "      <td>0.3.2</td>\n",
       "      <td>Scan other formats</td>\n",
       "      <td>2</td>\n",
       "      <td>Scan other formats</td>\n",
       "      <td>96.161127</td>\n",
       "      <td>23.536592</td>\n",
       "      <td>0.000498</td>\n",
       "    </tr>\n",
       "    <tr>\n",
       "      <th>116</th>\n",
       "      <td>7</td>\n",
       "      <td>0</td>\n",
       "      <td>008 Scan and aggregate over Parquet file</td>\n",
       "      <td>{\"duckdb_version\": \"0.3.4\"}</td>\n",
       "      <td>1001</td>\n",
       "      <td>0.10.1</td>\n",
       "      <td>0.011483</td>\n",
       "      <td>0.3.4</td>\n",
       "      <td>Scan other formats</td>\n",
       "      <td>2</td>\n",
       "      <td>Scan other formats</td>\n",
       "      <td>206.385362</td>\n",
       "      <td>23.536592</td>\n",
       "      <td>0.000488</td>\n",
       "    </tr>\n",
       "    <tr>\n",
       "      <th>117</th>\n",
       "      <td>8</td>\n",
       "      <td>0</td>\n",
       "      <td>008 Scan and aggregate over Parquet file</td>\n",
       "      <td>{\"duckdb_version\": \"0.4.0\"}</td>\n",
       "      <td>1001</td>\n",
       "      <td>0.10.1</td>\n",
       "      <td>0.010759</td>\n",
       "      <td>0.4.0</td>\n",
       "      <td>Scan other formats</td>\n",
       "      <td>2</td>\n",
       "      <td>Scan other formats</td>\n",
       "      <td>209.713009</td>\n",
       "      <td>23.536592</td>\n",
       "      <td>0.000457</td>\n",
       "    </tr>\n",
       "    <tr>\n",
       "      <th>118</th>\n",
       "      <td>9</td>\n",
       "      <td>0</td>\n",
       "      <td>008 Scan and aggregate over Parquet file</td>\n",
       "      <td>{\"duckdb_version\": \"0.5.1\"}</td>\n",
       "      <td>1001</td>\n",
       "      <td>0.10.1</td>\n",
       "      <td>0.011823</td>\n",
       "      <td>0.5.1</td>\n",
       "      <td>Scan other formats</td>\n",
       "      <td>2</td>\n",
       "      <td>Scan other formats</td>\n",
       "      <td>99.349296</td>\n",
       "      <td>23.536592</td>\n",
       "      <td>0.000502</td>\n",
       "    </tr>\n",
       "    <tr>\n",
       "      <th>119</th>\n",
       "      <td>10</td>\n",
       "      <td>0</td>\n",
       "      <td>008 Scan and aggregate over Parquet file</td>\n",
       "      <td>{\"duckdb_version\": \"0.6.1\"}</td>\n",
       "      <td>1001</td>\n",
       "      <td>0.10.1</td>\n",
       "      <td>0.011219</td>\n",
       "      <td>0.6.1</td>\n",
       "      <td>Scan other formats</td>\n",
       "      <td>2</td>\n",
       "      <td>Scan other formats</td>\n",
       "      <td>42.473960</td>\n",
       "      <td>23.536592</td>\n",
       "      <td>0.000477</td>\n",
       "    </tr>\n",
       "    <tr>\n",
       "      <th>120</th>\n",
       "      <td>11</td>\n",
       "      <td>0</td>\n",
       "      <td>008 Scan and aggregate over Parquet file</td>\n",
       "      <td>{\"duckdb_version\": \"0.7.1\"}</td>\n",
       "      <td>1001</td>\n",
       "      <td>0.10.1</td>\n",
       "      <td>0.011484</td>\n",
       "      <td>0.7.1</td>\n",
       "      <td>Scan other formats</td>\n",
       "      <td>2</td>\n",
       "      <td>Scan other formats</td>\n",
       "      <td>39.450583</td>\n",
       "      <td>23.536592</td>\n",
       "      <td>0.000488</td>\n",
       "    </tr>\n",
       "    <tr>\n",
       "      <th>121</th>\n",
       "      <td>12</td>\n",
       "      <td>0</td>\n",
       "      <td>008 Scan and aggregate over Parquet file</td>\n",
       "      <td>{\"duckdb_version\": \"0.8.1\"}</td>\n",
       "      <td>1001</td>\n",
       "      <td>0.10.1</td>\n",
       "      <td>0.011125</td>\n",
       "      <td>0.8.1</td>\n",
       "      <td>Scan other formats</td>\n",
       "      <td>2</td>\n",
       "      <td>Scan other formats</td>\n",
       "      <td>27.426684</td>\n",
       "      <td>23.536592</td>\n",
       "      <td>0.000473</td>\n",
       "    </tr>\n",
       "    <tr>\n",
       "      <th>122</th>\n",
       "      <td>13</td>\n",
       "      <td>0</td>\n",
       "      <td>008 Scan and aggregate over Parquet file</td>\n",
       "      <td>{\"duckdb_version\": \"0.9.0\"}</td>\n",
       "      <td>1001</td>\n",
       "      <td>0.10.1</td>\n",
       "      <td>0.010533</td>\n",
       "      <td>0.9.0</td>\n",
       "      <td>Scan other formats</td>\n",
       "      <td>2</td>\n",
       "      <td>Scan other formats</td>\n",
       "      <td>27.531936</td>\n",
       "      <td>23.536592</td>\n",
       "      <td>0.000448</td>\n",
       "    </tr>\n",
       "    <tr>\n",
       "      <th>123</th>\n",
       "      <td>14</td>\n",
       "      <td>0</td>\n",
       "      <td>008 Scan and aggregate over Parquet file</td>\n",
       "      <td>{\"duckdb_version\": \"v0.9.1\"}</td>\n",
       "      <td>1001</td>\n",
       "      <td>0.10.1</td>\n",
       "      <td>0.010736</td>\n",
       "      <td>0.9.1</td>\n",
       "      <td>Scan other formats</td>\n",
       "      <td>2</td>\n",
       "      <td>Scan other formats</td>\n",
       "      <td>28.154328</td>\n",
       "      <td>23.536592</td>\n",
       "      <td>0.000456</td>\n",
       "    </tr>\n",
       "    <tr>\n",
       "      <th>124</th>\n",
       "      <td>15</td>\n",
       "      <td>0</td>\n",
       "      <td>008 Scan and aggregate over Parquet file</td>\n",
       "      <td>{\"duckdb_version\": \"v0.9.2\"}</td>\n",
       "      <td>1001</td>\n",
       "      <td>0.10.1</td>\n",
       "      <td>0.010779</td>\n",
       "      <td>0.9.2</td>\n",
       "      <td>Scan other formats</td>\n",
       "      <td>2</td>\n",
       "      <td>Scan other formats</td>\n",
       "      <td>26.268411</td>\n",
       "      <td>23.536592</td>\n",
       "      <td>0.000458</td>\n",
       "    </tr>\n",
       "    <tr>\n",
       "      <th>125</th>\n",
       "      <td>16</td>\n",
       "      <td>0</td>\n",
       "      <td>008 Scan and aggregate over Parquet file</td>\n",
       "      <td>{\"duckdb_version\": \"v0.10.0\"}</td>\n",
       "      <td>1001</td>\n",
       "      <td>0.10.1</td>\n",
       "      <td>0.010800</td>\n",
       "      <td>0.10.0</td>\n",
       "      <td>Scan other formats</td>\n",
       "      <td>2</td>\n",
       "      <td>Scan other formats</td>\n",
       "      <td>23.464754</td>\n",
       "      <td>23.536592</td>\n",
       "      <td>0.000459</td>\n",
       "    </tr>\n",
       "    <tr>\n",
       "      <th>126</th>\n",
       "      <td>17</td>\n",
       "      <td>0</td>\n",
       "      <td>008 Scan and aggregate over Parquet file</td>\n",
       "      <td>{\"duckdb_version\": \"v0.10.1\"}</td>\n",
       "      <td>1001</td>\n",
       "      <td>0.10.1</td>\n",
       "      <td>0.010920</td>\n",
       "      <td>0.10.1</td>\n",
       "      <td>Scan other formats</td>\n",
       "      <td>2</td>\n",
       "      <td>Scan other formats</td>\n",
       "      <td>23.536592</td>\n",
       "      <td>23.536592</td>\n",
       "      <td>0.000464</td>\n",
       "    </tr>\n",
       "    <tr>\n",
       "      <th>127</th>\n",
       "      <td>5</td>\n",
       "      <td>0</td>\n",
       "      <td>009 Export group by results to Arrow</td>\n",
       "      <td>{\"duckdb_version\": \"0.3.1\"}</td>\n",
       "      <td>1001</td>\n",
       "      <td>0.10.1</td>\n",
       "      <td>0.714329</td>\n",
       "      <td>0.3.1</td>\n",
       "      <td>Export</td>\n",
       "      <td>4</td>\n",
       "      <td>Export</td>\n",
       "      <td>85.424251</td>\n",
       "      <td>23.536592</td>\n",
       "      <td>0.030350</td>\n",
       "    </tr>\n",
       "    <tr>\n",
       "      <th>128</th>\n",
       "      <td>6</td>\n",
       "      <td>0</td>\n",
       "      <td>009 Export group by results to Arrow</td>\n",
       "      <td>{\"duckdb_version\": \"0.3.2\"}</td>\n",
       "      <td>1001</td>\n",
       "      <td>0.10.1</td>\n",
       "      <td>0.695521</td>\n",
       "      <td>0.3.2</td>\n",
       "      <td>Export</td>\n",
       "      <td>4</td>\n",
       "      <td>Export</td>\n",
       "      <td>96.161127</td>\n",
       "      <td>23.536592</td>\n",
       "      <td>0.029551</td>\n",
       "    </tr>\n",
       "    <tr>\n",
       "      <th>129</th>\n",
       "      <td>7</td>\n",
       "      <td>0</td>\n",
       "      <td>009 Export group by results to Arrow</td>\n",
       "      <td>{\"duckdb_version\": \"0.3.4\"}</td>\n",
       "      <td>1001</td>\n",
       "      <td>0.10.1</td>\n",
       "      <td>16.578398</td>\n",
       "      <td>0.3.4</td>\n",
       "      <td>Export</td>\n",
       "      <td>4</td>\n",
       "      <td>Export</td>\n",
       "      <td>206.385362</td>\n",
       "      <td>23.536592</td>\n",
       "      <td>0.704367</td>\n",
       "    </tr>\n",
       "    <tr>\n",
       "      <th>130</th>\n",
       "      <td>8</td>\n",
       "      <td>0</td>\n",
       "      <td>009 Export group by results to Arrow</td>\n",
       "      <td>{\"duckdb_version\": \"0.4.0\"}</td>\n",
       "      <td>1001</td>\n",
       "      <td>0.10.1</td>\n",
       "      <td>15.080015</td>\n",
       "      <td>0.4.0</td>\n",
       "      <td>Export</td>\n",
       "      <td>4</td>\n",
       "      <td>Export</td>\n",
       "      <td>209.713009</td>\n",
       "      <td>23.536592</td>\n",
       "      <td>0.640705</td>\n",
       "    </tr>\n",
       "    <tr>\n",
       "      <th>131</th>\n",
       "      <td>9</td>\n",
       "      <td>0</td>\n",
       "      <td>009 Export group by results to Arrow</td>\n",
       "      <td>{\"duckdb_version\": \"0.5.1\"}</td>\n",
       "      <td>1001</td>\n",
       "      <td>0.10.1</td>\n",
       "      <td>0.389686</td>\n",
       "      <td>0.5.1</td>\n",
       "      <td>Export</td>\n",
       "      <td>4</td>\n",
       "      <td>Export</td>\n",
       "      <td>99.349296</td>\n",
       "      <td>23.536592</td>\n",
       "      <td>0.016557</td>\n",
       "    </tr>\n",
       "    <tr>\n",
       "      <th>132</th>\n",
       "      <td>10</td>\n",
       "      <td>0</td>\n",
       "      <td>009 Export group by results to Arrow</td>\n",
       "      <td>{\"duckdb_version\": \"0.6.1\"}</td>\n",
       "      <td>1001</td>\n",
       "      <td>0.10.1</td>\n",
       "      <td>0.284812</td>\n",
       "      <td>0.6.1</td>\n",
       "      <td>Export</td>\n",
       "      <td>4</td>\n",
       "      <td>Export</td>\n",
       "      <td>42.473960</td>\n",
       "      <td>23.536592</td>\n",
       "      <td>0.012101</td>\n",
       "    </tr>\n",
       "    <tr>\n",
       "      <th>133</th>\n",
       "      <td>11</td>\n",
       "      <td>0</td>\n",
       "      <td>009 Export group by results to Arrow</td>\n",
       "      <td>{\"duckdb_version\": \"0.7.1\"}</td>\n",
       "      <td>1001</td>\n",
       "      <td>0.10.1</td>\n",
       "      <td>0.290598</td>\n",
       "      <td>0.7.1</td>\n",
       "      <td>Export</td>\n",
       "      <td>4</td>\n",
       "      <td>Export</td>\n",
       "      <td>39.450583</td>\n",
       "      <td>23.536592</td>\n",
       "      <td>0.012347</td>\n",
       "    </tr>\n",
       "    <tr>\n",
       "      <th>134</th>\n",
       "      <td>12</td>\n",
       "      <td>0</td>\n",
       "      <td>009 Export group by results to Arrow</td>\n",
       "      <td>{\"duckdb_version\": \"0.8.1\"}</td>\n",
       "      <td>1001</td>\n",
       "      <td>0.10.1</td>\n",
       "      <td>0.306640</td>\n",
       "      <td>0.8.1</td>\n",
       "      <td>Export</td>\n",
       "      <td>4</td>\n",
       "      <td>Export</td>\n",
       "      <td>27.426684</td>\n",
       "      <td>23.536592</td>\n",
       "      <td>0.013028</td>\n",
       "    </tr>\n",
       "    <tr>\n",
       "      <th>135</th>\n",
       "      <td>13</td>\n",
       "      <td>0</td>\n",
       "      <td>009 Export group by results to Arrow</td>\n",
       "      <td>{\"duckdb_version\": \"0.9.0\"}</td>\n",
       "      <td>1001</td>\n",
       "      <td>0.10.1</td>\n",
       "      <td>0.303673</td>\n",
       "      <td>0.9.0</td>\n",
       "      <td>Export</td>\n",
       "      <td>4</td>\n",
       "      <td>Export</td>\n",
       "      <td>27.531936</td>\n",
       "      <td>23.536592</td>\n",
       "      <td>0.012902</td>\n",
       "    </tr>\n",
       "    <tr>\n",
       "      <th>136</th>\n",
       "      <td>14</td>\n",
       "      <td>0</td>\n",
       "      <td>009 Export group by results to Arrow</td>\n",
       "      <td>{\"duckdb_version\": \"v0.9.1\"}</td>\n",
       "      <td>1001</td>\n",
       "      <td>0.10.1</td>\n",
       "      <td>0.310521</td>\n",
       "      <td>0.9.1</td>\n",
       "      <td>Export</td>\n",
       "      <td>4</td>\n",
       "      <td>Export</td>\n",
       "      <td>28.154328</td>\n",
       "      <td>23.536592</td>\n",
       "      <td>0.013193</td>\n",
       "    </tr>\n",
       "    <tr>\n",
       "      <th>137</th>\n",
       "      <td>15</td>\n",
       "      <td>0</td>\n",
       "      <td>009 Export group by results to Arrow</td>\n",
       "      <td>{\"duckdb_version\": \"v0.9.2\"}</td>\n",
       "      <td>1001</td>\n",
       "      <td>0.10.1</td>\n",
       "      <td>0.306260</td>\n",
       "      <td>0.9.2</td>\n",
       "      <td>Export</td>\n",
       "      <td>4</td>\n",
       "      <td>Export</td>\n",
       "      <td>26.268411</td>\n",
       "      <td>23.536592</td>\n",
       "      <td>0.013012</td>\n",
       "    </tr>\n",
       "    <tr>\n",
       "      <th>138</th>\n",
       "      <td>16</td>\n",
       "      <td>0</td>\n",
       "      <td>009 Export group by results to Arrow</td>\n",
       "      <td>{\"duckdb_version\": \"v0.10.0\"}</td>\n",
       "      <td>1001</td>\n",
       "      <td>0.10.1</td>\n",
       "      <td>0.372756</td>\n",
       "      <td>0.10.0</td>\n",
       "      <td>Export</td>\n",
       "      <td>4</td>\n",
       "      <td>Export</td>\n",
       "      <td>23.464754</td>\n",
       "      <td>23.536592</td>\n",
       "      <td>0.015837</td>\n",
       "    </tr>\n",
       "    <tr>\n",
       "      <th>139</th>\n",
       "      <td>17</td>\n",
       "      <td>0</td>\n",
       "      <td>009 Export group by results to Arrow</td>\n",
       "      <td>{\"duckdb_version\": \"v0.10.1\"}</td>\n",
       "      <td>1001</td>\n",
       "      <td>0.10.1</td>\n",
       "      <td>0.374376</td>\n",
       "      <td>0.10.1</td>\n",
       "      <td>Export</td>\n",
       "      <td>4</td>\n",
       "      <td>Export</td>\n",
       "      <td>23.536592</td>\n",
       "      <td>23.536592</td>\n",
       "      <td>0.015906</td>\n",
       "    </tr>\n",
       "    <tr>\n",
       "      <th>140</th>\n",
       "      <td>5</td>\n",
       "      <td>0</td>\n",
       "      <td>010 Scan and aggregate over Arrow df</td>\n",
       "      <td>{\"duckdb_version\": \"0.3.1\"}</td>\n",
       "      <td>1001</td>\n",
       "      <td>0.10.1</td>\n",
       "      <td>0.321786</td>\n",
       "      <td>0.3.1</td>\n",
       "      <td>Scan other formats</td>\n",
       "      <td>2</td>\n",
       "      <td>Scan other formats</td>\n",
       "      <td>85.424251</td>\n",
       "      <td>23.536592</td>\n",
       "      <td>0.013672</td>\n",
       "    </tr>\n",
       "    <tr>\n",
       "      <th>141</th>\n",
       "      <td>6</td>\n",
       "      <td>0</td>\n",
       "      <td>010 Scan and aggregate over Arrow df</td>\n",
       "      <td>{\"duckdb_version\": \"0.3.2\"}</td>\n",
       "      <td>1001</td>\n",
       "      <td>0.10.1</td>\n",
       "      <td>0.519990</td>\n",
       "      <td>0.3.2</td>\n",
       "      <td>Scan other formats</td>\n",
       "      <td>2</td>\n",
       "      <td>Scan other formats</td>\n",
       "      <td>96.161127</td>\n",
       "      <td>23.536592</td>\n",
       "      <td>0.022093</td>\n",
       "    </tr>\n",
       "    <tr>\n",
       "      <th>142</th>\n",
       "      <td>7</td>\n",
       "      <td>0</td>\n",
       "      <td>010 Scan and aggregate over Arrow df</td>\n",
       "      <td>{\"duckdb_version\": \"0.3.4\"}</td>\n",
       "      <td>1001</td>\n",
       "      <td>0.10.1</td>\n",
       "      <td>0.003314</td>\n",
       "      <td>0.3.4</td>\n",
       "      <td>Scan other formats</td>\n",
       "      <td>2</td>\n",
       "      <td>Scan other formats</td>\n",
       "      <td>206.385362</td>\n",
       "      <td>23.536592</td>\n",
       "      <td>0.000141</td>\n",
       "    </tr>\n",
       "    <tr>\n",
       "      <th>143</th>\n",
       "      <td>8</td>\n",
       "      <td>0</td>\n",
       "      <td>010 Scan and aggregate over Arrow df</td>\n",
       "      <td>{\"duckdb_version\": \"0.4.0\"}</td>\n",
       "      <td>1001</td>\n",
       "      <td>0.10.1</td>\n",
       "      <td>0.003868</td>\n",
       "      <td>0.4.0</td>\n",
       "      <td>Scan other formats</td>\n",
       "      <td>2</td>\n",
       "      <td>Scan other formats</td>\n",
       "      <td>209.713009</td>\n",
       "      <td>23.536592</td>\n",
       "      <td>0.000164</td>\n",
       "    </tr>\n",
       "    <tr>\n",
       "      <th>144</th>\n",
       "      <td>9</td>\n",
       "      <td>0</td>\n",
       "      <td>010 Scan and aggregate over Arrow df</td>\n",
       "      <td>{\"duckdb_version\": \"0.5.1\"}</td>\n",
       "      <td>1001</td>\n",
       "      <td>0.10.1</td>\n",
       "      <td>0.003838</td>\n",
       "      <td>0.5.1</td>\n",
       "      <td>Scan other formats</td>\n",
       "      <td>2</td>\n",
       "      <td>Scan other formats</td>\n",
       "      <td>99.349296</td>\n",
       "      <td>23.536592</td>\n",
       "      <td>0.000163</td>\n",
       "    </tr>\n",
       "    <tr>\n",
       "      <th>145</th>\n",
       "      <td>10</td>\n",
       "      <td>0</td>\n",
       "      <td>010 Scan and aggregate over Arrow df</td>\n",
       "      <td>{\"duckdb_version\": \"0.6.1\"}</td>\n",
       "      <td>1001</td>\n",
       "      <td>0.10.1</td>\n",
       "      <td>0.004443</td>\n",
       "      <td>0.6.1</td>\n",
       "      <td>Scan other formats</td>\n",
       "      <td>2</td>\n",
       "      <td>Scan other formats</td>\n",
       "      <td>42.473960</td>\n",
       "      <td>23.536592</td>\n",
       "      <td>0.000189</td>\n",
       "    </tr>\n",
       "    <tr>\n",
       "      <th>146</th>\n",
       "      <td>11</td>\n",
       "      <td>0</td>\n",
       "      <td>010 Scan and aggregate over Arrow df</td>\n",
       "      <td>{\"duckdb_version\": \"0.7.1\"}</td>\n",
       "      <td>1001</td>\n",
       "      <td>0.10.1</td>\n",
       "      <td>0.004571</td>\n",
       "      <td>0.7.1</td>\n",
       "      <td>Scan other formats</td>\n",
       "      <td>2</td>\n",
       "      <td>Scan other formats</td>\n",
       "      <td>39.450583</td>\n",
       "      <td>23.536592</td>\n",
       "      <td>0.000194</td>\n",
       "    </tr>\n",
       "    <tr>\n",
       "      <th>147</th>\n",
       "      <td>12</td>\n",
       "      <td>0</td>\n",
       "      <td>010 Scan and aggregate over Arrow df</td>\n",
       "      <td>{\"duckdb_version\": \"0.8.1\"}</td>\n",
       "      <td>1001</td>\n",
       "      <td>0.10.1</td>\n",
       "      <td>0.004569</td>\n",
       "      <td>0.8.1</td>\n",
       "      <td>Scan other formats</td>\n",
       "      <td>2</td>\n",
       "      <td>Scan other formats</td>\n",
       "      <td>27.426684</td>\n",
       "      <td>23.536592</td>\n",
       "      <td>0.000194</td>\n",
       "    </tr>\n",
       "    <tr>\n",
       "      <th>148</th>\n",
       "      <td>13</td>\n",
       "      <td>0</td>\n",
       "      <td>010 Scan and aggregate over Arrow df</td>\n",
       "      <td>{\"duckdb_version\": \"0.9.0\"}</td>\n",
       "      <td>1001</td>\n",
       "      <td>0.10.1</td>\n",
       "      <td>0.003784</td>\n",
       "      <td>0.9.0</td>\n",
       "      <td>Scan other formats</td>\n",
       "      <td>2</td>\n",
       "      <td>Scan other formats</td>\n",
       "      <td>27.531936</td>\n",
       "      <td>23.536592</td>\n",
       "      <td>0.000161</td>\n",
       "    </tr>\n",
       "    <tr>\n",
       "      <th>149</th>\n",
       "      <td>14</td>\n",
       "      <td>0</td>\n",
       "      <td>010 Scan and aggregate over Arrow df</td>\n",
       "      <td>{\"duckdb_version\": \"v0.9.1\"}</td>\n",
       "      <td>1001</td>\n",
       "      <td>0.10.1</td>\n",
       "      <td>0.003807</td>\n",
       "      <td>0.9.1</td>\n",
       "      <td>Scan other formats</td>\n",
       "      <td>2</td>\n",
       "      <td>Scan other formats</td>\n",
       "      <td>28.154328</td>\n",
       "      <td>23.536592</td>\n",
       "      <td>0.000162</td>\n",
       "    </tr>\n",
       "    <tr>\n",
       "      <th>150</th>\n",
       "      <td>15</td>\n",
       "      <td>0</td>\n",
       "      <td>010 Scan and aggregate over Arrow df</td>\n",
       "      <td>{\"duckdb_version\": \"v0.9.2\"}</td>\n",
       "      <td>1001</td>\n",
       "      <td>0.10.1</td>\n",
       "      <td>0.003609</td>\n",
       "      <td>0.9.2</td>\n",
       "      <td>Scan other formats</td>\n",
       "      <td>2</td>\n",
       "      <td>Scan other formats</td>\n",
       "      <td>26.268411</td>\n",
       "      <td>23.536592</td>\n",
       "      <td>0.000153</td>\n",
       "    </tr>\n",
       "    <tr>\n",
       "      <th>151</th>\n",
       "      <td>16</td>\n",
       "      <td>0</td>\n",
       "      <td>010 Scan and aggregate over Arrow df</td>\n",
       "      <td>{\"duckdb_version\": \"v0.10.0\"}</td>\n",
       "      <td>1001</td>\n",
       "      <td>0.10.1</td>\n",
       "      <td>0.005559</td>\n",
       "      <td>0.10.0</td>\n",
       "      <td>Scan other formats</td>\n",
       "      <td>2</td>\n",
       "      <td>Scan other formats</td>\n",
       "      <td>23.464754</td>\n",
       "      <td>23.536592</td>\n",
       "      <td>0.000236</td>\n",
       "    </tr>\n",
       "    <tr>\n",
       "      <th>152</th>\n",
       "      <td>17</td>\n",
       "      <td>0</td>\n",
       "      <td>010 Scan and aggregate over Arrow df</td>\n",
       "      <td>{\"duckdb_version\": \"v0.10.1\"}</td>\n",
       "      <td>1001</td>\n",
       "      <td>0.10.1</td>\n",
       "      <td>0.003691</td>\n",
       "      <td>0.10.1</td>\n",
       "      <td>Scan other formats</td>\n",
       "      <td>2</td>\n",
       "      <td>Scan other formats</td>\n",
       "      <td>23.536592</td>\n",
       "      <td>23.536592</td>\n",
       "      <td>0.000157</td>\n",
       "    </tr>\n",
       "    <tr>\n",
       "      <th>153</th>\n",
       "      <td>1</td>\n",
       "      <td>0</td>\n",
       "      <td>011 Create tables from csvs joins</td>\n",
       "      <td>{\"duckdb_version\": \"0.2.7\"}</td>\n",
       "      <td>1001</td>\n",
       "      <td>0.10.1</td>\n",
       "      <td>9.000278</td>\n",
       "      <td>0.2.7</td>\n",
       "      <td>CSV Import</td>\n",
       "      <td>1</td>\n",
       "      <td>CSV Import</td>\n",
       "      <td>104.646480</td>\n",
       "      <td>23.536592</td>\n",
       "      <td>0.382395</td>\n",
       "    </tr>\n",
       "    <tr>\n",
       "      <th>154</th>\n",
       "      <td>2</td>\n",
       "      <td>0</td>\n",
       "      <td>011 Create tables from csvs joins</td>\n",
       "      <td>{\"duckdb_version\": \"0.2.8\"}</td>\n",
       "      <td>1001</td>\n",
       "      <td>0.10.1</td>\n",
       "      <td>8.789042</td>\n",
       "      <td>0.2.8</td>\n",
       "      <td>CSV Import</td>\n",
       "      <td>1</td>\n",
       "      <td>CSV Import</td>\n",
       "      <td>93.684463</td>\n",
       "      <td>23.536592</td>\n",
       "      <td>0.373420</td>\n",
       "    </tr>\n",
       "    <tr>\n",
       "      <th>155</th>\n",
       "      <td>3</td>\n",
       "      <td>0</td>\n",
       "      <td>011 Create tables from csvs joins</td>\n",
       "      <td>{\"duckdb_version\": \"0.2.9\"}</td>\n",
       "      <td>1001</td>\n",
       "      <td>0.10.1</td>\n",
       "      <td>9.444966</td>\n",
       "      <td>0.2.9</td>\n",
       "      <td>CSV Import</td>\n",
       "      <td>1</td>\n",
       "      <td>CSV Import</td>\n",
       "      <td>88.535498</td>\n",
       "      <td>23.536592</td>\n",
       "      <td>0.401289</td>\n",
       "    </tr>\n",
       "    <tr>\n",
       "      <th>156</th>\n",
       "      <td>4</td>\n",
       "      <td>0</td>\n",
       "      <td>011 Create tables from csvs joins</td>\n",
       "      <td>{\"duckdb_version\": \"0.3.0\"}</td>\n",
       "      <td>1001</td>\n",
       "      <td>0.10.1</td>\n",
       "      <td>9.685044</td>\n",
       "      <td>0.3.0</td>\n",
       "      <td>CSV Import</td>\n",
       "      <td>1</td>\n",
       "      <td>CSV Import</td>\n",
       "      <td>88.889392</td>\n",
       "      <td>23.536592</td>\n",
       "      <td>0.411489</td>\n",
       "    </tr>\n",
       "    <tr>\n",
       "      <th>157</th>\n",
       "      <td>5</td>\n",
       "      <td>0</td>\n",
       "      <td>011 Create tables from csvs joins</td>\n",
       "      <td>{\"duckdb_version\": \"0.3.1\"}</td>\n",
       "      <td>1001</td>\n",
       "      <td>0.10.1</td>\n",
       "      <td>10.135207</td>\n",
       "      <td>0.3.1</td>\n",
       "      <td>CSV Import</td>\n",
       "      <td>1</td>\n",
       "      <td>CSV Import</td>\n",
       "      <td>85.424251</td>\n",
       "      <td>23.536592</td>\n",
       "      <td>0.430615</td>\n",
       "    </tr>\n",
       "    <tr>\n",
       "      <th>158</th>\n",
       "      <td>6</td>\n",
       "      <td>0</td>\n",
       "      <td>011 Create tables from csvs joins</td>\n",
       "      <td>{\"duckdb_version\": \"0.3.2\"}</td>\n",
       "      <td>1001</td>\n",
       "      <td>0.10.1</td>\n",
       "      <td>10.167239</td>\n",
       "      <td>0.3.2</td>\n",
       "      <td>CSV Import</td>\n",
       "      <td>1</td>\n",
       "      <td>CSV Import</td>\n",
       "      <td>96.161127</td>\n",
       "      <td>23.536592</td>\n",
       "      <td>0.431976</td>\n",
       "    </tr>\n",
       "    <tr>\n",
       "      <th>159</th>\n",
       "      <td>7</td>\n",
       "      <td>0</td>\n",
       "      <td>011 Create tables from csvs joins</td>\n",
       "      <td>{\"duckdb_version\": \"0.3.4\"}</td>\n",
       "      <td>1001</td>\n",
       "      <td>0.10.1</td>\n",
       "      <td>13.799681</td>\n",
       "      <td>0.3.4</td>\n",
       "      <td>CSV Import</td>\n",
       "      <td>1</td>\n",
       "      <td>CSV Import</td>\n",
       "      <td>206.385362</td>\n",
       "      <td>23.536592</td>\n",
       "      <td>0.586308</td>\n",
       "    </tr>\n",
       "    <tr>\n",
       "      <th>160</th>\n",
       "      <td>8</td>\n",
       "      <td>0</td>\n",
       "      <td>011 Create tables from csvs joins</td>\n",
       "      <td>{\"duckdb_version\": \"0.4.0\"}</td>\n",
       "      <td>1001</td>\n",
       "      <td>0.10.1</td>\n",
       "      <td>14.952031</td>\n",
       "      <td>0.4.0</td>\n",
       "      <td>CSV Import</td>\n",
       "      <td>1</td>\n",
       "      <td>CSV Import</td>\n",
       "      <td>209.713009</td>\n",
       "      <td>23.536592</td>\n",
       "      <td>0.635267</td>\n",
       "    </tr>\n",
       "    <tr>\n",
       "      <th>161</th>\n",
       "      <td>9</td>\n",
       "      <td>0</td>\n",
       "      <td>011 Create tables from csvs joins</td>\n",
       "      <td>{\"duckdb_version\": \"0.5.1\"}</td>\n",
       "      <td>1001</td>\n",
       "      <td>0.10.1</td>\n",
       "      <td>14.209869</td>\n",
       "      <td>0.5.1</td>\n",
       "      <td>CSV Import</td>\n",
       "      <td>1</td>\n",
       "      <td>CSV Import</td>\n",
       "      <td>99.349296</td>\n",
       "      <td>23.536592</td>\n",
       "      <td>0.603735</td>\n",
       "    </tr>\n",
       "    <tr>\n",
       "      <th>162</th>\n",
       "      <td>10</td>\n",
       "      <td>0</td>\n",
       "      <td>011 Create tables from csvs joins</td>\n",
       "      <td>{\"duckdb_version\": \"0.6.1\"}</td>\n",
       "      <td>1001</td>\n",
       "      <td>0.10.1</td>\n",
       "      <td>13.487855</td>\n",
       "      <td>0.6.1</td>\n",
       "      <td>CSV Import</td>\n",
       "      <td>1</td>\n",
       "      <td>CSV Import</td>\n",
       "      <td>42.473960</td>\n",
       "      <td>23.536592</td>\n",
       "      <td>0.573059</td>\n",
       "    </tr>\n",
       "    <tr>\n",
       "      <th>163</th>\n",
       "      <td>11</td>\n",
       "      <td>0</td>\n",
       "      <td>011 Create tables from csvs joins</td>\n",
       "      <td>{\"duckdb_version\": \"0.7.1\"}</td>\n",
       "      <td>1001</td>\n",
       "      <td>0.10.1</td>\n",
       "      <td>13.399229</td>\n",
       "      <td>0.7.1</td>\n",
       "      <td>CSV Import</td>\n",
       "      <td>1</td>\n",
       "      <td>CSV Import</td>\n",
       "      <td>39.450583</td>\n",
       "      <td>23.536592</td>\n",
       "      <td>0.569294</td>\n",
       "    </tr>\n",
       "    <tr>\n",
       "      <th>164</th>\n",
       "      <td>12</td>\n",
       "      <td>0</td>\n",
       "      <td>011 Create tables from csvs joins</td>\n",
       "      <td>{\"duckdb_version\": \"0.8.1\"}</td>\n",
       "      <td>1001</td>\n",
       "      <td>0.10.1</td>\n",
       "      <td>5.317326</td>\n",
       "      <td>0.8.1</td>\n",
       "      <td>CSV Import</td>\n",
       "      <td>1</td>\n",
       "      <td>CSV Import</td>\n",
       "      <td>27.426684</td>\n",
       "      <td>23.536592</td>\n",
       "      <td>0.225917</td>\n",
       "    </tr>\n",
       "    <tr>\n",
       "      <th>165</th>\n",
       "      <td>13</td>\n",
       "      <td>0</td>\n",
       "      <td>011 Create tables from csvs joins</td>\n",
       "      <td>{\"duckdb_version\": \"0.9.0\"}</td>\n",
       "      <td>1001</td>\n",
       "      <td>0.10.1</td>\n",
       "      <td>4.645056</td>\n",
       "      <td>0.9.0</td>\n",
       "      <td>CSV Import</td>\n",
       "      <td>1</td>\n",
       "      <td>CSV Import</td>\n",
       "      <td>27.531936</td>\n",
       "      <td>23.536592</td>\n",
       "      <td>0.197355</td>\n",
       "    </tr>\n",
       "    <tr>\n",
       "      <th>166</th>\n",
       "      <td>14</td>\n",
       "      <td>0</td>\n",
       "      <td>011 Create tables from csvs joins</td>\n",
       "      <td>{\"duckdb_version\": \"v0.9.1\"}</td>\n",
       "      <td>1001</td>\n",
       "      <td>0.10.1</td>\n",
       "      <td>5.532815</td>\n",
       "      <td>0.9.1</td>\n",
       "      <td>CSV Import</td>\n",
       "      <td>1</td>\n",
       "      <td>CSV Import</td>\n",
       "      <td>28.154328</td>\n",
       "      <td>23.536592</td>\n",
       "      <td>0.235073</td>\n",
       "    </tr>\n",
       "    <tr>\n",
       "      <th>167</th>\n",
       "      <td>15</td>\n",
       "      <td>0</td>\n",
       "      <td>011 Create tables from csvs joins</td>\n",
       "      <td>{\"duckdb_version\": \"v0.9.2\"}</td>\n",
       "      <td>1001</td>\n",
       "      <td>0.10.1</td>\n",
       "      <td>4.028918</td>\n",
       "      <td>0.9.2</td>\n",
       "      <td>CSV Import</td>\n",
       "      <td>1</td>\n",
       "      <td>CSV Import</td>\n",
       "      <td>26.268411</td>\n",
       "      <td>23.536592</td>\n",
       "      <td>0.171177</td>\n",
       "    </tr>\n",
       "    <tr>\n",
       "      <th>168</th>\n",
       "      <td>16</td>\n",
       "      <td>0</td>\n",
       "      <td>011 Create tables from csvs joins</td>\n",
       "      <td>{\"duckdb_version\": \"v0.10.0\"}</td>\n",
       "      <td>1001</td>\n",
       "      <td>0.10.1</td>\n",
       "      <td>3.261596</td>\n",
       "      <td>0.10.0</td>\n",
       "      <td>CSV Import</td>\n",
       "      <td>1</td>\n",
       "      <td>CSV Import</td>\n",
       "      <td>23.464754</td>\n",
       "      <td>23.536592</td>\n",
       "      <td>0.138576</td>\n",
       "    </tr>\n",
       "    <tr>\n",
       "      <th>169</th>\n",
       "      <td>17</td>\n",
       "      <td>0</td>\n",
       "      <td>011 Create tables from csvs joins</td>\n",
       "      <td>{\"duckdb_version\": \"v0.10.1\"}</td>\n",
       "      <td>1001</td>\n",
       "      <td>0.10.1</td>\n",
       "      <td>3.328050</td>\n",
       "      <td>0.10.1</td>\n",
       "      <td>CSV Import</td>\n",
       "      <td>1</td>\n",
       "      <td>CSV Import</td>\n",
       "      <td>23.536592</td>\n",
       "      <td>23.536592</td>\n",
       "      <td>0.141399</td>\n",
       "    </tr>\n",
       "    <tr>\n",
       "      <th>170</th>\n",
       "      <td>10</td>\n",
       "      <td>0</td>\n",
       "      <td>012 Convert to Enums for joins</td>\n",
       "      <td>{\"duckdb_version\": \"0.6.1\"}</td>\n",
       "      <td>1001</td>\n",
       "      <td>0.10.1</td>\n",
       "      <td>2.168022</td>\n",
       "      <td>0.6.1</td>\n",
       "      <td>Analysis</td>\n",
       "      <td>3</td>\n",
       "      <td>Analysis</td>\n",
       "      <td>42.473960</td>\n",
       "      <td>23.536592</td>\n",
       "      <td>0.092113</td>\n",
       "    </tr>\n",
       "    <tr>\n",
       "      <th>171</th>\n",
       "      <td>11</td>\n",
       "      <td>0</td>\n",
       "      <td>012 Convert to Enums for joins</td>\n",
       "      <td>{\"duckdb_version\": \"0.7.1\"}</td>\n",
       "      <td>1001</td>\n",
       "      <td>0.10.1</td>\n",
       "      <td>1.804777</td>\n",
       "      <td>0.7.1</td>\n",
       "      <td>Analysis</td>\n",
       "      <td>3</td>\n",
       "      <td>Analysis</td>\n",
       "      <td>39.450583</td>\n",
       "      <td>23.536592</td>\n",
       "      <td>0.076680</td>\n",
       "    </tr>\n",
       "    <tr>\n",
       "      <th>172</th>\n",
       "      <td>12</td>\n",
       "      <td>0</td>\n",
       "      <td>012 Convert to Enums for joins</td>\n",
       "      <td>{\"duckdb_version\": \"0.8.1\"}</td>\n",
       "      <td>1001</td>\n",
       "      <td>0.10.1</td>\n",
       "      <td>3.143374</td>\n",
       "      <td>0.8.1</td>\n",
       "      <td>Analysis</td>\n",
       "      <td>3</td>\n",
       "      <td>Analysis</td>\n",
       "      <td>27.426684</td>\n",
       "      <td>23.536592</td>\n",
       "      <td>0.133553</td>\n",
       "    </tr>\n",
       "    <tr>\n",
       "      <th>173</th>\n",
       "      <td>13</td>\n",
       "      <td>0</td>\n",
       "      <td>012 Convert to Enums for joins</td>\n",
       "      <td>{\"duckdb_version\": \"0.9.0\"}</td>\n",
       "      <td>1001</td>\n",
       "      <td>0.10.1</td>\n",
       "      <td>3.156908</td>\n",
       "      <td>0.9.0</td>\n",
       "      <td>Analysis</td>\n",
       "      <td>3</td>\n",
       "      <td>Analysis</td>\n",
       "      <td>27.531936</td>\n",
       "      <td>23.536592</td>\n",
       "      <td>0.134128</td>\n",
       "    </tr>\n",
       "    <tr>\n",
       "      <th>174</th>\n",
       "      <td>14</td>\n",
       "      <td>0</td>\n",
       "      <td>012 Convert to Enums for joins</td>\n",
       "      <td>{\"duckdb_version\": \"v0.9.1\"}</td>\n",
       "      <td>1001</td>\n",
       "      <td>0.10.1</td>\n",
       "      <td>3.065938</td>\n",
       "      <td>0.9.1</td>\n",
       "      <td>Analysis</td>\n",
       "      <td>3</td>\n",
       "      <td>Analysis</td>\n",
       "      <td>28.154328</td>\n",
       "      <td>23.536592</td>\n",
       "      <td>0.130263</td>\n",
       "    </tr>\n",
       "    <tr>\n",
       "      <th>175</th>\n",
       "      <td>15</td>\n",
       "      <td>0</td>\n",
       "      <td>012 Convert to Enums for joins</td>\n",
       "      <td>{\"duckdb_version\": \"v0.9.2\"}</td>\n",
       "      <td>1001</td>\n",
       "      <td>0.10.1</td>\n",
       "      <td>3.261357</td>\n",
       "      <td>0.9.2</td>\n",
       "      <td>Analysis</td>\n",
       "      <td>3</td>\n",
       "      <td>Analysis</td>\n",
       "      <td>26.268411</td>\n",
       "      <td>23.536592</td>\n",
       "      <td>0.138565</td>\n",
       "    </tr>\n",
       "    <tr>\n",
       "      <th>176</th>\n",
       "      <td>16</td>\n",
       "      <td>0</td>\n",
       "      <td>012 Convert to Enums for joins</td>\n",
       "      <td>{\"duckdb_version\": \"v0.10.0\"}</td>\n",
       "      <td>1001</td>\n",
       "      <td>0.10.1</td>\n",
       "      <td>2.209412</td>\n",
       "      <td>0.10.0</td>\n",
       "      <td>Analysis</td>\n",
       "      <td>3</td>\n",
       "      <td>Analysis</td>\n",
       "      <td>23.464754</td>\n",
       "      <td>23.536592</td>\n",
       "      <td>0.093871</td>\n",
       "    </tr>\n",
       "    <tr>\n",
       "      <th>177</th>\n",
       "      <td>17</td>\n",
       "      <td>0</td>\n",
       "      <td>012 Convert to Enums for joins</td>\n",
       "      <td>{\"duckdb_version\": \"v0.10.1\"}</td>\n",
       "      <td>1001</td>\n",
       "      <td>0.10.1</td>\n",
       "      <td>2.194007</td>\n",
       "      <td>0.10.1</td>\n",
       "      <td>Analysis</td>\n",
       "      <td>3</td>\n",
       "      <td>Analysis</td>\n",
       "      <td>23.536592</td>\n",
       "      <td>23.536592</td>\n",
       "      <td>0.093217</td>\n",
       "    </tr>\n",
       "    <tr>\n",
       "      <th>178</th>\n",
       "      <td>1</td>\n",
       "      <td>0</td>\n",
       "      <td>013 Join queries</td>\n",
       "      <td>{\"duckdb_version\": \"0.2.7\"}</td>\n",
       "      <td>1001</td>\n",
       "      <td>0.10.1</td>\n",
       "      <td>23.821901</td>\n",
       "      <td>0.2.7</td>\n",
       "      <td>Analysis</td>\n",
       "      <td>3</td>\n",
       "      <td>Analysis</td>\n",
       "      <td>104.646480</td>\n",
       "      <td>23.536592</td>\n",
       "      <td>1.012122</td>\n",
       "    </tr>\n",
       "    <tr>\n",
       "      <th>179</th>\n",
       "      <td>2</td>\n",
       "      <td>0</td>\n",
       "      <td>013 Join queries</td>\n",
       "      <td>{\"duckdb_version\": \"0.2.8\"}</td>\n",
       "      <td>1001</td>\n",
       "      <td>0.10.1</td>\n",
       "      <td>21.935621</td>\n",
       "      <td>0.2.8</td>\n",
       "      <td>Analysis</td>\n",
       "      <td>3</td>\n",
       "      <td>Analysis</td>\n",
       "      <td>93.684463</td>\n",
       "      <td>23.536592</td>\n",
       "      <td>0.931980</td>\n",
       "    </tr>\n",
       "    <tr>\n",
       "      <th>180</th>\n",
       "      <td>3</td>\n",
       "      <td>0</td>\n",
       "      <td>013 Join queries</td>\n",
       "      <td>{\"duckdb_version\": \"0.2.9\"}</td>\n",
       "      <td>1001</td>\n",
       "      <td>0.10.1</td>\n",
       "      <td>23.939756</td>\n",
       "      <td>0.2.9</td>\n",
       "      <td>Analysis</td>\n",
       "      <td>3</td>\n",
       "      <td>Analysis</td>\n",
       "      <td>88.535498</td>\n",
       "      <td>23.536592</td>\n",
       "      <td>1.017129</td>\n",
       "    </tr>\n",
       "    <tr>\n",
       "      <th>181</th>\n",
       "      <td>4</td>\n",
       "      <td>0</td>\n",
       "      <td>013 Join queries</td>\n",
       "      <td>{\"duckdb_version\": \"0.3.0\"}</td>\n",
       "      <td>1001</td>\n",
       "      <td>0.10.1</td>\n",
       "      <td>23.811306</td>\n",
       "      <td>0.3.0</td>\n",
       "      <td>Analysis</td>\n",
       "      <td>3</td>\n",
       "      <td>Analysis</td>\n",
       "      <td>88.889392</td>\n",
       "      <td>23.536592</td>\n",
       "      <td>1.011672</td>\n",
       "    </tr>\n",
       "    <tr>\n",
       "      <th>182</th>\n",
       "      <td>5</td>\n",
       "      <td>0</td>\n",
       "      <td>013 Join queries</td>\n",
       "      <td>{\"duckdb_version\": \"0.3.1\"}</td>\n",
       "      <td>1001</td>\n",
       "      <td>0.10.1</td>\n",
       "      <td>23.266799</td>\n",
       "      <td>0.3.1</td>\n",
       "      <td>Analysis</td>\n",
       "      <td>3</td>\n",
       "      <td>Analysis</td>\n",
       "      <td>85.424251</td>\n",
       "      <td>23.536592</td>\n",
       "      <td>0.988537</td>\n",
       "    </tr>\n",
       "    <tr>\n",
       "      <th>183</th>\n",
       "      <td>6</td>\n",
       "      <td>0</td>\n",
       "      <td>013 Join queries</td>\n",
       "      <td>{\"duckdb_version\": \"0.3.2\"}</td>\n",
       "      <td>1001</td>\n",
       "      <td>0.10.1</td>\n",
       "      <td>24.609514</td>\n",
       "      <td>0.3.2</td>\n",
       "      <td>Analysis</td>\n",
       "      <td>3</td>\n",
       "      <td>Analysis</td>\n",
       "      <td>96.161127</td>\n",
       "      <td>23.536592</td>\n",
       "      <td>1.045585</td>\n",
       "    </tr>\n",
       "    <tr>\n",
       "      <th>184</th>\n",
       "      <td>7</td>\n",
       "      <td>0</td>\n",
       "      <td>013 Join queries</td>\n",
       "      <td>{\"duckdb_version\": \"0.3.4\"}</td>\n",
       "      <td>1001</td>\n",
       "      <td>0.10.1</td>\n",
       "      <td>36.329135</td>\n",
       "      <td>0.3.4</td>\n",
       "      <td>Analysis</td>\n",
       "      <td>3</td>\n",
       "      <td>Analysis</td>\n",
       "      <td>206.385362</td>\n",
       "      <td>23.536592</td>\n",
       "      <td>1.543517</td>\n",
       "    </tr>\n",
       "    <tr>\n",
       "      <th>185</th>\n",
       "      <td>8</td>\n",
       "      <td>0</td>\n",
       "      <td>013 Join queries</td>\n",
       "      <td>{\"duckdb_version\": \"0.4.0\"}</td>\n",
       "      <td>1001</td>\n",
       "      <td>0.10.1</td>\n",
       "      <td>39.881348</td>\n",
       "      <td>0.4.0</td>\n",
       "      <td>Analysis</td>\n",
       "      <td>3</td>\n",
       "      <td>Analysis</td>\n",
       "      <td>209.713009</td>\n",
       "      <td>23.536592</td>\n",
       "      <td>1.694440</td>\n",
       "    </tr>\n",
       "    <tr>\n",
       "      <th>186</th>\n",
       "      <td>9</td>\n",
       "      <td>0</td>\n",
       "      <td>013 Join queries</td>\n",
       "      <td>{\"duckdb_version\": \"0.5.1\"}</td>\n",
       "      <td>1001</td>\n",
       "      <td>0.10.1</td>\n",
       "      <td>37.027964</td>\n",
       "      <td>0.5.1</td>\n",
       "      <td>Analysis</td>\n",
       "      <td>3</td>\n",
       "      <td>Analysis</td>\n",
       "      <td>99.349296</td>\n",
       "      <td>23.536592</td>\n",
       "      <td>1.573208</td>\n",
       "    </tr>\n",
       "    <tr>\n",
       "      <th>187</th>\n",
       "      <td>10</td>\n",
       "      <td>0</td>\n",
       "      <td>013 Join queries</td>\n",
       "      <td>{\"duckdb_version\": \"0.6.1\"}</td>\n",
       "      <td>1001</td>\n",
       "      <td>0.10.1</td>\n",
       "      <td>5.900247</td>\n",
       "      <td>0.6.1</td>\n",
       "      <td>Analysis</td>\n",
       "      <td>3</td>\n",
       "      <td>Analysis</td>\n",
       "      <td>42.473960</td>\n",
       "      <td>23.536592</td>\n",
       "      <td>0.250684</td>\n",
       "    </tr>\n",
       "    <tr>\n",
       "      <th>188</th>\n",
       "      <td>11</td>\n",
       "      <td>0</td>\n",
       "      <td>013 Join queries</td>\n",
       "      <td>{\"duckdb_version\": \"0.7.1\"}</td>\n",
       "      <td>1001</td>\n",
       "      <td>0.10.1</td>\n",
       "      <td>3.515694</td>\n",
       "      <td>0.7.1</td>\n",
       "      <td>Analysis</td>\n",
       "      <td>3</td>\n",
       "      <td>Analysis</td>\n",
       "      <td>39.450583</td>\n",
       "      <td>23.536592</td>\n",
       "      <td>0.149371</td>\n",
       "    </tr>\n",
       "    <tr>\n",
       "      <th>189</th>\n",
       "      <td>12</td>\n",
       "      <td>0</td>\n",
       "      <td>013 Join queries</td>\n",
       "      <td>{\"duckdb_version\": \"0.8.1\"}</td>\n",
       "      <td>1001</td>\n",
       "      <td>0.10.1</td>\n",
       "      <td>4.550072</td>\n",
       "      <td>0.8.1</td>\n",
       "      <td>Analysis</td>\n",
       "      <td>3</td>\n",
       "      <td>Analysis</td>\n",
       "      <td>27.426684</td>\n",
       "      <td>23.536592</td>\n",
       "      <td>0.193319</td>\n",
       "    </tr>\n",
       "    <tr>\n",
       "      <th>190</th>\n",
       "      <td>13</td>\n",
       "      <td>0</td>\n",
       "      <td>013 Join queries</td>\n",
       "      <td>{\"duckdb_version\": \"0.9.0\"}</td>\n",
       "      <td>1001</td>\n",
       "      <td>0.10.1</td>\n",
       "      <td>4.415934</td>\n",
       "      <td>0.9.0</td>\n",
       "      <td>Analysis</td>\n",
       "      <td>3</td>\n",
       "      <td>Analysis</td>\n",
       "      <td>27.531936</td>\n",
       "      <td>23.536592</td>\n",
       "      <td>0.187620</td>\n",
       "    </tr>\n",
       "    <tr>\n",
       "      <th>191</th>\n",
       "      <td>14</td>\n",
       "      <td>0</td>\n",
       "      <td>013 Join queries</td>\n",
       "      <td>{\"duckdb_version\": \"v0.9.1\"}</td>\n",
       "      <td>1001</td>\n",
       "      <td>0.10.1</td>\n",
       "      <td>4.382592</td>\n",
       "      <td>0.9.1</td>\n",
       "      <td>Analysis</td>\n",
       "      <td>3</td>\n",
       "      <td>Analysis</td>\n",
       "      <td>28.154328</td>\n",
       "      <td>23.536592</td>\n",
       "      <td>0.186203</td>\n",
       "    </tr>\n",
       "    <tr>\n",
       "      <th>192</th>\n",
       "      <td>15</td>\n",
       "      <td>0</td>\n",
       "      <td>013 Join queries</td>\n",
       "      <td>{\"duckdb_version\": \"v0.9.2\"}</td>\n",
       "      <td>1001</td>\n",
       "      <td>0.10.1</td>\n",
       "      <td>4.435296</td>\n",
       "      <td>0.9.2</td>\n",
       "      <td>Analysis</td>\n",
       "      <td>3</td>\n",
       "      <td>Analysis</td>\n",
       "      <td>26.268411</td>\n",
       "      <td>23.536592</td>\n",
       "      <td>0.188443</td>\n",
       "    </tr>\n",
       "    <tr>\n",
       "      <th>193</th>\n",
       "      <td>16</td>\n",
       "      <td>0</td>\n",
       "      <td>013 Join queries</td>\n",
       "      <td>{\"duckdb_version\": \"v0.10.0\"}</td>\n",
       "      <td>1001</td>\n",
       "      <td>0.10.1</td>\n",
       "      <td>3.331023</td>\n",
       "      <td>0.10.0</td>\n",
       "      <td>Analysis</td>\n",
       "      <td>3</td>\n",
       "      <td>Analysis</td>\n",
       "      <td>23.464754</td>\n",
       "      <td>23.536592</td>\n",
       "      <td>0.141525</td>\n",
       "    </tr>\n",
       "    <tr>\n",
       "      <th>194</th>\n",
       "      <td>17</td>\n",
       "      <td>0</td>\n",
       "      <td>013 Join queries</td>\n",
       "      <td>{\"duckdb_version\": \"v0.10.1\"}</td>\n",
       "      <td>1001</td>\n",
       "      <td>0.10.1</td>\n",
       "      <td>3.316501</td>\n",
       "      <td>0.10.1</td>\n",
       "      <td>Analysis</td>\n",
       "      <td>3</td>\n",
       "      <td>Analysis</td>\n",
       "      <td>23.536592</td>\n",
       "      <td>23.536592</td>\n",
       "      <td>0.140908</td>\n",
       "    </tr>\n",
       "    <tr>\n",
       "      <th>195</th>\n",
       "      <td>1</td>\n",
       "      <td>0</td>\n",
       "      <td>014 Export join results to Pandas</td>\n",
       "      <td>{\"duckdb_version\": \"0.2.7\"}</td>\n",
       "      <td>1001</td>\n",
       "      <td>0.10.1</td>\n",
       "      <td>32.896970</td>\n",
       "      <td>0.2.7</td>\n",
       "      <td>Export</td>\n",
       "      <td>4</td>\n",
       "      <td>Export</td>\n",
       "      <td>104.646480</td>\n",
       "      <td>23.536592</td>\n",
       "      <td>1.397695</td>\n",
       "    </tr>\n",
       "    <tr>\n",
       "      <th>196</th>\n",
       "      <td>2</td>\n",
       "      <td>0</td>\n",
       "      <td>014 Export join results to Pandas</td>\n",
       "      <td>{\"duckdb_version\": \"0.2.8\"}</td>\n",
       "      <td>1001</td>\n",
       "      <td>0.10.1</td>\n",
       "      <td>30.641782</td>\n",
       "      <td>0.2.8</td>\n",
       "      <td>Export</td>\n",
       "      <td>4</td>\n",
       "      <td>Export</td>\n",
       "      <td>93.684463</td>\n",
       "      <td>23.536592</td>\n",
       "      <td>1.301878</td>\n",
       "    </tr>\n",
       "    <tr>\n",
       "      <th>197</th>\n",
       "      <td>3</td>\n",
       "      <td>0</td>\n",
       "      <td>014 Export join results to Pandas</td>\n",
       "      <td>{\"duckdb_version\": \"0.2.9\"}</td>\n",
       "      <td>1001</td>\n",
       "      <td>0.10.1</td>\n",
       "      <td>25.363092</td>\n",
       "      <td>0.2.9</td>\n",
       "      <td>Export</td>\n",
       "      <td>4</td>\n",
       "      <td>Export</td>\n",
       "      <td>88.535498</td>\n",
       "      <td>23.536592</td>\n",
       "      <td>1.077603</td>\n",
       "    </tr>\n",
       "    <tr>\n",
       "      <th>198</th>\n",
       "      <td>4</td>\n",
       "      <td>0</td>\n",
       "      <td>014 Export join results to Pandas</td>\n",
       "      <td>{\"duckdb_version\": \"0.3.0\"}</td>\n",
       "      <td>1001</td>\n",
       "      <td>0.10.1</td>\n",
       "      <td>25.596012</td>\n",
       "      <td>0.3.0</td>\n",
       "      <td>Export</td>\n",
       "      <td>4</td>\n",
       "      <td>Export</td>\n",
       "      <td>88.889392</td>\n",
       "      <td>23.536592</td>\n",
       "      <td>1.087499</td>\n",
       "    </tr>\n",
       "    <tr>\n",
       "      <th>199</th>\n",
       "      <td>5</td>\n",
       "      <td>0</td>\n",
       "      <td>014 Export join results to Pandas</td>\n",
       "      <td>{\"duckdb_version\": \"0.3.1\"}</td>\n",
       "      <td>1001</td>\n",
       "      <td>0.10.1</td>\n",
       "      <td>25.937402</td>\n",
       "      <td>0.3.1</td>\n",
       "      <td>Export</td>\n",
       "      <td>4</td>\n",
       "      <td>Export</td>\n",
       "      <td>85.424251</td>\n",
       "      <td>23.536592</td>\n",
       "      <td>1.102003</td>\n",
       "    </tr>\n",
       "    <tr>\n",
       "      <th>200</th>\n",
       "      <td>6</td>\n",
       "      <td>0</td>\n",
       "      <td>014 Export join results to Pandas</td>\n",
       "      <td>{\"duckdb_version\": \"0.3.2\"}</td>\n",
       "      <td>1001</td>\n",
       "      <td>0.10.1</td>\n",
       "      <td>34.932955</td>\n",
       "      <td>0.3.2</td>\n",
       "      <td>Export</td>\n",
       "      <td>4</td>\n",
       "      <td>Export</td>\n",
       "      <td>96.161127</td>\n",
       "      <td>23.536592</td>\n",
       "      <td>1.484198</td>\n",
       "    </tr>\n",
       "    <tr>\n",
       "      <th>201</th>\n",
       "      <td>7</td>\n",
       "      <td>0</td>\n",
       "      <td>014 Export join results to Pandas</td>\n",
       "      <td>{\"duckdb_version\": \"0.3.4\"}</td>\n",
       "      <td>1001</td>\n",
       "      <td>0.10.1</td>\n",
       "      <td>26.585232</td>\n",
       "      <td>0.3.4</td>\n",
       "      <td>Export</td>\n",
       "      <td>4</td>\n",
       "      <td>Export</td>\n",
       "      <td>206.385362</td>\n",
       "      <td>23.536592</td>\n",
       "      <td>1.129528</td>\n",
       "    </tr>\n",
       "    <tr>\n",
       "      <th>202</th>\n",
       "      <td>8</td>\n",
       "      <td>0</td>\n",
       "      <td>014 Export join results to Pandas</td>\n",
       "      <td>{\"duckdb_version\": \"0.4.0\"}</td>\n",
       "      <td>1001</td>\n",
       "      <td>0.10.1</td>\n",
       "      <td>27.940955</td>\n",
       "      <td>0.4.0</td>\n",
       "      <td>Export</td>\n",
       "      <td>4</td>\n",
       "      <td>Export</td>\n",
       "      <td>209.713009</td>\n",
       "      <td>23.536592</td>\n",
       "      <td>1.187128</td>\n",
       "    </tr>\n",
       "    <tr>\n",
       "      <th>203</th>\n",
       "      <td>9</td>\n",
       "      <td>0</td>\n",
       "      <td>014 Export join results to Pandas</td>\n",
       "      <td>{\"duckdb_version\": \"0.5.1\"}</td>\n",
       "      <td>1001</td>\n",
       "      <td>0.10.1</td>\n",
       "      <td>26.532592</td>\n",
       "      <td>0.5.1</td>\n",
       "      <td>Export</td>\n",
       "      <td>4</td>\n",
       "      <td>Export</td>\n",
       "      <td>99.349296</td>\n",
       "      <td>23.536592</td>\n",
       "      <td>1.127291</td>\n",
       "    </tr>\n",
       "    <tr>\n",
       "      <th>204</th>\n",
       "      <td>10</td>\n",
       "      <td>0</td>\n",
       "      <td>014 Export join results to Pandas</td>\n",
       "      <td>{\"duckdb_version\": \"0.6.1\"}</td>\n",
       "      <td>1001</td>\n",
       "      <td>0.10.1</td>\n",
       "      <td>5.274870</td>\n",
       "      <td>0.6.1</td>\n",
       "      <td>Export</td>\n",
       "      <td>4</td>\n",
       "      <td>Export</td>\n",
       "      <td>42.473960</td>\n",
       "      <td>23.536592</td>\n",
       "      <td>0.224114</td>\n",
       "    </tr>\n",
       "    <tr>\n",
       "      <th>205</th>\n",
       "      <td>11</td>\n",
       "      <td>0</td>\n",
       "      <td>014 Export join results to Pandas</td>\n",
       "      <td>{\"duckdb_version\": \"0.7.1\"}</td>\n",
       "      <td>1001</td>\n",
       "      <td>0.10.1</td>\n",
       "      <td>5.199806</td>\n",
       "      <td>0.7.1</td>\n",
       "      <td>Export</td>\n",
       "      <td>4</td>\n",
       "      <td>Export</td>\n",
       "      <td>39.450583</td>\n",
       "      <td>23.536592</td>\n",
       "      <td>0.220924</td>\n",
       "    </tr>\n",
       "    <tr>\n",
       "      <th>206</th>\n",
       "      <td>12</td>\n",
       "      <td>0</td>\n",
       "      <td>014 Export join results to Pandas</td>\n",
       "      <td>{\"duckdb_version\": \"0.8.1\"}</td>\n",
       "      <td>1001</td>\n",
       "      <td>0.10.1</td>\n",
       "      <td>5.370461</td>\n",
       "      <td>0.8.1</td>\n",
       "      <td>Export</td>\n",
       "      <td>4</td>\n",
       "      <td>Export</td>\n",
       "      <td>27.426684</td>\n",
       "      <td>23.536592</td>\n",
       "      <td>0.228175</td>\n",
       "    </tr>\n",
       "    <tr>\n",
       "      <th>207</th>\n",
       "      <td>13</td>\n",
       "      <td>0</td>\n",
       "      <td>014 Export join results to Pandas</td>\n",
       "      <td>{\"duckdb_version\": \"0.9.0\"}</td>\n",
       "      <td>1001</td>\n",
       "      <td>0.10.1</td>\n",
       "      <td>6.315687</td>\n",
       "      <td>0.9.0</td>\n",
       "      <td>Export</td>\n",
       "      <td>4</td>\n",
       "      <td>Export</td>\n",
       "      <td>27.531936</td>\n",
       "      <td>23.536592</td>\n",
       "      <td>0.268335</td>\n",
       "    </tr>\n",
       "    <tr>\n",
       "      <th>208</th>\n",
       "      <td>14</td>\n",
       "      <td>0</td>\n",
       "      <td>014 Export join results to Pandas</td>\n",
       "      <td>{\"duckdb_version\": \"v0.9.1\"}</td>\n",
       "      <td>1001</td>\n",
       "      <td>0.10.1</td>\n",
       "      <td>6.145375</td>\n",
       "      <td>0.9.1</td>\n",
       "      <td>Export</td>\n",
       "      <td>4</td>\n",
       "      <td>Export</td>\n",
       "      <td>28.154328</td>\n",
       "      <td>23.536592</td>\n",
       "      <td>0.261099</td>\n",
       "    </tr>\n",
       "    <tr>\n",
       "      <th>209</th>\n",
       "      <td>15</td>\n",
       "      <td>0</td>\n",
       "      <td>014 Export join results to Pandas</td>\n",
       "      <td>{\"duckdb_version\": \"v0.9.2\"}</td>\n",
       "      <td>1001</td>\n",
       "      <td>0.10.1</td>\n",
       "      <td>5.578744</td>\n",
       "      <td>0.9.2</td>\n",
       "      <td>Export</td>\n",
       "      <td>4</td>\n",
       "      <td>Export</td>\n",
       "      <td>26.268411</td>\n",
       "      <td>23.536592</td>\n",
       "      <td>0.237024</td>\n",
       "    </tr>\n",
       "    <tr>\n",
       "      <th>210</th>\n",
       "      <td>16</td>\n",
       "      <td>0</td>\n",
       "      <td>014 Export join results to Pandas</td>\n",
       "      <td>{\"duckdb_version\": \"v0.10.0\"}</td>\n",
       "      <td>1001</td>\n",
       "      <td>0.10.1</td>\n",
       "      <td>6.085073</td>\n",
       "      <td>0.10.0</td>\n",
       "      <td>Export</td>\n",
       "      <td>4</td>\n",
       "      <td>Export</td>\n",
       "      <td>23.464754</td>\n",
       "      <td>23.536592</td>\n",
       "      <td>0.258537</td>\n",
       "    </tr>\n",
       "    <tr>\n",
       "      <th>211</th>\n",
       "      <td>17</td>\n",
       "      <td>0</td>\n",
       "      <td>014 Export join results to Pandas</td>\n",
       "      <td>{\"duckdb_version\": \"v0.10.1\"}</td>\n",
       "      <td>1001</td>\n",
       "      <td>0.10.1</td>\n",
       "      <td>6.150260</td>\n",
       "      <td>0.10.1</td>\n",
       "      <td>Export</td>\n",
       "      <td>4</td>\n",
       "      <td>Export</td>\n",
       "      <td>23.536592</td>\n",
       "      <td>23.536592</td>\n",
       "      <td>0.261306</td>\n",
       "    </tr>\n",
       "    <tr>\n",
       "      <th>212</th>\n",
       "      <td>5</td>\n",
       "      <td>0</td>\n",
       "      <td>015 Export join results to Arrow</td>\n",
       "      <td>{\"duckdb_version\": \"0.3.1\"}</td>\n",
       "      <td>1001</td>\n",
       "      <td>0.10.1</td>\n",
       "      <td>7.046789</td>\n",
       "      <td>0.3.1</td>\n",
       "      <td>Export</td>\n",
       "      <td>4</td>\n",
       "      <td>Export</td>\n",
       "      <td>85.424251</td>\n",
       "      <td>23.536592</td>\n",
       "      <td>0.299397</td>\n",
       "    </tr>\n",
       "    <tr>\n",
       "      <th>213</th>\n",
       "      <td>6</td>\n",
       "      <td>0</td>\n",
       "      <td>015 Export join results to Arrow</td>\n",
       "      <td>{\"duckdb_version\": \"0.3.2\"}</td>\n",
       "      <td>1001</td>\n",
       "      <td>0.10.1</td>\n",
       "      <td>7.146798</td>\n",
       "      <td>0.3.2</td>\n",
       "      <td>Export</td>\n",
       "      <td>4</td>\n",
       "      <td>Export</td>\n",
       "      <td>96.161127</td>\n",
       "      <td>23.536592</td>\n",
       "      <td>0.303646</td>\n",
       "    </tr>\n",
       "    <tr>\n",
       "      <th>214</th>\n",
       "      <td>7</td>\n",
       "      <td>0</td>\n",
       "      <td>015 Export join results to Arrow</td>\n",
       "      <td>{\"duckdb_version\": \"0.3.4\"}</td>\n",
       "      <td>1001</td>\n",
       "      <td>0.10.1</td>\n",
       "      <td>92.951440</td>\n",
       "      <td>0.3.4</td>\n",
       "      <td>Export</td>\n",
       "      <td>4</td>\n",
       "      <td>Export</td>\n",
       "      <td>206.385362</td>\n",
       "      <td>23.536592</td>\n",
       "      <td>3.949231</td>\n",
       "    </tr>\n",
       "    <tr>\n",
       "      <th>215</th>\n",
       "      <td>8</td>\n",
       "      <td>0</td>\n",
       "      <td>015 Export join results to Arrow</td>\n",
       "      <td>{\"duckdb_version\": \"0.4.0\"}</td>\n",
       "      <td>1001</td>\n",
       "      <td>0.10.1</td>\n",
       "      <td>92.944912</td>\n",
       "      <td>0.4.0</td>\n",
       "      <td>Export</td>\n",
       "      <td>4</td>\n",
       "      <td>Export</td>\n",
       "      <td>209.713009</td>\n",
       "      <td>23.536592</td>\n",
       "      <td>3.948954</td>\n",
       "    </tr>\n",
       "    <tr>\n",
       "      <th>216</th>\n",
       "      <td>9</td>\n",
       "      <td>0</td>\n",
       "      <td>015 Export join results to Arrow</td>\n",
       "      <td>{\"duckdb_version\": \"0.5.1\"}</td>\n",
       "      <td>1001</td>\n",
       "      <td>0.10.1</td>\n",
       "      <td>3.224982</td>\n",
       "      <td>0.5.1</td>\n",
       "      <td>Export</td>\n",
       "      <td>4</td>\n",
       "      <td>Export</td>\n",
       "      <td>99.349296</td>\n",
       "      <td>23.536592</td>\n",
       "      <td>0.137020</td>\n",
       "    </tr>\n",
       "    <tr>\n",
       "      <th>217</th>\n",
       "      <td>10</td>\n",
       "      <td>0</td>\n",
       "      <td>015 Export join results to Arrow</td>\n",
       "      <td>{\"duckdb_version\": \"0.6.1\"}</td>\n",
       "      <td>1001</td>\n",
       "      <td>0.10.1</td>\n",
       "      <td>1.785783</td>\n",
       "      <td>0.6.1</td>\n",
       "      <td>Export</td>\n",
       "      <td>4</td>\n",
       "      <td>Export</td>\n",
       "      <td>42.473960</td>\n",
       "      <td>23.536592</td>\n",
       "      <td>0.075873</td>\n",
       "    </tr>\n",
       "    <tr>\n",
       "      <th>218</th>\n",
       "      <td>11</td>\n",
       "      <td>0</td>\n",
       "      <td>015 Export join results to Arrow</td>\n",
       "      <td>{\"duckdb_version\": \"0.7.1\"}</td>\n",
       "      <td>1001</td>\n",
       "      <td>0.10.1</td>\n",
       "      <td>1.779070</td>\n",
       "      <td>0.7.1</td>\n",
       "      <td>Export</td>\n",
       "      <td>4</td>\n",
       "      <td>Export</td>\n",
       "      <td>39.450583</td>\n",
       "      <td>23.536592</td>\n",
       "      <td>0.075587</td>\n",
       "    </tr>\n",
       "    <tr>\n",
       "      <th>219</th>\n",
       "      <td>12</td>\n",
       "      <td>0</td>\n",
       "      <td>015 Export join results to Arrow</td>\n",
       "      <td>{\"duckdb_version\": \"0.8.1\"}</td>\n",
       "      <td>1001</td>\n",
       "      <td>0.10.1</td>\n",
       "      <td>1.848056</td>\n",
       "      <td>0.8.1</td>\n",
       "      <td>Export</td>\n",
       "      <td>4</td>\n",
       "      <td>Export</td>\n",
       "      <td>27.426684</td>\n",
       "      <td>23.536592</td>\n",
       "      <td>0.078518</td>\n",
       "    </tr>\n",
       "    <tr>\n",
       "      <th>220</th>\n",
       "      <td>13</td>\n",
       "      <td>0</td>\n",
       "      <td>015 Export join results to Arrow</td>\n",
       "      <td>{\"duckdb_version\": \"0.9.0\"}</td>\n",
       "      <td>1001</td>\n",
       "      <td>0.10.1</td>\n",
       "      <td>1.892380</td>\n",
       "      <td>0.9.0</td>\n",
       "      <td>Export</td>\n",
       "      <td>4</td>\n",
       "      <td>Export</td>\n",
       "      <td>27.531936</td>\n",
       "      <td>23.536592</td>\n",
       "      <td>0.080402</td>\n",
       "    </tr>\n",
       "    <tr>\n",
       "      <th>221</th>\n",
       "      <td>14</td>\n",
       "      <td>0</td>\n",
       "      <td>015 Export join results to Arrow</td>\n",
       "      <td>{\"duckdb_version\": \"v0.9.1\"}</td>\n",
       "      <td>1001</td>\n",
       "      <td>0.10.1</td>\n",
       "      <td>1.885299</td>\n",
       "      <td>0.9.1</td>\n",
       "      <td>Export</td>\n",
       "      <td>4</td>\n",
       "      <td>Export</td>\n",
       "      <td>28.154328</td>\n",
       "      <td>23.536592</td>\n",
       "      <td>0.080101</td>\n",
       "    </tr>\n",
       "    <tr>\n",
       "      <th>222</th>\n",
       "      <td>15</td>\n",
       "      <td>0</td>\n",
       "      <td>015 Export join results to Arrow</td>\n",
       "      <td>{\"duckdb_version\": \"v0.9.2\"}</td>\n",
       "      <td>1001</td>\n",
       "      <td>0.10.1</td>\n",
       "      <td>1.851359</td>\n",
       "      <td>0.9.2</td>\n",
       "      <td>Export</td>\n",
       "      <td>4</td>\n",
       "      <td>Export</td>\n",
       "      <td>26.268411</td>\n",
       "      <td>23.536592</td>\n",
       "      <td>0.078659</td>\n",
       "    </tr>\n",
       "    <tr>\n",
       "      <th>223</th>\n",
       "      <td>16</td>\n",
       "      <td>0</td>\n",
       "      <td>015 Export join results to Arrow</td>\n",
       "      <td>{\"duckdb_version\": \"v0.10.0\"}</td>\n",
       "      <td>1001</td>\n",
       "      <td>0.10.1</td>\n",
       "      <td>2.359996</td>\n",
       "      <td>0.10.0</td>\n",
       "      <td>Export</td>\n",
       "      <td>4</td>\n",
       "      <td>Export</td>\n",
       "      <td>23.464754</td>\n",
       "      <td>23.536592</td>\n",
       "      <td>0.100269</td>\n",
       "    </tr>\n",
       "    <tr>\n",
       "      <th>224</th>\n",
       "      <td>17</td>\n",
       "      <td>0</td>\n",
       "      <td>015 Export join results to Arrow</td>\n",
       "      <td>{\"duckdb_version\": \"v0.10.1\"}</td>\n",
       "      <td>1001</td>\n",
       "      <td>0.10.1</td>\n",
       "      <td>2.319401</td>\n",
       "      <td>0.10.1</td>\n",
       "      <td>Export</td>\n",
       "      <td>4</td>\n",
       "      <td>Export</td>\n",
       "      <td>23.536592</td>\n",
       "      <td>23.536592</td>\n",
       "      <td>0.098544</td>\n",
       "    </tr>\n",
       "  </tbody>\n",
       "</table>\n",
       "</div>"
      ],
      "text/plain": [
       "     run_id  repeat_id                                 benchmark  \\\n",
       "0         1          0                          001 Query pandas   \n",
       "1         2          0                          001 Query pandas   \n",
       "2         3          0                          001 Query pandas   \n",
       "3         4          0                          001 Query pandas   \n",
       "4         5          0                          001 Query pandas   \n",
       "5         6          0                          001 Query pandas   \n",
       "6         7          0                          001 Query pandas   \n",
       "7         8          0                          001 Query pandas   \n",
       "8         9          0                          001 Query pandas   \n",
       "9        10          0                          001 Query pandas   \n",
       "10       11          0                          001 Query pandas   \n",
       "11       12          0                          001 Query pandas   \n",
       "12       13          0                          001 Query pandas   \n",
       "13       14          0                          001 Query pandas   \n",
       "14       15          0                          001 Query pandas   \n",
       "15       16          0                          001 Query pandas   \n",
       "16       17          0                          001 Query pandas   \n",
       "17        1          0                 002 Create table from csv   \n",
       "18        2          0                 002 Create table from csv   \n",
       "19        3          0                 002 Create table from csv   \n",
       "20        4          0                 002 Create table from csv   \n",
       "21        5          0                 002 Create table from csv   \n",
       "22        6          0                 002 Create table from csv   \n",
       "23        7          0                 002 Create table from csv   \n",
       "24        8          0                 002 Create table from csv   \n",
       "25        9          0                 002 Create table from csv   \n",
       "26       10          0                 002 Create table from csv   \n",
       "27       11          0                 002 Create table from csv   \n",
       "28       12          0                 002 Create table from csv   \n",
       "29       13          0                 002 Create table from csv   \n",
       "30       14          0                 002 Create table from csv   \n",
       "31       15          0                 002 Create table from csv   \n",
       "32       16          0                 002 Create table from csv   \n",
       "33       17          0                 002 Create table from csv   \n",
       "34       10          0                      003 Convert to Enums   \n",
       "35       11          0                      003 Convert to Enums   \n",
       "36       12          0                      003 Convert to Enums   \n",
       "37       13          0                      003 Convert to Enums   \n",
       "38       14          0                      003 Convert to Enums   \n",
       "39       15          0                      003 Convert to Enums   \n",
       "40       16          0                      003 Convert to Enums   \n",
       "41       17          0                      003 Convert to Enums   \n",
       "42        1          0                      004 Group by queries   \n",
       "43        2          0                      004 Group by queries   \n",
       "44        3          0                      004 Group by queries   \n",
       "45        4          0                      004 Group by queries   \n",
       "46        5          0                      004 Group by queries   \n",
       "47        6          0                      004 Group by queries   \n",
       "48        7          0                      004 Group by queries   \n",
       "49        8          0                      004 Group by queries   \n",
       "50        9          0                      004 Group by queries   \n",
       "51       10          0                      004 Group by queries   \n",
       "52       11          0                      004 Group by queries   \n",
       "53       12          0                      004 Group by queries   \n",
       "54       13          0                      004 Group by queries   \n",
       "55       14          0                      004 Group by queries   \n",
       "56       15          0                      004 Group by queries   \n",
       "57       16          0                      004 Group by queries   \n",
       "58       17          0                      004 Group by queries   \n",
       "59        1          0     005 Export group by results to Pandas   \n",
       "60        2          0     005 Export group by results to Pandas   \n",
       "61        3          0     005 Export group by results to Pandas   \n",
       "62        4          0     005 Export group by results to Pandas   \n",
       "63        5          0     005 Export group by results to Pandas   \n",
       "64        6          0     005 Export group by results to Pandas   \n",
       "65        7          0     005 Export group by results to Pandas   \n",
       "66        8          0     005 Export group by results to Pandas   \n",
       "67        9          0     005 Export group by results to Pandas   \n",
       "68       10          0     005 Export group by results to Pandas   \n",
       "69       11          0     005 Export group by results to Pandas   \n",
       "70       12          0     005 Export group by results to Pandas   \n",
       "71       13          0     005 Export group by results to Pandas   \n",
       "72       14          0     005 Export group by results to Pandas   \n",
       "73       15          0     005 Export group by results to Pandas   \n",
       "74       16          0     005 Export group by results to Pandas   \n",
       "75       17          0     005 Export group by results to Pandas   \n",
       "76        1          0     006 Scan and aggregate over Pandas df   \n",
       "77        2          0     006 Scan and aggregate over Pandas df   \n",
       "78        3          0     006 Scan and aggregate over Pandas df   \n",
       "79        4          0     006 Scan and aggregate over Pandas df   \n",
       "80        5          0     006 Scan and aggregate over Pandas df   \n",
       "81        6          0     006 Scan and aggregate over Pandas df   \n",
       "82        7          0     006 Scan and aggregate over Pandas df   \n",
       "83        8          0     006 Scan and aggregate over Pandas df   \n",
       "84        9          0     006 Scan and aggregate over Pandas df   \n",
       "85       10          0     006 Scan and aggregate over Pandas df   \n",
       "86       11          0     006 Scan and aggregate over Pandas df   \n",
       "87       12          0     006 Scan and aggregate over Pandas df   \n",
       "88       13          0     006 Scan and aggregate over Pandas df   \n",
       "89       14          0     006 Scan and aggregate over Pandas df   \n",
       "90       15          0     006 Scan and aggregate over Pandas df   \n",
       "91       16          0     006 Scan and aggregate over Pandas df   \n",
       "92       17          0     006 Scan and aggregate over Pandas df   \n",
       "93        1          0    007 Export group by results to Parquet   \n",
       "94        2          0    007 Export group by results to Parquet   \n",
       "95        3          0    007 Export group by results to Parquet   \n",
       "96        4          0    007 Export group by results to Parquet   \n",
       "97        5          0    007 Export group by results to Parquet   \n",
       "98        6          0    007 Export group by results to Parquet   \n",
       "99        7          0    007 Export group by results to Parquet   \n",
       "100       8          0    007 Export group by results to Parquet   \n",
       "101       9          0    007 Export group by results to Parquet   \n",
       "102      10          0    007 Export group by results to Parquet   \n",
       "103      11          0    007 Export group by results to Parquet   \n",
       "104      12          0    007 Export group by results to Parquet   \n",
       "105      13          0    007 Export group by results to Parquet   \n",
       "106      14          0    007 Export group by results to Parquet   \n",
       "107      15          0    007 Export group by results to Parquet   \n",
       "108      16          0    007 Export group by results to Parquet   \n",
       "109      17          0    007 Export group by results to Parquet   \n",
       "110       1          0  008 Scan and aggregate over Parquet file   \n",
       "111       2          0  008 Scan and aggregate over Parquet file   \n",
       "112       3          0  008 Scan and aggregate over Parquet file   \n",
       "113       4          0  008 Scan and aggregate over Parquet file   \n",
       "114       5          0  008 Scan and aggregate over Parquet file   \n",
       "115       6          0  008 Scan and aggregate over Parquet file   \n",
       "116       7          0  008 Scan and aggregate over Parquet file   \n",
       "117       8          0  008 Scan and aggregate over Parquet file   \n",
       "118       9          0  008 Scan and aggregate over Parquet file   \n",
       "119      10          0  008 Scan and aggregate over Parquet file   \n",
       "120      11          0  008 Scan and aggregate over Parquet file   \n",
       "121      12          0  008 Scan and aggregate over Parquet file   \n",
       "122      13          0  008 Scan and aggregate over Parquet file   \n",
       "123      14          0  008 Scan and aggregate over Parquet file   \n",
       "124      15          0  008 Scan and aggregate over Parquet file   \n",
       "125      16          0  008 Scan and aggregate over Parquet file   \n",
       "126      17          0  008 Scan and aggregate over Parquet file   \n",
       "127       5          0      009 Export group by results to Arrow   \n",
       "128       6          0      009 Export group by results to Arrow   \n",
       "129       7          0      009 Export group by results to Arrow   \n",
       "130       8          0      009 Export group by results to Arrow   \n",
       "131       9          0      009 Export group by results to Arrow   \n",
       "132      10          0      009 Export group by results to Arrow   \n",
       "133      11          0      009 Export group by results to Arrow   \n",
       "134      12          0      009 Export group by results to Arrow   \n",
       "135      13          0      009 Export group by results to Arrow   \n",
       "136      14          0      009 Export group by results to Arrow   \n",
       "137      15          0      009 Export group by results to Arrow   \n",
       "138      16          0      009 Export group by results to Arrow   \n",
       "139      17          0      009 Export group by results to Arrow   \n",
       "140       5          0      010 Scan and aggregate over Arrow df   \n",
       "141       6          0      010 Scan and aggregate over Arrow df   \n",
       "142       7          0      010 Scan and aggregate over Arrow df   \n",
       "143       8          0      010 Scan and aggregate over Arrow df   \n",
       "144       9          0      010 Scan and aggregate over Arrow df   \n",
       "145      10          0      010 Scan and aggregate over Arrow df   \n",
       "146      11          0      010 Scan and aggregate over Arrow df   \n",
       "147      12          0      010 Scan and aggregate over Arrow df   \n",
       "148      13          0      010 Scan and aggregate over Arrow df   \n",
       "149      14          0      010 Scan and aggregate over Arrow df   \n",
       "150      15          0      010 Scan and aggregate over Arrow df   \n",
       "151      16          0      010 Scan and aggregate over Arrow df   \n",
       "152      17          0      010 Scan and aggregate over Arrow df   \n",
       "153       1          0         011 Create tables from csvs joins   \n",
       "154       2          0         011 Create tables from csvs joins   \n",
       "155       3          0         011 Create tables from csvs joins   \n",
       "156       4          0         011 Create tables from csvs joins   \n",
       "157       5          0         011 Create tables from csvs joins   \n",
       "158       6          0         011 Create tables from csvs joins   \n",
       "159       7          0         011 Create tables from csvs joins   \n",
       "160       8          0         011 Create tables from csvs joins   \n",
       "161       9          0         011 Create tables from csvs joins   \n",
       "162      10          0         011 Create tables from csvs joins   \n",
       "163      11          0         011 Create tables from csvs joins   \n",
       "164      12          0         011 Create tables from csvs joins   \n",
       "165      13          0         011 Create tables from csvs joins   \n",
       "166      14          0         011 Create tables from csvs joins   \n",
       "167      15          0         011 Create tables from csvs joins   \n",
       "168      16          0         011 Create tables from csvs joins   \n",
       "169      17          0         011 Create tables from csvs joins   \n",
       "170      10          0            012 Convert to Enums for joins   \n",
       "171      11          0            012 Convert to Enums for joins   \n",
       "172      12          0            012 Convert to Enums for joins   \n",
       "173      13          0            012 Convert to Enums for joins   \n",
       "174      14          0            012 Convert to Enums for joins   \n",
       "175      15          0            012 Convert to Enums for joins   \n",
       "176      16          0            012 Convert to Enums for joins   \n",
       "177      17          0            012 Convert to Enums for joins   \n",
       "178       1          0                          013 Join queries   \n",
       "179       2          0                          013 Join queries   \n",
       "180       3          0                          013 Join queries   \n",
       "181       4          0                          013 Join queries   \n",
       "182       5          0                          013 Join queries   \n",
       "183       6          0                          013 Join queries   \n",
       "184       7          0                          013 Join queries   \n",
       "185       8          0                          013 Join queries   \n",
       "186       9          0                          013 Join queries   \n",
       "187      10          0                          013 Join queries   \n",
       "188      11          0                          013 Join queries   \n",
       "189      12          0                          013 Join queries   \n",
       "190      13          0                          013 Join queries   \n",
       "191      14          0                          013 Join queries   \n",
       "192      15          0                          013 Join queries   \n",
       "193      16          0                          013 Join queries   \n",
       "194      17          0                          013 Join queries   \n",
       "195       1          0         014 Export join results to Pandas   \n",
       "196       2          0         014 Export join results to Pandas   \n",
       "197       3          0         014 Export join results to Pandas   \n",
       "198       4          0         014 Export join results to Pandas   \n",
       "199       5          0         014 Export join results to Pandas   \n",
       "200       6          0         014 Export join results to Pandas   \n",
       "201       7          0         014 Export join results to Pandas   \n",
       "202       8          0         014 Export join results to Pandas   \n",
       "203       9          0         014 Export join results to Pandas   \n",
       "204      10          0         014 Export join results to Pandas   \n",
       "205      11          0         014 Export join results to Pandas   \n",
       "206      12          0         014 Export join results to Pandas   \n",
       "207      13          0         014 Export join results to Pandas   \n",
       "208      14          0         014 Export join results to Pandas   \n",
       "209      15          0         014 Export join results to Pandas   \n",
       "210      16          0         014 Export join results to Pandas   \n",
       "211      17          0         014 Export join results to Pandas   \n",
       "212       5          0          015 Export join results to Arrow   \n",
       "213       6          0          015 Export join results to Arrow   \n",
       "214       7          0          015 Export join results to Arrow   \n",
       "215       8          0          015 Export join results to Arrow   \n",
       "216       9          0          015 Export join results to Arrow   \n",
       "217      10          0          015 Export join results to Arrow   \n",
       "218      11          0          015 Export join results to Arrow   \n",
       "219      12          0          015 Export join results to Arrow   \n",
       "220      13          0          015 Export join results to Arrow   \n",
       "221      14          0          015 Export join results to Arrow   \n",
       "222      15          0          015 Export join results to Arrow   \n",
       "223      16          0          015 Export join results to Arrow   \n",
       "224      17          0          015 Export join results to Arrow   \n",
       "\n",
       "                          scenario  max(version_rank) max_version  \\\n",
       "0      {\"duckdb_version\": \"0.2.7\"}               1001      0.10.1   \n",
       "1      {\"duckdb_version\": \"0.2.8\"}               1001      0.10.1   \n",
       "2      {\"duckdb_version\": \"0.2.9\"}               1001      0.10.1   \n",
       "3      {\"duckdb_version\": \"0.3.0\"}               1001      0.10.1   \n",
       "4      {\"duckdb_version\": \"0.3.1\"}               1001      0.10.1   \n",
       "5      {\"duckdb_version\": \"0.3.2\"}               1001      0.10.1   \n",
       "6      {\"duckdb_version\": \"0.3.4\"}               1001      0.10.1   \n",
       "7      {\"duckdb_version\": \"0.4.0\"}               1001      0.10.1   \n",
       "8      {\"duckdb_version\": \"0.5.1\"}               1001      0.10.1   \n",
       "9      {\"duckdb_version\": \"0.6.1\"}               1001      0.10.1   \n",
       "10     {\"duckdb_version\": \"0.7.1\"}               1001      0.10.1   \n",
       "11     {\"duckdb_version\": \"0.8.1\"}               1001      0.10.1   \n",
       "12     {\"duckdb_version\": \"0.9.0\"}               1001      0.10.1   \n",
       "13    {\"duckdb_version\": \"v0.9.1\"}               1001      0.10.1   \n",
       "14    {\"duckdb_version\": \"v0.9.2\"}               1001      0.10.1   \n",
       "15   {\"duckdb_version\": \"v0.10.0\"}               1001      0.10.1   \n",
       "16   {\"duckdb_version\": \"v0.10.1\"}               1001      0.10.1   \n",
       "17     {\"duckdb_version\": \"0.2.7\"}               1001      0.10.1   \n",
       "18     {\"duckdb_version\": \"0.2.8\"}               1001      0.10.1   \n",
       "19     {\"duckdb_version\": \"0.2.9\"}               1001      0.10.1   \n",
       "20     {\"duckdb_version\": \"0.3.0\"}               1001      0.10.1   \n",
       "21     {\"duckdb_version\": \"0.3.1\"}               1001      0.10.1   \n",
       "22     {\"duckdb_version\": \"0.3.2\"}               1001      0.10.1   \n",
       "23     {\"duckdb_version\": \"0.3.4\"}               1001      0.10.1   \n",
       "24     {\"duckdb_version\": \"0.4.0\"}               1001      0.10.1   \n",
       "25     {\"duckdb_version\": \"0.5.1\"}               1001      0.10.1   \n",
       "26     {\"duckdb_version\": \"0.6.1\"}               1001      0.10.1   \n",
       "27     {\"duckdb_version\": \"0.7.1\"}               1001      0.10.1   \n",
       "28     {\"duckdb_version\": \"0.8.1\"}               1001      0.10.1   \n",
       "29     {\"duckdb_version\": \"0.9.0\"}               1001      0.10.1   \n",
       "30    {\"duckdb_version\": \"v0.9.1\"}               1001      0.10.1   \n",
       "31    {\"duckdb_version\": \"v0.9.2\"}               1001      0.10.1   \n",
       "32   {\"duckdb_version\": \"v0.10.0\"}               1001      0.10.1   \n",
       "33   {\"duckdb_version\": \"v0.10.1\"}               1001      0.10.1   \n",
       "34     {\"duckdb_version\": \"0.6.1\"}               1001      0.10.1   \n",
       "35     {\"duckdb_version\": \"0.7.1\"}               1001      0.10.1   \n",
       "36     {\"duckdb_version\": \"0.8.1\"}               1001      0.10.1   \n",
       "37     {\"duckdb_version\": \"0.9.0\"}               1001      0.10.1   \n",
       "38    {\"duckdb_version\": \"v0.9.1\"}               1001      0.10.1   \n",
       "39    {\"duckdb_version\": \"v0.9.2\"}               1001      0.10.1   \n",
       "40   {\"duckdb_version\": \"v0.10.0\"}               1001      0.10.1   \n",
       "41   {\"duckdb_version\": \"v0.10.1\"}               1001      0.10.1   \n",
       "42     {\"duckdb_version\": \"0.2.7\"}               1001      0.10.1   \n",
       "43     {\"duckdb_version\": \"0.2.8\"}               1001      0.10.1   \n",
       "44     {\"duckdb_version\": \"0.2.9\"}               1001      0.10.1   \n",
       "45     {\"duckdb_version\": \"0.3.0\"}               1001      0.10.1   \n",
       "46     {\"duckdb_version\": \"0.3.1\"}               1001      0.10.1   \n",
       "47     {\"duckdb_version\": \"0.3.2\"}               1001      0.10.1   \n",
       "48     {\"duckdb_version\": \"0.3.4\"}               1001      0.10.1   \n",
       "49     {\"duckdb_version\": \"0.4.0\"}               1001      0.10.1   \n",
       "50     {\"duckdb_version\": \"0.5.1\"}               1001      0.10.1   \n",
       "51     {\"duckdb_version\": \"0.6.1\"}               1001      0.10.1   \n",
       "52     {\"duckdb_version\": \"0.7.1\"}               1001      0.10.1   \n",
       "53     {\"duckdb_version\": \"0.8.1\"}               1001      0.10.1   \n",
       "54     {\"duckdb_version\": \"0.9.0\"}               1001      0.10.1   \n",
       "55    {\"duckdb_version\": \"v0.9.1\"}               1001      0.10.1   \n",
       "56    {\"duckdb_version\": \"v0.9.2\"}               1001      0.10.1   \n",
       "57   {\"duckdb_version\": \"v0.10.0\"}               1001      0.10.1   \n",
       "58   {\"duckdb_version\": \"v0.10.1\"}               1001      0.10.1   \n",
       "59     {\"duckdb_version\": \"0.2.7\"}               1001      0.10.1   \n",
       "60     {\"duckdb_version\": \"0.2.8\"}               1001      0.10.1   \n",
       "61     {\"duckdb_version\": \"0.2.9\"}               1001      0.10.1   \n",
       "62     {\"duckdb_version\": \"0.3.0\"}               1001      0.10.1   \n",
       "63     {\"duckdb_version\": \"0.3.1\"}               1001      0.10.1   \n",
       "64     {\"duckdb_version\": \"0.3.2\"}               1001      0.10.1   \n",
       "65     {\"duckdb_version\": \"0.3.4\"}               1001      0.10.1   \n",
       "66     {\"duckdb_version\": \"0.4.0\"}               1001      0.10.1   \n",
       "67     {\"duckdb_version\": \"0.5.1\"}               1001      0.10.1   \n",
       "68     {\"duckdb_version\": \"0.6.1\"}               1001      0.10.1   \n",
       "69     {\"duckdb_version\": \"0.7.1\"}               1001      0.10.1   \n",
       "70     {\"duckdb_version\": \"0.8.1\"}               1001      0.10.1   \n",
       "71     {\"duckdb_version\": \"0.9.0\"}               1001      0.10.1   \n",
       "72    {\"duckdb_version\": \"v0.9.1\"}               1001      0.10.1   \n",
       "73    {\"duckdb_version\": \"v0.9.2\"}               1001      0.10.1   \n",
       "74   {\"duckdb_version\": \"v0.10.0\"}               1001      0.10.1   \n",
       "75   {\"duckdb_version\": \"v0.10.1\"}               1001      0.10.1   \n",
       "76     {\"duckdb_version\": \"0.2.7\"}               1001      0.10.1   \n",
       "77     {\"duckdb_version\": \"0.2.8\"}               1001      0.10.1   \n",
       "78     {\"duckdb_version\": \"0.2.9\"}               1001      0.10.1   \n",
       "79     {\"duckdb_version\": \"0.3.0\"}               1001      0.10.1   \n",
       "80     {\"duckdb_version\": \"0.3.1\"}               1001      0.10.1   \n",
       "81     {\"duckdb_version\": \"0.3.2\"}               1001      0.10.1   \n",
       "82     {\"duckdb_version\": \"0.3.4\"}               1001      0.10.1   \n",
       "83     {\"duckdb_version\": \"0.4.0\"}               1001      0.10.1   \n",
       "84     {\"duckdb_version\": \"0.5.1\"}               1001      0.10.1   \n",
       "85     {\"duckdb_version\": \"0.6.1\"}               1001      0.10.1   \n",
       "86     {\"duckdb_version\": \"0.7.1\"}               1001      0.10.1   \n",
       "87     {\"duckdb_version\": \"0.8.1\"}               1001      0.10.1   \n",
       "88     {\"duckdb_version\": \"0.9.0\"}               1001      0.10.1   \n",
       "89    {\"duckdb_version\": \"v0.9.1\"}               1001      0.10.1   \n",
       "90    {\"duckdb_version\": \"v0.9.2\"}               1001      0.10.1   \n",
       "91   {\"duckdb_version\": \"v0.10.0\"}               1001      0.10.1   \n",
       "92   {\"duckdb_version\": \"v0.10.1\"}               1001      0.10.1   \n",
       "93     {\"duckdb_version\": \"0.2.7\"}               1001      0.10.1   \n",
       "94     {\"duckdb_version\": \"0.2.8\"}               1001      0.10.1   \n",
       "95     {\"duckdb_version\": \"0.2.9\"}               1001      0.10.1   \n",
       "96     {\"duckdb_version\": \"0.3.0\"}               1001      0.10.1   \n",
       "97     {\"duckdb_version\": \"0.3.1\"}               1001      0.10.1   \n",
       "98     {\"duckdb_version\": \"0.3.2\"}               1001      0.10.1   \n",
       "99     {\"duckdb_version\": \"0.3.4\"}               1001      0.10.1   \n",
       "100    {\"duckdb_version\": \"0.4.0\"}               1001      0.10.1   \n",
       "101    {\"duckdb_version\": \"0.5.1\"}               1001      0.10.1   \n",
       "102    {\"duckdb_version\": \"0.6.1\"}               1001      0.10.1   \n",
       "103    {\"duckdb_version\": \"0.7.1\"}               1001      0.10.1   \n",
       "104    {\"duckdb_version\": \"0.8.1\"}               1001      0.10.1   \n",
       "105    {\"duckdb_version\": \"0.9.0\"}               1001      0.10.1   \n",
       "106   {\"duckdb_version\": \"v0.9.1\"}               1001      0.10.1   \n",
       "107   {\"duckdb_version\": \"v0.9.2\"}               1001      0.10.1   \n",
       "108  {\"duckdb_version\": \"v0.10.0\"}               1001      0.10.1   \n",
       "109  {\"duckdb_version\": \"v0.10.1\"}               1001      0.10.1   \n",
       "110    {\"duckdb_version\": \"0.2.7\"}               1001      0.10.1   \n",
       "111    {\"duckdb_version\": \"0.2.8\"}               1001      0.10.1   \n",
       "112    {\"duckdb_version\": \"0.2.9\"}               1001      0.10.1   \n",
       "113    {\"duckdb_version\": \"0.3.0\"}               1001      0.10.1   \n",
       "114    {\"duckdb_version\": \"0.3.1\"}               1001      0.10.1   \n",
       "115    {\"duckdb_version\": \"0.3.2\"}               1001      0.10.1   \n",
       "116    {\"duckdb_version\": \"0.3.4\"}               1001      0.10.1   \n",
       "117    {\"duckdb_version\": \"0.4.0\"}               1001      0.10.1   \n",
       "118    {\"duckdb_version\": \"0.5.1\"}               1001      0.10.1   \n",
       "119    {\"duckdb_version\": \"0.6.1\"}               1001      0.10.1   \n",
       "120    {\"duckdb_version\": \"0.7.1\"}               1001      0.10.1   \n",
       "121    {\"duckdb_version\": \"0.8.1\"}               1001      0.10.1   \n",
       "122    {\"duckdb_version\": \"0.9.0\"}               1001      0.10.1   \n",
       "123   {\"duckdb_version\": \"v0.9.1\"}               1001      0.10.1   \n",
       "124   {\"duckdb_version\": \"v0.9.2\"}               1001      0.10.1   \n",
       "125  {\"duckdb_version\": \"v0.10.0\"}               1001      0.10.1   \n",
       "126  {\"duckdb_version\": \"v0.10.1\"}               1001      0.10.1   \n",
       "127    {\"duckdb_version\": \"0.3.1\"}               1001      0.10.1   \n",
       "128    {\"duckdb_version\": \"0.3.2\"}               1001      0.10.1   \n",
       "129    {\"duckdb_version\": \"0.3.4\"}               1001      0.10.1   \n",
       "130    {\"duckdb_version\": \"0.4.0\"}               1001      0.10.1   \n",
       "131    {\"duckdb_version\": \"0.5.1\"}               1001      0.10.1   \n",
       "132    {\"duckdb_version\": \"0.6.1\"}               1001      0.10.1   \n",
       "133    {\"duckdb_version\": \"0.7.1\"}               1001      0.10.1   \n",
       "134    {\"duckdb_version\": \"0.8.1\"}               1001      0.10.1   \n",
       "135    {\"duckdb_version\": \"0.9.0\"}               1001      0.10.1   \n",
       "136   {\"duckdb_version\": \"v0.9.1\"}               1001      0.10.1   \n",
       "137   {\"duckdb_version\": \"v0.9.2\"}               1001      0.10.1   \n",
       "138  {\"duckdb_version\": \"v0.10.0\"}               1001      0.10.1   \n",
       "139  {\"duckdb_version\": \"v0.10.1\"}               1001      0.10.1   \n",
       "140    {\"duckdb_version\": \"0.3.1\"}               1001      0.10.1   \n",
       "141    {\"duckdb_version\": \"0.3.2\"}               1001      0.10.1   \n",
       "142    {\"duckdb_version\": \"0.3.4\"}               1001      0.10.1   \n",
       "143    {\"duckdb_version\": \"0.4.0\"}               1001      0.10.1   \n",
       "144    {\"duckdb_version\": \"0.5.1\"}               1001      0.10.1   \n",
       "145    {\"duckdb_version\": \"0.6.1\"}               1001      0.10.1   \n",
       "146    {\"duckdb_version\": \"0.7.1\"}               1001      0.10.1   \n",
       "147    {\"duckdb_version\": \"0.8.1\"}               1001      0.10.1   \n",
       "148    {\"duckdb_version\": \"0.9.0\"}               1001      0.10.1   \n",
       "149   {\"duckdb_version\": \"v0.9.1\"}               1001      0.10.1   \n",
       "150   {\"duckdb_version\": \"v0.9.2\"}               1001      0.10.1   \n",
       "151  {\"duckdb_version\": \"v0.10.0\"}               1001      0.10.1   \n",
       "152  {\"duckdb_version\": \"v0.10.1\"}               1001      0.10.1   \n",
       "153    {\"duckdb_version\": \"0.2.7\"}               1001      0.10.1   \n",
       "154    {\"duckdb_version\": \"0.2.8\"}               1001      0.10.1   \n",
       "155    {\"duckdb_version\": \"0.2.9\"}               1001      0.10.1   \n",
       "156    {\"duckdb_version\": \"0.3.0\"}               1001      0.10.1   \n",
       "157    {\"duckdb_version\": \"0.3.1\"}               1001      0.10.1   \n",
       "158    {\"duckdb_version\": \"0.3.2\"}               1001      0.10.1   \n",
       "159    {\"duckdb_version\": \"0.3.4\"}               1001      0.10.1   \n",
       "160    {\"duckdb_version\": \"0.4.0\"}               1001      0.10.1   \n",
       "161    {\"duckdb_version\": \"0.5.1\"}               1001      0.10.1   \n",
       "162    {\"duckdb_version\": \"0.6.1\"}               1001      0.10.1   \n",
       "163    {\"duckdb_version\": \"0.7.1\"}               1001      0.10.1   \n",
       "164    {\"duckdb_version\": \"0.8.1\"}               1001      0.10.1   \n",
       "165    {\"duckdb_version\": \"0.9.0\"}               1001      0.10.1   \n",
       "166   {\"duckdb_version\": \"v0.9.1\"}               1001      0.10.1   \n",
       "167   {\"duckdb_version\": \"v0.9.2\"}               1001      0.10.1   \n",
       "168  {\"duckdb_version\": \"v0.10.0\"}               1001      0.10.1   \n",
       "169  {\"duckdb_version\": \"v0.10.1\"}               1001      0.10.1   \n",
       "170    {\"duckdb_version\": \"0.6.1\"}               1001      0.10.1   \n",
       "171    {\"duckdb_version\": \"0.7.1\"}               1001      0.10.1   \n",
       "172    {\"duckdb_version\": \"0.8.1\"}               1001      0.10.1   \n",
       "173    {\"duckdb_version\": \"0.9.0\"}               1001      0.10.1   \n",
       "174   {\"duckdb_version\": \"v0.9.1\"}               1001      0.10.1   \n",
       "175   {\"duckdb_version\": \"v0.9.2\"}               1001      0.10.1   \n",
       "176  {\"duckdb_version\": \"v0.10.0\"}               1001      0.10.1   \n",
       "177  {\"duckdb_version\": \"v0.10.1\"}               1001      0.10.1   \n",
       "178    {\"duckdb_version\": \"0.2.7\"}               1001      0.10.1   \n",
       "179    {\"duckdb_version\": \"0.2.8\"}               1001      0.10.1   \n",
       "180    {\"duckdb_version\": \"0.2.9\"}               1001      0.10.1   \n",
       "181    {\"duckdb_version\": \"0.3.0\"}               1001      0.10.1   \n",
       "182    {\"duckdb_version\": \"0.3.1\"}               1001      0.10.1   \n",
       "183    {\"duckdb_version\": \"0.3.2\"}               1001      0.10.1   \n",
       "184    {\"duckdb_version\": \"0.3.4\"}               1001      0.10.1   \n",
       "185    {\"duckdb_version\": \"0.4.0\"}               1001      0.10.1   \n",
       "186    {\"duckdb_version\": \"0.5.1\"}               1001      0.10.1   \n",
       "187    {\"duckdb_version\": \"0.6.1\"}               1001      0.10.1   \n",
       "188    {\"duckdb_version\": \"0.7.1\"}               1001      0.10.1   \n",
       "189    {\"duckdb_version\": \"0.8.1\"}               1001      0.10.1   \n",
       "190    {\"duckdb_version\": \"0.9.0\"}               1001      0.10.1   \n",
       "191   {\"duckdb_version\": \"v0.9.1\"}               1001      0.10.1   \n",
       "192   {\"duckdb_version\": \"v0.9.2\"}               1001      0.10.1   \n",
       "193  {\"duckdb_version\": \"v0.10.0\"}               1001      0.10.1   \n",
       "194  {\"duckdb_version\": \"v0.10.1\"}               1001      0.10.1   \n",
       "195    {\"duckdb_version\": \"0.2.7\"}               1001      0.10.1   \n",
       "196    {\"duckdb_version\": \"0.2.8\"}               1001      0.10.1   \n",
       "197    {\"duckdb_version\": \"0.2.9\"}               1001      0.10.1   \n",
       "198    {\"duckdb_version\": \"0.3.0\"}               1001      0.10.1   \n",
       "199    {\"duckdb_version\": \"0.3.1\"}               1001      0.10.1   \n",
       "200    {\"duckdb_version\": \"0.3.2\"}               1001      0.10.1   \n",
       "201    {\"duckdb_version\": \"0.3.4\"}               1001      0.10.1   \n",
       "202    {\"duckdb_version\": \"0.4.0\"}               1001      0.10.1   \n",
       "203    {\"duckdb_version\": \"0.5.1\"}               1001      0.10.1   \n",
       "204    {\"duckdb_version\": \"0.6.1\"}               1001      0.10.1   \n",
       "205    {\"duckdb_version\": \"0.7.1\"}               1001      0.10.1   \n",
       "206    {\"duckdb_version\": \"0.8.1\"}               1001      0.10.1   \n",
       "207    {\"duckdb_version\": \"0.9.0\"}               1001      0.10.1   \n",
       "208   {\"duckdb_version\": \"v0.9.1\"}               1001      0.10.1   \n",
       "209   {\"duckdb_version\": \"v0.9.2\"}               1001      0.10.1   \n",
       "210  {\"duckdb_version\": \"v0.10.0\"}               1001      0.10.1   \n",
       "211  {\"duckdb_version\": \"v0.10.1\"}               1001      0.10.1   \n",
       "212    {\"duckdb_version\": \"0.3.1\"}               1001      0.10.1   \n",
       "213    {\"duckdb_version\": \"0.3.2\"}               1001      0.10.1   \n",
       "214    {\"duckdb_version\": \"0.3.4\"}               1001      0.10.1   \n",
       "215    {\"duckdb_version\": \"0.4.0\"}               1001      0.10.1   \n",
       "216    {\"duckdb_version\": \"0.5.1\"}               1001      0.10.1   \n",
       "217    {\"duckdb_version\": \"0.6.1\"}               1001      0.10.1   \n",
       "218    {\"duckdb_version\": \"0.7.1\"}               1001      0.10.1   \n",
       "219    {\"duckdb_version\": \"0.8.1\"}               1001      0.10.1   \n",
       "220    {\"duckdb_version\": \"0.9.0\"}               1001      0.10.1   \n",
       "221   {\"duckdb_version\": \"v0.9.1\"}               1001      0.10.1   \n",
       "222   {\"duckdb_version\": \"v0.9.2\"}               1001      0.10.1   \n",
       "223  {\"duckdb_version\": \"v0.10.0\"}               1001      0.10.1   \n",
       "224  {\"duckdb_version\": \"v0.10.1\"}               1001      0.10.1   \n",
       "\n",
       "     Time (seconds) DuckDB Version      benchmark_type  benchmark_type_order  \\\n",
       "0          0.005581          0.2.7  Scan other formats                     2   \n",
       "1          0.003656          0.2.8  Scan other formats                     2   \n",
       "2          0.005581          0.2.9  Scan other formats                     2   \n",
       "3          0.003121          0.3.0  Scan other formats                     2   \n",
       "4          0.002151          0.3.1  Scan other formats                     2   \n",
       "5          0.002634          0.3.2  Scan other formats                     2   \n",
       "6          0.003044          0.3.4  Scan other formats                     2   \n",
       "7          0.003136          0.4.0  Scan other formats                     2   \n",
       "8          0.003431          0.5.1  Scan other formats                     2   \n",
       "9          0.001854          0.6.1  Scan other formats                     2   \n",
       "10         0.002033          0.7.1  Scan other formats                     2   \n",
       "11         0.002082          0.8.1  Scan other formats                     2   \n",
       "12         0.002238          0.9.0  Scan other formats                     2   \n",
       "13         0.002457          0.9.1  Scan other formats                     2   \n",
       "14         0.001712          0.9.2  Scan other formats                     2   \n",
       "15         0.001772         0.10.0  Scan other formats                     2   \n",
       "16         0.001921         0.10.1  Scan other formats                     2   \n",
       "17         4.846485          0.2.7          CSV Import                     1   \n",
       "18         4.630909          0.2.8          CSV Import                     1   \n",
       "19         5.039506          0.2.9          CSV Import                     1   \n",
       "20         5.143498          0.3.0          CSV Import                     1   \n",
       "21         6.731112          0.3.1          CSV Import                     1   \n",
       "22         5.484685          0.3.2          CSV Import                     1   \n",
       "23         6.670692          0.3.4          CSV Import                     1   \n",
       "24         7.315441          0.4.0          CSV Import                     1   \n",
       "25         6.929249          0.5.1          CSV Import                     1   \n",
       "26         6.484700          0.6.1          CSV Import                     1   \n",
       "27         6.231344          0.7.1          CSV Import                     1   \n",
       "28         2.120480          0.8.1          CSV Import                     1   \n",
       "29         2.039051          0.9.0          CSV Import                     1   \n",
       "30         2.083738          0.9.1          CSV Import                     1   \n",
       "31         2.039516          0.9.2          CSV Import                     1   \n",
       "32         1.412541         0.10.0          CSV Import                     1   \n",
       "33         1.448871         0.10.1          CSV Import                     1   \n",
       "34         0.857038          0.6.1            Analysis                     3   \n",
       "35         0.808299          0.7.1            Analysis                     3   \n",
       "36         1.160729          0.8.1            Analysis                     3   \n",
       "37         1.187053          0.9.0            Analysis                     3   \n",
       "38         1.177166          0.9.1            Analysis                     3   \n",
       "39         1.190061          0.9.2            Analysis                     3   \n",
       "40         0.907619         0.10.0            Analysis                     3   \n",
       "41         0.902253         0.10.1            Analysis                     3   \n",
       "42        30.480709          0.2.7            Analysis                     3   \n",
       "43        24.299962          0.2.8            Analysis                     3   \n",
       "44        21.444196          0.2.9            Analysis                     3   \n",
       "45        21.360025          0.3.0            Analysis                     3   \n",
       "46         8.027176          0.3.1            Analysis                     3   \n",
       "47         8.091708          0.3.2            Analysis                     3   \n",
       "48         9.097851          0.3.4            Analysis                     3   \n",
       "49         7.249774          0.4.0            Analysis                     3   \n",
       "50         5.286354          0.5.1            Analysis                     3   \n",
       "51         1.685137          0.6.1            Analysis                     3   \n",
       "52         1.621953          0.7.1            Analysis                     3   \n",
       "53         1.388392          0.8.1            Analysis                     3   \n",
       "54         1.364668          0.9.0            Analysis                     3   \n",
       "55         1.344454          0.9.1            Analysis                     3   \n",
       "56         1.336820          0.9.2            Analysis                     3   \n",
       "57         1.243161         0.10.0            Analysis                     3   \n",
       "58         1.239274         0.10.1            Analysis                     3   \n",
       "59         1.585301          0.2.7              Export                     4   \n",
       "60         1.395679          0.2.8              Export                     4   \n",
       "61         1.263342          0.2.9              Export                     4   \n",
       "62         1.271773          0.3.0              Export                     4   \n",
       "63         1.297401          0.3.1              Export                     4   \n",
       "64         1.296835          0.3.2              Export                     4   \n",
       "65         1.244264          0.3.4              Export                     4   \n",
       "66         1.229705          0.4.0              Export                     4   \n",
       "67         1.238263          0.5.1              Export                     4   \n",
       "68         0.655011          0.6.1              Export                     4   \n",
       "69         0.647314          0.7.1              Export                     4   \n",
       "70         0.676612          0.8.1              Export                     4   \n",
       "71         0.673007          0.9.0              Export                     4   \n",
       "72         0.674498          0.9.1              Export                     4   \n",
       "73         0.679484          0.9.2              Export                     4   \n",
       "74         0.744764         0.10.0              Export                     4   \n",
       "75         0.751112         0.10.1              Export                     4   \n",
       "76         0.012231          0.2.7  Scan other formats                     2   \n",
       "77         0.010998          0.2.8  Scan other formats                     2   \n",
       "78         0.011054          0.2.9  Scan other formats                     2   \n",
       "79         0.011107          0.3.0  Scan other formats                     2   \n",
       "80         0.004504          0.3.1  Scan other formats                     2   \n",
       "81         0.004124          0.3.2  Scan other formats                     2   \n",
       "82         0.003638          0.3.4  Scan other formats                     2   \n",
       "83         0.003761          0.4.0  Scan other formats                     2   \n",
       "84         0.008367          0.5.1  Scan other formats                     2   \n",
       "85         0.004099          0.6.1  Scan other formats                     2   \n",
       "86         0.004590          0.7.1  Scan other formats                     2   \n",
       "87         0.004539          0.8.1  Scan other formats                     2   \n",
       "88         0.004553          0.9.0  Scan other formats                     2   \n",
       "89         0.004622          0.9.1  Scan other formats                     2   \n",
       "90         0.005076          0.9.2  Scan other formats                     2   \n",
       "91         0.005719         0.10.0  Scan other formats                     2   \n",
       "92         0.005071         0.10.1  Scan other formats                     2   \n",
       "93         1.894315          0.2.7              Export                     4   \n",
       "94         1.876436          0.2.8              Export                     4   \n",
       "95         1.932330          0.2.9              Export                     4   \n",
       "96         1.916472          0.3.0              Export                     4   \n",
       "97         1.925596          0.3.1              Export                     4   \n",
       "98         3.197409          0.3.2              Export                     4   \n",
       "99         3.107190          0.3.4              Export                     4   \n",
       "100        3.097303          0.4.0              Export                     4   \n",
       "101        4.482878          0.5.1              Export                     4   \n",
       "102        3.868870          0.6.1              Export                     4   \n",
       "103        4.129821          0.7.1              Export                     4   \n",
       "104        1.522229          0.8.1              Export                     4   \n",
       "105        1.517412          0.9.0              Export                     4   \n",
       "106        1.530309          0.9.1              Export                     4   \n",
       "107        1.539420          0.9.2              Export                     4   \n",
       "108        1.512965         0.10.0              Export                     4   \n",
       "109        1.490883         0.10.1              Export                     4   \n",
       "110        0.102710          0.2.7  Scan other formats                     2   \n",
       "111        0.100378          0.2.8  Scan other formats                     2   \n",
       "112        0.091674          0.2.9  Scan other formats                     2   \n",
       "113        0.091033          0.3.0  Scan other formats                     2   \n",
       "114        0.013998          0.3.1  Scan other formats                     2   \n",
       "115        0.011714          0.3.2  Scan other formats                     2   \n",
       "116        0.011483          0.3.4  Scan other formats                     2   \n",
       "117        0.010759          0.4.0  Scan other formats                     2   \n",
       "118        0.011823          0.5.1  Scan other formats                     2   \n",
       "119        0.011219          0.6.1  Scan other formats                     2   \n",
       "120        0.011484          0.7.1  Scan other formats                     2   \n",
       "121        0.011125          0.8.1  Scan other formats                     2   \n",
       "122        0.010533          0.9.0  Scan other formats                     2   \n",
       "123        0.010736          0.9.1  Scan other formats                     2   \n",
       "124        0.010779          0.9.2  Scan other formats                     2   \n",
       "125        0.010800         0.10.0  Scan other formats                     2   \n",
       "126        0.010920         0.10.1  Scan other formats                     2   \n",
       "127        0.714329          0.3.1              Export                     4   \n",
       "128        0.695521          0.3.2              Export                     4   \n",
       "129       16.578398          0.3.4              Export                     4   \n",
       "130       15.080015          0.4.0              Export                     4   \n",
       "131        0.389686          0.5.1              Export                     4   \n",
       "132        0.284812          0.6.1              Export                     4   \n",
       "133        0.290598          0.7.1              Export                     4   \n",
       "134        0.306640          0.8.1              Export                     4   \n",
       "135        0.303673          0.9.0              Export                     4   \n",
       "136        0.310521          0.9.1              Export                     4   \n",
       "137        0.306260          0.9.2              Export                     4   \n",
       "138        0.372756         0.10.0              Export                     4   \n",
       "139        0.374376         0.10.1              Export                     4   \n",
       "140        0.321786          0.3.1  Scan other formats                     2   \n",
       "141        0.519990          0.3.2  Scan other formats                     2   \n",
       "142        0.003314          0.3.4  Scan other formats                     2   \n",
       "143        0.003868          0.4.0  Scan other formats                     2   \n",
       "144        0.003838          0.5.1  Scan other formats                     2   \n",
       "145        0.004443          0.6.1  Scan other formats                     2   \n",
       "146        0.004571          0.7.1  Scan other formats                     2   \n",
       "147        0.004569          0.8.1  Scan other formats                     2   \n",
       "148        0.003784          0.9.0  Scan other formats                     2   \n",
       "149        0.003807          0.9.1  Scan other formats                     2   \n",
       "150        0.003609          0.9.2  Scan other formats                     2   \n",
       "151        0.005559         0.10.0  Scan other formats                     2   \n",
       "152        0.003691         0.10.1  Scan other formats                     2   \n",
       "153        9.000278          0.2.7          CSV Import                     1   \n",
       "154        8.789042          0.2.8          CSV Import                     1   \n",
       "155        9.444966          0.2.9          CSV Import                     1   \n",
       "156        9.685044          0.3.0          CSV Import                     1   \n",
       "157       10.135207          0.3.1          CSV Import                     1   \n",
       "158       10.167239          0.3.2          CSV Import                     1   \n",
       "159       13.799681          0.3.4          CSV Import                     1   \n",
       "160       14.952031          0.4.0          CSV Import                     1   \n",
       "161       14.209869          0.5.1          CSV Import                     1   \n",
       "162       13.487855          0.6.1          CSV Import                     1   \n",
       "163       13.399229          0.7.1          CSV Import                     1   \n",
       "164        5.317326          0.8.1          CSV Import                     1   \n",
       "165        4.645056          0.9.0          CSV Import                     1   \n",
       "166        5.532815          0.9.1          CSV Import                     1   \n",
       "167        4.028918          0.9.2          CSV Import                     1   \n",
       "168        3.261596         0.10.0          CSV Import                     1   \n",
       "169        3.328050         0.10.1          CSV Import                     1   \n",
       "170        2.168022          0.6.1            Analysis                     3   \n",
       "171        1.804777          0.7.1            Analysis                     3   \n",
       "172        3.143374          0.8.1            Analysis                     3   \n",
       "173        3.156908          0.9.0            Analysis                     3   \n",
       "174        3.065938          0.9.1            Analysis                     3   \n",
       "175        3.261357          0.9.2            Analysis                     3   \n",
       "176        2.209412         0.10.0            Analysis                     3   \n",
       "177        2.194007         0.10.1            Analysis                     3   \n",
       "178       23.821901          0.2.7            Analysis                     3   \n",
       "179       21.935621          0.2.8            Analysis                     3   \n",
       "180       23.939756          0.2.9            Analysis                     3   \n",
       "181       23.811306          0.3.0            Analysis                     3   \n",
       "182       23.266799          0.3.1            Analysis                     3   \n",
       "183       24.609514          0.3.2            Analysis                     3   \n",
       "184       36.329135          0.3.4            Analysis                     3   \n",
       "185       39.881348          0.4.0            Analysis                     3   \n",
       "186       37.027964          0.5.1            Analysis                     3   \n",
       "187        5.900247          0.6.1            Analysis                     3   \n",
       "188        3.515694          0.7.1            Analysis                     3   \n",
       "189        4.550072          0.8.1            Analysis                     3   \n",
       "190        4.415934          0.9.0            Analysis                     3   \n",
       "191        4.382592          0.9.1            Analysis                     3   \n",
       "192        4.435296          0.9.2            Analysis                     3   \n",
       "193        3.331023         0.10.0            Analysis                     3   \n",
       "194        3.316501         0.10.1            Analysis                     3   \n",
       "195       32.896970          0.2.7              Export                     4   \n",
       "196       30.641782          0.2.8              Export                     4   \n",
       "197       25.363092          0.2.9              Export                     4   \n",
       "198       25.596012          0.3.0              Export                     4   \n",
       "199       25.937402          0.3.1              Export                     4   \n",
       "200       34.932955          0.3.2              Export                     4   \n",
       "201       26.585232          0.3.4              Export                     4   \n",
       "202       27.940955          0.4.0              Export                     4   \n",
       "203       26.532592          0.5.1              Export                     4   \n",
       "204        5.274870          0.6.1              Export                     4   \n",
       "205        5.199806          0.7.1              Export                     4   \n",
       "206        5.370461          0.8.1              Export                     4   \n",
       "207        6.315687          0.9.0              Export                     4   \n",
       "208        6.145375          0.9.1              Export                     4   \n",
       "209        5.578744          0.9.2              Export                     4   \n",
       "210        6.085073         0.10.0              Export                     4   \n",
       "211        6.150260         0.10.1              Export                     4   \n",
       "212        7.046789          0.3.1              Export                     4   \n",
       "213        7.146798          0.3.2              Export                     4   \n",
       "214       92.951440          0.3.4              Export                     4   \n",
       "215       92.944912          0.4.0              Export                     4   \n",
       "216        3.224982          0.5.1              Export                     4   \n",
       "217        1.785783          0.6.1              Export                     4   \n",
       "218        1.779070          0.7.1              Export                     4   \n",
       "219        1.848056          0.8.1              Export                     4   \n",
       "220        1.892380          0.9.0              Export                     4   \n",
       "221        1.885299          0.9.1              Export                     4   \n",
       "222        1.851359          0.9.2              Export                     4   \n",
       "223        2.359996         0.10.0              Export                     4   \n",
       "224        2.319401         0.10.1              Export                     4   \n",
       "\n",
       "         Benchmark Type  total_time_by_version  total_time_max_version  \\\n",
       "0    Scan other formats             104.646480               23.536592   \n",
       "1    Scan other formats              93.684463               23.536592   \n",
       "2    Scan other formats              88.535498               23.536592   \n",
       "3    Scan other formats              88.889392               23.536592   \n",
       "4    Scan other formats              85.424251               23.536592   \n",
       "5    Scan other formats              96.161127               23.536592   \n",
       "6    Scan other formats             206.385362               23.536592   \n",
       "7    Scan other formats             209.713009               23.536592   \n",
       "8    Scan other formats              99.349296               23.536592   \n",
       "9    Scan other formats              42.473960               23.536592   \n",
       "10   Scan other formats              39.450583               23.536592   \n",
       "11   Scan other formats              27.426684               23.536592   \n",
       "12   Scan other formats              27.531936               23.536592   \n",
       "13   Scan other formats              28.154328               23.536592   \n",
       "14   Scan other formats              26.268411               23.536592   \n",
       "15   Scan other formats              23.464754               23.536592   \n",
       "16   Scan other formats              23.536592               23.536592   \n",
       "17           CSV Import             104.646480               23.536592   \n",
       "18           CSV Import              93.684463               23.536592   \n",
       "19           CSV Import              88.535498               23.536592   \n",
       "20           CSV Import              88.889392               23.536592   \n",
       "21           CSV Import              85.424251               23.536592   \n",
       "22           CSV Import              96.161127               23.536592   \n",
       "23           CSV Import             206.385362               23.536592   \n",
       "24           CSV Import             209.713009               23.536592   \n",
       "25           CSV Import              99.349296               23.536592   \n",
       "26           CSV Import              42.473960               23.536592   \n",
       "27           CSV Import              39.450583               23.536592   \n",
       "28           CSV Import              27.426684               23.536592   \n",
       "29           CSV Import              27.531936               23.536592   \n",
       "30           CSV Import              28.154328               23.536592   \n",
       "31           CSV Import              26.268411               23.536592   \n",
       "32           CSV Import              23.464754               23.536592   \n",
       "33           CSV Import              23.536592               23.536592   \n",
       "34             Analysis              42.473960               23.536592   \n",
       "35             Analysis              39.450583               23.536592   \n",
       "36             Analysis              27.426684               23.536592   \n",
       "37             Analysis              27.531936               23.536592   \n",
       "38             Analysis              28.154328               23.536592   \n",
       "39             Analysis              26.268411               23.536592   \n",
       "40             Analysis              23.464754               23.536592   \n",
       "41             Analysis              23.536592               23.536592   \n",
       "42             Analysis             104.646480               23.536592   \n",
       "43             Analysis              93.684463               23.536592   \n",
       "44             Analysis              88.535498               23.536592   \n",
       "45             Analysis              88.889392               23.536592   \n",
       "46             Analysis              85.424251               23.536592   \n",
       "47             Analysis              96.161127               23.536592   \n",
       "48             Analysis             206.385362               23.536592   \n",
       "49             Analysis             209.713009               23.536592   \n",
       "50             Analysis              99.349296               23.536592   \n",
       "51             Analysis              42.473960               23.536592   \n",
       "52             Analysis              39.450583               23.536592   \n",
       "53             Analysis              27.426684               23.536592   \n",
       "54             Analysis              27.531936               23.536592   \n",
       "55             Analysis              28.154328               23.536592   \n",
       "56             Analysis              26.268411               23.536592   \n",
       "57             Analysis              23.464754               23.536592   \n",
       "58             Analysis              23.536592               23.536592   \n",
       "59               Export             104.646480               23.536592   \n",
       "60               Export              93.684463               23.536592   \n",
       "61               Export              88.535498               23.536592   \n",
       "62               Export              88.889392               23.536592   \n",
       "63               Export              85.424251               23.536592   \n",
       "64               Export              96.161127               23.536592   \n",
       "65               Export             206.385362               23.536592   \n",
       "66               Export             209.713009               23.536592   \n",
       "67               Export              99.349296               23.536592   \n",
       "68               Export              42.473960               23.536592   \n",
       "69               Export              39.450583               23.536592   \n",
       "70               Export              27.426684               23.536592   \n",
       "71               Export              27.531936               23.536592   \n",
       "72               Export              28.154328               23.536592   \n",
       "73               Export              26.268411               23.536592   \n",
       "74               Export              23.464754               23.536592   \n",
       "75               Export              23.536592               23.536592   \n",
       "76   Scan other formats             104.646480               23.536592   \n",
       "77   Scan other formats              93.684463               23.536592   \n",
       "78   Scan other formats              88.535498               23.536592   \n",
       "79   Scan other formats              88.889392               23.536592   \n",
       "80   Scan other formats              85.424251               23.536592   \n",
       "81   Scan other formats              96.161127               23.536592   \n",
       "82   Scan other formats             206.385362               23.536592   \n",
       "83   Scan other formats             209.713009               23.536592   \n",
       "84   Scan other formats              99.349296               23.536592   \n",
       "85   Scan other formats              42.473960               23.536592   \n",
       "86   Scan other formats              39.450583               23.536592   \n",
       "87   Scan other formats              27.426684               23.536592   \n",
       "88   Scan other formats              27.531936               23.536592   \n",
       "89   Scan other formats              28.154328               23.536592   \n",
       "90   Scan other formats              26.268411               23.536592   \n",
       "91   Scan other formats              23.464754               23.536592   \n",
       "92   Scan other formats              23.536592               23.536592   \n",
       "93               Export             104.646480               23.536592   \n",
       "94               Export              93.684463               23.536592   \n",
       "95               Export              88.535498               23.536592   \n",
       "96               Export              88.889392               23.536592   \n",
       "97               Export              85.424251               23.536592   \n",
       "98               Export              96.161127               23.536592   \n",
       "99               Export             206.385362               23.536592   \n",
       "100              Export             209.713009               23.536592   \n",
       "101              Export              99.349296               23.536592   \n",
       "102              Export              42.473960               23.536592   \n",
       "103              Export              39.450583               23.536592   \n",
       "104              Export              27.426684               23.536592   \n",
       "105              Export              27.531936               23.536592   \n",
       "106              Export              28.154328               23.536592   \n",
       "107              Export              26.268411               23.536592   \n",
       "108              Export              23.464754               23.536592   \n",
       "109              Export              23.536592               23.536592   \n",
       "110  Scan other formats             104.646480               23.536592   \n",
       "111  Scan other formats              93.684463               23.536592   \n",
       "112  Scan other formats              88.535498               23.536592   \n",
       "113  Scan other formats              88.889392               23.536592   \n",
       "114  Scan other formats              85.424251               23.536592   \n",
       "115  Scan other formats              96.161127               23.536592   \n",
       "116  Scan other formats             206.385362               23.536592   \n",
       "117  Scan other formats             209.713009               23.536592   \n",
       "118  Scan other formats              99.349296               23.536592   \n",
       "119  Scan other formats              42.473960               23.536592   \n",
       "120  Scan other formats              39.450583               23.536592   \n",
       "121  Scan other formats              27.426684               23.536592   \n",
       "122  Scan other formats              27.531936               23.536592   \n",
       "123  Scan other formats              28.154328               23.536592   \n",
       "124  Scan other formats              26.268411               23.536592   \n",
       "125  Scan other formats              23.464754               23.536592   \n",
       "126  Scan other formats              23.536592               23.536592   \n",
       "127              Export              85.424251               23.536592   \n",
       "128              Export              96.161127               23.536592   \n",
       "129              Export             206.385362               23.536592   \n",
       "130              Export             209.713009               23.536592   \n",
       "131              Export              99.349296               23.536592   \n",
       "132              Export              42.473960               23.536592   \n",
       "133              Export              39.450583               23.536592   \n",
       "134              Export              27.426684               23.536592   \n",
       "135              Export              27.531936               23.536592   \n",
       "136              Export              28.154328               23.536592   \n",
       "137              Export              26.268411               23.536592   \n",
       "138              Export              23.464754               23.536592   \n",
       "139              Export              23.536592               23.536592   \n",
       "140  Scan other formats              85.424251               23.536592   \n",
       "141  Scan other formats              96.161127               23.536592   \n",
       "142  Scan other formats             206.385362               23.536592   \n",
       "143  Scan other formats             209.713009               23.536592   \n",
       "144  Scan other formats              99.349296               23.536592   \n",
       "145  Scan other formats              42.473960               23.536592   \n",
       "146  Scan other formats              39.450583               23.536592   \n",
       "147  Scan other formats              27.426684               23.536592   \n",
       "148  Scan other formats              27.531936               23.536592   \n",
       "149  Scan other formats              28.154328               23.536592   \n",
       "150  Scan other formats              26.268411               23.536592   \n",
       "151  Scan other formats              23.464754               23.536592   \n",
       "152  Scan other formats              23.536592               23.536592   \n",
       "153          CSV Import             104.646480               23.536592   \n",
       "154          CSV Import              93.684463               23.536592   \n",
       "155          CSV Import              88.535498               23.536592   \n",
       "156          CSV Import              88.889392               23.536592   \n",
       "157          CSV Import              85.424251               23.536592   \n",
       "158          CSV Import              96.161127               23.536592   \n",
       "159          CSV Import             206.385362               23.536592   \n",
       "160          CSV Import             209.713009               23.536592   \n",
       "161          CSV Import              99.349296               23.536592   \n",
       "162          CSV Import              42.473960               23.536592   \n",
       "163          CSV Import              39.450583               23.536592   \n",
       "164          CSV Import              27.426684               23.536592   \n",
       "165          CSV Import              27.531936               23.536592   \n",
       "166          CSV Import              28.154328               23.536592   \n",
       "167          CSV Import              26.268411               23.536592   \n",
       "168          CSV Import              23.464754               23.536592   \n",
       "169          CSV Import              23.536592               23.536592   \n",
       "170            Analysis              42.473960               23.536592   \n",
       "171            Analysis              39.450583               23.536592   \n",
       "172            Analysis              27.426684               23.536592   \n",
       "173            Analysis              27.531936               23.536592   \n",
       "174            Analysis              28.154328               23.536592   \n",
       "175            Analysis              26.268411               23.536592   \n",
       "176            Analysis              23.464754               23.536592   \n",
       "177            Analysis              23.536592               23.536592   \n",
       "178            Analysis             104.646480               23.536592   \n",
       "179            Analysis              93.684463               23.536592   \n",
       "180            Analysis              88.535498               23.536592   \n",
       "181            Analysis              88.889392               23.536592   \n",
       "182            Analysis              85.424251               23.536592   \n",
       "183            Analysis              96.161127               23.536592   \n",
       "184            Analysis             206.385362               23.536592   \n",
       "185            Analysis             209.713009               23.536592   \n",
       "186            Analysis              99.349296               23.536592   \n",
       "187            Analysis              42.473960               23.536592   \n",
       "188            Analysis              39.450583               23.536592   \n",
       "189            Analysis              27.426684               23.536592   \n",
       "190            Analysis              27.531936               23.536592   \n",
       "191            Analysis              28.154328               23.536592   \n",
       "192            Analysis              26.268411               23.536592   \n",
       "193            Analysis              23.464754               23.536592   \n",
       "194            Analysis              23.536592               23.536592   \n",
       "195              Export             104.646480               23.536592   \n",
       "196              Export              93.684463               23.536592   \n",
       "197              Export              88.535498               23.536592   \n",
       "198              Export              88.889392               23.536592   \n",
       "199              Export              85.424251               23.536592   \n",
       "200              Export              96.161127               23.536592   \n",
       "201              Export             206.385362               23.536592   \n",
       "202              Export             209.713009               23.536592   \n",
       "203              Export              99.349296               23.536592   \n",
       "204              Export              42.473960               23.536592   \n",
       "205              Export              39.450583               23.536592   \n",
       "206              Export              27.426684               23.536592   \n",
       "207              Export              27.531936               23.536592   \n",
       "208              Export              28.154328               23.536592   \n",
       "209              Export              26.268411               23.536592   \n",
       "210              Export              23.464754               23.536592   \n",
       "211              Export              23.536592               23.536592   \n",
       "212              Export              85.424251               23.536592   \n",
       "213              Export              96.161127               23.536592   \n",
       "214              Export             206.385362               23.536592   \n",
       "215              Export             209.713009               23.536592   \n",
       "216              Export              99.349296               23.536592   \n",
       "217              Export              42.473960               23.536592   \n",
       "218              Export              39.450583               23.536592   \n",
       "219              Export              27.426684               23.536592   \n",
       "220              Export              27.531936               23.536592   \n",
       "221              Export              28.154328               23.536592   \n",
       "222              Export              26.268411               23.536592   \n",
       "223              Export              23.464754               23.536592   \n",
       "224              Export              23.536592               23.536592   \n",
       "\n",
       "     Time Relative to Latest Version  \n",
       "0                           0.000237  \n",
       "1                           0.000155  \n",
       "2                           0.000237  \n",
       "3                           0.000133  \n",
       "4                           0.000091  \n",
       "5                           0.000112  \n",
       "6                           0.000129  \n",
       "7                           0.000133  \n",
       "8                           0.000146  \n",
       "9                           0.000079  \n",
       "10                          0.000086  \n",
       "11                          0.000088  \n",
       "12                          0.000095  \n",
       "13                          0.000104  \n",
       "14                          0.000073  \n",
       "15                          0.000075  \n",
       "16                          0.000082  \n",
       "17                          0.205913  \n",
       "18                          0.196754  \n",
       "19                          0.214114  \n",
       "20                          0.218532  \n",
       "21                          0.285985  \n",
       "22                          0.233028  \n",
       "23                          0.283418  \n",
       "24                          0.310811  \n",
       "25                          0.294403  \n",
       "26                          0.275516  \n",
       "27                          0.264751  \n",
       "28                          0.090093  \n",
       "29                          0.086633  \n",
       "30                          0.088532  \n",
       "31                          0.086653  \n",
       "32                          0.060015  \n",
       "33                          0.061558  \n",
       "34                          0.036413  \n",
       "35                          0.034342  \n",
       "36                          0.049316  \n",
       "37                          0.050434  \n",
       "38                          0.050014  \n",
       "39                          0.050562  \n",
       "40                          0.038562  \n",
       "41                          0.038334  \n",
       "42                          1.295035  \n",
       "43                          1.032433  \n",
       "44                          0.911100  \n",
       "45                          0.907524  \n",
       "46                          0.341051  \n",
       "47                          0.343793  \n",
       "48                          0.386541  \n",
       "49                          0.308021  \n",
       "50                          0.224601  \n",
       "51                          0.071596  \n",
       "52                          0.068912  \n",
       "53                          0.058989  \n",
       "54                          0.057981  \n",
       "55                          0.057122  \n",
       "56                          0.056798  \n",
       "57                          0.052818  \n",
       "58                          0.052653  \n",
       "59                          0.067355  \n",
       "60                          0.059298  \n",
       "61                          0.053676  \n",
       "62                          0.054034  \n",
       "63                          0.055123  \n",
       "64                          0.055099  \n",
       "65                          0.052865  \n",
       "66                          0.052247  \n",
       "67                          0.052610  \n",
       "68                          0.027829  \n",
       "69                          0.027502  \n",
       "70                          0.028747  \n",
       "71                          0.028594  \n",
       "72                          0.028657  \n",
       "73                          0.028869  \n",
       "74                          0.031643  \n",
       "75                          0.031913  \n",
       "76                          0.000520  \n",
       "77                          0.000467  \n",
       "78                          0.000470  \n",
       "79                          0.000472  \n",
       "80                          0.000191  \n",
       "81                          0.000175  \n",
       "82                          0.000155  \n",
       "83                          0.000160  \n",
       "84                          0.000355  \n",
       "85                          0.000174  \n",
       "86                          0.000195  \n",
       "87                          0.000193  \n",
       "88                          0.000193  \n",
       "89                          0.000196  \n",
       "90                          0.000216  \n",
       "91                          0.000243  \n",
       "92                          0.000215  \n",
       "93                          0.080484  \n",
       "94                          0.079724  \n",
       "95                          0.082099  \n",
       "96                          0.081425  \n",
       "97                          0.081813  \n",
       "98                          0.135848  \n",
       "99                          0.132015  \n",
       "100                         0.131595  \n",
       "101                         0.190464  \n",
       "102                         0.164377  \n",
       "103                         0.175464  \n",
       "104                         0.064675  \n",
       "105                         0.064470  \n",
       "106                         0.065018  \n",
       "107                         0.065405  \n",
       "108                         0.064281  \n",
       "109                         0.063343  \n",
       "110                         0.004364  \n",
       "111                         0.004265  \n",
       "112                         0.003895  \n",
       "113                         0.003868  \n",
       "114                         0.000595  \n",
       "115                         0.000498  \n",
       "116                         0.000488  \n",
       "117                         0.000457  \n",
       "118                         0.000502  \n",
       "119                         0.000477  \n",
       "120                         0.000488  \n",
       "121                         0.000473  \n",
       "122                         0.000448  \n",
       "123                         0.000456  \n",
       "124                         0.000458  \n",
       "125                         0.000459  \n",
       "126                         0.000464  \n",
       "127                         0.030350  \n",
       "128                         0.029551  \n",
       "129                         0.704367  \n",
       "130                         0.640705  \n",
       "131                         0.016557  \n",
       "132                         0.012101  \n",
       "133                         0.012347  \n",
       "134                         0.013028  \n",
       "135                         0.012902  \n",
       "136                         0.013193  \n",
       "137                         0.013012  \n",
       "138                         0.015837  \n",
       "139                         0.015906  \n",
       "140                         0.013672  \n",
       "141                         0.022093  \n",
       "142                         0.000141  \n",
       "143                         0.000164  \n",
       "144                         0.000163  \n",
       "145                         0.000189  \n",
       "146                         0.000194  \n",
       "147                         0.000194  \n",
       "148                         0.000161  \n",
       "149                         0.000162  \n",
       "150                         0.000153  \n",
       "151                         0.000236  \n",
       "152                         0.000157  \n",
       "153                         0.382395  \n",
       "154                         0.373420  \n",
       "155                         0.401289  \n",
       "156                         0.411489  \n",
       "157                         0.430615  \n",
       "158                         0.431976  \n",
       "159                         0.586308  \n",
       "160                         0.635267  \n",
       "161                         0.603735  \n",
       "162                         0.573059  \n",
       "163                         0.569294  \n",
       "164                         0.225917  \n",
       "165                         0.197355  \n",
       "166                         0.235073  \n",
       "167                         0.171177  \n",
       "168                         0.138576  \n",
       "169                         0.141399  \n",
       "170                         0.092113  \n",
       "171                         0.076680  \n",
       "172                         0.133553  \n",
       "173                         0.134128  \n",
       "174                         0.130263  \n",
       "175                         0.138565  \n",
       "176                         0.093871  \n",
       "177                         0.093217  \n",
       "178                         1.012122  \n",
       "179                         0.931980  \n",
       "180                         1.017129  \n",
       "181                         1.011672  \n",
       "182                         0.988537  \n",
       "183                         1.045585  \n",
       "184                         1.543517  \n",
       "185                         1.694440  \n",
       "186                         1.573208  \n",
       "187                         0.250684  \n",
       "188                         0.149371  \n",
       "189                         0.193319  \n",
       "190                         0.187620  \n",
       "191                         0.186203  \n",
       "192                         0.188443  \n",
       "193                         0.141525  \n",
       "194                         0.140908  \n",
       "195                         1.397695  \n",
       "196                         1.301878  \n",
       "197                         1.077603  \n",
       "198                         1.087499  \n",
       "199                         1.102003  \n",
       "200                         1.484198  \n",
       "201                         1.129528  \n",
       "202                         1.187128  \n",
       "203                         1.127291  \n",
       "204                         0.224114  \n",
       "205                         0.220924  \n",
       "206                         0.228175  \n",
       "207                         0.268335  \n",
       "208                         0.261099  \n",
       "209                         0.237024  \n",
       "210                         0.258537  \n",
       "211                         0.261306  \n",
       "212                         0.299397  \n",
       "213                         0.303646  \n",
       "214                         3.949231  \n",
       "215                         3.948954  \n",
       "216                         0.137020  \n",
       "217                         0.075873  \n",
       "218                         0.075587  \n",
       "219                         0.078518  \n",
       "220                         0.080402  \n",
       "221                         0.080101  \n",
       "222                         0.078659  \n",
       "223                         0.100269  \n",
       "224                         0.098544  "
      ]
     },
     "execution_count": 4,
     "metadata": {},
     "output_type": "execute_result"
    }
   ],
   "source": [
    "con = duckdb.connect()\n",
    "attach_results = con.sql(\"ATTACH 'benchmark_log_python_testing.db' as sqlite_db (TYPE SQLITE)\")\n",
    "ctas_results = con.sql(\"\"\"\n",
    "                       create or replace table duckdb_results as \n",
    "                       select * from sqlite_db.results\n",
    "                       where \n",
    "                            NOT (benchmark = '003 Convert to Enums' and try_cast(time as float) < 0.01)\"\"\")\n",
    "results = con.sql(\"\"\"\n",
    "    with version_ranks as (\n",
    "        from duckdb_results\n",
    "        select \n",
    "            (scenario::json ->> 'duckdb_version').replace('v','') as version,\n",
    "            version.string_split('.') as split_version,\n",
    "            try_cast(split_version[1] as int) * 100 * 100 as first_digit,\n",
    "            try_cast(split_version[2] as int) * 100 as second_digit,\n",
    "            try_cast(split_version[3] as int) as third_digit,\n",
    "            first_digit + second_digit + third_digit as version_rank,\n",
    "    ), max_version as (\n",
    "        from version_ranks\n",
    "        select \n",
    "            max(version_rank),\n",
    "            arg_max(version, version_rank) as max_version\n",
    "    ), median_results as (\n",
    "        from duckdb_results\n",
    "        select \n",
    "            run_id,\n",
    "            min(repeat_id) as repeat_id,\n",
    "            benchmark,\n",
    "            scenario,\n",
    "            median(time) as time,\n",
    "        group by all            \n",
    "    )\n",
    "    from median_results\n",
    "    join max_version on 1=1\n",
    "    select \n",
    "        * exclude time,\n",
    "        time as \"Time (seconds)\",\n",
    "        (scenario::json ->> 'duckdb_version').replace('v','') as \"DuckDB Version\",\n",
    "        case when benchmark ilike '%queries%' or benchmark ilike '%enums%' then 'Analysis'\n",
    "             when benchmark ilike '%csv%' then 'CSV Import' \n",
    "             when benchmark ilike '%scan%' or benchmark ilike '%query pandas%' then 'Scan other formats' \n",
    "             when benchmark ilike '%export%' then 'Export'\n",
    "        end as benchmark_type,\n",
    "        case when benchmark_type = 'CSV Import' then 1\n",
    "             when benchmark_type = 'Scan other formats' then 2\n",
    "             when benchmark_type = 'Analysis' then 3\n",
    "             when benchmark_type = 'Export' then 4\n",
    "             end as benchmark_type_order,\n",
    "        benchmark_type as \"Benchmark Type\",\n",
    "        sum(time) over (partition by \"DuckDB Version\") as total_time_by_version,\n",
    "        sum(case when (scenario::json ->> 'duckdb_version').replace('v','') = max_version.max_version then time else 0 end) over () as total_time_max_version,\n",
    "        time / total_time_max_version as \"Time Relative to Latest Version\"\n",
    "    order by benchmark, run_id, scenario, repeat_id\"\"\").df()\n",
    "results"
   ]
  },
  {
   "cell_type": "code",
   "execution_count": 5,
   "metadata": {},
   "outputs": [
    {
     "data": {
      "text/html": [
       "<div>\n",
       "<style scoped>\n",
       "    .dataframe tbody tr th:only-of-type {\n",
       "        vertical-align: middle;\n",
       "    }\n",
       "\n",
       "    .dataframe tbody tr th {\n",
       "        vertical-align: top;\n",
       "    }\n",
       "\n",
       "    .dataframe thead th {\n",
       "        text-align: right;\n",
       "    }\n",
       "</style>\n",
       "<table border=\"1\" class=\"dataframe\">\n",
       "  <thead>\n",
       "    <tr style=\"text-align: right;\">\n",
       "      <th></th>\n",
       "      <th>max(version_rank)</th>\n",
       "      <th>max_version</th>\n",
       "    </tr>\n",
       "  </thead>\n",
       "  <tbody>\n",
       "    <tr>\n",
       "      <th>0</th>\n",
       "      <td>1001</td>\n",
       "      <td>0.10.1</td>\n",
       "    </tr>\n",
       "  </tbody>\n",
       "</table>\n",
       "</div>"
      ],
      "text/plain": [
       "   max(version_rank) max_version\n",
       "0               1001      0.10.1"
      ]
     },
     "execution_count": 5,
     "metadata": {},
     "output_type": "execute_result"
    }
   ],
   "source": [
    "test_results = con.sql(\"\"\"\n",
    "    with version_ranks as (\n",
    "        from duckdb_results\n",
    "        select \n",
    "            (scenario::json ->> 'duckdb_version').replace('v','') as version,\n",
    "            version.string_split('.') as split_version,\n",
    "            try_cast(split_version[1] as int) * 100 * 100 as first_digit,\n",
    "            try_cast(split_version[2] as int) * 100 as second_digit,\n",
    "            try_cast(split_version[3] as int) as third_digit,\n",
    "            first_digit + second_digit + third_digit as version_rank,\n",
    "    )\n",
    "    from version_ranks\n",
    "    select \n",
    "        max(version_rank),\n",
    "        arg_max(version, version_rank) as max_version\n",
    "\"\"\").df()\n",
    "test_results"
   ]
  },
  {
   "cell_type": "code",
   "execution_count": 6,
   "metadata": {},
   "outputs": [
    {
     "name": "stdout",
     "output_type": "stream",
     "text": [
      "{\n",
      "  \"data\": [\n",
      "    {\n",
      "      \"fillpattern\": {\n",
      "        \"shape\": \"\"\n",
      "      },\n",
      "      \"hovertemplate\": \"Benchmark Type=CSV Import\\u003cbr\\u003ebenchmark=002 Create table from csv\\u003cbr\\u003eDuckDB Version=%{x}\\u003cbr\\u003eTime (seconds)=%{y}\\u003cextra\\u003e\\u003c\\u002fextra\\u003e\",\n",
      "      \"legendgroup\": \"CSV Import\",\n",
      "      \"line\": {\n",
      "        \"color\": \"#636efa\"\n",
      "      },\n",
      "      \"marker\": {\n",
      "        \"symbol\": \"circle\"\n",
      "      },\n",
      "      \"mode\": \"lines\",\n",
      "      \"name\": \"CSV Import\",\n",
      "      \"orientation\": \"v\",\n",
      "      \"showlegend\": true,\n",
      "      \"stackgroup\": \"1\",\n",
      "      \"x\": [\n",
      "        \"0.2.7\",\n",
      "        \"0.2.8\",\n",
      "        \"0.2.9\",\n",
      "        \"0.3.0\",\n",
      "        \"0.3.1\",\n",
      "        \"0.3.2\",\n",
      "        \"0.3.4\",\n",
      "        \"0.4.0\",\n",
      "        \"0.5.1\",\n",
      "        \"0.6.1\",\n",
      "        \"0.7.1\",\n",
      "        \"0.8.1\",\n",
      "        \"0.9.0\",\n",
      "        \"0.9.1\",\n",
      "        \"0.9.2\",\n",
      "        \"0.10.0\",\n",
      "        \"0.10.1\"\n",
      "      ],\n",
      "      \"xaxis\": \"x\",\n",
      "      \"y\": [\n",
      "        4.846484791999998,\n",
      "        4.630909209,\n",
      "        5.039506459000009,\n",
      "        5.143498083000011,\n",
      "        6.731111708,\n",
      "        5.484685042000001,\n",
      "        6.670691541999986,\n",
      "        7.315441374999978,\n",
      "        6.929248874999999,\n",
      "        6.484699625000005,\n",
      "        6.231343916,\n",
      "        2.120479792000001,\n",
      "        2.039050833,\n",
      "        2.0837383339999995,\n",
      "        2.0395161659999985,\n",
      "        1.412541000000001,\n",
      "        1.448871\n",
      "      ],\n",
      "      \"yaxis\": \"y\",\n",
      "      \"type\": \"scatter\"\n",
      "    },\n",
      "    {\n",
      "      \"fillpattern\": {\n",
      "        \"shape\": \"\"\n",
      "      },\n",
      "      \"hovertemplate\": \"Benchmark Type=CSV Import\\u003cbr\\u003ebenchmark=011 Create tables from csvs joins\\u003cbr\\u003eDuckDB Version=%{x}\\u003cbr\\u003eTime (seconds)=%{y}\\u003cextra\\u003e\\u003c\\u002fextra\\u003e\",\n",
      "      \"legendgroup\": \"CSV Import\",\n",
      "      \"line\": {\n",
      "        \"color\": \"#636efa\"\n",
      "      },\n",
      "      \"marker\": {\n",
      "        \"symbol\": \"circle\"\n",
      "      },\n",
      "      \"mode\": \"lines\",\n",
      "      \"name\": \"CSV Import\",\n",
      "      \"orientation\": \"v\",\n",
      "      \"showlegend\": false,\n",
      "      \"stackgroup\": \"1\",\n",
      "      \"x\": [\n",
      "        \"0.2.7\",\n",
      "        \"0.2.8\",\n",
      "        \"0.2.9\",\n",
      "        \"0.3.0\",\n",
      "        \"0.3.1\",\n",
      "        \"0.3.2\",\n",
      "        \"0.3.4\",\n",
      "        \"0.4.0\",\n",
      "        \"0.5.1\",\n",
      "        \"0.6.1\",\n",
      "        \"0.7.1\",\n",
      "        \"0.8.1\",\n",
      "        \"0.9.0\",\n",
      "        \"0.9.1\",\n",
      "        \"0.9.2\",\n",
      "        \"0.10.0\",\n",
      "        \"0.10.1\"\n",
      "      ],\n",
      "      \"xaxis\": \"x\",\n",
      "      \"y\": [\n",
      "        9.000277625000024,\n",
      "        8.789042249999994,\n",
      "        9.444965832999998,\n",
      "        9.685044167000001,\n",
      "        10.135206959000001,\n",
      "        10.167238625,\n",
      "        13.799680708000004,\n",
      "        14.952030874999998,\n",
      "        14.209868834000005,\n",
      "        13.487854708,\n",
      "        13.399228957999995,\n",
      "        5.317325958,\n",
      "        4.645055999999997,\n",
      "        5.532814708000004,\n",
      "        4.028918000000004,\n",
      "        3.261595707999998,\n",
      "        3.328050000000001\n",
      "      ],\n",
      "      \"yaxis\": \"y\",\n",
      "      \"type\": \"scatter\"\n",
      "    },\n",
      "    {\n",
      "      \"fillpattern\": {\n",
      "        \"shape\": \"\"\n",
      "      },\n",
      "      \"hovertemplate\": \"Benchmark Type=Scan other formats\\u003cbr\\u003ebenchmark=001 Query pandas\\u003cbr\\u003eDuckDB Version=%{x}\\u003cbr\\u003eTime (seconds)=%{y}\\u003cextra\\u003e\\u003c\\u002fextra\\u003e\",\n",
      "      \"legendgroup\": \"Scan other formats\",\n",
      "      \"line\": {\n",
      "        \"color\": \"#EF553B\"\n",
      "      },\n",
      "      \"marker\": {\n",
      "        \"symbol\": \"circle\"\n",
      "      },\n",
      "      \"mode\": \"lines\",\n",
      "      \"name\": \"Scan other formats\",\n",
      "      \"orientation\": \"v\",\n",
      "      \"showlegend\": true,\n",
      "      \"stackgroup\": \"1\",\n",
      "      \"x\": [\n",
      "        \"0.2.7\",\n",
      "        \"0.2.8\",\n",
      "        \"0.2.9\",\n",
      "        \"0.3.0\",\n",
      "        \"0.3.1\",\n",
      "        \"0.3.2\",\n",
      "        \"0.3.4\",\n",
      "        \"0.4.0\",\n",
      "        \"0.5.1\",\n",
      "        \"0.6.1\",\n",
      "        \"0.7.1\",\n",
      "        \"0.8.1\",\n",
      "        \"0.9.0\",\n",
      "        \"0.9.1\",\n",
      "        \"0.9.2\",\n",
      "        \"0.10.0\",\n",
      "        \"0.10.1\"\n",
      "      ],\n",
      "      \"xaxis\": \"x\",\n",
      "      \"y\": [\n",
      "        0.00558054200001834,\n",
      "        0.0036555840000005446,\n",
      "        0.005581083999999237,\n",
      "        0.0031209169999897313,\n",
      "        0.0021507920000090053,\n",
      "        0.002634333000003153,\n",
      "        0.0030435420000003433,\n",
      "        0.003136250000011387,\n",
      "        0.0034312919999877067,\n",
      "        0.0018544160000004695,\n",
      "        0.002032625000005339,\n",
      "        0.002081875000001787,\n",
      "        0.0022382500000013295,\n",
      "        0.0024572499999990782,\n",
      "        0.0017117920000018216,\n",
      "        0.001771583000000021,\n",
      "        0.0019213750000020013\n",
      "      ],\n",
      "      \"yaxis\": \"y\",\n",
      "      \"type\": \"scatter\"\n",
      "    },\n",
      "    {\n",
      "      \"fillpattern\": {\n",
      "        \"shape\": \"\"\n",
      "      },\n",
      "      \"hovertemplate\": \"Benchmark Type=Scan other formats\\u003cbr\\u003ebenchmark=006 Scan and aggregate over Pandas df\\u003cbr\\u003eDuckDB Version=%{x}\\u003cbr\\u003eTime (seconds)=%{y}\\u003cextra\\u003e\\u003c\\u002fextra\\u003e\",\n",
      "      \"legendgroup\": \"Scan other formats\",\n",
      "      \"line\": {\n",
      "        \"color\": \"#EF553B\"\n",
      "      },\n",
      "      \"marker\": {\n",
      "        \"symbol\": \"circle\"\n",
      "      },\n",
      "      \"mode\": \"lines\",\n",
      "      \"name\": \"Scan other formats\",\n",
      "      \"orientation\": \"v\",\n",
      "      \"showlegend\": false,\n",
      "      \"stackgroup\": \"1\",\n",
      "      \"x\": [\n",
      "        \"0.2.7\",\n",
      "        \"0.2.8\",\n",
      "        \"0.2.9\",\n",
      "        \"0.3.0\",\n",
      "        \"0.3.1\",\n",
      "        \"0.3.2\",\n",
      "        \"0.3.4\",\n",
      "        \"0.4.0\",\n",
      "        \"0.5.1\",\n",
      "        \"0.6.1\",\n",
      "        \"0.7.1\",\n",
      "        \"0.8.1\",\n",
      "        \"0.9.0\",\n",
      "        \"0.9.1\",\n",
      "        \"0.9.2\",\n",
      "        \"0.10.0\",\n",
      "        \"0.10.1\"\n",
      "      ],\n",
      "      \"xaxis\": \"x\",\n",
      "      \"y\": [\n",
      "        0.012230708000004142,\n",
      "        0.01099808400000768,\n",
      "        0.01105445800000382,\n",
      "        0.011107124999995222,\n",
      "        0.004504208000000176,\n",
      "        0.0041240840000007495,\n",
      "        0.003638000000023567,\n",
      "        0.00376095800001508,\n",
      "        0.008367083999985425,\n",
      "        0.004099334000002841,\n",
      "        0.004590458000002684,\n",
      "        0.004538916999997866,\n",
      "        0.004552666999998678,\n",
      "        0.0046224580000000515,\n",
      "        0.005076041999998893,\n",
      "        0.005718500000000404,\n",
      "        0.005070541999998568\n",
      "      ],\n",
      "      \"yaxis\": \"y\",\n",
      "      \"type\": \"scatter\"\n",
      "    },\n",
      "    {\n",
      "      \"fillpattern\": {\n",
      "        \"shape\": \"\"\n",
      "      },\n",
      "      \"hovertemplate\": \"Benchmark Type=Scan other formats\\u003cbr\\u003ebenchmark=008 Scan and aggregate over Parquet file\\u003cbr\\u003eDuckDB Version=%{x}\\u003cbr\\u003eTime (seconds)=%{y}\\u003cextra\\u003e\\u003c\\u002fextra\\u003e\",\n",
      "      \"legendgroup\": \"Scan other formats\",\n",
      "      \"line\": {\n",
      "        \"color\": \"#EF553B\"\n",
      "      },\n",
      "      \"marker\": {\n",
      "        \"symbol\": \"circle\"\n",
      "      },\n",
      "      \"mode\": \"lines\",\n",
      "      \"name\": \"Scan other formats\",\n",
      "      \"orientation\": \"v\",\n",
      "      \"showlegend\": false,\n",
      "      \"stackgroup\": \"1\",\n",
      "      \"x\": [\n",
      "        \"0.2.7\",\n",
      "        \"0.2.8\",\n",
      "        \"0.2.9\",\n",
      "        \"0.3.0\",\n",
      "        \"0.3.1\",\n",
      "        \"0.3.2\",\n",
      "        \"0.3.4\",\n",
      "        \"0.4.0\",\n",
      "        \"0.5.1\",\n",
      "        \"0.6.1\",\n",
      "        \"0.7.1\",\n",
      "        \"0.8.1\",\n",
      "        \"0.9.0\",\n",
      "        \"0.9.1\",\n",
      "        \"0.9.2\",\n",
      "        \"0.10.0\",\n",
      "        \"0.10.1\"\n",
      "      ],\n",
      "      \"xaxis\": \"x\",\n",
      "      \"y\": [\n",
      "        0.1027100410000017,\n",
      "        0.10037775000000693,\n",
      "        0.09167370899999838,\n",
      "        0.09103312500000271,\n",
      "        0.01399795800000092,\n",
      "        0.011714083000001096,\n",
      "        0.011483374999997409,\n",
      "        0.01075895799999671,\n",
      "        0.011823125000006485,\n",
      "        0.011218915999998913,\n",
      "        0.011484458000005304,\n",
      "        0.01112495899999999,\n",
      "        0.010533083999995085,\n",
      "        0.010736042000004886,\n",
      "        0.010779208999998957,\n",
      "        0.010799583000000723,\n",
      "        0.010920040999998548\n",
      "      ],\n",
      "      \"yaxis\": \"y\",\n",
      "      \"type\": \"scatter\"\n",
      "    },\n",
      "    {\n",
      "      \"fillpattern\": {\n",
      "        \"shape\": \"\"\n",
      "      },\n",
      "      \"hovertemplate\": \"Benchmark Type=Scan other formats\\u003cbr\\u003ebenchmark=010 Scan and aggregate over Arrow df\\u003cbr\\u003eDuckDB Version=%{x}\\u003cbr\\u003eTime (seconds)=%{y}\\u003cextra\\u003e\\u003c\\u002fextra\\u003e\",\n",
      "      \"legendgroup\": \"Scan other formats\",\n",
      "      \"line\": {\n",
      "        \"color\": \"#EF553B\"\n",
      "      },\n",
      "      \"marker\": {\n",
      "        \"symbol\": \"circle\"\n",
      "      },\n",
      "      \"mode\": \"lines\",\n",
      "      \"name\": \"Scan other formats\",\n",
      "      \"orientation\": \"v\",\n",
      "      \"showlegend\": false,\n",
      "      \"stackgroup\": \"1\",\n",
      "      \"x\": [\n",
      "        \"0.3.1\",\n",
      "        \"0.3.2\",\n",
      "        \"0.3.4\",\n",
      "        \"0.4.0\",\n",
      "        \"0.5.1\",\n",
      "        \"0.6.1\",\n",
      "        \"0.7.1\",\n",
      "        \"0.8.1\",\n",
      "        \"0.9.0\",\n",
      "        \"0.9.1\",\n",
      "        \"0.9.2\",\n",
      "        \"0.10.0\",\n",
      "        \"0.10.1\"\n",
      "      ],\n",
      "      \"xaxis\": \"x\",\n",
      "      \"y\": [\n",
      "        0.3217863329999915,\n",
      "        0.5199896670000044,\n",
      "        0.003314292000027308,\n",
      "        0.0038683330000139904,\n",
      "        0.0038382500000011532,\n",
      "        0.0044425000000032355,\n",
      "        0.004570750000006285,\n",
      "        0.004569082999999807,\n",
      "        0.0037840839999958575,\n",
      "        0.003807000000001892,\n",
      "        0.0036087909999977796,\n",
      "        0.005559250000001015,\n",
      "        0.0036913339999991024\n",
      "      ],\n",
      "      \"yaxis\": \"y\",\n",
      "      \"type\": \"scatter\"\n",
      "    },\n",
      "    {\n",
      "      \"fillpattern\": {\n",
      "        \"shape\": \"\"\n",
      "      },\n",
      "      \"hovertemplate\": \"Benchmark Type=Analysis\\u003cbr\\u003ebenchmark=003 Convert to Enums\\u003cbr\\u003eDuckDB Version=%{x}\\u003cbr\\u003eTime (seconds)=%{y}\\u003cextra\\u003e\\u003c\\u002fextra\\u003e\",\n",
      "      \"legendgroup\": \"Analysis\",\n",
      "      \"line\": {\n",
      "        \"color\": \"#00cc96\"\n",
      "      },\n",
      "      \"marker\": {\n",
      "        \"symbol\": \"circle\"\n",
      "      },\n",
      "      \"mode\": \"lines\",\n",
      "      \"name\": \"Analysis\",\n",
      "      \"orientation\": \"v\",\n",
      "      \"showlegend\": true,\n",
      "      \"stackgroup\": \"1\",\n",
      "      \"x\": [\n",
      "        \"0.6.1\",\n",
      "        \"0.7.1\",\n",
      "        \"0.8.1\",\n",
      "        \"0.9.0\",\n",
      "        \"0.9.1\",\n",
      "        \"0.9.2\",\n",
      "        \"0.10.0\",\n",
      "        \"0.10.1\"\n",
      "      ],\n",
      "      \"xaxis\": \"x\",\n",
      "      \"y\": [\n",
      "        0.8570378329999988,\n",
      "        0.8082985409999992,\n",
      "        1.1607287080000006,\n",
      "        1.1870526659999996,\n",
      "        1.1771657920000003,\n",
      "        1.1900611249999997,\n",
      "        0.9076188750000007,\n",
      "        0.9022534170000007\n",
      "      ],\n",
      "      \"yaxis\": \"y\",\n",
      "      \"type\": \"scatter\"\n",
      "    },\n",
      "    {\n",
      "      \"fillpattern\": {\n",
      "        \"shape\": \"\"\n",
      "      },\n",
      "      \"hovertemplate\": \"Benchmark Type=Analysis\\u003cbr\\u003ebenchmark=004 Group by queries\\u003cbr\\u003eDuckDB Version=%{x}\\u003cbr\\u003eTime (seconds)=%{y}\\u003cextra\\u003e\\u003c\\u002fextra\\u003e\",\n",
      "      \"legendgroup\": \"Analysis\",\n",
      "      \"line\": {\n",
      "        \"color\": \"#00cc96\"\n",
      "      },\n",
      "      \"marker\": {\n",
      "        \"symbol\": \"circle\"\n",
      "      },\n",
      "      \"mode\": \"lines\",\n",
      "      \"name\": \"Analysis\",\n",
      "      \"orientation\": \"v\",\n",
      "      \"showlegend\": false,\n",
      "      \"stackgroup\": \"1\",\n",
      "      \"x\": [\n",
      "        \"0.2.7\",\n",
      "        \"0.2.8\",\n",
      "        \"0.2.9\",\n",
      "        \"0.3.0\",\n",
      "        \"0.3.1\",\n",
      "        \"0.3.2\",\n",
      "        \"0.3.4\",\n",
      "        \"0.4.0\",\n",
      "        \"0.5.1\",\n",
      "        \"0.6.1\",\n",
      "        \"0.7.1\",\n",
      "        \"0.8.1\",\n",
      "        \"0.9.0\",\n",
      "        \"0.9.1\",\n",
      "        \"0.9.2\",\n",
      "        \"0.10.0\",\n",
      "        \"0.10.1\"\n",
      "      ],\n",
      "      \"xaxis\": \"x\",\n",
      "      \"y\": [\n",
      "        30.480708666999988,\n",
      "        24.299962375000007,\n",
      "        21.444196000000005,\n",
      "        21.36002479199999,\n",
      "        8.027176208,\n",
      "        8.091708249999996,\n",
      "        9.097851458,\n",
      "        7.249774291999984,\n",
      "        5.286353582999993,\n",
      "        1.6851370830000008,\n",
      "        1.6219534580000072,\n",
      "        1.388391833,\n",
      "        1.364668082999998,\n",
      "        1.3444542499999983,\n",
      "        1.3368204580000018,\n",
      "        1.2431614589999995,\n",
      "        1.2392742079999977\n",
      "      ],\n",
      "      \"yaxis\": \"y\",\n",
      "      \"type\": \"scatter\"\n",
      "    },\n",
      "    {\n",
      "      \"fillpattern\": {\n",
      "        \"shape\": \"\"\n",
      "      },\n",
      "      \"hovertemplate\": \"Benchmark Type=Analysis\\u003cbr\\u003ebenchmark=012 Convert to Enums for joins\\u003cbr\\u003eDuckDB Version=%{x}\\u003cbr\\u003eTime (seconds)=%{y}\\u003cextra\\u003e\\u003c\\u002fextra\\u003e\",\n",
      "      \"legendgroup\": \"Analysis\",\n",
      "      \"line\": {\n",
      "        \"color\": \"#00cc96\"\n",
      "      },\n",
      "      \"marker\": {\n",
      "        \"symbol\": \"circle\"\n",
      "      },\n",
      "      \"mode\": \"lines\",\n",
      "      \"name\": \"Analysis\",\n",
      "      \"orientation\": \"v\",\n",
      "      \"showlegend\": false,\n",
      "      \"stackgroup\": \"1\",\n",
      "      \"x\": [\n",
      "        \"0.6.1\",\n",
      "        \"0.7.1\",\n",
      "        \"0.8.1\",\n",
      "        \"0.9.0\",\n",
      "        \"0.9.1\",\n",
      "        \"0.9.2\",\n",
      "        \"0.10.0\",\n",
      "        \"0.10.1\"\n",
      "      ],\n",
      "      \"xaxis\": \"x\",\n",
      "      \"y\": [\n",
      "        2.168022209,\n",
      "        1.8047770419999978,\n",
      "        3.143373874999998,\n",
      "        3.156908291999997,\n",
      "        3.065938458000005,\n",
      "        3.261356915999997,\n",
      "        2.2094117080000046,\n",
      "        2.1940072080000004\n",
      "      ],\n",
      "      \"yaxis\": \"y\",\n",
      "      \"type\": \"scatter\"\n",
      "    },\n",
      "    {\n",
      "      \"fillpattern\": {\n",
      "        \"shape\": \"\"\n",
      "      },\n",
      "      \"hovertemplate\": \"Benchmark Type=Analysis\\u003cbr\\u003ebenchmark=013 Join queries\\u003cbr\\u003eDuckDB Version=%{x}\\u003cbr\\u003eTime (seconds)=%{y}\\u003cextra\\u003e\\u003c\\u002fextra\\u003e\",\n",
      "      \"legendgroup\": \"Analysis\",\n",
      "      \"line\": {\n",
      "        \"color\": \"#00cc96\"\n",
      "      },\n",
      "      \"marker\": {\n",
      "        \"symbol\": \"circle\"\n",
      "      },\n",
      "      \"mode\": \"lines\",\n",
      "      \"name\": \"Analysis\",\n",
      "      \"orientation\": \"v\",\n",
      "      \"showlegend\": false,\n",
      "      \"stackgroup\": \"1\",\n",
      "      \"x\": [\n",
      "        \"0.2.7\",\n",
      "        \"0.2.8\",\n",
      "        \"0.2.9\",\n",
      "        \"0.3.0\",\n",
      "        \"0.3.1\",\n",
      "        \"0.3.2\",\n",
      "        \"0.3.4\",\n",
      "        \"0.4.0\",\n",
      "        \"0.5.1\",\n",
      "        \"0.6.1\",\n",
      "        \"0.7.1\",\n",
      "        \"0.8.1\",\n",
      "        \"0.9.0\",\n",
      "        \"0.9.1\",\n",
      "        \"0.9.2\",\n",
      "        \"0.10.0\",\n",
      "        \"0.10.1\"\n",
      "      ],\n",
      "      \"xaxis\": \"x\",\n",
      "      \"y\": [\n",
      "        23.821901249999996,\n",
      "        21.935621458000007,\n",
      "        23.939756292,\n",
      "        23.811306416000008,\n",
      "        23.266799292,\n",
      "        24.609514375000003,\n",
      "        36.32913500000001,\n",
      "        39.88134804099997,\n",
      "        37.02796416699999,\n",
      "        5.900246709000001,\n",
      "        3.5156939590000036,\n",
      "        4.5500718330000005,\n",
      "        4.415933791999997,\n",
      "        4.382592499999998,\n",
      "        4.435296250000002,\n",
      "        3.3310229999999947,\n",
      "        3.316500624999996\n",
      "      ],\n",
      "      \"yaxis\": \"y\",\n",
      "      \"type\": \"scatter\"\n",
      "    },\n",
      "    {\n",
      "      \"fillpattern\": {\n",
      "        \"shape\": \"\"\n",
      "      },\n",
      "      \"hovertemplate\": \"Benchmark Type=Export\\u003cbr\\u003ebenchmark=005 Export group by results to Pandas\\u003cbr\\u003eDuckDB Version=%{x}\\u003cbr\\u003eTime (seconds)=%{y}\\u003cextra\\u003e\\u003c\\u002fextra\\u003e\",\n",
      "      \"legendgroup\": \"Export\",\n",
      "      \"line\": {\n",
      "        \"color\": \"#ab63fa\"\n",
      "      },\n",
      "      \"marker\": {\n",
      "        \"symbol\": \"circle\"\n",
      "      },\n",
      "      \"mode\": \"lines\",\n",
      "      \"name\": \"Export\",\n",
      "      \"orientation\": \"v\",\n",
      "      \"showlegend\": true,\n",
      "      \"stackgroup\": \"1\",\n",
      "      \"x\": [\n",
      "        \"0.2.7\",\n",
      "        \"0.2.8\",\n",
      "        \"0.2.9\",\n",
      "        \"0.3.0\",\n",
      "        \"0.3.1\",\n",
      "        \"0.3.2\",\n",
      "        \"0.3.4\",\n",
      "        \"0.4.0\",\n",
      "        \"0.5.1\",\n",
      "        \"0.6.1\",\n",
      "        \"0.7.1\",\n",
      "        \"0.8.1\",\n",
      "        \"0.9.0\",\n",
      "        \"0.9.1\",\n",
      "        \"0.9.2\",\n",
      "        \"0.10.0\",\n",
      "        \"0.10.1\"\n",
      "      ],\n",
      "      \"xaxis\": \"x\",\n",
      "      \"y\": [\n",
      "        1.585301166999983,\n",
      "        1.3956787500000019,\n",
      "        1.2633418749999947,\n",
      "        1.2717729579999997,\n",
      "        1.2974005419999912,\n",
      "        1.2968350000000015,\n",
      "        1.2442635410000094,\n",
      "        1.2297054170000195,\n",
      "        1.2382627080000077,\n",
      "        0.6550114579999899,\n",
      "        0.6473142920000043,\n",
      "        0.6766115839999998,\n",
      "        0.6730065830000029,\n",
      "        0.6744978750000001,\n",
      "        0.6794843329999978,\n",
      "        0.7447636659999999,\n",
      "        0.7511122500000003\n",
      "      ],\n",
      "      \"yaxis\": \"y\",\n",
      "      \"type\": \"scatter\"\n",
      "    },\n",
      "    {\n",
      "      \"fillpattern\": {\n",
      "        \"shape\": \"\"\n",
      "      },\n",
      "      \"hovertemplate\": \"Benchmark Type=Export\\u003cbr\\u003ebenchmark=007 Export group by results to Parquet\\u003cbr\\u003eDuckDB Version=%{x}\\u003cbr\\u003eTime (seconds)=%{y}\\u003cextra\\u003e\\u003c\\u002fextra\\u003e\",\n",
      "      \"legendgroup\": \"Export\",\n",
      "      \"line\": {\n",
      "        \"color\": \"#ab63fa\"\n",
      "      },\n",
      "      \"marker\": {\n",
      "        \"symbol\": \"circle\"\n",
      "      },\n",
      "      \"mode\": \"lines\",\n",
      "      \"name\": \"Export\",\n",
      "      \"orientation\": \"v\",\n",
      "      \"showlegend\": false,\n",
      "      \"stackgroup\": \"1\",\n",
      "      \"x\": [\n",
      "        \"0.2.7\",\n",
      "        \"0.2.8\",\n",
      "        \"0.2.9\",\n",
      "        \"0.3.0\",\n",
      "        \"0.3.1\",\n",
      "        \"0.3.2\",\n",
      "        \"0.3.4\",\n",
      "        \"0.4.0\",\n",
      "        \"0.5.1\",\n",
      "        \"0.6.1\",\n",
      "        \"0.7.1\",\n",
      "        \"0.8.1\",\n",
      "        \"0.9.0\",\n",
      "        \"0.9.1\",\n",
      "        \"0.9.2\",\n",
      "        \"0.10.0\",\n",
      "        \"0.10.1\"\n",
      "      ],\n",
      "      \"xaxis\": \"x\",\n",
      "      \"y\": [\n",
      "        1.8943153749999908,\n",
      "        1.8764357499999988,\n",
      "        1.9323300000000003,\n",
      "        1.9164719579999883,\n",
      "        1.9255964999999975,\n",
      "        3.1974089159999863,\n",
      "        3.10719020800002,\n",
      "        3.097302667000008,\n",
      "        4.482877958000003,\n",
      "        3.868870459,\n",
      "        4.129821292000003,\n",
      "        1.522228708,\n",
      "        1.517412124999999,\n",
      "        1.5303094169999998,\n",
      "        1.5394198330000037,\n",
      "        1.5129651249999974,\n",
      "        1.490882708\n",
      "      ],\n",
      "      \"yaxis\": \"y\",\n",
      "      \"type\": \"scatter\"\n",
      "    },\n",
      "    {\n",
      "      \"fillpattern\": {\n",
      "        \"shape\": \"\"\n",
      "      },\n",
      "      \"hovertemplate\": \"Benchmark Type=Export\\u003cbr\\u003ebenchmark=009 Export group by results to Arrow\\u003cbr\\u003eDuckDB Version=%{x}\\u003cbr\\u003eTime (seconds)=%{y}\\u003cextra\\u003e\\u003c\\u002fextra\\u003e\",\n",
      "      \"legendgroup\": \"Export\",\n",
      "      \"line\": {\n",
      "        \"color\": \"#ab63fa\"\n",
      "      },\n",
      "      \"marker\": {\n",
      "        \"symbol\": \"circle\"\n",
      "      },\n",
      "      \"mode\": \"lines\",\n",
      "      \"name\": \"Export\",\n",
      "      \"orientation\": \"v\",\n",
      "      \"showlegend\": false,\n",
      "      \"stackgroup\": \"1\",\n",
      "      \"x\": [\n",
      "        \"0.3.1\",\n",
      "        \"0.3.2\",\n",
      "        \"0.3.4\",\n",
      "        \"0.4.0\",\n",
      "        \"0.5.1\",\n",
      "        \"0.6.1\",\n",
      "        \"0.7.1\",\n",
      "        \"0.8.1\",\n",
      "        \"0.9.0\",\n",
      "        \"0.9.1\",\n",
      "        \"0.9.2\",\n",
      "        \"0.10.0\",\n",
      "        \"0.10.1\"\n",
      "      ],\n",
      "      \"xaxis\": \"x\",\n",
      "      \"y\": [\n",
      "        0.7143292920000022,\n",
      "        0.6955205000000007,\n",
      "        16.57839791699999,\n",
      "        15.080014708000022,\n",
      "        0.3896858330000015,\n",
      "        0.28481162500000323,\n",
      "        0.29059837500000185,\n",
      "        0.3066396250000025,\n",
      "        0.30367275000000404,\n",
      "        0.31052062499999966,\n",
      "        0.3062600840000016,\n",
      "        0.3727563329999999,\n",
      "        0.37437625000000097\n",
      "      ],\n",
      "      \"yaxis\": \"y\",\n",
      "      \"type\": \"scatter\"\n",
      "    },\n",
      "    {\n",
      "      \"fillpattern\": {\n",
      "        \"shape\": \"\"\n",
      "      },\n",
      "      \"hovertemplate\": \"Benchmark Type=Export\\u003cbr\\u003ebenchmark=014 Export join results to Pandas\\u003cbr\\u003eDuckDB Version=%{x}\\u003cbr\\u003eTime (seconds)=%{y}\\u003cextra\\u003e\\u003c\\u002fextra\\u003e\",\n",
      "      \"legendgroup\": \"Export\",\n",
      "      \"line\": {\n",
      "        \"color\": \"#ab63fa\"\n",
      "      },\n",
      "      \"marker\": {\n",
      "        \"symbol\": \"circle\"\n",
      "      },\n",
      "      \"mode\": \"lines\",\n",
      "      \"name\": \"Export\",\n",
      "      \"orientation\": \"v\",\n",
      "      \"showlegend\": false,\n",
      "      \"stackgroup\": \"1\",\n",
      "      \"x\": [\n",
      "        \"0.2.7\",\n",
      "        \"0.2.8\",\n",
      "        \"0.2.9\",\n",
      "        \"0.3.0\",\n",
      "        \"0.3.1\",\n",
      "        \"0.3.2\",\n",
      "        \"0.3.4\",\n",
      "        \"0.4.0\",\n",
      "        \"0.5.1\",\n",
      "        \"0.6.1\",\n",
      "        \"0.7.1\",\n",
      "        \"0.8.1\",\n",
      "        \"0.9.0\",\n",
      "        \"0.9.1\",\n",
      "        \"0.9.2\",\n",
      "        \"0.10.0\",\n",
      "        \"0.10.1\"\n",
      "      ],\n",
      "      \"xaxis\": \"x\",\n",
      "      \"y\": [\n",
      "        32.89697020899996,\n",
      "        30.641782167000002,\n",
      "        25.363091959000002,\n",
      "        25.59601229200001,\n",
      "        25.937402209,\n",
      "        34.932955459,\n",
      "        26.58523204100004,\n",
      "        27.940955291000023,\n",
      "        26.53259245800001,\n",
      "        5.274869667000004,\n",
      "        5.199805500000004,\n",
      "        5.370461250000002,\n",
      "        6.315686875000001,\n",
      "        6.145374791999998,\n",
      "        5.578743582999998,\n",
      "        6.0850729170000015,\n",
      "        6.150260458999995\n",
      "      ],\n",
      "      \"yaxis\": \"y\",\n",
      "      \"type\": \"scatter\"\n",
      "    },\n",
      "    {\n",
      "      \"fillpattern\": {\n",
      "        \"shape\": \"\"\n",
      "      },\n",
      "      \"hovertemplate\": \"Benchmark Type=Export\\u003cbr\\u003ebenchmark=015 Export join results to Arrow\\u003cbr\\u003eDuckDB Version=%{x}\\u003cbr\\u003eTime (seconds)=%{y}\\u003cextra\\u003e\\u003c\\u002fextra\\u003e\",\n",
      "      \"legendgroup\": \"Export\",\n",
      "      \"line\": {\n",
      "        \"color\": \"#ab63fa\"\n",
      "      },\n",
      "      \"marker\": {\n",
      "        \"symbol\": \"circle\"\n",
      "      },\n",
      "      \"mode\": \"lines\",\n",
      "      \"name\": \"Export\",\n",
      "      \"orientation\": \"v\",\n",
      "      \"showlegend\": false,\n",
      "      \"stackgroup\": \"1\",\n",
      "      \"x\": [\n",
      "        \"0.3.1\",\n",
      "        \"0.3.2\",\n",
      "        \"0.3.4\",\n",
      "        \"0.4.0\",\n",
      "        \"0.5.1\",\n",
      "        \"0.6.1\",\n",
      "        \"0.7.1\",\n",
      "        \"0.8.1\",\n",
      "        \"0.9.0\",\n",
      "        \"0.9.1\",\n",
      "        \"0.9.2\",\n",
      "        \"0.10.0\",\n",
      "        \"0.10.1\"\n",
      "      ],\n",
      "      \"xaxis\": \"x\",\n",
      "      \"y\": [\n",
      "        7.046789125000004,\n",
      "        7.1467984999999885,\n",
      "        92.95143991600003,\n",
      "        92.94491208300008,\n",
      "        3.224981791999994,\n",
      "        1.7857833329999977,\n",
      "        1.7790696250000053,\n",
      "        1.8480557500000003,\n",
      "        1.892379584000004,\n",
      "        1.8852987080000005,\n",
      "        1.8513588339999956,\n",
      "        2.359995666000003,\n",
      "        2.3194005000000004\n",
      "      ],\n",
      "      \"yaxis\": \"y\",\n",
      "      \"type\": \"scatter\"\n",
      "    }\n",
      "  ],\n",
      "  \"layout\": {\n",
      "    \"template\": {\n",
      "      \"data\": {\n",
      "        \"barpolar\": [\n",
      "          {\n",
      "            \"marker\": {\n",
      "              \"line\": {\n",
      "                \"color\": \"white\",\n",
      "                \"width\": 0.5\n",
      "              },\n",
      "              \"pattern\": {\n",
      "                \"fillmode\": \"overlay\",\n",
      "                \"size\": 10,\n",
      "                \"solidity\": 0.2\n",
      "              }\n",
      "            },\n",
      "            \"type\": \"barpolar\"\n",
      "          }\n",
      "        ],\n",
      "        \"bar\": [\n",
      "          {\n",
      "            \"error_x\": {\n",
      "              \"color\": \"#2a3f5f\"\n",
      "            },\n",
      "            \"error_y\": {\n",
      "              \"color\": \"#2a3f5f\"\n",
      "            },\n",
      "            \"marker\": {\n",
      "              \"line\": {\n",
      "                \"color\": \"white\",\n",
      "                \"width\": 0.5\n",
      "              },\n",
      "              \"pattern\": {\n",
      "                \"fillmode\": \"overlay\",\n",
      "                \"size\": 10,\n",
      "                \"solidity\": 0.2\n",
      "              }\n",
      "            },\n",
      "            \"type\": \"bar\"\n",
      "          }\n",
      "        ],\n",
      "        \"carpet\": [\n",
      "          {\n",
      "            \"aaxis\": {\n",
      "              \"endlinecolor\": \"#2a3f5f\",\n",
      "              \"gridcolor\": \"#C8D4E3\",\n",
      "              \"linecolor\": \"#C8D4E3\",\n",
      "              \"minorgridcolor\": \"#C8D4E3\",\n",
      "              \"startlinecolor\": \"#2a3f5f\"\n",
      "            },\n",
      "            \"baxis\": {\n",
      "              \"endlinecolor\": \"#2a3f5f\",\n",
      "              \"gridcolor\": \"#C8D4E3\",\n",
      "              \"linecolor\": \"#C8D4E3\",\n",
      "              \"minorgridcolor\": \"#C8D4E3\",\n",
      "              \"startlinecolor\": \"#2a3f5f\"\n",
      "            },\n",
      "            \"type\": \"carpet\"\n",
      "          }\n",
      "        ],\n",
      "        \"choropleth\": [\n",
      "          {\n",
      "            \"colorbar\": {\n",
      "              \"outlinewidth\": 0,\n",
      "              \"ticks\": \"\"\n",
      "            },\n",
      "            \"type\": \"choropleth\"\n",
      "          }\n",
      "        ],\n",
      "        \"contourcarpet\": [\n",
      "          {\n",
      "            \"colorbar\": {\n",
      "              \"outlinewidth\": 0,\n",
      "              \"ticks\": \"\"\n",
      "            },\n",
      "            \"type\": \"contourcarpet\"\n",
      "          }\n",
      "        ],\n",
      "        \"contour\": [\n",
      "          {\n",
      "            \"colorbar\": {\n",
      "              \"outlinewidth\": 0,\n",
      "              \"ticks\": \"\"\n",
      "            },\n",
      "            \"colorscale\": [\n",
      "              [\n",
      "                0.0,\n",
      "                \"#0d0887\"\n",
      "              ],\n",
      "              [\n",
      "                0.1111111111111111,\n",
      "                \"#46039f\"\n",
      "              ],\n",
      "              [\n",
      "                0.2222222222222222,\n",
      "                \"#7201a8\"\n",
      "              ],\n",
      "              [\n",
      "                0.3333333333333333,\n",
      "                \"#9c179e\"\n",
      "              ],\n",
      "              [\n",
      "                0.4444444444444444,\n",
      "                \"#bd3786\"\n",
      "              ],\n",
      "              [\n",
      "                0.5555555555555556,\n",
      "                \"#d8576b\"\n",
      "              ],\n",
      "              [\n",
      "                0.6666666666666666,\n",
      "                \"#ed7953\"\n",
      "              ],\n",
      "              [\n",
      "                0.7777777777777778,\n",
      "                \"#fb9f3a\"\n",
      "              ],\n",
      "              [\n",
      "                0.8888888888888888,\n",
      "                \"#fdca26\"\n",
      "              ],\n",
      "              [\n",
      "                1.0,\n",
      "                \"#f0f921\"\n",
      "              ]\n",
      "            ],\n",
      "            \"type\": \"contour\"\n",
      "          }\n",
      "        ],\n",
      "        \"heatmapgl\": [\n",
      "          {\n",
      "            \"colorbar\": {\n",
      "              \"outlinewidth\": 0,\n",
      "              \"ticks\": \"\"\n",
      "            },\n",
      "            \"colorscale\": [\n",
      "              [\n",
      "                0.0,\n",
      "                \"#0d0887\"\n",
      "              ],\n",
      "              [\n",
      "                0.1111111111111111,\n",
      "                \"#46039f\"\n",
      "              ],\n",
      "              [\n",
      "                0.2222222222222222,\n",
      "                \"#7201a8\"\n",
      "              ],\n",
      "              [\n",
      "                0.3333333333333333,\n",
      "                \"#9c179e\"\n",
      "              ],\n",
      "              [\n",
      "                0.4444444444444444,\n",
      "                \"#bd3786\"\n",
      "              ],\n",
      "              [\n",
      "                0.5555555555555556,\n",
      "                \"#d8576b\"\n",
      "              ],\n",
      "              [\n",
      "                0.6666666666666666,\n",
      "                \"#ed7953\"\n",
      "              ],\n",
      "              [\n",
      "                0.7777777777777778,\n",
      "                \"#fb9f3a\"\n",
      "              ],\n",
      "              [\n",
      "                0.8888888888888888,\n",
      "                \"#fdca26\"\n",
      "              ],\n",
      "              [\n",
      "                1.0,\n",
      "                \"#f0f921\"\n",
      "              ]\n",
      "            ],\n",
      "            \"type\": \"heatmapgl\"\n",
      "          }\n",
      "        ],\n",
      "        \"heatmap\": [\n",
      "          {\n",
      "            \"colorbar\": {\n",
      "              \"outlinewidth\": 0,\n",
      "              \"ticks\": \"\"\n",
      "            },\n",
      "            \"colorscale\": [\n",
      "              [\n",
      "                0.0,\n",
      "                \"#0d0887\"\n",
      "              ],\n",
      "              [\n",
      "                0.1111111111111111,\n",
      "                \"#46039f\"\n",
      "              ],\n",
      "              [\n",
      "                0.2222222222222222,\n",
      "                \"#7201a8\"\n",
      "              ],\n",
      "              [\n",
      "                0.3333333333333333,\n",
      "                \"#9c179e\"\n",
      "              ],\n",
      "              [\n",
      "                0.4444444444444444,\n",
      "                \"#bd3786\"\n",
      "              ],\n",
      "              [\n",
      "                0.5555555555555556,\n",
      "                \"#d8576b\"\n",
      "              ],\n",
      "              [\n",
      "                0.6666666666666666,\n",
      "                \"#ed7953\"\n",
      "              ],\n",
      "              [\n",
      "                0.7777777777777778,\n",
      "                \"#fb9f3a\"\n",
      "              ],\n",
      "              [\n",
      "                0.8888888888888888,\n",
      "                \"#fdca26\"\n",
      "              ],\n",
      "              [\n",
      "                1.0,\n",
      "                \"#f0f921\"\n",
      "              ]\n",
      "            ],\n",
      "            \"type\": \"heatmap\"\n",
      "          }\n",
      "        ],\n",
      "        \"histogram2dcontour\": [\n",
      "          {\n",
      "            \"colorbar\": {\n",
      "              \"outlinewidth\": 0,\n",
      "              \"ticks\": \"\"\n",
      "            },\n",
      "            \"colorscale\": [\n",
      "              [\n",
      "                0.0,\n",
      "                \"#0d0887\"\n",
      "              ],\n",
      "              [\n",
      "                0.1111111111111111,\n",
      "                \"#46039f\"\n",
      "              ],\n",
      "              [\n",
      "                0.2222222222222222,\n",
      "                \"#7201a8\"\n",
      "              ],\n",
      "              [\n",
      "                0.3333333333333333,\n",
      "                \"#9c179e\"\n",
      "              ],\n",
      "              [\n",
      "                0.4444444444444444,\n",
      "                \"#bd3786\"\n",
      "              ],\n",
      "              [\n",
      "                0.5555555555555556,\n",
      "                \"#d8576b\"\n",
      "              ],\n",
      "              [\n",
      "                0.6666666666666666,\n",
      "                \"#ed7953\"\n",
      "              ],\n",
      "              [\n",
      "                0.7777777777777778,\n",
      "                \"#fb9f3a\"\n",
      "              ],\n",
      "              [\n",
      "                0.8888888888888888,\n",
      "                \"#fdca26\"\n",
      "              ],\n",
      "              [\n",
      "                1.0,\n",
      "                \"#f0f921\"\n",
      "              ]\n",
      "            ],\n",
      "            \"type\": \"histogram2dcontour\"\n",
      "          }\n",
      "        ],\n",
      "        \"histogram2d\": [\n",
      "          {\n",
      "            \"colorbar\": {\n",
      "              \"outlinewidth\": 0,\n",
      "              \"ticks\": \"\"\n",
      "            },\n",
      "            \"colorscale\": [\n",
      "              [\n",
      "                0.0,\n",
      "                \"#0d0887\"\n",
      "              ],\n",
      "              [\n",
      "                0.1111111111111111,\n",
      "                \"#46039f\"\n",
      "              ],\n",
      "              [\n",
      "                0.2222222222222222,\n",
      "                \"#7201a8\"\n",
      "              ],\n",
      "              [\n",
      "                0.3333333333333333,\n",
      "                \"#9c179e\"\n",
      "              ],\n",
      "              [\n",
      "                0.4444444444444444,\n",
      "                \"#bd3786\"\n",
      "              ],\n",
      "              [\n",
      "                0.5555555555555556,\n",
      "                \"#d8576b\"\n",
      "              ],\n",
      "              [\n",
      "                0.6666666666666666,\n",
      "                \"#ed7953\"\n",
      "              ],\n",
      "              [\n",
      "                0.7777777777777778,\n",
      "                \"#fb9f3a\"\n",
      "              ],\n",
      "              [\n",
      "                0.8888888888888888,\n",
      "                \"#fdca26\"\n",
      "              ],\n",
      "              [\n",
      "                1.0,\n",
      "                \"#f0f921\"\n",
      "              ]\n",
      "            ],\n",
      "            \"type\": \"histogram2d\"\n",
      "          }\n",
      "        ],\n",
      "        \"histogram\": [\n",
      "          {\n",
      "            \"marker\": {\n",
      "              \"pattern\": {\n",
      "                \"fillmode\": \"overlay\",\n",
      "                \"size\": 10,\n",
      "                \"solidity\": 0.2\n",
      "              }\n",
      "            },\n",
      "            \"type\": \"histogram\"\n",
      "          }\n",
      "        ],\n",
      "        \"mesh3d\": [\n",
      "          {\n",
      "            \"colorbar\": {\n",
      "              \"outlinewidth\": 0,\n",
      "              \"ticks\": \"\"\n",
      "            },\n",
      "            \"type\": \"mesh3d\"\n",
      "          }\n",
      "        ],\n",
      "        \"parcoords\": [\n",
      "          {\n",
      "            \"line\": {\n",
      "              \"colorbar\": {\n",
      "                \"outlinewidth\": 0,\n",
      "                \"ticks\": \"\"\n",
      "              }\n",
      "            },\n",
      "            \"type\": \"parcoords\"\n",
      "          }\n",
      "        ],\n",
      "        \"pie\": [\n",
      "          {\n",
      "            \"automargin\": true,\n",
      "            \"type\": \"pie\"\n",
      "          }\n",
      "        ],\n",
      "        \"scatter3d\": [\n",
      "          {\n",
      "            \"line\": {\n",
      "              \"colorbar\": {\n",
      "                \"outlinewidth\": 0,\n",
      "                \"ticks\": \"\"\n",
      "              }\n",
      "            },\n",
      "            \"marker\": {\n",
      "              \"colorbar\": {\n",
      "                \"outlinewidth\": 0,\n",
      "                \"ticks\": \"\"\n",
      "              }\n",
      "            },\n",
      "            \"type\": \"scatter3d\"\n",
      "          }\n",
      "        ],\n",
      "        \"scattercarpet\": [\n",
      "          {\n",
      "            \"marker\": {\n",
      "              \"colorbar\": {\n",
      "                \"outlinewidth\": 0,\n",
      "                \"ticks\": \"\"\n",
      "              }\n",
      "            },\n",
      "            \"type\": \"scattercarpet\"\n",
      "          }\n",
      "        ],\n",
      "        \"scattergeo\": [\n",
      "          {\n",
      "            \"marker\": {\n",
      "              \"colorbar\": {\n",
      "                \"outlinewidth\": 0,\n",
      "                \"ticks\": \"\"\n",
      "              }\n",
      "            },\n",
      "            \"type\": \"scattergeo\"\n",
      "          }\n",
      "        ],\n",
      "        \"scattergl\": [\n",
      "          {\n",
      "            \"marker\": {\n",
      "              \"colorbar\": {\n",
      "                \"outlinewidth\": 0,\n",
      "                \"ticks\": \"\"\n",
      "              }\n",
      "            },\n",
      "            \"type\": \"scattergl\"\n",
      "          }\n",
      "        ],\n",
      "        \"scattermapbox\": [\n",
      "          {\n",
      "            \"marker\": {\n",
      "              \"colorbar\": {\n",
      "                \"outlinewidth\": 0,\n",
      "                \"ticks\": \"\"\n",
      "              }\n",
      "            },\n",
      "            \"type\": \"scattermapbox\"\n",
      "          }\n",
      "        ],\n",
      "        \"scatterpolargl\": [\n",
      "          {\n",
      "            \"marker\": {\n",
      "              \"colorbar\": {\n",
      "                \"outlinewidth\": 0,\n",
      "                \"ticks\": \"\"\n",
      "              }\n",
      "            },\n",
      "            \"type\": \"scatterpolargl\"\n",
      "          }\n",
      "        ],\n",
      "        \"scatterpolar\": [\n",
      "          {\n",
      "            \"marker\": {\n",
      "              \"colorbar\": {\n",
      "                \"outlinewidth\": 0,\n",
      "                \"ticks\": \"\"\n",
      "              }\n",
      "            },\n",
      "            \"type\": \"scatterpolar\"\n",
      "          }\n",
      "        ],\n",
      "        \"scatter\": [\n",
      "          {\n",
      "            \"fillpattern\": {\n",
      "              \"fillmode\": \"overlay\",\n",
      "              \"size\": 10,\n",
      "              \"solidity\": 0.2\n",
      "            },\n",
      "            \"type\": \"scatter\"\n",
      "          }\n",
      "        ],\n",
      "        \"scatterternary\": [\n",
      "          {\n",
      "            \"marker\": {\n",
      "              \"colorbar\": {\n",
      "                \"outlinewidth\": 0,\n",
      "                \"ticks\": \"\"\n",
      "              }\n",
      "            },\n",
      "            \"type\": \"scatterternary\"\n",
      "          }\n",
      "        ],\n",
      "        \"surface\": [\n",
      "          {\n",
      "            \"colorbar\": {\n",
      "              \"outlinewidth\": 0,\n",
      "              \"ticks\": \"\"\n",
      "            },\n",
      "            \"colorscale\": [\n",
      "              [\n",
      "                0.0,\n",
      "                \"#0d0887\"\n",
      "              ],\n",
      "              [\n",
      "                0.1111111111111111,\n",
      "                \"#46039f\"\n",
      "              ],\n",
      "              [\n",
      "                0.2222222222222222,\n",
      "                \"#7201a8\"\n",
      "              ],\n",
      "              [\n",
      "                0.3333333333333333,\n",
      "                \"#9c179e\"\n",
      "              ],\n",
      "              [\n",
      "                0.4444444444444444,\n",
      "                \"#bd3786\"\n",
      "              ],\n",
      "              [\n",
      "                0.5555555555555556,\n",
      "                \"#d8576b\"\n",
      "              ],\n",
      "              [\n",
      "                0.6666666666666666,\n",
      "                \"#ed7953\"\n",
      "              ],\n",
      "              [\n",
      "                0.7777777777777778,\n",
      "                \"#fb9f3a\"\n",
      "              ],\n",
      "              [\n",
      "                0.8888888888888888,\n",
      "                \"#fdca26\"\n",
      "              ],\n",
      "              [\n",
      "                1.0,\n",
      "                \"#f0f921\"\n",
      "              ]\n",
      "            ],\n",
      "            \"type\": \"surface\"\n",
      "          }\n",
      "        ],\n",
      "        \"table\": [\n",
      "          {\n",
      "            \"cells\": {\n",
      "              \"fill\": {\n",
      "                \"color\": \"#EBF0F8\"\n",
      "              },\n",
      "              \"line\": {\n",
      "                \"color\": \"white\"\n",
      "              }\n",
      "            },\n",
      "            \"header\": {\n",
      "              \"fill\": {\n",
      "                \"color\": \"#C8D4E3\"\n",
      "              },\n",
      "              \"line\": {\n",
      "                \"color\": \"white\"\n",
      "              }\n",
      "            },\n",
      "            \"type\": \"table\"\n",
      "          }\n",
      "        ]\n",
      "      },\n",
      "      \"layout\": {\n",
      "        \"annotationdefaults\": {\n",
      "          \"arrowcolor\": \"#2a3f5f\",\n",
      "          \"arrowhead\": 0,\n",
      "          \"arrowwidth\": 1\n",
      "        },\n",
      "        \"autotypenumbers\": \"strict\",\n",
      "        \"coloraxis\": {\n",
      "          \"colorbar\": {\n",
      "            \"outlinewidth\": 0,\n",
      "            \"ticks\": \"\"\n",
      "          }\n",
      "        },\n",
      "        \"colorscale\": {\n",
      "          \"diverging\": [\n",
      "            [\n",
      "              0,\n",
      "              \"#8e0152\"\n",
      "            ],\n",
      "            [\n",
      "              0.1,\n",
      "              \"#c51b7d\"\n",
      "            ],\n",
      "            [\n",
      "              0.2,\n",
      "              \"#de77ae\"\n",
      "            ],\n",
      "            [\n",
      "              0.3,\n",
      "              \"#f1b6da\"\n",
      "            ],\n",
      "            [\n",
      "              0.4,\n",
      "              \"#fde0ef\"\n",
      "            ],\n",
      "            [\n",
      "              0.5,\n",
      "              \"#f7f7f7\"\n",
      "            ],\n",
      "            [\n",
      "              0.6,\n",
      "              \"#e6f5d0\"\n",
      "            ],\n",
      "            [\n",
      "              0.7,\n",
      "              \"#b8e186\"\n",
      "            ],\n",
      "            [\n",
      "              0.8,\n",
      "              \"#7fbc41\"\n",
      "            ],\n",
      "            [\n",
      "              0.9,\n",
      "              \"#4d9221\"\n",
      "            ],\n",
      "            [\n",
      "              1,\n",
      "              \"#276419\"\n",
      "            ]\n",
      "          ],\n",
      "          \"sequential\": [\n",
      "            [\n",
      "              0.0,\n",
      "              \"#0d0887\"\n",
      "            ],\n",
      "            [\n",
      "              0.1111111111111111,\n",
      "              \"#46039f\"\n",
      "            ],\n",
      "            [\n",
      "              0.2222222222222222,\n",
      "              \"#7201a8\"\n",
      "            ],\n",
      "            [\n",
      "              0.3333333333333333,\n",
      "              \"#9c179e\"\n",
      "            ],\n",
      "            [\n",
      "              0.4444444444444444,\n",
      "              \"#bd3786\"\n",
      "            ],\n",
      "            [\n",
      "              0.5555555555555556,\n",
      "              \"#d8576b\"\n",
      "            ],\n",
      "            [\n",
      "              0.6666666666666666,\n",
      "              \"#ed7953\"\n",
      "            ],\n",
      "            [\n",
      "              0.7777777777777778,\n",
      "              \"#fb9f3a\"\n",
      "            ],\n",
      "            [\n",
      "              0.8888888888888888,\n",
      "              \"#fdca26\"\n",
      "            ],\n",
      "            [\n",
      "              1.0,\n",
      "              \"#f0f921\"\n",
      "            ]\n",
      "          ],\n",
      "          \"sequentialminus\": [\n",
      "            [\n",
      "              0.0,\n",
      "              \"#0d0887\"\n",
      "            ],\n",
      "            [\n",
      "              0.1111111111111111,\n",
      "              \"#46039f\"\n",
      "            ],\n",
      "            [\n",
      "              0.2222222222222222,\n",
      "              \"#7201a8\"\n",
      "            ],\n",
      "            [\n",
      "              0.3333333333333333,\n",
      "              \"#9c179e\"\n",
      "            ],\n",
      "            [\n",
      "              0.4444444444444444,\n",
      "              \"#bd3786\"\n",
      "            ],\n",
      "            [\n",
      "              0.5555555555555556,\n",
      "              \"#d8576b\"\n",
      "            ],\n",
      "            [\n",
      "              0.6666666666666666,\n",
      "              \"#ed7953\"\n",
      "            ],\n",
      "            [\n",
      "              0.7777777777777778,\n",
      "              \"#fb9f3a\"\n",
      "            ],\n",
      "            [\n",
      "              0.8888888888888888,\n",
      "              \"#fdca26\"\n",
      "            ],\n",
      "            [\n",
      "              1.0,\n",
      "              \"#f0f921\"\n",
      "            ]\n",
      "          ]\n",
      "        },\n",
      "        \"colorway\": [\n",
      "          \"#636efa\",\n",
      "          \"#EF553B\",\n",
      "          \"#00cc96\",\n",
      "          \"#ab63fa\",\n",
      "          \"#FFA15A\",\n",
      "          \"#19d3f3\",\n",
      "          \"#FF6692\",\n",
      "          \"#B6E880\",\n",
      "          \"#FF97FF\",\n",
      "          \"#FECB52\"\n",
      "        ],\n",
      "        \"font\": {\n",
      "          \"color\": \"#2a3f5f\"\n",
      "        },\n",
      "        \"geo\": {\n",
      "          \"bgcolor\": \"white\",\n",
      "          \"lakecolor\": \"white\",\n",
      "          \"landcolor\": \"white\",\n",
      "          \"showlakes\": true,\n",
      "          \"showland\": true,\n",
      "          \"subunitcolor\": \"#C8D4E3\"\n",
      "        },\n",
      "        \"hoverlabel\": {\n",
      "          \"align\": \"left\"\n",
      "        },\n",
      "        \"hovermode\": \"closest\",\n",
      "        \"mapbox\": {\n",
      "          \"style\": \"light\"\n",
      "        },\n",
      "        \"paper_bgcolor\": \"white\",\n",
      "        \"plot_bgcolor\": \"white\",\n",
      "        \"polar\": {\n",
      "          \"angularaxis\": {\n",
      "            \"gridcolor\": \"#EBF0F8\",\n",
      "            \"linecolor\": \"#EBF0F8\",\n",
      "            \"ticks\": \"\"\n",
      "          },\n",
      "          \"bgcolor\": \"white\",\n",
      "          \"radialaxis\": {\n",
      "            \"gridcolor\": \"#EBF0F8\",\n",
      "            \"linecolor\": \"#EBF0F8\",\n",
      "            \"ticks\": \"\"\n",
      "          }\n",
      "        },\n",
      "        \"scene\": {\n",
      "          \"xaxis\": {\n",
      "            \"backgroundcolor\": \"white\",\n",
      "            \"gridcolor\": \"#DFE8F3\",\n",
      "            \"gridwidth\": 2,\n",
      "            \"linecolor\": \"#EBF0F8\",\n",
      "            \"showbackground\": true,\n",
      "            \"ticks\": \"\",\n",
      "            \"zerolinecolor\": \"#EBF0F8\"\n",
      "          },\n",
      "          \"yaxis\": {\n",
      "            \"backgroundcolor\": \"white\",\n",
      "            \"gridcolor\": \"#DFE8F3\",\n",
      "            \"gridwidth\": 2,\n",
      "            \"linecolor\": \"#EBF0F8\",\n",
      "            \"showbackground\": true,\n",
      "            \"ticks\": \"\",\n",
      "            \"zerolinecolor\": \"#EBF0F8\"\n",
      "          },\n",
      "          \"zaxis\": {\n",
      "            \"backgroundcolor\": \"white\",\n",
      "            \"gridcolor\": \"#DFE8F3\",\n",
      "            \"gridwidth\": 2,\n",
      "            \"linecolor\": \"#EBF0F8\",\n",
      "            \"showbackground\": true,\n",
      "            \"ticks\": \"\",\n",
      "            \"zerolinecolor\": \"#EBF0F8\"\n",
      "          }\n",
      "        },\n",
      "        \"shapedefaults\": {\n",
      "          \"line\": {\n",
      "            \"color\": \"#2a3f5f\"\n",
      "          }\n",
      "        },\n",
      "        \"ternary\": {\n",
      "          \"aaxis\": {\n",
      "            \"gridcolor\": \"#DFE8F3\",\n",
      "            \"linecolor\": \"#A2B1C6\",\n",
      "            \"ticks\": \"\"\n",
      "          },\n",
      "          \"baxis\": {\n",
      "            \"gridcolor\": \"#DFE8F3\",\n",
      "            \"linecolor\": \"#A2B1C6\",\n",
      "            \"ticks\": \"\"\n",
      "          },\n",
      "          \"bgcolor\": \"white\",\n",
      "          \"caxis\": {\n",
      "            \"gridcolor\": \"#DFE8F3\",\n",
      "            \"linecolor\": \"#A2B1C6\",\n",
      "            \"ticks\": \"\"\n",
      "          }\n",
      "        },\n",
      "        \"title\": {\n",
      "          \"x\": 0.05\n",
      "        },\n",
      "        \"xaxis\": {\n",
      "          \"automargin\": true,\n",
      "          \"gridcolor\": \"#EBF0F8\",\n",
      "          \"linecolor\": \"#EBF0F8\",\n",
      "          \"ticks\": \"\",\n",
      "          \"title\": {\n",
      "            \"standoff\": 15\n",
      "          },\n",
      "          \"zerolinecolor\": \"#EBF0F8\",\n",
      "          \"zerolinewidth\": 2\n",
      "        },\n",
      "        \"yaxis\": {\n",
      "          \"automargin\": true,\n",
      "          \"gridcolor\": \"#EBF0F8\",\n",
      "          \"linecolor\": \"#EBF0F8\",\n",
      "          \"ticks\": \"\",\n",
      "          \"title\": {\n",
      "            \"standoff\": 15\n",
      "          },\n",
      "          \"zerolinecolor\": \"#EBF0F8\",\n",
      "          \"zerolinewidth\": 2\n",
      "        }\n",
      "      }\n",
      "    },\n",
      "    \"xaxis\": {\n",
      "      \"anchor\": \"y\",\n",
      "      \"domain\": [\n",
      "        0.0,\n",
      "        1.0\n",
      "      ],\n",
      "      \"title\": {\n",
      "        \"text\": \"DuckDB Version\"\n",
      "      }\n",
      "    },\n",
      "    \"yaxis\": {\n",
      "      \"anchor\": \"x\",\n",
      "      \"domain\": [\n",
      "        0.0,\n",
      "        1.0\n",
      "      ],\n",
      "      \"title\": {\n",
      "        \"text\": \"Time (seconds)\"\n",
      "      }\n",
      "    },\n",
      "    \"legend\": {\n",
      "      \"title\": {\n",
      "        \"text\": \"Benchmark Type\"\n",
      "      },\n",
      "      \"tracegroupgap\": 0\n",
      "    },\n",
      "    \"margin\": {\n",
      "      \"t\": 60\n",
      "    }\n",
      "  }\n",
      "}\n"
     ]
    },
    {
     "data": {
      "application/vnd.plotly.v1+json": {
       "config": {
        "plotlyServerURL": "https://plot.ly"
       },
       "data": [
        {
         "fillpattern": {
          "shape": ""
         },
         "hovertemplate": "Benchmark Type=CSV Import<br>benchmark=002 Create table from csv<br>DuckDB Version=%{x}<br>Time (seconds)=%{y}<extra></extra>",
         "legendgroup": "CSV Import",
         "line": {
          "color": "#636efa"
         },
         "marker": {
          "symbol": "circle"
         },
         "mode": "lines",
         "name": "CSV Import",
         "orientation": "v",
         "showlegend": true,
         "stackgroup": "1",
         "type": "scatter",
         "x": [
          "0.2.7",
          "0.2.8",
          "0.2.9",
          "0.3.0",
          "0.3.1",
          "0.3.2",
          "0.3.4",
          "0.4.0",
          "0.5.1",
          "0.6.1",
          "0.7.1",
          "0.8.1",
          "0.9.0",
          "0.9.1",
          "0.9.2",
          "0.10.0",
          "0.10.1"
         ],
         "xaxis": "x",
         "y": [
          4.846484791999998,
          4.630909209,
          5.039506459000009,
          5.143498083000011,
          6.731111708,
          5.484685042000001,
          6.670691541999986,
          7.315441374999978,
          6.929248874999999,
          6.484699625000005,
          6.231343916,
          2.120479792000001,
          2.039050833,
          2.0837383339999995,
          2.0395161659999985,
          1.412541000000001,
          1.448871
         ],
         "yaxis": "y"
        },
        {
         "fillpattern": {
          "shape": ""
         },
         "hovertemplate": "Benchmark Type=CSV Import<br>benchmark=011 Create tables from csvs joins<br>DuckDB Version=%{x}<br>Time (seconds)=%{y}<extra></extra>",
         "legendgroup": "CSV Import",
         "line": {
          "color": "#636efa"
         },
         "marker": {
          "symbol": "circle"
         },
         "mode": "lines",
         "name": "CSV Import",
         "orientation": "v",
         "showlegend": false,
         "stackgroup": "1",
         "type": "scatter",
         "x": [
          "0.2.7",
          "0.2.8",
          "0.2.9",
          "0.3.0",
          "0.3.1",
          "0.3.2",
          "0.3.4",
          "0.4.0",
          "0.5.1",
          "0.6.1",
          "0.7.1",
          "0.8.1",
          "0.9.0",
          "0.9.1",
          "0.9.2",
          "0.10.0",
          "0.10.1"
         ],
         "xaxis": "x",
         "y": [
          9.000277625000024,
          8.789042249999994,
          9.444965832999998,
          9.685044167000001,
          10.135206959000001,
          10.167238625,
          13.799680708000004,
          14.952030874999998,
          14.209868834000005,
          13.487854708,
          13.399228957999995,
          5.317325958,
          4.645055999999997,
          5.532814708000004,
          4.028918000000004,
          3.261595707999998,
          3.328050000000001
         ],
         "yaxis": "y"
        },
        {
         "fillpattern": {
          "shape": ""
         },
         "hovertemplate": "Benchmark Type=Scan other formats<br>benchmark=001 Query pandas<br>DuckDB Version=%{x}<br>Time (seconds)=%{y}<extra></extra>",
         "legendgroup": "Scan other formats",
         "line": {
          "color": "#EF553B"
         },
         "marker": {
          "symbol": "circle"
         },
         "mode": "lines",
         "name": "Scan other formats",
         "orientation": "v",
         "showlegend": true,
         "stackgroup": "1",
         "type": "scatter",
         "x": [
          "0.2.7",
          "0.2.8",
          "0.2.9",
          "0.3.0",
          "0.3.1",
          "0.3.2",
          "0.3.4",
          "0.4.0",
          "0.5.1",
          "0.6.1",
          "0.7.1",
          "0.8.1",
          "0.9.0",
          "0.9.1",
          "0.9.2",
          "0.10.0",
          "0.10.1"
         ],
         "xaxis": "x",
         "y": [
          0.00558054200001834,
          0.0036555840000005446,
          0.005581083999999237,
          0.0031209169999897313,
          0.0021507920000090053,
          0.002634333000003153,
          0.0030435420000003433,
          0.003136250000011387,
          0.0034312919999877067,
          0.0018544160000004695,
          0.002032625000005339,
          0.002081875000001787,
          0.0022382500000013295,
          0.0024572499999990782,
          0.0017117920000018216,
          0.001771583000000021,
          0.0019213750000020013
         ],
         "yaxis": "y"
        },
        {
         "fillpattern": {
          "shape": ""
         },
         "hovertemplate": "Benchmark Type=Scan other formats<br>benchmark=006 Scan and aggregate over Pandas df<br>DuckDB Version=%{x}<br>Time (seconds)=%{y}<extra></extra>",
         "legendgroup": "Scan other formats",
         "line": {
          "color": "#EF553B"
         },
         "marker": {
          "symbol": "circle"
         },
         "mode": "lines",
         "name": "Scan other formats",
         "orientation": "v",
         "showlegend": false,
         "stackgroup": "1",
         "type": "scatter",
         "x": [
          "0.2.7",
          "0.2.8",
          "0.2.9",
          "0.3.0",
          "0.3.1",
          "0.3.2",
          "0.3.4",
          "0.4.0",
          "0.5.1",
          "0.6.1",
          "0.7.1",
          "0.8.1",
          "0.9.0",
          "0.9.1",
          "0.9.2",
          "0.10.0",
          "0.10.1"
         ],
         "xaxis": "x",
         "y": [
          0.012230708000004142,
          0.01099808400000768,
          0.01105445800000382,
          0.011107124999995222,
          0.004504208000000176,
          0.0041240840000007495,
          0.003638000000023567,
          0.00376095800001508,
          0.008367083999985425,
          0.004099334000002841,
          0.004590458000002684,
          0.004538916999997866,
          0.004552666999998678,
          0.0046224580000000515,
          0.005076041999998893,
          0.005718500000000404,
          0.005070541999998568
         ],
         "yaxis": "y"
        },
        {
         "fillpattern": {
          "shape": ""
         },
         "hovertemplate": "Benchmark Type=Scan other formats<br>benchmark=008 Scan and aggregate over Parquet file<br>DuckDB Version=%{x}<br>Time (seconds)=%{y}<extra></extra>",
         "legendgroup": "Scan other formats",
         "line": {
          "color": "#EF553B"
         },
         "marker": {
          "symbol": "circle"
         },
         "mode": "lines",
         "name": "Scan other formats",
         "orientation": "v",
         "showlegend": false,
         "stackgroup": "1",
         "type": "scatter",
         "x": [
          "0.2.7",
          "0.2.8",
          "0.2.9",
          "0.3.0",
          "0.3.1",
          "0.3.2",
          "0.3.4",
          "0.4.0",
          "0.5.1",
          "0.6.1",
          "0.7.1",
          "0.8.1",
          "0.9.0",
          "0.9.1",
          "0.9.2",
          "0.10.0",
          "0.10.1"
         ],
         "xaxis": "x",
         "y": [
          0.1027100410000017,
          0.10037775000000693,
          0.09167370899999838,
          0.09103312500000271,
          0.01399795800000092,
          0.011714083000001096,
          0.011483374999997409,
          0.01075895799999671,
          0.011823125000006485,
          0.011218915999998913,
          0.011484458000005304,
          0.01112495899999999,
          0.010533083999995085,
          0.010736042000004886,
          0.010779208999998957,
          0.010799583000000723,
          0.010920040999998548
         ],
         "yaxis": "y"
        },
        {
         "fillpattern": {
          "shape": ""
         },
         "hovertemplate": "Benchmark Type=Scan other formats<br>benchmark=010 Scan and aggregate over Arrow df<br>DuckDB Version=%{x}<br>Time (seconds)=%{y}<extra></extra>",
         "legendgroup": "Scan other formats",
         "line": {
          "color": "#EF553B"
         },
         "marker": {
          "symbol": "circle"
         },
         "mode": "lines",
         "name": "Scan other formats",
         "orientation": "v",
         "showlegend": false,
         "stackgroup": "1",
         "type": "scatter",
         "x": [
          "0.3.1",
          "0.3.2",
          "0.3.4",
          "0.4.0",
          "0.5.1",
          "0.6.1",
          "0.7.1",
          "0.8.1",
          "0.9.0",
          "0.9.1",
          "0.9.2",
          "0.10.0",
          "0.10.1"
         ],
         "xaxis": "x",
         "y": [
          0.3217863329999915,
          0.5199896670000044,
          0.003314292000027308,
          0.0038683330000139904,
          0.0038382500000011532,
          0.0044425000000032355,
          0.004570750000006285,
          0.004569082999999807,
          0.0037840839999958575,
          0.003807000000001892,
          0.0036087909999977796,
          0.005559250000001015,
          0.0036913339999991024
         ],
         "yaxis": "y"
        },
        {
         "fillpattern": {
          "shape": ""
         },
         "hovertemplate": "Benchmark Type=Analysis<br>benchmark=003 Convert to Enums<br>DuckDB Version=%{x}<br>Time (seconds)=%{y}<extra></extra>",
         "legendgroup": "Analysis",
         "line": {
          "color": "#00cc96"
         },
         "marker": {
          "symbol": "circle"
         },
         "mode": "lines",
         "name": "Analysis",
         "orientation": "v",
         "showlegend": true,
         "stackgroup": "1",
         "type": "scatter",
         "x": [
          "0.6.1",
          "0.7.1",
          "0.8.1",
          "0.9.0",
          "0.9.1",
          "0.9.2",
          "0.10.0",
          "0.10.1"
         ],
         "xaxis": "x",
         "y": [
          0.8570378329999988,
          0.8082985409999992,
          1.1607287080000006,
          1.1870526659999996,
          1.1771657920000003,
          1.1900611249999997,
          0.9076188750000007,
          0.9022534170000007
         ],
         "yaxis": "y"
        },
        {
         "fillpattern": {
          "shape": ""
         },
         "hovertemplate": "Benchmark Type=Analysis<br>benchmark=004 Group by queries<br>DuckDB Version=%{x}<br>Time (seconds)=%{y}<extra></extra>",
         "legendgroup": "Analysis",
         "line": {
          "color": "#00cc96"
         },
         "marker": {
          "symbol": "circle"
         },
         "mode": "lines",
         "name": "Analysis",
         "orientation": "v",
         "showlegend": false,
         "stackgroup": "1",
         "type": "scatter",
         "x": [
          "0.2.7",
          "0.2.8",
          "0.2.9",
          "0.3.0",
          "0.3.1",
          "0.3.2",
          "0.3.4",
          "0.4.0",
          "0.5.1",
          "0.6.1",
          "0.7.1",
          "0.8.1",
          "0.9.0",
          "0.9.1",
          "0.9.2",
          "0.10.0",
          "0.10.1"
         ],
         "xaxis": "x",
         "y": [
          30.480708666999988,
          24.299962375000007,
          21.444196000000005,
          21.36002479199999,
          8.027176208,
          8.091708249999996,
          9.097851458,
          7.249774291999984,
          5.286353582999993,
          1.6851370830000008,
          1.6219534580000072,
          1.388391833,
          1.364668082999998,
          1.3444542499999983,
          1.3368204580000018,
          1.2431614589999995,
          1.2392742079999977
         ],
         "yaxis": "y"
        },
        {
         "fillpattern": {
          "shape": ""
         },
         "hovertemplate": "Benchmark Type=Analysis<br>benchmark=012 Convert to Enums for joins<br>DuckDB Version=%{x}<br>Time (seconds)=%{y}<extra></extra>",
         "legendgroup": "Analysis",
         "line": {
          "color": "#00cc96"
         },
         "marker": {
          "symbol": "circle"
         },
         "mode": "lines",
         "name": "Analysis",
         "orientation": "v",
         "showlegend": false,
         "stackgroup": "1",
         "type": "scatter",
         "x": [
          "0.6.1",
          "0.7.1",
          "0.8.1",
          "0.9.0",
          "0.9.1",
          "0.9.2",
          "0.10.0",
          "0.10.1"
         ],
         "xaxis": "x",
         "y": [
          2.168022209,
          1.8047770419999978,
          3.143373874999998,
          3.156908291999997,
          3.065938458000005,
          3.261356915999997,
          2.2094117080000046,
          2.1940072080000004
         ],
         "yaxis": "y"
        },
        {
         "fillpattern": {
          "shape": ""
         },
         "hovertemplate": "Benchmark Type=Analysis<br>benchmark=013 Join queries<br>DuckDB Version=%{x}<br>Time (seconds)=%{y}<extra></extra>",
         "legendgroup": "Analysis",
         "line": {
          "color": "#00cc96"
         },
         "marker": {
          "symbol": "circle"
         },
         "mode": "lines",
         "name": "Analysis",
         "orientation": "v",
         "showlegend": false,
         "stackgroup": "1",
         "type": "scatter",
         "x": [
          "0.2.7",
          "0.2.8",
          "0.2.9",
          "0.3.0",
          "0.3.1",
          "0.3.2",
          "0.3.4",
          "0.4.0",
          "0.5.1",
          "0.6.1",
          "0.7.1",
          "0.8.1",
          "0.9.0",
          "0.9.1",
          "0.9.2",
          "0.10.0",
          "0.10.1"
         ],
         "xaxis": "x",
         "y": [
          23.821901249999996,
          21.935621458000007,
          23.939756292,
          23.811306416000008,
          23.266799292,
          24.609514375000003,
          36.32913500000001,
          39.88134804099997,
          37.02796416699999,
          5.900246709000001,
          3.5156939590000036,
          4.5500718330000005,
          4.415933791999997,
          4.382592499999998,
          4.435296250000002,
          3.3310229999999947,
          3.316500624999996
         ],
         "yaxis": "y"
        },
        {
         "fillpattern": {
          "shape": ""
         },
         "hovertemplate": "Benchmark Type=Export<br>benchmark=005 Export group by results to Pandas<br>DuckDB Version=%{x}<br>Time (seconds)=%{y}<extra></extra>",
         "legendgroup": "Export",
         "line": {
          "color": "#ab63fa"
         },
         "marker": {
          "symbol": "circle"
         },
         "mode": "lines",
         "name": "Export",
         "orientation": "v",
         "showlegend": true,
         "stackgroup": "1",
         "type": "scatter",
         "x": [
          "0.2.7",
          "0.2.8",
          "0.2.9",
          "0.3.0",
          "0.3.1",
          "0.3.2",
          "0.3.4",
          "0.4.0",
          "0.5.1",
          "0.6.1",
          "0.7.1",
          "0.8.1",
          "0.9.0",
          "0.9.1",
          "0.9.2",
          "0.10.0",
          "0.10.1"
         ],
         "xaxis": "x",
         "y": [
          1.585301166999983,
          1.3956787500000019,
          1.2633418749999947,
          1.2717729579999997,
          1.2974005419999912,
          1.2968350000000015,
          1.2442635410000094,
          1.2297054170000195,
          1.2382627080000077,
          0.6550114579999899,
          0.6473142920000043,
          0.6766115839999998,
          0.6730065830000029,
          0.6744978750000001,
          0.6794843329999978,
          0.7447636659999999,
          0.7511122500000003
         ],
         "yaxis": "y"
        },
        {
         "fillpattern": {
          "shape": ""
         },
         "hovertemplate": "Benchmark Type=Export<br>benchmark=007 Export group by results to Parquet<br>DuckDB Version=%{x}<br>Time (seconds)=%{y}<extra></extra>",
         "legendgroup": "Export",
         "line": {
          "color": "#ab63fa"
         },
         "marker": {
          "symbol": "circle"
         },
         "mode": "lines",
         "name": "Export",
         "orientation": "v",
         "showlegend": false,
         "stackgroup": "1",
         "type": "scatter",
         "x": [
          "0.2.7",
          "0.2.8",
          "0.2.9",
          "0.3.0",
          "0.3.1",
          "0.3.2",
          "0.3.4",
          "0.4.0",
          "0.5.1",
          "0.6.1",
          "0.7.1",
          "0.8.1",
          "0.9.0",
          "0.9.1",
          "0.9.2",
          "0.10.0",
          "0.10.1"
         ],
         "xaxis": "x",
         "y": [
          1.8943153749999908,
          1.8764357499999988,
          1.9323300000000003,
          1.9164719579999883,
          1.9255964999999975,
          3.1974089159999863,
          3.10719020800002,
          3.097302667000008,
          4.482877958000003,
          3.868870459,
          4.129821292000003,
          1.522228708,
          1.517412124999999,
          1.5303094169999998,
          1.5394198330000037,
          1.5129651249999974,
          1.490882708
         ],
         "yaxis": "y"
        },
        {
         "fillpattern": {
          "shape": ""
         },
         "hovertemplate": "Benchmark Type=Export<br>benchmark=009 Export group by results to Arrow<br>DuckDB Version=%{x}<br>Time (seconds)=%{y}<extra></extra>",
         "legendgroup": "Export",
         "line": {
          "color": "#ab63fa"
         },
         "marker": {
          "symbol": "circle"
         },
         "mode": "lines",
         "name": "Export",
         "orientation": "v",
         "showlegend": false,
         "stackgroup": "1",
         "type": "scatter",
         "x": [
          "0.3.1",
          "0.3.2",
          "0.3.4",
          "0.4.0",
          "0.5.1",
          "0.6.1",
          "0.7.1",
          "0.8.1",
          "0.9.0",
          "0.9.1",
          "0.9.2",
          "0.10.0",
          "0.10.1"
         ],
         "xaxis": "x",
         "y": [
          0.7143292920000022,
          0.6955205000000007,
          16.57839791699999,
          15.080014708000022,
          0.3896858330000015,
          0.28481162500000323,
          0.29059837500000185,
          0.3066396250000025,
          0.30367275000000404,
          0.31052062499999966,
          0.3062600840000016,
          0.3727563329999999,
          0.37437625000000097
         ],
         "yaxis": "y"
        },
        {
         "fillpattern": {
          "shape": ""
         },
         "hovertemplate": "Benchmark Type=Export<br>benchmark=014 Export join results to Pandas<br>DuckDB Version=%{x}<br>Time (seconds)=%{y}<extra></extra>",
         "legendgroup": "Export",
         "line": {
          "color": "#ab63fa"
         },
         "marker": {
          "symbol": "circle"
         },
         "mode": "lines",
         "name": "Export",
         "orientation": "v",
         "showlegend": false,
         "stackgroup": "1",
         "type": "scatter",
         "x": [
          "0.2.7",
          "0.2.8",
          "0.2.9",
          "0.3.0",
          "0.3.1",
          "0.3.2",
          "0.3.4",
          "0.4.0",
          "0.5.1",
          "0.6.1",
          "0.7.1",
          "0.8.1",
          "0.9.0",
          "0.9.1",
          "0.9.2",
          "0.10.0",
          "0.10.1"
         ],
         "xaxis": "x",
         "y": [
          32.89697020899996,
          30.641782167000002,
          25.363091959000002,
          25.59601229200001,
          25.937402209,
          34.932955459,
          26.58523204100004,
          27.940955291000023,
          26.53259245800001,
          5.274869667000004,
          5.199805500000004,
          5.370461250000002,
          6.315686875000001,
          6.145374791999998,
          5.578743582999998,
          6.0850729170000015,
          6.150260458999995
         ],
         "yaxis": "y"
        },
        {
         "fillpattern": {
          "shape": ""
         },
         "hovertemplate": "Benchmark Type=Export<br>benchmark=015 Export join results to Arrow<br>DuckDB Version=%{x}<br>Time (seconds)=%{y}<extra></extra>",
         "legendgroup": "Export",
         "line": {
          "color": "#ab63fa"
         },
         "marker": {
          "symbol": "circle"
         },
         "mode": "lines",
         "name": "Export",
         "orientation": "v",
         "showlegend": false,
         "stackgroup": "1",
         "type": "scatter",
         "x": [
          "0.3.1",
          "0.3.2",
          "0.3.4",
          "0.4.0",
          "0.5.1",
          "0.6.1",
          "0.7.1",
          "0.8.1",
          "0.9.0",
          "0.9.1",
          "0.9.2",
          "0.10.0",
          "0.10.1"
         ],
         "xaxis": "x",
         "y": [
          7.046789125000004,
          7.1467984999999885,
          92.95143991600003,
          92.94491208300008,
          3.224981791999994,
          1.7857833329999977,
          1.7790696250000053,
          1.8480557500000003,
          1.892379584000004,
          1.8852987080000005,
          1.8513588339999956,
          2.359995666000003,
          2.3194005000000004
         ],
         "yaxis": "y"
        }
       ],
       "layout": {
        "legend": {
         "title": {
          "text": "Benchmark Type"
         },
         "tracegroupgap": 0
        },
        "margin": {
         "t": 60
        },
        "template": {
         "data": {
          "bar": [
           {
            "error_x": {
             "color": "#2a3f5f"
            },
            "error_y": {
             "color": "#2a3f5f"
            },
            "marker": {
             "line": {
              "color": "white",
              "width": 0.5
             },
             "pattern": {
              "fillmode": "overlay",
              "size": 10,
              "solidity": 0.2
             }
            },
            "type": "bar"
           }
          ],
          "barpolar": [
           {
            "marker": {
             "line": {
              "color": "white",
              "width": 0.5
             },
             "pattern": {
              "fillmode": "overlay",
              "size": 10,
              "solidity": 0.2
             }
            },
            "type": "barpolar"
           }
          ],
          "carpet": [
           {
            "aaxis": {
             "endlinecolor": "#2a3f5f",
             "gridcolor": "#C8D4E3",
             "linecolor": "#C8D4E3",
             "minorgridcolor": "#C8D4E3",
             "startlinecolor": "#2a3f5f"
            },
            "baxis": {
             "endlinecolor": "#2a3f5f",
             "gridcolor": "#C8D4E3",
             "linecolor": "#C8D4E3",
             "minorgridcolor": "#C8D4E3",
             "startlinecolor": "#2a3f5f"
            },
            "type": "carpet"
           }
          ],
          "choropleth": [
           {
            "colorbar": {
             "outlinewidth": 0,
             "ticks": ""
            },
            "type": "choropleth"
           }
          ],
          "contour": [
           {
            "colorbar": {
             "outlinewidth": 0,
             "ticks": ""
            },
            "colorscale": [
             [
              0,
              "#0d0887"
             ],
             [
              0.1111111111111111,
              "#46039f"
             ],
             [
              0.2222222222222222,
              "#7201a8"
             ],
             [
              0.3333333333333333,
              "#9c179e"
             ],
             [
              0.4444444444444444,
              "#bd3786"
             ],
             [
              0.5555555555555556,
              "#d8576b"
             ],
             [
              0.6666666666666666,
              "#ed7953"
             ],
             [
              0.7777777777777778,
              "#fb9f3a"
             ],
             [
              0.8888888888888888,
              "#fdca26"
             ],
             [
              1,
              "#f0f921"
             ]
            ],
            "type": "contour"
           }
          ],
          "contourcarpet": [
           {
            "colorbar": {
             "outlinewidth": 0,
             "ticks": ""
            },
            "type": "contourcarpet"
           }
          ],
          "heatmap": [
           {
            "colorbar": {
             "outlinewidth": 0,
             "ticks": ""
            },
            "colorscale": [
             [
              0,
              "#0d0887"
             ],
             [
              0.1111111111111111,
              "#46039f"
             ],
             [
              0.2222222222222222,
              "#7201a8"
             ],
             [
              0.3333333333333333,
              "#9c179e"
             ],
             [
              0.4444444444444444,
              "#bd3786"
             ],
             [
              0.5555555555555556,
              "#d8576b"
             ],
             [
              0.6666666666666666,
              "#ed7953"
             ],
             [
              0.7777777777777778,
              "#fb9f3a"
             ],
             [
              0.8888888888888888,
              "#fdca26"
             ],
             [
              1,
              "#f0f921"
             ]
            ],
            "type": "heatmap"
           }
          ],
          "heatmapgl": [
           {
            "colorbar": {
             "outlinewidth": 0,
             "ticks": ""
            },
            "colorscale": [
             [
              0,
              "#0d0887"
             ],
             [
              0.1111111111111111,
              "#46039f"
             ],
             [
              0.2222222222222222,
              "#7201a8"
             ],
             [
              0.3333333333333333,
              "#9c179e"
             ],
             [
              0.4444444444444444,
              "#bd3786"
             ],
             [
              0.5555555555555556,
              "#d8576b"
             ],
             [
              0.6666666666666666,
              "#ed7953"
             ],
             [
              0.7777777777777778,
              "#fb9f3a"
             ],
             [
              0.8888888888888888,
              "#fdca26"
             ],
             [
              1,
              "#f0f921"
             ]
            ],
            "type": "heatmapgl"
           }
          ],
          "histogram": [
           {
            "marker": {
             "pattern": {
              "fillmode": "overlay",
              "size": 10,
              "solidity": 0.2
             }
            },
            "type": "histogram"
           }
          ],
          "histogram2d": [
           {
            "colorbar": {
             "outlinewidth": 0,
             "ticks": ""
            },
            "colorscale": [
             [
              0,
              "#0d0887"
             ],
             [
              0.1111111111111111,
              "#46039f"
             ],
             [
              0.2222222222222222,
              "#7201a8"
             ],
             [
              0.3333333333333333,
              "#9c179e"
             ],
             [
              0.4444444444444444,
              "#bd3786"
             ],
             [
              0.5555555555555556,
              "#d8576b"
             ],
             [
              0.6666666666666666,
              "#ed7953"
             ],
             [
              0.7777777777777778,
              "#fb9f3a"
             ],
             [
              0.8888888888888888,
              "#fdca26"
             ],
             [
              1,
              "#f0f921"
             ]
            ],
            "type": "histogram2d"
           }
          ],
          "histogram2dcontour": [
           {
            "colorbar": {
             "outlinewidth": 0,
             "ticks": ""
            },
            "colorscale": [
             [
              0,
              "#0d0887"
             ],
             [
              0.1111111111111111,
              "#46039f"
             ],
             [
              0.2222222222222222,
              "#7201a8"
             ],
             [
              0.3333333333333333,
              "#9c179e"
             ],
             [
              0.4444444444444444,
              "#bd3786"
             ],
             [
              0.5555555555555556,
              "#d8576b"
             ],
             [
              0.6666666666666666,
              "#ed7953"
             ],
             [
              0.7777777777777778,
              "#fb9f3a"
             ],
             [
              0.8888888888888888,
              "#fdca26"
             ],
             [
              1,
              "#f0f921"
             ]
            ],
            "type": "histogram2dcontour"
           }
          ],
          "mesh3d": [
           {
            "colorbar": {
             "outlinewidth": 0,
             "ticks": ""
            },
            "type": "mesh3d"
           }
          ],
          "parcoords": [
           {
            "line": {
             "colorbar": {
              "outlinewidth": 0,
              "ticks": ""
             }
            },
            "type": "parcoords"
           }
          ],
          "pie": [
           {
            "automargin": true,
            "type": "pie"
           }
          ],
          "scatter": [
           {
            "fillpattern": {
             "fillmode": "overlay",
             "size": 10,
             "solidity": 0.2
            },
            "type": "scatter"
           }
          ],
          "scatter3d": [
           {
            "line": {
             "colorbar": {
              "outlinewidth": 0,
              "ticks": ""
             }
            },
            "marker": {
             "colorbar": {
              "outlinewidth": 0,
              "ticks": ""
             }
            },
            "type": "scatter3d"
           }
          ],
          "scattercarpet": [
           {
            "marker": {
             "colorbar": {
              "outlinewidth": 0,
              "ticks": ""
             }
            },
            "type": "scattercarpet"
           }
          ],
          "scattergeo": [
           {
            "marker": {
             "colorbar": {
              "outlinewidth": 0,
              "ticks": ""
             }
            },
            "type": "scattergeo"
           }
          ],
          "scattergl": [
           {
            "marker": {
             "colorbar": {
              "outlinewidth": 0,
              "ticks": ""
             }
            },
            "type": "scattergl"
           }
          ],
          "scattermapbox": [
           {
            "marker": {
             "colorbar": {
              "outlinewidth": 0,
              "ticks": ""
             }
            },
            "type": "scattermapbox"
           }
          ],
          "scatterpolar": [
           {
            "marker": {
             "colorbar": {
              "outlinewidth": 0,
              "ticks": ""
             }
            },
            "type": "scatterpolar"
           }
          ],
          "scatterpolargl": [
           {
            "marker": {
             "colorbar": {
              "outlinewidth": 0,
              "ticks": ""
             }
            },
            "type": "scatterpolargl"
           }
          ],
          "scatterternary": [
           {
            "marker": {
             "colorbar": {
              "outlinewidth": 0,
              "ticks": ""
             }
            },
            "type": "scatterternary"
           }
          ],
          "surface": [
           {
            "colorbar": {
             "outlinewidth": 0,
             "ticks": ""
            },
            "colorscale": [
             [
              0,
              "#0d0887"
             ],
             [
              0.1111111111111111,
              "#46039f"
             ],
             [
              0.2222222222222222,
              "#7201a8"
             ],
             [
              0.3333333333333333,
              "#9c179e"
             ],
             [
              0.4444444444444444,
              "#bd3786"
             ],
             [
              0.5555555555555556,
              "#d8576b"
             ],
             [
              0.6666666666666666,
              "#ed7953"
             ],
             [
              0.7777777777777778,
              "#fb9f3a"
             ],
             [
              0.8888888888888888,
              "#fdca26"
             ],
             [
              1,
              "#f0f921"
             ]
            ],
            "type": "surface"
           }
          ],
          "table": [
           {
            "cells": {
             "fill": {
              "color": "#EBF0F8"
             },
             "line": {
              "color": "white"
             }
            },
            "header": {
             "fill": {
              "color": "#C8D4E3"
             },
             "line": {
              "color": "white"
             }
            },
            "type": "table"
           }
          ]
         },
         "layout": {
          "annotationdefaults": {
           "arrowcolor": "#2a3f5f",
           "arrowhead": 0,
           "arrowwidth": 1
          },
          "autotypenumbers": "strict",
          "coloraxis": {
           "colorbar": {
            "outlinewidth": 0,
            "ticks": ""
           }
          },
          "colorscale": {
           "diverging": [
            [
             0,
             "#8e0152"
            ],
            [
             0.1,
             "#c51b7d"
            ],
            [
             0.2,
             "#de77ae"
            ],
            [
             0.3,
             "#f1b6da"
            ],
            [
             0.4,
             "#fde0ef"
            ],
            [
             0.5,
             "#f7f7f7"
            ],
            [
             0.6,
             "#e6f5d0"
            ],
            [
             0.7,
             "#b8e186"
            ],
            [
             0.8,
             "#7fbc41"
            ],
            [
             0.9,
             "#4d9221"
            ],
            [
             1,
             "#276419"
            ]
           ],
           "sequential": [
            [
             0,
             "#0d0887"
            ],
            [
             0.1111111111111111,
             "#46039f"
            ],
            [
             0.2222222222222222,
             "#7201a8"
            ],
            [
             0.3333333333333333,
             "#9c179e"
            ],
            [
             0.4444444444444444,
             "#bd3786"
            ],
            [
             0.5555555555555556,
             "#d8576b"
            ],
            [
             0.6666666666666666,
             "#ed7953"
            ],
            [
             0.7777777777777778,
             "#fb9f3a"
            ],
            [
             0.8888888888888888,
             "#fdca26"
            ],
            [
             1,
             "#f0f921"
            ]
           ],
           "sequentialminus": [
            [
             0,
             "#0d0887"
            ],
            [
             0.1111111111111111,
             "#46039f"
            ],
            [
             0.2222222222222222,
             "#7201a8"
            ],
            [
             0.3333333333333333,
             "#9c179e"
            ],
            [
             0.4444444444444444,
             "#bd3786"
            ],
            [
             0.5555555555555556,
             "#d8576b"
            ],
            [
             0.6666666666666666,
             "#ed7953"
            ],
            [
             0.7777777777777778,
             "#fb9f3a"
            ],
            [
             0.8888888888888888,
             "#fdca26"
            ],
            [
             1,
             "#f0f921"
            ]
           ]
          },
          "colorway": [
           "#636efa",
           "#EF553B",
           "#00cc96",
           "#ab63fa",
           "#FFA15A",
           "#19d3f3",
           "#FF6692",
           "#B6E880",
           "#FF97FF",
           "#FECB52"
          ],
          "font": {
           "color": "#2a3f5f"
          },
          "geo": {
           "bgcolor": "white",
           "lakecolor": "white",
           "landcolor": "white",
           "showlakes": true,
           "showland": true,
           "subunitcolor": "#C8D4E3"
          },
          "hoverlabel": {
           "align": "left"
          },
          "hovermode": "closest",
          "mapbox": {
           "style": "light"
          },
          "paper_bgcolor": "white",
          "plot_bgcolor": "white",
          "polar": {
           "angularaxis": {
            "gridcolor": "#EBF0F8",
            "linecolor": "#EBF0F8",
            "ticks": ""
           },
           "bgcolor": "white",
           "radialaxis": {
            "gridcolor": "#EBF0F8",
            "linecolor": "#EBF0F8",
            "ticks": ""
           }
          },
          "scene": {
           "xaxis": {
            "backgroundcolor": "white",
            "gridcolor": "#DFE8F3",
            "gridwidth": 2,
            "linecolor": "#EBF0F8",
            "showbackground": true,
            "ticks": "",
            "zerolinecolor": "#EBF0F8"
           },
           "yaxis": {
            "backgroundcolor": "white",
            "gridcolor": "#DFE8F3",
            "gridwidth": 2,
            "linecolor": "#EBF0F8",
            "showbackground": true,
            "ticks": "",
            "zerolinecolor": "#EBF0F8"
           },
           "zaxis": {
            "backgroundcolor": "white",
            "gridcolor": "#DFE8F3",
            "gridwidth": 2,
            "linecolor": "#EBF0F8",
            "showbackground": true,
            "ticks": "",
            "zerolinecolor": "#EBF0F8"
           }
          },
          "shapedefaults": {
           "line": {
            "color": "#2a3f5f"
           }
          },
          "ternary": {
           "aaxis": {
            "gridcolor": "#DFE8F3",
            "linecolor": "#A2B1C6",
            "ticks": ""
           },
           "baxis": {
            "gridcolor": "#DFE8F3",
            "linecolor": "#A2B1C6",
            "ticks": ""
           },
           "bgcolor": "white",
           "caxis": {
            "gridcolor": "#DFE8F3",
            "linecolor": "#A2B1C6",
            "ticks": ""
           }
          },
          "title": {
           "x": 0.05
          },
          "xaxis": {
           "automargin": true,
           "gridcolor": "#EBF0F8",
           "linecolor": "#EBF0F8",
           "ticks": "",
           "title": {
            "standoff": 15
           },
           "zerolinecolor": "#EBF0F8",
           "zerolinewidth": 2
          },
          "yaxis": {
           "automargin": true,
           "gridcolor": "#EBF0F8",
           "linecolor": "#EBF0F8",
           "ticks": "",
           "title": {
            "standoff": 15
           },
           "zerolinecolor": "#EBF0F8",
           "zerolinewidth": 2
          }
         }
        },
        "xaxis": {
         "anchor": "y",
         "domain": [
          0,
          1
         ],
         "title": {
          "text": "DuckDB Version"
         }
        },
        "yaxis": {
         "anchor": "x",
         "domain": [
          0,
          1
         ],
         "title": {
          "text": "Time (seconds)"
         }
        }
       }
      }
     },
     "metadata": {},
     "output_type": "display_data"
    }
   ],
   "source": [
    "fig = px.area(\n",
    "    results,\n",
    "    x=\"DuckDB Version\",\n",
    "    y=\"Time (seconds)\",\n",
    "    color=\"Benchmark Type\",\n",
    "    line_group=\"benchmark\",\n",
    "    category_orders={\"Benchmark Type\":[\"CSV Import\",\"Scan other formats\",\"Analysis\",\"Export\"]},\n",
    "    template='plotly_white'\n",
    ")\n",
    "print(plotly.io.to_json(fig, pretty=True))\n",
    "fig.show()"
   ]
  },
  {
   "cell_type": "code",
   "execution_count": 7,
   "metadata": {},
   "outputs": [
    {
     "data": {
      "application/vnd.plotly.v1+json": {
       "config": {
        "plotlyServerURL": "https://plot.ly"
       },
       "data": [
        {
         "fillpattern": {
          "shape": ""
         },
         "hovertemplate": "Benchmark Type=CSV Import<br>benchmark=002 Create table from csv<br>DuckDB Version=%{x}<br>Time Relative to Latest Version=%{y}<extra></extra>",
         "legendgroup": "CSV Import",
         "line": {
          "color": "#636efa"
         },
         "marker": {
          "symbol": "circle"
         },
         "mode": "lines",
         "name": "CSV Import",
         "orientation": "v",
         "showlegend": true,
         "stackgroup": "1",
         "type": "scatter",
         "x": [
          "0.2.7",
          "0.2.8",
          "0.2.9",
          "0.3.0",
          "0.3.1",
          "0.3.2",
          "0.3.4",
          "0.4.0",
          "0.5.1",
          "0.6.1",
          "0.7.1",
          "0.8.1",
          "0.9.0",
          "0.9.1",
          "0.9.2",
          "0.10.0",
          "0.10.1"
         ],
         "xaxis": "x",
         "y": [
          0.20591276804606032,
          0.1967536007477442,
          0.2141136863302659,
          0.21853198207872096,
          0.28598497742310164,
          0.2330280042812199,
          0.2834179037272547,
          0.3108114123233018,
          0.2944032381338585,
          0.27551565867598016,
          0.26475132584931416,
          0.09009289872882667,
          0.0866332237135503,
          0.08853186312394525,
          0.08665299433291776,
          0.06001467863237037,
          0.06155823260688436
         ],
         "yaxis": "y"
        },
        {
         "fillpattern": {
          "shape": ""
         },
         "hovertemplate": "Benchmark Type=CSV Import<br>benchmark=011 Create tables from csvs joins<br>DuckDB Version=%{x}<br>Time Relative to Latest Version=%{y}<extra></extra>",
         "legendgroup": "CSV Import",
         "line": {
          "color": "#636efa"
         },
         "marker": {
          "symbol": "circle"
         },
         "mode": "lines",
         "name": "CSV Import",
         "orientation": "v",
         "showlegend": false,
         "stackgroup": "1",
         "type": "scatter",
         "x": [
          "0.2.7",
          "0.2.8",
          "0.2.9",
          "0.3.0",
          "0.3.1",
          "0.3.2",
          "0.3.4",
          "0.4.0",
          "0.5.1",
          "0.6.1",
          "0.7.1",
          "0.8.1",
          "0.9.0",
          "0.9.1",
          "0.9.2",
          "0.10.0",
          "0.10.1"
         ],
         "xaxis": "x",
         "y": [
          0.3823951087200228,
          0.37342034399006807,
          0.4012885920912829,
          0.41148880862418713,
          0.4306148908364065,
          0.43197582134465323,
          0.5863075145570578,
          0.6352674562114685,
          0.6037351917435637,
          0.5730589524415385,
          0.569293507116551,
          0.2259174130541561,
          0.19735465594935894,
          0.23507289107577914,
          0.17117677929785577,
          0.1385755303699774,
          0.14139897618721167
         ],
         "yaxis": "y"
        },
        {
         "fillpattern": {
          "shape": ""
         },
         "hovertemplate": "Benchmark Type=Scan other formats<br>benchmark=001 Query pandas<br>DuckDB Version=%{x}<br>Time Relative to Latest Version=%{y}<extra></extra>",
         "legendgroup": "Scan other formats",
         "line": {
          "color": "#EF553B"
         },
         "marker": {
          "symbol": "circle"
         },
         "mode": "lines",
         "name": "Scan other formats",
         "orientation": "v",
         "showlegend": true,
         "stackgroup": "1",
         "type": "scatter",
         "x": [
          "0.2.7",
          "0.2.8",
          "0.2.9",
          "0.3.0",
          "0.3.1",
          "0.3.2",
          "0.3.4",
          "0.4.0",
          "0.5.1",
          "0.6.1",
          "0.7.1",
          "0.8.1",
          "0.9.0",
          "0.9.1",
          "0.9.2",
          "0.10.0",
          "0.10.1"
         ],
         "xaxis": "x",
         "y": [
          0.00023710068219297417,
          0.00015531492464549175,
          0.00023712371016502753,
          0.00013259850920623547,
          0.000091380774565562,
          0.00011192499786260169,
          0.00012931107488854644,
          0.00013324996291184103,
          0.0001457854226341646,
          0.00007878863713743803,
          0.00008636020912344646,
          0.00008845269558750737,
          0.00009509660565532801,
          0.00010440126627781897,
          0.00007272896628527724,
          0.00007526930858330611,
          0.00008163352650110027
         ],
         "yaxis": "y"
        },
        {
         "fillpattern": {
          "shape": ""
         },
         "hovertemplate": "Benchmark Type=Scan other formats<br>benchmark=006 Scan and aggregate over Pandas df<br>DuckDB Version=%{x}<br>Time Relative to Latest Version=%{y}<extra></extra>",
         "legendgroup": "Scan other formats",
         "line": {
          "color": "#EF553B"
         },
         "marker": {
          "symbol": "circle"
         },
         "mode": "lines",
         "name": "Scan other formats",
         "orientation": "v",
         "showlegend": false,
         "stackgroup": "1",
         "type": "scatter",
         "x": [
          "0.2.7",
          "0.2.8",
          "0.2.9",
          "0.3.0",
          "0.3.1",
          "0.3.2",
          "0.3.4",
          "0.4.0",
          "0.5.1",
          "0.6.1",
          "0.7.1",
          "0.8.1",
          "0.9.0",
          "0.9.1",
          "0.9.2",
          "0.10.0",
          "0.10.1"
         ],
         "xaxis": "x",
         "y": [
          0.0005196465165022534,
          0.0004672759777112841,
          0.0004696711418112922,
          0.000471908806473072,
          0.00019137044207096437,
          0.00017522010045226678,
          0.00015456783262643537,
          0.0001597919534517917,
          0.00035549258913488037,
          0.00017416854634089894,
          0.00019503494882311702,
          0.0001928451245619592,
          0.00019342932129058074,
          0.0001963945339368078,
          0.00021566597313235362,
          0.00024296210854002397,
          0.000215432294440905
         ],
         "yaxis": "y"
        },
        {
         "fillpattern": {
          "shape": ""
         },
         "hovertemplate": "Benchmark Type=Scan other formats<br>benchmark=008 Scan and aggregate over Parquet file<br>DuckDB Version=%{x}<br>Time Relative to Latest Version=%{y}<extra></extra>",
         "legendgroup": "Scan other formats",
         "line": {
          "color": "#EF553B"
         },
         "marker": {
          "symbol": "circle"
         },
         "mode": "lines",
         "name": "Scan other formats",
         "orientation": "v",
         "showlegend": false,
         "stackgroup": "1",
         "type": "scatter",
         "x": [
          "0.2.7",
          "0.2.8",
          "0.2.9",
          "0.3.0",
          "0.3.1",
          "0.3.2",
          "0.3.4",
          "0.4.0",
          "0.5.1",
          "0.6.1",
          "0.7.1",
          "0.8.1",
          "0.9.0",
          "0.9.1",
          "0.9.2",
          "0.10.0",
          "0.10.1"
         ],
         "xaxis": "x",
         "y": [
          0.00436384508692681,
          0.004264752958031539,
          0.0038949440651084386,
          0.0038677275504042435,
          0.0005947317287636059,
          0.000497696652145303,
          0.00048789455331904716,
          0.00045711622302571924,
          0.0005023295233948839,
          0.0004766584745812634,
          0.0004879405667780779,
          0.0004726665202520107,
          0.00044751950652580487,
          0.0004561425901364447,
          0.0004579766279676777,
          0.0004588422588148969,
          0.0004639601620535056
         ],
         "yaxis": "y"
        },
        {
         "fillpattern": {
          "shape": ""
         },
         "hovertemplate": "Benchmark Type=Scan other formats<br>benchmark=010 Scan and aggregate over Arrow df<br>DuckDB Version=%{x}<br>Time Relative to Latest Version=%{y}<extra></extra>",
         "legendgroup": "Scan other formats",
         "line": {
          "color": "#EF553B"
         },
         "marker": {
          "symbol": "circle"
         },
         "mode": "lines",
         "name": "Scan other formats",
         "orientation": "v",
         "showlegend": false,
         "stackgroup": "1",
         "type": "scatter",
         "x": [
          "0.3.1",
          "0.3.2",
          "0.3.4",
          "0.4.0",
          "0.5.1",
          "0.6.1",
          "0.7.1",
          "0.8.1",
          "0.9.0",
          "0.9.1",
          "0.9.2",
          "0.10.0",
          "0.10.1"
         ],
         "xaxis": "x",
         "y": [
          0.013671747130372424,
          0.022092819080761925,
          0.00014081443956350635,
          0.00016435399881407526,
          0.00016307586134545096,
          0.00018874865212726525,
          0.00019419761434130684,
          0.00019412678845400947,
          0.0001607745086179062,
          0.0001617481415077845,
          0.0001533268288256816,
          0.00023619604824714165,
          0.00015683383613975682
         ],
         "yaxis": "y"
        },
        {
         "fillpattern": {
          "shape": ""
         },
         "hovertemplate": "Benchmark Type=Analysis<br>benchmark=003 Convert to Enums<br>DuckDB Version=%{x}<br>Time Relative to Latest Version=%{y}<extra></extra>",
         "legendgroup": "Analysis",
         "line": {
          "color": "#00cc96"
         },
         "marker": {
          "symbol": "circle"
         },
         "mode": "lines",
         "name": "Analysis",
         "orientation": "v",
         "showlegend": true,
         "stackgroup": "1",
         "type": "scatter",
         "x": [
          "0.6.1",
          "0.7.1",
          "0.8.1",
          "0.9.0",
          "0.9.1",
          "0.9.2",
          "0.10.0",
          "0.10.1"
         ],
         "xaxis": "x",
         "y": [
          0.03641299624101389,
          0.034342208245373956,
          0.04931592101750425,
          0.05043434793729061,
          0.05001428397752682,
          0.050562168439537036,
          0.03856203473300849,
          0.03833407233221058
         ],
         "yaxis": "y"
        },
        {
         "fillpattern": {
          "shape": ""
         },
         "hovertemplate": "Benchmark Type=Analysis<br>benchmark=004 Group by queries<br>DuckDB Version=%{x}<br>Time Relative to Latest Version=%{y}<extra></extra>",
         "legendgroup": "Analysis",
         "line": {
          "color": "#00cc96"
         },
         "marker": {
          "symbol": "circle"
         },
         "mode": "lines",
         "name": "Analysis",
         "orientation": "v",
         "showlegend": false,
         "stackgroup": "1",
         "type": "scatter",
         "x": [
          "0.2.7",
          "0.2.8",
          "0.2.9",
          "0.3.0",
          "0.3.1",
          "0.3.2",
          "0.3.4",
          "0.4.0",
          "0.5.1",
          "0.6.1",
          "0.7.1",
          "0.8.1",
          "0.9.0",
          "0.9.1",
          "0.9.2",
          "0.10.0",
          "0.10.1"
         ],
         "xaxis": "x",
         "y": [
          1.2950349300564794,
          1.0324333472191718,
          0.9111003018457955,
          0.9075241168018079,
          0.3410509149458523,
          0.3437926900604298,
          0.38654073155887997,
          0.3080214126822508,
          0.22460148867949606,
          0.071596477898861,
          0.06891199302429608,
          0.058988652133497424,
          0.05798070034151063,
          0.057121874515270274,
          0.05679753732886213,
          0.05281824417842286,
          0.05265308640988483
         ],
         "yaxis": "y"
        },
        {
         "fillpattern": {
          "shape": ""
         },
         "hovertemplate": "Benchmark Type=Analysis<br>benchmark=012 Convert to Enums for joins<br>DuckDB Version=%{x}<br>Time Relative to Latest Version=%{y}<extra></extra>",
         "legendgroup": "Analysis",
         "line": {
          "color": "#00cc96"
         },
         "marker": {
          "symbol": "circle"
         },
         "mode": "lines",
         "name": "Analysis",
         "orientation": "v",
         "showlegend": false,
         "stackgroup": "1",
         "type": "scatter",
         "x": [
          "0.6.1",
          "0.7.1",
          "0.8.1",
          "0.9.0",
          "0.9.1",
          "0.9.2",
          "0.10.0",
          "0.10.1"
         ],
         "xaxis": "x",
         "y": [
          0.09211283505468276,
          0.07667962500112195,
          0.13355263523643812,
          0.1341276724826005,
          0.1302626339791166,
          0.1385653848059619,
          0.09387135213931258,
          0.09321686061163827
         ],
         "yaxis": "y"
        },
        {
         "fillpattern": {
          "shape": ""
         },
         "hovertemplate": "Benchmark Type=Analysis<br>benchmark=013 Join queries<br>DuckDB Version=%{x}<br>Time Relative to Latest Version=%{y}<extra></extra>",
         "legendgroup": "Analysis",
         "line": {
          "color": "#00cc96"
         },
         "marker": {
          "symbol": "circle"
         },
         "mode": "lines",
         "name": "Analysis",
         "orientation": "v",
         "showlegend": false,
         "stackgroup": "1",
         "type": "scatter",
         "x": [
          "0.2.7",
          "0.2.8",
          "0.2.9",
          "0.3.0",
          "0.3.1",
          "0.3.2",
          "0.3.4",
          "0.4.0",
          "0.5.1",
          "0.6.1",
          "0.7.1",
          "0.8.1",
          "0.9.0",
          "0.9.1",
          "0.9.2",
          "0.10.0",
          "0.10.1"
         ],
         "xaxis": "x",
         "y": [
          1.0121219475617422,
          0.9319795123845589,
          1.017129258833298,
          1.0116718044808175,
          0.9885373113511338,
          1.0455852938175412,
          1.5435172232289172,
          1.694440222341387,
          1.5732084023709252,
          0.25068398729122604,
          0.14937141160444262,
          0.1933190603399797,
          0.1876199327231594,
          0.1862033600894674,
          0.18844258615014178,
          0.14152529014169063,
          0.14090827748959509
         ],
         "yaxis": "y"
        },
        {
         "fillpattern": {
          "shape": ""
         },
         "hovertemplate": "Benchmark Type=Export<br>benchmark=005 Export group by results to Pandas<br>DuckDB Version=%{x}<br>Time Relative to Latest Version=%{y}<extra></extra>",
         "legendgroup": "Export",
         "line": {
          "color": "#ab63fa"
         },
         "marker": {
          "symbol": "circle"
         },
         "mode": "lines",
         "name": "Export",
         "orientation": "v",
         "showlegend": true,
         "stackgroup": "1",
         "type": "scatter",
         "x": [
          "0.2.7",
          "0.2.8",
          "0.2.9",
          "0.3.0",
          "0.3.1",
          "0.3.2",
          "0.3.4",
          "0.4.0",
          "0.5.1",
          "0.6.1",
          "0.7.1",
          "0.8.1",
          "0.9.0",
          "0.9.1",
          "0.9.2",
          "0.10.0",
          "0.10.1"
         ],
         "xaxis": "x",
         "y": [
          0.06735474586084626,
          0.05929825162970735,
          0.0536756502154209,
          0.054033861932297186,
          0.05512270198570701,
          0.055098673783069006,
          0.05286506837471671,
          0.052246536853614245,
          0.05261011077417865,
          0.02782949461459153,
          0.027502464854840033,
          0.028747219919775094,
          0.02859405411681137,
          0.028657414691921654,
          0.028869274506527865,
          0.03164279979983306,
          0.031912532309212
         ],
         "yaxis": "y"
        },
        {
         "fillpattern": {
          "shape": ""
         },
         "hovertemplate": "Benchmark Type=Export<br>benchmark=007 Export group by results to Parquet<br>DuckDB Version=%{x}<br>Time Relative to Latest Version=%{y}<extra></extra>",
         "legendgroup": "Export",
         "line": {
          "color": "#ab63fa"
         },
         "marker": {
          "symbol": "circle"
         },
         "mode": "lines",
         "name": "Export",
         "orientation": "v",
         "showlegend": false,
         "stackgroup": "1",
         "type": "scatter",
         "x": [
          "0.2.7",
          "0.2.8",
          "0.2.9",
          "0.3.0",
          "0.3.1",
          "0.3.2",
          "0.3.4",
          "0.4.0",
          "0.5.1",
          "0.6.1",
          "0.7.1",
          "0.8.1",
          "0.9.0",
          "0.9.1",
          "0.9.2",
          "0.10.0",
          "0.10.1"
         ],
         "xaxis": "x",
         "y": [
          0.08048384327179356,
          0.07972419102209474,
          0.0820989719673186,
          0.08142521078490382,
          0.08181288551845005,
          0.13584842390416615,
          0.13201529851718932,
          0.1315952062185728,
          0.1904641918340825,
          0.1643768338527208,
          0.17546386097713312,
          0.06467498409999307,
          0.06447034177042443,
          0.06501830946453589,
          0.06540538402622822,
          0.06428140192664061,
          0.0633431855069538
         ],
         "yaxis": "y"
        },
        {
         "fillpattern": {
          "shape": ""
         },
         "hovertemplate": "Benchmark Type=Export<br>benchmark=009 Export group by results to Arrow<br>DuckDB Version=%{x}<br>Time Relative to Latest Version=%{y}<extra></extra>",
         "legendgroup": "Export",
         "line": {
          "color": "#ab63fa"
         },
         "marker": {
          "symbol": "circle"
         },
         "mode": "lines",
         "name": "Export",
         "orientation": "v",
         "showlegend": false,
         "stackgroup": "1",
         "type": "scatter",
         "x": [
          "0.3.1",
          "0.3.2",
          "0.3.4",
          "0.4.0",
          "0.5.1",
          "0.6.1",
          "0.7.1",
          "0.8.1",
          "0.9.0",
          "0.9.1",
          "0.9.2",
          "0.10.0",
          "0.10.1"
         ],
         "xaxis": "x",
         "y": [
          0.030349733492386247,
          0.029550603692017133,
          0.7043669693327925,
          0.6407051097787883,
          0.016556595550205357,
          0.012100801424622979,
          0.012346663273288459,
          0.013028208420375553,
          0.012902154698984583,
          0.013193100602458804,
          0.013012082848698084,
          0.015837311294451498,
          0.015906136764413912
         ],
         "yaxis": "y"
        },
        {
         "fillpattern": {
          "shape": ""
         },
         "hovertemplate": "Benchmark Type=Export<br>benchmark=014 Export join results to Pandas<br>DuckDB Version=%{x}<br>Time Relative to Latest Version=%{y}<extra></extra>",
         "legendgroup": "Export",
         "line": {
          "color": "#ab63fa"
         },
         "marker": {
          "symbol": "circle"
         },
         "mode": "lines",
         "name": "Export",
         "orientation": "v",
         "showlegend": false,
         "stackgroup": "1",
         "type": "scatter",
         "x": [
          "0.2.7",
          "0.2.8",
          "0.2.9",
          "0.3.0",
          "0.3.1",
          "0.3.2",
          "0.3.4",
          "0.4.0",
          "0.5.1",
          "0.6.1",
          "0.7.1",
          "0.8.1",
          "0.9.0",
          "0.9.1",
          "0.9.2",
          "0.10.0",
          "0.10.1"
         ],
         "xaxis": "x",
         "y": [
          1.3976947182926325,
          1.3018784654573576,
          1.0776025708582202,
          1.087498665153494,
          1.102003310439603,
          1.4841976944745616,
          1.1295276790603688,
          1.187128339970871,
          1.1272911792652558,
          0.22411357114069155,
          0.22092431726465425,
          0.22817497405480477,
          0.2683348080840162,
          0.2610987526856563,
          0.23702427278651955,
          0.2585367048236444,
          0.26130633018953725
         ],
         "yaxis": "y"
        },
        {
         "fillpattern": {
          "shape": ""
         },
         "hovertemplate": "Benchmark Type=Export<br>benchmark=015 Export join results to Arrow<br>DuckDB Version=%{x}<br>Time Relative to Latest Version=%{y}<extra></extra>",
         "legendgroup": "Export",
         "line": {
          "color": "#ab63fa"
         },
         "marker": {
          "symbol": "circle"
         },
         "mode": "lines",
         "name": "Export",
         "orientation": "v",
         "showlegend": false,
         "stackgroup": "1",
         "type": "scatter",
         "x": [
          "0.3.1",
          "0.3.2",
          "0.3.4",
          "0.4.0",
          "0.5.1",
          "0.6.1",
          "0.7.1",
          "0.8.1",
          "0.9.0",
          "0.9.1",
          "0.9.2",
          "0.10.0",
          "0.10.1"
         ],
         "xaxis": "x",
         "y": [
          0.2993971748267536,
          0.30364627662333743,
          3.9492310630097265,
          3.9489537147418474,
          0.13701991364648916,
          0.07587263862573762,
          0.0755873930802624,
          0.07851840897429112,
          0.08040159725219934,
          0.08010075182712788,
          0.07865874721916716,
          0.10026921800413369,
          0.09854444977332276
         ],
         "yaxis": "y"
        }
       ],
       "layout": {
        "legend": {
         "title": {
          "text": "Benchmark Type"
         },
         "tracegroupgap": 0
        },
        "margin": {
         "t": 60
        },
        "template": {
         "data": {
          "bar": [
           {
            "error_x": {
             "color": "#2a3f5f"
            },
            "error_y": {
             "color": "#2a3f5f"
            },
            "marker": {
             "line": {
              "color": "white",
              "width": 0.5
             },
             "pattern": {
              "fillmode": "overlay",
              "size": 10,
              "solidity": 0.2
             }
            },
            "type": "bar"
           }
          ],
          "barpolar": [
           {
            "marker": {
             "line": {
              "color": "white",
              "width": 0.5
             },
             "pattern": {
              "fillmode": "overlay",
              "size": 10,
              "solidity": 0.2
             }
            },
            "type": "barpolar"
           }
          ],
          "carpet": [
           {
            "aaxis": {
             "endlinecolor": "#2a3f5f",
             "gridcolor": "#C8D4E3",
             "linecolor": "#C8D4E3",
             "minorgridcolor": "#C8D4E3",
             "startlinecolor": "#2a3f5f"
            },
            "baxis": {
             "endlinecolor": "#2a3f5f",
             "gridcolor": "#C8D4E3",
             "linecolor": "#C8D4E3",
             "minorgridcolor": "#C8D4E3",
             "startlinecolor": "#2a3f5f"
            },
            "type": "carpet"
           }
          ],
          "choropleth": [
           {
            "colorbar": {
             "outlinewidth": 0,
             "ticks": ""
            },
            "type": "choropleth"
           }
          ],
          "contour": [
           {
            "colorbar": {
             "outlinewidth": 0,
             "ticks": ""
            },
            "colorscale": [
             [
              0,
              "#0d0887"
             ],
             [
              0.1111111111111111,
              "#46039f"
             ],
             [
              0.2222222222222222,
              "#7201a8"
             ],
             [
              0.3333333333333333,
              "#9c179e"
             ],
             [
              0.4444444444444444,
              "#bd3786"
             ],
             [
              0.5555555555555556,
              "#d8576b"
             ],
             [
              0.6666666666666666,
              "#ed7953"
             ],
             [
              0.7777777777777778,
              "#fb9f3a"
             ],
             [
              0.8888888888888888,
              "#fdca26"
             ],
             [
              1,
              "#f0f921"
             ]
            ],
            "type": "contour"
           }
          ],
          "contourcarpet": [
           {
            "colorbar": {
             "outlinewidth": 0,
             "ticks": ""
            },
            "type": "contourcarpet"
           }
          ],
          "heatmap": [
           {
            "colorbar": {
             "outlinewidth": 0,
             "ticks": ""
            },
            "colorscale": [
             [
              0,
              "#0d0887"
             ],
             [
              0.1111111111111111,
              "#46039f"
             ],
             [
              0.2222222222222222,
              "#7201a8"
             ],
             [
              0.3333333333333333,
              "#9c179e"
             ],
             [
              0.4444444444444444,
              "#bd3786"
             ],
             [
              0.5555555555555556,
              "#d8576b"
             ],
             [
              0.6666666666666666,
              "#ed7953"
             ],
             [
              0.7777777777777778,
              "#fb9f3a"
             ],
             [
              0.8888888888888888,
              "#fdca26"
             ],
             [
              1,
              "#f0f921"
             ]
            ],
            "type": "heatmap"
           }
          ],
          "heatmapgl": [
           {
            "colorbar": {
             "outlinewidth": 0,
             "ticks": ""
            },
            "colorscale": [
             [
              0,
              "#0d0887"
             ],
             [
              0.1111111111111111,
              "#46039f"
             ],
             [
              0.2222222222222222,
              "#7201a8"
             ],
             [
              0.3333333333333333,
              "#9c179e"
             ],
             [
              0.4444444444444444,
              "#bd3786"
             ],
             [
              0.5555555555555556,
              "#d8576b"
             ],
             [
              0.6666666666666666,
              "#ed7953"
             ],
             [
              0.7777777777777778,
              "#fb9f3a"
             ],
             [
              0.8888888888888888,
              "#fdca26"
             ],
             [
              1,
              "#f0f921"
             ]
            ],
            "type": "heatmapgl"
           }
          ],
          "histogram": [
           {
            "marker": {
             "pattern": {
              "fillmode": "overlay",
              "size": 10,
              "solidity": 0.2
             }
            },
            "type": "histogram"
           }
          ],
          "histogram2d": [
           {
            "colorbar": {
             "outlinewidth": 0,
             "ticks": ""
            },
            "colorscale": [
             [
              0,
              "#0d0887"
             ],
             [
              0.1111111111111111,
              "#46039f"
             ],
             [
              0.2222222222222222,
              "#7201a8"
             ],
             [
              0.3333333333333333,
              "#9c179e"
             ],
             [
              0.4444444444444444,
              "#bd3786"
             ],
             [
              0.5555555555555556,
              "#d8576b"
             ],
             [
              0.6666666666666666,
              "#ed7953"
             ],
             [
              0.7777777777777778,
              "#fb9f3a"
             ],
             [
              0.8888888888888888,
              "#fdca26"
             ],
             [
              1,
              "#f0f921"
             ]
            ],
            "type": "histogram2d"
           }
          ],
          "histogram2dcontour": [
           {
            "colorbar": {
             "outlinewidth": 0,
             "ticks": ""
            },
            "colorscale": [
             [
              0,
              "#0d0887"
             ],
             [
              0.1111111111111111,
              "#46039f"
             ],
             [
              0.2222222222222222,
              "#7201a8"
             ],
             [
              0.3333333333333333,
              "#9c179e"
             ],
             [
              0.4444444444444444,
              "#bd3786"
             ],
             [
              0.5555555555555556,
              "#d8576b"
             ],
             [
              0.6666666666666666,
              "#ed7953"
             ],
             [
              0.7777777777777778,
              "#fb9f3a"
             ],
             [
              0.8888888888888888,
              "#fdca26"
             ],
             [
              1,
              "#f0f921"
             ]
            ],
            "type": "histogram2dcontour"
           }
          ],
          "mesh3d": [
           {
            "colorbar": {
             "outlinewidth": 0,
             "ticks": ""
            },
            "type": "mesh3d"
           }
          ],
          "parcoords": [
           {
            "line": {
             "colorbar": {
              "outlinewidth": 0,
              "ticks": ""
             }
            },
            "type": "parcoords"
           }
          ],
          "pie": [
           {
            "automargin": true,
            "type": "pie"
           }
          ],
          "scatter": [
           {
            "fillpattern": {
             "fillmode": "overlay",
             "size": 10,
             "solidity": 0.2
            },
            "type": "scatter"
           }
          ],
          "scatter3d": [
           {
            "line": {
             "colorbar": {
              "outlinewidth": 0,
              "ticks": ""
             }
            },
            "marker": {
             "colorbar": {
              "outlinewidth": 0,
              "ticks": ""
             }
            },
            "type": "scatter3d"
           }
          ],
          "scattercarpet": [
           {
            "marker": {
             "colorbar": {
              "outlinewidth": 0,
              "ticks": ""
             }
            },
            "type": "scattercarpet"
           }
          ],
          "scattergeo": [
           {
            "marker": {
             "colorbar": {
              "outlinewidth": 0,
              "ticks": ""
             }
            },
            "type": "scattergeo"
           }
          ],
          "scattergl": [
           {
            "marker": {
             "colorbar": {
              "outlinewidth": 0,
              "ticks": ""
             }
            },
            "type": "scattergl"
           }
          ],
          "scattermapbox": [
           {
            "marker": {
             "colorbar": {
              "outlinewidth": 0,
              "ticks": ""
             }
            },
            "type": "scattermapbox"
           }
          ],
          "scatterpolar": [
           {
            "marker": {
             "colorbar": {
              "outlinewidth": 0,
              "ticks": ""
             }
            },
            "type": "scatterpolar"
           }
          ],
          "scatterpolargl": [
           {
            "marker": {
             "colorbar": {
              "outlinewidth": 0,
              "ticks": ""
             }
            },
            "type": "scatterpolargl"
           }
          ],
          "scatterternary": [
           {
            "marker": {
             "colorbar": {
              "outlinewidth": 0,
              "ticks": ""
             }
            },
            "type": "scatterternary"
           }
          ],
          "surface": [
           {
            "colorbar": {
             "outlinewidth": 0,
             "ticks": ""
            },
            "colorscale": [
             [
              0,
              "#0d0887"
             ],
             [
              0.1111111111111111,
              "#46039f"
             ],
             [
              0.2222222222222222,
              "#7201a8"
             ],
             [
              0.3333333333333333,
              "#9c179e"
             ],
             [
              0.4444444444444444,
              "#bd3786"
             ],
             [
              0.5555555555555556,
              "#d8576b"
             ],
             [
              0.6666666666666666,
              "#ed7953"
             ],
             [
              0.7777777777777778,
              "#fb9f3a"
             ],
             [
              0.8888888888888888,
              "#fdca26"
             ],
             [
              1,
              "#f0f921"
             ]
            ],
            "type": "surface"
           }
          ],
          "table": [
           {
            "cells": {
             "fill": {
              "color": "#EBF0F8"
             },
             "line": {
              "color": "white"
             }
            },
            "header": {
             "fill": {
              "color": "#C8D4E3"
             },
             "line": {
              "color": "white"
             }
            },
            "type": "table"
           }
          ]
         },
         "layout": {
          "annotationdefaults": {
           "arrowcolor": "#2a3f5f",
           "arrowhead": 0,
           "arrowwidth": 1
          },
          "autotypenumbers": "strict",
          "coloraxis": {
           "colorbar": {
            "outlinewidth": 0,
            "ticks": ""
           }
          },
          "colorscale": {
           "diverging": [
            [
             0,
             "#8e0152"
            ],
            [
             0.1,
             "#c51b7d"
            ],
            [
             0.2,
             "#de77ae"
            ],
            [
             0.3,
             "#f1b6da"
            ],
            [
             0.4,
             "#fde0ef"
            ],
            [
             0.5,
             "#f7f7f7"
            ],
            [
             0.6,
             "#e6f5d0"
            ],
            [
             0.7,
             "#b8e186"
            ],
            [
             0.8,
             "#7fbc41"
            ],
            [
             0.9,
             "#4d9221"
            ],
            [
             1,
             "#276419"
            ]
           ],
           "sequential": [
            [
             0,
             "#0d0887"
            ],
            [
             0.1111111111111111,
             "#46039f"
            ],
            [
             0.2222222222222222,
             "#7201a8"
            ],
            [
             0.3333333333333333,
             "#9c179e"
            ],
            [
             0.4444444444444444,
             "#bd3786"
            ],
            [
             0.5555555555555556,
             "#d8576b"
            ],
            [
             0.6666666666666666,
             "#ed7953"
            ],
            [
             0.7777777777777778,
             "#fb9f3a"
            ],
            [
             0.8888888888888888,
             "#fdca26"
            ],
            [
             1,
             "#f0f921"
            ]
           ],
           "sequentialminus": [
            [
             0,
             "#0d0887"
            ],
            [
             0.1111111111111111,
             "#46039f"
            ],
            [
             0.2222222222222222,
             "#7201a8"
            ],
            [
             0.3333333333333333,
             "#9c179e"
            ],
            [
             0.4444444444444444,
             "#bd3786"
            ],
            [
             0.5555555555555556,
             "#d8576b"
            ],
            [
             0.6666666666666666,
             "#ed7953"
            ],
            [
             0.7777777777777778,
             "#fb9f3a"
            ],
            [
             0.8888888888888888,
             "#fdca26"
            ],
            [
             1,
             "#f0f921"
            ]
           ]
          },
          "colorway": [
           "#636efa",
           "#EF553B",
           "#00cc96",
           "#ab63fa",
           "#FFA15A",
           "#19d3f3",
           "#FF6692",
           "#B6E880",
           "#FF97FF",
           "#FECB52"
          ],
          "font": {
           "color": "#2a3f5f"
          },
          "geo": {
           "bgcolor": "white",
           "lakecolor": "white",
           "landcolor": "white",
           "showlakes": true,
           "showland": true,
           "subunitcolor": "#C8D4E3"
          },
          "hoverlabel": {
           "align": "left"
          },
          "hovermode": "closest",
          "mapbox": {
           "style": "light"
          },
          "paper_bgcolor": "white",
          "plot_bgcolor": "white",
          "polar": {
           "angularaxis": {
            "gridcolor": "#EBF0F8",
            "linecolor": "#EBF0F8",
            "ticks": ""
           },
           "bgcolor": "white",
           "radialaxis": {
            "gridcolor": "#EBF0F8",
            "linecolor": "#EBF0F8",
            "ticks": ""
           }
          },
          "scene": {
           "xaxis": {
            "backgroundcolor": "white",
            "gridcolor": "#DFE8F3",
            "gridwidth": 2,
            "linecolor": "#EBF0F8",
            "showbackground": true,
            "ticks": "",
            "zerolinecolor": "#EBF0F8"
           },
           "yaxis": {
            "backgroundcolor": "white",
            "gridcolor": "#DFE8F3",
            "gridwidth": 2,
            "linecolor": "#EBF0F8",
            "showbackground": true,
            "ticks": "",
            "zerolinecolor": "#EBF0F8"
           },
           "zaxis": {
            "backgroundcolor": "white",
            "gridcolor": "#DFE8F3",
            "gridwidth": 2,
            "linecolor": "#EBF0F8",
            "showbackground": true,
            "ticks": "",
            "zerolinecolor": "#EBF0F8"
           }
          },
          "shapedefaults": {
           "line": {
            "color": "#2a3f5f"
           }
          },
          "ternary": {
           "aaxis": {
            "gridcolor": "#DFE8F3",
            "linecolor": "#A2B1C6",
            "ticks": ""
           },
           "baxis": {
            "gridcolor": "#DFE8F3",
            "linecolor": "#A2B1C6",
            "ticks": ""
           },
           "bgcolor": "white",
           "caxis": {
            "gridcolor": "#DFE8F3",
            "linecolor": "#A2B1C6",
            "ticks": ""
           }
          },
          "title": {
           "x": 0.05
          },
          "xaxis": {
           "automargin": true,
           "gridcolor": "#EBF0F8",
           "linecolor": "#EBF0F8",
           "ticks": "",
           "title": {
            "standoff": 15
           },
           "zerolinecolor": "#EBF0F8",
           "zerolinewidth": 2
          },
          "yaxis": {
           "automargin": true,
           "gridcolor": "#EBF0F8",
           "linecolor": "#EBF0F8",
           "ticks": "",
           "title": {
            "standoff": 15
           },
           "zerolinecolor": "#EBF0F8",
           "zerolinewidth": 2
          }
         }
        },
        "xaxis": {
         "anchor": "y",
         "domain": [
          0,
          1
         ],
         "title": {
          "text": "DuckDB Version"
         }
        },
        "yaxis": {
         "anchor": "x",
         "domain": [
          0,
          1
         ],
         "title": {
          "text": "Time Relative to Latest Version"
         }
        }
       }
      }
     },
     "metadata": {},
     "output_type": "display_data"
    }
   ],
   "source": [
    "fig = px.area(\n",
    "    results,\n",
    "    x=\"DuckDB Version\",\n",
    "    y=\"Time Relative to Latest Version\",\n",
    "    color=\"Benchmark Type\",\n",
    "    line_group=\"benchmark\",\n",
    "    category_orders={\"Benchmark Type\":[\"CSV Import\",\"Scan other formats\",\"Analysis\",\"Export\"]},\n",
    "    template='plotly_white'\n",
    ")\n",
    "fig.show()"
   ]
  },
  {
   "cell_type": "code",
   "execution_count": 8,
   "metadata": {},
   "outputs": [],
   "source": [
    "# Pandas or Arrow\n",
    "# Pick either Arrow or Pandas for import/export depending on which is faster for each version\n",
    "pandas_or_arrow = con.sql(\"\"\"\n",
    "    with version_ranks as (\n",
    "        from duckdb_results\n",
    "        select distinct\n",
    "            (scenario::json ->> 'duckdb_version').replace('v','') as version,\n",
    "            version.string_split('.') as split_version,\n",
    "            try_cast(split_version[1] as int) * 100 * 100 as first_digit,\n",
    "            try_cast(split_version[2] as int) * 100 as second_digit,\n",
    "            try_cast(split_version[3] as int) as third_digit,\n",
    "            first_digit + second_digit + third_digit as version_rank,\n",
    "    ), max_version as (\n",
    "        from version_ranks\n",
    "        select \n",
    "            max(version_rank),\n",
    "            arg_max(version, version_rank) as max_version\n",
    "    ), median_results as (\n",
    "        from duckdb_results\n",
    "        select \n",
    "            run_id,\n",
    "            min(repeat_id) as repeat_id,\n",
    "            benchmark,\n",
    "            scenario,\n",
    "            (scenario::json ->> 'duckdb_version').replace('v','') as version,\n",
    "            median(time) as time,\n",
    "        where \n",
    "            benchmark != '001 Query pandas'\n",
    "        group by all            \n",
    "    )\n",
    "    from median_results\n",
    "    join max_version on 1=1\n",
    "    join version_ranks on median_results.version = version_ranks.version \n",
    "    select \n",
    "        median_results.* exclude (time, version),\n",
    "        version_ranks.version_rank,\n",
    "        time as \"Time (seconds)\",\n",
    "        version_ranks.version as \"DuckDB Version\",\n",
    "        case when (benchmark ilike '%queries%' or benchmark ilike '%enums%') and benchmark ilike '%join%' then 'Analysis - Join'\n",
    "             when (benchmark ilike '%queries%' or benchmark ilike '%enums%') and benchmark not ilike '%join%' then 'Analysis - Group By'\n",
    "             when benchmark ilike '%csv%' then 'CSV Import' \n",
    "             when benchmark ilike '%scan%' or benchmark ilike '%query pandas%' then 'Scan other formats' \n",
    "             when benchmark ilike '%export%' then 'Export'\n",
    "             when benchmark ilike '%window%' then 'Window Functions' \n",
    "        end as benchmark_type,\n",
    "        case when benchmark_type = 'CSV Import' then 1\n",
    "             when benchmark_type = 'Scan other formats' then 2\n",
    "             when benchmark_type = 'Analysis - Group By' then 3\n",
    "             when benchmark_type = 'Analysis - Join' then 4\n",
    "             when benchmark_type = 'Window Functions' then 5\n",
    "             when benchmark_type = 'Export' then 6\n",
    "             end as benchmark_type_order,\n",
    "        benchmark_type as \"Benchmark Type\",\n",
    "        sum(time) over (partition by \"DuckDB Version\") as total_time_by_version,\n",
    "        sum(case when (scenario::json ->> 'duckdb_version').replace('v','') = max_version.max_version then time else 0 end) over () as total_time_max_version,\n",
    "        time / total_time_max_version as \"Time Relative to Latest Version\",\n",
    "        case when benchmark ilike '%pandas%' then 'Pandas' \n",
    "             when benchmark ilike '%arrow%' then 'Arrow'\n",
    "             end as pandas_or_arrow\n",
    "    where \n",
    "        (version_rank < 501 and (pandas_or_arrow is null OR pandas_or_arrow = 'Pandas'))\n",
    "        OR (version_rank >= 501 and (pandas_or_arrow is null OR pandas_or_arrow = 'Arrow'))\n",
    "    order by benchmark, run_id, version_rank, repeat_id\"\"\").df()\n",
    "# pandas_or_arrow"
   ]
  },
  {
   "cell_type": "code",
   "execution_count": 9,
   "metadata": {},
   "outputs": [],
   "source": [
    "# We need to fix plotly's ordering issue when we filter down to just analysis\n",
    "pandas_or_arrow_with_placeholders = con.sql(\"\"\"\n",
    "    \n",
    "    with version_ranks as (\n",
    "        from duckdb_results\n",
    "        select distinct\n",
    "            (scenario::json ->> 'duckdb_version').replace('v','') as version,\n",
    "            version.string_split('.') as split_version,\n",
    "            try_cast(split_version[1] as int) * 100 * 100 as first_digit,\n",
    "            try_cast(split_version[2] as int) * 100 as second_digit,\n",
    "            try_cast(split_version[3] as int) as third_digit,\n",
    "            first_digit + second_digit + third_digit as version_rank,\n",
    "    ), placeholder as (\n",
    "        from duckdb_results\n",
    "        join version_ranks on version_ranks.version = (duckdb_results.scenario::json ->> 'duckdb_version').replace('v','')\n",
    "        join (select distinct \"Benchmark Type\" from pandas_or_arrow) benchmark_types on 1=1\n",
    "        select \n",
    "            0 as run_id,\n",
    "            min(repeat_id) as repeat_id,\n",
    "            '000 Placeholder for charting' as benchmark,\n",
    "            scenario,\n",
    "            (scenario::json ->> 'duckdb_version').replace('v','') as \"DuckDB Version\",\n",
    "            0 as \"Time (seconds)\",\n",
    "            0 as \"Time Relative to Latest Version\",   \n",
    "            version_ranks.version_rank,\n",
    "            \"Benchmark Type\" \n",
    "        group by all\n",
    "    ), unioned_with_placeholder as (\n",
    "        from pandas_or_arrow\n",
    "        union all by name\n",
    "        from placeholder   \n",
    "    )\n",
    "    from unioned_with_placeholder\n",
    "    order by benchmark, run_id, version_rank, repeat_id\n",
    "              \n",
    "\"\"\").df()\n",
    "# pandas_or_arrow_with_placeholders"
   ]
  },
  {
   "cell_type": "code",
   "execution_count": 10,
   "metadata": {},
   "outputs": [
    {
     "data": {
      "application/vnd.plotly.v1+json": {
       "config": {
        "plotlyServerURL": "https://plot.ly"
       },
       "data": [
        {
         "fillpattern": {
          "shape": ""
         },
         "hovertemplate": "Benchmark Type=CSV Import<br>benchmark=000 Placeholder for charting<br>DuckDB Version=%{x}<br>Time (seconds)=%{y}<extra></extra>",
         "legendgroup": "CSV Import",
         "line": {
          "color": "#4C78A8"
         },
         "marker": {
          "symbol": "circle"
         },
         "mode": "lines",
         "name": "CSV Import",
         "orientation": "v",
         "showlegend": true,
         "stackgroup": "1",
         "type": "scatter",
         "x": [
          "0.2.7",
          "0.2.8",
          "0.2.9",
          "0.3.0",
          "0.3.1",
          "0.3.2",
          "0.3.4",
          "0.4.0",
          "0.5.1",
          "0.6.1",
          "0.7.1",
          "0.8.1",
          "0.9.0",
          "0.9.1",
          "0.9.2",
          "0.10.0",
          "0.10.1"
         ],
         "xaxis": "x",
         "y": [
          0,
          0,
          0,
          0,
          0,
          0,
          0,
          0,
          0,
          0,
          0,
          0,
          0,
          0,
          0,
          0,
          0
         ],
         "yaxis": "y"
        },
        {
         "fillpattern": {
          "shape": ""
         },
         "hovertemplate": "Benchmark Type=CSV Import<br>benchmark=002 Create table from csv<br>DuckDB Version=%{x}<br>Time (seconds)=%{y}<extra></extra>",
         "legendgroup": "CSV Import",
         "line": {
          "color": "#4C78A8"
         },
         "marker": {
          "symbol": "circle"
         },
         "mode": "lines",
         "name": "CSV Import",
         "orientation": "v",
         "showlegend": false,
         "stackgroup": "1",
         "type": "scatter",
         "x": [
          "0.2.7",
          "0.2.8",
          "0.2.9",
          "0.3.0",
          "0.3.1",
          "0.3.2",
          "0.3.4",
          "0.4.0",
          "0.5.1",
          "0.6.1",
          "0.7.1",
          "0.8.1",
          "0.9.0",
          "0.9.1",
          "0.9.2",
          "0.10.0",
          "0.10.1"
         ],
         "xaxis": "x",
         "y": [
          4.846484791999998,
          4.630909209,
          5.039506459000009,
          5.143498083000011,
          6.731111708,
          5.484685042000001,
          6.670691541999986,
          7.315441374999978,
          6.929248874999999,
          6.484699625000005,
          6.231343916,
          2.120479792000001,
          2.039050833,
          2.0837383339999995,
          2.0395161659999985,
          1.412541000000001,
          1.448871
         ],
         "yaxis": "y"
        },
        {
         "fillpattern": {
          "shape": ""
         },
         "hovertemplate": "Benchmark Type=CSV Import<br>benchmark=011 Create tables from csvs joins<br>DuckDB Version=%{x}<br>Time (seconds)=%{y}<extra></extra>",
         "legendgroup": "CSV Import",
         "line": {
          "color": "#4C78A8"
         },
         "marker": {
          "symbol": "circle"
         },
         "mode": "lines",
         "name": "CSV Import",
         "orientation": "v",
         "showlegend": false,
         "stackgroup": "1",
         "type": "scatter",
         "x": [
          "0.2.7",
          "0.2.8",
          "0.2.9",
          "0.3.0",
          "0.3.1",
          "0.3.2",
          "0.3.4",
          "0.4.0",
          "0.5.1",
          "0.6.1",
          "0.7.1",
          "0.8.1",
          "0.9.0",
          "0.9.1",
          "0.9.2",
          "0.10.0",
          "0.10.1"
         ],
         "xaxis": "x",
         "y": [
          9.000277625000024,
          8.789042249999994,
          9.444965832999998,
          9.685044167000001,
          10.135206959000001,
          10.167238625,
          13.799680708000004,
          14.952030874999998,
          14.209868834000005,
          13.487854708,
          13.399228957999995,
          5.317325958,
          4.645055999999997,
          5.532814708000004,
          4.028918000000004,
          3.261595707999998,
          3.328050000000001
         ],
         "yaxis": "y"
        },
        {
         "fillpattern": {
          "shape": ""
         },
         "hovertemplate": "Benchmark Type=Scan other formats<br>benchmark=000 Placeholder for charting<br>DuckDB Version=%{x}<br>Time (seconds)=%{y}<extra></extra>",
         "legendgroup": "Scan other formats",
         "line": {
          "color": "#F58518"
         },
         "marker": {
          "symbol": "circle"
         },
         "mode": "lines",
         "name": "Scan other formats",
         "orientation": "v",
         "showlegend": true,
         "stackgroup": "1",
         "type": "scatter",
         "x": [
          "0.2.7",
          "0.2.8",
          "0.2.9",
          "0.3.0",
          "0.3.1",
          "0.3.2",
          "0.3.4",
          "0.4.0",
          "0.5.1",
          "0.6.1",
          "0.7.1",
          "0.8.1",
          "0.9.0",
          "0.9.1",
          "0.9.2",
          "0.10.0",
          "0.10.1"
         ],
         "xaxis": "x",
         "y": [
          0,
          0,
          0,
          0,
          0,
          0,
          0,
          0,
          0,
          0,
          0,
          0,
          0,
          0,
          0,
          0,
          0
         ],
         "yaxis": "y"
        },
        {
         "fillpattern": {
          "shape": ""
         },
         "hovertemplate": "Benchmark Type=Scan other formats<br>benchmark=006 Scan and aggregate over Pandas df<br>DuckDB Version=%{x}<br>Time (seconds)=%{y}<extra></extra>",
         "legendgroup": "Scan other formats",
         "line": {
          "color": "#F58518"
         },
         "marker": {
          "symbol": "circle"
         },
         "mode": "lines",
         "name": "Scan other formats",
         "orientation": "v",
         "showlegend": false,
         "stackgroup": "1",
         "type": "scatter",
         "x": [
          "0.2.7",
          "0.2.8",
          "0.2.9",
          "0.3.0",
          "0.3.1",
          "0.3.2",
          "0.3.4",
          "0.4.0"
         ],
         "xaxis": "x",
         "y": [
          0.012230708000004142,
          0.01099808400000768,
          0.01105445800000382,
          0.011107124999995222,
          0.004504208000000176,
          0.0041240840000007495,
          0.003638000000023567,
          0.00376095800001508
         ],
         "yaxis": "y"
        },
        {
         "fillpattern": {
          "shape": ""
         },
         "hovertemplate": "Benchmark Type=Scan other formats<br>benchmark=008 Scan and aggregate over Parquet file<br>DuckDB Version=%{x}<br>Time (seconds)=%{y}<extra></extra>",
         "legendgroup": "Scan other formats",
         "line": {
          "color": "#F58518"
         },
         "marker": {
          "symbol": "circle"
         },
         "mode": "lines",
         "name": "Scan other formats",
         "orientation": "v",
         "showlegend": false,
         "stackgroup": "1",
         "type": "scatter",
         "x": [
          "0.2.7",
          "0.2.8",
          "0.2.9",
          "0.3.0",
          "0.3.1",
          "0.3.2",
          "0.3.4",
          "0.4.0",
          "0.5.1",
          "0.6.1",
          "0.7.1",
          "0.8.1",
          "0.9.0",
          "0.9.1",
          "0.9.2",
          "0.10.0",
          "0.10.1"
         ],
         "xaxis": "x",
         "y": [
          0.1027100410000017,
          0.10037775000000693,
          0.09167370899999838,
          0.09103312500000271,
          0.01399795800000092,
          0.011714083000001096,
          0.011483374999997409,
          0.01075895799999671,
          0.011823125000006485,
          0.011218915999998913,
          0.011484458000005304,
          0.01112495899999999,
          0.010533083999995085,
          0.010736042000004886,
          0.010779208999998957,
          0.010799583000000723,
          0.010920040999998548
         ],
         "yaxis": "y"
        },
        {
         "fillpattern": {
          "shape": ""
         },
         "hovertemplate": "Benchmark Type=Scan other formats<br>benchmark=010 Scan and aggregate over Arrow df<br>DuckDB Version=%{x}<br>Time (seconds)=%{y}<extra></extra>",
         "legendgroup": "Scan other formats",
         "line": {
          "color": "#F58518"
         },
         "marker": {
          "symbol": "circle"
         },
         "mode": "lines",
         "name": "Scan other formats",
         "orientation": "v",
         "showlegend": false,
         "stackgroup": "1",
         "type": "scatter",
         "x": [
          "0.5.1",
          "0.6.1",
          "0.7.1",
          "0.8.1",
          "0.9.0",
          "0.9.1",
          "0.9.2",
          "0.10.0",
          "0.10.1"
         ],
         "xaxis": "x",
         "y": [
          0.0038382500000011532,
          0.0044425000000032355,
          0.004570750000006285,
          0.004569082999999807,
          0.0037840839999958575,
          0.003807000000001892,
          0.0036087909999977796,
          0.005559250000001015,
          0.0036913339999991024
         ],
         "yaxis": "y"
        },
        {
         "fillpattern": {
          "shape": ""
         },
         "hovertemplate": "Benchmark Type=Analysis - Group By<br>benchmark=000 Placeholder for charting<br>DuckDB Version=%{x}<br>Time (seconds)=%{y}<extra></extra>",
         "legendgroup": "Analysis - Group By",
         "line": {
          "color": "#E45756"
         },
         "marker": {
          "symbol": "circle"
         },
         "mode": "lines",
         "name": "Analysis - Group By",
         "orientation": "v",
         "showlegend": true,
         "stackgroup": "1",
         "type": "scatter",
         "x": [
          "0.2.7",
          "0.2.8",
          "0.2.9",
          "0.3.0",
          "0.3.1",
          "0.3.2",
          "0.3.4",
          "0.4.0",
          "0.5.1",
          "0.6.1",
          "0.7.1",
          "0.8.1",
          "0.9.0",
          "0.9.1",
          "0.9.2",
          "0.10.0",
          "0.10.1"
         ],
         "xaxis": "x",
         "y": [
          0,
          0,
          0,
          0,
          0,
          0,
          0,
          0,
          0,
          0,
          0,
          0,
          0,
          0,
          0,
          0,
          0
         ],
         "yaxis": "y"
        },
        {
         "fillpattern": {
          "shape": ""
         },
         "hovertemplate": "Benchmark Type=Analysis - Group By<br>benchmark=003 Convert to Enums<br>DuckDB Version=%{x}<br>Time (seconds)=%{y}<extra></extra>",
         "legendgroup": "Analysis - Group By",
         "line": {
          "color": "#E45756"
         },
         "marker": {
          "symbol": "circle"
         },
         "mode": "lines",
         "name": "Analysis - Group By",
         "orientation": "v",
         "showlegend": false,
         "stackgroup": "1",
         "type": "scatter",
         "x": [
          "0.6.1",
          "0.7.1",
          "0.8.1",
          "0.9.0",
          "0.9.1",
          "0.9.2",
          "0.10.0",
          "0.10.1"
         ],
         "xaxis": "x",
         "y": [
          0.8570378329999988,
          0.8082985409999992,
          1.1607287080000006,
          1.1870526659999996,
          1.1771657920000003,
          1.1900611249999997,
          0.9076188750000007,
          0.9022534170000007
         ],
         "yaxis": "y"
        },
        {
         "fillpattern": {
          "shape": ""
         },
         "hovertemplate": "Benchmark Type=Analysis - Group By<br>benchmark=004 Group by queries<br>DuckDB Version=%{x}<br>Time (seconds)=%{y}<extra></extra>",
         "legendgroup": "Analysis - Group By",
         "line": {
          "color": "#E45756"
         },
         "marker": {
          "symbol": "circle"
         },
         "mode": "lines",
         "name": "Analysis - Group By",
         "orientation": "v",
         "showlegend": false,
         "stackgroup": "1",
         "type": "scatter",
         "x": [
          "0.2.7",
          "0.2.8",
          "0.2.9",
          "0.3.0",
          "0.3.1",
          "0.3.2",
          "0.3.4",
          "0.4.0",
          "0.5.1",
          "0.6.1",
          "0.7.1",
          "0.8.1",
          "0.9.0",
          "0.9.1",
          "0.9.2",
          "0.10.0",
          "0.10.1"
         ],
         "xaxis": "x",
         "y": [
          30.480708666999988,
          24.299962375000007,
          21.444196000000005,
          21.36002479199999,
          8.027176208,
          8.091708249999996,
          9.097851458,
          7.249774291999984,
          5.286353582999993,
          1.6851370830000008,
          1.6219534580000072,
          1.388391833,
          1.364668082999998,
          1.3444542499999983,
          1.3368204580000018,
          1.2431614589999995,
          1.2392742079999977
         ],
         "yaxis": "y"
        },
        {
         "fillpattern": {
          "shape": ""
         },
         "hovertemplate": "Benchmark Type=Analysis - Join<br>benchmark=000 Placeholder for charting<br>DuckDB Version=%{x}<br>Time (seconds)=%{y}<extra></extra>",
         "legendgroup": "Analysis - Join",
         "line": {
          "color": "#72B7B2"
         },
         "marker": {
          "symbol": "circle"
         },
         "mode": "lines",
         "name": "Analysis - Join",
         "orientation": "v",
         "showlegend": true,
         "stackgroup": "1",
         "type": "scatter",
         "x": [
          "0.2.7",
          "0.2.8",
          "0.2.9",
          "0.3.0",
          "0.3.1",
          "0.3.2",
          "0.3.4",
          "0.4.0",
          "0.5.1",
          "0.6.1",
          "0.7.1",
          "0.8.1",
          "0.9.0",
          "0.9.1",
          "0.9.2",
          "0.10.0",
          "0.10.1"
         ],
         "xaxis": "x",
         "y": [
          0,
          0,
          0,
          0,
          0,
          0,
          0,
          0,
          0,
          0,
          0,
          0,
          0,
          0,
          0,
          0,
          0
         ],
         "yaxis": "y"
        },
        {
         "fillpattern": {
          "shape": ""
         },
         "hovertemplate": "Benchmark Type=Analysis - Join<br>benchmark=012 Convert to Enums for joins<br>DuckDB Version=%{x}<br>Time (seconds)=%{y}<extra></extra>",
         "legendgroup": "Analysis - Join",
         "line": {
          "color": "#72B7B2"
         },
         "marker": {
          "symbol": "circle"
         },
         "mode": "lines",
         "name": "Analysis - Join",
         "orientation": "v",
         "showlegend": false,
         "stackgroup": "1",
         "type": "scatter",
         "x": [
          "0.6.1",
          "0.7.1",
          "0.8.1",
          "0.9.0",
          "0.9.1",
          "0.9.2",
          "0.10.0",
          "0.10.1"
         ],
         "xaxis": "x",
         "y": [
          2.168022209,
          1.8047770419999978,
          3.143373874999998,
          3.156908291999997,
          3.065938458000005,
          3.261356915999997,
          2.2094117080000046,
          2.1940072080000004
         ],
         "yaxis": "y"
        },
        {
         "fillpattern": {
          "shape": ""
         },
         "hovertemplate": "Benchmark Type=Analysis - Join<br>benchmark=013 Join queries<br>DuckDB Version=%{x}<br>Time (seconds)=%{y}<extra></extra>",
         "legendgroup": "Analysis - Join",
         "line": {
          "color": "#72B7B2"
         },
         "marker": {
          "symbol": "circle"
         },
         "mode": "lines",
         "name": "Analysis - Join",
         "orientation": "v",
         "showlegend": false,
         "stackgroup": "1",
         "type": "scatter",
         "x": [
          "0.2.7",
          "0.2.8",
          "0.2.9",
          "0.3.0",
          "0.3.1",
          "0.3.2",
          "0.3.4",
          "0.4.0",
          "0.5.1",
          "0.6.1",
          "0.7.1",
          "0.8.1",
          "0.9.0",
          "0.9.1",
          "0.9.2",
          "0.10.0",
          "0.10.1"
         ],
         "xaxis": "x",
         "y": [
          23.821901249999996,
          21.935621458000007,
          23.939756292,
          23.811306416000008,
          23.266799292,
          24.609514375000003,
          36.32913500000001,
          39.88134804099997,
          37.02796416699999,
          5.900246709000001,
          3.5156939590000036,
          4.5500718330000005,
          4.415933791999997,
          4.382592499999998,
          4.435296250000002,
          3.3310229999999947,
          3.316500624999996
         ],
         "yaxis": "y"
        },
        {
         "fillpattern": {
          "shape": ""
         },
         "hovertemplate": "Benchmark Type=Export<br>benchmark=000 Placeholder for charting<br>DuckDB Version=%{x}<br>Time (seconds)=%{y}<extra></extra>",
         "legendgroup": "Export",
         "line": {
          "color": "#EECA3B"
         },
         "marker": {
          "symbol": "circle"
         },
         "mode": "lines",
         "name": "Export",
         "orientation": "v",
         "showlegend": true,
         "stackgroup": "1",
         "type": "scatter",
         "x": [
          "0.2.7",
          "0.2.8",
          "0.2.9",
          "0.3.0",
          "0.3.1",
          "0.3.2",
          "0.3.4",
          "0.4.0",
          "0.5.1",
          "0.6.1",
          "0.7.1",
          "0.8.1",
          "0.9.0",
          "0.9.1",
          "0.9.2",
          "0.10.0",
          "0.10.1"
         ],
         "xaxis": "x",
         "y": [
          0,
          0,
          0,
          0,
          0,
          0,
          0,
          0,
          0,
          0,
          0,
          0,
          0,
          0,
          0,
          0,
          0
         ],
         "yaxis": "y"
        },
        {
         "fillpattern": {
          "shape": ""
         },
         "hovertemplate": "Benchmark Type=Export<br>benchmark=005 Export group by results to Pandas<br>DuckDB Version=%{x}<br>Time (seconds)=%{y}<extra></extra>",
         "legendgroup": "Export",
         "line": {
          "color": "#EECA3B"
         },
         "marker": {
          "symbol": "circle"
         },
         "mode": "lines",
         "name": "Export",
         "orientation": "v",
         "showlegend": false,
         "stackgroup": "1",
         "type": "scatter",
         "x": [
          "0.2.7",
          "0.2.8",
          "0.2.9",
          "0.3.0",
          "0.3.1",
          "0.3.2",
          "0.3.4",
          "0.4.0"
         ],
         "xaxis": "x",
         "y": [
          1.585301166999983,
          1.3956787500000019,
          1.2633418749999947,
          1.2717729579999997,
          1.2974005419999912,
          1.2968350000000015,
          1.2442635410000094,
          1.2297054170000195
         ],
         "yaxis": "y"
        },
        {
         "fillpattern": {
          "shape": ""
         },
         "hovertemplate": "Benchmark Type=Export<br>benchmark=007 Export group by results to Parquet<br>DuckDB Version=%{x}<br>Time (seconds)=%{y}<extra></extra>",
         "legendgroup": "Export",
         "line": {
          "color": "#EECA3B"
         },
         "marker": {
          "symbol": "circle"
         },
         "mode": "lines",
         "name": "Export",
         "orientation": "v",
         "showlegend": false,
         "stackgroup": "1",
         "type": "scatter",
         "x": [
          "0.2.7",
          "0.2.8",
          "0.2.9",
          "0.3.0",
          "0.3.1",
          "0.3.2",
          "0.3.4",
          "0.4.0",
          "0.5.1",
          "0.6.1",
          "0.7.1",
          "0.8.1",
          "0.9.0",
          "0.9.1",
          "0.9.2",
          "0.10.0",
          "0.10.1"
         ],
         "xaxis": "x",
         "y": [
          1.8943153749999908,
          1.8764357499999988,
          1.9323300000000003,
          1.9164719579999883,
          1.9255964999999975,
          3.1974089159999863,
          3.10719020800002,
          3.097302667000008,
          4.482877958000003,
          3.868870459,
          4.129821292000003,
          1.522228708,
          1.517412124999999,
          1.5303094169999998,
          1.5394198330000037,
          1.5129651249999974,
          1.490882708
         ],
         "yaxis": "y"
        },
        {
         "fillpattern": {
          "shape": ""
         },
         "hovertemplate": "Benchmark Type=Export<br>benchmark=009 Export group by results to Arrow<br>DuckDB Version=%{x}<br>Time (seconds)=%{y}<extra></extra>",
         "legendgroup": "Export",
         "line": {
          "color": "#EECA3B"
         },
         "marker": {
          "symbol": "circle"
         },
         "mode": "lines",
         "name": "Export",
         "orientation": "v",
         "showlegend": false,
         "stackgroup": "1",
         "type": "scatter",
         "x": [
          "0.5.1",
          "0.6.1",
          "0.7.1",
          "0.8.1",
          "0.9.0",
          "0.9.1",
          "0.9.2",
          "0.10.0",
          "0.10.1"
         ],
         "xaxis": "x",
         "y": [
          0.3896858330000015,
          0.28481162500000323,
          0.29059837500000185,
          0.3066396250000025,
          0.30367275000000404,
          0.31052062499999966,
          0.3062600840000016,
          0.3727563329999999,
          0.37437625000000097
         ],
         "yaxis": "y"
        },
        {
         "fillpattern": {
          "shape": ""
         },
         "hovertemplate": "Benchmark Type=Export<br>benchmark=014 Export join results to Pandas<br>DuckDB Version=%{x}<br>Time (seconds)=%{y}<extra></extra>",
         "legendgroup": "Export",
         "line": {
          "color": "#EECA3B"
         },
         "marker": {
          "symbol": "circle"
         },
         "mode": "lines",
         "name": "Export",
         "orientation": "v",
         "showlegend": false,
         "stackgroup": "1",
         "type": "scatter",
         "x": [
          "0.2.7",
          "0.2.8",
          "0.2.9",
          "0.3.0",
          "0.3.1",
          "0.3.2",
          "0.3.4",
          "0.4.0"
         ],
         "xaxis": "x",
         "y": [
          32.89697020899996,
          30.641782167000002,
          25.363091959000002,
          25.59601229200001,
          25.937402209,
          34.932955459,
          26.58523204100004,
          27.940955291000023
         ],
         "yaxis": "y"
        },
        {
         "fillpattern": {
          "shape": ""
         },
         "hovertemplate": "Benchmark Type=Export<br>benchmark=015 Export join results to Arrow<br>DuckDB Version=%{x}<br>Time (seconds)=%{y}<extra></extra>",
         "legendgroup": "Export",
         "line": {
          "color": "#EECA3B"
         },
         "marker": {
          "symbol": "circle"
         },
         "mode": "lines",
         "name": "Export",
         "orientation": "v",
         "showlegend": false,
         "stackgroup": "1",
         "type": "scatter",
         "x": [
          "0.5.1",
          "0.6.1",
          "0.7.1",
          "0.8.1",
          "0.9.0",
          "0.9.1",
          "0.9.2",
          "0.10.0",
          "0.10.1"
         ],
         "xaxis": "x",
         "y": [
          3.224981791999994,
          1.7857833329999977,
          1.7790696250000053,
          1.8480557500000003,
          1.892379584000004,
          1.8852987080000005,
          1.8513588339999956,
          2.359995666000003,
          2.3194005000000004
         ],
         "yaxis": "y"
        }
       ],
       "layout": {
        "legend": {
         "title": {
          "text": "Benchmark Type"
         },
         "tracegroupgap": 0
        },
        "margin": {
         "t": 60
        },
        "template": {
         "data": {
          "bar": [
           {
            "error_x": {
             "color": "#2a3f5f"
            },
            "error_y": {
             "color": "#2a3f5f"
            },
            "marker": {
             "line": {
              "color": "white",
              "width": 0.5
             },
             "pattern": {
              "fillmode": "overlay",
              "size": 10,
              "solidity": 0.2
             }
            },
            "type": "bar"
           }
          ],
          "barpolar": [
           {
            "marker": {
             "line": {
              "color": "white",
              "width": 0.5
             },
             "pattern": {
              "fillmode": "overlay",
              "size": 10,
              "solidity": 0.2
             }
            },
            "type": "barpolar"
           }
          ],
          "carpet": [
           {
            "aaxis": {
             "endlinecolor": "#2a3f5f",
             "gridcolor": "#C8D4E3",
             "linecolor": "#C8D4E3",
             "minorgridcolor": "#C8D4E3",
             "startlinecolor": "#2a3f5f"
            },
            "baxis": {
             "endlinecolor": "#2a3f5f",
             "gridcolor": "#C8D4E3",
             "linecolor": "#C8D4E3",
             "minorgridcolor": "#C8D4E3",
             "startlinecolor": "#2a3f5f"
            },
            "type": "carpet"
           }
          ],
          "choropleth": [
           {
            "colorbar": {
             "outlinewidth": 0,
             "ticks": ""
            },
            "type": "choropleth"
           }
          ],
          "contour": [
           {
            "colorbar": {
             "outlinewidth": 0,
             "ticks": ""
            },
            "colorscale": [
             [
              0,
              "#0d0887"
             ],
             [
              0.1111111111111111,
              "#46039f"
             ],
             [
              0.2222222222222222,
              "#7201a8"
             ],
             [
              0.3333333333333333,
              "#9c179e"
             ],
             [
              0.4444444444444444,
              "#bd3786"
             ],
             [
              0.5555555555555556,
              "#d8576b"
             ],
             [
              0.6666666666666666,
              "#ed7953"
             ],
             [
              0.7777777777777778,
              "#fb9f3a"
             ],
             [
              0.8888888888888888,
              "#fdca26"
             ],
             [
              1,
              "#f0f921"
             ]
            ],
            "type": "contour"
           }
          ],
          "contourcarpet": [
           {
            "colorbar": {
             "outlinewidth": 0,
             "ticks": ""
            },
            "type": "contourcarpet"
           }
          ],
          "heatmap": [
           {
            "colorbar": {
             "outlinewidth": 0,
             "ticks": ""
            },
            "colorscale": [
             [
              0,
              "#0d0887"
             ],
             [
              0.1111111111111111,
              "#46039f"
             ],
             [
              0.2222222222222222,
              "#7201a8"
             ],
             [
              0.3333333333333333,
              "#9c179e"
             ],
             [
              0.4444444444444444,
              "#bd3786"
             ],
             [
              0.5555555555555556,
              "#d8576b"
             ],
             [
              0.6666666666666666,
              "#ed7953"
             ],
             [
              0.7777777777777778,
              "#fb9f3a"
             ],
             [
              0.8888888888888888,
              "#fdca26"
             ],
             [
              1,
              "#f0f921"
             ]
            ],
            "type": "heatmap"
           }
          ],
          "heatmapgl": [
           {
            "colorbar": {
             "outlinewidth": 0,
             "ticks": ""
            },
            "colorscale": [
             [
              0,
              "#0d0887"
             ],
             [
              0.1111111111111111,
              "#46039f"
             ],
             [
              0.2222222222222222,
              "#7201a8"
             ],
             [
              0.3333333333333333,
              "#9c179e"
             ],
             [
              0.4444444444444444,
              "#bd3786"
             ],
             [
              0.5555555555555556,
              "#d8576b"
             ],
             [
              0.6666666666666666,
              "#ed7953"
             ],
             [
              0.7777777777777778,
              "#fb9f3a"
             ],
             [
              0.8888888888888888,
              "#fdca26"
             ],
             [
              1,
              "#f0f921"
             ]
            ],
            "type": "heatmapgl"
           }
          ],
          "histogram": [
           {
            "marker": {
             "pattern": {
              "fillmode": "overlay",
              "size": 10,
              "solidity": 0.2
             }
            },
            "type": "histogram"
           }
          ],
          "histogram2d": [
           {
            "colorbar": {
             "outlinewidth": 0,
             "ticks": ""
            },
            "colorscale": [
             [
              0,
              "#0d0887"
             ],
             [
              0.1111111111111111,
              "#46039f"
             ],
             [
              0.2222222222222222,
              "#7201a8"
             ],
             [
              0.3333333333333333,
              "#9c179e"
             ],
             [
              0.4444444444444444,
              "#bd3786"
             ],
             [
              0.5555555555555556,
              "#d8576b"
             ],
             [
              0.6666666666666666,
              "#ed7953"
             ],
             [
              0.7777777777777778,
              "#fb9f3a"
             ],
             [
              0.8888888888888888,
              "#fdca26"
             ],
             [
              1,
              "#f0f921"
             ]
            ],
            "type": "histogram2d"
           }
          ],
          "histogram2dcontour": [
           {
            "colorbar": {
             "outlinewidth": 0,
             "ticks": ""
            },
            "colorscale": [
             [
              0,
              "#0d0887"
             ],
             [
              0.1111111111111111,
              "#46039f"
             ],
             [
              0.2222222222222222,
              "#7201a8"
             ],
             [
              0.3333333333333333,
              "#9c179e"
             ],
             [
              0.4444444444444444,
              "#bd3786"
             ],
             [
              0.5555555555555556,
              "#d8576b"
             ],
             [
              0.6666666666666666,
              "#ed7953"
             ],
             [
              0.7777777777777778,
              "#fb9f3a"
             ],
             [
              0.8888888888888888,
              "#fdca26"
             ],
             [
              1,
              "#f0f921"
             ]
            ],
            "type": "histogram2dcontour"
           }
          ],
          "mesh3d": [
           {
            "colorbar": {
             "outlinewidth": 0,
             "ticks": ""
            },
            "type": "mesh3d"
           }
          ],
          "parcoords": [
           {
            "line": {
             "colorbar": {
              "outlinewidth": 0,
              "ticks": ""
             }
            },
            "type": "parcoords"
           }
          ],
          "pie": [
           {
            "automargin": true,
            "type": "pie"
           }
          ],
          "scatter": [
           {
            "fillpattern": {
             "fillmode": "overlay",
             "size": 10,
             "solidity": 0.2
            },
            "type": "scatter"
           }
          ],
          "scatter3d": [
           {
            "line": {
             "colorbar": {
              "outlinewidth": 0,
              "ticks": ""
             }
            },
            "marker": {
             "colorbar": {
              "outlinewidth": 0,
              "ticks": ""
             }
            },
            "type": "scatter3d"
           }
          ],
          "scattercarpet": [
           {
            "marker": {
             "colorbar": {
              "outlinewidth": 0,
              "ticks": ""
             }
            },
            "type": "scattercarpet"
           }
          ],
          "scattergeo": [
           {
            "marker": {
             "colorbar": {
              "outlinewidth": 0,
              "ticks": ""
             }
            },
            "type": "scattergeo"
           }
          ],
          "scattergl": [
           {
            "marker": {
             "colorbar": {
              "outlinewidth": 0,
              "ticks": ""
             }
            },
            "type": "scattergl"
           }
          ],
          "scattermapbox": [
           {
            "marker": {
             "colorbar": {
              "outlinewidth": 0,
              "ticks": ""
             }
            },
            "type": "scattermapbox"
           }
          ],
          "scatterpolar": [
           {
            "marker": {
             "colorbar": {
              "outlinewidth": 0,
              "ticks": ""
             }
            },
            "type": "scatterpolar"
           }
          ],
          "scatterpolargl": [
           {
            "marker": {
             "colorbar": {
              "outlinewidth": 0,
              "ticks": ""
             }
            },
            "type": "scatterpolargl"
           }
          ],
          "scatterternary": [
           {
            "marker": {
             "colorbar": {
              "outlinewidth": 0,
              "ticks": ""
             }
            },
            "type": "scatterternary"
           }
          ],
          "surface": [
           {
            "colorbar": {
             "outlinewidth": 0,
             "ticks": ""
            },
            "colorscale": [
             [
              0,
              "#0d0887"
             ],
             [
              0.1111111111111111,
              "#46039f"
             ],
             [
              0.2222222222222222,
              "#7201a8"
             ],
             [
              0.3333333333333333,
              "#9c179e"
             ],
             [
              0.4444444444444444,
              "#bd3786"
             ],
             [
              0.5555555555555556,
              "#d8576b"
             ],
             [
              0.6666666666666666,
              "#ed7953"
             ],
             [
              0.7777777777777778,
              "#fb9f3a"
             ],
             [
              0.8888888888888888,
              "#fdca26"
             ],
             [
              1,
              "#f0f921"
             ]
            ],
            "type": "surface"
           }
          ],
          "table": [
           {
            "cells": {
             "fill": {
              "color": "#EBF0F8"
             },
             "line": {
              "color": "white"
             }
            },
            "header": {
             "fill": {
              "color": "#C8D4E3"
             },
             "line": {
              "color": "white"
             }
            },
            "type": "table"
           }
          ]
         },
         "layout": {
          "annotationdefaults": {
           "arrowcolor": "#2a3f5f",
           "arrowhead": 0,
           "arrowwidth": 1
          },
          "autotypenumbers": "strict",
          "coloraxis": {
           "colorbar": {
            "outlinewidth": 0,
            "ticks": ""
           }
          },
          "colorscale": {
           "diverging": [
            [
             0,
             "#8e0152"
            ],
            [
             0.1,
             "#c51b7d"
            ],
            [
             0.2,
             "#de77ae"
            ],
            [
             0.3,
             "#f1b6da"
            ],
            [
             0.4,
             "#fde0ef"
            ],
            [
             0.5,
             "#f7f7f7"
            ],
            [
             0.6,
             "#e6f5d0"
            ],
            [
             0.7,
             "#b8e186"
            ],
            [
             0.8,
             "#7fbc41"
            ],
            [
             0.9,
             "#4d9221"
            ],
            [
             1,
             "#276419"
            ]
           ],
           "sequential": [
            [
             0,
             "#0d0887"
            ],
            [
             0.1111111111111111,
             "#46039f"
            ],
            [
             0.2222222222222222,
             "#7201a8"
            ],
            [
             0.3333333333333333,
             "#9c179e"
            ],
            [
             0.4444444444444444,
             "#bd3786"
            ],
            [
             0.5555555555555556,
             "#d8576b"
            ],
            [
             0.6666666666666666,
             "#ed7953"
            ],
            [
             0.7777777777777778,
             "#fb9f3a"
            ],
            [
             0.8888888888888888,
             "#fdca26"
            ],
            [
             1,
             "#f0f921"
            ]
           ],
           "sequentialminus": [
            [
             0,
             "#0d0887"
            ],
            [
             0.1111111111111111,
             "#46039f"
            ],
            [
             0.2222222222222222,
             "#7201a8"
            ],
            [
             0.3333333333333333,
             "#9c179e"
            ],
            [
             0.4444444444444444,
             "#bd3786"
            ],
            [
             0.5555555555555556,
             "#d8576b"
            ],
            [
             0.6666666666666666,
             "#ed7953"
            ],
            [
             0.7777777777777778,
             "#fb9f3a"
            ],
            [
             0.8888888888888888,
             "#fdca26"
            ],
            [
             1,
             "#f0f921"
            ]
           ]
          },
          "colorway": [
           "#636efa",
           "#EF553B",
           "#00cc96",
           "#ab63fa",
           "#FFA15A",
           "#19d3f3",
           "#FF6692",
           "#B6E880",
           "#FF97FF",
           "#FECB52"
          ],
          "font": {
           "color": "#2a3f5f"
          },
          "geo": {
           "bgcolor": "white",
           "lakecolor": "white",
           "landcolor": "white",
           "showlakes": true,
           "showland": true,
           "subunitcolor": "#C8D4E3"
          },
          "hoverlabel": {
           "align": "left"
          },
          "hovermode": "closest",
          "mapbox": {
           "style": "light"
          },
          "paper_bgcolor": "white",
          "plot_bgcolor": "white",
          "polar": {
           "angularaxis": {
            "gridcolor": "#EBF0F8",
            "linecolor": "#EBF0F8",
            "ticks": ""
           },
           "bgcolor": "white",
           "radialaxis": {
            "gridcolor": "#EBF0F8",
            "linecolor": "#EBF0F8",
            "ticks": ""
           }
          },
          "scene": {
           "xaxis": {
            "backgroundcolor": "white",
            "gridcolor": "#DFE8F3",
            "gridwidth": 2,
            "linecolor": "#EBF0F8",
            "showbackground": true,
            "ticks": "",
            "zerolinecolor": "#EBF0F8"
           },
           "yaxis": {
            "backgroundcolor": "white",
            "gridcolor": "#DFE8F3",
            "gridwidth": 2,
            "linecolor": "#EBF0F8",
            "showbackground": true,
            "ticks": "",
            "zerolinecolor": "#EBF0F8"
           },
           "zaxis": {
            "backgroundcolor": "white",
            "gridcolor": "#DFE8F3",
            "gridwidth": 2,
            "linecolor": "#EBF0F8",
            "showbackground": true,
            "ticks": "",
            "zerolinecolor": "#EBF0F8"
           }
          },
          "shapedefaults": {
           "line": {
            "color": "#2a3f5f"
           }
          },
          "ternary": {
           "aaxis": {
            "gridcolor": "#DFE8F3",
            "linecolor": "#A2B1C6",
            "ticks": ""
           },
           "baxis": {
            "gridcolor": "#DFE8F3",
            "linecolor": "#A2B1C6",
            "ticks": ""
           },
           "bgcolor": "white",
           "caxis": {
            "gridcolor": "#DFE8F3",
            "linecolor": "#A2B1C6",
            "ticks": ""
           }
          },
          "title": {
           "x": 0.05
          },
          "xaxis": {
           "automargin": true,
           "gridcolor": "#EBF0F8",
           "linecolor": "#EBF0F8",
           "ticks": "",
           "title": {
            "standoff": 15
           },
           "zerolinecolor": "#EBF0F8",
           "zerolinewidth": 2
          },
          "yaxis": {
           "automargin": true,
           "gridcolor": "#EBF0F8",
           "linecolor": "#EBF0F8",
           "ticks": "",
           "title": {
            "standoff": 15
           },
           "zerolinecolor": "#EBF0F8",
           "zerolinewidth": 2
          }
         }
        },
        "xaxis": {
         "anchor": "y",
         "domain": [
          0,
          1
         ],
         "title": {
          "text": "DuckDB Version"
         }
        },
        "yaxis": {
         "anchor": "x",
         "domain": [
          0,
          1
         ],
         "title": {
          "text": "Time (seconds)"
         }
        }
       }
      }
     },
     "metadata": {},
     "output_type": "display_data"
    },
    {
     "data": {
      "application/vnd.plotly.v1+json": {
       "config": {
        "plotlyServerURL": "https://plot.ly"
       },
       "data": [
        {
         "fillpattern": {
          "shape": ""
         },
         "hovertemplate": "Benchmark Type=CSV Import<br>benchmark=000 Placeholder for charting<br>DuckDB Version=%{x}<br>Time Relative to Latest Version=%{y}<extra></extra>",
         "legendgroup": "CSV Import",
         "line": {
          "color": "#4C78A8"
         },
         "marker": {
          "symbol": "circle"
         },
         "mode": "lines",
         "name": "CSV Import",
         "orientation": "v",
         "showlegend": true,
         "stackgroup": "1",
         "type": "scatter",
         "x": [
          "0.2.7",
          "0.2.8",
          "0.2.9",
          "0.3.0",
          "0.3.1",
          "0.3.2",
          "0.3.4",
          "0.4.0",
          "0.5.1",
          "0.6.1",
          "0.7.1",
          "0.8.1",
          "0.9.0",
          "0.9.1",
          "0.9.2",
          "0.10.0",
          "0.10.1"
         ],
         "xaxis": "x",
         "y": [
          0,
          0,
          0,
          0,
          0,
          0,
          0,
          0,
          0,
          0,
          0,
          0,
          0,
          0,
          0,
          0,
          0
         ],
         "yaxis": "y"
        },
        {
         "fillpattern": {
          "shape": ""
         },
         "hovertemplate": "Benchmark Type=CSV Import<br>benchmark=002 Create table from csv<br>DuckDB Version=%{x}<br>Time Relative to Latest Version=%{y}<extra></extra>",
         "legendgroup": "CSV Import",
         "line": {
          "color": "#4C78A8"
         },
         "marker": {
          "symbol": "circle"
         },
         "mode": "lines",
         "name": "CSV Import",
         "orientation": "v",
         "showlegend": false,
         "stackgroup": "1",
         "type": "scatter",
         "x": [
          "0.2.7",
          "0.2.8",
          "0.2.9",
          "0.3.0",
          "0.3.1",
          "0.3.2",
          "0.3.4",
          "0.4.0",
          "0.5.1",
          "0.6.1",
          "0.7.1",
          "0.8.1",
          "0.9.0",
          "0.9.1",
          "0.9.2",
          "0.10.0",
          "0.10.1"
         ],
         "xaxis": "x",
         "y": [
          0.2914613029509857,
          0.27849686728220713,
          0.3030693753944316,
          0.3093232966441301,
          0.40480031877139455,
          0.3298418373778532,
          0.40116672843475554,
          0.4399411462795827,
          0.4167160307431235,
          0.38998141602922637,
          0.3747449326346836,
          0.1275229015631575,
          0.12262586969229328,
          0.12531331798235762,
          0.12265385421474746,
          0.08494838176553773,
          0.08713322079643447
         ],
         "yaxis": "y"
        },
        {
         "fillpattern": {
          "shape": ""
         },
         "hovertemplate": "Benchmark Type=CSV Import<br>benchmark=011 Create tables from csvs joins<br>DuckDB Version=%{x}<br>Time Relative to Latest Version=%{y}<extra></extra>",
         "legendgroup": "CSV Import",
         "line": {
          "color": "#4C78A8"
         },
         "marker": {
          "symbol": "circle"
         },
         "mode": "lines",
         "name": "CSV Import",
         "orientation": "v",
         "showlegend": false,
         "stackgroup": "1",
         "type": "scatter",
         "x": [
          "0.2.7",
          "0.2.8",
          "0.2.9",
          "0.3.0",
          "0.3.1",
          "0.3.2",
          "0.3.4",
          "0.4.0",
          "0.5.1",
          "0.6.1",
          "0.7.1",
          "0.8.1",
          "0.9.0",
          "0.9.1",
          "0.9.2",
          "0.10.0",
          "0.10.1"
         ],
         "xaxis": "x",
         "y": [
          0.5412650108452277,
          0.5285615896504525,
          0.5680079823128273,
          0.5824459816135673,
          0.6095181874549952,
          0.6114445302598794,
          0.8298948809455511,
          0.8991957238335782,
          0.8545630622748991,
          0.8111420701652474,
          0.805812232627606,
          0.31977707935697963,
          0.27934763692544223,
          0.33273629300187835,
          0.24229389756902414,
          0.19614813118204924,
          0.2001446060219121
         ],
         "yaxis": "y"
        },
        {
         "fillpattern": {
          "shape": ""
         },
         "hovertemplate": "Benchmark Type=Scan other formats<br>benchmark=000 Placeholder for charting<br>DuckDB Version=%{x}<br>Time Relative to Latest Version=%{y}<extra></extra>",
         "legendgroup": "Scan other formats",
         "line": {
          "color": "#F58518"
         },
         "marker": {
          "symbol": "circle"
         },
         "mode": "lines",
         "name": "Scan other formats",
         "orientation": "v",
         "showlegend": true,
         "stackgroup": "1",
         "type": "scatter",
         "x": [
          "0.2.7",
          "0.2.8",
          "0.2.9",
          "0.3.0",
          "0.3.1",
          "0.3.2",
          "0.3.4",
          "0.4.0",
          "0.5.1",
          "0.6.1",
          "0.7.1",
          "0.8.1",
          "0.9.0",
          "0.9.1",
          "0.9.2",
          "0.10.0",
          "0.10.1"
         ],
         "xaxis": "x",
         "y": [
          0,
          0,
          0,
          0,
          0,
          0,
          0,
          0,
          0,
          0,
          0,
          0,
          0,
          0,
          0,
          0,
          0
         ],
         "yaxis": "y"
        },
        {
         "fillpattern": {
          "shape": ""
         },
         "hovertemplate": "Benchmark Type=Scan other formats<br>benchmark=006 Scan and aggregate over Pandas df<br>DuckDB Version=%{x}<br>Time Relative to Latest Version=%{y}<extra></extra>",
         "legendgroup": "Scan other formats",
         "line": {
          "color": "#F58518"
         },
         "marker": {
          "symbol": "circle"
         },
         "mode": "lines",
         "name": "Scan other formats",
         "orientation": "v",
         "showlegend": false,
         "stackgroup": "1",
         "type": "scatter",
         "x": [
          "0.2.7",
          "0.2.8",
          "0.2.9",
          "0.3.0",
          "0.3.1",
          "0.3.2",
          "0.3.4",
          "0.4.0"
         ],
         "xaxis": "x",
         "y": [
          0.0007355388993644558,
          0.0006614104923836576,
          0.0006648007515501686,
          0.0006679680765493828,
          0.0002708772210756388,
          0.0002480170572501679,
          0.0002187845965993398,
          0.00022617913107614865
         ],
         "yaxis": "y"
        },
        {
         "fillpattern": {
          "shape": ""
         },
         "hovertemplate": "Benchmark Type=Scan other formats<br>benchmark=008 Scan and aggregate over Parquet file<br>DuckDB Version=%{x}<br>Time Relative to Latest Version=%{y}<extra></extra>",
         "legendgroup": "Scan other formats",
         "line": {
          "color": "#F58518"
         },
         "marker": {
          "symbol": "circle"
         },
         "mode": "lines",
         "name": "Scan other formats",
         "orientation": "v",
         "showlegend": false,
         "stackgroup": "1",
         "type": "scatter",
         "x": [
          "0.2.7",
          "0.2.8",
          "0.2.9",
          "0.3.0",
          "0.3.1",
          "0.3.2",
          "0.3.4",
          "0.4.0",
          "0.5.1",
          "0.6.1",
          "0.7.1",
          "0.8.1",
          "0.9.0",
          "0.9.1",
          "0.9.2",
          "0.10.0",
          "0.10.1"
         ],
         "xaxis": "x",
         "y": [
          0.006176848512023489,
          0.0060365875594168865,
          0.0055131378345794355,
          0.005474613944522773,
          0.0008418190198529038,
          0.0007044697426250198,
          0.0006905952630448328,
          0.000647029765212554,
          0.00071102738693052,
          0.0006746910421456132,
          0.0006906603932591932,
          0.0006690405901548723,
          0.0006334459961162608,
          0.0006456516267260644,
          0.0006482476340597767,
          0.0006494728999672732,
          0.00065671708769034
         ],
         "yaxis": "y"
        },
        {
         "fillpattern": {
          "shape": ""
         },
         "hovertemplate": "Benchmark Type=Scan other formats<br>benchmark=010 Scan and aggregate over Arrow df<br>DuckDB Version=%{x}<br>Time Relative to Latest Version=%{y}<extra></extra>",
         "legendgroup": "Scan other formats",
         "line": {
          "color": "#F58518"
         },
         "marker": {
          "symbol": "circle"
         },
         "mode": "lines",
         "name": "Scan other formats",
         "orientation": "v",
         "showlegend": false,
         "stackgroup": "1",
         "type": "scatter",
         "x": [
          "0.5.1",
          "0.6.1",
          "0.7.1",
          "0.8.1",
          "0.9.0",
          "0.9.1",
          "0.9.2",
          "0.10.0",
          "0.10.1"
         ],
         "xaxis": "x",
         "y": [
          0.00023082737160314142,
          0.00026716618207448564,
          0.0002748789705611131,
          0.0002747787193450752,
          0.00022756989868932018,
          0.0002289480371766644,
          0.00021702800526133252,
          0.00033432607714052305,
          0.0002219920341115996
         ],
         "yaxis": "y"
        },
        {
         "fillpattern": {
          "shape": ""
         },
         "hovertemplate": "Benchmark Type=Analysis - Group By<br>benchmark=000 Placeholder for charting<br>DuckDB Version=%{x}<br>Time Relative to Latest Version=%{y}<extra></extra>",
         "legendgroup": "Analysis - Group By",
         "line": {
          "color": "#E45756"
         },
         "marker": {
          "symbol": "circle"
         },
         "mode": "lines",
         "name": "Analysis - Group By",
         "orientation": "v",
         "showlegend": true,
         "stackgroup": "1",
         "type": "scatter",
         "x": [
          "0.2.7",
          "0.2.8",
          "0.2.9",
          "0.3.0",
          "0.3.1",
          "0.3.2",
          "0.3.4",
          "0.4.0",
          "0.5.1",
          "0.6.1",
          "0.7.1",
          "0.8.1",
          "0.9.0",
          "0.9.1",
          "0.9.2",
          "0.10.0",
          "0.10.1"
         ],
         "xaxis": "x",
         "y": [
          0,
          0,
          0,
          0,
          0,
          0,
          0,
          0,
          0,
          0,
          0,
          0,
          0,
          0,
          0,
          0,
          0
         ],
         "yaxis": "y"
        },
        {
         "fillpattern": {
          "shape": ""
         },
         "hovertemplate": "Benchmark Type=Analysis - Group By<br>benchmark=003 Convert to Enums<br>DuckDB Version=%{x}<br>Time Relative to Latest Version=%{y}<extra></extra>",
         "legendgroup": "Analysis - Group By",
         "line": {
          "color": "#E45756"
         },
         "marker": {
          "symbol": "circle"
         },
         "mode": "lines",
         "name": "Analysis - Group By",
         "orientation": "v",
         "showlegend": false,
         "stackgroup": "1",
         "type": "scatter",
         "x": [
          "0.6.1",
          "0.7.1",
          "0.8.1",
          "0.9.0",
          "0.9.1",
          "0.9.2",
          "0.10.0",
          "0.10.1"
         ],
         "xaxis": "x",
         "y": [
          0.05154114254042398,
          0.04861002480026778,
          0.06980471746547771,
          0.07138780612185222,
          0.0707932223561281,
          0.07156873094007554,
          0.05458302073434179,
          0.05426034905647123
         ],
         "yaxis": "y"
        },
        {
         "fillpattern": {
          "shape": ""
         },
         "hovertemplate": "Benchmark Type=Analysis - Group By<br>benchmark=004 Group by queries<br>DuckDB Version=%{x}<br>Time Relative to Latest Version=%{y}<extra></extra>",
         "legendgroup": "Analysis - Group By",
         "line": {
          "color": "#E45756"
         },
         "marker": {
          "symbol": "circle"
         },
         "mode": "lines",
         "name": "Analysis - Group By",
         "orientation": "v",
         "showlegend": false,
         "stackgroup": "1",
         "type": "scatter",
         "x": [
          "0.2.7",
          "0.2.8",
          "0.2.9",
          "0.3.0",
          "0.3.1",
          "0.3.2",
          "0.3.4",
          "0.4.0",
          "0.5.1",
          "0.6.1",
          "0.7.1",
          "0.8.1",
          "0.9.0",
          "0.9.1",
          "0.9.2",
          "0.10.0",
          "0.10.1"
         ],
         "xaxis": "x",
         "y": [
          1.8330702445652538,
          1.4613681873444397,
          1.289626105339963,
          1.2845641581746405,
          0.48274395505434897,
          0.4866248282749673,
          0.547132974476732,
          0.4359920131669065,
          0.317914440937503,
          0.10134195627167539,
          0.09754217509871826,
          0.08349608221626037,
          0.08206936669302221,
          0.08085373302105886,
          0.08039464668152294,
          0.07476211608394714,
          0.07452834185582446
         ],
         "yaxis": "y"
        },
        {
         "fillpattern": {
          "shape": ""
         },
         "hovertemplate": "Benchmark Type=Analysis - Join<br>benchmark=000 Placeholder for charting<br>DuckDB Version=%{x}<br>Time Relative to Latest Version=%{y}<extra></extra>",
         "legendgroup": "Analysis - Join",
         "line": {
          "color": "#72B7B2"
         },
         "marker": {
          "symbol": "circle"
         },
         "mode": "lines",
         "name": "Analysis - Join",
         "orientation": "v",
         "showlegend": true,
         "stackgroup": "1",
         "type": "scatter",
         "x": [
          "0.2.7",
          "0.2.8",
          "0.2.9",
          "0.3.0",
          "0.3.1",
          "0.3.2",
          "0.3.4",
          "0.4.0",
          "0.5.1",
          "0.6.1",
          "0.7.1",
          "0.8.1",
          "0.9.0",
          "0.9.1",
          "0.9.2",
          "0.10.0",
          "0.10.1"
         ],
         "xaxis": "x",
         "y": [
          0,
          0,
          0,
          0,
          0,
          0,
          0,
          0,
          0,
          0,
          0,
          0,
          0,
          0,
          0,
          0,
          0
         ],
         "yaxis": "y"
        },
        {
         "fillpattern": {
          "shape": ""
         },
         "hovertemplate": "Benchmark Type=Analysis - Join<br>benchmark=012 Convert to Enums for joins<br>DuckDB Version=%{x}<br>Time Relative to Latest Version=%{y}<extra></extra>",
         "legendgroup": "Analysis - Join",
         "line": {
          "color": "#72B7B2"
         },
         "marker": {
          "symbol": "circle"
         },
         "mode": "lines",
         "name": "Analysis - Join",
         "orientation": "v",
         "showlegend": false,
         "stackgroup": "1",
         "type": "scatter",
         "x": [
          "0.6.1",
          "0.7.1",
          "0.8.1",
          "0.9.0",
          "0.9.1",
          "0.9.2",
          "0.10.0",
          "0.10.1"
         ],
         "xaxis": "x",
         "y": [
          0.1303820407947779,
          0.10853694807123733,
          0.18903842363890136,
          0.18985236590485322,
          0.18438155819889712,
          0.19613377054120507,
          0.13287115152652776,
          0.13194474489698033
         ],
         "yaxis": "y"
        },
        {
         "fillpattern": {
          "shape": ""
         },
         "hovertemplate": "Benchmark Type=Analysis - Join<br>benchmark=013 Join queries<br>DuckDB Version=%{x}<br>Time Relative to Latest Version=%{y}<extra></extra>",
         "legendgroup": "Analysis - Join",
         "line": {
          "color": "#72B7B2"
         },
         "marker": {
          "symbol": "circle"
         },
         "mode": "lines",
         "name": "Analysis - Join",
         "orientation": "v",
         "showlegend": false,
         "stackgroup": "1",
         "type": "scatter",
         "x": [
          "0.2.7",
          "0.2.8",
          "0.2.9",
          "0.3.0",
          "0.3.1",
          "0.3.2",
          "0.3.4",
          "0.4.0",
          "0.5.1",
          "0.6.1",
          "0.7.1",
          "0.8.1",
          "0.9.0",
          "0.9.1",
          "0.9.2",
          "0.10.0",
          "0.10.1"
         ],
         "xaxis": "x",
         "y": [
          1.4326182119782287,
          1.3191797943411943,
          1.4397058611868603,
          1.431981052417286,
          1.399235100941465,
          1.4799842427171939,
          2.1847870109198655,
          2.398412491185136,
          2.2268136896974777,
          0.35483317648619717,
          0.21142927008839169,
          0.27363541244488043,
          0.2655685248174419,
          0.26356342280527223,
          0.26673295790228946,
          0.2003233983819133,
          0.19945004160455804
         ],
         "yaxis": "y"
        },
        {
         "fillpattern": {
          "shape": ""
         },
         "hovertemplate": "Benchmark Type=Export<br>benchmark=000 Placeholder for charting<br>DuckDB Version=%{x}<br>Time Relative to Latest Version=%{y}<extra></extra>",
         "legendgroup": "Export",
         "line": {
          "color": "#EECA3B"
         },
         "marker": {
          "symbol": "circle"
         },
         "mode": "lines",
         "name": "Export",
         "orientation": "v",
         "showlegend": true,
         "stackgroup": "1",
         "type": "scatter",
         "x": [
          "0.2.7",
          "0.2.8",
          "0.2.9",
          "0.3.0",
          "0.3.1",
          "0.3.2",
          "0.3.4",
          "0.4.0",
          "0.5.1",
          "0.6.1",
          "0.7.1",
          "0.8.1",
          "0.9.0",
          "0.9.1",
          "0.9.2",
          "0.10.0",
          "0.10.1"
         ],
         "xaxis": "x",
         "y": [
          0,
          0,
          0,
          0,
          0,
          0,
          0,
          0,
          0,
          0,
          0,
          0,
          0,
          0,
          0,
          0,
          0
         ],
         "yaxis": "y"
        },
        {
         "fillpattern": {
          "shape": ""
         },
         "hovertemplate": "Benchmark Type=Export<br>benchmark=005 Export group by results to Pandas<br>DuckDB Version=%{x}<br>Time Relative to Latest Version=%{y}<extra></extra>",
         "legendgroup": "Export",
         "line": {
          "color": "#EECA3B"
         },
         "marker": {
          "symbol": "circle"
         },
         "mode": "lines",
         "name": "Export",
         "orientation": "v",
         "showlegend": false,
         "stackgroup": "1",
         "type": "scatter",
         "x": [
          "0.2.7",
          "0.2.8",
          "0.2.9",
          "0.3.0",
          "0.3.1",
          "0.3.2",
          "0.3.4",
          "0.4.0"
         ],
         "xaxis": "x",
         "y": [
          0.09533795390552696,
          0.08393430794366223,
          0.07597574010091723,
          0.07648277448602986,
          0.078023984114182,
          0.07798997315257482,
          0.07482839386453813,
          0.07395288718873815
         ],
         "yaxis": "y"
        },
        {
         "fillpattern": {
          "shape": ""
         },
         "hovertemplate": "Benchmark Type=Export<br>benchmark=007 Export group by results to Parquet<br>DuckDB Version=%{x}<br>Time Relative to Latest Version=%{y}<extra></extra>",
         "legendgroup": "Export",
         "line": {
          "color": "#EECA3B"
         },
         "marker": {
          "symbol": "circle"
         },
         "mode": "lines",
         "name": "Export",
         "orientation": "v",
         "showlegend": false,
         "stackgroup": "1",
         "type": "scatter",
         "x": [
          "0.2.7",
          "0.2.8",
          "0.2.9",
          "0.3.0",
          "0.3.1",
          "0.3.2",
          "0.3.4",
          "0.4.0",
          "0.5.1",
          "0.6.1",
          "0.7.1",
          "0.8.1",
          "0.9.0",
          "0.9.1",
          "0.9.2",
          "0.10.0",
          "0.10.1"
         ],
         "xaxis": "x",
         "y": [
          0.11392166716564468,
          0.11284640973217976,
          0.11620781735680696,
          0.11525413530023589,
          0.11580287340925535,
          0.1922880208481742,
          0.18686238488463425,
          0.18626776100639536,
          0.26959446004363646,
          0.23266884625121892,
          0.24836209054198236,
          0.09154485811147796,
          0.09125519506347476,
          0.09203082145913881,
          0.09257871004885847,
          0.09098775825724295,
          0.08965975036959822
         ],
         "yaxis": "y"
        },
        {
         "fillpattern": {
          "shape": ""
         },
         "hovertemplate": "Benchmark Type=Export<br>benchmark=009 Export group by results to Arrow<br>DuckDB Version=%{x}<br>Time Relative to Latest Version=%{y}<extra></extra>",
         "legendgroup": "Export",
         "line": {
          "color": "#EECA3B"
         },
         "marker": {
          "symbol": "circle"
         },
         "mode": "lines",
         "name": "Export",
         "orientation": "v",
         "showlegend": false,
         "stackgroup": "1",
         "type": "scatter",
         "x": [
          "0.5.1",
          "0.6.1",
          "0.7.1",
          "0.8.1",
          "0.9.0",
          "0.9.1",
          "0.9.2",
          "0.10.0",
          "0.10.1"
         ],
         "xaxis": "x",
         "y": [
          0.023435200047507074,
          0.017128201341952858,
          0.01747620897371831,
          0.01844090892154035,
          0.018262484911086493,
          0.01867430722263873,
          0.01841808381857785,
          0.022417081897945532,
          0.022514501603104236
         ],
         "yaxis": "y"
        },
        {
         "fillpattern": {
          "shape": ""
         },
         "hovertemplate": "Benchmark Type=Export<br>benchmark=014 Export join results to Pandas<br>DuckDB Version=%{x}<br>Time Relative to Latest Version=%{y}<extra></extra>",
         "legendgroup": "Export",
         "line": {
          "color": "#EECA3B"
         },
         "marker": {
          "symbol": "circle"
         },
         "mode": "lines",
         "name": "Export",
         "orientation": "v",
         "showlegend": false,
         "stackgroup": "1",
         "type": "scatter",
         "x": [
          "0.2.7",
          "0.2.8",
          "0.2.9",
          "0.3.0",
          "0.3.1",
          "0.3.2",
          "0.3.4",
          "0.4.0"
         ],
         "xaxis": "x",
         "y": [
          1.978381076544786,
          1.8427569957252645,
          1.525303420210508,
          1.5393109466247084,
          1.5598416929890404,
          2.1008225860556653,
          1.5988013379748098,
          1.680332774024747
         ],
         "yaxis": "y"
        },
        {
         "fillpattern": {
          "shape": ""
         },
         "hovertemplate": "Benchmark Type=Export<br>benchmark=015 Export join results to Arrow<br>DuckDB Version=%{x}<br>Time Relative to Latest Version=%{y}<extra></extra>",
         "legendgroup": "Export",
         "line": {
          "color": "#EECA3B"
         },
         "marker": {
          "symbol": "circle"
         },
         "mode": "lines",
         "name": "Export",
         "orientation": "v",
         "showlegend": false,
         "stackgroup": "1",
         "type": "scatter",
         "x": [
          "0.5.1",
          "0.6.1",
          "0.7.1",
          "0.8.1",
          "0.9.0",
          "0.9.1",
          "0.9.2",
          "0.10.0",
          "0.10.1"
         ],
         "xaxis": "x",
         "y": [
          0.19394621781153493,
          0.10739469107248435,
          0.1069909373901164,
          0.11113967337939011,
          0.11380525120824225,
          0.1133794165190667,
          0.11133831656258639,
          0.14192707524976805,
          0.139485734673315
         ],
         "yaxis": "y"
        }
       ],
       "layout": {
        "legend": {
         "title": {
          "text": "Benchmark Type"
         },
         "tracegroupgap": 0
        },
        "margin": {
         "t": 60
        },
        "template": {
         "data": {
          "bar": [
           {
            "error_x": {
             "color": "#2a3f5f"
            },
            "error_y": {
             "color": "#2a3f5f"
            },
            "marker": {
             "line": {
              "color": "white",
              "width": 0.5
             },
             "pattern": {
              "fillmode": "overlay",
              "size": 10,
              "solidity": 0.2
             }
            },
            "type": "bar"
           }
          ],
          "barpolar": [
           {
            "marker": {
             "line": {
              "color": "white",
              "width": 0.5
             },
             "pattern": {
              "fillmode": "overlay",
              "size": 10,
              "solidity": 0.2
             }
            },
            "type": "barpolar"
           }
          ],
          "carpet": [
           {
            "aaxis": {
             "endlinecolor": "#2a3f5f",
             "gridcolor": "#C8D4E3",
             "linecolor": "#C8D4E3",
             "minorgridcolor": "#C8D4E3",
             "startlinecolor": "#2a3f5f"
            },
            "baxis": {
             "endlinecolor": "#2a3f5f",
             "gridcolor": "#C8D4E3",
             "linecolor": "#C8D4E3",
             "minorgridcolor": "#C8D4E3",
             "startlinecolor": "#2a3f5f"
            },
            "type": "carpet"
           }
          ],
          "choropleth": [
           {
            "colorbar": {
             "outlinewidth": 0,
             "ticks": ""
            },
            "type": "choropleth"
           }
          ],
          "contour": [
           {
            "colorbar": {
             "outlinewidth": 0,
             "ticks": ""
            },
            "colorscale": [
             [
              0,
              "#0d0887"
             ],
             [
              0.1111111111111111,
              "#46039f"
             ],
             [
              0.2222222222222222,
              "#7201a8"
             ],
             [
              0.3333333333333333,
              "#9c179e"
             ],
             [
              0.4444444444444444,
              "#bd3786"
             ],
             [
              0.5555555555555556,
              "#d8576b"
             ],
             [
              0.6666666666666666,
              "#ed7953"
             ],
             [
              0.7777777777777778,
              "#fb9f3a"
             ],
             [
              0.8888888888888888,
              "#fdca26"
             ],
             [
              1,
              "#f0f921"
             ]
            ],
            "type": "contour"
           }
          ],
          "contourcarpet": [
           {
            "colorbar": {
             "outlinewidth": 0,
             "ticks": ""
            },
            "type": "contourcarpet"
           }
          ],
          "heatmap": [
           {
            "colorbar": {
             "outlinewidth": 0,
             "ticks": ""
            },
            "colorscale": [
             [
              0,
              "#0d0887"
             ],
             [
              0.1111111111111111,
              "#46039f"
             ],
             [
              0.2222222222222222,
              "#7201a8"
             ],
             [
              0.3333333333333333,
              "#9c179e"
             ],
             [
              0.4444444444444444,
              "#bd3786"
             ],
             [
              0.5555555555555556,
              "#d8576b"
             ],
             [
              0.6666666666666666,
              "#ed7953"
             ],
             [
              0.7777777777777778,
              "#fb9f3a"
             ],
             [
              0.8888888888888888,
              "#fdca26"
             ],
             [
              1,
              "#f0f921"
             ]
            ],
            "type": "heatmap"
           }
          ],
          "heatmapgl": [
           {
            "colorbar": {
             "outlinewidth": 0,
             "ticks": ""
            },
            "colorscale": [
             [
              0,
              "#0d0887"
             ],
             [
              0.1111111111111111,
              "#46039f"
             ],
             [
              0.2222222222222222,
              "#7201a8"
             ],
             [
              0.3333333333333333,
              "#9c179e"
             ],
             [
              0.4444444444444444,
              "#bd3786"
             ],
             [
              0.5555555555555556,
              "#d8576b"
             ],
             [
              0.6666666666666666,
              "#ed7953"
             ],
             [
              0.7777777777777778,
              "#fb9f3a"
             ],
             [
              0.8888888888888888,
              "#fdca26"
             ],
             [
              1,
              "#f0f921"
             ]
            ],
            "type": "heatmapgl"
           }
          ],
          "histogram": [
           {
            "marker": {
             "pattern": {
              "fillmode": "overlay",
              "size": 10,
              "solidity": 0.2
             }
            },
            "type": "histogram"
           }
          ],
          "histogram2d": [
           {
            "colorbar": {
             "outlinewidth": 0,
             "ticks": ""
            },
            "colorscale": [
             [
              0,
              "#0d0887"
             ],
             [
              0.1111111111111111,
              "#46039f"
             ],
             [
              0.2222222222222222,
              "#7201a8"
             ],
             [
              0.3333333333333333,
              "#9c179e"
             ],
             [
              0.4444444444444444,
              "#bd3786"
             ],
             [
              0.5555555555555556,
              "#d8576b"
             ],
             [
              0.6666666666666666,
              "#ed7953"
             ],
             [
              0.7777777777777778,
              "#fb9f3a"
             ],
             [
              0.8888888888888888,
              "#fdca26"
             ],
             [
              1,
              "#f0f921"
             ]
            ],
            "type": "histogram2d"
           }
          ],
          "histogram2dcontour": [
           {
            "colorbar": {
             "outlinewidth": 0,
             "ticks": ""
            },
            "colorscale": [
             [
              0,
              "#0d0887"
             ],
             [
              0.1111111111111111,
              "#46039f"
             ],
             [
              0.2222222222222222,
              "#7201a8"
             ],
             [
              0.3333333333333333,
              "#9c179e"
             ],
             [
              0.4444444444444444,
              "#bd3786"
             ],
             [
              0.5555555555555556,
              "#d8576b"
             ],
             [
              0.6666666666666666,
              "#ed7953"
             ],
             [
              0.7777777777777778,
              "#fb9f3a"
             ],
             [
              0.8888888888888888,
              "#fdca26"
             ],
             [
              1,
              "#f0f921"
             ]
            ],
            "type": "histogram2dcontour"
           }
          ],
          "mesh3d": [
           {
            "colorbar": {
             "outlinewidth": 0,
             "ticks": ""
            },
            "type": "mesh3d"
           }
          ],
          "parcoords": [
           {
            "line": {
             "colorbar": {
              "outlinewidth": 0,
              "ticks": ""
             }
            },
            "type": "parcoords"
           }
          ],
          "pie": [
           {
            "automargin": true,
            "type": "pie"
           }
          ],
          "scatter": [
           {
            "fillpattern": {
             "fillmode": "overlay",
             "size": 10,
             "solidity": 0.2
            },
            "type": "scatter"
           }
          ],
          "scatter3d": [
           {
            "line": {
             "colorbar": {
              "outlinewidth": 0,
              "ticks": ""
             }
            },
            "marker": {
             "colorbar": {
              "outlinewidth": 0,
              "ticks": ""
             }
            },
            "type": "scatter3d"
           }
          ],
          "scattercarpet": [
           {
            "marker": {
             "colorbar": {
              "outlinewidth": 0,
              "ticks": ""
             }
            },
            "type": "scattercarpet"
           }
          ],
          "scattergeo": [
           {
            "marker": {
             "colorbar": {
              "outlinewidth": 0,
              "ticks": ""
             }
            },
            "type": "scattergeo"
           }
          ],
          "scattergl": [
           {
            "marker": {
             "colorbar": {
              "outlinewidth": 0,
              "ticks": ""
             }
            },
            "type": "scattergl"
           }
          ],
          "scattermapbox": [
           {
            "marker": {
             "colorbar": {
              "outlinewidth": 0,
              "ticks": ""
             }
            },
            "type": "scattermapbox"
           }
          ],
          "scatterpolar": [
           {
            "marker": {
             "colorbar": {
              "outlinewidth": 0,
              "ticks": ""
             }
            },
            "type": "scatterpolar"
           }
          ],
          "scatterpolargl": [
           {
            "marker": {
             "colorbar": {
              "outlinewidth": 0,
              "ticks": ""
             }
            },
            "type": "scatterpolargl"
           }
          ],
          "scatterternary": [
           {
            "marker": {
             "colorbar": {
              "outlinewidth": 0,
              "ticks": ""
             }
            },
            "type": "scatterternary"
           }
          ],
          "surface": [
           {
            "colorbar": {
             "outlinewidth": 0,
             "ticks": ""
            },
            "colorscale": [
             [
              0,
              "#0d0887"
             ],
             [
              0.1111111111111111,
              "#46039f"
             ],
             [
              0.2222222222222222,
              "#7201a8"
             ],
             [
              0.3333333333333333,
              "#9c179e"
             ],
             [
              0.4444444444444444,
              "#bd3786"
             ],
             [
              0.5555555555555556,
              "#d8576b"
             ],
             [
              0.6666666666666666,
              "#ed7953"
             ],
             [
              0.7777777777777778,
              "#fb9f3a"
             ],
             [
              0.8888888888888888,
              "#fdca26"
             ],
             [
              1,
              "#f0f921"
             ]
            ],
            "type": "surface"
           }
          ],
          "table": [
           {
            "cells": {
             "fill": {
              "color": "#EBF0F8"
             },
             "line": {
              "color": "white"
             }
            },
            "header": {
             "fill": {
              "color": "#C8D4E3"
             },
             "line": {
              "color": "white"
             }
            },
            "type": "table"
           }
          ]
         },
         "layout": {
          "annotationdefaults": {
           "arrowcolor": "#2a3f5f",
           "arrowhead": 0,
           "arrowwidth": 1
          },
          "autotypenumbers": "strict",
          "coloraxis": {
           "colorbar": {
            "outlinewidth": 0,
            "ticks": ""
           }
          },
          "colorscale": {
           "diverging": [
            [
             0,
             "#8e0152"
            ],
            [
             0.1,
             "#c51b7d"
            ],
            [
             0.2,
             "#de77ae"
            ],
            [
             0.3,
             "#f1b6da"
            ],
            [
             0.4,
             "#fde0ef"
            ],
            [
             0.5,
             "#f7f7f7"
            ],
            [
             0.6,
             "#e6f5d0"
            ],
            [
             0.7,
             "#b8e186"
            ],
            [
             0.8,
             "#7fbc41"
            ],
            [
             0.9,
             "#4d9221"
            ],
            [
             1,
             "#276419"
            ]
           ],
           "sequential": [
            [
             0,
             "#0d0887"
            ],
            [
             0.1111111111111111,
             "#46039f"
            ],
            [
             0.2222222222222222,
             "#7201a8"
            ],
            [
             0.3333333333333333,
             "#9c179e"
            ],
            [
             0.4444444444444444,
             "#bd3786"
            ],
            [
             0.5555555555555556,
             "#d8576b"
            ],
            [
             0.6666666666666666,
             "#ed7953"
            ],
            [
             0.7777777777777778,
             "#fb9f3a"
            ],
            [
             0.8888888888888888,
             "#fdca26"
            ],
            [
             1,
             "#f0f921"
            ]
           ],
           "sequentialminus": [
            [
             0,
             "#0d0887"
            ],
            [
             0.1111111111111111,
             "#46039f"
            ],
            [
             0.2222222222222222,
             "#7201a8"
            ],
            [
             0.3333333333333333,
             "#9c179e"
            ],
            [
             0.4444444444444444,
             "#bd3786"
            ],
            [
             0.5555555555555556,
             "#d8576b"
            ],
            [
             0.6666666666666666,
             "#ed7953"
            ],
            [
             0.7777777777777778,
             "#fb9f3a"
            ],
            [
             0.8888888888888888,
             "#fdca26"
            ],
            [
             1,
             "#f0f921"
            ]
           ]
          },
          "colorway": [
           "#636efa",
           "#EF553B",
           "#00cc96",
           "#ab63fa",
           "#FFA15A",
           "#19d3f3",
           "#FF6692",
           "#B6E880",
           "#FF97FF",
           "#FECB52"
          ],
          "font": {
           "color": "#2a3f5f"
          },
          "geo": {
           "bgcolor": "white",
           "lakecolor": "white",
           "landcolor": "white",
           "showlakes": true,
           "showland": true,
           "subunitcolor": "#C8D4E3"
          },
          "hoverlabel": {
           "align": "left"
          },
          "hovermode": "closest",
          "mapbox": {
           "style": "light"
          },
          "paper_bgcolor": "white",
          "plot_bgcolor": "white",
          "polar": {
           "angularaxis": {
            "gridcolor": "#EBF0F8",
            "linecolor": "#EBF0F8",
            "ticks": ""
           },
           "bgcolor": "white",
           "radialaxis": {
            "gridcolor": "#EBF0F8",
            "linecolor": "#EBF0F8",
            "ticks": ""
           }
          },
          "scene": {
           "xaxis": {
            "backgroundcolor": "white",
            "gridcolor": "#DFE8F3",
            "gridwidth": 2,
            "linecolor": "#EBF0F8",
            "showbackground": true,
            "ticks": "",
            "zerolinecolor": "#EBF0F8"
           },
           "yaxis": {
            "backgroundcolor": "white",
            "gridcolor": "#DFE8F3",
            "gridwidth": 2,
            "linecolor": "#EBF0F8",
            "showbackground": true,
            "ticks": "",
            "zerolinecolor": "#EBF0F8"
           },
           "zaxis": {
            "backgroundcolor": "white",
            "gridcolor": "#DFE8F3",
            "gridwidth": 2,
            "linecolor": "#EBF0F8",
            "showbackground": true,
            "ticks": "",
            "zerolinecolor": "#EBF0F8"
           }
          },
          "shapedefaults": {
           "line": {
            "color": "#2a3f5f"
           }
          },
          "ternary": {
           "aaxis": {
            "gridcolor": "#DFE8F3",
            "linecolor": "#A2B1C6",
            "ticks": ""
           },
           "baxis": {
            "gridcolor": "#DFE8F3",
            "linecolor": "#A2B1C6",
            "ticks": ""
           },
           "bgcolor": "white",
           "caxis": {
            "gridcolor": "#DFE8F3",
            "linecolor": "#A2B1C6",
            "ticks": ""
           }
          },
          "title": {
           "x": 0.05
          },
          "xaxis": {
           "automargin": true,
           "gridcolor": "#EBF0F8",
           "linecolor": "#EBF0F8",
           "ticks": "",
           "title": {
            "standoff": 15
           },
           "zerolinecolor": "#EBF0F8",
           "zerolinewidth": 2
          },
          "yaxis": {
           "automargin": true,
           "gridcolor": "#EBF0F8",
           "linecolor": "#EBF0F8",
           "ticks": "",
           "title": {
            "standoff": 15
           },
           "zerolinecolor": "#EBF0F8",
           "zerolinewidth": 2
          }
         }
        },
        "xaxis": {
         "anchor": "y",
         "domain": [
          0,
          1
         ],
         "title": {
          "text": "DuckDB Version"
         }
        },
        "yaxis": {
         "anchor": "x",
         "domain": [
          0,
          1
         ],
         "title": {
          "text": "Time Relative to Latest Version"
         }
        }
       }
      }
     },
     "metadata": {},
     "output_type": "display_data"
    },
    {
     "data": {
      "application/vnd.plotly.v1+json": {
       "config": {
        "plotlyServerURL": "https://plot.ly"
       },
       "data": [
        {
         "fillpattern": {
          "shape": ""
         },
         "hovertemplate": "benchmark=000 Placeholder for charting<br>DuckDB Version=%{x}<br>Time Relative to Latest Version=%{y}<extra></extra>",
         "legendgroup": "000 Placeholder for charting",
         "line": {
          "color": "#4C78A8"
         },
         "marker": {
          "symbol": "circle"
         },
         "mode": "lines",
         "name": "000 Placeholder for charting",
         "orientation": "v",
         "showlegend": true,
         "stackgroup": "1",
         "type": "scatter",
         "x": [
          "0.2.7",
          "0.2.7",
          "0.2.7",
          "0.2.7",
          "0.2.7",
          "0.2.8",
          "0.2.8",
          "0.2.8",
          "0.2.8",
          "0.2.8",
          "0.2.9",
          "0.2.9",
          "0.2.9",
          "0.2.9",
          "0.2.9",
          "0.3.0",
          "0.3.0",
          "0.3.0",
          "0.3.0",
          "0.3.0",
          "0.3.1",
          "0.3.1",
          "0.3.1",
          "0.3.1",
          "0.3.1",
          "0.3.2",
          "0.3.2",
          "0.3.2",
          "0.3.2",
          "0.3.2",
          "0.3.4",
          "0.3.4",
          "0.3.4",
          "0.3.4",
          "0.3.4",
          "0.4.0",
          "0.4.0",
          "0.4.0",
          "0.4.0",
          "0.4.0",
          "0.5.1",
          "0.5.1",
          "0.5.1",
          "0.5.1",
          "0.5.1",
          "0.6.1",
          "0.6.1",
          "0.6.1",
          "0.6.1",
          "0.6.1",
          "0.7.1",
          "0.7.1",
          "0.7.1",
          "0.7.1",
          "0.7.1",
          "0.8.1",
          "0.8.1",
          "0.8.1",
          "0.8.1",
          "0.8.1",
          "0.9.0",
          "0.9.0",
          "0.9.0",
          "0.9.0",
          "0.9.0",
          "0.9.1",
          "0.9.1",
          "0.9.1",
          "0.9.1",
          "0.9.1",
          "0.9.2",
          "0.9.2",
          "0.9.2",
          "0.9.2",
          "0.9.2",
          "0.10.0",
          "0.10.0",
          "0.10.0",
          "0.10.0",
          "0.10.0",
          "0.10.1",
          "0.10.1",
          "0.10.1",
          "0.10.1",
          "0.10.1"
         ],
         "xaxis": "x",
         "y": [
          0,
          0,
          0,
          0,
          0,
          0,
          0,
          0,
          0,
          0,
          0,
          0,
          0,
          0,
          0,
          0,
          0,
          0,
          0,
          0,
          0,
          0,
          0,
          0,
          0,
          0,
          0,
          0,
          0,
          0,
          0,
          0,
          0,
          0,
          0,
          0,
          0,
          0,
          0,
          0,
          0,
          0,
          0,
          0,
          0,
          0,
          0,
          0,
          0,
          0,
          0,
          0,
          0,
          0,
          0,
          0,
          0,
          0,
          0,
          0,
          0,
          0,
          0,
          0,
          0,
          0,
          0,
          0,
          0,
          0,
          0,
          0,
          0,
          0,
          0,
          0,
          0,
          0,
          0,
          0,
          0,
          0,
          0,
          0,
          0
         ],
         "yaxis": "y"
        },
        {
         "fillpattern": {
          "shape": ""
         },
         "hovertemplate": "benchmark=002 Create table from csv<br>DuckDB Version=%{x}<br>Time Relative to Latest Version=%{y}<extra></extra>",
         "legendgroup": "002 Create table from csv",
         "line": {
          "color": "#F58518"
         },
         "marker": {
          "symbol": "circle"
         },
         "mode": "lines",
         "name": "002 Create table from csv",
         "orientation": "v",
         "showlegend": true,
         "stackgroup": "1",
         "type": "scatter",
         "x": [
          "0.2.7",
          "0.2.8",
          "0.2.9",
          "0.3.0",
          "0.3.1",
          "0.3.2",
          "0.3.4",
          "0.4.0",
          "0.5.1",
          "0.6.1",
          "0.7.1",
          "0.8.1",
          "0.9.0",
          "0.9.1",
          "0.9.2",
          "0.10.0",
          "0.10.1"
         ],
         "xaxis": "x",
         "y": [
          0.2914613029509857,
          0.27849686728220713,
          0.3030693753944316,
          0.3093232966441301,
          0.40480031877139455,
          0.3298418373778532,
          0.40116672843475554,
          0.4399411462795827,
          0.4167160307431235,
          0.38998141602922637,
          0.3747449326346836,
          0.1275229015631575,
          0.12262586969229328,
          0.12531331798235762,
          0.12265385421474746,
          0.08494838176553773,
          0.08713322079643447
         ],
         "yaxis": "y"
        },
        {
         "fillpattern": {
          "shape": ""
         },
         "hovertemplate": "benchmark=003 Convert to Enums<br>DuckDB Version=%{x}<br>Time Relative to Latest Version=%{y}<extra></extra>",
         "legendgroup": "003 Convert to Enums",
         "line": {
          "color": "#E45756"
         },
         "marker": {
          "symbol": "circle"
         },
         "mode": "lines",
         "name": "003 Convert to Enums",
         "orientation": "v",
         "showlegend": true,
         "stackgroup": "1",
         "type": "scatter",
         "x": [
          "0.6.1",
          "0.7.1",
          "0.8.1",
          "0.9.0",
          "0.9.1",
          "0.9.2",
          "0.10.0",
          "0.10.1"
         ],
         "xaxis": "x",
         "y": [
          0.05154114254042398,
          0.04861002480026778,
          0.06980471746547771,
          0.07138780612185222,
          0.0707932223561281,
          0.07156873094007554,
          0.05458302073434179,
          0.05426034905647123
         ],
         "yaxis": "y"
        },
        {
         "fillpattern": {
          "shape": ""
         },
         "hovertemplate": "benchmark=004 Group by queries<br>DuckDB Version=%{x}<br>Time Relative to Latest Version=%{y}<extra></extra>",
         "legendgroup": "004 Group by queries",
         "line": {
          "color": "#72B7B2"
         },
         "marker": {
          "symbol": "circle"
         },
         "mode": "lines",
         "name": "004 Group by queries",
         "orientation": "v",
         "showlegend": true,
         "stackgroup": "1",
         "type": "scatter",
         "x": [
          "0.2.7",
          "0.2.8",
          "0.2.9",
          "0.3.0",
          "0.3.1",
          "0.3.2",
          "0.3.4",
          "0.4.0",
          "0.5.1",
          "0.6.1",
          "0.7.1",
          "0.8.1",
          "0.9.0",
          "0.9.1",
          "0.9.2",
          "0.10.0",
          "0.10.1"
         ],
         "xaxis": "x",
         "y": [
          1.8330702445652538,
          1.4613681873444397,
          1.289626105339963,
          1.2845641581746405,
          0.48274395505434897,
          0.4866248282749673,
          0.547132974476732,
          0.4359920131669065,
          0.317914440937503,
          0.10134195627167539,
          0.09754217509871826,
          0.08349608221626037,
          0.08206936669302221,
          0.08085373302105886,
          0.08039464668152294,
          0.07476211608394714,
          0.07452834185582446
         ],
         "yaxis": "y"
        },
        {
         "fillpattern": {
          "shape": ""
         },
         "hovertemplate": "benchmark=005 Export group by results to Pandas<br>DuckDB Version=%{x}<br>Time Relative to Latest Version=%{y}<extra></extra>",
         "legendgroup": "005 Export group by results to Pandas",
         "line": {
          "color": "#54A24B"
         },
         "marker": {
          "symbol": "circle"
         },
         "mode": "lines",
         "name": "005 Export group by results to Pandas",
         "orientation": "v",
         "showlegend": true,
         "stackgroup": "1",
         "type": "scatter",
         "x": [
          "0.2.7",
          "0.2.8",
          "0.2.9",
          "0.3.0",
          "0.3.1",
          "0.3.2",
          "0.3.4",
          "0.4.0"
         ],
         "xaxis": "x",
         "y": [
          0.09533795390552696,
          0.08393430794366223,
          0.07597574010091723,
          0.07648277448602986,
          0.078023984114182,
          0.07798997315257482,
          0.07482839386453813,
          0.07395288718873815
         ],
         "yaxis": "y"
        },
        {
         "fillpattern": {
          "shape": ""
         },
         "hovertemplate": "benchmark=006 Scan and aggregate over Pandas df<br>DuckDB Version=%{x}<br>Time Relative to Latest Version=%{y}<extra></extra>",
         "legendgroup": "006 Scan and aggregate over Pandas df",
         "line": {
          "color": "#EECA3B"
         },
         "marker": {
          "symbol": "circle"
         },
         "mode": "lines",
         "name": "006 Scan and aggregate over Pandas df",
         "orientation": "v",
         "showlegend": true,
         "stackgroup": "1",
         "type": "scatter",
         "x": [
          "0.2.7",
          "0.2.8",
          "0.2.9",
          "0.3.0",
          "0.3.1",
          "0.3.2",
          "0.3.4",
          "0.4.0"
         ],
         "xaxis": "x",
         "y": [
          0.0007355388993644558,
          0.0006614104923836576,
          0.0006648007515501686,
          0.0006679680765493828,
          0.0002708772210756388,
          0.0002480170572501679,
          0.0002187845965993398,
          0.00022617913107614865
         ],
         "yaxis": "y"
        },
        {
         "fillpattern": {
          "shape": ""
         },
         "hovertemplate": "benchmark=007 Export group by results to Parquet<br>DuckDB Version=%{x}<br>Time Relative to Latest Version=%{y}<extra></extra>",
         "legendgroup": "007 Export group by results to Parquet",
         "line": {
          "color": "#B279A2"
         },
         "marker": {
          "symbol": "circle"
         },
         "mode": "lines",
         "name": "007 Export group by results to Parquet",
         "orientation": "v",
         "showlegend": true,
         "stackgroup": "1",
         "type": "scatter",
         "x": [
          "0.2.7",
          "0.2.8",
          "0.2.9",
          "0.3.0",
          "0.3.1",
          "0.3.2",
          "0.3.4",
          "0.4.0",
          "0.5.1",
          "0.6.1",
          "0.7.1",
          "0.8.1",
          "0.9.0",
          "0.9.1",
          "0.9.2",
          "0.10.0",
          "0.10.1"
         ],
         "xaxis": "x",
         "y": [
          0.11392166716564468,
          0.11284640973217976,
          0.11620781735680696,
          0.11525413530023589,
          0.11580287340925535,
          0.1922880208481742,
          0.18686238488463425,
          0.18626776100639536,
          0.26959446004363646,
          0.23266884625121892,
          0.24836209054198236,
          0.09154485811147796,
          0.09125519506347476,
          0.09203082145913881,
          0.09257871004885847,
          0.09098775825724295,
          0.08965975036959822
         ],
         "yaxis": "y"
        },
        {
         "fillpattern": {
          "shape": ""
         },
         "hovertemplate": "benchmark=008 Scan and aggregate over Parquet file<br>DuckDB Version=%{x}<br>Time Relative to Latest Version=%{y}<extra></extra>",
         "legendgroup": "008 Scan and aggregate over Parquet file",
         "line": {
          "color": "#FF9DA6"
         },
         "marker": {
          "symbol": "circle"
         },
         "mode": "lines",
         "name": "008 Scan and aggregate over Parquet file",
         "orientation": "v",
         "showlegend": true,
         "stackgroup": "1",
         "type": "scatter",
         "x": [
          "0.2.7",
          "0.2.8",
          "0.2.9",
          "0.3.0",
          "0.3.1",
          "0.3.2",
          "0.3.4",
          "0.4.0",
          "0.5.1",
          "0.6.1",
          "0.7.1",
          "0.8.1",
          "0.9.0",
          "0.9.1",
          "0.9.2",
          "0.10.0",
          "0.10.1"
         ],
         "xaxis": "x",
         "y": [
          0.006176848512023489,
          0.0060365875594168865,
          0.0055131378345794355,
          0.005474613944522773,
          0.0008418190198529038,
          0.0007044697426250198,
          0.0006905952630448328,
          0.000647029765212554,
          0.00071102738693052,
          0.0006746910421456132,
          0.0006906603932591932,
          0.0006690405901548723,
          0.0006334459961162608,
          0.0006456516267260644,
          0.0006482476340597767,
          0.0006494728999672732,
          0.00065671708769034
         ],
         "yaxis": "y"
        },
        {
         "fillpattern": {
          "shape": ""
         },
         "hovertemplate": "benchmark=009 Export group by results to Arrow<br>DuckDB Version=%{x}<br>Time Relative to Latest Version=%{y}<extra></extra>",
         "legendgroup": "009 Export group by results to Arrow",
         "line": {
          "color": "#9D755D"
         },
         "marker": {
          "symbol": "circle"
         },
         "mode": "lines",
         "name": "009 Export group by results to Arrow",
         "orientation": "v",
         "showlegend": true,
         "stackgroup": "1",
         "type": "scatter",
         "x": [
          "0.5.1",
          "0.6.1",
          "0.7.1",
          "0.8.1",
          "0.9.0",
          "0.9.1",
          "0.9.2",
          "0.10.0",
          "0.10.1"
         ],
         "xaxis": "x",
         "y": [
          0.023435200047507074,
          0.017128201341952858,
          0.01747620897371831,
          0.01844090892154035,
          0.018262484911086493,
          0.01867430722263873,
          0.01841808381857785,
          0.022417081897945532,
          0.022514501603104236
         ],
         "yaxis": "y"
        },
        {
         "fillpattern": {
          "shape": ""
         },
         "hovertemplate": "benchmark=010 Scan and aggregate over Arrow df<br>DuckDB Version=%{x}<br>Time Relative to Latest Version=%{y}<extra></extra>",
         "legendgroup": "010 Scan and aggregate over Arrow df",
         "line": {
          "color": "#BAB0AC"
         },
         "marker": {
          "symbol": "circle"
         },
         "mode": "lines",
         "name": "010 Scan and aggregate over Arrow df",
         "orientation": "v",
         "showlegend": true,
         "stackgroup": "1",
         "type": "scatter",
         "x": [
          "0.5.1",
          "0.6.1",
          "0.7.1",
          "0.8.1",
          "0.9.0",
          "0.9.1",
          "0.9.2",
          "0.10.0",
          "0.10.1"
         ],
         "xaxis": "x",
         "y": [
          0.00023082737160314142,
          0.00026716618207448564,
          0.0002748789705611131,
          0.0002747787193450752,
          0.00022756989868932018,
          0.0002289480371766644,
          0.00021702800526133252,
          0.00033432607714052305,
          0.0002219920341115996
         ],
         "yaxis": "y"
        },
        {
         "fillpattern": {
          "shape": ""
         },
         "hovertemplate": "benchmark=011 Create tables from csvs joins<br>DuckDB Version=%{x}<br>Time Relative to Latest Version=%{y}<extra></extra>",
         "legendgroup": "011 Create tables from csvs joins",
         "line": {
          "color": "#4C78A8"
         },
         "marker": {
          "symbol": "circle"
         },
         "mode": "lines",
         "name": "011 Create tables from csvs joins",
         "orientation": "v",
         "showlegend": true,
         "stackgroup": "1",
         "type": "scatter",
         "x": [
          "0.2.7",
          "0.2.8",
          "0.2.9",
          "0.3.0",
          "0.3.1",
          "0.3.2",
          "0.3.4",
          "0.4.0",
          "0.5.1",
          "0.6.1",
          "0.7.1",
          "0.8.1",
          "0.9.0",
          "0.9.1",
          "0.9.2",
          "0.10.0",
          "0.10.1"
         ],
         "xaxis": "x",
         "y": [
          0.5412650108452277,
          0.5285615896504525,
          0.5680079823128273,
          0.5824459816135673,
          0.6095181874549952,
          0.6114445302598794,
          0.8298948809455511,
          0.8991957238335782,
          0.8545630622748991,
          0.8111420701652474,
          0.805812232627606,
          0.31977707935697963,
          0.27934763692544223,
          0.33273629300187835,
          0.24229389756902414,
          0.19614813118204924,
          0.2001446060219121
         ],
         "yaxis": "y"
        },
        {
         "fillpattern": {
          "shape": ""
         },
         "hovertemplate": "benchmark=012 Convert to Enums for joins<br>DuckDB Version=%{x}<br>Time Relative to Latest Version=%{y}<extra></extra>",
         "legendgroup": "012 Convert to Enums for joins",
         "line": {
          "color": "#F58518"
         },
         "marker": {
          "symbol": "circle"
         },
         "mode": "lines",
         "name": "012 Convert to Enums for joins",
         "orientation": "v",
         "showlegend": true,
         "stackgroup": "1",
         "type": "scatter",
         "x": [
          "0.6.1",
          "0.7.1",
          "0.8.1",
          "0.9.0",
          "0.9.1",
          "0.9.2",
          "0.10.0",
          "0.10.1"
         ],
         "xaxis": "x",
         "y": [
          0.1303820407947779,
          0.10853694807123733,
          0.18903842363890136,
          0.18985236590485322,
          0.18438155819889712,
          0.19613377054120507,
          0.13287115152652776,
          0.13194474489698033
         ],
         "yaxis": "y"
        },
        {
         "fillpattern": {
          "shape": ""
         },
         "hovertemplate": "benchmark=013 Join queries<br>DuckDB Version=%{x}<br>Time Relative to Latest Version=%{y}<extra></extra>",
         "legendgroup": "013 Join queries",
         "line": {
          "color": "#E45756"
         },
         "marker": {
          "symbol": "circle"
         },
         "mode": "lines",
         "name": "013 Join queries",
         "orientation": "v",
         "showlegend": true,
         "stackgroup": "1",
         "type": "scatter",
         "x": [
          "0.2.7",
          "0.2.8",
          "0.2.9",
          "0.3.0",
          "0.3.1",
          "0.3.2",
          "0.3.4",
          "0.4.0",
          "0.5.1",
          "0.6.1",
          "0.7.1",
          "0.8.1",
          "0.9.0",
          "0.9.1",
          "0.9.2",
          "0.10.0",
          "0.10.1"
         ],
         "xaxis": "x",
         "y": [
          1.4326182119782287,
          1.3191797943411943,
          1.4397058611868603,
          1.431981052417286,
          1.399235100941465,
          1.4799842427171939,
          2.1847870109198655,
          2.398412491185136,
          2.2268136896974777,
          0.35483317648619717,
          0.21142927008839169,
          0.27363541244488043,
          0.2655685248174419,
          0.26356342280527223,
          0.26673295790228946,
          0.2003233983819133,
          0.19945004160455804
         ],
         "yaxis": "y"
        },
        {
         "fillpattern": {
          "shape": ""
         },
         "hovertemplate": "benchmark=014 Export join results to Pandas<br>DuckDB Version=%{x}<br>Time Relative to Latest Version=%{y}<extra></extra>",
         "legendgroup": "014 Export join results to Pandas",
         "line": {
          "color": "#72B7B2"
         },
         "marker": {
          "symbol": "circle"
         },
         "mode": "lines",
         "name": "014 Export join results to Pandas",
         "orientation": "v",
         "showlegend": true,
         "stackgroup": "1",
         "type": "scatter",
         "x": [
          "0.2.7",
          "0.2.8",
          "0.2.9",
          "0.3.0",
          "0.3.1",
          "0.3.2",
          "0.3.4",
          "0.4.0"
         ],
         "xaxis": "x",
         "y": [
          1.978381076544786,
          1.8427569957252645,
          1.525303420210508,
          1.5393109466247084,
          1.5598416929890404,
          2.1008225860556653,
          1.5988013379748098,
          1.680332774024747
         ],
         "yaxis": "y"
        },
        {
         "fillpattern": {
          "shape": ""
         },
         "hovertemplate": "benchmark=015 Export join results to Arrow<br>DuckDB Version=%{x}<br>Time Relative to Latest Version=%{y}<extra></extra>",
         "legendgroup": "015 Export join results to Arrow",
         "line": {
          "color": "#54A24B"
         },
         "marker": {
          "symbol": "circle"
         },
         "mode": "lines",
         "name": "015 Export join results to Arrow",
         "orientation": "v",
         "showlegend": true,
         "stackgroup": "1",
         "type": "scatter",
         "x": [
          "0.5.1",
          "0.6.1",
          "0.7.1",
          "0.8.1",
          "0.9.0",
          "0.9.1",
          "0.9.2",
          "0.10.0",
          "0.10.1"
         ],
         "xaxis": "x",
         "y": [
          0.19394621781153493,
          0.10739469107248435,
          0.1069909373901164,
          0.11113967337939011,
          0.11380525120824225,
          0.1133794165190667,
          0.11133831656258639,
          0.14192707524976805,
          0.139485734673315
         ],
         "yaxis": "y"
        }
       ],
       "layout": {
        "legend": {
         "title": {
          "text": "benchmark"
         },
         "tracegroupgap": 0
        },
        "margin": {
         "t": 60
        },
        "template": {
         "data": {
          "bar": [
           {
            "error_x": {
             "color": "#2a3f5f"
            },
            "error_y": {
             "color": "#2a3f5f"
            },
            "marker": {
             "line": {
              "color": "white",
              "width": 0.5
             },
             "pattern": {
              "fillmode": "overlay",
              "size": 10,
              "solidity": 0.2
             }
            },
            "type": "bar"
           }
          ],
          "barpolar": [
           {
            "marker": {
             "line": {
              "color": "white",
              "width": 0.5
             },
             "pattern": {
              "fillmode": "overlay",
              "size": 10,
              "solidity": 0.2
             }
            },
            "type": "barpolar"
           }
          ],
          "carpet": [
           {
            "aaxis": {
             "endlinecolor": "#2a3f5f",
             "gridcolor": "#C8D4E3",
             "linecolor": "#C8D4E3",
             "minorgridcolor": "#C8D4E3",
             "startlinecolor": "#2a3f5f"
            },
            "baxis": {
             "endlinecolor": "#2a3f5f",
             "gridcolor": "#C8D4E3",
             "linecolor": "#C8D4E3",
             "minorgridcolor": "#C8D4E3",
             "startlinecolor": "#2a3f5f"
            },
            "type": "carpet"
           }
          ],
          "choropleth": [
           {
            "colorbar": {
             "outlinewidth": 0,
             "ticks": ""
            },
            "type": "choropleth"
           }
          ],
          "contour": [
           {
            "colorbar": {
             "outlinewidth": 0,
             "ticks": ""
            },
            "colorscale": [
             [
              0,
              "#0d0887"
             ],
             [
              0.1111111111111111,
              "#46039f"
             ],
             [
              0.2222222222222222,
              "#7201a8"
             ],
             [
              0.3333333333333333,
              "#9c179e"
             ],
             [
              0.4444444444444444,
              "#bd3786"
             ],
             [
              0.5555555555555556,
              "#d8576b"
             ],
             [
              0.6666666666666666,
              "#ed7953"
             ],
             [
              0.7777777777777778,
              "#fb9f3a"
             ],
             [
              0.8888888888888888,
              "#fdca26"
             ],
             [
              1,
              "#f0f921"
             ]
            ],
            "type": "contour"
           }
          ],
          "contourcarpet": [
           {
            "colorbar": {
             "outlinewidth": 0,
             "ticks": ""
            },
            "type": "contourcarpet"
           }
          ],
          "heatmap": [
           {
            "colorbar": {
             "outlinewidth": 0,
             "ticks": ""
            },
            "colorscale": [
             [
              0,
              "#0d0887"
             ],
             [
              0.1111111111111111,
              "#46039f"
             ],
             [
              0.2222222222222222,
              "#7201a8"
             ],
             [
              0.3333333333333333,
              "#9c179e"
             ],
             [
              0.4444444444444444,
              "#bd3786"
             ],
             [
              0.5555555555555556,
              "#d8576b"
             ],
             [
              0.6666666666666666,
              "#ed7953"
             ],
             [
              0.7777777777777778,
              "#fb9f3a"
             ],
             [
              0.8888888888888888,
              "#fdca26"
             ],
             [
              1,
              "#f0f921"
             ]
            ],
            "type": "heatmap"
           }
          ],
          "heatmapgl": [
           {
            "colorbar": {
             "outlinewidth": 0,
             "ticks": ""
            },
            "colorscale": [
             [
              0,
              "#0d0887"
             ],
             [
              0.1111111111111111,
              "#46039f"
             ],
             [
              0.2222222222222222,
              "#7201a8"
             ],
             [
              0.3333333333333333,
              "#9c179e"
             ],
             [
              0.4444444444444444,
              "#bd3786"
             ],
             [
              0.5555555555555556,
              "#d8576b"
             ],
             [
              0.6666666666666666,
              "#ed7953"
             ],
             [
              0.7777777777777778,
              "#fb9f3a"
             ],
             [
              0.8888888888888888,
              "#fdca26"
             ],
             [
              1,
              "#f0f921"
             ]
            ],
            "type": "heatmapgl"
           }
          ],
          "histogram": [
           {
            "marker": {
             "pattern": {
              "fillmode": "overlay",
              "size": 10,
              "solidity": 0.2
             }
            },
            "type": "histogram"
           }
          ],
          "histogram2d": [
           {
            "colorbar": {
             "outlinewidth": 0,
             "ticks": ""
            },
            "colorscale": [
             [
              0,
              "#0d0887"
             ],
             [
              0.1111111111111111,
              "#46039f"
             ],
             [
              0.2222222222222222,
              "#7201a8"
             ],
             [
              0.3333333333333333,
              "#9c179e"
             ],
             [
              0.4444444444444444,
              "#bd3786"
             ],
             [
              0.5555555555555556,
              "#d8576b"
             ],
             [
              0.6666666666666666,
              "#ed7953"
             ],
             [
              0.7777777777777778,
              "#fb9f3a"
             ],
             [
              0.8888888888888888,
              "#fdca26"
             ],
             [
              1,
              "#f0f921"
             ]
            ],
            "type": "histogram2d"
           }
          ],
          "histogram2dcontour": [
           {
            "colorbar": {
             "outlinewidth": 0,
             "ticks": ""
            },
            "colorscale": [
             [
              0,
              "#0d0887"
             ],
             [
              0.1111111111111111,
              "#46039f"
             ],
             [
              0.2222222222222222,
              "#7201a8"
             ],
             [
              0.3333333333333333,
              "#9c179e"
             ],
             [
              0.4444444444444444,
              "#bd3786"
             ],
             [
              0.5555555555555556,
              "#d8576b"
             ],
             [
              0.6666666666666666,
              "#ed7953"
             ],
             [
              0.7777777777777778,
              "#fb9f3a"
             ],
             [
              0.8888888888888888,
              "#fdca26"
             ],
             [
              1,
              "#f0f921"
             ]
            ],
            "type": "histogram2dcontour"
           }
          ],
          "mesh3d": [
           {
            "colorbar": {
             "outlinewidth": 0,
             "ticks": ""
            },
            "type": "mesh3d"
           }
          ],
          "parcoords": [
           {
            "line": {
             "colorbar": {
              "outlinewidth": 0,
              "ticks": ""
             }
            },
            "type": "parcoords"
           }
          ],
          "pie": [
           {
            "automargin": true,
            "type": "pie"
           }
          ],
          "scatter": [
           {
            "fillpattern": {
             "fillmode": "overlay",
             "size": 10,
             "solidity": 0.2
            },
            "type": "scatter"
           }
          ],
          "scatter3d": [
           {
            "line": {
             "colorbar": {
              "outlinewidth": 0,
              "ticks": ""
             }
            },
            "marker": {
             "colorbar": {
              "outlinewidth": 0,
              "ticks": ""
             }
            },
            "type": "scatter3d"
           }
          ],
          "scattercarpet": [
           {
            "marker": {
             "colorbar": {
              "outlinewidth": 0,
              "ticks": ""
             }
            },
            "type": "scattercarpet"
           }
          ],
          "scattergeo": [
           {
            "marker": {
             "colorbar": {
              "outlinewidth": 0,
              "ticks": ""
             }
            },
            "type": "scattergeo"
           }
          ],
          "scattergl": [
           {
            "marker": {
             "colorbar": {
              "outlinewidth": 0,
              "ticks": ""
             }
            },
            "type": "scattergl"
           }
          ],
          "scattermapbox": [
           {
            "marker": {
             "colorbar": {
              "outlinewidth": 0,
              "ticks": ""
             }
            },
            "type": "scattermapbox"
           }
          ],
          "scatterpolar": [
           {
            "marker": {
             "colorbar": {
              "outlinewidth": 0,
              "ticks": ""
             }
            },
            "type": "scatterpolar"
           }
          ],
          "scatterpolargl": [
           {
            "marker": {
             "colorbar": {
              "outlinewidth": 0,
              "ticks": ""
             }
            },
            "type": "scatterpolargl"
           }
          ],
          "scatterternary": [
           {
            "marker": {
             "colorbar": {
              "outlinewidth": 0,
              "ticks": ""
             }
            },
            "type": "scatterternary"
           }
          ],
          "surface": [
           {
            "colorbar": {
             "outlinewidth": 0,
             "ticks": ""
            },
            "colorscale": [
             [
              0,
              "#0d0887"
             ],
             [
              0.1111111111111111,
              "#46039f"
             ],
             [
              0.2222222222222222,
              "#7201a8"
             ],
             [
              0.3333333333333333,
              "#9c179e"
             ],
             [
              0.4444444444444444,
              "#bd3786"
             ],
             [
              0.5555555555555556,
              "#d8576b"
             ],
             [
              0.6666666666666666,
              "#ed7953"
             ],
             [
              0.7777777777777778,
              "#fb9f3a"
             ],
             [
              0.8888888888888888,
              "#fdca26"
             ],
             [
              1,
              "#f0f921"
             ]
            ],
            "type": "surface"
           }
          ],
          "table": [
           {
            "cells": {
             "fill": {
              "color": "#EBF0F8"
             },
             "line": {
              "color": "white"
             }
            },
            "header": {
             "fill": {
              "color": "#C8D4E3"
             },
             "line": {
              "color": "white"
             }
            },
            "type": "table"
           }
          ]
         },
         "layout": {
          "annotationdefaults": {
           "arrowcolor": "#2a3f5f",
           "arrowhead": 0,
           "arrowwidth": 1
          },
          "autotypenumbers": "strict",
          "coloraxis": {
           "colorbar": {
            "outlinewidth": 0,
            "ticks": ""
           }
          },
          "colorscale": {
           "diverging": [
            [
             0,
             "#8e0152"
            ],
            [
             0.1,
             "#c51b7d"
            ],
            [
             0.2,
             "#de77ae"
            ],
            [
             0.3,
             "#f1b6da"
            ],
            [
             0.4,
             "#fde0ef"
            ],
            [
             0.5,
             "#f7f7f7"
            ],
            [
             0.6,
             "#e6f5d0"
            ],
            [
             0.7,
             "#b8e186"
            ],
            [
             0.8,
             "#7fbc41"
            ],
            [
             0.9,
             "#4d9221"
            ],
            [
             1,
             "#276419"
            ]
           ],
           "sequential": [
            [
             0,
             "#0d0887"
            ],
            [
             0.1111111111111111,
             "#46039f"
            ],
            [
             0.2222222222222222,
             "#7201a8"
            ],
            [
             0.3333333333333333,
             "#9c179e"
            ],
            [
             0.4444444444444444,
             "#bd3786"
            ],
            [
             0.5555555555555556,
             "#d8576b"
            ],
            [
             0.6666666666666666,
             "#ed7953"
            ],
            [
             0.7777777777777778,
             "#fb9f3a"
            ],
            [
             0.8888888888888888,
             "#fdca26"
            ],
            [
             1,
             "#f0f921"
            ]
           ],
           "sequentialminus": [
            [
             0,
             "#0d0887"
            ],
            [
             0.1111111111111111,
             "#46039f"
            ],
            [
             0.2222222222222222,
             "#7201a8"
            ],
            [
             0.3333333333333333,
             "#9c179e"
            ],
            [
             0.4444444444444444,
             "#bd3786"
            ],
            [
             0.5555555555555556,
             "#d8576b"
            ],
            [
             0.6666666666666666,
             "#ed7953"
            ],
            [
             0.7777777777777778,
             "#fb9f3a"
            ],
            [
             0.8888888888888888,
             "#fdca26"
            ],
            [
             1,
             "#f0f921"
            ]
           ]
          },
          "colorway": [
           "#636efa",
           "#EF553B",
           "#00cc96",
           "#ab63fa",
           "#FFA15A",
           "#19d3f3",
           "#FF6692",
           "#B6E880",
           "#FF97FF",
           "#FECB52"
          ],
          "font": {
           "color": "#2a3f5f"
          },
          "geo": {
           "bgcolor": "white",
           "lakecolor": "white",
           "landcolor": "white",
           "showlakes": true,
           "showland": true,
           "subunitcolor": "#C8D4E3"
          },
          "hoverlabel": {
           "align": "left"
          },
          "hovermode": "closest",
          "mapbox": {
           "style": "light"
          },
          "paper_bgcolor": "white",
          "plot_bgcolor": "white",
          "polar": {
           "angularaxis": {
            "gridcolor": "#EBF0F8",
            "linecolor": "#EBF0F8",
            "ticks": ""
           },
           "bgcolor": "white",
           "radialaxis": {
            "gridcolor": "#EBF0F8",
            "linecolor": "#EBF0F8",
            "ticks": ""
           }
          },
          "scene": {
           "xaxis": {
            "backgroundcolor": "white",
            "gridcolor": "#DFE8F3",
            "gridwidth": 2,
            "linecolor": "#EBF0F8",
            "showbackground": true,
            "ticks": "",
            "zerolinecolor": "#EBF0F8"
           },
           "yaxis": {
            "backgroundcolor": "white",
            "gridcolor": "#DFE8F3",
            "gridwidth": 2,
            "linecolor": "#EBF0F8",
            "showbackground": true,
            "ticks": "",
            "zerolinecolor": "#EBF0F8"
           },
           "zaxis": {
            "backgroundcolor": "white",
            "gridcolor": "#DFE8F3",
            "gridwidth": 2,
            "linecolor": "#EBF0F8",
            "showbackground": true,
            "ticks": "",
            "zerolinecolor": "#EBF0F8"
           }
          },
          "shapedefaults": {
           "line": {
            "color": "#2a3f5f"
           }
          },
          "ternary": {
           "aaxis": {
            "gridcolor": "#DFE8F3",
            "linecolor": "#A2B1C6",
            "ticks": ""
           },
           "baxis": {
            "gridcolor": "#DFE8F3",
            "linecolor": "#A2B1C6",
            "ticks": ""
           },
           "bgcolor": "white",
           "caxis": {
            "gridcolor": "#DFE8F3",
            "linecolor": "#A2B1C6",
            "ticks": ""
           }
          },
          "title": {
           "x": 0.05
          },
          "xaxis": {
           "automargin": true,
           "gridcolor": "#EBF0F8",
           "linecolor": "#EBF0F8",
           "ticks": "",
           "title": {
            "standoff": 15
           },
           "zerolinecolor": "#EBF0F8",
           "zerolinewidth": 2
          },
          "yaxis": {
           "automargin": true,
           "gridcolor": "#EBF0F8",
           "linecolor": "#EBF0F8",
           "ticks": "",
           "title": {
            "standoff": 15
           },
           "zerolinecolor": "#EBF0F8",
           "zerolinewidth": 2
          }
         }
        },
        "xaxis": {
         "anchor": "y",
         "domain": [
          0,
          1
         ],
         "title": {
          "text": "DuckDB Version"
         }
        },
        "yaxis": {
         "anchor": "x",
         "domain": [
          0,
          1
         ],
         "title": {
          "text": "Time Relative to Latest Version"
         }
        }
       }
      }
     },
     "metadata": {},
     "output_type": "display_data"
    }
   ],
   "source": [
    "fig = px.area(\n",
    "    pandas_or_arrow_with_placeholders,\n",
    "    x=\"DuckDB Version\",\n",
    "    y=\"Time (seconds)\",\n",
    "    color=\"Benchmark Type\",\n",
    "    line_group=\"benchmark\",\n",
    "    category_orders={\"Benchmark Type\":[\"CSV Import\",\"Scan other formats\",\"Analysis - Group By\", 'Analysis - Join', 'Window Functions', \"Export\"]},\n",
    "    template='plotly_white',\n",
    "    color_discrete_sequence=px.colors.qualitative.T10,\n",
    ")\n",
    "# print(plotly.io.to_json(fig, pretty=True))\n",
    "fig.show()\n",
    "\n",
    "fig = px.area(\n",
    "    pandas_or_arrow_with_placeholders,\n",
    "    x=\"DuckDB Version\",\n",
    "    y=\"Time Relative to Latest Version\",\n",
    "    color=\"Benchmark Type\",\n",
    "    line_group=\"benchmark\",\n",
    "    category_orders={\"Benchmark Type\":[\"CSV Import\",\"Scan other formats\",\"Analysis - Group By\", 'Analysis - Join', 'Window Functions', \"Export\"]},\n",
    "    template='plotly_white',\n",
    "    color_discrete_sequence=px.colors.qualitative.T10,\n",
    ")\n",
    "fig.show()\n",
    "\n",
    "fig = px.area(\n",
    "    pandas_or_arrow_with_placeholders,\n",
    "    x=\"DuckDB Version\",\n",
    "    y=\"Time Relative to Latest Version\",\n",
    "    color=\"benchmark\",\n",
    "    line_group=\"benchmark\",\n",
    "    # category_orders={\"Benchmark Type\":[\"CSV Import\",\"Scan other formats\",\"Analysis - Group By\", 'Analysis - Join', 'Window Functions', \"Export\"]},\n",
    "    template='plotly_white',\n",
    "    color_discrete_sequence=px.colors.qualitative.T10,\n",
    ")\n",
    "fig.show()"
   ]
  },
  {
   "cell_type": "markdown",
   "metadata": {},
   "source": [
    "- Group by\n",
    "    - 0.3.1: 1.28 - .48 improvement\n",
    "        - Default multithreading (https://github.com/duckdb/duckdb/pull/2393)\n",
    "        - Push based execution (https://github.com/duckdb/duckdb/pull/2393)\n",
    "    - 0.6.1:  0.32 to 0.1 improvement\n",
    "        - Parallel data loading (https://github.com/duckdb/duckdb/pull/5082)\n",
    "        - Patas floating point compression (https://github.com/duckdb/duckdb/pull/5044)\n",
    "    - 0.8.1: from .1 to .8 improvement\n",
    "        - Avoid unnecessary resizing of hash tables (https://github.com/duckdb/duckdb/pull/6877)\n",
    "    - 0.10.0: from .8 to .75\n",
    "- Join\n",
    "    - 0.6.1: 2.2 to 0.35\n",
    "        - Improvements to out of core hash join (https://github.com/duckdb/duckdb/pull/4970)\n",
    "        - Parallel data loading (https://github.com/duckdb/duckdb/pull/5082)\n",
    "        - Patas floating point compression (https://github.com/duckdb/duckdb/pull/5044)\n",
    "    - 0.7.1: 0.35 to 0.2\n",
    "        - *TODO NEED TO ADD THINGS HERE*\n",
    "    - (then gave back ground to 0.27 up through 0.9.2)\n",
    "    - 0.10.0: 0.27 to 0.2\n",
    "- 008 Scan and Aggregate over Parquet file\n",
    "    - 0.3.1: .005 to .001 \n",
    "        - Default multithreading (https://github.com/duckdb/duckdb/pull/2393)\n",
    "        - Push based execution (https://github.com/duckdb/duckdb/pull/2393)\n",
    "- Create table from csv\n",
    "    - 0.8.1: 1.2 to 0.4\n",
    "        - Parallel CSV Reader as default (https://github.com/duckdb/duckdb/pull/6977)\n",
    "    - 0.10.0: 0.36 to 0.28\n",
    "- Scan and aggregate over Pandas\n",
    "    - 668 - 271\n",
    "- Should tell the Pandas vs. Arrow story (0.5.1)\n",
    "- Should tell the Enums story (0.6.1)\n",
    "- I need to do this for window functions\n",
    "- Benchmark the connection time?\n",
    "    - Lazily load row groups from tables: 100x benefit with 770 million rows: https://github.com/duckdb/duckdb/pull/6715"
   ]
  },
  {
   "cell_type": "code",
   "execution_count": 11,
   "metadata": {},
   "outputs": [],
   "source": [
    "# Also plot by date\n",
    "from datetime import datetime\n",
    "versions = {\n",
    "    # 0.2.7 is the first with MacOS ARM\n",
    "    '0.2.7': {'date':datetime.strptime('2021-06-14','%Y-%m-%d')},\n",
    "    '0.2.8': {'date':datetime.strptime('2021-08-02','%Y-%m-%d')},\n",
    "    '0.2.9': {'date':datetime.strptime('2021-09-06','%Y-%m-%d')},\n",
    "    '0.3.0': {'date':datetime.strptime('2021-10-06','%Y-%m-%d')},\n",
    "    '0.3.1': {'date':datetime.strptime('2021-11-16','%Y-%m-%d')},\n",
    "    '0.3.2': {'date':datetime.strptime('2022-02-07','%Y-%m-%d')},\n",
    "    # 0.3.3 did not upload to pip correctly so it should be skipped\n",
    "    # '0.3.3': {'date':datetime.strptime('2022-04-11','%Y-%m-%d')},\n",
    "    '0.3.4': {'date':datetime.strptime('2022-04-25','%Y-%m-%d')},\n",
    "    '0.4.0': {'date':datetime.strptime('2022-06-20','%Y-%m-%d')},\n",
    "    '0.5.1': {'date':datetime.strptime('2022-09-19','%Y-%m-%d')},\n",
    "    '0.6.1': {'date':datetime.strptime('2022-12-06','%Y-%m-%d')},\n",
    "    '0.7.1': {'date':datetime.strptime('2023-02-27','%Y-%m-%d')},\n",
    "    '0.8.1': {'date':datetime.strptime('2023-06-13','%Y-%m-%d')},\n",
    "    '0.9.0': {'date':datetime.strptime('2023-09-26','%Y-%m-%d')},\n",
    "    '0.9.1': {'date':datetime.strptime('2023-10-11','%Y-%m-%d')},\n",
    "    '0.9.2': {'date':datetime.strptime('2023-11-14','%Y-%m-%d')},\n",
    "    '0.10.0': {'date':datetime.strptime('2024-02-13','%Y-%m-%d')},\n",
    "    '0.10.1': {'date':datetime.strptime('2024-03-18','%Y-%m-%d')},\n",
    "    '0.10.2': {'date':datetime.strptime('2024-04-17','%Y-%m-%d')},\n",
    "}\n",
    "versions_df = pd.DataFrame([versions])\n",
    "# versions_df\n",
    "pandas_or_arrow_with_dates = con.sql(\"\"\"\n",
    "    with unpivoted as (\n",
    "        unpivot versions_df\n",
    "        on columns(*)\n",
    "        into name version\n",
    "             value date_struct\n",
    "    ), version_to_date_map as (\n",
    "        from unpivoted \n",
    "        select \n",
    "            version,\n",
    "            date_struct.date as \"Release Date\"\n",
    "    )\n",
    "    from pandas_or_arrow_with_placeholders data\n",
    "    left join version_to_date_map on data.\"DuckDB Version\" = version_to_date_map.version\n",
    "    select \n",
    "        data.*,\n",
    "        version_to_date_map.* exclude version\n",
    "        \n",
    "\"\"\").df()\n",
    "# pandas_or_arrow_with_dates"
   ]
  },
  {
   "cell_type": "code",
   "execution_count": 12,
   "metadata": {},
   "outputs": [
    {
     "data": {
      "application/vnd.plotly.v1+json": {
       "config": {
        "plotlyServerURL": "https://plot.ly"
       },
       "data": [
        {
         "customdata": [
          [
           "0.2.7"
          ],
          [
           "0.2.8"
          ],
          [
           "0.2.9"
          ],
          [
           "0.3.0"
          ],
          [
           "0.3.1"
          ],
          [
           "0.3.2"
          ],
          [
           "0.3.4"
          ],
          [
           "0.4.0"
          ],
          [
           "0.5.1"
          ],
          [
           "0.6.1"
          ],
          [
           "0.7.1"
          ],
          [
           "0.8.1"
          ],
          [
           "0.9.0"
          ],
          [
           "0.9.1"
          ],
          [
           "0.9.2"
          ],
          [
           "0.10.0"
          ],
          [
           "0.10.1"
          ]
         ],
         "fillpattern": {
          "shape": ""
         },
         "hovertemplate": "Benchmark Type=CSV Import<br>benchmark=000 Placeholder for charting<br>Release Date=%{x}<br>Time (seconds)=%{y}<br>DuckDB Version=%{customdata[0]}<extra></extra>",
         "legendgroup": "CSV Import",
         "line": {
          "color": "#4C78A8"
         },
         "marker": {
          "symbol": "circle"
         },
         "mode": "lines",
         "name": "CSV Import",
         "orientation": "v",
         "showlegend": true,
         "stackgroup": "1",
         "type": "scatter",
         "x": [
          "2021-06-14T00:00:00",
          "2021-08-02T00:00:00",
          "2021-09-06T00:00:00",
          "2021-10-06T00:00:00",
          "2021-11-16T00:00:00",
          "2022-02-07T00:00:00",
          "2022-04-25T00:00:00",
          "2022-06-20T00:00:00",
          "2022-09-19T00:00:00",
          "2022-12-06T00:00:00",
          "2023-02-27T00:00:00",
          "2023-06-13T00:00:00",
          "2023-09-26T00:00:00",
          "2023-10-11T00:00:00",
          "2023-11-14T00:00:00",
          "2024-02-13T00:00:00",
          "2024-03-18T00:00:00"
         ],
         "xaxis": "x",
         "y": [
          0,
          0,
          0,
          0,
          0,
          0,
          0,
          0,
          0,
          0,
          0,
          0,
          0,
          0,
          0,
          0,
          0
         ],
         "yaxis": "y"
        },
        {
         "customdata": [
          [
           "0.2.7"
          ],
          [
           "0.2.8"
          ],
          [
           "0.2.9"
          ],
          [
           "0.3.0"
          ],
          [
           "0.3.1"
          ],
          [
           "0.3.2"
          ],
          [
           "0.3.4"
          ],
          [
           "0.4.0"
          ],
          [
           "0.5.1"
          ],
          [
           "0.6.1"
          ],
          [
           "0.7.1"
          ],
          [
           "0.8.1"
          ],
          [
           "0.9.0"
          ],
          [
           "0.9.1"
          ],
          [
           "0.9.2"
          ],
          [
           "0.10.0"
          ],
          [
           "0.10.1"
          ]
         ],
         "fillpattern": {
          "shape": ""
         },
         "hovertemplate": "Benchmark Type=CSV Import<br>benchmark=002 Create table from csv<br>Release Date=%{x}<br>Time (seconds)=%{y}<br>DuckDB Version=%{customdata[0]}<extra></extra>",
         "legendgroup": "CSV Import",
         "line": {
          "color": "#4C78A8"
         },
         "marker": {
          "symbol": "circle"
         },
         "mode": "lines",
         "name": "CSV Import",
         "orientation": "v",
         "showlegend": false,
         "stackgroup": "1",
         "type": "scatter",
         "x": [
          "2021-06-14T00:00:00",
          "2021-08-02T00:00:00",
          "2021-09-06T00:00:00",
          "2021-10-06T00:00:00",
          "2021-11-16T00:00:00",
          "2022-02-07T00:00:00",
          "2022-04-25T00:00:00",
          "2022-06-20T00:00:00",
          "2022-09-19T00:00:00",
          "2022-12-06T00:00:00",
          "2023-02-27T00:00:00",
          "2023-06-13T00:00:00",
          "2023-09-26T00:00:00",
          "2023-10-11T00:00:00",
          "2023-11-14T00:00:00",
          "2024-02-13T00:00:00",
          "2024-03-18T00:00:00"
         ],
         "xaxis": "x",
         "y": [
          4.846484791999998,
          4.630909209,
          5.039506459000009,
          5.143498083000011,
          6.731111708,
          5.484685042000001,
          6.670691541999986,
          7.315441374999978,
          6.929248874999999,
          6.484699625000005,
          6.231343916,
          2.120479792000001,
          2.039050833,
          2.0837383339999995,
          2.0395161659999985,
          1.412541000000001,
          1.448871
         ],
         "yaxis": "y"
        },
        {
         "customdata": [
          [
           "0.2.7"
          ],
          [
           "0.2.8"
          ],
          [
           "0.2.9"
          ],
          [
           "0.3.0"
          ],
          [
           "0.3.1"
          ],
          [
           "0.3.2"
          ],
          [
           "0.3.4"
          ],
          [
           "0.4.0"
          ],
          [
           "0.5.1"
          ],
          [
           "0.6.1"
          ],
          [
           "0.7.1"
          ],
          [
           "0.8.1"
          ],
          [
           "0.9.0"
          ],
          [
           "0.9.1"
          ],
          [
           "0.9.2"
          ],
          [
           "0.10.0"
          ],
          [
           "0.10.1"
          ]
         ],
         "fillpattern": {
          "shape": ""
         },
         "hovertemplate": "Benchmark Type=CSV Import<br>benchmark=011 Create tables from csvs joins<br>Release Date=%{x}<br>Time (seconds)=%{y}<br>DuckDB Version=%{customdata[0]}<extra></extra>",
         "legendgroup": "CSV Import",
         "line": {
          "color": "#4C78A8"
         },
         "marker": {
          "symbol": "circle"
         },
         "mode": "lines",
         "name": "CSV Import",
         "orientation": "v",
         "showlegend": false,
         "stackgroup": "1",
         "type": "scatter",
         "x": [
          "2021-06-14T00:00:00",
          "2021-08-02T00:00:00",
          "2021-09-06T00:00:00",
          "2021-10-06T00:00:00",
          "2021-11-16T00:00:00",
          "2022-02-07T00:00:00",
          "2022-04-25T00:00:00",
          "2022-06-20T00:00:00",
          "2022-09-19T00:00:00",
          "2022-12-06T00:00:00",
          "2023-02-27T00:00:00",
          "2023-06-13T00:00:00",
          "2023-09-26T00:00:00",
          "2023-10-11T00:00:00",
          "2023-11-14T00:00:00",
          "2024-02-13T00:00:00",
          "2024-03-18T00:00:00"
         ],
         "xaxis": "x",
         "y": [
          9.000277625000024,
          8.789042249999994,
          9.444965832999998,
          9.685044167000001,
          10.135206959000001,
          10.167238625,
          13.799680708000004,
          14.952030874999998,
          14.209868834000005,
          13.487854708,
          13.399228957999995,
          5.317325958,
          4.645055999999997,
          5.532814708000004,
          4.028918000000004,
          3.261595707999998,
          3.328050000000001
         ],
         "yaxis": "y"
        },
        {
         "customdata": [
          [
           "0.2.7"
          ],
          [
           "0.2.8"
          ],
          [
           "0.2.9"
          ],
          [
           "0.3.0"
          ],
          [
           "0.3.1"
          ],
          [
           "0.3.2"
          ],
          [
           "0.3.4"
          ],
          [
           "0.4.0"
          ],
          [
           "0.5.1"
          ],
          [
           "0.6.1"
          ],
          [
           "0.7.1"
          ],
          [
           "0.8.1"
          ],
          [
           "0.9.0"
          ],
          [
           "0.9.1"
          ],
          [
           "0.9.2"
          ],
          [
           "0.10.0"
          ],
          [
           "0.10.1"
          ]
         ],
         "fillpattern": {
          "shape": ""
         },
         "hovertemplate": "Benchmark Type=Scan other formats<br>benchmark=000 Placeholder for charting<br>Release Date=%{x}<br>Time (seconds)=%{y}<br>DuckDB Version=%{customdata[0]}<extra></extra>",
         "legendgroup": "Scan other formats",
         "line": {
          "color": "#F58518"
         },
         "marker": {
          "symbol": "circle"
         },
         "mode": "lines",
         "name": "Scan other formats",
         "orientation": "v",
         "showlegend": true,
         "stackgroup": "1",
         "type": "scatter",
         "x": [
          "2021-06-14T00:00:00",
          "2021-08-02T00:00:00",
          "2021-09-06T00:00:00",
          "2021-10-06T00:00:00",
          "2021-11-16T00:00:00",
          "2022-02-07T00:00:00",
          "2022-04-25T00:00:00",
          "2022-06-20T00:00:00",
          "2022-09-19T00:00:00",
          "2022-12-06T00:00:00",
          "2023-02-27T00:00:00",
          "2023-06-13T00:00:00",
          "2023-09-26T00:00:00",
          "2023-10-11T00:00:00",
          "2023-11-14T00:00:00",
          "2024-02-13T00:00:00",
          "2024-03-18T00:00:00"
         ],
         "xaxis": "x",
         "y": [
          0,
          0,
          0,
          0,
          0,
          0,
          0,
          0,
          0,
          0,
          0,
          0,
          0,
          0,
          0,
          0,
          0
         ],
         "yaxis": "y"
        },
        {
         "customdata": [
          [
           "0.2.7"
          ],
          [
           "0.2.8"
          ],
          [
           "0.2.9"
          ],
          [
           "0.3.0"
          ],
          [
           "0.3.1"
          ],
          [
           "0.3.2"
          ],
          [
           "0.3.4"
          ],
          [
           "0.4.0"
          ]
         ],
         "fillpattern": {
          "shape": ""
         },
         "hovertemplate": "Benchmark Type=Scan other formats<br>benchmark=006 Scan and aggregate over Pandas df<br>Release Date=%{x}<br>Time (seconds)=%{y}<br>DuckDB Version=%{customdata[0]}<extra></extra>",
         "legendgroup": "Scan other formats",
         "line": {
          "color": "#F58518"
         },
         "marker": {
          "symbol": "circle"
         },
         "mode": "lines",
         "name": "Scan other formats",
         "orientation": "v",
         "showlegend": false,
         "stackgroup": "1",
         "type": "scatter",
         "x": [
          "2021-06-14T00:00:00",
          "2021-08-02T00:00:00",
          "2021-09-06T00:00:00",
          "2021-10-06T00:00:00",
          "2021-11-16T00:00:00",
          "2022-02-07T00:00:00",
          "2022-04-25T00:00:00",
          "2022-06-20T00:00:00"
         ],
         "xaxis": "x",
         "y": [
          0.012230708000004142,
          0.01099808400000768,
          0.01105445800000382,
          0.011107124999995222,
          0.004504208000000176,
          0.0041240840000007495,
          0.003638000000023567,
          0.00376095800001508
         ],
         "yaxis": "y"
        },
        {
         "customdata": [
          [
           "0.2.7"
          ],
          [
           "0.2.8"
          ],
          [
           "0.2.9"
          ],
          [
           "0.3.0"
          ],
          [
           "0.3.1"
          ],
          [
           "0.3.2"
          ],
          [
           "0.3.4"
          ],
          [
           "0.4.0"
          ],
          [
           "0.5.1"
          ],
          [
           "0.6.1"
          ],
          [
           "0.7.1"
          ],
          [
           "0.8.1"
          ],
          [
           "0.9.0"
          ],
          [
           "0.9.1"
          ],
          [
           "0.9.2"
          ],
          [
           "0.10.0"
          ],
          [
           "0.10.1"
          ]
         ],
         "fillpattern": {
          "shape": ""
         },
         "hovertemplate": "Benchmark Type=Scan other formats<br>benchmark=008 Scan and aggregate over Parquet file<br>Release Date=%{x}<br>Time (seconds)=%{y}<br>DuckDB Version=%{customdata[0]}<extra></extra>",
         "legendgroup": "Scan other formats",
         "line": {
          "color": "#F58518"
         },
         "marker": {
          "symbol": "circle"
         },
         "mode": "lines",
         "name": "Scan other formats",
         "orientation": "v",
         "showlegend": false,
         "stackgroup": "1",
         "type": "scatter",
         "x": [
          "2021-06-14T00:00:00",
          "2021-08-02T00:00:00",
          "2021-09-06T00:00:00",
          "2021-10-06T00:00:00",
          "2021-11-16T00:00:00",
          "2022-02-07T00:00:00",
          "2022-04-25T00:00:00",
          "2022-06-20T00:00:00",
          "2022-09-19T00:00:00",
          "2022-12-06T00:00:00",
          "2023-02-27T00:00:00",
          "2023-06-13T00:00:00",
          "2023-09-26T00:00:00",
          "2023-10-11T00:00:00",
          "2023-11-14T00:00:00",
          "2024-02-13T00:00:00",
          "2024-03-18T00:00:00"
         ],
         "xaxis": "x",
         "y": [
          0.1027100410000017,
          0.10037775000000693,
          0.09167370899999838,
          0.09103312500000271,
          0.01399795800000092,
          0.011714083000001096,
          0.011483374999997409,
          0.01075895799999671,
          0.011823125000006485,
          0.011218915999998913,
          0.011484458000005304,
          0.01112495899999999,
          0.010533083999995085,
          0.010736042000004886,
          0.010779208999998957,
          0.010799583000000723,
          0.010920040999998548
         ],
         "yaxis": "y"
        },
        {
         "customdata": [
          [
           "0.5.1"
          ],
          [
           "0.6.1"
          ],
          [
           "0.7.1"
          ],
          [
           "0.8.1"
          ],
          [
           "0.9.0"
          ],
          [
           "0.9.1"
          ],
          [
           "0.9.2"
          ],
          [
           "0.10.0"
          ],
          [
           "0.10.1"
          ]
         ],
         "fillpattern": {
          "shape": ""
         },
         "hovertemplate": "Benchmark Type=Scan other formats<br>benchmark=010 Scan and aggregate over Arrow df<br>Release Date=%{x}<br>Time (seconds)=%{y}<br>DuckDB Version=%{customdata[0]}<extra></extra>",
         "legendgroup": "Scan other formats",
         "line": {
          "color": "#F58518"
         },
         "marker": {
          "symbol": "circle"
         },
         "mode": "lines",
         "name": "Scan other formats",
         "orientation": "v",
         "showlegend": false,
         "stackgroup": "1",
         "type": "scatter",
         "x": [
          "2022-09-19T00:00:00",
          "2022-12-06T00:00:00",
          "2023-02-27T00:00:00",
          "2023-06-13T00:00:00",
          "2023-09-26T00:00:00",
          "2023-10-11T00:00:00",
          "2023-11-14T00:00:00",
          "2024-02-13T00:00:00",
          "2024-03-18T00:00:00"
         ],
         "xaxis": "x",
         "y": [
          0.0038382500000011532,
          0.0044425000000032355,
          0.004570750000006285,
          0.004569082999999807,
          0.0037840839999958575,
          0.003807000000001892,
          0.0036087909999977796,
          0.005559250000001015,
          0.0036913339999991024
         ],
         "yaxis": "y"
        },
        {
         "customdata": [
          [
           "0.2.7"
          ],
          [
           "0.2.8"
          ],
          [
           "0.2.9"
          ],
          [
           "0.3.0"
          ],
          [
           "0.3.1"
          ],
          [
           "0.3.2"
          ],
          [
           "0.3.4"
          ],
          [
           "0.4.0"
          ],
          [
           "0.5.1"
          ],
          [
           "0.6.1"
          ],
          [
           "0.7.1"
          ],
          [
           "0.8.1"
          ],
          [
           "0.9.0"
          ],
          [
           "0.9.1"
          ],
          [
           "0.9.2"
          ],
          [
           "0.10.0"
          ],
          [
           "0.10.1"
          ]
         ],
         "fillpattern": {
          "shape": ""
         },
         "hovertemplate": "Benchmark Type=Analysis - Group By<br>benchmark=000 Placeholder for charting<br>Release Date=%{x}<br>Time (seconds)=%{y}<br>DuckDB Version=%{customdata[0]}<extra></extra>",
         "legendgroup": "Analysis - Group By",
         "line": {
          "color": "#E45756"
         },
         "marker": {
          "symbol": "circle"
         },
         "mode": "lines",
         "name": "Analysis - Group By",
         "orientation": "v",
         "showlegend": true,
         "stackgroup": "1",
         "type": "scatter",
         "x": [
          "2021-06-14T00:00:00",
          "2021-08-02T00:00:00",
          "2021-09-06T00:00:00",
          "2021-10-06T00:00:00",
          "2021-11-16T00:00:00",
          "2022-02-07T00:00:00",
          "2022-04-25T00:00:00",
          "2022-06-20T00:00:00",
          "2022-09-19T00:00:00",
          "2022-12-06T00:00:00",
          "2023-02-27T00:00:00",
          "2023-06-13T00:00:00",
          "2023-09-26T00:00:00",
          "2023-10-11T00:00:00",
          "2023-11-14T00:00:00",
          "2024-02-13T00:00:00",
          "2024-03-18T00:00:00"
         ],
         "xaxis": "x",
         "y": [
          0,
          0,
          0,
          0,
          0,
          0,
          0,
          0,
          0,
          0,
          0,
          0,
          0,
          0,
          0,
          0,
          0
         ],
         "yaxis": "y"
        },
        {
         "customdata": [
          [
           "0.6.1"
          ],
          [
           "0.7.1"
          ],
          [
           "0.8.1"
          ],
          [
           "0.9.0"
          ],
          [
           "0.9.1"
          ],
          [
           "0.9.2"
          ],
          [
           "0.10.0"
          ],
          [
           "0.10.1"
          ]
         ],
         "fillpattern": {
          "shape": ""
         },
         "hovertemplate": "Benchmark Type=Analysis - Group By<br>benchmark=003 Convert to Enums<br>Release Date=%{x}<br>Time (seconds)=%{y}<br>DuckDB Version=%{customdata[0]}<extra></extra>",
         "legendgroup": "Analysis - Group By",
         "line": {
          "color": "#E45756"
         },
         "marker": {
          "symbol": "circle"
         },
         "mode": "lines",
         "name": "Analysis - Group By",
         "orientation": "v",
         "showlegend": false,
         "stackgroup": "1",
         "type": "scatter",
         "x": [
          "2022-12-06T00:00:00",
          "2023-02-27T00:00:00",
          "2023-06-13T00:00:00",
          "2023-09-26T00:00:00",
          "2023-10-11T00:00:00",
          "2023-11-14T00:00:00",
          "2024-02-13T00:00:00",
          "2024-03-18T00:00:00"
         ],
         "xaxis": "x",
         "y": [
          0.8570378329999988,
          0.8082985409999992,
          1.1607287080000006,
          1.1870526659999996,
          1.1771657920000003,
          1.1900611249999997,
          0.9076188750000007,
          0.9022534170000007
         ],
         "yaxis": "y"
        },
        {
         "customdata": [
          [
           "0.2.7"
          ],
          [
           "0.2.8"
          ],
          [
           "0.2.9"
          ],
          [
           "0.3.0"
          ],
          [
           "0.3.1"
          ],
          [
           "0.3.2"
          ],
          [
           "0.3.4"
          ],
          [
           "0.4.0"
          ],
          [
           "0.5.1"
          ],
          [
           "0.6.1"
          ],
          [
           "0.7.1"
          ],
          [
           "0.8.1"
          ],
          [
           "0.9.0"
          ],
          [
           "0.9.1"
          ],
          [
           "0.9.2"
          ],
          [
           "0.10.0"
          ],
          [
           "0.10.1"
          ]
         ],
         "fillpattern": {
          "shape": ""
         },
         "hovertemplate": "Benchmark Type=Analysis - Group By<br>benchmark=004 Group by queries<br>Release Date=%{x}<br>Time (seconds)=%{y}<br>DuckDB Version=%{customdata[0]}<extra></extra>",
         "legendgroup": "Analysis - Group By",
         "line": {
          "color": "#E45756"
         },
         "marker": {
          "symbol": "circle"
         },
         "mode": "lines",
         "name": "Analysis - Group By",
         "orientation": "v",
         "showlegend": false,
         "stackgroup": "1",
         "type": "scatter",
         "x": [
          "2021-06-14T00:00:00",
          "2021-08-02T00:00:00",
          "2021-09-06T00:00:00",
          "2021-10-06T00:00:00",
          "2021-11-16T00:00:00",
          "2022-02-07T00:00:00",
          "2022-04-25T00:00:00",
          "2022-06-20T00:00:00",
          "2022-09-19T00:00:00",
          "2022-12-06T00:00:00",
          "2023-02-27T00:00:00",
          "2023-06-13T00:00:00",
          "2023-09-26T00:00:00",
          "2023-10-11T00:00:00",
          "2023-11-14T00:00:00",
          "2024-02-13T00:00:00",
          "2024-03-18T00:00:00"
         ],
         "xaxis": "x",
         "y": [
          30.480708666999988,
          24.299962375000007,
          21.444196000000005,
          21.36002479199999,
          8.027176208,
          8.091708249999996,
          9.097851458,
          7.249774291999984,
          5.286353582999993,
          1.6851370830000008,
          1.6219534580000072,
          1.388391833,
          1.364668082999998,
          1.3444542499999983,
          1.3368204580000018,
          1.2431614589999995,
          1.2392742079999977
         ],
         "yaxis": "y"
        },
        {
         "customdata": [
          [
           "0.2.7"
          ],
          [
           "0.2.8"
          ],
          [
           "0.2.9"
          ],
          [
           "0.3.0"
          ],
          [
           "0.3.1"
          ],
          [
           "0.3.2"
          ],
          [
           "0.3.4"
          ],
          [
           "0.4.0"
          ],
          [
           "0.5.1"
          ],
          [
           "0.6.1"
          ],
          [
           "0.7.1"
          ],
          [
           "0.8.1"
          ],
          [
           "0.9.0"
          ],
          [
           "0.9.1"
          ],
          [
           "0.9.2"
          ],
          [
           "0.10.0"
          ],
          [
           "0.10.1"
          ]
         ],
         "fillpattern": {
          "shape": ""
         },
         "hovertemplate": "Benchmark Type=Analysis - Join<br>benchmark=000 Placeholder for charting<br>Release Date=%{x}<br>Time (seconds)=%{y}<br>DuckDB Version=%{customdata[0]}<extra></extra>",
         "legendgroup": "Analysis - Join",
         "line": {
          "color": "#72B7B2"
         },
         "marker": {
          "symbol": "circle"
         },
         "mode": "lines",
         "name": "Analysis - Join",
         "orientation": "v",
         "showlegend": true,
         "stackgroup": "1",
         "type": "scatter",
         "x": [
          "2021-06-14T00:00:00",
          "2021-08-02T00:00:00",
          "2021-09-06T00:00:00",
          "2021-10-06T00:00:00",
          "2021-11-16T00:00:00",
          "2022-02-07T00:00:00",
          "2022-04-25T00:00:00",
          "2022-06-20T00:00:00",
          "2022-09-19T00:00:00",
          "2022-12-06T00:00:00",
          "2023-02-27T00:00:00",
          "2023-06-13T00:00:00",
          "2023-09-26T00:00:00",
          "2023-10-11T00:00:00",
          "2023-11-14T00:00:00",
          "2024-02-13T00:00:00",
          "2024-03-18T00:00:00"
         ],
         "xaxis": "x",
         "y": [
          0,
          0,
          0,
          0,
          0,
          0,
          0,
          0,
          0,
          0,
          0,
          0,
          0,
          0,
          0,
          0,
          0
         ],
         "yaxis": "y"
        },
        {
         "customdata": [
          [
           "0.6.1"
          ],
          [
           "0.7.1"
          ],
          [
           "0.8.1"
          ],
          [
           "0.9.0"
          ],
          [
           "0.9.1"
          ],
          [
           "0.9.2"
          ],
          [
           "0.10.0"
          ],
          [
           "0.10.1"
          ]
         ],
         "fillpattern": {
          "shape": ""
         },
         "hovertemplate": "Benchmark Type=Analysis - Join<br>benchmark=012 Convert to Enums for joins<br>Release Date=%{x}<br>Time (seconds)=%{y}<br>DuckDB Version=%{customdata[0]}<extra></extra>",
         "legendgroup": "Analysis - Join",
         "line": {
          "color": "#72B7B2"
         },
         "marker": {
          "symbol": "circle"
         },
         "mode": "lines",
         "name": "Analysis - Join",
         "orientation": "v",
         "showlegend": false,
         "stackgroup": "1",
         "type": "scatter",
         "x": [
          "2022-12-06T00:00:00",
          "2023-02-27T00:00:00",
          "2023-06-13T00:00:00",
          "2023-09-26T00:00:00",
          "2023-10-11T00:00:00",
          "2023-11-14T00:00:00",
          "2024-02-13T00:00:00",
          "2024-03-18T00:00:00"
         ],
         "xaxis": "x",
         "y": [
          2.168022209,
          1.8047770419999978,
          3.143373874999998,
          3.156908291999997,
          3.065938458000005,
          3.261356915999997,
          2.2094117080000046,
          2.1940072080000004
         ],
         "yaxis": "y"
        },
        {
         "customdata": [
          [
           "0.2.7"
          ],
          [
           "0.2.8"
          ],
          [
           "0.2.9"
          ],
          [
           "0.3.0"
          ],
          [
           "0.3.1"
          ],
          [
           "0.3.2"
          ],
          [
           "0.3.4"
          ],
          [
           "0.4.0"
          ],
          [
           "0.5.1"
          ],
          [
           "0.6.1"
          ],
          [
           "0.7.1"
          ],
          [
           "0.8.1"
          ],
          [
           "0.9.0"
          ],
          [
           "0.9.1"
          ],
          [
           "0.9.2"
          ],
          [
           "0.10.0"
          ],
          [
           "0.10.1"
          ]
         ],
         "fillpattern": {
          "shape": ""
         },
         "hovertemplate": "Benchmark Type=Analysis - Join<br>benchmark=013 Join queries<br>Release Date=%{x}<br>Time (seconds)=%{y}<br>DuckDB Version=%{customdata[0]}<extra></extra>",
         "legendgroup": "Analysis - Join",
         "line": {
          "color": "#72B7B2"
         },
         "marker": {
          "symbol": "circle"
         },
         "mode": "lines",
         "name": "Analysis - Join",
         "orientation": "v",
         "showlegend": false,
         "stackgroup": "1",
         "type": "scatter",
         "x": [
          "2021-06-14T00:00:00",
          "2021-08-02T00:00:00",
          "2021-09-06T00:00:00",
          "2021-10-06T00:00:00",
          "2021-11-16T00:00:00",
          "2022-02-07T00:00:00",
          "2022-04-25T00:00:00",
          "2022-06-20T00:00:00",
          "2022-09-19T00:00:00",
          "2022-12-06T00:00:00",
          "2023-02-27T00:00:00",
          "2023-06-13T00:00:00",
          "2023-09-26T00:00:00",
          "2023-10-11T00:00:00",
          "2023-11-14T00:00:00",
          "2024-02-13T00:00:00",
          "2024-03-18T00:00:00"
         ],
         "xaxis": "x",
         "y": [
          23.821901249999996,
          21.935621458000007,
          23.939756292,
          23.811306416000008,
          23.266799292,
          24.609514375000003,
          36.32913500000001,
          39.88134804099997,
          37.02796416699999,
          5.900246709000001,
          3.5156939590000036,
          4.5500718330000005,
          4.415933791999997,
          4.382592499999998,
          4.435296250000002,
          3.3310229999999947,
          3.316500624999996
         ],
         "yaxis": "y"
        },
        {
         "customdata": [
          [
           "0.2.7"
          ],
          [
           "0.2.8"
          ],
          [
           "0.2.9"
          ],
          [
           "0.3.0"
          ],
          [
           "0.3.1"
          ],
          [
           "0.3.2"
          ],
          [
           "0.3.4"
          ],
          [
           "0.4.0"
          ],
          [
           "0.5.1"
          ],
          [
           "0.6.1"
          ],
          [
           "0.7.1"
          ],
          [
           "0.8.1"
          ],
          [
           "0.9.0"
          ],
          [
           "0.9.1"
          ],
          [
           "0.9.2"
          ],
          [
           "0.10.0"
          ],
          [
           "0.10.1"
          ]
         ],
         "fillpattern": {
          "shape": ""
         },
         "hovertemplate": "Benchmark Type=Export<br>benchmark=000 Placeholder for charting<br>Release Date=%{x}<br>Time (seconds)=%{y}<br>DuckDB Version=%{customdata[0]}<extra></extra>",
         "legendgroup": "Export",
         "line": {
          "color": "#EECA3B"
         },
         "marker": {
          "symbol": "circle"
         },
         "mode": "lines",
         "name": "Export",
         "orientation": "v",
         "showlegend": true,
         "stackgroup": "1",
         "type": "scatter",
         "x": [
          "2021-06-14T00:00:00",
          "2021-08-02T00:00:00",
          "2021-09-06T00:00:00",
          "2021-10-06T00:00:00",
          "2021-11-16T00:00:00",
          "2022-02-07T00:00:00",
          "2022-04-25T00:00:00",
          "2022-06-20T00:00:00",
          "2022-09-19T00:00:00",
          "2022-12-06T00:00:00",
          "2023-02-27T00:00:00",
          "2023-06-13T00:00:00",
          "2023-09-26T00:00:00",
          "2023-10-11T00:00:00",
          "2023-11-14T00:00:00",
          "2024-02-13T00:00:00",
          "2024-03-18T00:00:00"
         ],
         "xaxis": "x",
         "y": [
          0,
          0,
          0,
          0,
          0,
          0,
          0,
          0,
          0,
          0,
          0,
          0,
          0,
          0,
          0,
          0,
          0
         ],
         "yaxis": "y"
        },
        {
         "customdata": [
          [
           "0.2.7"
          ],
          [
           "0.2.8"
          ],
          [
           "0.2.9"
          ],
          [
           "0.3.0"
          ],
          [
           "0.3.1"
          ],
          [
           "0.3.2"
          ],
          [
           "0.3.4"
          ],
          [
           "0.4.0"
          ]
         ],
         "fillpattern": {
          "shape": ""
         },
         "hovertemplate": "Benchmark Type=Export<br>benchmark=005 Export group by results to Pandas<br>Release Date=%{x}<br>Time (seconds)=%{y}<br>DuckDB Version=%{customdata[0]}<extra></extra>",
         "legendgroup": "Export",
         "line": {
          "color": "#EECA3B"
         },
         "marker": {
          "symbol": "circle"
         },
         "mode": "lines",
         "name": "Export",
         "orientation": "v",
         "showlegend": false,
         "stackgroup": "1",
         "type": "scatter",
         "x": [
          "2021-06-14T00:00:00",
          "2021-08-02T00:00:00",
          "2021-09-06T00:00:00",
          "2021-10-06T00:00:00",
          "2021-11-16T00:00:00",
          "2022-02-07T00:00:00",
          "2022-04-25T00:00:00",
          "2022-06-20T00:00:00"
         ],
         "xaxis": "x",
         "y": [
          1.585301166999983,
          1.3956787500000019,
          1.2633418749999947,
          1.2717729579999997,
          1.2974005419999912,
          1.2968350000000015,
          1.2442635410000094,
          1.2297054170000195
         ],
         "yaxis": "y"
        },
        {
         "customdata": [
          [
           "0.2.7"
          ],
          [
           "0.2.8"
          ],
          [
           "0.2.9"
          ],
          [
           "0.3.0"
          ],
          [
           "0.3.1"
          ],
          [
           "0.3.2"
          ],
          [
           "0.3.4"
          ],
          [
           "0.4.0"
          ],
          [
           "0.5.1"
          ],
          [
           "0.6.1"
          ],
          [
           "0.7.1"
          ],
          [
           "0.8.1"
          ],
          [
           "0.9.0"
          ],
          [
           "0.9.1"
          ],
          [
           "0.9.2"
          ],
          [
           "0.10.0"
          ],
          [
           "0.10.1"
          ]
         ],
         "fillpattern": {
          "shape": ""
         },
         "hovertemplate": "Benchmark Type=Export<br>benchmark=007 Export group by results to Parquet<br>Release Date=%{x}<br>Time (seconds)=%{y}<br>DuckDB Version=%{customdata[0]}<extra></extra>",
         "legendgroup": "Export",
         "line": {
          "color": "#EECA3B"
         },
         "marker": {
          "symbol": "circle"
         },
         "mode": "lines",
         "name": "Export",
         "orientation": "v",
         "showlegend": false,
         "stackgroup": "1",
         "type": "scatter",
         "x": [
          "2021-06-14T00:00:00",
          "2021-08-02T00:00:00",
          "2021-09-06T00:00:00",
          "2021-10-06T00:00:00",
          "2021-11-16T00:00:00",
          "2022-02-07T00:00:00",
          "2022-04-25T00:00:00",
          "2022-06-20T00:00:00",
          "2022-09-19T00:00:00",
          "2022-12-06T00:00:00",
          "2023-02-27T00:00:00",
          "2023-06-13T00:00:00",
          "2023-09-26T00:00:00",
          "2023-10-11T00:00:00",
          "2023-11-14T00:00:00",
          "2024-02-13T00:00:00",
          "2024-03-18T00:00:00"
         ],
         "xaxis": "x",
         "y": [
          1.8943153749999908,
          1.8764357499999988,
          1.9323300000000003,
          1.9164719579999883,
          1.9255964999999975,
          3.1974089159999863,
          3.10719020800002,
          3.097302667000008,
          4.482877958000003,
          3.868870459,
          4.129821292000003,
          1.522228708,
          1.517412124999999,
          1.5303094169999998,
          1.5394198330000037,
          1.5129651249999974,
          1.490882708
         ],
         "yaxis": "y"
        },
        {
         "customdata": [
          [
           "0.5.1"
          ],
          [
           "0.6.1"
          ],
          [
           "0.7.1"
          ],
          [
           "0.8.1"
          ],
          [
           "0.9.0"
          ],
          [
           "0.9.1"
          ],
          [
           "0.9.2"
          ],
          [
           "0.10.0"
          ],
          [
           "0.10.1"
          ]
         ],
         "fillpattern": {
          "shape": ""
         },
         "hovertemplate": "Benchmark Type=Export<br>benchmark=009 Export group by results to Arrow<br>Release Date=%{x}<br>Time (seconds)=%{y}<br>DuckDB Version=%{customdata[0]}<extra></extra>",
         "legendgroup": "Export",
         "line": {
          "color": "#EECA3B"
         },
         "marker": {
          "symbol": "circle"
         },
         "mode": "lines",
         "name": "Export",
         "orientation": "v",
         "showlegend": false,
         "stackgroup": "1",
         "type": "scatter",
         "x": [
          "2022-09-19T00:00:00",
          "2022-12-06T00:00:00",
          "2023-02-27T00:00:00",
          "2023-06-13T00:00:00",
          "2023-09-26T00:00:00",
          "2023-10-11T00:00:00",
          "2023-11-14T00:00:00",
          "2024-02-13T00:00:00",
          "2024-03-18T00:00:00"
         ],
         "xaxis": "x",
         "y": [
          0.3896858330000015,
          0.28481162500000323,
          0.29059837500000185,
          0.3066396250000025,
          0.30367275000000404,
          0.31052062499999966,
          0.3062600840000016,
          0.3727563329999999,
          0.37437625000000097
         ],
         "yaxis": "y"
        },
        {
         "customdata": [
          [
           "0.2.7"
          ],
          [
           "0.2.8"
          ],
          [
           "0.2.9"
          ],
          [
           "0.3.0"
          ],
          [
           "0.3.1"
          ],
          [
           "0.3.2"
          ],
          [
           "0.3.4"
          ],
          [
           "0.4.0"
          ]
         ],
         "fillpattern": {
          "shape": ""
         },
         "hovertemplate": "Benchmark Type=Export<br>benchmark=014 Export join results to Pandas<br>Release Date=%{x}<br>Time (seconds)=%{y}<br>DuckDB Version=%{customdata[0]}<extra></extra>",
         "legendgroup": "Export",
         "line": {
          "color": "#EECA3B"
         },
         "marker": {
          "symbol": "circle"
         },
         "mode": "lines",
         "name": "Export",
         "orientation": "v",
         "showlegend": false,
         "stackgroup": "1",
         "type": "scatter",
         "x": [
          "2021-06-14T00:00:00",
          "2021-08-02T00:00:00",
          "2021-09-06T00:00:00",
          "2021-10-06T00:00:00",
          "2021-11-16T00:00:00",
          "2022-02-07T00:00:00",
          "2022-04-25T00:00:00",
          "2022-06-20T00:00:00"
         ],
         "xaxis": "x",
         "y": [
          32.89697020899996,
          30.641782167000002,
          25.363091959000002,
          25.59601229200001,
          25.937402209,
          34.932955459,
          26.58523204100004,
          27.940955291000023
         ],
         "yaxis": "y"
        },
        {
         "customdata": [
          [
           "0.5.1"
          ],
          [
           "0.6.1"
          ],
          [
           "0.7.1"
          ],
          [
           "0.8.1"
          ],
          [
           "0.9.0"
          ],
          [
           "0.9.1"
          ],
          [
           "0.9.2"
          ],
          [
           "0.10.0"
          ],
          [
           "0.10.1"
          ]
         ],
         "fillpattern": {
          "shape": ""
         },
         "hovertemplate": "Benchmark Type=Export<br>benchmark=015 Export join results to Arrow<br>Release Date=%{x}<br>Time (seconds)=%{y}<br>DuckDB Version=%{customdata[0]}<extra></extra>",
         "legendgroup": "Export",
         "line": {
          "color": "#EECA3B"
         },
         "marker": {
          "symbol": "circle"
         },
         "mode": "lines",
         "name": "Export",
         "orientation": "v",
         "showlegend": false,
         "stackgroup": "1",
         "type": "scatter",
         "x": [
          "2022-09-19T00:00:00",
          "2022-12-06T00:00:00",
          "2023-02-27T00:00:00",
          "2023-06-13T00:00:00",
          "2023-09-26T00:00:00",
          "2023-10-11T00:00:00",
          "2023-11-14T00:00:00",
          "2024-02-13T00:00:00",
          "2024-03-18T00:00:00"
         ],
         "xaxis": "x",
         "y": [
          3.224981791999994,
          1.7857833329999977,
          1.7790696250000053,
          1.8480557500000003,
          1.892379584000004,
          1.8852987080000005,
          1.8513588339999956,
          2.359995666000003,
          2.3194005000000004
         ],
         "yaxis": "y"
        }
       ],
       "layout": {
        "legend": {
         "title": {
          "text": "Benchmark Type"
         },
         "tracegroupgap": 0
        },
        "margin": {
         "t": 60
        },
        "template": {
         "data": {
          "bar": [
           {
            "error_x": {
             "color": "#2a3f5f"
            },
            "error_y": {
             "color": "#2a3f5f"
            },
            "marker": {
             "line": {
              "color": "white",
              "width": 0.5
             },
             "pattern": {
              "fillmode": "overlay",
              "size": 10,
              "solidity": 0.2
             }
            },
            "type": "bar"
           }
          ],
          "barpolar": [
           {
            "marker": {
             "line": {
              "color": "white",
              "width": 0.5
             },
             "pattern": {
              "fillmode": "overlay",
              "size": 10,
              "solidity": 0.2
             }
            },
            "type": "barpolar"
           }
          ],
          "carpet": [
           {
            "aaxis": {
             "endlinecolor": "#2a3f5f",
             "gridcolor": "#C8D4E3",
             "linecolor": "#C8D4E3",
             "minorgridcolor": "#C8D4E3",
             "startlinecolor": "#2a3f5f"
            },
            "baxis": {
             "endlinecolor": "#2a3f5f",
             "gridcolor": "#C8D4E3",
             "linecolor": "#C8D4E3",
             "minorgridcolor": "#C8D4E3",
             "startlinecolor": "#2a3f5f"
            },
            "type": "carpet"
           }
          ],
          "choropleth": [
           {
            "colorbar": {
             "outlinewidth": 0,
             "ticks": ""
            },
            "type": "choropleth"
           }
          ],
          "contour": [
           {
            "colorbar": {
             "outlinewidth": 0,
             "ticks": ""
            },
            "colorscale": [
             [
              0,
              "#0d0887"
             ],
             [
              0.1111111111111111,
              "#46039f"
             ],
             [
              0.2222222222222222,
              "#7201a8"
             ],
             [
              0.3333333333333333,
              "#9c179e"
             ],
             [
              0.4444444444444444,
              "#bd3786"
             ],
             [
              0.5555555555555556,
              "#d8576b"
             ],
             [
              0.6666666666666666,
              "#ed7953"
             ],
             [
              0.7777777777777778,
              "#fb9f3a"
             ],
             [
              0.8888888888888888,
              "#fdca26"
             ],
             [
              1,
              "#f0f921"
             ]
            ],
            "type": "contour"
           }
          ],
          "contourcarpet": [
           {
            "colorbar": {
             "outlinewidth": 0,
             "ticks": ""
            },
            "type": "contourcarpet"
           }
          ],
          "heatmap": [
           {
            "colorbar": {
             "outlinewidth": 0,
             "ticks": ""
            },
            "colorscale": [
             [
              0,
              "#0d0887"
             ],
             [
              0.1111111111111111,
              "#46039f"
             ],
             [
              0.2222222222222222,
              "#7201a8"
             ],
             [
              0.3333333333333333,
              "#9c179e"
             ],
             [
              0.4444444444444444,
              "#bd3786"
             ],
             [
              0.5555555555555556,
              "#d8576b"
             ],
             [
              0.6666666666666666,
              "#ed7953"
             ],
             [
              0.7777777777777778,
              "#fb9f3a"
             ],
             [
              0.8888888888888888,
              "#fdca26"
             ],
             [
              1,
              "#f0f921"
             ]
            ],
            "type": "heatmap"
           }
          ],
          "heatmapgl": [
           {
            "colorbar": {
             "outlinewidth": 0,
             "ticks": ""
            },
            "colorscale": [
             [
              0,
              "#0d0887"
             ],
             [
              0.1111111111111111,
              "#46039f"
             ],
             [
              0.2222222222222222,
              "#7201a8"
             ],
             [
              0.3333333333333333,
              "#9c179e"
             ],
             [
              0.4444444444444444,
              "#bd3786"
             ],
             [
              0.5555555555555556,
              "#d8576b"
             ],
             [
              0.6666666666666666,
              "#ed7953"
             ],
             [
              0.7777777777777778,
              "#fb9f3a"
             ],
             [
              0.8888888888888888,
              "#fdca26"
             ],
             [
              1,
              "#f0f921"
             ]
            ],
            "type": "heatmapgl"
           }
          ],
          "histogram": [
           {
            "marker": {
             "pattern": {
              "fillmode": "overlay",
              "size": 10,
              "solidity": 0.2
             }
            },
            "type": "histogram"
           }
          ],
          "histogram2d": [
           {
            "colorbar": {
             "outlinewidth": 0,
             "ticks": ""
            },
            "colorscale": [
             [
              0,
              "#0d0887"
             ],
             [
              0.1111111111111111,
              "#46039f"
             ],
             [
              0.2222222222222222,
              "#7201a8"
             ],
             [
              0.3333333333333333,
              "#9c179e"
             ],
             [
              0.4444444444444444,
              "#bd3786"
             ],
             [
              0.5555555555555556,
              "#d8576b"
             ],
             [
              0.6666666666666666,
              "#ed7953"
             ],
             [
              0.7777777777777778,
              "#fb9f3a"
             ],
             [
              0.8888888888888888,
              "#fdca26"
             ],
             [
              1,
              "#f0f921"
             ]
            ],
            "type": "histogram2d"
           }
          ],
          "histogram2dcontour": [
           {
            "colorbar": {
             "outlinewidth": 0,
             "ticks": ""
            },
            "colorscale": [
             [
              0,
              "#0d0887"
             ],
             [
              0.1111111111111111,
              "#46039f"
             ],
             [
              0.2222222222222222,
              "#7201a8"
             ],
             [
              0.3333333333333333,
              "#9c179e"
             ],
             [
              0.4444444444444444,
              "#bd3786"
             ],
             [
              0.5555555555555556,
              "#d8576b"
             ],
             [
              0.6666666666666666,
              "#ed7953"
             ],
             [
              0.7777777777777778,
              "#fb9f3a"
             ],
             [
              0.8888888888888888,
              "#fdca26"
             ],
             [
              1,
              "#f0f921"
             ]
            ],
            "type": "histogram2dcontour"
           }
          ],
          "mesh3d": [
           {
            "colorbar": {
             "outlinewidth": 0,
             "ticks": ""
            },
            "type": "mesh3d"
           }
          ],
          "parcoords": [
           {
            "line": {
             "colorbar": {
              "outlinewidth": 0,
              "ticks": ""
             }
            },
            "type": "parcoords"
           }
          ],
          "pie": [
           {
            "automargin": true,
            "type": "pie"
           }
          ],
          "scatter": [
           {
            "fillpattern": {
             "fillmode": "overlay",
             "size": 10,
             "solidity": 0.2
            },
            "type": "scatter"
           }
          ],
          "scatter3d": [
           {
            "line": {
             "colorbar": {
              "outlinewidth": 0,
              "ticks": ""
             }
            },
            "marker": {
             "colorbar": {
              "outlinewidth": 0,
              "ticks": ""
             }
            },
            "type": "scatter3d"
           }
          ],
          "scattercarpet": [
           {
            "marker": {
             "colorbar": {
              "outlinewidth": 0,
              "ticks": ""
             }
            },
            "type": "scattercarpet"
           }
          ],
          "scattergeo": [
           {
            "marker": {
             "colorbar": {
              "outlinewidth": 0,
              "ticks": ""
             }
            },
            "type": "scattergeo"
           }
          ],
          "scattergl": [
           {
            "marker": {
             "colorbar": {
              "outlinewidth": 0,
              "ticks": ""
             }
            },
            "type": "scattergl"
           }
          ],
          "scattermapbox": [
           {
            "marker": {
             "colorbar": {
              "outlinewidth": 0,
              "ticks": ""
             }
            },
            "type": "scattermapbox"
           }
          ],
          "scatterpolar": [
           {
            "marker": {
             "colorbar": {
              "outlinewidth": 0,
              "ticks": ""
             }
            },
            "type": "scatterpolar"
           }
          ],
          "scatterpolargl": [
           {
            "marker": {
             "colorbar": {
              "outlinewidth": 0,
              "ticks": ""
             }
            },
            "type": "scatterpolargl"
           }
          ],
          "scatterternary": [
           {
            "marker": {
             "colorbar": {
              "outlinewidth": 0,
              "ticks": ""
             }
            },
            "type": "scatterternary"
           }
          ],
          "surface": [
           {
            "colorbar": {
             "outlinewidth": 0,
             "ticks": ""
            },
            "colorscale": [
             [
              0,
              "#0d0887"
             ],
             [
              0.1111111111111111,
              "#46039f"
             ],
             [
              0.2222222222222222,
              "#7201a8"
             ],
             [
              0.3333333333333333,
              "#9c179e"
             ],
             [
              0.4444444444444444,
              "#bd3786"
             ],
             [
              0.5555555555555556,
              "#d8576b"
             ],
             [
              0.6666666666666666,
              "#ed7953"
             ],
             [
              0.7777777777777778,
              "#fb9f3a"
             ],
             [
              0.8888888888888888,
              "#fdca26"
             ],
             [
              1,
              "#f0f921"
             ]
            ],
            "type": "surface"
           }
          ],
          "table": [
           {
            "cells": {
             "fill": {
              "color": "#EBF0F8"
             },
             "line": {
              "color": "white"
             }
            },
            "header": {
             "fill": {
              "color": "#C8D4E3"
             },
             "line": {
              "color": "white"
             }
            },
            "type": "table"
           }
          ]
         },
         "layout": {
          "annotationdefaults": {
           "arrowcolor": "#2a3f5f",
           "arrowhead": 0,
           "arrowwidth": 1
          },
          "autotypenumbers": "strict",
          "coloraxis": {
           "colorbar": {
            "outlinewidth": 0,
            "ticks": ""
           }
          },
          "colorscale": {
           "diverging": [
            [
             0,
             "#8e0152"
            ],
            [
             0.1,
             "#c51b7d"
            ],
            [
             0.2,
             "#de77ae"
            ],
            [
             0.3,
             "#f1b6da"
            ],
            [
             0.4,
             "#fde0ef"
            ],
            [
             0.5,
             "#f7f7f7"
            ],
            [
             0.6,
             "#e6f5d0"
            ],
            [
             0.7,
             "#b8e186"
            ],
            [
             0.8,
             "#7fbc41"
            ],
            [
             0.9,
             "#4d9221"
            ],
            [
             1,
             "#276419"
            ]
           ],
           "sequential": [
            [
             0,
             "#0d0887"
            ],
            [
             0.1111111111111111,
             "#46039f"
            ],
            [
             0.2222222222222222,
             "#7201a8"
            ],
            [
             0.3333333333333333,
             "#9c179e"
            ],
            [
             0.4444444444444444,
             "#bd3786"
            ],
            [
             0.5555555555555556,
             "#d8576b"
            ],
            [
             0.6666666666666666,
             "#ed7953"
            ],
            [
             0.7777777777777778,
             "#fb9f3a"
            ],
            [
             0.8888888888888888,
             "#fdca26"
            ],
            [
             1,
             "#f0f921"
            ]
           ],
           "sequentialminus": [
            [
             0,
             "#0d0887"
            ],
            [
             0.1111111111111111,
             "#46039f"
            ],
            [
             0.2222222222222222,
             "#7201a8"
            ],
            [
             0.3333333333333333,
             "#9c179e"
            ],
            [
             0.4444444444444444,
             "#bd3786"
            ],
            [
             0.5555555555555556,
             "#d8576b"
            ],
            [
             0.6666666666666666,
             "#ed7953"
            ],
            [
             0.7777777777777778,
             "#fb9f3a"
            ],
            [
             0.8888888888888888,
             "#fdca26"
            ],
            [
             1,
             "#f0f921"
            ]
           ]
          },
          "colorway": [
           "#636efa",
           "#EF553B",
           "#00cc96",
           "#ab63fa",
           "#FFA15A",
           "#19d3f3",
           "#FF6692",
           "#B6E880",
           "#FF97FF",
           "#FECB52"
          ],
          "font": {
           "color": "#2a3f5f"
          },
          "geo": {
           "bgcolor": "white",
           "lakecolor": "white",
           "landcolor": "white",
           "showlakes": true,
           "showland": true,
           "subunitcolor": "#C8D4E3"
          },
          "hoverlabel": {
           "align": "left"
          },
          "hovermode": "closest",
          "mapbox": {
           "style": "light"
          },
          "paper_bgcolor": "white",
          "plot_bgcolor": "white",
          "polar": {
           "angularaxis": {
            "gridcolor": "#EBF0F8",
            "linecolor": "#EBF0F8",
            "ticks": ""
           },
           "bgcolor": "white",
           "radialaxis": {
            "gridcolor": "#EBF0F8",
            "linecolor": "#EBF0F8",
            "ticks": ""
           }
          },
          "scene": {
           "xaxis": {
            "backgroundcolor": "white",
            "gridcolor": "#DFE8F3",
            "gridwidth": 2,
            "linecolor": "#EBF0F8",
            "showbackground": true,
            "ticks": "",
            "zerolinecolor": "#EBF0F8"
           },
           "yaxis": {
            "backgroundcolor": "white",
            "gridcolor": "#DFE8F3",
            "gridwidth": 2,
            "linecolor": "#EBF0F8",
            "showbackground": true,
            "ticks": "",
            "zerolinecolor": "#EBF0F8"
           },
           "zaxis": {
            "backgroundcolor": "white",
            "gridcolor": "#DFE8F3",
            "gridwidth": 2,
            "linecolor": "#EBF0F8",
            "showbackground": true,
            "ticks": "",
            "zerolinecolor": "#EBF0F8"
           }
          },
          "shapedefaults": {
           "line": {
            "color": "#2a3f5f"
           }
          },
          "ternary": {
           "aaxis": {
            "gridcolor": "#DFE8F3",
            "linecolor": "#A2B1C6",
            "ticks": ""
           },
           "baxis": {
            "gridcolor": "#DFE8F3",
            "linecolor": "#A2B1C6",
            "ticks": ""
           },
           "bgcolor": "white",
           "caxis": {
            "gridcolor": "#DFE8F3",
            "linecolor": "#A2B1C6",
            "ticks": ""
           }
          },
          "title": {
           "x": 0.05
          },
          "xaxis": {
           "automargin": true,
           "gridcolor": "#EBF0F8",
           "linecolor": "#EBF0F8",
           "ticks": "",
           "title": {
            "standoff": 15
           },
           "zerolinecolor": "#EBF0F8",
           "zerolinewidth": 2
          },
          "yaxis": {
           "automargin": true,
           "gridcolor": "#EBF0F8",
           "linecolor": "#EBF0F8",
           "ticks": "",
           "title": {
            "standoff": 15
           },
           "zerolinecolor": "#EBF0F8",
           "zerolinewidth": 2
          }
         }
        },
        "xaxis": {
         "anchor": "y",
         "domain": [
          0,
          1
         ],
         "title": {
          "text": "Release Date"
         }
        },
        "yaxis": {
         "anchor": "x",
         "domain": [
          0,
          1
         ],
         "title": {
          "text": "Time (seconds)"
         }
        }
       }
      }
     },
     "metadata": {},
     "output_type": "display_data"
    },
    {
     "data": {
      "application/vnd.plotly.v1+json": {
       "config": {
        "plotlyServerURL": "https://plot.ly"
       },
       "data": [
        {
         "customdata": [
          [
           "0.2.7"
          ],
          [
           "0.2.8"
          ],
          [
           "0.2.9"
          ],
          [
           "0.3.0"
          ],
          [
           "0.3.1"
          ],
          [
           "0.3.2"
          ],
          [
           "0.3.4"
          ],
          [
           "0.4.0"
          ],
          [
           "0.5.1"
          ],
          [
           "0.6.1"
          ],
          [
           "0.7.1"
          ],
          [
           "0.8.1"
          ],
          [
           "0.9.0"
          ],
          [
           "0.9.1"
          ],
          [
           "0.9.2"
          ],
          [
           "0.10.0"
          ],
          [
           "0.10.1"
          ]
         ],
         "fillpattern": {
          "shape": ""
         },
         "hovertemplate": "Benchmark Type=CSV Import<br>benchmark=000 Placeholder for charting<br>Release Date=%{x}<br>Time Relative to Latest Version=%{y}<br>DuckDB Version=%{customdata[0]}<extra></extra>",
         "legendgroup": "CSV Import",
         "line": {
          "color": "#4C78A8"
         },
         "marker": {
          "symbol": "circle"
         },
         "mode": "lines",
         "name": "CSV Import",
         "orientation": "v",
         "showlegend": true,
         "stackgroup": "1",
         "type": "scatter",
         "x": [
          "2021-06-14T00:00:00",
          "2021-08-02T00:00:00",
          "2021-09-06T00:00:00",
          "2021-10-06T00:00:00",
          "2021-11-16T00:00:00",
          "2022-02-07T00:00:00",
          "2022-04-25T00:00:00",
          "2022-06-20T00:00:00",
          "2022-09-19T00:00:00",
          "2022-12-06T00:00:00",
          "2023-02-27T00:00:00",
          "2023-06-13T00:00:00",
          "2023-09-26T00:00:00",
          "2023-10-11T00:00:00",
          "2023-11-14T00:00:00",
          "2024-02-13T00:00:00",
          "2024-03-18T00:00:00"
         ],
         "xaxis": "x",
         "y": [
          0,
          0,
          0,
          0,
          0,
          0,
          0,
          0,
          0,
          0,
          0,
          0,
          0,
          0,
          0,
          0,
          0
         ],
         "yaxis": "y"
        },
        {
         "customdata": [
          [
           "0.2.7"
          ],
          [
           "0.2.8"
          ],
          [
           "0.2.9"
          ],
          [
           "0.3.0"
          ],
          [
           "0.3.1"
          ],
          [
           "0.3.2"
          ],
          [
           "0.3.4"
          ],
          [
           "0.4.0"
          ],
          [
           "0.5.1"
          ],
          [
           "0.6.1"
          ],
          [
           "0.7.1"
          ],
          [
           "0.8.1"
          ],
          [
           "0.9.0"
          ],
          [
           "0.9.1"
          ],
          [
           "0.9.2"
          ],
          [
           "0.10.0"
          ],
          [
           "0.10.1"
          ]
         ],
         "fillpattern": {
          "shape": ""
         },
         "hovertemplate": "Benchmark Type=CSV Import<br>benchmark=002 Create table from csv<br>Release Date=%{x}<br>Time Relative to Latest Version=%{y}<br>DuckDB Version=%{customdata[0]}<extra></extra>",
         "legendgroup": "CSV Import",
         "line": {
          "color": "#4C78A8"
         },
         "marker": {
          "symbol": "circle"
         },
         "mode": "lines",
         "name": "CSV Import",
         "orientation": "v",
         "showlegend": false,
         "stackgroup": "1",
         "type": "scatter",
         "x": [
          "2021-06-14T00:00:00",
          "2021-08-02T00:00:00",
          "2021-09-06T00:00:00",
          "2021-10-06T00:00:00",
          "2021-11-16T00:00:00",
          "2022-02-07T00:00:00",
          "2022-04-25T00:00:00",
          "2022-06-20T00:00:00",
          "2022-09-19T00:00:00",
          "2022-12-06T00:00:00",
          "2023-02-27T00:00:00",
          "2023-06-13T00:00:00",
          "2023-09-26T00:00:00",
          "2023-10-11T00:00:00",
          "2023-11-14T00:00:00",
          "2024-02-13T00:00:00",
          "2024-03-18T00:00:00"
         ],
         "xaxis": "x",
         "y": [
          0.2914613029509857,
          0.27849686728220713,
          0.3030693753944316,
          0.3093232966441301,
          0.40480031877139455,
          0.3298418373778532,
          0.40116672843475554,
          0.4399411462795827,
          0.4167160307431235,
          0.38998141602922637,
          0.3747449326346836,
          0.1275229015631575,
          0.12262586969229328,
          0.12531331798235762,
          0.12265385421474746,
          0.08494838176553773,
          0.08713322079643447
         ],
         "yaxis": "y"
        },
        {
         "customdata": [
          [
           "0.2.7"
          ],
          [
           "0.2.8"
          ],
          [
           "0.2.9"
          ],
          [
           "0.3.0"
          ],
          [
           "0.3.1"
          ],
          [
           "0.3.2"
          ],
          [
           "0.3.4"
          ],
          [
           "0.4.0"
          ],
          [
           "0.5.1"
          ],
          [
           "0.6.1"
          ],
          [
           "0.7.1"
          ],
          [
           "0.8.1"
          ],
          [
           "0.9.0"
          ],
          [
           "0.9.1"
          ],
          [
           "0.9.2"
          ],
          [
           "0.10.0"
          ],
          [
           "0.10.1"
          ]
         ],
         "fillpattern": {
          "shape": ""
         },
         "hovertemplate": "Benchmark Type=CSV Import<br>benchmark=011 Create tables from csvs joins<br>Release Date=%{x}<br>Time Relative to Latest Version=%{y}<br>DuckDB Version=%{customdata[0]}<extra></extra>",
         "legendgroup": "CSV Import",
         "line": {
          "color": "#4C78A8"
         },
         "marker": {
          "symbol": "circle"
         },
         "mode": "lines",
         "name": "CSV Import",
         "orientation": "v",
         "showlegend": false,
         "stackgroup": "1",
         "type": "scatter",
         "x": [
          "2021-06-14T00:00:00",
          "2021-08-02T00:00:00",
          "2021-09-06T00:00:00",
          "2021-10-06T00:00:00",
          "2021-11-16T00:00:00",
          "2022-02-07T00:00:00",
          "2022-04-25T00:00:00",
          "2022-06-20T00:00:00",
          "2022-09-19T00:00:00",
          "2022-12-06T00:00:00",
          "2023-02-27T00:00:00",
          "2023-06-13T00:00:00",
          "2023-09-26T00:00:00",
          "2023-10-11T00:00:00",
          "2023-11-14T00:00:00",
          "2024-02-13T00:00:00",
          "2024-03-18T00:00:00"
         ],
         "xaxis": "x",
         "y": [
          0.5412650108452277,
          0.5285615896504525,
          0.5680079823128273,
          0.5824459816135673,
          0.6095181874549952,
          0.6114445302598794,
          0.8298948809455511,
          0.8991957238335782,
          0.8545630622748991,
          0.8111420701652474,
          0.805812232627606,
          0.31977707935697963,
          0.27934763692544223,
          0.33273629300187835,
          0.24229389756902414,
          0.19614813118204924,
          0.2001446060219121
         ],
         "yaxis": "y"
        },
        {
         "customdata": [
          [
           "0.2.7"
          ],
          [
           "0.2.8"
          ],
          [
           "0.2.9"
          ],
          [
           "0.3.0"
          ],
          [
           "0.3.1"
          ],
          [
           "0.3.2"
          ],
          [
           "0.3.4"
          ],
          [
           "0.4.0"
          ],
          [
           "0.5.1"
          ],
          [
           "0.6.1"
          ],
          [
           "0.7.1"
          ],
          [
           "0.8.1"
          ],
          [
           "0.9.0"
          ],
          [
           "0.9.1"
          ],
          [
           "0.9.2"
          ],
          [
           "0.10.0"
          ],
          [
           "0.10.1"
          ]
         ],
         "fillpattern": {
          "shape": ""
         },
         "hovertemplate": "Benchmark Type=Scan other formats<br>benchmark=000 Placeholder for charting<br>Release Date=%{x}<br>Time Relative to Latest Version=%{y}<br>DuckDB Version=%{customdata[0]}<extra></extra>",
         "legendgroup": "Scan other formats",
         "line": {
          "color": "#F58518"
         },
         "marker": {
          "symbol": "circle"
         },
         "mode": "lines",
         "name": "Scan other formats",
         "orientation": "v",
         "showlegend": true,
         "stackgroup": "1",
         "type": "scatter",
         "x": [
          "2021-06-14T00:00:00",
          "2021-08-02T00:00:00",
          "2021-09-06T00:00:00",
          "2021-10-06T00:00:00",
          "2021-11-16T00:00:00",
          "2022-02-07T00:00:00",
          "2022-04-25T00:00:00",
          "2022-06-20T00:00:00",
          "2022-09-19T00:00:00",
          "2022-12-06T00:00:00",
          "2023-02-27T00:00:00",
          "2023-06-13T00:00:00",
          "2023-09-26T00:00:00",
          "2023-10-11T00:00:00",
          "2023-11-14T00:00:00",
          "2024-02-13T00:00:00",
          "2024-03-18T00:00:00"
         ],
         "xaxis": "x",
         "y": [
          0,
          0,
          0,
          0,
          0,
          0,
          0,
          0,
          0,
          0,
          0,
          0,
          0,
          0,
          0,
          0,
          0
         ],
         "yaxis": "y"
        },
        {
         "customdata": [
          [
           "0.2.7"
          ],
          [
           "0.2.8"
          ],
          [
           "0.2.9"
          ],
          [
           "0.3.0"
          ],
          [
           "0.3.1"
          ],
          [
           "0.3.2"
          ],
          [
           "0.3.4"
          ],
          [
           "0.4.0"
          ]
         ],
         "fillpattern": {
          "shape": ""
         },
         "hovertemplate": "Benchmark Type=Scan other formats<br>benchmark=006 Scan and aggregate over Pandas df<br>Release Date=%{x}<br>Time Relative to Latest Version=%{y}<br>DuckDB Version=%{customdata[0]}<extra></extra>",
         "legendgroup": "Scan other formats",
         "line": {
          "color": "#F58518"
         },
         "marker": {
          "symbol": "circle"
         },
         "mode": "lines",
         "name": "Scan other formats",
         "orientation": "v",
         "showlegend": false,
         "stackgroup": "1",
         "type": "scatter",
         "x": [
          "2021-06-14T00:00:00",
          "2021-08-02T00:00:00",
          "2021-09-06T00:00:00",
          "2021-10-06T00:00:00",
          "2021-11-16T00:00:00",
          "2022-02-07T00:00:00",
          "2022-04-25T00:00:00",
          "2022-06-20T00:00:00"
         ],
         "xaxis": "x",
         "y": [
          0.0007355388993644558,
          0.0006614104923836576,
          0.0006648007515501686,
          0.0006679680765493828,
          0.0002708772210756388,
          0.0002480170572501679,
          0.0002187845965993398,
          0.00022617913107614865
         ],
         "yaxis": "y"
        },
        {
         "customdata": [
          [
           "0.2.7"
          ],
          [
           "0.2.8"
          ],
          [
           "0.2.9"
          ],
          [
           "0.3.0"
          ],
          [
           "0.3.1"
          ],
          [
           "0.3.2"
          ],
          [
           "0.3.4"
          ],
          [
           "0.4.0"
          ],
          [
           "0.5.1"
          ],
          [
           "0.6.1"
          ],
          [
           "0.7.1"
          ],
          [
           "0.8.1"
          ],
          [
           "0.9.0"
          ],
          [
           "0.9.1"
          ],
          [
           "0.9.2"
          ],
          [
           "0.10.0"
          ],
          [
           "0.10.1"
          ]
         ],
         "fillpattern": {
          "shape": ""
         },
         "hovertemplate": "Benchmark Type=Scan other formats<br>benchmark=008 Scan and aggregate over Parquet file<br>Release Date=%{x}<br>Time Relative to Latest Version=%{y}<br>DuckDB Version=%{customdata[0]}<extra></extra>",
         "legendgroup": "Scan other formats",
         "line": {
          "color": "#F58518"
         },
         "marker": {
          "symbol": "circle"
         },
         "mode": "lines",
         "name": "Scan other formats",
         "orientation": "v",
         "showlegend": false,
         "stackgroup": "1",
         "type": "scatter",
         "x": [
          "2021-06-14T00:00:00",
          "2021-08-02T00:00:00",
          "2021-09-06T00:00:00",
          "2021-10-06T00:00:00",
          "2021-11-16T00:00:00",
          "2022-02-07T00:00:00",
          "2022-04-25T00:00:00",
          "2022-06-20T00:00:00",
          "2022-09-19T00:00:00",
          "2022-12-06T00:00:00",
          "2023-02-27T00:00:00",
          "2023-06-13T00:00:00",
          "2023-09-26T00:00:00",
          "2023-10-11T00:00:00",
          "2023-11-14T00:00:00",
          "2024-02-13T00:00:00",
          "2024-03-18T00:00:00"
         ],
         "xaxis": "x",
         "y": [
          0.006176848512023489,
          0.0060365875594168865,
          0.0055131378345794355,
          0.005474613944522773,
          0.0008418190198529038,
          0.0007044697426250198,
          0.0006905952630448328,
          0.000647029765212554,
          0.00071102738693052,
          0.0006746910421456132,
          0.0006906603932591932,
          0.0006690405901548723,
          0.0006334459961162608,
          0.0006456516267260644,
          0.0006482476340597767,
          0.0006494728999672732,
          0.00065671708769034
         ],
         "yaxis": "y"
        },
        {
         "customdata": [
          [
           "0.5.1"
          ],
          [
           "0.6.1"
          ],
          [
           "0.7.1"
          ],
          [
           "0.8.1"
          ],
          [
           "0.9.0"
          ],
          [
           "0.9.1"
          ],
          [
           "0.9.2"
          ],
          [
           "0.10.0"
          ],
          [
           "0.10.1"
          ]
         ],
         "fillpattern": {
          "shape": ""
         },
         "hovertemplate": "Benchmark Type=Scan other formats<br>benchmark=010 Scan and aggregate over Arrow df<br>Release Date=%{x}<br>Time Relative to Latest Version=%{y}<br>DuckDB Version=%{customdata[0]}<extra></extra>",
         "legendgroup": "Scan other formats",
         "line": {
          "color": "#F58518"
         },
         "marker": {
          "symbol": "circle"
         },
         "mode": "lines",
         "name": "Scan other formats",
         "orientation": "v",
         "showlegend": false,
         "stackgroup": "1",
         "type": "scatter",
         "x": [
          "2022-09-19T00:00:00",
          "2022-12-06T00:00:00",
          "2023-02-27T00:00:00",
          "2023-06-13T00:00:00",
          "2023-09-26T00:00:00",
          "2023-10-11T00:00:00",
          "2023-11-14T00:00:00",
          "2024-02-13T00:00:00",
          "2024-03-18T00:00:00"
         ],
         "xaxis": "x",
         "y": [
          0.00023082737160314142,
          0.00026716618207448564,
          0.0002748789705611131,
          0.0002747787193450752,
          0.00022756989868932018,
          0.0002289480371766644,
          0.00021702800526133252,
          0.00033432607714052305,
          0.0002219920341115996
         ],
         "yaxis": "y"
        },
        {
         "customdata": [
          [
           "0.2.7"
          ],
          [
           "0.2.8"
          ],
          [
           "0.2.9"
          ],
          [
           "0.3.0"
          ],
          [
           "0.3.1"
          ],
          [
           "0.3.2"
          ],
          [
           "0.3.4"
          ],
          [
           "0.4.0"
          ],
          [
           "0.5.1"
          ],
          [
           "0.6.1"
          ],
          [
           "0.7.1"
          ],
          [
           "0.8.1"
          ],
          [
           "0.9.0"
          ],
          [
           "0.9.1"
          ],
          [
           "0.9.2"
          ],
          [
           "0.10.0"
          ],
          [
           "0.10.1"
          ]
         ],
         "fillpattern": {
          "shape": ""
         },
         "hovertemplate": "Benchmark Type=Analysis - Group By<br>benchmark=000 Placeholder for charting<br>Release Date=%{x}<br>Time Relative to Latest Version=%{y}<br>DuckDB Version=%{customdata[0]}<extra></extra>",
         "legendgroup": "Analysis - Group By",
         "line": {
          "color": "#E45756"
         },
         "marker": {
          "symbol": "circle"
         },
         "mode": "lines",
         "name": "Analysis - Group By",
         "orientation": "v",
         "showlegend": true,
         "stackgroup": "1",
         "type": "scatter",
         "x": [
          "2021-06-14T00:00:00",
          "2021-08-02T00:00:00",
          "2021-09-06T00:00:00",
          "2021-10-06T00:00:00",
          "2021-11-16T00:00:00",
          "2022-02-07T00:00:00",
          "2022-04-25T00:00:00",
          "2022-06-20T00:00:00",
          "2022-09-19T00:00:00",
          "2022-12-06T00:00:00",
          "2023-02-27T00:00:00",
          "2023-06-13T00:00:00",
          "2023-09-26T00:00:00",
          "2023-10-11T00:00:00",
          "2023-11-14T00:00:00",
          "2024-02-13T00:00:00",
          "2024-03-18T00:00:00"
         ],
         "xaxis": "x",
         "y": [
          0,
          0,
          0,
          0,
          0,
          0,
          0,
          0,
          0,
          0,
          0,
          0,
          0,
          0,
          0,
          0,
          0
         ],
         "yaxis": "y"
        },
        {
         "customdata": [
          [
           "0.6.1"
          ],
          [
           "0.7.1"
          ],
          [
           "0.8.1"
          ],
          [
           "0.9.0"
          ],
          [
           "0.9.1"
          ],
          [
           "0.9.2"
          ],
          [
           "0.10.0"
          ],
          [
           "0.10.1"
          ]
         ],
         "fillpattern": {
          "shape": ""
         },
         "hovertemplate": "Benchmark Type=Analysis - Group By<br>benchmark=003 Convert to Enums<br>Release Date=%{x}<br>Time Relative to Latest Version=%{y}<br>DuckDB Version=%{customdata[0]}<extra></extra>",
         "legendgroup": "Analysis - Group By",
         "line": {
          "color": "#E45756"
         },
         "marker": {
          "symbol": "circle"
         },
         "mode": "lines",
         "name": "Analysis - Group By",
         "orientation": "v",
         "showlegend": false,
         "stackgroup": "1",
         "type": "scatter",
         "x": [
          "2022-12-06T00:00:00",
          "2023-02-27T00:00:00",
          "2023-06-13T00:00:00",
          "2023-09-26T00:00:00",
          "2023-10-11T00:00:00",
          "2023-11-14T00:00:00",
          "2024-02-13T00:00:00",
          "2024-03-18T00:00:00"
         ],
         "xaxis": "x",
         "y": [
          0.05154114254042398,
          0.04861002480026778,
          0.06980471746547771,
          0.07138780612185222,
          0.0707932223561281,
          0.07156873094007554,
          0.05458302073434179,
          0.05426034905647123
         ],
         "yaxis": "y"
        },
        {
         "customdata": [
          [
           "0.2.7"
          ],
          [
           "0.2.8"
          ],
          [
           "0.2.9"
          ],
          [
           "0.3.0"
          ],
          [
           "0.3.1"
          ],
          [
           "0.3.2"
          ],
          [
           "0.3.4"
          ],
          [
           "0.4.0"
          ],
          [
           "0.5.1"
          ],
          [
           "0.6.1"
          ],
          [
           "0.7.1"
          ],
          [
           "0.8.1"
          ],
          [
           "0.9.0"
          ],
          [
           "0.9.1"
          ],
          [
           "0.9.2"
          ],
          [
           "0.10.0"
          ],
          [
           "0.10.1"
          ]
         ],
         "fillpattern": {
          "shape": ""
         },
         "hovertemplate": "Benchmark Type=Analysis - Group By<br>benchmark=004 Group by queries<br>Release Date=%{x}<br>Time Relative to Latest Version=%{y}<br>DuckDB Version=%{customdata[0]}<extra></extra>",
         "legendgroup": "Analysis - Group By",
         "line": {
          "color": "#E45756"
         },
         "marker": {
          "symbol": "circle"
         },
         "mode": "lines",
         "name": "Analysis - Group By",
         "orientation": "v",
         "showlegend": false,
         "stackgroup": "1",
         "type": "scatter",
         "x": [
          "2021-06-14T00:00:00",
          "2021-08-02T00:00:00",
          "2021-09-06T00:00:00",
          "2021-10-06T00:00:00",
          "2021-11-16T00:00:00",
          "2022-02-07T00:00:00",
          "2022-04-25T00:00:00",
          "2022-06-20T00:00:00",
          "2022-09-19T00:00:00",
          "2022-12-06T00:00:00",
          "2023-02-27T00:00:00",
          "2023-06-13T00:00:00",
          "2023-09-26T00:00:00",
          "2023-10-11T00:00:00",
          "2023-11-14T00:00:00",
          "2024-02-13T00:00:00",
          "2024-03-18T00:00:00"
         ],
         "xaxis": "x",
         "y": [
          1.8330702445652538,
          1.4613681873444397,
          1.289626105339963,
          1.2845641581746405,
          0.48274395505434897,
          0.4866248282749673,
          0.547132974476732,
          0.4359920131669065,
          0.317914440937503,
          0.10134195627167539,
          0.09754217509871826,
          0.08349608221626037,
          0.08206936669302221,
          0.08085373302105886,
          0.08039464668152294,
          0.07476211608394714,
          0.07452834185582446
         ],
         "yaxis": "y"
        },
        {
         "customdata": [
          [
           "0.2.7"
          ],
          [
           "0.2.8"
          ],
          [
           "0.2.9"
          ],
          [
           "0.3.0"
          ],
          [
           "0.3.1"
          ],
          [
           "0.3.2"
          ],
          [
           "0.3.4"
          ],
          [
           "0.4.0"
          ],
          [
           "0.5.1"
          ],
          [
           "0.6.1"
          ],
          [
           "0.7.1"
          ],
          [
           "0.8.1"
          ],
          [
           "0.9.0"
          ],
          [
           "0.9.1"
          ],
          [
           "0.9.2"
          ],
          [
           "0.10.0"
          ],
          [
           "0.10.1"
          ]
         ],
         "fillpattern": {
          "shape": ""
         },
         "hovertemplate": "Benchmark Type=Analysis - Join<br>benchmark=000 Placeholder for charting<br>Release Date=%{x}<br>Time Relative to Latest Version=%{y}<br>DuckDB Version=%{customdata[0]}<extra></extra>",
         "legendgroup": "Analysis - Join",
         "line": {
          "color": "#72B7B2"
         },
         "marker": {
          "symbol": "circle"
         },
         "mode": "lines",
         "name": "Analysis - Join",
         "orientation": "v",
         "showlegend": true,
         "stackgroup": "1",
         "type": "scatter",
         "x": [
          "2021-06-14T00:00:00",
          "2021-08-02T00:00:00",
          "2021-09-06T00:00:00",
          "2021-10-06T00:00:00",
          "2021-11-16T00:00:00",
          "2022-02-07T00:00:00",
          "2022-04-25T00:00:00",
          "2022-06-20T00:00:00",
          "2022-09-19T00:00:00",
          "2022-12-06T00:00:00",
          "2023-02-27T00:00:00",
          "2023-06-13T00:00:00",
          "2023-09-26T00:00:00",
          "2023-10-11T00:00:00",
          "2023-11-14T00:00:00",
          "2024-02-13T00:00:00",
          "2024-03-18T00:00:00"
         ],
         "xaxis": "x",
         "y": [
          0,
          0,
          0,
          0,
          0,
          0,
          0,
          0,
          0,
          0,
          0,
          0,
          0,
          0,
          0,
          0,
          0
         ],
         "yaxis": "y"
        },
        {
         "customdata": [
          [
           "0.6.1"
          ],
          [
           "0.7.1"
          ],
          [
           "0.8.1"
          ],
          [
           "0.9.0"
          ],
          [
           "0.9.1"
          ],
          [
           "0.9.2"
          ],
          [
           "0.10.0"
          ],
          [
           "0.10.1"
          ]
         ],
         "fillpattern": {
          "shape": ""
         },
         "hovertemplate": "Benchmark Type=Analysis - Join<br>benchmark=012 Convert to Enums for joins<br>Release Date=%{x}<br>Time Relative to Latest Version=%{y}<br>DuckDB Version=%{customdata[0]}<extra></extra>",
         "legendgroup": "Analysis - Join",
         "line": {
          "color": "#72B7B2"
         },
         "marker": {
          "symbol": "circle"
         },
         "mode": "lines",
         "name": "Analysis - Join",
         "orientation": "v",
         "showlegend": false,
         "stackgroup": "1",
         "type": "scatter",
         "x": [
          "2022-12-06T00:00:00",
          "2023-02-27T00:00:00",
          "2023-06-13T00:00:00",
          "2023-09-26T00:00:00",
          "2023-10-11T00:00:00",
          "2023-11-14T00:00:00",
          "2024-02-13T00:00:00",
          "2024-03-18T00:00:00"
         ],
         "xaxis": "x",
         "y": [
          0.1303820407947779,
          0.10853694807123733,
          0.18903842363890136,
          0.18985236590485322,
          0.18438155819889712,
          0.19613377054120507,
          0.13287115152652776,
          0.13194474489698033
         ],
         "yaxis": "y"
        },
        {
         "customdata": [
          [
           "0.2.7"
          ],
          [
           "0.2.8"
          ],
          [
           "0.2.9"
          ],
          [
           "0.3.0"
          ],
          [
           "0.3.1"
          ],
          [
           "0.3.2"
          ],
          [
           "0.3.4"
          ],
          [
           "0.4.0"
          ],
          [
           "0.5.1"
          ],
          [
           "0.6.1"
          ],
          [
           "0.7.1"
          ],
          [
           "0.8.1"
          ],
          [
           "0.9.0"
          ],
          [
           "0.9.1"
          ],
          [
           "0.9.2"
          ],
          [
           "0.10.0"
          ],
          [
           "0.10.1"
          ]
         ],
         "fillpattern": {
          "shape": ""
         },
         "hovertemplate": "Benchmark Type=Analysis - Join<br>benchmark=013 Join queries<br>Release Date=%{x}<br>Time Relative to Latest Version=%{y}<br>DuckDB Version=%{customdata[0]}<extra></extra>",
         "legendgroup": "Analysis - Join",
         "line": {
          "color": "#72B7B2"
         },
         "marker": {
          "symbol": "circle"
         },
         "mode": "lines",
         "name": "Analysis - Join",
         "orientation": "v",
         "showlegend": false,
         "stackgroup": "1",
         "type": "scatter",
         "x": [
          "2021-06-14T00:00:00",
          "2021-08-02T00:00:00",
          "2021-09-06T00:00:00",
          "2021-10-06T00:00:00",
          "2021-11-16T00:00:00",
          "2022-02-07T00:00:00",
          "2022-04-25T00:00:00",
          "2022-06-20T00:00:00",
          "2022-09-19T00:00:00",
          "2022-12-06T00:00:00",
          "2023-02-27T00:00:00",
          "2023-06-13T00:00:00",
          "2023-09-26T00:00:00",
          "2023-10-11T00:00:00",
          "2023-11-14T00:00:00",
          "2024-02-13T00:00:00",
          "2024-03-18T00:00:00"
         ],
         "xaxis": "x",
         "y": [
          1.4326182119782287,
          1.3191797943411943,
          1.4397058611868603,
          1.431981052417286,
          1.399235100941465,
          1.4799842427171939,
          2.1847870109198655,
          2.398412491185136,
          2.2268136896974777,
          0.35483317648619717,
          0.21142927008839169,
          0.27363541244488043,
          0.2655685248174419,
          0.26356342280527223,
          0.26673295790228946,
          0.2003233983819133,
          0.19945004160455804
         ],
         "yaxis": "y"
        },
        {
         "customdata": [
          [
           "0.2.7"
          ],
          [
           "0.2.8"
          ],
          [
           "0.2.9"
          ],
          [
           "0.3.0"
          ],
          [
           "0.3.1"
          ],
          [
           "0.3.2"
          ],
          [
           "0.3.4"
          ],
          [
           "0.4.0"
          ],
          [
           "0.5.1"
          ],
          [
           "0.6.1"
          ],
          [
           "0.7.1"
          ],
          [
           "0.8.1"
          ],
          [
           "0.9.0"
          ],
          [
           "0.9.1"
          ],
          [
           "0.9.2"
          ],
          [
           "0.10.0"
          ],
          [
           "0.10.1"
          ]
         ],
         "fillpattern": {
          "shape": ""
         },
         "hovertemplate": "Benchmark Type=Export<br>benchmark=000 Placeholder for charting<br>Release Date=%{x}<br>Time Relative to Latest Version=%{y}<br>DuckDB Version=%{customdata[0]}<extra></extra>",
         "legendgroup": "Export",
         "line": {
          "color": "#EECA3B"
         },
         "marker": {
          "symbol": "circle"
         },
         "mode": "lines",
         "name": "Export",
         "orientation": "v",
         "showlegend": true,
         "stackgroup": "1",
         "type": "scatter",
         "x": [
          "2021-06-14T00:00:00",
          "2021-08-02T00:00:00",
          "2021-09-06T00:00:00",
          "2021-10-06T00:00:00",
          "2021-11-16T00:00:00",
          "2022-02-07T00:00:00",
          "2022-04-25T00:00:00",
          "2022-06-20T00:00:00",
          "2022-09-19T00:00:00",
          "2022-12-06T00:00:00",
          "2023-02-27T00:00:00",
          "2023-06-13T00:00:00",
          "2023-09-26T00:00:00",
          "2023-10-11T00:00:00",
          "2023-11-14T00:00:00",
          "2024-02-13T00:00:00",
          "2024-03-18T00:00:00"
         ],
         "xaxis": "x",
         "y": [
          0,
          0,
          0,
          0,
          0,
          0,
          0,
          0,
          0,
          0,
          0,
          0,
          0,
          0,
          0,
          0,
          0
         ],
         "yaxis": "y"
        },
        {
         "customdata": [
          [
           "0.2.7"
          ],
          [
           "0.2.8"
          ],
          [
           "0.2.9"
          ],
          [
           "0.3.0"
          ],
          [
           "0.3.1"
          ],
          [
           "0.3.2"
          ],
          [
           "0.3.4"
          ],
          [
           "0.4.0"
          ]
         ],
         "fillpattern": {
          "shape": ""
         },
         "hovertemplate": "Benchmark Type=Export<br>benchmark=005 Export group by results to Pandas<br>Release Date=%{x}<br>Time Relative to Latest Version=%{y}<br>DuckDB Version=%{customdata[0]}<extra></extra>",
         "legendgroup": "Export",
         "line": {
          "color": "#EECA3B"
         },
         "marker": {
          "symbol": "circle"
         },
         "mode": "lines",
         "name": "Export",
         "orientation": "v",
         "showlegend": false,
         "stackgroup": "1",
         "type": "scatter",
         "x": [
          "2021-06-14T00:00:00",
          "2021-08-02T00:00:00",
          "2021-09-06T00:00:00",
          "2021-10-06T00:00:00",
          "2021-11-16T00:00:00",
          "2022-02-07T00:00:00",
          "2022-04-25T00:00:00",
          "2022-06-20T00:00:00"
         ],
         "xaxis": "x",
         "y": [
          0.09533795390552696,
          0.08393430794366223,
          0.07597574010091723,
          0.07648277448602986,
          0.078023984114182,
          0.07798997315257482,
          0.07482839386453813,
          0.07395288718873815
         ],
         "yaxis": "y"
        },
        {
         "customdata": [
          [
           "0.2.7"
          ],
          [
           "0.2.8"
          ],
          [
           "0.2.9"
          ],
          [
           "0.3.0"
          ],
          [
           "0.3.1"
          ],
          [
           "0.3.2"
          ],
          [
           "0.3.4"
          ],
          [
           "0.4.0"
          ],
          [
           "0.5.1"
          ],
          [
           "0.6.1"
          ],
          [
           "0.7.1"
          ],
          [
           "0.8.1"
          ],
          [
           "0.9.0"
          ],
          [
           "0.9.1"
          ],
          [
           "0.9.2"
          ],
          [
           "0.10.0"
          ],
          [
           "0.10.1"
          ]
         ],
         "fillpattern": {
          "shape": ""
         },
         "hovertemplate": "Benchmark Type=Export<br>benchmark=007 Export group by results to Parquet<br>Release Date=%{x}<br>Time Relative to Latest Version=%{y}<br>DuckDB Version=%{customdata[0]}<extra></extra>",
         "legendgroup": "Export",
         "line": {
          "color": "#EECA3B"
         },
         "marker": {
          "symbol": "circle"
         },
         "mode": "lines",
         "name": "Export",
         "orientation": "v",
         "showlegend": false,
         "stackgroup": "1",
         "type": "scatter",
         "x": [
          "2021-06-14T00:00:00",
          "2021-08-02T00:00:00",
          "2021-09-06T00:00:00",
          "2021-10-06T00:00:00",
          "2021-11-16T00:00:00",
          "2022-02-07T00:00:00",
          "2022-04-25T00:00:00",
          "2022-06-20T00:00:00",
          "2022-09-19T00:00:00",
          "2022-12-06T00:00:00",
          "2023-02-27T00:00:00",
          "2023-06-13T00:00:00",
          "2023-09-26T00:00:00",
          "2023-10-11T00:00:00",
          "2023-11-14T00:00:00",
          "2024-02-13T00:00:00",
          "2024-03-18T00:00:00"
         ],
         "xaxis": "x",
         "y": [
          0.11392166716564468,
          0.11284640973217976,
          0.11620781735680696,
          0.11525413530023589,
          0.11580287340925535,
          0.1922880208481742,
          0.18686238488463425,
          0.18626776100639536,
          0.26959446004363646,
          0.23266884625121892,
          0.24836209054198236,
          0.09154485811147796,
          0.09125519506347476,
          0.09203082145913881,
          0.09257871004885847,
          0.09098775825724295,
          0.08965975036959822
         ],
         "yaxis": "y"
        },
        {
         "customdata": [
          [
           "0.5.1"
          ],
          [
           "0.6.1"
          ],
          [
           "0.7.1"
          ],
          [
           "0.8.1"
          ],
          [
           "0.9.0"
          ],
          [
           "0.9.1"
          ],
          [
           "0.9.2"
          ],
          [
           "0.10.0"
          ],
          [
           "0.10.1"
          ]
         ],
         "fillpattern": {
          "shape": ""
         },
         "hovertemplate": "Benchmark Type=Export<br>benchmark=009 Export group by results to Arrow<br>Release Date=%{x}<br>Time Relative to Latest Version=%{y}<br>DuckDB Version=%{customdata[0]}<extra></extra>",
         "legendgroup": "Export",
         "line": {
          "color": "#EECA3B"
         },
         "marker": {
          "symbol": "circle"
         },
         "mode": "lines",
         "name": "Export",
         "orientation": "v",
         "showlegend": false,
         "stackgroup": "1",
         "type": "scatter",
         "x": [
          "2022-09-19T00:00:00",
          "2022-12-06T00:00:00",
          "2023-02-27T00:00:00",
          "2023-06-13T00:00:00",
          "2023-09-26T00:00:00",
          "2023-10-11T00:00:00",
          "2023-11-14T00:00:00",
          "2024-02-13T00:00:00",
          "2024-03-18T00:00:00"
         ],
         "xaxis": "x",
         "y": [
          0.023435200047507074,
          0.017128201341952858,
          0.01747620897371831,
          0.01844090892154035,
          0.018262484911086493,
          0.01867430722263873,
          0.01841808381857785,
          0.022417081897945532,
          0.022514501603104236
         ],
         "yaxis": "y"
        },
        {
         "customdata": [
          [
           "0.2.7"
          ],
          [
           "0.2.8"
          ],
          [
           "0.2.9"
          ],
          [
           "0.3.0"
          ],
          [
           "0.3.1"
          ],
          [
           "0.3.2"
          ],
          [
           "0.3.4"
          ],
          [
           "0.4.0"
          ]
         ],
         "fillpattern": {
          "shape": ""
         },
         "hovertemplate": "Benchmark Type=Export<br>benchmark=014 Export join results to Pandas<br>Release Date=%{x}<br>Time Relative to Latest Version=%{y}<br>DuckDB Version=%{customdata[0]}<extra></extra>",
         "legendgroup": "Export",
         "line": {
          "color": "#EECA3B"
         },
         "marker": {
          "symbol": "circle"
         },
         "mode": "lines",
         "name": "Export",
         "orientation": "v",
         "showlegend": false,
         "stackgroup": "1",
         "type": "scatter",
         "x": [
          "2021-06-14T00:00:00",
          "2021-08-02T00:00:00",
          "2021-09-06T00:00:00",
          "2021-10-06T00:00:00",
          "2021-11-16T00:00:00",
          "2022-02-07T00:00:00",
          "2022-04-25T00:00:00",
          "2022-06-20T00:00:00"
         ],
         "xaxis": "x",
         "y": [
          1.978381076544786,
          1.8427569957252645,
          1.525303420210508,
          1.5393109466247084,
          1.5598416929890404,
          2.1008225860556653,
          1.5988013379748098,
          1.680332774024747
         ],
         "yaxis": "y"
        },
        {
         "customdata": [
          [
           "0.5.1"
          ],
          [
           "0.6.1"
          ],
          [
           "0.7.1"
          ],
          [
           "0.8.1"
          ],
          [
           "0.9.0"
          ],
          [
           "0.9.1"
          ],
          [
           "0.9.2"
          ],
          [
           "0.10.0"
          ],
          [
           "0.10.1"
          ]
         ],
         "fillpattern": {
          "shape": ""
         },
         "hovertemplate": "Benchmark Type=Export<br>benchmark=015 Export join results to Arrow<br>Release Date=%{x}<br>Time Relative to Latest Version=%{y}<br>DuckDB Version=%{customdata[0]}<extra></extra>",
         "legendgroup": "Export",
         "line": {
          "color": "#EECA3B"
         },
         "marker": {
          "symbol": "circle"
         },
         "mode": "lines",
         "name": "Export",
         "orientation": "v",
         "showlegend": false,
         "stackgroup": "1",
         "type": "scatter",
         "x": [
          "2022-09-19T00:00:00",
          "2022-12-06T00:00:00",
          "2023-02-27T00:00:00",
          "2023-06-13T00:00:00",
          "2023-09-26T00:00:00",
          "2023-10-11T00:00:00",
          "2023-11-14T00:00:00",
          "2024-02-13T00:00:00",
          "2024-03-18T00:00:00"
         ],
         "xaxis": "x",
         "y": [
          0.19394621781153493,
          0.10739469107248435,
          0.1069909373901164,
          0.11113967337939011,
          0.11380525120824225,
          0.1133794165190667,
          0.11133831656258639,
          0.14192707524976805,
          0.139485734673315
         ],
         "yaxis": "y"
        }
       ],
       "layout": {
        "legend": {
         "title": {
          "text": "Benchmark Type"
         },
         "tracegroupgap": 0
        },
        "margin": {
         "t": 60
        },
        "template": {
         "data": {
          "bar": [
           {
            "error_x": {
             "color": "#2a3f5f"
            },
            "error_y": {
             "color": "#2a3f5f"
            },
            "marker": {
             "line": {
              "color": "white",
              "width": 0.5
             },
             "pattern": {
              "fillmode": "overlay",
              "size": 10,
              "solidity": 0.2
             }
            },
            "type": "bar"
           }
          ],
          "barpolar": [
           {
            "marker": {
             "line": {
              "color": "white",
              "width": 0.5
             },
             "pattern": {
              "fillmode": "overlay",
              "size": 10,
              "solidity": 0.2
             }
            },
            "type": "barpolar"
           }
          ],
          "carpet": [
           {
            "aaxis": {
             "endlinecolor": "#2a3f5f",
             "gridcolor": "#C8D4E3",
             "linecolor": "#C8D4E3",
             "minorgridcolor": "#C8D4E3",
             "startlinecolor": "#2a3f5f"
            },
            "baxis": {
             "endlinecolor": "#2a3f5f",
             "gridcolor": "#C8D4E3",
             "linecolor": "#C8D4E3",
             "minorgridcolor": "#C8D4E3",
             "startlinecolor": "#2a3f5f"
            },
            "type": "carpet"
           }
          ],
          "choropleth": [
           {
            "colorbar": {
             "outlinewidth": 0,
             "ticks": ""
            },
            "type": "choropleth"
           }
          ],
          "contour": [
           {
            "colorbar": {
             "outlinewidth": 0,
             "ticks": ""
            },
            "colorscale": [
             [
              0,
              "#0d0887"
             ],
             [
              0.1111111111111111,
              "#46039f"
             ],
             [
              0.2222222222222222,
              "#7201a8"
             ],
             [
              0.3333333333333333,
              "#9c179e"
             ],
             [
              0.4444444444444444,
              "#bd3786"
             ],
             [
              0.5555555555555556,
              "#d8576b"
             ],
             [
              0.6666666666666666,
              "#ed7953"
             ],
             [
              0.7777777777777778,
              "#fb9f3a"
             ],
             [
              0.8888888888888888,
              "#fdca26"
             ],
             [
              1,
              "#f0f921"
             ]
            ],
            "type": "contour"
           }
          ],
          "contourcarpet": [
           {
            "colorbar": {
             "outlinewidth": 0,
             "ticks": ""
            },
            "type": "contourcarpet"
           }
          ],
          "heatmap": [
           {
            "colorbar": {
             "outlinewidth": 0,
             "ticks": ""
            },
            "colorscale": [
             [
              0,
              "#0d0887"
             ],
             [
              0.1111111111111111,
              "#46039f"
             ],
             [
              0.2222222222222222,
              "#7201a8"
             ],
             [
              0.3333333333333333,
              "#9c179e"
             ],
             [
              0.4444444444444444,
              "#bd3786"
             ],
             [
              0.5555555555555556,
              "#d8576b"
             ],
             [
              0.6666666666666666,
              "#ed7953"
             ],
             [
              0.7777777777777778,
              "#fb9f3a"
             ],
             [
              0.8888888888888888,
              "#fdca26"
             ],
             [
              1,
              "#f0f921"
             ]
            ],
            "type": "heatmap"
           }
          ],
          "heatmapgl": [
           {
            "colorbar": {
             "outlinewidth": 0,
             "ticks": ""
            },
            "colorscale": [
             [
              0,
              "#0d0887"
             ],
             [
              0.1111111111111111,
              "#46039f"
             ],
             [
              0.2222222222222222,
              "#7201a8"
             ],
             [
              0.3333333333333333,
              "#9c179e"
             ],
             [
              0.4444444444444444,
              "#bd3786"
             ],
             [
              0.5555555555555556,
              "#d8576b"
             ],
             [
              0.6666666666666666,
              "#ed7953"
             ],
             [
              0.7777777777777778,
              "#fb9f3a"
             ],
             [
              0.8888888888888888,
              "#fdca26"
             ],
             [
              1,
              "#f0f921"
             ]
            ],
            "type": "heatmapgl"
           }
          ],
          "histogram": [
           {
            "marker": {
             "pattern": {
              "fillmode": "overlay",
              "size": 10,
              "solidity": 0.2
             }
            },
            "type": "histogram"
           }
          ],
          "histogram2d": [
           {
            "colorbar": {
             "outlinewidth": 0,
             "ticks": ""
            },
            "colorscale": [
             [
              0,
              "#0d0887"
             ],
             [
              0.1111111111111111,
              "#46039f"
             ],
             [
              0.2222222222222222,
              "#7201a8"
             ],
             [
              0.3333333333333333,
              "#9c179e"
             ],
             [
              0.4444444444444444,
              "#bd3786"
             ],
             [
              0.5555555555555556,
              "#d8576b"
             ],
             [
              0.6666666666666666,
              "#ed7953"
             ],
             [
              0.7777777777777778,
              "#fb9f3a"
             ],
             [
              0.8888888888888888,
              "#fdca26"
             ],
             [
              1,
              "#f0f921"
             ]
            ],
            "type": "histogram2d"
           }
          ],
          "histogram2dcontour": [
           {
            "colorbar": {
             "outlinewidth": 0,
             "ticks": ""
            },
            "colorscale": [
             [
              0,
              "#0d0887"
             ],
             [
              0.1111111111111111,
              "#46039f"
             ],
             [
              0.2222222222222222,
              "#7201a8"
             ],
             [
              0.3333333333333333,
              "#9c179e"
             ],
             [
              0.4444444444444444,
              "#bd3786"
             ],
             [
              0.5555555555555556,
              "#d8576b"
             ],
             [
              0.6666666666666666,
              "#ed7953"
             ],
             [
              0.7777777777777778,
              "#fb9f3a"
             ],
             [
              0.8888888888888888,
              "#fdca26"
             ],
             [
              1,
              "#f0f921"
             ]
            ],
            "type": "histogram2dcontour"
           }
          ],
          "mesh3d": [
           {
            "colorbar": {
             "outlinewidth": 0,
             "ticks": ""
            },
            "type": "mesh3d"
           }
          ],
          "parcoords": [
           {
            "line": {
             "colorbar": {
              "outlinewidth": 0,
              "ticks": ""
             }
            },
            "type": "parcoords"
           }
          ],
          "pie": [
           {
            "automargin": true,
            "type": "pie"
           }
          ],
          "scatter": [
           {
            "fillpattern": {
             "fillmode": "overlay",
             "size": 10,
             "solidity": 0.2
            },
            "type": "scatter"
           }
          ],
          "scatter3d": [
           {
            "line": {
             "colorbar": {
              "outlinewidth": 0,
              "ticks": ""
             }
            },
            "marker": {
             "colorbar": {
              "outlinewidth": 0,
              "ticks": ""
             }
            },
            "type": "scatter3d"
           }
          ],
          "scattercarpet": [
           {
            "marker": {
             "colorbar": {
              "outlinewidth": 0,
              "ticks": ""
             }
            },
            "type": "scattercarpet"
           }
          ],
          "scattergeo": [
           {
            "marker": {
             "colorbar": {
              "outlinewidth": 0,
              "ticks": ""
             }
            },
            "type": "scattergeo"
           }
          ],
          "scattergl": [
           {
            "marker": {
             "colorbar": {
              "outlinewidth": 0,
              "ticks": ""
             }
            },
            "type": "scattergl"
           }
          ],
          "scattermapbox": [
           {
            "marker": {
             "colorbar": {
              "outlinewidth": 0,
              "ticks": ""
             }
            },
            "type": "scattermapbox"
           }
          ],
          "scatterpolar": [
           {
            "marker": {
             "colorbar": {
              "outlinewidth": 0,
              "ticks": ""
             }
            },
            "type": "scatterpolar"
           }
          ],
          "scatterpolargl": [
           {
            "marker": {
             "colorbar": {
              "outlinewidth": 0,
              "ticks": ""
             }
            },
            "type": "scatterpolargl"
           }
          ],
          "scatterternary": [
           {
            "marker": {
             "colorbar": {
              "outlinewidth": 0,
              "ticks": ""
             }
            },
            "type": "scatterternary"
           }
          ],
          "surface": [
           {
            "colorbar": {
             "outlinewidth": 0,
             "ticks": ""
            },
            "colorscale": [
             [
              0,
              "#0d0887"
             ],
             [
              0.1111111111111111,
              "#46039f"
             ],
             [
              0.2222222222222222,
              "#7201a8"
             ],
             [
              0.3333333333333333,
              "#9c179e"
             ],
             [
              0.4444444444444444,
              "#bd3786"
             ],
             [
              0.5555555555555556,
              "#d8576b"
             ],
             [
              0.6666666666666666,
              "#ed7953"
             ],
             [
              0.7777777777777778,
              "#fb9f3a"
             ],
             [
              0.8888888888888888,
              "#fdca26"
             ],
             [
              1,
              "#f0f921"
             ]
            ],
            "type": "surface"
           }
          ],
          "table": [
           {
            "cells": {
             "fill": {
              "color": "#EBF0F8"
             },
             "line": {
              "color": "white"
             }
            },
            "header": {
             "fill": {
              "color": "#C8D4E3"
             },
             "line": {
              "color": "white"
             }
            },
            "type": "table"
           }
          ]
         },
         "layout": {
          "annotationdefaults": {
           "arrowcolor": "#2a3f5f",
           "arrowhead": 0,
           "arrowwidth": 1
          },
          "autotypenumbers": "strict",
          "coloraxis": {
           "colorbar": {
            "outlinewidth": 0,
            "ticks": ""
           }
          },
          "colorscale": {
           "diverging": [
            [
             0,
             "#8e0152"
            ],
            [
             0.1,
             "#c51b7d"
            ],
            [
             0.2,
             "#de77ae"
            ],
            [
             0.3,
             "#f1b6da"
            ],
            [
             0.4,
             "#fde0ef"
            ],
            [
             0.5,
             "#f7f7f7"
            ],
            [
             0.6,
             "#e6f5d0"
            ],
            [
             0.7,
             "#b8e186"
            ],
            [
             0.8,
             "#7fbc41"
            ],
            [
             0.9,
             "#4d9221"
            ],
            [
             1,
             "#276419"
            ]
           ],
           "sequential": [
            [
             0,
             "#0d0887"
            ],
            [
             0.1111111111111111,
             "#46039f"
            ],
            [
             0.2222222222222222,
             "#7201a8"
            ],
            [
             0.3333333333333333,
             "#9c179e"
            ],
            [
             0.4444444444444444,
             "#bd3786"
            ],
            [
             0.5555555555555556,
             "#d8576b"
            ],
            [
             0.6666666666666666,
             "#ed7953"
            ],
            [
             0.7777777777777778,
             "#fb9f3a"
            ],
            [
             0.8888888888888888,
             "#fdca26"
            ],
            [
             1,
             "#f0f921"
            ]
           ],
           "sequentialminus": [
            [
             0,
             "#0d0887"
            ],
            [
             0.1111111111111111,
             "#46039f"
            ],
            [
             0.2222222222222222,
             "#7201a8"
            ],
            [
             0.3333333333333333,
             "#9c179e"
            ],
            [
             0.4444444444444444,
             "#bd3786"
            ],
            [
             0.5555555555555556,
             "#d8576b"
            ],
            [
             0.6666666666666666,
             "#ed7953"
            ],
            [
             0.7777777777777778,
             "#fb9f3a"
            ],
            [
             0.8888888888888888,
             "#fdca26"
            ],
            [
             1,
             "#f0f921"
            ]
           ]
          },
          "colorway": [
           "#636efa",
           "#EF553B",
           "#00cc96",
           "#ab63fa",
           "#FFA15A",
           "#19d3f3",
           "#FF6692",
           "#B6E880",
           "#FF97FF",
           "#FECB52"
          ],
          "font": {
           "color": "#2a3f5f"
          },
          "geo": {
           "bgcolor": "white",
           "lakecolor": "white",
           "landcolor": "white",
           "showlakes": true,
           "showland": true,
           "subunitcolor": "#C8D4E3"
          },
          "hoverlabel": {
           "align": "left"
          },
          "hovermode": "closest",
          "mapbox": {
           "style": "light"
          },
          "paper_bgcolor": "white",
          "plot_bgcolor": "white",
          "polar": {
           "angularaxis": {
            "gridcolor": "#EBF0F8",
            "linecolor": "#EBF0F8",
            "ticks": ""
           },
           "bgcolor": "white",
           "radialaxis": {
            "gridcolor": "#EBF0F8",
            "linecolor": "#EBF0F8",
            "ticks": ""
           }
          },
          "scene": {
           "xaxis": {
            "backgroundcolor": "white",
            "gridcolor": "#DFE8F3",
            "gridwidth": 2,
            "linecolor": "#EBF0F8",
            "showbackground": true,
            "ticks": "",
            "zerolinecolor": "#EBF0F8"
           },
           "yaxis": {
            "backgroundcolor": "white",
            "gridcolor": "#DFE8F3",
            "gridwidth": 2,
            "linecolor": "#EBF0F8",
            "showbackground": true,
            "ticks": "",
            "zerolinecolor": "#EBF0F8"
           },
           "zaxis": {
            "backgroundcolor": "white",
            "gridcolor": "#DFE8F3",
            "gridwidth": 2,
            "linecolor": "#EBF0F8",
            "showbackground": true,
            "ticks": "",
            "zerolinecolor": "#EBF0F8"
           }
          },
          "shapedefaults": {
           "line": {
            "color": "#2a3f5f"
           }
          },
          "ternary": {
           "aaxis": {
            "gridcolor": "#DFE8F3",
            "linecolor": "#A2B1C6",
            "ticks": ""
           },
           "baxis": {
            "gridcolor": "#DFE8F3",
            "linecolor": "#A2B1C6",
            "ticks": ""
           },
           "bgcolor": "white",
           "caxis": {
            "gridcolor": "#DFE8F3",
            "linecolor": "#A2B1C6",
            "ticks": ""
           }
          },
          "title": {
           "x": 0.05
          },
          "xaxis": {
           "automargin": true,
           "gridcolor": "#EBF0F8",
           "linecolor": "#EBF0F8",
           "ticks": "",
           "title": {
            "standoff": 15
           },
           "zerolinecolor": "#EBF0F8",
           "zerolinewidth": 2
          },
          "yaxis": {
           "automargin": true,
           "gridcolor": "#EBF0F8",
           "linecolor": "#EBF0F8",
           "ticks": "",
           "title": {
            "standoff": 15
           },
           "zerolinecolor": "#EBF0F8",
           "zerolinewidth": 2
          }
         }
        },
        "xaxis": {
         "anchor": "y",
         "domain": [
          0,
          1
         ],
         "title": {
          "text": "Release Date"
         }
        },
        "yaxis": {
         "anchor": "x",
         "domain": [
          0,
          1
         ],
         "title": {
          "text": "Time Relative to Latest Version"
         }
        }
       }
      }
     },
     "metadata": {},
     "output_type": "display_data"
    }
   ],
   "source": [
    "fig = px.area(\n",
    "    pandas_or_arrow_with_dates,\n",
    "    x=\"Release Date\",\n",
    "    y=\"Time (seconds)\",\n",
    "    color=\"Benchmark Type\",\n",
    "    line_group=\"benchmark\",\n",
    "    category_orders={\"Benchmark Type\":[\"CSV Import\",\"Scan other formats\",\"Analysis - Group By\", 'Analysis - Join', 'Window Functions', \"Export\"]},\n",
    "    template='plotly_white',\n",
    "    color_discrete_sequence=px.colors.qualitative.T10,\n",
    "    hover_data=[\"DuckDB Version\"]\n",
    ")\n",
    "# print(plotly.io.to_json(fig, pretty=True))\n",
    "# fig.update_layout(xaxis2= {'anchor': 'y', 'overlaying': 'x', 'side': 'top'})\n",
    "# print(fig.data[1])\n",
    "# fig.data[1].update(xaxis='x2')\n",
    "fig.show()\n",
    "\n",
    "fig = px.area(\n",
    "    pandas_or_arrow_with_dates,\n",
    "    x=\"Release Date\",\n",
    "    y=\"Time Relative to Latest Version\",\n",
    "    color=\"Benchmark Type\",\n",
    "    line_group=\"benchmark\",\n",
    "    category_orders={\"Benchmark Type\":[\"CSV Import\",\"Scan other formats\",\"Analysis - Group By\", 'Analysis - Join', 'Window Functions', \"Export\"]},\n",
    "    template='plotly_white',\n",
    "    color_discrete_sequence=px.colors.qualitative.T10,\n",
    "    hover_data=[\"DuckDB Version\"]\n",
    ")\n",
    "fig.show()"
   ]
  },
  {
   "cell_type": "code",
   "execution_count": 13,
   "metadata": {},
   "outputs": [
    {
     "name": "stdout",
     "output_type": "stream",
     "text": [
      "result.stdout:\n",
      "| duckdb_version | split_version | first_digit | second_digit | third_digit | version_rank | versions_using_pandas | versions_using_pyarrow | versions_with_enums |\n",
      "|----------------|---------------|-------------|--------------|-------------|--------------|-----------------------|------------------------|---------------------|\n",
      "| 0.2.7          | [0, 2, 7]     | 0           | 200          | 7           | 207          | 0.2.7                 |                        |                     |\n",
      "| 0.2.8          | [0, 2, 8]     | 0           | 200          | 8           | 208          | 0.2.8                 |                        |                     |\n",
      "| 0.2.9          | [0, 2, 9]     | 0           | 200          | 9           | 209          | 0.2.9                 |                        |                     |\n",
      "| 0.3.0          | [0, 3, 0]     | 0           | 300          | 0           | 300          | 0.3.0                 |                        |                     |\n",
      "| 0.3.1          | [0, 3, 1]     | 0           | 300          | 1           | 301          | 0.3.1                 |                        |                     |\n",
      "| 0.3.2          | [0, 3, 2]     | 0           | 300          | 2           | 302          | 0.3.2                 |                        |                     |\n",
      "| 0.3.3          | [0, 3, 3]     | 0           | 300          | 3           | 303          | 0.3.3                 |                        |                     |\n",
      "| 0.3.4          | [0, 3, 4]     | 0           | 300          | 4           | 304          | 0.3.4                 |                        |                     |\n",
      "| 0.4.0          | [0, 4, 0]     | 0           | 400          | 0           | 400          | 0.4.0                 |                        |                     |\n",
      "| 0.5.1          | [0, 5, 1]     | 0           | 500          | 1           | 501          |                       | 0.5.1                  |                     |\n",
      "| 0.6.1          | [0, 6, 1]     | 0           | 600          | 1           | 601          |                       | 0.6.1                  | 0.6.1               |\n",
      "| 0.7.1          | [0, 7, 1]     | 0           | 700          | 1           | 701          |                       | 0.7.1                  | 0.7.1               |\n",
      "| 0.8.1          | [0, 8, 1]     | 0           | 800          | 1           | 801          |                       | 0.8.1                  | 0.8.1               |\n",
      "| 0.9.0          | [0, 9, 0]     | 0           | 900          | 0           | 900          |                       | 0.9.0                  | 0.9.0               |\n",
      "| 0.9.2          | [0, 9, 2]     | 0           | 900          | 2           | 902          |                       | 0.9.2                  | 0.9.2               |\n",
      "| 0.10.0         | [0, 10, 0]    | 0           | 1000         | 0           | 1000         |                       | 0.10.0                 | 0.10.0              |\n",
      "| 0.10.1         | [0, 10, 1]    | 0           | 1000         | 1           | 1001         |                       | 0.10.1                 | 0.10.1              |\n",
      "| 0.10.2         | [0, 10, 2]    | 0           | 1000         | 2           | 1002         |                       | 0.10.2                 | 0.10.2              |\n",
      "\n",
      "result.stderr:\n",
      "\n"
     ]
    }
   ],
   "source": [
    "# Want to show a table of the various configurations (Pandas vs. Arrow, Enums or not, etc.)\n",
    "# Use the DuckDB CLI to generate Markdown\n",
    "import subprocess \n",
    "import os\n",
    "duckdb_location = './duckdb_0_9_0'\n",
    "sql_location = './benchmark_configs.sql'\n",
    "versions_with_enums = ['0.6.1', '0.7.1', '0.8.1', '0.9.0', '0.9.2', '0.10.0', '0.10.1', '0.10.2']\n",
    "versions_using_pandas  = ['0.2.7', '0.2.8', '0.2.9', '0.3.0', '0.3.1', '0.3.2', '0.3.3', '0.3.4', '0.4.0']\n",
    "versions_using_pyarrow = ['0.5.1', '0.6.1', '0.7.1', '0.8.1', '0.9.0', '0.9.2', '0.10.0', '0.10.1', '0.10.2']\n",
    "\n",
    "# versions_without_enums_pre_pandas = []\n",
    "# for version in versions_without_enums:\n",
    "#     versions_without_enums_pre_pandas.append({'duckdb_version_without_enums':version})\n",
    "# versions_without_enums_df = pd.DataFrame(versions_without_enums_pre_pandas)\n",
    "# print(versions_without_enums_df)\n",
    "\n",
    "# versions_without_pyarrow_pre_pandas = []\n",
    "# for version in versions_without_pyarrow:\n",
    "#     versions_without_pyarrow_pre_pandas.append({'duckdb_version_without_pyarrow':version})\n",
    "# versions_without_pyarrow_df = pd.DataFrame(versions_without_pyarrow_pre_pandas)\n",
    "# print(versions_without_pyarrow_df)\n",
    "\n",
    "if os.path.exists(sql_location):\n",
    "    os.remove(sql_location)\n",
    "with open(sql_location, mode='w') as f:\n",
    "    f.write(f\"\"\".mode markdown\n",
    "            with pandas as (\n",
    "                SELECT UNNEST({versions_using_pandas}) as versions_using_pandas\n",
    "            ), enums as (\n",
    "                SELECT UNNEST({versions_with_enums}) as versions_with_enums\n",
    "            ), pyarrow as (\n",
    "                SELECT UNNEST({versions_using_pyarrow}) as versions_using_pyarrow\n",
    "            ), all_versions as (\n",
    "                from pandas select distinct versions_using_pandas as duckdb_version\n",
    "                union\n",
    "                from enums select distinct versions_with_enums as duckdb_version\n",
    "                union \n",
    "                from pyarrow select distinct *\n",
    "            )\n",
    "            from all_versions a\n",
    "            left join pandas on a.duckdb_version = pandas.versions_using_pandas \n",
    "            left join pyarrow on a.duckdb_version = pyarrow.versions_using_pyarrow\n",
    "            left join enums on a.duckdb_version = enums.versions_with_enums\n",
    "            select \n",
    "                a.*,\n",
    "                a.duckdb_version.string_split('.') as split_version,\n",
    "                try_cast(split_version[1] as int) * 100 * 100 as first_digit,\n",
    "                try_cast(split_version[2] as int) * 100 as second_digit,\n",
    "                try_cast(split_version[3] as int) as third_digit,\n",
    "                first_digit + second_digit + third_digit as version_rank,\n",
    "                pandas.*,\n",
    "                pyarrow.*,\n",
    "                enums.*,\n",
    "            order by \n",
    "                version_rank\n",
    "\"\"\")\n",
    "result = subprocess.run([duckdb_location, ':memory:', \"-c\",f\"\"\".read {sql_location}\"\"\"], capture_output=True, text=True)\n",
    "# print(result)\n",
    "print('result.stdout:\\n'+result.stdout)\n",
    "print('result.stderr:\\n'+result.stderr)"
   ]
  },
  {
   "cell_type": "markdown",
   "metadata": {},
   "source": [
    "## Brainstorming\n",
    "- Total time area plot\n",
    "- Relative time area plot (with current as 1, scaling the rest off of that)\n",
    "    - Grouping related operations together\n",
    "        - Maybe grouping by type (export to pandas)\n",
    "        - Maybe grouping by task (group by tests)\n",
    "        - Group by \"importing, querying, exporting\" to show the whole burger idea\n",
    "    - Likely need to filter things down\n",
    "    - Choosing between Pandas and Arrow whenever Arrow was faster\n",
    "- Annotating the charts to show what improved with each version\n",
    "\n",
    "- Max data scale plot\n",
    "    - Likely need more than just 2 datasets (10 million, 100 million, 1 billion, 10 billion?) Likely unable to generate 10 billion locally with this script.\n",
    "    - Probably want a column chart with group by and join as the 2 types of bars (alternating group by / join for each version showing the max it can handle? Or maybe a line chart)\n"
   ]
  },
  {
   "cell_type": "markdown",
   "metadata": {},
   "source": []
  },
  {
   "cell_type": "code",
   "execution_count": null,
   "metadata": {},
   "outputs": [],
   "source": []
  }
 ],
 "metadata": {
  "kernelspec": {
   "display_name": "benchmark_env",
   "language": "python",
   "name": "python3"
  },
  "language_info": {
   "codemirror_mode": {
    "name": "ipython",
    "version": 3
   },
   "file_extension": ".py",
   "mimetype": "text/x-python",
   "name": "python",
   "nbconvert_exporter": "python",
   "pygments_lexer": "ipython3",
   "version": "3.11.8"
  }
 },
 "nbformat": 4,
 "nbformat_minor": 2
}
