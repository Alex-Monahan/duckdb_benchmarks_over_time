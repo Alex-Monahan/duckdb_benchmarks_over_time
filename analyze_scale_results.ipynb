{
 "cells": [
  {
   "cell_type": "code",
   "execution_count": 15,
   "metadata": {},
   "outputs": [],
   "source": [
    "import duckdb \n",
    "import pandas as pd\n",
    "import plotly.express as px\n",
    "import plotly\n",
    "pd.set_option('display.max_rows', 5000)\n",
    "pd.set_option('display.max_columns', 5000)"
   ]
  },
  {
   "cell_type": "code",
   "execution_count": 16,
   "metadata": {},
   "outputs": [],
   "source": [
    "con = duckdb.connect('load_results.duckdb')\n",
    "scale_db_names = [\n",
    "    'benchmark_log_python_load_test_030_027.db',\n",
    "    'benchmark_log_python_load_test_032_031_partial_030.db',\n",
    "    'benchmark_log_python_load_test_071_034.db',\n",
    "    'benchmark_log_python_load_test_090_081.db',\n",
    "    'benchmark_log_python_load_test_092_091.db',\n",
    "    'benchmark_log_python_1e9_success_0_10_on.db',\n",
    "    # Not sure about this one:\n",
    "    'benchmark_log_python_1e9_join_success.db',\n",
    "    ]\n",
    "for i, scale_db_name in enumerate(scale_db_names):\n",
    "    try:\n",
    "        detach_results = con.sql(f\"\"\"DETACH \"{scale_db_name}\" \"\"\")    \n",
    "    except:\n",
    "        print(f\"Unable to detach {scale_db_name} - it may not be attached yet\")\n",
    "    attach_results = con.sql(f\"\"\"ATTACH '{scale_db_name}' as \"{scale_db_name}\" (TYPE SQLITE)\"\"\")\n",
    "    if i == 0:\n",
    "        ctas_results = con.sql(f\"\"\"\n",
    "                            create or replace table duckdb_results as \n",
    "                            select '' as filename, * from \"{scale_db_name}\".results where 1=0\"\"\")\n",
    "    insert_results = con.sql(f\"\"\"\n",
    "        insert into duckdb_results \n",
    "            select '{scale_db_name}' as filename, * from \"{scale_db_name}\".results\n",
    "        \"\"\")\n",
    "\n"
   ]
  },
  {
   "cell_type": "code",
   "execution_count": 23,
   "metadata": {},
   "outputs": [
    {
     "data": {
      "text/html": [
       "<div>\n",
       "<style scoped>\n",
       "    .dataframe tbody tr th:only-of-type {\n",
       "        vertical-align: middle;\n",
       "    }\n",
       "\n",
       "    .dataframe tbody tr th {\n",
       "        vertical-align: top;\n",
       "    }\n",
       "\n",
       "    .dataframe thead th {\n",
       "        text-align: right;\n",
       "    }\n",
       "</style>\n",
       "<table border=\"1\" class=\"dataframe\">\n",
       "  <thead>\n",
       "    <tr style=\"text-align: right;\">\n",
       "      <th></th>\n",
       "      <th>duckdb_version</th>\n",
       "      <th>row_count</th>\n",
       "      <th>filename</th>\n",
       "      <th>run_id</th>\n",
       "      <th>repeat_id</th>\n",
       "      <th>benchmark</th>\n",
       "      <th>scenario</th>\n",
       "      <th>time</th>\n",
       "      <th>version_rank</th>\n",
       "    </tr>\n",
       "  </thead>\n",
       "  <tbody>\n",
       "    <tr>\n",
       "      <th>0</th>\n",
       "      <td>0.10.2</td>\n",
       "      <td>1e9</td>\n",
       "      <td>benchmark_log_python_1e9_join_success.db</td>\n",
       "      <td>1</td>\n",
       "      <td>0</td>\n",
       "      <td>203 Join Scale test: Join queries</td>\n",
       "      <td>{\"duckdb_version\": \"v0.10.2\", \"row_count\": \"1e9\"}</td>\n",
       "      <td>3256.764643</td>\n",
       "      <td>1002</td>\n",
       "    </tr>\n",
       "    <tr>\n",
       "      <th>1</th>\n",
       "      <td>0.10.2</td>\n",
       "      <td>1e9</td>\n",
       "      <td>benchmark_log_python_1e9_join_success.db</td>\n",
       "      <td>1</td>\n",
       "      <td>0</td>\n",
       "      <td>202 Join Scale test: Convert to Enums for joins</td>\n",
       "      <td>{\"duckdb_version\": \"v0.10.2\", \"row_count\": \"1e9\"}</td>\n",
       "      <td>642.937741</td>\n",
       "      <td>1002</td>\n",
       "    </tr>\n",
       "    <tr>\n",
       "      <th>2</th>\n",
       "      <td>0.10.2</td>\n",
       "      <td>1e9</td>\n",
       "      <td>benchmark_log_python_1e9_join_success.db</td>\n",
       "      <td>1</td>\n",
       "      <td>0</td>\n",
       "      <td>201 Join Scale test: Create tables from csvs j...</td>\n",
       "      <td>{\"duckdb_version\": \"v0.10.2\", \"row_count\": \"1e9\"}</td>\n",
       "      <td>922.271412</td>\n",
       "      <td>1002</td>\n",
       "    </tr>\n",
       "    <tr>\n",
       "      <th>3</th>\n",
       "      <td>0.10.2</td>\n",
       "      <td>1e8</td>\n",
       "      <td>benchmark_log_python_1e9_join_success.db</td>\n",
       "      <td>1</td>\n",
       "      <td>0</td>\n",
       "      <td>203 Join Scale test: Join queries</td>\n",
       "      <td>{\"duckdb_version\": \"v0.10.2\", \"row_count\": \"1e8\"}</td>\n",
       "      <td>400.855752</td>\n",
       "      <td>1002</td>\n",
       "    </tr>\n",
       "    <tr>\n",
       "      <th>4</th>\n",
       "      <td>0.10.2</td>\n",
       "      <td>1e8</td>\n",
       "      <td>benchmark_log_python_1e9_join_success.db</td>\n",
       "      <td>1</td>\n",
       "      <td>0</td>\n",
       "      <td>202 Join Scale test: Convert to Enums for joins</td>\n",
       "      <td>{\"duckdb_version\": \"v0.10.2\", \"row_count\": \"1e8\"}</td>\n",
       "      <td>22.348367</td>\n",
       "      <td>1002</td>\n",
       "    </tr>\n",
       "  </tbody>\n",
       "</table>\n",
       "</div>"
      ],
      "text/plain": [
       "  duckdb_version row_count                                  filename  run_id  \\\n",
       "0         0.10.2       1e9  benchmark_log_python_1e9_join_success.db       1   \n",
       "1         0.10.2       1e9  benchmark_log_python_1e9_join_success.db       1   \n",
       "2         0.10.2       1e9  benchmark_log_python_1e9_join_success.db       1   \n",
       "3         0.10.2       1e8  benchmark_log_python_1e9_join_success.db       1   \n",
       "4         0.10.2       1e8  benchmark_log_python_1e9_join_success.db       1   \n",
       "\n",
       "   repeat_id                                          benchmark  \\\n",
       "0          0                  203 Join Scale test: Join queries   \n",
       "1          0    202 Join Scale test: Convert to Enums for joins   \n",
       "2          0  201 Join Scale test: Create tables from csvs j...   \n",
       "3          0                  203 Join Scale test: Join queries   \n",
       "4          0    202 Join Scale test: Convert to Enums for joins   \n",
       "\n",
       "                                            scenario         time  \\\n",
       "0  {\"duckdb_version\": \"v0.10.2\", \"row_count\": \"1e9\"}  3256.764643   \n",
       "1  {\"duckdb_version\": \"v0.10.2\", \"row_count\": \"1e9\"}   642.937741   \n",
       "2  {\"duckdb_version\": \"v0.10.2\", \"row_count\": \"1e9\"}   922.271412   \n",
       "3  {\"duckdb_version\": \"v0.10.2\", \"row_count\": \"1e8\"}   400.855752   \n",
       "4  {\"duckdb_version\": \"v0.10.2\", \"row_count\": \"1e8\"}    22.348367   \n",
       "\n",
       "   version_rank  \n",
       "0          1002  \n",
       "1          1002  \n",
       "2          1002  \n",
       "3          1002  \n",
       "4          1002  "
      ]
     },
     "execution_count": 23,
     "metadata": {},
     "output_type": "execute_result"
    }
   ],
   "source": [
    "con.sql(\"\"\"\n",
    "                 create or replace table refined_results as\n",
    "        with version_ranks as (\n",
    "        from duckdb_results\n",
    "        select distinct\n",
    "            (scenario::json ->> 'duckdb_version').replace('v','') as version,\n",
    "            version.string_split('.') as split_version,\n",
    "            try_cast(split_version[1] as int) * 100 * 100 as first_digit,\n",
    "            try_cast(split_version[2] as int) * 100 as second_digit,\n",
    "            try_cast(split_version[3] as int) as third_digit,\n",
    "            first_digit + second_digit + third_digit as version_rank,\n",
    "    ), max_version as (\n",
    "        from version_ranks\n",
    "        select \n",
    "            max(version_rank),\n",
    "            arg_max(version, version_rank) as max_version\n",
    "    )         \n",
    "        from duckdb_results\n",
    "        join version_ranks on (duckdb_results.scenario::json ->> 'duckdb_version').replace('v','') = version_ranks.version\n",
    "                 select \n",
    "                    (scenario::json ->> 'duckdb_version').replace('v','') as duckdb_version,\n",
    "                    scenario::json ->> 'row_count' as row_count,\n",
    "                    duckdb_results.*,\n",
    "                    version_ranks.version_rank\n",
    "                 where not (filename = 'benchmark_log_python_load_test_032_031_partial_030.db' and duckdb_version = '0.3.0')\n",
    "                \"\"\")\n",
    "raw_df = con.sql(\"\"\"from refined_results order by version_rank desc\"\"\").df()\n",
    "raw_df.head(5)"
   ]
  },
  {
   "cell_type": "code",
   "execution_count": 18,
   "metadata": {},
   "outputs": [
    {
     "data": {
      "text/html": [
       "<div>\n",
       "<style scoped>\n",
       "    .dataframe tbody tr th:only-of-type {\n",
       "        vertical-align: middle;\n",
       "    }\n",
       "\n",
       "    .dataframe tbody tr th {\n",
       "        vertical-align: top;\n",
       "    }\n",
       "\n",
       "    .dataframe thead th {\n",
       "        text-align: right;\n",
       "    }\n",
       "</style>\n",
       "<table border=\"1\" class=\"dataframe\">\n",
       "  <thead>\n",
       "    <tr style=\"text-align: right;\">\n",
       "      <th></th>\n",
       "      <th>version_rank</th>\n",
       "      <th>DuckDB Version</th>\n",
       "      <th>query_type</th>\n",
       "      <th>max_row_count</th>\n",
       "    </tr>\n",
       "  </thead>\n",
       "  <tbody>\n",
       "    <tr>\n",
       "      <th>0</th>\n",
       "      <td>207</td>\n",
       "      <td>0.2.7</td>\n",
       "      <td>group_by_success</td>\n",
       "      <td>100000000</td>\n",
       "    </tr>\n",
       "    <tr>\n",
       "      <th>1</th>\n",
       "      <td>208</td>\n",
       "      <td>0.2.8</td>\n",
       "      <td>group_by_success</td>\n",
       "      <td>100000000</td>\n",
       "    </tr>\n",
       "    <tr>\n",
       "      <th>2</th>\n",
       "      <td>209</td>\n",
       "      <td>0.2.9</td>\n",
       "      <td>group_by_success</td>\n",
       "      <td>100000000</td>\n",
       "    </tr>\n",
       "    <tr>\n",
       "      <th>3</th>\n",
       "      <td>300</td>\n",
       "      <td>0.3.0</td>\n",
       "      <td>group_by_success</td>\n",
       "      <td>100000000</td>\n",
       "    </tr>\n",
       "    <tr>\n",
       "      <th>4</th>\n",
       "      <td>301</td>\n",
       "      <td>0.3.1</td>\n",
       "      <td>group_by_success</td>\n",
       "      <td>100000000</td>\n",
       "    </tr>\n",
       "    <tr>\n",
       "      <th>5</th>\n",
       "      <td>302</td>\n",
       "      <td>0.3.2</td>\n",
       "      <td>group_by_success</td>\n",
       "      <td>100000000</td>\n",
       "    </tr>\n",
       "    <tr>\n",
       "      <th>6</th>\n",
       "      <td>304</td>\n",
       "      <td>0.3.4</td>\n",
       "      <td>group_by_success</td>\n",
       "      <td>100000000</td>\n",
       "    </tr>\n",
       "    <tr>\n",
       "      <th>7</th>\n",
       "      <td>400</td>\n",
       "      <td>0.4.0</td>\n",
       "      <td>group_by_success</td>\n",
       "      <td>100000000</td>\n",
       "    </tr>\n",
       "    <tr>\n",
       "      <th>8</th>\n",
       "      <td>501</td>\n",
       "      <td>0.5.1</td>\n",
       "      <td>group_by_success</td>\n",
       "      <td>10000000</td>\n",
       "    </tr>\n",
       "    <tr>\n",
       "      <th>9</th>\n",
       "      <td>601</td>\n",
       "      <td>0.6.1</td>\n",
       "      <td>group_by_success</td>\n",
       "      <td>100000000</td>\n",
       "    </tr>\n",
       "    <tr>\n",
       "      <th>10</th>\n",
       "      <td>701</td>\n",
       "      <td>0.7.1</td>\n",
       "      <td>group_by_success</td>\n",
       "      <td>100000000</td>\n",
       "    </tr>\n",
       "    <tr>\n",
       "      <th>11</th>\n",
       "      <td>801</td>\n",
       "      <td>0.8.1</td>\n",
       "      <td>group_by_success</td>\n",
       "      <td>100000000</td>\n",
       "    </tr>\n",
       "    <tr>\n",
       "      <th>12</th>\n",
       "      <td>900</td>\n",
       "      <td>0.9.0</td>\n",
       "      <td>group_by_success</td>\n",
       "      <td>1000000000</td>\n",
       "    </tr>\n",
       "    <tr>\n",
       "      <th>13</th>\n",
       "      <td>901</td>\n",
       "      <td>0.9.1</td>\n",
       "      <td>group_by_success</td>\n",
       "      <td>1000000000</td>\n",
       "    </tr>\n",
       "    <tr>\n",
       "      <th>14</th>\n",
       "      <td>902</td>\n",
       "      <td>0.9.2</td>\n",
       "      <td>group_by_success</td>\n",
       "      <td>1000000000</td>\n",
       "    </tr>\n",
       "    <tr>\n",
       "      <th>15</th>\n",
       "      <td>1000</td>\n",
       "      <td>0.10.0</td>\n",
       "      <td>group_by_success</td>\n",
       "      <td>1000000000</td>\n",
       "    </tr>\n",
       "    <tr>\n",
       "      <th>16</th>\n",
       "      <td>1001</td>\n",
       "      <td>0.10.1</td>\n",
       "      <td>group_by_success</td>\n",
       "      <td>1000000000</td>\n",
       "    </tr>\n",
       "    <tr>\n",
       "      <th>17</th>\n",
       "      <td>1002</td>\n",
       "      <td>0.10.2</td>\n",
       "      <td>group_by_success</td>\n",
       "      <td>1000000000</td>\n",
       "    </tr>\n",
       "    <tr>\n",
       "      <th>18</th>\n",
       "      <td>207</td>\n",
       "      <td>0.2.7</td>\n",
       "      <td>join_success</td>\n",
       "      <td>100000000</td>\n",
       "    </tr>\n",
       "    <tr>\n",
       "      <th>19</th>\n",
       "      <td>208</td>\n",
       "      <td>0.2.8</td>\n",
       "      <td>join_success</td>\n",
       "      <td>100000000</td>\n",
       "    </tr>\n",
       "    <tr>\n",
       "      <th>20</th>\n",
       "      <td>209</td>\n",
       "      <td>0.2.9</td>\n",
       "      <td>join_success</td>\n",
       "      <td>100000000</td>\n",
       "    </tr>\n",
       "    <tr>\n",
       "      <th>21</th>\n",
       "      <td>300</td>\n",
       "      <td>0.3.0</td>\n",
       "      <td>join_success</td>\n",
       "      <td>100000000</td>\n",
       "    </tr>\n",
       "    <tr>\n",
       "      <th>22</th>\n",
       "      <td>301</td>\n",
       "      <td>0.3.1</td>\n",
       "      <td>join_success</td>\n",
       "      <td>100000000</td>\n",
       "    </tr>\n",
       "    <tr>\n",
       "      <th>23</th>\n",
       "      <td>302</td>\n",
       "      <td>0.3.2</td>\n",
       "      <td>join_success</td>\n",
       "      <td>100000000</td>\n",
       "    </tr>\n",
       "    <tr>\n",
       "      <th>24</th>\n",
       "      <td>304</td>\n",
       "      <td>0.3.4</td>\n",
       "      <td>join_success</td>\n",
       "      <td>100000000</td>\n",
       "    </tr>\n",
       "    <tr>\n",
       "      <th>25</th>\n",
       "      <td>400</td>\n",
       "      <td>0.4.0</td>\n",
       "      <td>join_success</td>\n",
       "      <td>100000000</td>\n",
       "    </tr>\n",
       "    <tr>\n",
       "      <th>26</th>\n",
       "      <td>501</td>\n",
       "      <td>0.5.1</td>\n",
       "      <td>join_success</td>\n",
       "      <td>100000000</td>\n",
       "    </tr>\n",
       "    <tr>\n",
       "      <th>27</th>\n",
       "      <td>601</td>\n",
       "      <td>0.6.1</td>\n",
       "      <td>join_success</td>\n",
       "      <td>100000000</td>\n",
       "    </tr>\n",
       "    <tr>\n",
       "      <th>28</th>\n",
       "      <td>701</td>\n",
       "      <td>0.7.1</td>\n",
       "      <td>join_success</td>\n",
       "      <td>100000000</td>\n",
       "    </tr>\n",
       "    <tr>\n",
       "      <th>29</th>\n",
       "      <td>801</td>\n",
       "      <td>0.8.1</td>\n",
       "      <td>join_success</td>\n",
       "      <td>100000000</td>\n",
       "    </tr>\n",
       "    <tr>\n",
       "      <th>30</th>\n",
       "      <td>900</td>\n",
       "      <td>0.9.0</td>\n",
       "      <td>join_success</td>\n",
       "      <td>100000000</td>\n",
       "    </tr>\n",
       "    <tr>\n",
       "      <th>31</th>\n",
       "      <td>901</td>\n",
       "      <td>0.9.1</td>\n",
       "      <td>join_success</td>\n",
       "      <td>100000000</td>\n",
       "    </tr>\n",
       "    <tr>\n",
       "      <th>32</th>\n",
       "      <td>902</td>\n",
       "      <td>0.9.2</td>\n",
       "      <td>join_success</td>\n",
       "      <td>100000000</td>\n",
       "    </tr>\n",
       "    <tr>\n",
       "      <th>33</th>\n",
       "      <td>1000</td>\n",
       "      <td>0.10.0</td>\n",
       "      <td>join_success</td>\n",
       "      <td>1000000000</td>\n",
       "    </tr>\n",
       "    <tr>\n",
       "      <th>34</th>\n",
       "      <td>1001</td>\n",
       "      <td>0.10.1</td>\n",
       "      <td>join_success</td>\n",
       "      <td>1000000000</td>\n",
       "    </tr>\n",
       "    <tr>\n",
       "      <th>35</th>\n",
       "      <td>1002</td>\n",
       "      <td>0.10.2</td>\n",
       "      <td>join_success</td>\n",
       "      <td>1000000000</td>\n",
       "    </tr>\n",
       "  </tbody>\n",
       "</table>\n",
       "</div>"
      ],
      "text/plain": [
       "    version_rank DuckDB Version        query_type  max_row_count\n",
       "0            207          0.2.7  group_by_success      100000000\n",
       "1            208          0.2.8  group_by_success      100000000\n",
       "2            209          0.2.9  group_by_success      100000000\n",
       "3            300          0.3.0  group_by_success      100000000\n",
       "4            301          0.3.1  group_by_success      100000000\n",
       "5            302          0.3.2  group_by_success      100000000\n",
       "6            304          0.3.4  group_by_success      100000000\n",
       "7            400          0.4.0  group_by_success      100000000\n",
       "8            501          0.5.1  group_by_success       10000000\n",
       "9            601          0.6.1  group_by_success      100000000\n",
       "10           701          0.7.1  group_by_success      100000000\n",
       "11           801          0.8.1  group_by_success      100000000\n",
       "12           900          0.9.0  group_by_success     1000000000\n",
       "13           901          0.9.1  group_by_success     1000000000\n",
       "14           902          0.9.2  group_by_success     1000000000\n",
       "15          1000         0.10.0  group_by_success     1000000000\n",
       "16          1001         0.10.1  group_by_success     1000000000\n",
       "17          1002         0.10.2  group_by_success     1000000000\n",
       "18           207          0.2.7      join_success      100000000\n",
       "19           208          0.2.8      join_success      100000000\n",
       "20           209          0.2.9      join_success      100000000\n",
       "21           300          0.3.0      join_success      100000000\n",
       "22           301          0.3.1      join_success      100000000\n",
       "23           302          0.3.2      join_success      100000000\n",
       "24           304          0.3.4      join_success      100000000\n",
       "25           400          0.4.0      join_success      100000000\n",
       "26           501          0.5.1      join_success      100000000\n",
       "27           601          0.6.1      join_success      100000000\n",
       "28           701          0.7.1      join_success      100000000\n",
       "29           801          0.8.1      join_success      100000000\n",
       "30           900          0.9.0      join_success      100000000\n",
       "31           901          0.9.1      join_success      100000000\n",
       "32           902          0.9.2      join_success      100000000\n",
       "33          1000         0.10.0      join_success     1000000000\n",
       "34          1001         0.10.1      join_success     1000000000\n",
       "35          1002         0.10.2      join_success     1000000000"
      ]
     },
     "execution_count": 18,
     "metadata": {},
     "output_type": "execute_result"
    }
   ],
   "source": [
    "summary = con.sql(\"\"\"\n",
    "                with version_combos as (\n",
    "                  select * \n",
    "                  from (select distinct version_rank, duckdb_version from refined_results)\n",
    "                  cross join (select distinct row_count from refined_results)\n",
    "                ), summary as (\n",
    "                    from version_combos\n",
    "                    left join refined_results \n",
    "                        on version_combos.duckdb_version = refined_results.duckdb_version\n",
    "                        and version_combos.row_count = refined_results.row_count\n",
    "                    \n",
    "                    select \n",
    "                        version_combos.version_rank,\n",
    "                        version_combos.duckdb_version,\n",
    "                        version_combos.row_count as row_count_text,\n",
    "                        case when version_combos.row_count = '1e8' then 100000000 else 1000000000 end as row_count,\n",
    "                        case when sum(case when benchmark = '203 Join Scale test: Join queries' then 1 else 0 end) >= 1 then 1 else 0 end as join_success,\n",
    "                        case when sum(case when benchmark = '103 Group By Scale test: Group by queries' then 1 else 0 end) >= 1 then 1 else 0 end as group_by_success,\n",
    "                    \n",
    "                    group by all\n",
    "                    order by\n",
    "                        version_combos.version_rank desc,\n",
    "                        version_combos.row_count asc\n",
    "                ), unpivoted as (\n",
    "                  unpivot summary \n",
    "                    on join_success, group_by_success\n",
    "                    into \n",
    "                      name query_type\n",
    "                      value success\n",
    "                )\n",
    "                from unpivoted \n",
    "                select \n",
    "                    version_rank,\n",
    "                  duckdb_version as \"DuckDB Version\",\n",
    "                  query_type,\n",
    "                  coalesce(max(row_count) filter(success = 1),10000000) as max_row_count\n",
    "                group by all\n",
    "                order by \n",
    "                  query_type,  \n",
    "                  version_rank asc\n",
    "                    \n",
    "                  \n",
    "                \n",
    "\"\"\").df()\n",
    "summary"
   ]
  },
  {
   "cell_type": "code",
   "execution_count": 29,
   "metadata": {},
   "outputs": [
    {
     "data": {
      "text/html": [
       "<div>\n",
       "<style scoped>\n",
       "    .dataframe tbody tr th:only-of-type {\n",
       "        vertical-align: middle;\n",
       "    }\n",
       "\n",
       "    .dataframe tbody tr th {\n",
       "        vertical-align: top;\n",
       "    }\n",
       "\n",
       "    .dataframe thead th {\n",
       "        text-align: right;\n",
       "    }\n",
       "</style>\n",
       "<table border=\"1\" class=\"dataframe\">\n",
       "  <thead>\n",
       "    <tr style=\"text-align: right;\">\n",
       "      <th></th>\n",
       "      <th>duckdb_version</th>\n",
       "      <th>row_count</th>\n",
       "      <th>filename</th>\n",
       "      <th>run_id</th>\n",
       "      <th>repeat_id</th>\n",
       "      <th>benchmark</th>\n",
       "      <th>scenario</th>\n",
       "      <th>time</th>\n",
       "      <th>version_rank</th>\n",
       "    </tr>\n",
       "  </thead>\n",
       "  <tbody>\n",
       "    <tr>\n",
       "      <th>0</th>\n",
       "      <td>0.9.0</td>\n",
       "      <td>1e9</td>\n",
       "      <td>benchmark_log_python_load_test_090_081.db</td>\n",
       "      <td>1</td>\n",
       "      <td>0</td>\n",
       "      <td>101 Group By Scale test: Create table from csv</td>\n",
       "      <td>{\"duckdb_version\": \"0.9.0\", \"row_count\": \"1e9\"}</td>\n",
       "      <td>164.543518</td>\n",
       "      <td>900</td>\n",
       "    </tr>\n",
       "    <tr>\n",
       "      <th>1</th>\n",
       "      <td>0.9.0</td>\n",
       "      <td>1e9</td>\n",
       "      <td>benchmark_log_python_load_test_092_091.db</td>\n",
       "      <td>3</td>\n",
       "      <td>0</td>\n",
       "      <td>101 Group By Scale test: Create table from csv</td>\n",
       "      <td>{\"duckdb_version\": \"0.9.0\", \"row_count\": \"1e9\"}</td>\n",
       "      <td>183.060313</td>\n",
       "      <td>900</td>\n",
       "    </tr>\n",
       "    <tr>\n",
       "      <th>2</th>\n",
       "      <td>0.9.1</td>\n",
       "      <td>1e9</td>\n",
       "      <td>benchmark_log_python_1e9_success_0_10_on.db</td>\n",
       "      <td>5</td>\n",
       "      <td>0</td>\n",
       "      <td>101 Group By Scale test: Create table from csv</td>\n",
       "      <td>{\"duckdb_version\": \"v0.9.1\", \"row_count\": \"1e9\"}</td>\n",
       "      <td>191.805675</td>\n",
       "      <td>901</td>\n",
       "    </tr>\n",
       "    <tr>\n",
       "      <th>3</th>\n",
       "      <td>0.9.1</td>\n",
       "      <td>1e9</td>\n",
       "      <td>benchmark_log_python_load_test_092_091.db</td>\n",
       "      <td>2</td>\n",
       "      <td>0</td>\n",
       "      <td>101 Group By Scale test: Create table from csv</td>\n",
       "      <td>{\"duckdb_version\": \"v0.9.1\", \"row_count\": \"1e9\"}</td>\n",
       "      <td>188.836829</td>\n",
       "      <td>901</td>\n",
       "    </tr>\n",
       "    <tr>\n",
       "      <th>4</th>\n",
       "      <td>0.9.2</td>\n",
       "      <td>1e9</td>\n",
       "      <td>benchmark_log_python_1e9_success_0_10_on.db</td>\n",
       "      <td>4</td>\n",
       "      <td>0</td>\n",
       "      <td>101 Group By Scale test: Create table from csv</td>\n",
       "      <td>{\"duckdb_version\": \"v0.9.2\", \"row_count\": \"1e9\"}</td>\n",
       "      <td>152.937549</td>\n",
       "      <td>902</td>\n",
       "    </tr>\n",
       "    <tr>\n",
       "      <th>5</th>\n",
       "      <td>0.9.2</td>\n",
       "      <td>1e9</td>\n",
       "      <td>benchmark_log_python_load_test_092_091.db</td>\n",
       "      <td>1</td>\n",
       "      <td>0</td>\n",
       "      <td>101 Group By Scale test: Create table from csv</td>\n",
       "      <td>{\"duckdb_version\": \"v0.9.2\", \"row_count\": \"1e9\"}</td>\n",
       "      <td>155.136888</td>\n",
       "      <td>902</td>\n",
       "    </tr>\n",
       "    <tr>\n",
       "      <th>6</th>\n",
       "      <td>0.10.0</td>\n",
       "      <td>1e9</td>\n",
       "      <td>benchmark_log_python_1e9_success_0_10_on.db</td>\n",
       "      <td>3</td>\n",
       "      <td>0</td>\n",
       "      <td>101 Group By Scale test: Create table from csv</td>\n",
       "      <td>{\"duckdb_version\": \"v0.10.0\", \"row_count\": \"1e9\"}</td>\n",
       "      <td>217.309982</td>\n",
       "      <td>1000</td>\n",
       "    </tr>\n",
       "    <tr>\n",
       "      <th>7</th>\n",
       "      <td>0.10.1</td>\n",
       "      <td>1e9</td>\n",
       "      <td>benchmark_log_python_1e9_success_0_10_on.db</td>\n",
       "      <td>2</td>\n",
       "      <td>0</td>\n",
       "      <td>101 Group By Scale test: Create table from csv</td>\n",
       "      <td>{\"duckdb_version\": \"v0.10.1\", \"row_count\": \"1e9\"}</td>\n",
       "      <td>241.120261</td>\n",
       "      <td>1001</td>\n",
       "    </tr>\n",
       "    <tr>\n",
       "      <th>8</th>\n",
       "      <td>0.10.1</td>\n",
       "      <td>1e9</td>\n",
       "      <td>benchmark_log_python_1e9_join_success.db</td>\n",
       "      <td>2</td>\n",
       "      <td>0</td>\n",
       "      <td>101 Group By Scale test: Create table from csv</td>\n",
       "      <td>{\"duckdb_version\": \"v0.10.1\", \"row_count\": \"1e9\"}</td>\n",
       "      <td>232.555970</td>\n",
       "      <td>1001</td>\n",
       "    </tr>\n",
       "    <tr>\n",
       "      <th>9</th>\n",
       "      <td>0.10.2</td>\n",
       "      <td>1e9</td>\n",
       "      <td>benchmark_log_python_1e9_success_0_10_on.db</td>\n",
       "      <td>1</td>\n",
       "      <td>0</td>\n",
       "      <td>101 Group By Scale test: Create table from csv</td>\n",
       "      <td>{\"duckdb_version\": \"v0.10.2\", \"row_count\": \"1e9\"}</td>\n",
       "      <td>242.981022</td>\n",
       "      <td>1002</td>\n",
       "    </tr>\n",
       "    <tr>\n",
       "      <th>10</th>\n",
       "      <td>0.10.2</td>\n",
       "      <td>1e9</td>\n",
       "      <td>benchmark_log_python_1e9_join_success.db</td>\n",
       "      <td>1</td>\n",
       "      <td>0</td>\n",
       "      <td>101 Group By Scale test: Create table from csv</td>\n",
       "      <td>{\"duckdb_version\": \"v0.10.2\", \"row_count\": \"1e9\"}</td>\n",
       "      <td>240.289388</td>\n",
       "      <td>1002</td>\n",
       "    </tr>\n",
       "    <tr>\n",
       "      <th>11</th>\n",
       "      <td>0.9.0</td>\n",
       "      <td>1e9</td>\n",
       "      <td>benchmark_log_python_load_test_090_081.db</td>\n",
       "      <td>1</td>\n",
       "      <td>0</td>\n",
       "      <td>102 Group By Scale test: Convert to Enums</td>\n",
       "      <td>{\"duckdb_version\": \"0.9.0\", \"row_count\": \"1e9\"}</td>\n",
       "      <td>231.492118</td>\n",
       "      <td>900</td>\n",
       "    </tr>\n",
       "    <tr>\n",
       "      <th>12</th>\n",
       "      <td>0.9.1</td>\n",
       "      <td>1e9</td>\n",
       "      <td>benchmark_log_python_load_test_092_091.db</td>\n",
       "      <td>2</td>\n",
       "      <td>0</td>\n",
       "      <td>102 Group By Scale test: Convert to Enums</td>\n",
       "      <td>{\"duckdb_version\": \"v0.9.1\", \"row_count\": \"1e9\"}</td>\n",
       "      <td>230.217545</td>\n",
       "      <td>901</td>\n",
       "    </tr>\n",
       "    <tr>\n",
       "      <th>13</th>\n",
       "      <td>0.9.2</td>\n",
       "      <td>1e9</td>\n",
       "      <td>benchmark_log_python_1e9_success_0_10_on.db</td>\n",
       "      <td>4</td>\n",
       "      <td>0</td>\n",
       "      <td>102 Group By Scale test: Convert to Enums</td>\n",
       "      <td>{\"duckdb_version\": \"v0.9.2\", \"row_count\": \"1e9\"}</td>\n",
       "      <td>219.210286</td>\n",
       "      <td>902</td>\n",
       "    </tr>\n",
       "    <tr>\n",
       "      <th>14</th>\n",
       "      <td>0.9.2</td>\n",
       "      <td>1e9</td>\n",
       "      <td>benchmark_log_python_load_test_092_091.db</td>\n",
       "      <td>1</td>\n",
       "      <td>0</td>\n",
       "      <td>102 Group By Scale test: Convert to Enums</td>\n",
       "      <td>{\"duckdb_version\": \"v0.9.2\", \"row_count\": \"1e9\"}</td>\n",
       "      <td>217.014853</td>\n",
       "      <td>902</td>\n",
       "    </tr>\n",
       "    <tr>\n",
       "      <th>15</th>\n",
       "      <td>0.10.0</td>\n",
       "      <td>1e9</td>\n",
       "      <td>benchmark_log_python_1e9_success_0_10_on.db</td>\n",
       "      <td>3</td>\n",
       "      <td>0</td>\n",
       "      <td>102 Group By Scale test: Convert to Enums</td>\n",
       "      <td>{\"duckdb_version\": \"v0.10.0\", \"row_count\": \"1e9\"}</td>\n",
       "      <td>271.504653</td>\n",
       "      <td>1000</td>\n",
       "    </tr>\n",
       "    <tr>\n",
       "      <th>16</th>\n",
       "      <td>0.10.1</td>\n",
       "      <td>1e9</td>\n",
       "      <td>benchmark_log_python_1e9_success_0_10_on.db</td>\n",
       "      <td>2</td>\n",
       "      <td>0</td>\n",
       "      <td>102 Group By Scale test: Convert to Enums</td>\n",
       "      <td>{\"duckdb_version\": \"v0.10.1\", \"row_count\": \"1e9\"}</td>\n",
       "      <td>271.042380</td>\n",
       "      <td>1001</td>\n",
       "    </tr>\n",
       "    <tr>\n",
       "      <th>17</th>\n",
       "      <td>0.10.1</td>\n",
       "      <td>1e9</td>\n",
       "      <td>benchmark_log_python_1e9_join_success.db</td>\n",
       "      <td>2</td>\n",
       "      <td>0</td>\n",
       "      <td>102 Group By Scale test: Convert to Enums</td>\n",
       "      <td>{\"duckdb_version\": \"v0.10.1\", \"row_count\": \"1e9\"}</td>\n",
       "      <td>278.847438</td>\n",
       "      <td>1001</td>\n",
       "    </tr>\n",
       "    <tr>\n",
       "      <th>18</th>\n",
       "      <td>0.10.2</td>\n",
       "      <td>1e9</td>\n",
       "      <td>benchmark_log_python_1e9_success_0_10_on.db</td>\n",
       "      <td>1</td>\n",
       "      <td>0</td>\n",
       "      <td>102 Group By Scale test: Convert to Enums</td>\n",
       "      <td>{\"duckdb_version\": \"v0.10.2\", \"row_count\": \"1e9\"}</td>\n",
       "      <td>267.382192</td>\n",
       "      <td>1002</td>\n",
       "    </tr>\n",
       "    <tr>\n",
       "      <th>19</th>\n",
       "      <td>0.10.2</td>\n",
       "      <td>1e9</td>\n",
       "      <td>benchmark_log_python_1e9_join_success.db</td>\n",
       "      <td>1</td>\n",
       "      <td>0</td>\n",
       "      <td>102 Group By Scale test: Convert to Enums</td>\n",
       "      <td>{\"duckdb_version\": \"v0.10.2\", \"row_count\": \"1e9\"}</td>\n",
       "      <td>265.741738</td>\n",
       "      <td>1002</td>\n",
       "    </tr>\n",
       "    <tr>\n",
       "      <th>20</th>\n",
       "      <td>0.9.0</td>\n",
       "      <td>1e9</td>\n",
       "      <td>benchmark_log_python_load_test_090_081.db</td>\n",
       "      <td>1</td>\n",
       "      <td>0</td>\n",
       "      <td>103 Group By Scale test: Group by queries</td>\n",
       "      <td>{\"duckdb_version\": \"0.9.0\", \"row_count\": \"1e9\"}</td>\n",
       "      <td>777.264098</td>\n",
       "      <td>900</td>\n",
       "    </tr>\n",
       "    <tr>\n",
       "      <th>21</th>\n",
       "      <td>0.9.1</td>\n",
       "      <td>1e9</td>\n",
       "      <td>benchmark_log_python_load_test_092_091.db</td>\n",
       "      <td>2</td>\n",
       "      <td>0</td>\n",
       "      <td>103 Group By Scale test: Group by queries</td>\n",
       "      <td>{\"duckdb_version\": \"v0.9.1\", \"row_count\": \"1e9\"}</td>\n",
       "      <td>707.726028</td>\n",
       "      <td>901</td>\n",
       "    </tr>\n",
       "    <tr>\n",
       "      <th>22</th>\n",
       "      <td>0.9.2</td>\n",
       "      <td>1e9</td>\n",
       "      <td>benchmark_log_python_load_test_092_091.db</td>\n",
       "      <td>1</td>\n",
       "      <td>0</td>\n",
       "      <td>103 Group By Scale test: Group by queries</td>\n",
       "      <td>{\"duckdb_version\": \"v0.9.2\", \"row_count\": \"1e9\"}</td>\n",
       "      <td>674.849523</td>\n",
       "      <td>902</td>\n",
       "    </tr>\n",
       "    <tr>\n",
       "      <th>23</th>\n",
       "      <td>0.9.2</td>\n",
       "      <td>1e9</td>\n",
       "      <td>benchmark_log_python_1e9_success_0_10_on.db</td>\n",
       "      <td>4</td>\n",
       "      <td>0</td>\n",
       "      <td>103 Group By Scale test: Group by queries</td>\n",
       "      <td>{\"duckdb_version\": \"v0.9.2\", \"row_count\": \"1e9\"}</td>\n",
       "      <td>633.514582</td>\n",
       "      <td>902</td>\n",
       "    </tr>\n",
       "    <tr>\n",
       "      <th>24</th>\n",
       "      <td>0.10.0</td>\n",
       "      <td>1e9</td>\n",
       "      <td>benchmark_log_python_1e9_success_0_10_on.db</td>\n",
       "      <td>3</td>\n",
       "      <td>0</td>\n",
       "      <td>103 Group By Scale test: Group by queries</td>\n",
       "      <td>{\"duckdb_version\": \"v0.10.0\", \"row_count\": \"1e9\"}</td>\n",
       "      <td>613.537147</td>\n",
       "      <td>1000</td>\n",
       "    </tr>\n",
       "    <tr>\n",
       "      <th>25</th>\n",
       "      <td>0.10.1</td>\n",
       "      <td>1e9</td>\n",
       "      <td>benchmark_log_python_1e9_join_success.db</td>\n",
       "      <td>2</td>\n",
       "      <td>0</td>\n",
       "      <td>103 Group By Scale test: Group by queries</td>\n",
       "      <td>{\"duckdb_version\": \"v0.10.1\", \"row_count\": \"1e9\"}</td>\n",
       "      <td>607.195362</td>\n",
       "      <td>1001</td>\n",
       "    </tr>\n",
       "    <tr>\n",
       "      <th>26</th>\n",
       "      <td>0.10.1</td>\n",
       "      <td>1e9</td>\n",
       "      <td>benchmark_log_python_1e9_success_0_10_on.db</td>\n",
       "      <td>2</td>\n",
       "      <td>0</td>\n",
       "      <td>103 Group By Scale test: Group by queries</td>\n",
       "      <td>{\"duckdb_version\": \"v0.10.1\", \"row_count\": \"1e9\"}</td>\n",
       "      <td>564.524422</td>\n",
       "      <td>1001</td>\n",
       "    </tr>\n",
       "    <tr>\n",
       "      <th>27</th>\n",
       "      <td>0.10.2</td>\n",
       "      <td>1e9</td>\n",
       "      <td>benchmark_log_python_1e9_join_success.db</td>\n",
       "      <td>1</td>\n",
       "      <td>0</td>\n",
       "      <td>103 Group By Scale test: Group by queries</td>\n",
       "      <td>{\"duckdb_version\": \"v0.10.2\", \"row_count\": \"1e9\"}</td>\n",
       "      <td>620.628326</td>\n",
       "      <td>1002</td>\n",
       "    </tr>\n",
       "    <tr>\n",
       "      <th>28</th>\n",
       "      <td>0.10.2</td>\n",
       "      <td>1e9</td>\n",
       "      <td>benchmark_log_python_1e9_success_0_10_on.db</td>\n",
       "      <td>1</td>\n",
       "      <td>0</td>\n",
       "      <td>103 Group By Scale test: Group by queries</td>\n",
       "      <td>{\"duckdb_version\": \"v0.10.2\", \"row_count\": \"1e9\"}</td>\n",
       "      <td>603.124864</td>\n",
       "      <td>1002</td>\n",
       "    </tr>\n",
       "    <tr>\n",
       "      <th>29</th>\n",
       "      <td>0.10.0</td>\n",
       "      <td>1e9</td>\n",
       "      <td>benchmark_log_python_1e9_success_0_10_on.db</td>\n",
       "      <td>3</td>\n",
       "      <td>0</td>\n",
       "      <td>201 Join Scale test: Create tables from csvs j...</td>\n",
       "      <td>{\"duckdb_version\": \"v0.10.0\", \"row_count\": \"1e9\"}</td>\n",
       "      <td>841.138991</td>\n",
       "      <td>1000</td>\n",
       "    </tr>\n",
       "    <tr>\n",
       "      <th>30</th>\n",
       "      <td>0.10.1</td>\n",
       "      <td>1e9</td>\n",
       "      <td>benchmark_log_python_1e9_success_0_10_on.db</td>\n",
       "      <td>2</td>\n",
       "      <td>0</td>\n",
       "      <td>201 Join Scale test: Create tables from csvs j...</td>\n",
       "      <td>{\"duckdb_version\": \"v0.10.1\", \"row_count\": \"1e9\"}</td>\n",
       "      <td>878.671907</td>\n",
       "      <td>1001</td>\n",
       "    </tr>\n",
       "    <tr>\n",
       "      <th>31</th>\n",
       "      <td>0.10.1</td>\n",
       "      <td>1e9</td>\n",
       "      <td>benchmark_log_python_1e9_join_success.db</td>\n",
       "      <td>2</td>\n",
       "      <td>0</td>\n",
       "      <td>201 Join Scale test: Create tables from csvs j...</td>\n",
       "      <td>{\"duckdb_version\": \"v0.10.1\", \"row_count\": \"1e9\"}</td>\n",
       "      <td>913.743375</td>\n",
       "      <td>1001</td>\n",
       "    </tr>\n",
       "    <tr>\n",
       "      <th>32</th>\n",
       "      <td>0.10.2</td>\n",
       "      <td>1e9</td>\n",
       "      <td>benchmark_log_python_1e9_success_0_10_on.db</td>\n",
       "      <td>1</td>\n",
       "      <td>0</td>\n",
       "      <td>201 Join Scale test: Create tables from csvs j...</td>\n",
       "      <td>{\"duckdb_version\": \"v0.10.2\", \"row_count\": \"1e9\"}</td>\n",
       "      <td>942.546126</td>\n",
       "      <td>1002</td>\n",
       "    </tr>\n",
       "    <tr>\n",
       "      <th>33</th>\n",
       "      <td>0.10.2</td>\n",
       "      <td>1e9</td>\n",
       "      <td>benchmark_log_python_1e9_join_success.db</td>\n",
       "      <td>1</td>\n",
       "      <td>0</td>\n",
       "      <td>201 Join Scale test: Create tables from csvs j...</td>\n",
       "      <td>{\"duckdb_version\": \"v0.10.2\", \"row_count\": \"1e9\"}</td>\n",
       "      <td>922.271412</td>\n",
       "      <td>1002</td>\n",
       "    </tr>\n",
       "    <tr>\n",
       "      <th>34</th>\n",
       "      <td>0.10.0</td>\n",
       "      <td>1e9</td>\n",
       "      <td>benchmark_log_python_1e9_success_0_10_on.db</td>\n",
       "      <td>3</td>\n",
       "      <td>0</td>\n",
       "      <td>202 Join Scale test: Convert to Enums for joins</td>\n",
       "      <td>{\"duckdb_version\": \"v0.10.0\", \"row_count\": \"1e9\"}</td>\n",
       "      <td>609.244421</td>\n",
       "      <td>1000</td>\n",
       "    </tr>\n",
       "    <tr>\n",
       "      <th>35</th>\n",
       "      <td>0.10.1</td>\n",
       "      <td>1e9</td>\n",
       "      <td>benchmark_log_python_1e9_success_0_10_on.db</td>\n",
       "      <td>2</td>\n",
       "      <td>0</td>\n",
       "      <td>202 Join Scale test: Convert to Enums for joins</td>\n",
       "      <td>{\"duckdb_version\": \"v0.10.1\", \"row_count\": \"1e9\"}</td>\n",
       "      <td>592.077702</td>\n",
       "      <td>1001</td>\n",
       "    </tr>\n",
       "    <tr>\n",
       "      <th>36</th>\n",
       "      <td>0.10.1</td>\n",
       "      <td>1e9</td>\n",
       "      <td>benchmark_log_python_1e9_join_success.db</td>\n",
       "      <td>2</td>\n",
       "      <td>0</td>\n",
       "      <td>202 Join Scale test: Convert to Enums for joins</td>\n",
       "      <td>{\"duckdb_version\": \"v0.10.1\", \"row_count\": \"1e9\"}</td>\n",
       "      <td>628.439686</td>\n",
       "      <td>1001</td>\n",
       "    </tr>\n",
       "    <tr>\n",
       "      <th>37</th>\n",
       "      <td>0.10.2</td>\n",
       "      <td>1e9</td>\n",
       "      <td>benchmark_log_python_1e9_success_0_10_on.db</td>\n",
       "      <td>1</td>\n",
       "      <td>0</td>\n",
       "      <td>202 Join Scale test: Convert to Enums for joins</td>\n",
       "      <td>{\"duckdb_version\": \"v0.10.2\", \"row_count\": \"1e9\"}</td>\n",
       "      <td>650.333608</td>\n",
       "      <td>1002</td>\n",
       "    </tr>\n",
       "    <tr>\n",
       "      <th>38</th>\n",
       "      <td>0.10.2</td>\n",
       "      <td>1e9</td>\n",
       "      <td>benchmark_log_python_1e9_join_success.db</td>\n",
       "      <td>1</td>\n",
       "      <td>0</td>\n",
       "      <td>202 Join Scale test: Convert to Enums for joins</td>\n",
       "      <td>{\"duckdb_version\": \"v0.10.2\", \"row_count\": \"1e9\"}</td>\n",
       "      <td>642.937741</td>\n",
       "      <td>1002</td>\n",
       "    </tr>\n",
       "    <tr>\n",
       "      <th>39</th>\n",
       "      <td>0.10.0</td>\n",
       "      <td>1e9</td>\n",
       "      <td>benchmark_log_python_1e9_success_0_10_on.db</td>\n",
       "      <td>3</td>\n",
       "      <td>0</td>\n",
       "      <td>203 Join Scale test: Join queries</td>\n",
       "      <td>{\"duckdb_version\": \"v0.10.0\", \"row_count\": \"1e9\"}</td>\n",
       "      <td>2647.266155</td>\n",
       "      <td>1000</td>\n",
       "    </tr>\n",
       "    <tr>\n",
       "      <th>40</th>\n",
       "      <td>0.10.1</td>\n",
       "      <td>1e9</td>\n",
       "      <td>benchmark_log_python_1e9_success_0_10_on.db</td>\n",
       "      <td>2</td>\n",
       "      <td>0</td>\n",
       "      <td>203 Join Scale test: Join queries</td>\n",
       "      <td>{\"duckdb_version\": \"v0.10.1\", \"row_count\": \"1e9\"}</td>\n",
       "      <td>3225.186621</td>\n",
       "      <td>1001</td>\n",
       "    </tr>\n",
       "    <tr>\n",
       "      <th>41</th>\n",
       "      <td>0.10.2</td>\n",
       "      <td>1e9</td>\n",
       "      <td>benchmark_log_python_1e9_success_0_10_on.db</td>\n",
       "      <td>1</td>\n",
       "      <td>0</td>\n",
       "      <td>203 Join Scale test: Join queries</td>\n",
       "      <td>{\"duckdb_version\": \"v0.10.2\", \"row_count\": \"1e9\"}</td>\n",
       "      <td>3575.810864</td>\n",
       "      <td>1002</td>\n",
       "    </tr>\n",
       "    <tr>\n",
       "      <th>42</th>\n",
       "      <td>0.10.2</td>\n",
       "      <td>1e9</td>\n",
       "      <td>benchmark_log_python_1e9_join_success.db</td>\n",
       "      <td>1</td>\n",
       "      <td>0</td>\n",
       "      <td>203 Join Scale test: Join queries</td>\n",
       "      <td>{\"duckdb_version\": \"v0.10.2\", \"row_count\": \"1e9\"}</td>\n",
       "      <td>3256.764643</td>\n",
       "      <td>1002</td>\n",
       "    </tr>\n",
       "  </tbody>\n",
       "</table>\n",
       "</div>"
      ],
      "text/plain": [
       "   duckdb_version row_count                                     filename  \\\n",
       "0           0.9.0       1e9    benchmark_log_python_load_test_090_081.db   \n",
       "1           0.9.0       1e9    benchmark_log_python_load_test_092_091.db   \n",
       "2           0.9.1       1e9  benchmark_log_python_1e9_success_0_10_on.db   \n",
       "3           0.9.1       1e9    benchmark_log_python_load_test_092_091.db   \n",
       "4           0.9.2       1e9  benchmark_log_python_1e9_success_0_10_on.db   \n",
       "5           0.9.2       1e9    benchmark_log_python_load_test_092_091.db   \n",
       "6          0.10.0       1e9  benchmark_log_python_1e9_success_0_10_on.db   \n",
       "7          0.10.1       1e9  benchmark_log_python_1e9_success_0_10_on.db   \n",
       "8          0.10.1       1e9     benchmark_log_python_1e9_join_success.db   \n",
       "9          0.10.2       1e9  benchmark_log_python_1e9_success_0_10_on.db   \n",
       "10         0.10.2       1e9     benchmark_log_python_1e9_join_success.db   \n",
       "11          0.9.0       1e9    benchmark_log_python_load_test_090_081.db   \n",
       "12          0.9.1       1e9    benchmark_log_python_load_test_092_091.db   \n",
       "13          0.9.2       1e9  benchmark_log_python_1e9_success_0_10_on.db   \n",
       "14          0.9.2       1e9    benchmark_log_python_load_test_092_091.db   \n",
       "15         0.10.0       1e9  benchmark_log_python_1e9_success_0_10_on.db   \n",
       "16         0.10.1       1e9  benchmark_log_python_1e9_success_0_10_on.db   \n",
       "17         0.10.1       1e9     benchmark_log_python_1e9_join_success.db   \n",
       "18         0.10.2       1e9  benchmark_log_python_1e9_success_0_10_on.db   \n",
       "19         0.10.2       1e9     benchmark_log_python_1e9_join_success.db   \n",
       "20          0.9.0       1e9    benchmark_log_python_load_test_090_081.db   \n",
       "21          0.9.1       1e9    benchmark_log_python_load_test_092_091.db   \n",
       "22          0.9.2       1e9    benchmark_log_python_load_test_092_091.db   \n",
       "23          0.9.2       1e9  benchmark_log_python_1e9_success_0_10_on.db   \n",
       "24         0.10.0       1e9  benchmark_log_python_1e9_success_0_10_on.db   \n",
       "25         0.10.1       1e9     benchmark_log_python_1e9_join_success.db   \n",
       "26         0.10.1       1e9  benchmark_log_python_1e9_success_0_10_on.db   \n",
       "27         0.10.2       1e9     benchmark_log_python_1e9_join_success.db   \n",
       "28         0.10.2       1e9  benchmark_log_python_1e9_success_0_10_on.db   \n",
       "29         0.10.0       1e9  benchmark_log_python_1e9_success_0_10_on.db   \n",
       "30         0.10.1       1e9  benchmark_log_python_1e9_success_0_10_on.db   \n",
       "31         0.10.1       1e9     benchmark_log_python_1e9_join_success.db   \n",
       "32         0.10.2       1e9  benchmark_log_python_1e9_success_0_10_on.db   \n",
       "33         0.10.2       1e9     benchmark_log_python_1e9_join_success.db   \n",
       "34         0.10.0       1e9  benchmark_log_python_1e9_success_0_10_on.db   \n",
       "35         0.10.1       1e9  benchmark_log_python_1e9_success_0_10_on.db   \n",
       "36         0.10.1       1e9     benchmark_log_python_1e9_join_success.db   \n",
       "37         0.10.2       1e9  benchmark_log_python_1e9_success_0_10_on.db   \n",
       "38         0.10.2       1e9     benchmark_log_python_1e9_join_success.db   \n",
       "39         0.10.0       1e9  benchmark_log_python_1e9_success_0_10_on.db   \n",
       "40         0.10.1       1e9  benchmark_log_python_1e9_success_0_10_on.db   \n",
       "41         0.10.2       1e9  benchmark_log_python_1e9_success_0_10_on.db   \n",
       "42         0.10.2       1e9     benchmark_log_python_1e9_join_success.db   \n",
       "\n",
       "    run_id  repeat_id                                          benchmark  \\\n",
       "0        1          0     101 Group By Scale test: Create table from csv   \n",
       "1        3          0     101 Group By Scale test: Create table from csv   \n",
       "2        5          0     101 Group By Scale test: Create table from csv   \n",
       "3        2          0     101 Group By Scale test: Create table from csv   \n",
       "4        4          0     101 Group By Scale test: Create table from csv   \n",
       "5        1          0     101 Group By Scale test: Create table from csv   \n",
       "6        3          0     101 Group By Scale test: Create table from csv   \n",
       "7        2          0     101 Group By Scale test: Create table from csv   \n",
       "8        2          0     101 Group By Scale test: Create table from csv   \n",
       "9        1          0     101 Group By Scale test: Create table from csv   \n",
       "10       1          0     101 Group By Scale test: Create table from csv   \n",
       "11       1          0          102 Group By Scale test: Convert to Enums   \n",
       "12       2          0          102 Group By Scale test: Convert to Enums   \n",
       "13       4          0          102 Group By Scale test: Convert to Enums   \n",
       "14       1          0          102 Group By Scale test: Convert to Enums   \n",
       "15       3          0          102 Group By Scale test: Convert to Enums   \n",
       "16       2          0          102 Group By Scale test: Convert to Enums   \n",
       "17       2          0          102 Group By Scale test: Convert to Enums   \n",
       "18       1          0          102 Group By Scale test: Convert to Enums   \n",
       "19       1          0          102 Group By Scale test: Convert to Enums   \n",
       "20       1          0          103 Group By Scale test: Group by queries   \n",
       "21       2          0          103 Group By Scale test: Group by queries   \n",
       "22       1          0          103 Group By Scale test: Group by queries   \n",
       "23       4          0          103 Group By Scale test: Group by queries   \n",
       "24       3          0          103 Group By Scale test: Group by queries   \n",
       "25       2          0          103 Group By Scale test: Group by queries   \n",
       "26       2          0          103 Group By Scale test: Group by queries   \n",
       "27       1          0          103 Group By Scale test: Group by queries   \n",
       "28       1          0          103 Group By Scale test: Group by queries   \n",
       "29       3          0  201 Join Scale test: Create tables from csvs j...   \n",
       "30       2          0  201 Join Scale test: Create tables from csvs j...   \n",
       "31       2          0  201 Join Scale test: Create tables from csvs j...   \n",
       "32       1          0  201 Join Scale test: Create tables from csvs j...   \n",
       "33       1          0  201 Join Scale test: Create tables from csvs j...   \n",
       "34       3          0    202 Join Scale test: Convert to Enums for joins   \n",
       "35       2          0    202 Join Scale test: Convert to Enums for joins   \n",
       "36       2          0    202 Join Scale test: Convert to Enums for joins   \n",
       "37       1          0    202 Join Scale test: Convert to Enums for joins   \n",
       "38       1          0    202 Join Scale test: Convert to Enums for joins   \n",
       "39       3          0                  203 Join Scale test: Join queries   \n",
       "40       2          0                  203 Join Scale test: Join queries   \n",
       "41       1          0                  203 Join Scale test: Join queries   \n",
       "42       1          0                  203 Join Scale test: Join queries   \n",
       "\n",
       "                                             scenario         time  \\\n",
       "0     {\"duckdb_version\": \"0.9.0\", \"row_count\": \"1e9\"}   164.543518   \n",
       "1     {\"duckdb_version\": \"0.9.0\", \"row_count\": \"1e9\"}   183.060313   \n",
       "2    {\"duckdb_version\": \"v0.9.1\", \"row_count\": \"1e9\"}   191.805675   \n",
       "3    {\"duckdb_version\": \"v0.9.1\", \"row_count\": \"1e9\"}   188.836829   \n",
       "4    {\"duckdb_version\": \"v0.9.2\", \"row_count\": \"1e9\"}   152.937549   \n",
       "5    {\"duckdb_version\": \"v0.9.2\", \"row_count\": \"1e9\"}   155.136888   \n",
       "6   {\"duckdb_version\": \"v0.10.0\", \"row_count\": \"1e9\"}   217.309982   \n",
       "7   {\"duckdb_version\": \"v0.10.1\", \"row_count\": \"1e9\"}   241.120261   \n",
       "8   {\"duckdb_version\": \"v0.10.1\", \"row_count\": \"1e9\"}   232.555970   \n",
       "9   {\"duckdb_version\": \"v0.10.2\", \"row_count\": \"1e9\"}   242.981022   \n",
       "10  {\"duckdb_version\": \"v0.10.2\", \"row_count\": \"1e9\"}   240.289388   \n",
       "11    {\"duckdb_version\": \"0.9.0\", \"row_count\": \"1e9\"}   231.492118   \n",
       "12   {\"duckdb_version\": \"v0.9.1\", \"row_count\": \"1e9\"}   230.217545   \n",
       "13   {\"duckdb_version\": \"v0.9.2\", \"row_count\": \"1e9\"}   219.210286   \n",
       "14   {\"duckdb_version\": \"v0.9.2\", \"row_count\": \"1e9\"}   217.014853   \n",
       "15  {\"duckdb_version\": \"v0.10.0\", \"row_count\": \"1e9\"}   271.504653   \n",
       "16  {\"duckdb_version\": \"v0.10.1\", \"row_count\": \"1e9\"}   271.042380   \n",
       "17  {\"duckdb_version\": \"v0.10.1\", \"row_count\": \"1e9\"}   278.847438   \n",
       "18  {\"duckdb_version\": \"v0.10.2\", \"row_count\": \"1e9\"}   267.382192   \n",
       "19  {\"duckdb_version\": \"v0.10.2\", \"row_count\": \"1e9\"}   265.741738   \n",
       "20    {\"duckdb_version\": \"0.9.0\", \"row_count\": \"1e9\"}   777.264098   \n",
       "21   {\"duckdb_version\": \"v0.9.1\", \"row_count\": \"1e9\"}   707.726028   \n",
       "22   {\"duckdb_version\": \"v0.9.2\", \"row_count\": \"1e9\"}   674.849523   \n",
       "23   {\"duckdb_version\": \"v0.9.2\", \"row_count\": \"1e9\"}   633.514582   \n",
       "24  {\"duckdb_version\": \"v0.10.0\", \"row_count\": \"1e9\"}   613.537147   \n",
       "25  {\"duckdb_version\": \"v0.10.1\", \"row_count\": \"1e9\"}   607.195362   \n",
       "26  {\"duckdb_version\": \"v0.10.1\", \"row_count\": \"1e9\"}   564.524422   \n",
       "27  {\"duckdb_version\": \"v0.10.2\", \"row_count\": \"1e9\"}   620.628326   \n",
       "28  {\"duckdb_version\": \"v0.10.2\", \"row_count\": \"1e9\"}   603.124864   \n",
       "29  {\"duckdb_version\": \"v0.10.0\", \"row_count\": \"1e9\"}   841.138991   \n",
       "30  {\"duckdb_version\": \"v0.10.1\", \"row_count\": \"1e9\"}   878.671907   \n",
       "31  {\"duckdb_version\": \"v0.10.1\", \"row_count\": \"1e9\"}   913.743375   \n",
       "32  {\"duckdb_version\": \"v0.10.2\", \"row_count\": \"1e9\"}   942.546126   \n",
       "33  {\"duckdb_version\": \"v0.10.2\", \"row_count\": \"1e9\"}   922.271412   \n",
       "34  {\"duckdb_version\": \"v0.10.0\", \"row_count\": \"1e9\"}   609.244421   \n",
       "35  {\"duckdb_version\": \"v0.10.1\", \"row_count\": \"1e9\"}   592.077702   \n",
       "36  {\"duckdb_version\": \"v0.10.1\", \"row_count\": \"1e9\"}   628.439686   \n",
       "37  {\"duckdb_version\": \"v0.10.2\", \"row_count\": \"1e9\"}   650.333608   \n",
       "38  {\"duckdb_version\": \"v0.10.2\", \"row_count\": \"1e9\"}   642.937741   \n",
       "39  {\"duckdb_version\": \"v0.10.0\", \"row_count\": \"1e9\"}  2647.266155   \n",
       "40  {\"duckdb_version\": \"v0.10.1\", \"row_count\": \"1e9\"}  3225.186621   \n",
       "41  {\"duckdb_version\": \"v0.10.2\", \"row_count\": \"1e9\"}  3575.810864   \n",
       "42  {\"duckdb_version\": \"v0.10.2\", \"row_count\": \"1e9\"}  3256.764643   \n",
       "\n",
       "    version_rank  \n",
       "0            900  \n",
       "1            900  \n",
       "2            901  \n",
       "3            901  \n",
       "4            902  \n",
       "5            902  \n",
       "6           1000  \n",
       "7           1001  \n",
       "8           1001  \n",
       "9           1002  \n",
       "10          1002  \n",
       "11           900  \n",
       "12           901  \n",
       "13           902  \n",
       "14           902  \n",
       "15          1000  \n",
       "16          1001  \n",
       "17          1001  \n",
       "18          1002  \n",
       "19          1002  \n",
       "20           900  \n",
       "21           901  \n",
       "22           902  \n",
       "23           902  \n",
       "24          1000  \n",
       "25          1001  \n",
       "26          1001  \n",
       "27          1002  \n",
       "28          1002  \n",
       "29          1000  \n",
       "30          1001  \n",
       "31          1001  \n",
       "32          1002  \n",
       "33          1002  \n",
       "34          1000  \n",
       "35          1001  \n",
       "36          1001  \n",
       "37          1002  \n",
       "38          1002  \n",
       "39          1000  \n",
       "40          1001  \n",
       "41          1002  \n",
       "42          1002  "
      ]
     },
     "execution_count": 29,
     "metadata": {},
     "output_type": "execute_result"
    }
   ],
   "source": [
    "# How long did the longest scale take?\n",
    "large_results = con.sql(\"\"\"\n",
    "                        from raw_df \n",
    "                        join summary \n",
    "                            on raw_df.duckdb_version = summary.\"DuckDB Version\" \n",
    "                            and (\n",
    "                                ( \n",
    "                                    (raw_df.benchmark ilike '%join scale test%') \n",
    "                                    and (raw_df.benchmark ilike '%join scale test%') = (summary.query_type ilike '%join%')\n",
    "                                )\n",
    "                                or\n",
    "                                (\n",
    "                                    (raw_df.benchmark ilike '%group by scale test%')\n",
    "                                    and (raw_df.benchmark ilike '%group by scale test%') = (summary.query_type ilike '%group%')\n",
    "                                )\n",
    "                            )\n",
    "                        select \n",
    "                            raw_df.*\n",
    "                        where \n",
    "                            row_count = '1e9'\n",
    "                            and summary.max_row_count = 1000000000\n",
    "                        order by\n",
    "                            benchmark,\n",
    "                            raw_df.version_rank\n",
    "                        \"\"\").df()\n",
    "large_results"
   ]
  },
  {
   "cell_type": "code",
   "execution_count": 19,
   "metadata": {},
   "outputs": [
    {
     "data": {
      "application/vnd.plotly.v1+json": {
       "config": {
        "plotlyServerURL": "https://plot.ly"
       },
       "data": [
        {
         "alignmentgroup": "True",
         "hovertemplate": "query_type=group_by_success<br>DuckDB Version=%{x}<br>max_row_count=%{y}<extra></extra>",
         "legendgroup": "group_by_success",
         "marker": {
          "color": "#4C78A8",
          "pattern": {
           "shape": ""
          }
         },
         "name": "group_by_success",
         "offsetgroup": "group_by_success",
         "orientation": "v",
         "showlegend": true,
         "textposition": "auto",
         "type": "bar",
         "x": [
          "0.2.7",
          "0.2.8",
          "0.2.9",
          "0.3.0",
          "0.3.1",
          "0.3.2",
          "0.3.4",
          "0.4.0",
          "0.5.1",
          "0.6.1",
          "0.7.1",
          "0.8.1",
          "0.9.0",
          "0.9.1",
          "0.9.2",
          "0.10.0",
          "0.10.1",
          "0.10.2"
         ],
         "xaxis": "x2",
         "y": [
          100000000,
          100000000,
          100000000,
          100000000,
          100000000,
          100000000,
          100000000,
          100000000,
          10000000,
          100000000,
          100000000,
          100000000,
          1000000000,
          1000000000,
          1000000000,
          1000000000,
          1000000000,
          1000000000
         ],
         "yaxis": "y2"
        },
        {
         "alignmentgroup": "True",
         "hovertemplate": "query_type=join_success<br>DuckDB Version=%{x}<br>max_row_count=%{y}<extra></extra>",
         "legendgroup": "join_success",
         "marker": {
          "color": "#F58518",
          "pattern": {
           "shape": ""
          }
         },
         "name": "join_success",
         "offsetgroup": "join_success",
         "orientation": "v",
         "showlegend": true,
         "textposition": "auto",
         "type": "bar",
         "x": [
          "0.2.7",
          "0.2.8",
          "0.2.9",
          "0.3.0",
          "0.3.1",
          "0.3.2",
          "0.3.4",
          "0.4.0",
          "0.5.1",
          "0.6.1",
          "0.7.1",
          "0.8.1",
          "0.9.0",
          "0.9.1",
          "0.9.2",
          "0.10.0",
          "0.10.1",
          "0.10.2"
         ],
         "xaxis": "x",
         "y": [
          100000000,
          100000000,
          100000000,
          100000000,
          100000000,
          100000000,
          100000000,
          100000000,
          100000000,
          100000000,
          100000000,
          100000000,
          100000000,
          100000000,
          100000000,
          1000000000,
          1000000000,
          1000000000
         ],
         "yaxis": "y"
        }
       ],
       "layout": {
        "annotations": [
         {
          "font": {},
          "showarrow": false,
          "text": "query_type=join_success",
          "textangle": 90,
          "x": 0.98,
          "xanchor": "left",
          "xref": "paper",
          "y": 0.2425,
          "yanchor": "middle",
          "yref": "paper"
         },
         {
          "font": {},
          "showarrow": false,
          "text": "query_type=group_by_success",
          "textangle": 90,
          "x": 0.98,
          "xanchor": "left",
          "xref": "paper",
          "y": 0.7575000000000001,
          "yanchor": "middle",
          "yref": "paper"
         }
        ],
        "barmode": "relative",
        "legend": {
         "title": {
          "text": "query_type"
         },
         "tracegroupgap": 0
        },
        "margin": {
         "t": 60
        },
        "template": {
         "data": {
          "bar": [
           {
            "error_x": {
             "color": "#2a3f5f"
            },
            "error_y": {
             "color": "#2a3f5f"
            },
            "marker": {
             "line": {
              "color": "white",
              "width": 0.5
             },
             "pattern": {
              "fillmode": "overlay",
              "size": 10,
              "solidity": 0.2
             }
            },
            "type": "bar"
           }
          ],
          "barpolar": [
           {
            "marker": {
             "line": {
              "color": "white",
              "width": 0.5
             },
             "pattern": {
              "fillmode": "overlay",
              "size": 10,
              "solidity": 0.2
             }
            },
            "type": "barpolar"
           }
          ],
          "carpet": [
           {
            "aaxis": {
             "endlinecolor": "#2a3f5f",
             "gridcolor": "#C8D4E3",
             "linecolor": "#C8D4E3",
             "minorgridcolor": "#C8D4E3",
             "startlinecolor": "#2a3f5f"
            },
            "baxis": {
             "endlinecolor": "#2a3f5f",
             "gridcolor": "#C8D4E3",
             "linecolor": "#C8D4E3",
             "minorgridcolor": "#C8D4E3",
             "startlinecolor": "#2a3f5f"
            },
            "type": "carpet"
           }
          ],
          "choropleth": [
           {
            "colorbar": {
             "outlinewidth": 0,
             "ticks": ""
            },
            "type": "choropleth"
           }
          ],
          "contour": [
           {
            "colorbar": {
             "outlinewidth": 0,
             "ticks": ""
            },
            "colorscale": [
             [
              0,
              "#0d0887"
             ],
             [
              0.1111111111111111,
              "#46039f"
             ],
             [
              0.2222222222222222,
              "#7201a8"
             ],
             [
              0.3333333333333333,
              "#9c179e"
             ],
             [
              0.4444444444444444,
              "#bd3786"
             ],
             [
              0.5555555555555556,
              "#d8576b"
             ],
             [
              0.6666666666666666,
              "#ed7953"
             ],
             [
              0.7777777777777778,
              "#fb9f3a"
             ],
             [
              0.8888888888888888,
              "#fdca26"
             ],
             [
              1,
              "#f0f921"
             ]
            ],
            "type": "contour"
           }
          ],
          "contourcarpet": [
           {
            "colorbar": {
             "outlinewidth": 0,
             "ticks": ""
            },
            "type": "contourcarpet"
           }
          ],
          "heatmap": [
           {
            "colorbar": {
             "outlinewidth": 0,
             "ticks": ""
            },
            "colorscale": [
             [
              0,
              "#0d0887"
             ],
             [
              0.1111111111111111,
              "#46039f"
             ],
             [
              0.2222222222222222,
              "#7201a8"
             ],
             [
              0.3333333333333333,
              "#9c179e"
             ],
             [
              0.4444444444444444,
              "#bd3786"
             ],
             [
              0.5555555555555556,
              "#d8576b"
             ],
             [
              0.6666666666666666,
              "#ed7953"
             ],
             [
              0.7777777777777778,
              "#fb9f3a"
             ],
             [
              0.8888888888888888,
              "#fdca26"
             ],
             [
              1,
              "#f0f921"
             ]
            ],
            "type": "heatmap"
           }
          ],
          "heatmapgl": [
           {
            "colorbar": {
             "outlinewidth": 0,
             "ticks": ""
            },
            "colorscale": [
             [
              0,
              "#0d0887"
             ],
             [
              0.1111111111111111,
              "#46039f"
             ],
             [
              0.2222222222222222,
              "#7201a8"
             ],
             [
              0.3333333333333333,
              "#9c179e"
             ],
             [
              0.4444444444444444,
              "#bd3786"
             ],
             [
              0.5555555555555556,
              "#d8576b"
             ],
             [
              0.6666666666666666,
              "#ed7953"
             ],
             [
              0.7777777777777778,
              "#fb9f3a"
             ],
             [
              0.8888888888888888,
              "#fdca26"
             ],
             [
              1,
              "#f0f921"
             ]
            ],
            "type": "heatmapgl"
           }
          ],
          "histogram": [
           {
            "marker": {
             "pattern": {
              "fillmode": "overlay",
              "size": 10,
              "solidity": 0.2
             }
            },
            "type": "histogram"
           }
          ],
          "histogram2d": [
           {
            "colorbar": {
             "outlinewidth": 0,
             "ticks": ""
            },
            "colorscale": [
             [
              0,
              "#0d0887"
             ],
             [
              0.1111111111111111,
              "#46039f"
             ],
             [
              0.2222222222222222,
              "#7201a8"
             ],
             [
              0.3333333333333333,
              "#9c179e"
             ],
             [
              0.4444444444444444,
              "#bd3786"
             ],
             [
              0.5555555555555556,
              "#d8576b"
             ],
             [
              0.6666666666666666,
              "#ed7953"
             ],
             [
              0.7777777777777778,
              "#fb9f3a"
             ],
             [
              0.8888888888888888,
              "#fdca26"
             ],
             [
              1,
              "#f0f921"
             ]
            ],
            "type": "histogram2d"
           }
          ],
          "histogram2dcontour": [
           {
            "colorbar": {
             "outlinewidth": 0,
             "ticks": ""
            },
            "colorscale": [
             [
              0,
              "#0d0887"
             ],
             [
              0.1111111111111111,
              "#46039f"
             ],
             [
              0.2222222222222222,
              "#7201a8"
             ],
             [
              0.3333333333333333,
              "#9c179e"
             ],
             [
              0.4444444444444444,
              "#bd3786"
             ],
             [
              0.5555555555555556,
              "#d8576b"
             ],
             [
              0.6666666666666666,
              "#ed7953"
             ],
             [
              0.7777777777777778,
              "#fb9f3a"
             ],
             [
              0.8888888888888888,
              "#fdca26"
             ],
             [
              1,
              "#f0f921"
             ]
            ],
            "type": "histogram2dcontour"
           }
          ],
          "mesh3d": [
           {
            "colorbar": {
             "outlinewidth": 0,
             "ticks": ""
            },
            "type": "mesh3d"
           }
          ],
          "parcoords": [
           {
            "line": {
             "colorbar": {
              "outlinewidth": 0,
              "ticks": ""
             }
            },
            "type": "parcoords"
           }
          ],
          "pie": [
           {
            "automargin": true,
            "type": "pie"
           }
          ],
          "scatter": [
           {
            "fillpattern": {
             "fillmode": "overlay",
             "size": 10,
             "solidity": 0.2
            },
            "type": "scatter"
           }
          ],
          "scatter3d": [
           {
            "line": {
             "colorbar": {
              "outlinewidth": 0,
              "ticks": ""
             }
            },
            "marker": {
             "colorbar": {
              "outlinewidth": 0,
              "ticks": ""
             }
            },
            "type": "scatter3d"
           }
          ],
          "scattercarpet": [
           {
            "marker": {
             "colorbar": {
              "outlinewidth": 0,
              "ticks": ""
             }
            },
            "type": "scattercarpet"
           }
          ],
          "scattergeo": [
           {
            "marker": {
             "colorbar": {
              "outlinewidth": 0,
              "ticks": ""
             }
            },
            "type": "scattergeo"
           }
          ],
          "scattergl": [
           {
            "marker": {
             "colorbar": {
              "outlinewidth": 0,
              "ticks": ""
             }
            },
            "type": "scattergl"
           }
          ],
          "scattermapbox": [
           {
            "marker": {
             "colorbar": {
              "outlinewidth": 0,
              "ticks": ""
             }
            },
            "type": "scattermapbox"
           }
          ],
          "scatterpolar": [
           {
            "marker": {
             "colorbar": {
              "outlinewidth": 0,
              "ticks": ""
             }
            },
            "type": "scatterpolar"
           }
          ],
          "scatterpolargl": [
           {
            "marker": {
             "colorbar": {
              "outlinewidth": 0,
              "ticks": ""
             }
            },
            "type": "scatterpolargl"
           }
          ],
          "scatterternary": [
           {
            "marker": {
             "colorbar": {
              "outlinewidth": 0,
              "ticks": ""
             }
            },
            "type": "scatterternary"
           }
          ],
          "surface": [
           {
            "colorbar": {
             "outlinewidth": 0,
             "ticks": ""
            },
            "colorscale": [
             [
              0,
              "#0d0887"
             ],
             [
              0.1111111111111111,
              "#46039f"
             ],
             [
              0.2222222222222222,
              "#7201a8"
             ],
             [
              0.3333333333333333,
              "#9c179e"
             ],
             [
              0.4444444444444444,
              "#bd3786"
             ],
             [
              0.5555555555555556,
              "#d8576b"
             ],
             [
              0.6666666666666666,
              "#ed7953"
             ],
             [
              0.7777777777777778,
              "#fb9f3a"
             ],
             [
              0.8888888888888888,
              "#fdca26"
             ],
             [
              1,
              "#f0f921"
             ]
            ],
            "type": "surface"
           }
          ],
          "table": [
           {
            "cells": {
             "fill": {
              "color": "#EBF0F8"
             },
             "line": {
              "color": "white"
             }
            },
            "header": {
             "fill": {
              "color": "#C8D4E3"
             },
             "line": {
              "color": "white"
             }
            },
            "type": "table"
           }
          ]
         },
         "layout": {
          "annotationdefaults": {
           "arrowcolor": "#2a3f5f",
           "arrowhead": 0,
           "arrowwidth": 1
          },
          "autotypenumbers": "strict",
          "coloraxis": {
           "colorbar": {
            "outlinewidth": 0,
            "ticks": ""
           }
          },
          "colorscale": {
           "diverging": [
            [
             0,
             "#8e0152"
            ],
            [
             0.1,
             "#c51b7d"
            ],
            [
             0.2,
             "#de77ae"
            ],
            [
             0.3,
             "#f1b6da"
            ],
            [
             0.4,
             "#fde0ef"
            ],
            [
             0.5,
             "#f7f7f7"
            ],
            [
             0.6,
             "#e6f5d0"
            ],
            [
             0.7,
             "#b8e186"
            ],
            [
             0.8,
             "#7fbc41"
            ],
            [
             0.9,
             "#4d9221"
            ],
            [
             1,
             "#276419"
            ]
           ],
           "sequential": [
            [
             0,
             "#0d0887"
            ],
            [
             0.1111111111111111,
             "#46039f"
            ],
            [
             0.2222222222222222,
             "#7201a8"
            ],
            [
             0.3333333333333333,
             "#9c179e"
            ],
            [
             0.4444444444444444,
             "#bd3786"
            ],
            [
             0.5555555555555556,
             "#d8576b"
            ],
            [
             0.6666666666666666,
             "#ed7953"
            ],
            [
             0.7777777777777778,
             "#fb9f3a"
            ],
            [
             0.8888888888888888,
             "#fdca26"
            ],
            [
             1,
             "#f0f921"
            ]
           ],
           "sequentialminus": [
            [
             0,
             "#0d0887"
            ],
            [
             0.1111111111111111,
             "#46039f"
            ],
            [
             0.2222222222222222,
             "#7201a8"
            ],
            [
             0.3333333333333333,
             "#9c179e"
            ],
            [
             0.4444444444444444,
             "#bd3786"
            ],
            [
             0.5555555555555556,
             "#d8576b"
            ],
            [
             0.6666666666666666,
             "#ed7953"
            ],
            [
             0.7777777777777778,
             "#fb9f3a"
            ],
            [
             0.8888888888888888,
             "#fdca26"
            ],
            [
             1,
             "#f0f921"
            ]
           ]
          },
          "colorway": [
           "#636efa",
           "#EF553B",
           "#00cc96",
           "#ab63fa",
           "#FFA15A",
           "#19d3f3",
           "#FF6692",
           "#B6E880",
           "#FF97FF",
           "#FECB52"
          ],
          "font": {
           "color": "#2a3f5f"
          },
          "geo": {
           "bgcolor": "white",
           "lakecolor": "white",
           "landcolor": "white",
           "showlakes": true,
           "showland": true,
           "subunitcolor": "#C8D4E3"
          },
          "hoverlabel": {
           "align": "left"
          },
          "hovermode": "closest",
          "mapbox": {
           "style": "light"
          },
          "paper_bgcolor": "white",
          "plot_bgcolor": "white",
          "polar": {
           "angularaxis": {
            "gridcolor": "#EBF0F8",
            "linecolor": "#EBF0F8",
            "ticks": ""
           },
           "bgcolor": "white",
           "radialaxis": {
            "gridcolor": "#EBF0F8",
            "linecolor": "#EBF0F8",
            "ticks": ""
           }
          },
          "scene": {
           "xaxis": {
            "backgroundcolor": "white",
            "gridcolor": "#DFE8F3",
            "gridwidth": 2,
            "linecolor": "#EBF0F8",
            "showbackground": true,
            "ticks": "",
            "zerolinecolor": "#EBF0F8"
           },
           "yaxis": {
            "backgroundcolor": "white",
            "gridcolor": "#DFE8F3",
            "gridwidth": 2,
            "linecolor": "#EBF0F8",
            "showbackground": true,
            "ticks": "",
            "zerolinecolor": "#EBF0F8"
           },
           "zaxis": {
            "backgroundcolor": "white",
            "gridcolor": "#DFE8F3",
            "gridwidth": 2,
            "linecolor": "#EBF0F8",
            "showbackground": true,
            "ticks": "",
            "zerolinecolor": "#EBF0F8"
           }
          },
          "shapedefaults": {
           "line": {
            "color": "#2a3f5f"
           }
          },
          "ternary": {
           "aaxis": {
            "gridcolor": "#DFE8F3",
            "linecolor": "#A2B1C6",
            "ticks": ""
           },
           "baxis": {
            "gridcolor": "#DFE8F3",
            "linecolor": "#A2B1C6",
            "ticks": ""
           },
           "bgcolor": "white",
           "caxis": {
            "gridcolor": "#DFE8F3",
            "linecolor": "#A2B1C6",
            "ticks": ""
           }
          },
          "title": {
           "x": 0.05
          },
          "xaxis": {
           "automargin": true,
           "gridcolor": "#EBF0F8",
           "linecolor": "#EBF0F8",
           "ticks": "",
           "title": {
            "standoff": 15
           },
           "zerolinecolor": "#EBF0F8",
           "zerolinewidth": 2
          },
          "yaxis": {
           "automargin": true,
           "gridcolor": "#EBF0F8",
           "linecolor": "#EBF0F8",
           "ticks": "",
           "title": {
            "standoff": 15
           },
           "zerolinecolor": "#EBF0F8",
           "zerolinewidth": 2
          }
         }
        },
        "xaxis": {
         "anchor": "y",
         "domain": [
          0,
          0.98
         ],
         "title": {
          "text": "DuckDB Version"
         }
        },
        "xaxis2": {
         "anchor": "y2",
         "domain": [
          0,
          0.98
         ],
         "matches": "x",
         "showticklabels": false
        },
        "yaxis": {
         "anchor": "x",
         "domain": [
          0,
          0.485
         ],
         "range": [
          0,
          1000000000
         ],
         "title": {
          "text": "max_row_count"
         }
        },
        "yaxis2": {
         "anchor": "x2",
         "domain": [
          0.515,
          1
         ],
         "matches": "y",
         "range": [
          0,
          1000000000
         ],
         "title": {
          "text": "max_row_count"
         }
        }
       }
      }
     },
     "metadata": {},
     "output_type": "display_data"
    }
   ],
   "source": [
    "fig = px.bar(summary, \n",
    "             x='DuckDB Version', \n",
    "             y='max_row_count',\n",
    "             color='query_type',\n",
    "            #  barmode='group',\n",
    "             template='plotly_white',\n",
    "             color_discrete_sequence=px.colors.qualitative.T10,\n",
    "             range_y=[0,1000000000],\n",
    "             facet_row='query_type',\n",
    "            #  facet_row_spacing=0.3,\n",
    "             )\n",
    "\n",
    "fig.show()\n"
   ]
  },
  {
   "cell_type": "code",
   "execution_count": 20,
   "metadata": {},
   "outputs": [],
   "source": [
    "# Also plot by date\n",
    "from datetime import datetime\n",
    "versions = {\n",
    "    # 0.2.7 is the first with MacOS ARM\n",
    "    '0.2.7': {'date':datetime.strptime('2021-06-14','%Y-%m-%d')},\n",
    "    '0.2.8': {'date':datetime.strptime('2021-08-02','%Y-%m-%d')},\n",
    "    '0.2.9': {'date':datetime.strptime('2021-09-06','%Y-%m-%d')},\n",
    "    '0.3.0': {'date':datetime.strptime('2021-10-06','%Y-%m-%d')},\n",
    "    '0.3.1': {'date':datetime.strptime('2021-11-16','%Y-%m-%d')},\n",
    "    '0.3.2': {'date':datetime.strptime('2022-02-07','%Y-%m-%d')},\n",
    "    # 0.3.3 did not upload to pip correctly so it should be skipped\n",
    "    # '0.3.3': {'date':datetime.strptime('2022-04-11','%Y-%m-%d')},\n",
    "    '0.3.4': {'date':datetime.strptime('2022-04-25','%Y-%m-%d')},\n",
    "    '0.4.0': {'date':datetime.strptime('2022-06-20','%Y-%m-%d')},\n",
    "    '0.5.1': {'date':datetime.strptime('2022-09-19','%Y-%m-%d')},\n",
    "    '0.6.1': {'date':datetime.strptime('2022-12-06','%Y-%m-%d')},\n",
    "    '0.7.1': {'date':datetime.strptime('2023-02-27','%Y-%m-%d')},\n",
    "    '0.8.1': {'date':datetime.strptime('2023-06-13','%Y-%m-%d')},\n",
    "    '0.9.0': {'date':datetime.strptime('2023-09-26','%Y-%m-%d')},\n",
    "    '0.9.1': {'date':datetime.strptime('2023-10-11','%Y-%m-%d')},\n",
    "    '0.9.2': {'date':datetime.strptime('2023-11-14','%Y-%m-%d')},\n",
    "    '0.10.0': {'date':datetime.strptime('2024-02-13','%Y-%m-%d')},\n",
    "    '0.10.1': {'date':datetime.strptime('2024-03-18','%Y-%m-%d')},\n",
    "    '0.10.2': {'date':datetime.strptime('2024-04-17','%Y-%m-%d')},\n",
    "}\n",
    "versions_df = pd.DataFrame([versions])\n",
    "# versions_df\n",
    "plus_dates = con.sql(\"\"\"\n",
    "    with unpivoted as (\n",
    "        unpivot versions_df\n",
    "        on columns(*)\n",
    "        into name version\n",
    "             value date_struct\n",
    "    ), version_to_date_map as (\n",
    "        from unpivoted \n",
    "        select \n",
    "            version,\n",
    "            date_struct.date as \"Release Date\"\n",
    "    )\n",
    "    from summary data\n",
    "    left join version_to_date_map on data.\"DuckDB Version\" = version_to_date_map.version\n",
    "    select \n",
    "        data.*,\n",
    "        version_to_date_map.* exclude version\n",
    "        \n",
    "\"\"\").df()\n",
    "# plus_dates"
   ]
  },
  {
   "cell_type": "code",
   "execution_count": 21,
   "metadata": {},
   "outputs": [
    {
     "data": {
      "application/vnd.plotly.v1+json": {
       "config": {
        "plotlyServerURL": "https://plot.ly"
       },
       "data": [
        {
         "alignmentgroup": "True",
         "hovertemplate": "query_type=group_by_success<br>Release Date=%{x}<br>max_row_count=%{y}<extra></extra>",
         "legendgroup": "group_by_success",
         "marker": {
          "color": "#4C78A8",
          "pattern": {
           "shape": ""
          }
         },
         "name": "group_by_success",
         "offsetgroup": "group_by_success",
         "orientation": "v",
         "showlegend": true,
         "textposition": "auto",
         "type": "bar",
         "x": [
          "2021-06-14T00:00:00",
          "2021-08-02T00:00:00",
          "2021-09-06T00:00:00",
          "2021-10-06T00:00:00",
          "2021-11-16T00:00:00",
          "2022-02-07T00:00:00",
          "2022-04-25T00:00:00",
          "2022-06-20T00:00:00",
          "2022-09-19T00:00:00",
          "2022-12-06T00:00:00",
          "2023-02-27T00:00:00",
          "2023-06-13T00:00:00",
          "2023-09-26T00:00:00",
          "2023-10-11T00:00:00",
          "2023-11-14T00:00:00",
          "2024-02-13T00:00:00",
          "2024-03-18T00:00:00",
          "2024-04-17T00:00:00"
         ],
         "xaxis": "x2",
         "y": [
          100000000,
          100000000,
          100000000,
          100000000,
          100000000,
          100000000,
          100000000,
          100000000,
          10000000,
          100000000,
          100000000,
          100000000,
          1000000000,
          1000000000,
          1000000000,
          1000000000,
          1000000000,
          1000000000
         ],
         "yaxis": "y2"
        },
        {
         "alignmentgroup": "True",
         "hovertemplate": "query_type=join_success<br>Release Date=%{x}<br>max_row_count=%{y}<extra></extra>",
         "legendgroup": "join_success",
         "marker": {
          "color": "#F58518",
          "pattern": {
           "shape": ""
          }
         },
         "name": "join_success",
         "offsetgroup": "join_success",
         "orientation": "v",
         "showlegend": true,
         "textposition": "auto",
         "type": "bar",
         "x": [
          "2021-06-14T00:00:00",
          "2021-08-02T00:00:00",
          "2021-09-06T00:00:00",
          "2021-10-06T00:00:00",
          "2021-11-16T00:00:00",
          "2022-02-07T00:00:00",
          "2022-04-25T00:00:00",
          "2022-06-20T00:00:00",
          "2022-09-19T00:00:00",
          "2022-12-06T00:00:00",
          "2023-02-27T00:00:00",
          "2023-06-13T00:00:00",
          "2023-09-26T00:00:00",
          "2023-10-11T00:00:00",
          "2023-11-14T00:00:00",
          "2024-02-13T00:00:00",
          "2024-03-18T00:00:00",
          "2024-04-17T00:00:00"
         ],
         "xaxis": "x",
         "y": [
          100000000,
          100000000,
          100000000,
          100000000,
          100000000,
          100000000,
          100000000,
          100000000,
          100000000,
          100000000,
          100000000,
          100000000,
          100000000,
          100000000,
          100000000,
          1000000000,
          1000000000,
          1000000000
         ],
         "yaxis": "y"
        }
       ],
       "layout": {
        "annotations": [
         {
          "font": {},
          "showarrow": false,
          "text": "query_type=join_success",
          "textangle": 90,
          "x": 0.98,
          "xanchor": "left",
          "xref": "paper",
          "y": 0.2425,
          "yanchor": "middle",
          "yref": "paper"
         },
         {
          "font": {},
          "showarrow": false,
          "text": "query_type=group_by_success",
          "textangle": 90,
          "x": 0.98,
          "xanchor": "left",
          "xref": "paper",
          "y": 0.7575000000000001,
          "yanchor": "middle",
          "yref": "paper"
         }
        ],
        "barmode": "relative",
        "legend": {
         "title": {
          "text": "query_type"
         },
         "tracegroupgap": 0
        },
        "margin": {
         "t": 60
        },
        "template": {
         "data": {
          "bar": [
           {
            "error_x": {
             "color": "#2a3f5f"
            },
            "error_y": {
             "color": "#2a3f5f"
            },
            "marker": {
             "line": {
              "color": "white",
              "width": 0.5
             },
             "pattern": {
              "fillmode": "overlay",
              "size": 10,
              "solidity": 0.2
             }
            },
            "type": "bar"
           }
          ],
          "barpolar": [
           {
            "marker": {
             "line": {
              "color": "white",
              "width": 0.5
             },
             "pattern": {
              "fillmode": "overlay",
              "size": 10,
              "solidity": 0.2
             }
            },
            "type": "barpolar"
           }
          ],
          "carpet": [
           {
            "aaxis": {
             "endlinecolor": "#2a3f5f",
             "gridcolor": "#C8D4E3",
             "linecolor": "#C8D4E3",
             "minorgridcolor": "#C8D4E3",
             "startlinecolor": "#2a3f5f"
            },
            "baxis": {
             "endlinecolor": "#2a3f5f",
             "gridcolor": "#C8D4E3",
             "linecolor": "#C8D4E3",
             "minorgridcolor": "#C8D4E3",
             "startlinecolor": "#2a3f5f"
            },
            "type": "carpet"
           }
          ],
          "choropleth": [
           {
            "colorbar": {
             "outlinewidth": 0,
             "ticks": ""
            },
            "type": "choropleth"
           }
          ],
          "contour": [
           {
            "colorbar": {
             "outlinewidth": 0,
             "ticks": ""
            },
            "colorscale": [
             [
              0,
              "#0d0887"
             ],
             [
              0.1111111111111111,
              "#46039f"
             ],
             [
              0.2222222222222222,
              "#7201a8"
             ],
             [
              0.3333333333333333,
              "#9c179e"
             ],
             [
              0.4444444444444444,
              "#bd3786"
             ],
             [
              0.5555555555555556,
              "#d8576b"
             ],
             [
              0.6666666666666666,
              "#ed7953"
             ],
             [
              0.7777777777777778,
              "#fb9f3a"
             ],
             [
              0.8888888888888888,
              "#fdca26"
             ],
             [
              1,
              "#f0f921"
             ]
            ],
            "type": "contour"
           }
          ],
          "contourcarpet": [
           {
            "colorbar": {
             "outlinewidth": 0,
             "ticks": ""
            },
            "type": "contourcarpet"
           }
          ],
          "heatmap": [
           {
            "colorbar": {
             "outlinewidth": 0,
             "ticks": ""
            },
            "colorscale": [
             [
              0,
              "#0d0887"
             ],
             [
              0.1111111111111111,
              "#46039f"
             ],
             [
              0.2222222222222222,
              "#7201a8"
             ],
             [
              0.3333333333333333,
              "#9c179e"
             ],
             [
              0.4444444444444444,
              "#bd3786"
             ],
             [
              0.5555555555555556,
              "#d8576b"
             ],
             [
              0.6666666666666666,
              "#ed7953"
             ],
             [
              0.7777777777777778,
              "#fb9f3a"
             ],
             [
              0.8888888888888888,
              "#fdca26"
             ],
             [
              1,
              "#f0f921"
             ]
            ],
            "type": "heatmap"
           }
          ],
          "heatmapgl": [
           {
            "colorbar": {
             "outlinewidth": 0,
             "ticks": ""
            },
            "colorscale": [
             [
              0,
              "#0d0887"
             ],
             [
              0.1111111111111111,
              "#46039f"
             ],
             [
              0.2222222222222222,
              "#7201a8"
             ],
             [
              0.3333333333333333,
              "#9c179e"
             ],
             [
              0.4444444444444444,
              "#bd3786"
             ],
             [
              0.5555555555555556,
              "#d8576b"
             ],
             [
              0.6666666666666666,
              "#ed7953"
             ],
             [
              0.7777777777777778,
              "#fb9f3a"
             ],
             [
              0.8888888888888888,
              "#fdca26"
             ],
             [
              1,
              "#f0f921"
             ]
            ],
            "type": "heatmapgl"
           }
          ],
          "histogram": [
           {
            "marker": {
             "pattern": {
              "fillmode": "overlay",
              "size": 10,
              "solidity": 0.2
             }
            },
            "type": "histogram"
           }
          ],
          "histogram2d": [
           {
            "colorbar": {
             "outlinewidth": 0,
             "ticks": ""
            },
            "colorscale": [
             [
              0,
              "#0d0887"
             ],
             [
              0.1111111111111111,
              "#46039f"
             ],
             [
              0.2222222222222222,
              "#7201a8"
             ],
             [
              0.3333333333333333,
              "#9c179e"
             ],
             [
              0.4444444444444444,
              "#bd3786"
             ],
             [
              0.5555555555555556,
              "#d8576b"
             ],
             [
              0.6666666666666666,
              "#ed7953"
             ],
             [
              0.7777777777777778,
              "#fb9f3a"
             ],
             [
              0.8888888888888888,
              "#fdca26"
             ],
             [
              1,
              "#f0f921"
             ]
            ],
            "type": "histogram2d"
           }
          ],
          "histogram2dcontour": [
           {
            "colorbar": {
             "outlinewidth": 0,
             "ticks": ""
            },
            "colorscale": [
             [
              0,
              "#0d0887"
             ],
             [
              0.1111111111111111,
              "#46039f"
             ],
             [
              0.2222222222222222,
              "#7201a8"
             ],
             [
              0.3333333333333333,
              "#9c179e"
             ],
             [
              0.4444444444444444,
              "#bd3786"
             ],
             [
              0.5555555555555556,
              "#d8576b"
             ],
             [
              0.6666666666666666,
              "#ed7953"
             ],
             [
              0.7777777777777778,
              "#fb9f3a"
             ],
             [
              0.8888888888888888,
              "#fdca26"
             ],
             [
              1,
              "#f0f921"
             ]
            ],
            "type": "histogram2dcontour"
           }
          ],
          "mesh3d": [
           {
            "colorbar": {
             "outlinewidth": 0,
             "ticks": ""
            },
            "type": "mesh3d"
           }
          ],
          "parcoords": [
           {
            "line": {
             "colorbar": {
              "outlinewidth": 0,
              "ticks": ""
             }
            },
            "type": "parcoords"
           }
          ],
          "pie": [
           {
            "automargin": true,
            "type": "pie"
           }
          ],
          "scatter": [
           {
            "fillpattern": {
             "fillmode": "overlay",
             "size": 10,
             "solidity": 0.2
            },
            "type": "scatter"
           }
          ],
          "scatter3d": [
           {
            "line": {
             "colorbar": {
              "outlinewidth": 0,
              "ticks": ""
             }
            },
            "marker": {
             "colorbar": {
              "outlinewidth": 0,
              "ticks": ""
             }
            },
            "type": "scatter3d"
           }
          ],
          "scattercarpet": [
           {
            "marker": {
             "colorbar": {
              "outlinewidth": 0,
              "ticks": ""
             }
            },
            "type": "scattercarpet"
           }
          ],
          "scattergeo": [
           {
            "marker": {
             "colorbar": {
              "outlinewidth": 0,
              "ticks": ""
             }
            },
            "type": "scattergeo"
           }
          ],
          "scattergl": [
           {
            "marker": {
             "colorbar": {
              "outlinewidth": 0,
              "ticks": ""
             }
            },
            "type": "scattergl"
           }
          ],
          "scattermapbox": [
           {
            "marker": {
             "colorbar": {
              "outlinewidth": 0,
              "ticks": ""
             }
            },
            "type": "scattermapbox"
           }
          ],
          "scatterpolar": [
           {
            "marker": {
             "colorbar": {
              "outlinewidth": 0,
              "ticks": ""
             }
            },
            "type": "scatterpolar"
           }
          ],
          "scatterpolargl": [
           {
            "marker": {
             "colorbar": {
              "outlinewidth": 0,
              "ticks": ""
             }
            },
            "type": "scatterpolargl"
           }
          ],
          "scatterternary": [
           {
            "marker": {
             "colorbar": {
              "outlinewidth": 0,
              "ticks": ""
             }
            },
            "type": "scatterternary"
           }
          ],
          "surface": [
           {
            "colorbar": {
             "outlinewidth": 0,
             "ticks": ""
            },
            "colorscale": [
             [
              0,
              "#0d0887"
             ],
             [
              0.1111111111111111,
              "#46039f"
             ],
             [
              0.2222222222222222,
              "#7201a8"
             ],
             [
              0.3333333333333333,
              "#9c179e"
             ],
             [
              0.4444444444444444,
              "#bd3786"
             ],
             [
              0.5555555555555556,
              "#d8576b"
             ],
             [
              0.6666666666666666,
              "#ed7953"
             ],
             [
              0.7777777777777778,
              "#fb9f3a"
             ],
             [
              0.8888888888888888,
              "#fdca26"
             ],
             [
              1,
              "#f0f921"
             ]
            ],
            "type": "surface"
           }
          ],
          "table": [
           {
            "cells": {
             "fill": {
              "color": "#EBF0F8"
             },
             "line": {
              "color": "white"
             }
            },
            "header": {
             "fill": {
              "color": "#C8D4E3"
             },
             "line": {
              "color": "white"
             }
            },
            "type": "table"
           }
          ]
         },
         "layout": {
          "annotationdefaults": {
           "arrowcolor": "#2a3f5f",
           "arrowhead": 0,
           "arrowwidth": 1
          },
          "autotypenumbers": "strict",
          "coloraxis": {
           "colorbar": {
            "outlinewidth": 0,
            "ticks": ""
           }
          },
          "colorscale": {
           "diverging": [
            [
             0,
             "#8e0152"
            ],
            [
             0.1,
             "#c51b7d"
            ],
            [
             0.2,
             "#de77ae"
            ],
            [
             0.3,
             "#f1b6da"
            ],
            [
             0.4,
             "#fde0ef"
            ],
            [
             0.5,
             "#f7f7f7"
            ],
            [
             0.6,
             "#e6f5d0"
            ],
            [
             0.7,
             "#b8e186"
            ],
            [
             0.8,
             "#7fbc41"
            ],
            [
             0.9,
             "#4d9221"
            ],
            [
             1,
             "#276419"
            ]
           ],
           "sequential": [
            [
             0,
             "#0d0887"
            ],
            [
             0.1111111111111111,
             "#46039f"
            ],
            [
             0.2222222222222222,
             "#7201a8"
            ],
            [
             0.3333333333333333,
             "#9c179e"
            ],
            [
             0.4444444444444444,
             "#bd3786"
            ],
            [
             0.5555555555555556,
             "#d8576b"
            ],
            [
             0.6666666666666666,
             "#ed7953"
            ],
            [
             0.7777777777777778,
             "#fb9f3a"
            ],
            [
             0.8888888888888888,
             "#fdca26"
            ],
            [
             1,
             "#f0f921"
            ]
           ],
           "sequentialminus": [
            [
             0,
             "#0d0887"
            ],
            [
             0.1111111111111111,
             "#46039f"
            ],
            [
             0.2222222222222222,
             "#7201a8"
            ],
            [
             0.3333333333333333,
             "#9c179e"
            ],
            [
             0.4444444444444444,
             "#bd3786"
            ],
            [
             0.5555555555555556,
             "#d8576b"
            ],
            [
             0.6666666666666666,
             "#ed7953"
            ],
            [
             0.7777777777777778,
             "#fb9f3a"
            ],
            [
             0.8888888888888888,
             "#fdca26"
            ],
            [
             1,
             "#f0f921"
            ]
           ]
          },
          "colorway": [
           "#636efa",
           "#EF553B",
           "#00cc96",
           "#ab63fa",
           "#FFA15A",
           "#19d3f3",
           "#FF6692",
           "#B6E880",
           "#FF97FF",
           "#FECB52"
          ],
          "font": {
           "color": "#2a3f5f"
          },
          "geo": {
           "bgcolor": "white",
           "lakecolor": "white",
           "landcolor": "white",
           "showlakes": true,
           "showland": true,
           "subunitcolor": "#C8D4E3"
          },
          "hoverlabel": {
           "align": "left"
          },
          "hovermode": "closest",
          "mapbox": {
           "style": "light"
          },
          "paper_bgcolor": "white",
          "plot_bgcolor": "white",
          "polar": {
           "angularaxis": {
            "gridcolor": "#EBF0F8",
            "linecolor": "#EBF0F8",
            "ticks": ""
           },
           "bgcolor": "white",
           "radialaxis": {
            "gridcolor": "#EBF0F8",
            "linecolor": "#EBF0F8",
            "ticks": ""
           }
          },
          "scene": {
           "xaxis": {
            "backgroundcolor": "white",
            "gridcolor": "#DFE8F3",
            "gridwidth": 2,
            "linecolor": "#EBF0F8",
            "showbackground": true,
            "ticks": "",
            "zerolinecolor": "#EBF0F8"
           },
           "yaxis": {
            "backgroundcolor": "white",
            "gridcolor": "#DFE8F3",
            "gridwidth": 2,
            "linecolor": "#EBF0F8",
            "showbackground": true,
            "ticks": "",
            "zerolinecolor": "#EBF0F8"
           },
           "zaxis": {
            "backgroundcolor": "white",
            "gridcolor": "#DFE8F3",
            "gridwidth": 2,
            "linecolor": "#EBF0F8",
            "showbackground": true,
            "ticks": "",
            "zerolinecolor": "#EBF0F8"
           }
          },
          "shapedefaults": {
           "line": {
            "color": "#2a3f5f"
           }
          },
          "ternary": {
           "aaxis": {
            "gridcolor": "#DFE8F3",
            "linecolor": "#A2B1C6",
            "ticks": ""
           },
           "baxis": {
            "gridcolor": "#DFE8F3",
            "linecolor": "#A2B1C6",
            "ticks": ""
           },
           "bgcolor": "white",
           "caxis": {
            "gridcolor": "#DFE8F3",
            "linecolor": "#A2B1C6",
            "ticks": ""
           }
          },
          "title": {
           "x": 0.05
          },
          "xaxis": {
           "automargin": true,
           "gridcolor": "#EBF0F8",
           "linecolor": "#EBF0F8",
           "ticks": "",
           "title": {
            "standoff": 15
           },
           "zerolinecolor": "#EBF0F8",
           "zerolinewidth": 2
          },
          "yaxis": {
           "automargin": true,
           "gridcolor": "#EBF0F8",
           "linecolor": "#EBF0F8",
           "ticks": "",
           "title": {
            "standoff": 15
           },
           "zerolinecolor": "#EBF0F8",
           "zerolinewidth": 2
          }
         }
        },
        "xaxis": {
         "anchor": "y",
         "domain": [
          0,
          0.98
         ],
         "title": {
          "text": "Release Date"
         }
        },
        "xaxis2": {
         "anchor": "y2",
         "domain": [
          0,
          0.98
         ],
         "matches": "x",
         "showticklabels": false
        },
        "yaxis": {
         "anchor": "x",
         "domain": [
          0,
          0.485
         ],
         "range": [
          0,
          1000000000
         ],
         "title": {
          "text": "max_row_count"
         }
        },
        "yaxis2": {
         "anchor": "x2",
         "domain": [
          0.515,
          1
         ],
         "matches": "y",
         "range": [
          0,
          1000000000
         ],
         "title": {
          "text": "max_row_count"
         }
        }
       }
      }
     },
     "metadata": {},
     "output_type": "display_data"
    }
   ],
   "source": [
    "fig = px.bar(plus_dates, \n",
    "             x='Release Date', \n",
    "             y='max_row_count',\n",
    "             color='query_type',\n",
    "            #  barmode='group',\n",
    "             template='plotly_white',\n",
    "             color_discrete_sequence=px.colors.qualitative.T10,\n",
    "             range_y=[0,1000000000],\n",
    "             facet_row='query_type'\n",
    "             )\n",
    "\n",
    "fig.show()\n"
   ]
  },
  {
   "cell_type": "code",
   "execution_count": 22,
   "metadata": {},
   "outputs": [
    {
     "data": {
      "application/vnd.plotly.v1+json": {
       "config": {
        "plotlyServerURL": "https://plot.ly"
       },
       "data": [
        {
         "customdata": [
          [
           "0.2.7"
          ],
          [
           "0.2.8"
          ],
          [
           "0.2.9"
          ],
          [
           "0.3.0"
          ],
          [
           "0.3.1"
          ],
          [
           "0.3.2"
          ],
          [
           "0.3.4"
          ],
          [
           "0.4.0"
          ],
          [
           "0.5.1"
          ],
          [
           "0.6.1"
          ],
          [
           "0.7.1"
          ],
          [
           "0.8.1"
          ],
          [
           "0.9.0"
          ],
          [
           "0.9.1"
          ],
          [
           "0.9.2"
          ],
          [
           "0.10.0"
          ],
          [
           "0.10.1"
          ],
          [
           "0.10.2"
          ]
         ],
         "hovertemplate": "query_type=group_by_success<br>Release Date=%{x}<br>max_row_count=%{y}<br>DuckDB Version=%{customdata[0]}<extra></extra>",
         "legendgroup": "group_by_success",
         "line": {
          "color": "#4C78A8",
          "dash": "solid",
          "shape": "hv"
         },
         "marker": {
          "symbol": "circle"
         },
         "mode": "lines",
         "name": "group_by_success",
         "orientation": "v",
         "showlegend": true,
         "type": "scatter",
         "x": [
          "2021-06-14T00:00:00",
          "2021-08-02T00:00:00",
          "2021-09-06T00:00:00",
          "2021-10-06T00:00:00",
          "2021-11-16T00:00:00",
          "2022-02-07T00:00:00",
          "2022-04-25T00:00:00",
          "2022-06-20T00:00:00",
          "2022-09-19T00:00:00",
          "2022-12-06T00:00:00",
          "2023-02-27T00:00:00",
          "2023-06-13T00:00:00",
          "2023-09-26T00:00:00",
          "2023-10-11T00:00:00",
          "2023-11-14T00:00:00",
          "2024-02-13T00:00:00",
          "2024-03-18T00:00:00",
          "2024-04-17T00:00:00"
         ],
         "xaxis": "x2",
         "y": [
          100000000,
          100000000,
          100000000,
          100000000,
          100000000,
          100000000,
          100000000,
          100000000,
          10000000,
          100000000,
          100000000,
          100000000,
          1000000000,
          1000000000,
          1000000000,
          1000000000,
          1000000000,
          1000000000
         ],
         "yaxis": "y2"
        },
        {
         "customdata": [
          [
           "0.2.7"
          ],
          [
           "0.2.8"
          ],
          [
           "0.2.9"
          ],
          [
           "0.3.0"
          ],
          [
           "0.3.1"
          ],
          [
           "0.3.2"
          ],
          [
           "0.3.4"
          ],
          [
           "0.4.0"
          ],
          [
           "0.5.1"
          ],
          [
           "0.6.1"
          ],
          [
           "0.7.1"
          ],
          [
           "0.8.1"
          ],
          [
           "0.9.0"
          ],
          [
           "0.9.1"
          ],
          [
           "0.9.2"
          ],
          [
           "0.10.0"
          ],
          [
           "0.10.1"
          ],
          [
           "0.10.2"
          ]
         ],
         "hovertemplate": "query_type=join_success<br>Release Date=%{x}<br>max_row_count=%{y}<br>DuckDB Version=%{customdata[0]}<extra></extra>",
         "legendgroup": "join_success",
         "line": {
          "color": "#F58518",
          "dash": "solid",
          "shape": "hv"
         },
         "marker": {
          "symbol": "circle"
         },
         "mode": "lines",
         "name": "join_success",
         "orientation": "v",
         "showlegend": true,
         "type": "scatter",
         "x": [
          "2021-06-14T00:00:00",
          "2021-08-02T00:00:00",
          "2021-09-06T00:00:00",
          "2021-10-06T00:00:00",
          "2021-11-16T00:00:00",
          "2022-02-07T00:00:00",
          "2022-04-25T00:00:00",
          "2022-06-20T00:00:00",
          "2022-09-19T00:00:00",
          "2022-12-06T00:00:00",
          "2023-02-27T00:00:00",
          "2023-06-13T00:00:00",
          "2023-09-26T00:00:00",
          "2023-10-11T00:00:00",
          "2023-11-14T00:00:00",
          "2024-02-13T00:00:00",
          "2024-03-18T00:00:00",
          "2024-04-17T00:00:00"
         ],
         "xaxis": "x",
         "y": [
          100000000,
          100000000,
          100000000,
          100000000,
          100000000,
          100000000,
          100000000,
          100000000,
          100000000,
          100000000,
          100000000,
          100000000,
          100000000,
          100000000,
          100000000,
          1000000000,
          1000000000,
          1000000000
         ],
         "yaxis": "y"
        }
       ],
       "layout": {
        "annotations": [
         {
          "font": {},
          "showarrow": false,
          "text": "query_type=join_success",
          "textangle": 90,
          "x": 0.98,
          "xanchor": "left",
          "xref": "paper",
          "y": 0.2425,
          "yanchor": "middle",
          "yref": "paper"
         },
         {
          "font": {},
          "showarrow": false,
          "text": "query_type=group_by_success",
          "textangle": 90,
          "x": 0.98,
          "xanchor": "left",
          "xref": "paper",
          "y": 0.7575000000000001,
          "yanchor": "middle",
          "yref": "paper"
         }
        ],
        "legend": {
         "title": {
          "text": "query_type"
         },
         "tracegroupgap": 0
        },
        "margin": {
         "t": 60
        },
        "template": {
         "data": {
          "bar": [
           {
            "error_x": {
             "color": "#2a3f5f"
            },
            "error_y": {
             "color": "#2a3f5f"
            },
            "marker": {
             "line": {
              "color": "white",
              "width": 0.5
             },
             "pattern": {
              "fillmode": "overlay",
              "size": 10,
              "solidity": 0.2
             }
            },
            "type": "bar"
           }
          ],
          "barpolar": [
           {
            "marker": {
             "line": {
              "color": "white",
              "width": 0.5
             },
             "pattern": {
              "fillmode": "overlay",
              "size": 10,
              "solidity": 0.2
             }
            },
            "type": "barpolar"
           }
          ],
          "carpet": [
           {
            "aaxis": {
             "endlinecolor": "#2a3f5f",
             "gridcolor": "#C8D4E3",
             "linecolor": "#C8D4E3",
             "minorgridcolor": "#C8D4E3",
             "startlinecolor": "#2a3f5f"
            },
            "baxis": {
             "endlinecolor": "#2a3f5f",
             "gridcolor": "#C8D4E3",
             "linecolor": "#C8D4E3",
             "minorgridcolor": "#C8D4E3",
             "startlinecolor": "#2a3f5f"
            },
            "type": "carpet"
           }
          ],
          "choropleth": [
           {
            "colorbar": {
             "outlinewidth": 0,
             "ticks": ""
            },
            "type": "choropleth"
           }
          ],
          "contour": [
           {
            "colorbar": {
             "outlinewidth": 0,
             "ticks": ""
            },
            "colorscale": [
             [
              0,
              "#0d0887"
             ],
             [
              0.1111111111111111,
              "#46039f"
             ],
             [
              0.2222222222222222,
              "#7201a8"
             ],
             [
              0.3333333333333333,
              "#9c179e"
             ],
             [
              0.4444444444444444,
              "#bd3786"
             ],
             [
              0.5555555555555556,
              "#d8576b"
             ],
             [
              0.6666666666666666,
              "#ed7953"
             ],
             [
              0.7777777777777778,
              "#fb9f3a"
             ],
             [
              0.8888888888888888,
              "#fdca26"
             ],
             [
              1,
              "#f0f921"
             ]
            ],
            "type": "contour"
           }
          ],
          "contourcarpet": [
           {
            "colorbar": {
             "outlinewidth": 0,
             "ticks": ""
            },
            "type": "contourcarpet"
           }
          ],
          "heatmap": [
           {
            "colorbar": {
             "outlinewidth": 0,
             "ticks": ""
            },
            "colorscale": [
             [
              0,
              "#0d0887"
             ],
             [
              0.1111111111111111,
              "#46039f"
             ],
             [
              0.2222222222222222,
              "#7201a8"
             ],
             [
              0.3333333333333333,
              "#9c179e"
             ],
             [
              0.4444444444444444,
              "#bd3786"
             ],
             [
              0.5555555555555556,
              "#d8576b"
             ],
             [
              0.6666666666666666,
              "#ed7953"
             ],
             [
              0.7777777777777778,
              "#fb9f3a"
             ],
             [
              0.8888888888888888,
              "#fdca26"
             ],
             [
              1,
              "#f0f921"
             ]
            ],
            "type": "heatmap"
           }
          ],
          "heatmapgl": [
           {
            "colorbar": {
             "outlinewidth": 0,
             "ticks": ""
            },
            "colorscale": [
             [
              0,
              "#0d0887"
             ],
             [
              0.1111111111111111,
              "#46039f"
             ],
             [
              0.2222222222222222,
              "#7201a8"
             ],
             [
              0.3333333333333333,
              "#9c179e"
             ],
             [
              0.4444444444444444,
              "#bd3786"
             ],
             [
              0.5555555555555556,
              "#d8576b"
             ],
             [
              0.6666666666666666,
              "#ed7953"
             ],
             [
              0.7777777777777778,
              "#fb9f3a"
             ],
             [
              0.8888888888888888,
              "#fdca26"
             ],
             [
              1,
              "#f0f921"
             ]
            ],
            "type": "heatmapgl"
           }
          ],
          "histogram": [
           {
            "marker": {
             "pattern": {
              "fillmode": "overlay",
              "size": 10,
              "solidity": 0.2
             }
            },
            "type": "histogram"
           }
          ],
          "histogram2d": [
           {
            "colorbar": {
             "outlinewidth": 0,
             "ticks": ""
            },
            "colorscale": [
             [
              0,
              "#0d0887"
             ],
             [
              0.1111111111111111,
              "#46039f"
             ],
             [
              0.2222222222222222,
              "#7201a8"
             ],
             [
              0.3333333333333333,
              "#9c179e"
             ],
             [
              0.4444444444444444,
              "#bd3786"
             ],
             [
              0.5555555555555556,
              "#d8576b"
             ],
             [
              0.6666666666666666,
              "#ed7953"
             ],
             [
              0.7777777777777778,
              "#fb9f3a"
             ],
             [
              0.8888888888888888,
              "#fdca26"
             ],
             [
              1,
              "#f0f921"
             ]
            ],
            "type": "histogram2d"
           }
          ],
          "histogram2dcontour": [
           {
            "colorbar": {
             "outlinewidth": 0,
             "ticks": ""
            },
            "colorscale": [
             [
              0,
              "#0d0887"
             ],
             [
              0.1111111111111111,
              "#46039f"
             ],
             [
              0.2222222222222222,
              "#7201a8"
             ],
             [
              0.3333333333333333,
              "#9c179e"
             ],
             [
              0.4444444444444444,
              "#bd3786"
             ],
             [
              0.5555555555555556,
              "#d8576b"
             ],
             [
              0.6666666666666666,
              "#ed7953"
             ],
             [
              0.7777777777777778,
              "#fb9f3a"
             ],
             [
              0.8888888888888888,
              "#fdca26"
             ],
             [
              1,
              "#f0f921"
             ]
            ],
            "type": "histogram2dcontour"
           }
          ],
          "mesh3d": [
           {
            "colorbar": {
             "outlinewidth": 0,
             "ticks": ""
            },
            "type": "mesh3d"
           }
          ],
          "parcoords": [
           {
            "line": {
             "colorbar": {
              "outlinewidth": 0,
              "ticks": ""
             }
            },
            "type": "parcoords"
           }
          ],
          "pie": [
           {
            "automargin": true,
            "type": "pie"
           }
          ],
          "scatter": [
           {
            "fillpattern": {
             "fillmode": "overlay",
             "size": 10,
             "solidity": 0.2
            },
            "type": "scatter"
           }
          ],
          "scatter3d": [
           {
            "line": {
             "colorbar": {
              "outlinewidth": 0,
              "ticks": ""
             }
            },
            "marker": {
             "colorbar": {
              "outlinewidth": 0,
              "ticks": ""
             }
            },
            "type": "scatter3d"
           }
          ],
          "scattercarpet": [
           {
            "marker": {
             "colorbar": {
              "outlinewidth": 0,
              "ticks": ""
             }
            },
            "type": "scattercarpet"
           }
          ],
          "scattergeo": [
           {
            "marker": {
             "colorbar": {
              "outlinewidth": 0,
              "ticks": ""
             }
            },
            "type": "scattergeo"
           }
          ],
          "scattergl": [
           {
            "marker": {
             "colorbar": {
              "outlinewidth": 0,
              "ticks": ""
             }
            },
            "type": "scattergl"
           }
          ],
          "scattermapbox": [
           {
            "marker": {
             "colorbar": {
              "outlinewidth": 0,
              "ticks": ""
             }
            },
            "type": "scattermapbox"
           }
          ],
          "scatterpolar": [
           {
            "marker": {
             "colorbar": {
              "outlinewidth": 0,
              "ticks": ""
             }
            },
            "type": "scatterpolar"
           }
          ],
          "scatterpolargl": [
           {
            "marker": {
             "colorbar": {
              "outlinewidth": 0,
              "ticks": ""
             }
            },
            "type": "scatterpolargl"
           }
          ],
          "scatterternary": [
           {
            "marker": {
             "colorbar": {
              "outlinewidth": 0,
              "ticks": ""
             }
            },
            "type": "scatterternary"
           }
          ],
          "surface": [
           {
            "colorbar": {
             "outlinewidth": 0,
             "ticks": ""
            },
            "colorscale": [
             [
              0,
              "#0d0887"
             ],
             [
              0.1111111111111111,
              "#46039f"
             ],
             [
              0.2222222222222222,
              "#7201a8"
             ],
             [
              0.3333333333333333,
              "#9c179e"
             ],
             [
              0.4444444444444444,
              "#bd3786"
             ],
             [
              0.5555555555555556,
              "#d8576b"
             ],
             [
              0.6666666666666666,
              "#ed7953"
             ],
             [
              0.7777777777777778,
              "#fb9f3a"
             ],
             [
              0.8888888888888888,
              "#fdca26"
             ],
             [
              1,
              "#f0f921"
             ]
            ],
            "type": "surface"
           }
          ],
          "table": [
           {
            "cells": {
             "fill": {
              "color": "#EBF0F8"
             },
             "line": {
              "color": "white"
             }
            },
            "header": {
             "fill": {
              "color": "#C8D4E3"
             },
             "line": {
              "color": "white"
             }
            },
            "type": "table"
           }
          ]
         },
         "layout": {
          "annotationdefaults": {
           "arrowcolor": "#2a3f5f",
           "arrowhead": 0,
           "arrowwidth": 1
          },
          "autotypenumbers": "strict",
          "coloraxis": {
           "colorbar": {
            "outlinewidth": 0,
            "ticks": ""
           }
          },
          "colorscale": {
           "diverging": [
            [
             0,
             "#8e0152"
            ],
            [
             0.1,
             "#c51b7d"
            ],
            [
             0.2,
             "#de77ae"
            ],
            [
             0.3,
             "#f1b6da"
            ],
            [
             0.4,
             "#fde0ef"
            ],
            [
             0.5,
             "#f7f7f7"
            ],
            [
             0.6,
             "#e6f5d0"
            ],
            [
             0.7,
             "#b8e186"
            ],
            [
             0.8,
             "#7fbc41"
            ],
            [
             0.9,
             "#4d9221"
            ],
            [
             1,
             "#276419"
            ]
           ],
           "sequential": [
            [
             0,
             "#0d0887"
            ],
            [
             0.1111111111111111,
             "#46039f"
            ],
            [
             0.2222222222222222,
             "#7201a8"
            ],
            [
             0.3333333333333333,
             "#9c179e"
            ],
            [
             0.4444444444444444,
             "#bd3786"
            ],
            [
             0.5555555555555556,
             "#d8576b"
            ],
            [
             0.6666666666666666,
             "#ed7953"
            ],
            [
             0.7777777777777778,
             "#fb9f3a"
            ],
            [
             0.8888888888888888,
             "#fdca26"
            ],
            [
             1,
             "#f0f921"
            ]
           ],
           "sequentialminus": [
            [
             0,
             "#0d0887"
            ],
            [
             0.1111111111111111,
             "#46039f"
            ],
            [
             0.2222222222222222,
             "#7201a8"
            ],
            [
             0.3333333333333333,
             "#9c179e"
            ],
            [
             0.4444444444444444,
             "#bd3786"
            ],
            [
             0.5555555555555556,
             "#d8576b"
            ],
            [
             0.6666666666666666,
             "#ed7953"
            ],
            [
             0.7777777777777778,
             "#fb9f3a"
            ],
            [
             0.8888888888888888,
             "#fdca26"
            ],
            [
             1,
             "#f0f921"
            ]
           ]
          },
          "colorway": [
           "#636efa",
           "#EF553B",
           "#00cc96",
           "#ab63fa",
           "#FFA15A",
           "#19d3f3",
           "#FF6692",
           "#B6E880",
           "#FF97FF",
           "#FECB52"
          ],
          "font": {
           "color": "#2a3f5f"
          },
          "geo": {
           "bgcolor": "white",
           "lakecolor": "white",
           "landcolor": "white",
           "showlakes": true,
           "showland": true,
           "subunitcolor": "#C8D4E3"
          },
          "hoverlabel": {
           "align": "left"
          },
          "hovermode": "closest",
          "mapbox": {
           "style": "light"
          },
          "paper_bgcolor": "white",
          "plot_bgcolor": "white",
          "polar": {
           "angularaxis": {
            "gridcolor": "#EBF0F8",
            "linecolor": "#EBF0F8",
            "ticks": ""
           },
           "bgcolor": "white",
           "radialaxis": {
            "gridcolor": "#EBF0F8",
            "linecolor": "#EBF0F8",
            "ticks": ""
           }
          },
          "scene": {
           "xaxis": {
            "backgroundcolor": "white",
            "gridcolor": "#DFE8F3",
            "gridwidth": 2,
            "linecolor": "#EBF0F8",
            "showbackground": true,
            "ticks": "",
            "zerolinecolor": "#EBF0F8"
           },
           "yaxis": {
            "backgroundcolor": "white",
            "gridcolor": "#DFE8F3",
            "gridwidth": 2,
            "linecolor": "#EBF0F8",
            "showbackground": true,
            "ticks": "",
            "zerolinecolor": "#EBF0F8"
           },
           "zaxis": {
            "backgroundcolor": "white",
            "gridcolor": "#DFE8F3",
            "gridwidth": 2,
            "linecolor": "#EBF0F8",
            "showbackground": true,
            "ticks": "",
            "zerolinecolor": "#EBF0F8"
           }
          },
          "shapedefaults": {
           "line": {
            "color": "#2a3f5f"
           }
          },
          "ternary": {
           "aaxis": {
            "gridcolor": "#DFE8F3",
            "linecolor": "#A2B1C6",
            "ticks": ""
           },
           "baxis": {
            "gridcolor": "#DFE8F3",
            "linecolor": "#A2B1C6",
            "ticks": ""
           },
           "bgcolor": "white",
           "caxis": {
            "gridcolor": "#DFE8F3",
            "linecolor": "#A2B1C6",
            "ticks": ""
           }
          },
          "title": {
           "x": 0.05
          },
          "xaxis": {
           "automargin": true,
           "gridcolor": "#EBF0F8",
           "linecolor": "#EBF0F8",
           "ticks": "",
           "title": {
            "standoff": 15
           },
           "zerolinecolor": "#EBF0F8",
           "zerolinewidth": 2
          },
          "yaxis": {
           "automargin": true,
           "gridcolor": "#EBF0F8",
           "linecolor": "#EBF0F8",
           "ticks": "",
           "title": {
            "standoff": 15
           },
           "zerolinecolor": "#EBF0F8",
           "zerolinewidth": 2
          }
         }
        },
        "xaxis": {
         "anchor": "y",
         "domain": [
          0,
          0.98
         ],
         "title": {
          "text": "Release Date"
         }
        },
        "xaxis2": {
         "anchor": "y2",
         "domain": [
          0,
          0.98
         ],
         "matches": "x",
         "showticklabels": false
        },
        "yaxis": {
         "anchor": "x",
         "domain": [
          0,
          0.485
         ],
         "range": [
          0,
          1000000000
         ],
         "title": {
          "text": "max_row_count"
         }
        },
        "yaxis2": {
         "anchor": "x2",
         "domain": [
          0.515,
          1
         ],
         "matches": "y",
         "range": [
          0,
          1000000000
         ],
         "title": {
          "text": "max_row_count"
         }
        }
       }
      }
     },
     "metadata": {},
     "output_type": "display_data"
    }
   ],
   "source": [
    "fig = px.line(plus_dates, \n",
    "             x='Release Date', \n",
    "             y='max_row_count',\n",
    "             color='query_type',\n",
    "             hover_data='DuckDB Version',\n",
    "            #  barmode='group',\n",
    "             template='plotly_white',\n",
    "             color_discrete_sequence=px.colors.qualitative.T10,\n",
    "             range_y=[0,1000000000],\n",
    "             facet_row='query_type',\n",
    "             line_shape='hv'\n",
    "             )\n",
    "\n",
    "fig.show()\n"
   ]
  },
  {
   "cell_type": "code",
   "execution_count": null,
   "metadata": {},
   "outputs": [],
   "source": []
  }
 ],
 "metadata": {
  "kernelspec": {
   "display_name": "benchmark_env",
   "language": "python",
   "name": "python3"
  },
  "language_info": {
   "codemirror_mode": {
    "name": "ipython",
    "version": 3
   },
   "file_extension": ".py",
   "mimetype": "text/x-python",
   "name": "python",
   "nbconvert_exporter": "python",
   "pygments_lexer": "ipython3",
   "version": "3.11.5"
  }
 },
 "nbformat": 4,
 "nbformat_minor": 2
}
